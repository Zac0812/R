{
 "cells": [
  {
   "cell_type": "markdown",
   "metadata": {},
   "source": [
    "# Machine Learning Toolbox\n",
    "\n",
    "### Course Description\n",
    "Time series are all around us, from server logs to high frequency financial data. Managing and manipulating ordered observations is central to all time series analysis. The xts and zoo packages provide a set of powerful tools to make this task fast and mistake free. In this course, you will learn everything from the basics of xts to advanced tips and tricks for working with time series data in R.\n",
    "\n",
    "\n",
    "### Note how can Resizing plots in the R kernel for Jupyter notebooks\n",
    "https://blog.revolutionanalytics.com/2015/09/resizing-plots-in-the-r-kernel-for-jupyter-notebooks.html\n",
    "\n",
    "    library(repr)\n",
    "\n",
    "    # Change plot size to 4 x 3\n",
    "    options(repr.plot.width=4, repr.plot.height=3)\n",
    "    \n",
    "### Note2 Generate a table \n",
    "https://www.tablesgenerator.com/markdown_tables\n",
    "\n",
    "\n",
    "### Note 3 - DataFrames"
   ]
  },
  {
   "cell_type": "code",
   "execution_count": 6,
   "metadata": {},
   "outputs": [
    {
     "name": "stderr",
     "output_type": "stream",
     "text": [
      "Warning message:\n",
      "\"package 'xts' was built under R version 3.5.3\"Loading required package: zoo\n",
      "Warning message:\n",
      "\"package 'zoo' was built under R version 3.5.3\"\n",
      "Attaching package: 'zoo'\n",
      "\n",
      "The following objects are masked from 'package:base':\n",
      "\n",
      "    as.Date, as.Date.numeric\n",
      "\n"
     ]
    }
   ],
   "source": [
    "library(xts)"
   ]
  },
  {
   "cell_type": "markdown",
   "metadata": {},
   "source": [
    "## 1) Introduction to eXtensible Time Series, using xts and zoo for time series\n",
    "`xts` and `zoo` are just two of the many different types of objects that exist in R. This chapter will introduce the basic objects in xts and zoo and their components, and offers examples of how to construct and examine the data.\n",
    "\n",
    "### 1.1) (video) Introducing xts and zoo objects\n",
    "`xts` stands for \"eXtensible Time Series\" at the heart of `xts` is a `zoo` object, a matrix object plus a vector of times corresponding to each row, which in turn represents an observation in time to ilustrate it, we´ll crate a simple matrix called `x` and to track these observation we have dates in an object called `idx` Note that this index **must** be a true time object (`Date`,`POSIX times`,`timeDate`,`chron`,... etc) and this point we don´t have a times series, we´ll need to join these to create out xts object, to do this we call the `xts` constructor it has other arguments like:\n",
    "\n",
    "    - tzone : to set times zones and \n",
    "    - unique : which will force all times be unique\n",
    "  \n",
    "the last thing you can use `coredata` is how you get the raw matrix back, and `index` is how you extract the data or times."
   ]
  },
  {
   "cell_type": "code",
   "execution_count": 10,
   "metadata": {},
   "outputs": [
    {
     "data": {
      "text/html": [
       "<table>\n",
       "<tbody>\n",
       "\t<tr><td>1</td><td>3</td></tr>\n",
       "\t<tr><td>2</td><td>4</td></tr>\n",
       "</tbody>\n",
       "</table>\n"
      ],
      "text/latex": [
       "\\begin{tabular}{ll}\n",
       "\t 1 & 3\\\\\n",
       "\t 2 & 4\\\\\n",
       "\\end{tabular}\n"
      ],
      "text/markdown": [
       "\n",
       "| 1 | 3 | \n",
       "| 2 | 4 | \n",
       "\n",
       "\n"
      ],
      "text/plain": [
       "     [,1] [,2]\n",
       "[1,] 1    3   \n",
       "[2,] 2    4   "
      ]
     },
     "metadata": {},
     "output_type": "display_data"
    },
    {
     "data": {
      "text/html": [
       "<ol class=list-inline>\n",
       "\t<li><time datetime=\"2015-01-01\">2015-01-01</time></li>\n",
       "\t<li><time datetime=\"2015-02-01\">2015-02-01</time></li>\n",
       "</ol>\n"
      ],
      "text/latex": [
       "\\begin{enumerate*}\n",
       "\\item 2015-01-01\n",
       "\\item 2015-02-01\n",
       "\\end{enumerate*}\n"
      ],
      "text/markdown": [
       "1. 2015-01-01\n",
       "2. 2015-02-01\n",
       "\n",
       "\n"
      ],
      "text/plain": [
       "[1] \"2015-01-01\" \"2015-02-01\""
      ]
     },
     "metadata": {},
     "output_type": "display_data"
    },
    {
     "data": {
      "text/plain": [
       "           [,1] [,2]\n",
       "2015-01-01    1    3\n",
       "2015-02-01    2    4"
      ]
     },
     "metadata": {},
     "output_type": "display_data"
    },
    {
     "name": "stdout",
     "output_type": "stream",
     "text": [
      "An 'xts' object on 2015-01-01/2015-02-01 containing:\n",
      "  Data: int [1:2, 1:2] 1 2 3 4\n",
      "  Indexed by objects of class: [Date] TZ: UTC\n",
      "  xts Attributes:  \n",
      " NULL\n"
     ]
    },
    {
     "data": {
      "text/html": [
       "<table>\n",
       "<tbody>\n",
       "\t<tr><td>1</td><td>3</td></tr>\n",
       "\t<tr><td>2</td><td>4</td></tr>\n",
       "</tbody>\n",
       "</table>\n"
      ],
      "text/latex": [
       "\\begin{tabular}{ll}\n",
       "\t 1 & 3\\\\\n",
       "\t 2 & 4\\\\\n",
       "\\end{tabular}\n"
      ],
      "text/markdown": [
       "\n",
       "| 1 | 3 | \n",
       "| 2 | 4 | \n",
       "\n",
       "\n"
      ],
      "text/plain": [
       "     [,1] [,2]\n",
       "[1,] 1    3   \n",
       "[2,] 2    4   "
      ]
     },
     "metadata": {},
     "output_type": "display_data"
    },
    {
     "data": {
      "text/html": [
       "<ol class=list-inline>\n",
       "\t<li><time datetime=\"2015-01-01\">2015-01-01</time></li>\n",
       "\t<li><time datetime=\"2015-02-01\">2015-02-01</time></li>\n",
       "</ol>\n"
      ],
      "text/latex": [
       "\\begin{enumerate*}\n",
       "\\item 2015-01-01\n",
       "\\item 2015-02-01\n",
       "\\end{enumerate*}\n"
      ],
      "text/markdown": [
       "1. 2015-01-01\n",
       "2. 2015-02-01\n",
       "\n",
       "\n"
      ],
      "text/plain": [
       "[1] \"2015-01-01\" \"2015-02-01\""
      ]
     },
     "metadata": {},
     "output_type": "display_data"
    }
   ],
   "source": [
    "#XTS = Index +Matrix \n",
    "x<-matrix(1:4, nrow = 2, ncol = 2)\n",
    "idx<-as.Date(c(\"2015-01-01\",\"2015-02-01\"))\n",
    "x\n",
    "idx\n",
    "\n",
    "X<-xts(x, order.by = idx)\n",
    "X\n",
    "str(X)\n",
    "\n",
    "#Deconstrunctiong xts\n",
    "coredata(X, fmt = FALSE)\n",
    "index(X)"
   ]
  },
  {
   "cell_type": "markdown",
   "metadata": {},
   "source": [
    "#### 1.1.1)  What is an xts object?\n",
    "There are many different types of objects in R. With a variety of different features, each has a unique purpose. Some classes inherit behavior from their parents, allowing for custom extensions to existing and well-understood R objects. This makes it easy to adapt existing code to new functionality.\n",
    "\n",
    "It is for this reason that `xts` extends the popular `zoo` class. Knowing this, and what you have seen so far, which of these statements is true?\n",
    "\n",
    "- `xts` objects are matrix objects internally.\n",
    "- `xts` objects are indexed by a formal time object.\n",
    "- Most `zoo` methods work for xts\n",
    "\n",
    "#### 1.1.2) More than a matrix\n",
    "It is best to think of `xts` objects as normal R matrices, but with special powers. These powers let you manipulate your data as a function of time, as your data is now self-aware of when it exists in time. Before we can start to exploit these powers, it will be helpful to see how `xts` objects relate to their base-R relatives.\n",
    "\n",
    "In this exercise, you will get a feel for `xts` and how it behaves like a matrix object. The xts object `ex_matrix` and matrix object `core` have been pre-loaded for you.\n",
    "\n",
    "**Exercise**\n",
    "\n",
    "- Load the xts package using the library() function.\n",
    "- Look at the structure of the sample xts called ex_matrix using str().\n",
    "- Given that ex_matrix is a matrix, extract the 3rd row and 2nd column.\n",
    "- Now take the matrix core and extract the 3rd row and 2nd column. Notice the difference.\n",
    "\n",
    "*Answer*"
   ]
  },
  {
   "cell_type": "code",
   "execution_count": 19,
   "metadata": {},
   "outputs": [
    {
     "name": "stdout",
     "output_type": "stream",
     "text": [
      "An 'xts' object on 2016-06-01/2016-06-03 containing:\n",
      "  Data: num [1:3, 1:2] 1 1 1 2 2 2\n",
      "  Indexed by objects of class: [Date] TZ: UTC\n",
      "  xts Attributes:  \n",
      " NULL\n"
     ]
    },
    {
     "data": {
      "text/plain": [
       "           [,1]\n",
       "2016-06-03    2"
      ]
     },
     "metadata": {},
     "output_type": "display_data"
    },
    {
     "data": {
      "text/html": [
       "2"
      ],
      "text/latex": [
       "2"
      ],
      "text/markdown": [
       "2"
      ],
      "text/plain": [
       "[1] 2"
      ]
     },
     "metadata": {},
     "output_type": "display_data"
    }
   ],
   "source": [
    "core<-matrix(c(1,2), nrow =3, ncol = 2, byrow = TRUE)\n",
    "ex_matrix<-xts(core, order.by = as.Date(c(\"2016-06-01\",\"2016-06-02\",\"2016-06-03\")))\n",
    "\n",
    "\n",
    "# Load xts\n",
    "library(xts)\n",
    "\n",
    "# View the structure of ex_matrix\n",
    "str(ex_matrix)\n",
    "\n",
    "# Extract the 3rd observation of the 2nd column of ex_matrix\n",
    "ex_matrix[3, 2]\n",
    "\n",
    "# Extract the 3rd observation of the 2nd column of core \n",
    "core[3, 2]"
   ]
  },
  {
   "cell_type": "markdown",
   "metadata": {},
   "source": [
    "#### 1.1.3) Your first xts object\n",
    "`xts` objects are simple. Think of them as a matrix of observations combined with an index of corresponding dates and times.\n",
    "    \n",
    "      xts = matrix + times\n",
    "      \n",
    "The main `xts` constructor takes a number of arguments, but the two most important are `x` for the **data** and `order.by` for the **index**. `x` must be a vector or matrix. `order.by` is a vector which must be the same length or number of rows as x, be a proper time or date object (very important!), and be in increasing order.\n",
    "\n",
    "`xts` also allows you to bind arbitrary key-value attributes to your data. This lets you keep metadata about your object inside your object. To add these at creation, you simply pass additional `name = value` arguments to the xts() function.\n",
    "\n",
    "Since we are focusing here on the mechanics, we'll use random numbers as our data so we can focus on creating the object rather than worry about its contents.\n",
    "\n",
    "**Exercise**\n",
    "- Create an object called data that contains five random numbers using rnorm().\n",
    "- Create a Date class index from \"2016-01-01\" of length five called dates.\n",
    "- Use the xts constructor to create an object called smith using data and dates as the index.\n",
    "- Create an object called bday which contains a POSIXct date object containing the date \"1899-05-08\".\n",
    "- Create an xts object called hayek using data, dates, and a new attribute called born, which should contain the birthday object you just created.\n",
    "\n",
    "*Answer*"
   ]
  },
  {
   "cell_type": "code",
   "execution_count": 21,
   "metadata": {},
   "outputs": [],
   "source": [
    "# Create the object data using 5 random numbers\n",
    "data<-rnorm(5)\n",
    "\n",
    "# Create dates as a Date class object starting from 2016-01-01\n",
    "dates <- seq(as.Date(\"2016-01-01\"), length = 5, by = \"days\")\n",
    "\n",
    "# Use xts() to create smith\n",
    "smith <- xts(x = data, order.by = dates)\n",
    "\n",
    "# Create bday (1899-05-08) using a POSIXct date class object\n",
    "bday <- as.POSIXct(\"1899-05-08\")\n",
    "\n",
    "# Create hayek and add a new attribute called born\n",
    "hayek <- xts(x = data, order.by = dates, born = bday)"
   ]
  },
  {
   "cell_type": "markdown",
   "metadata": {},
   "source": [
    "#### 1.1.4) Deconstructing xts\n",
    "Now that you can create `xts` objects, your next task is to examine an xts object from the inside.\n",
    "\n",
    "At the core of both `xts` and `zoo` is a simple R matrix with a few additional attributes. The most important of these attributes is the `index`. The `index` holds all the information we need for `xts` to treat our data as a time series.\n",
    "\n",
    "When working with time series, it will sometimes be necessary to separate your time series into its core data and index attributes for additional analysis and manipulation. The core data is the matrix portion of xts. You can separate this from the xts object using `coredata()`. The index portion of the xts object is available using the `index()` function. Note that both of these functions are methods from the zoo class, which `xts` extends.\n",
    "\n",
    "In this exercise you will use these built-in functions to extract both the internal matrix data and internal index from your sample `xts` object. You will use the `hayek` time series you created in the last exercise to practice these new functions.\n",
    "\n",
    "**Exercise**\n",
    "\n",
    "- Extract the core data of hayek using coredata() and call this hayek_core.\n",
    "- View the class of hayek_core using the class() function.\n",
    "- Extract the date index of hayek using index() and call this hayek_index.\n",
    "- View the class of hayek_index.\n",
    "\n",
    "*Answer*"
   ]
  },
  {
   "cell_type": "code",
   "execution_count": 22,
   "metadata": {},
   "outputs": [
    {
     "data": {
      "text/html": [
       "'matrix'"
      ],
      "text/latex": [
       "'matrix'"
      ],
      "text/markdown": [
       "'matrix'"
      ],
      "text/plain": [
       "[1] \"matrix\""
      ]
     },
     "metadata": {},
     "output_type": "display_data"
    },
    {
     "data": {
      "text/html": [
       "'Date'"
      ],
      "text/latex": [
       "'Date'"
      ],
      "text/markdown": [
       "'Date'"
      ],
      "text/plain": [
       "[1] \"Date\""
      ]
     },
     "metadata": {},
     "output_type": "display_data"
    }
   ],
   "source": [
    "# Extract the core data of hayek\n",
    "hayek_core<-coredata(hayek)\n",
    "\n",
    "# View the class of hayek_core\n",
    "class(hayek_core)\n",
    "\n",
    "# Extract the index of hayek\n",
    "hayek_index<-index(hayek)\n",
    "\n",
    "# View the class of hayek_index\n",
    "class(hayek_index)"
   ]
  },
  {
   "cell_type": "markdown",
   "metadata": {},
   "source": [
    "#### 1.1.5) Time based indices\n",
    "`xts` objects get their power from the index attribute that holds the time dimension. One major difference between `xts` and most other time series objects in R is the ability to use any one of various classes that are used to represent time. Whether `POSIXct`, `Date`, or some other class, xts will convert this into an internal form to make subsetting as natural to the user as possible.\n",
    "\n",
    "    a <- xts(x = 1:2, as.Date(\"2012-01-01\") + 0:1)\n",
    "    a[index(a)]\n",
    "\n",
    "We'll get into more detail on subsetting `xts` objects in a later chapter. For now you can simply use date objects to index appropriate rows from your time series. You can think of this as effectively matching the rownames you see in the object. This works as anticipated for time objects because the rownames are really dates!\n",
    "\n",
    "For this exercise you'll create two time series using two different time classes. You will then subset each object using the other object's index."
   ]
  },
  {
   "cell_type": "code",
   "execution_count": null,
   "metadata": {},
   "outputs": [],
   "source": [
    "library(repr)\n",
    "# Change plot size to 4 x 3\n",
    "    options(repr.plot.width=4, repr.plot.height=3)"
   ]
  },
  {
   "cell_type": "code",
   "execution_count": null,
   "metadata": {},
   "outputs": [],
   "source": [
    "**Exercise**\n",
    "\n",
    "*Answer*"
   ]
  }
 ],
 "metadata": {
  "kernelspec": {
   "display_name": "R",
   "language": "R",
   "name": "ir"
  },
  "language_info": {
   "codemirror_mode": "r",
   "file_extension": ".r",
   "mimetype": "text/x-r-source",
   "name": "R",
   "pygments_lexer": "r",
   "version": "3.5.1"
  }
 },
 "nbformat": 4,
 "nbformat_minor": 2
}
