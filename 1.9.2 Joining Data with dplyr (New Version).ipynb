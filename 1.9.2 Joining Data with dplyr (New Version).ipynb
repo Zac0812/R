{
 "cells": [
  {
   "cell_type": "markdown",
   "metadata": {},
   "source": [
    "# Joining Data with dplyr\n",
    "link: https://www.datacamp.com/courses/joining-data-with-dplyr-in-r\n",
    "\n",
    "### Course Description\n",
    "Often in data science, you'll encounter fascinating data that is spread across multiple tables. This course will teach you the skills you'll need to join multiple tables together to analyze them in combination. You'll practice your skills using a fun dataset about LEGOs from the Rebrickable website. The dataset contains information about the sets, parts, themes, and colors of LEGOs, but is spread across many tables. You'll work with the data throughout the course as you learn a total of six different joins! You'll learn four mutating joins: inner join, left join, right join, and full join, and two filtering joins: semi join and anti join. In the final chapter, you'll apply your new skills to Stack Overflow data, containing each of the almost 300,000 Stack Oveflow questions that are tagged with R, including information about their answers, the date they were asked, and their score. Get ready to take your dplyr skills to the next level!\n",
    "\n",
    "\n",
    "### Note how can Resizing plots in the R kernel for Jupyter notebooks\n",
    "https://blog.revolutionanalytics.com/2015/09/resizing-plots-in-the-r-kernel-for-jupyter-notebooks.html\n",
    "\n",
    "    library(repr)\n",
    "\n",
    "    # Change plot size to 4 x 3\n",
    "    options(repr.plot.width=4, repr.plot.height=3)\n",
    "    \n",
    "### Note2 Generate a table \n",
    "\n",
    "https://www.tablesgenerator.com/markdown_tables\n",
    "\n",
    "\n",
    "other: Book: machine learning with R by Brett Lantz\n",
    "Learn about `attr` function\n",
    "\n",
    "\n",
    "### Note 2.2 RDS (Reading from a R data file)\n",
    "Link: https://mgimond.github.io/ES218/Week02b.html\n",
    "\n",
    "R has its own data file format–it’s usually saved using the .rds extension. To read a R data file, invoke the readRDS() function.\n",
    "\n",
    "    dat <- readRDS(\"ACS.rds\")\n",
    "    \n",
    "As with a CSV file, you can load a RDS file straight from a website, however, you must first run the file through a decompressor before attempting to load it via readRDS. A built-in decompressor function called gzcon can be used for this purpose.\n",
    "\n",
    "    dat <- readRDS(gzcon(url(\"http://mgimond.github.io/ES218/Data/ACS.rds\")))\n",
    "    \n",
    "The .rds file format is usually smaller than its text file counterpart and will therefore take up less storage space. The .rds file will also preserve data types and classes such as factors and dates eliminating the need to redefine data types after loading the file.\n",
    "\n",
    "\n",
    "\n",
    "### Note 3 - DataFrames"
   ]
  },
  {
   "cell_type": "code",
   "execution_count": 1,
   "metadata": {},
   "outputs": [
    {
     "name": "stderr",
     "output_type": "stream",
     "text": [
      "Warning message:\n",
      "\"package 'dplyr' was built under R version 3.5.3\"\n",
      "Attaching package: 'dplyr'\n",
      "\n",
      "The following objects are masked from 'package:stats':\n",
      "\n",
      "    filter, lag\n",
      "\n",
      "The following objects are masked from 'package:base':\n",
      "\n",
      "    intersect, setdiff, setequal, union\n",
      "\n",
      "Warning message:\n",
      "\"package 'tidyverse' was built under R version 3.5.3\"-- Attaching packages --------------------------------------- tidyverse 1.2.1 --\n",
      "v ggplot2 3.2.1     v readr   1.3.1\n",
      "v tibble  2.1.3     v purrr   0.2.5\n",
      "v tidyr   0.8.2     v stringr 1.4.0\n",
      "v ggplot2 3.2.1     v forcats 0.3.0\n",
      "Warning message:\n",
      "\"package 'ggplot2' was built under R version 3.5.3\"Warning message:\n",
      "\"package 'tibble' was built under R version 3.5.3\"Warning message:\n",
      "\"package 'readr' was built under R version 3.5.3\"Warning message:\n",
      "\"package 'stringr' was built under R version 3.5.3\"-- Conflicts ------------------------------------------ tidyverse_conflicts() --\n",
      "x dplyr::filter() masks stats::filter()\n",
      "x dplyr::lag()    masks stats::lag()\n"
     ]
    }
   ],
   "source": [
    "library(dplyr)\n",
    "library(tidyverse)"
   ]
  },
  {
   "cell_type": "code",
   "execution_count": 2,
   "metadata": {},
   "outputs": [],
   "source": [
    "#readRDS(gzcon(url()))\n",
    "sets<-readRDS(gzcon(url(\"https://assets.datacamp.com/production/repositories/5284/datasets/2e7cb938873ba685957efd822867c86f46dc6b78/sets.rds\")))\n",
    "themes<-readRDS(gzcon(url(\"https://assets.datacamp.com/production/repositories/5284/datasets/267bcb026359fb2104bf4b717ae166d0bd99c5e6/themes.rds\")))\n",
    "parts<-readRDS(gzcon(url(\"https://assets.datacamp.com/production/repositories/5284/datasets/cb649926d41ce73490a9bb710e1501a273061723/parts.rds\")))\n",
    "part_categories<-readRDS(gzcon(url(\"https://assets.datacamp.com/production/repositories/5284/datasets/30fc459770c89e46cce9cce99752ca95fb1d06fe/part_categories.rds\")))\n",
    "inventories<-readRDS(gzcon(url(\"https://assets.datacamp.com/production/repositories/5284/datasets/2b509dd7a49493ab990580be1845f21f36c46ca0/inventories.rds\")))\n",
    "inventory_parts<-readRDS(gzcon(url(\"https://assets.datacamp.com/production/repositories/5284/datasets/a49d7bf17fc35fdd1331c01a7f36573800e93cb4/inventory_parts.rds\")))\n",
    "colors<- readRDS(gzcon(url(\"https://assets.datacamp.com/production/repositories/5284/datasets/aeeda0eaafe6b04c1e42da71a4e9fed7299d096e/colors.rds\")))"
   ]
  },
  {
   "cell_type": "code",
   "execution_count": 10,
   "metadata": {},
   "outputs": [
    {
     "data": {
      "text/html": [
       "<table>\n",
       "<thead><tr><th scope=col>part_num</th><th scope=col>name</th><th scope=col>part_cat_id</th></tr></thead>\n",
       "<tbody>\n",
       "\t<tr><td>0901                                                  </td><td>Baseplate 16 x 30 with Set 080 Yellow House Print     </td><td> 1                                                    </td></tr>\n",
       "\t<tr><td>0902                                                  </td><td>Baseplate 16 x 24 with Set 080 Small White House Print</td><td> 1                                                    </td></tr>\n",
       "\t<tr><td>0903                                                  </td><td>Baseplate 16 x 24 with Set 080 Red House Print        </td><td> 1                                                    </td></tr>\n",
       "\t<tr><td>0904                                                  </td><td>Baseplate 16 x 24 with Set 080 Large White House Print</td><td> 1                                                    </td></tr>\n",
       "\t<tr><td>1                                                     </td><td>Homemaker Bookcase 2 x 4 x 4                          </td><td> 7                                                    </td></tr>\n",
       "\t<tr><td>10016414                                              </td><td>Sticker Sheet #1 for 41055-1                          </td><td>58                                                    </td></tr>\n",
       "</tbody>\n",
       "</table>\n"
      ],
      "text/latex": [
       "\\begin{tabular}{r|lll}\n",
       " part\\_num & name & part\\_cat\\_id\\\\\n",
       "\\hline\n",
       "\t 0901                                                   & Baseplate 16 x 30 with Set 080 Yellow House Print      &  1                                                    \\\\\n",
       "\t 0902                                                   & Baseplate 16 x 24 with Set 080 Small White House Print &  1                                                    \\\\\n",
       "\t 0903                                                   & Baseplate 16 x 24 with Set 080 Red House Print         &  1                                                    \\\\\n",
       "\t 0904                                                   & Baseplate 16 x 24 with Set 080 Large White House Print &  1                                                    \\\\\n",
       "\t 1                                                      & Homemaker Bookcase 2 x 4 x 4                           &  7                                                    \\\\\n",
       "\t 10016414                                                 & Sticker Sheet \\#1 for 41055-1                           & 58                                                      \\\\\n",
       "\\end{tabular}\n"
      ],
      "text/markdown": [
       "\n",
       "part_num | name | part_cat_id | \n",
       "|---|---|---|---|---|---|\n",
       "| 0901                                                   | Baseplate 16 x 30 with Set 080 Yellow House Print      |  1                                                     | \n",
       "| 0902                                                   | Baseplate 16 x 24 with Set 080 Small White House Print |  1                                                     | \n",
       "| 0903                                                   | Baseplate 16 x 24 with Set 080 Red House Print         |  1                                                     | \n",
       "| 0904                                                   | Baseplate 16 x 24 with Set 080 Large White House Print |  1                                                     | \n",
       "| 1                                                      | Homemaker Bookcase 2 x 4 x 4                           |  7                                                     | \n",
       "| 10016414                                               | Sticker Sheet #1 for 41055-1                           | 58                                                     | \n",
       "\n",
       "\n"
      ],
      "text/plain": [
       "  part_num name                                                   part_cat_id\n",
       "1 0901     Baseplate 16 x 30 with Set 080 Yellow House Print       1         \n",
       "2 0902     Baseplate 16 x 24 with Set 080 Small White House Print  1         \n",
       "3 0903     Baseplate 16 x 24 with Set 080 Red House Print          1         \n",
       "4 0904     Baseplate 16 x 24 with Set 080 Large White House Print  1         \n",
       "5 1        Homemaker Bookcase 2 x 4 x 4                            7         \n",
       "6 10016414 Sticker Sheet #1 for 41055-1                           58         "
      ]
     },
     "metadata": {},
     "output_type": "display_data"
    },
    {
     "data": {
      "text/html": [
       "<table>\n",
       "<thead><tr><th scope=col>id</th><th scope=col>name</th></tr></thead>\n",
       "<tbody>\n",
       "\t<tr><td>1                      </td><td>Baseplates             </td></tr>\n",
       "\t<tr><td>3                      </td><td>Bricks Sloped          </td></tr>\n",
       "\t<tr><td>4                      </td><td>Duplo, Quatro and Primo</td></tr>\n",
       "\t<tr><td>5                      </td><td>Bricks Special         </td></tr>\n",
       "\t<tr><td>6                      </td><td>Bricks Wedged          </td></tr>\n",
       "\t<tr><td>7                      </td><td>Containers             </td></tr>\n",
       "</tbody>\n",
       "</table>\n"
      ],
      "text/latex": [
       "\\begin{tabular}{r|ll}\n",
       " id & name\\\\\n",
       "\\hline\n",
       "\t 1                       & Baseplates             \\\\\n",
       "\t 3                       & Bricks Sloped          \\\\\n",
       "\t 4                       & Duplo, Quatro and Primo\\\\\n",
       "\t 5                       & Bricks Special         \\\\\n",
       "\t 6                       & Bricks Wedged          \\\\\n",
       "\t 7                       & Containers             \\\\\n",
       "\\end{tabular}\n"
      ],
      "text/markdown": [
       "\n",
       "id | name | \n",
       "|---|---|---|---|---|---|\n",
       "| 1                       | Baseplates              | \n",
       "| 3                       | Bricks Sloped           | \n",
       "| 4                       | Duplo, Quatro and Primo | \n",
       "| 5                       | Bricks Special          | \n",
       "| 6                       | Bricks Wedged           | \n",
       "| 7                       | Containers              | \n",
       "\n",
       "\n"
      ],
      "text/plain": [
       "  id name                   \n",
       "1 1  Baseplates             \n",
       "2 3  Bricks Sloped          \n",
       "3 4  Duplo, Quatro and Primo\n",
       "4 5  Bricks Special         \n",
       "5 6  Bricks Wedged          \n",
       "6 7  Containers             "
      ]
     },
     "metadata": {},
     "output_type": "display_data"
    }
   ],
   "source": [
    "head(parts)\n",
    "head(part_categories)"
   ]
  },
  {
   "cell_type": "markdown",
   "metadata": {},
   "source": [
    "## 1) Joining Tables\n",
    "Get started with your first joining verb: inner-join! You'll learn to join tables together to answer questions about the LEGO dataset, which contains information across many tables about the sets, parts, themes, and colors of LEGOs over time.\n",
    "\n",
    "\n",
    "### 1.1) (video) The inner_join verb\n",
    "maybe until this point, you have seen how can manipulate a set of data through `dplyr` package, but unfortunately it's very rare that you can has a set that contains all information that you need. so it's important build a skills that allow you fight with tihis kind of problem,  in this course we will working joining datasets, so first we are working with `inner_join` \n",
    "\n",
    "#### 1.1) Joining parts and part categories\n",
    "- Add the correct joining verb, the name of the second table, and the joining column for the second table.\n",
    "- Now, use the suffix argument to add \"_part\" and \"_category\" suffixes to replace the name.x and name.y fields.\n"
   ]
  },
  {
   "cell_type": "code",
   "execution_count": 17,
   "metadata": {},
   "outputs": [
    {
     "data": {
      "text/html": [
       "<table>\n",
       "<thead><tr><th scope=col>part_num</th><th scope=col>name.x</th><th scope=col>part_cat_id</th><th scope=col>name.y</th></tr></thead>\n",
       "<tbody>\n",
       "\t<tr><td>0901                                                  </td><td>Baseplate 16 x 30 with Set 080 Yellow House Print     </td><td> 1                                                    </td><td>Baseplates                                            </td></tr>\n",
       "\t<tr><td>0902                                                  </td><td>Baseplate 16 x 24 with Set 080 Small White House Print</td><td> 1                                                    </td><td>Baseplates                                            </td></tr>\n",
       "\t<tr><td>0903                                                  </td><td>Baseplate 16 x 24 with Set 080 Red House Print        </td><td> 1                                                    </td><td>Baseplates                                            </td></tr>\n",
       "\t<tr><td>0904                                                  </td><td>Baseplate 16 x 24 with Set 080 Large White House Print</td><td> 1                                                    </td><td>Baseplates                                            </td></tr>\n",
       "\t<tr><td>1                                                     </td><td>Homemaker Bookcase 2 x 4 x 4                          </td><td> 7                                                    </td><td>Containers                                            </td></tr>\n",
       "\t<tr><td>10016414                                              </td><td>Sticker Sheet #1 for 41055-1                          </td><td>58                                                    </td><td>Stickers                                              </td></tr>\n",
       "</tbody>\n",
       "</table>\n"
      ],
      "text/latex": [
       "\\begin{tabular}{r|llll}\n",
       " part\\_num & name.x & part\\_cat\\_id & name.y\\\\\n",
       "\\hline\n",
       "\t 0901                                                   & Baseplate 16 x 30 with Set 080 Yellow House Print      &  1                                                     & Baseplates                                            \\\\\n",
       "\t 0902                                                   & Baseplate 16 x 24 with Set 080 Small White House Print &  1                                                     & Baseplates                                            \\\\\n",
       "\t 0903                                                   & Baseplate 16 x 24 with Set 080 Red House Print         &  1                                                     & Baseplates                                            \\\\\n",
       "\t 0904                                                   & Baseplate 16 x 24 with Set 080 Large White House Print &  1                                                     & Baseplates                                            \\\\\n",
       "\t 1                                                      & Homemaker Bookcase 2 x 4 x 4                           &  7                                                     & Containers                                            \\\\\n",
       "\t 10016414                                                 & Sticker Sheet \\#1 for 41055-1                           & 58                                                       & Stickers                                                \\\\\n",
       "\\end{tabular}\n"
      ],
      "text/markdown": [
       "\n",
       "part_num | name.x | part_cat_id | name.y | \n",
       "|---|---|---|---|---|---|\n",
       "| 0901                                                   | Baseplate 16 x 30 with Set 080 Yellow House Print      |  1                                                     | Baseplates                                             | \n",
       "| 0902                                                   | Baseplate 16 x 24 with Set 080 Small White House Print |  1                                                     | Baseplates                                             | \n",
       "| 0903                                                   | Baseplate 16 x 24 with Set 080 Red House Print         |  1                                                     | Baseplates                                             | \n",
       "| 0904                                                   | Baseplate 16 x 24 with Set 080 Large White House Print |  1                                                     | Baseplates                                             | \n",
       "| 1                                                      | Homemaker Bookcase 2 x 4 x 4                           |  7                                                     | Containers                                             | \n",
       "| 10016414                                               | Sticker Sheet #1 for 41055-1                           | 58                                                     | Stickers                                               | \n",
       "\n",
       "\n"
      ],
      "text/plain": [
       "  part_num name.x                                                 part_cat_id\n",
       "1 0901     Baseplate 16 x 30 with Set 080 Yellow House Print       1         \n",
       "2 0902     Baseplate 16 x 24 with Set 080 Small White House Print  1         \n",
       "3 0903     Baseplate 16 x 24 with Set 080 Red House Print          1         \n",
       "4 0904     Baseplate 16 x 24 with Set 080 Large White House Print  1         \n",
       "5 1        Homemaker Bookcase 2 x 4 x 4                            7         \n",
       "6 10016414 Sticker Sheet #1 for 41055-1                           58         \n",
       "  name.y    \n",
       "1 Baseplates\n",
       "2 Baseplates\n",
       "3 Baseplates\n",
       "4 Baseplates\n",
       "5 Containers\n",
       "6 Stickers  "
      ]
     },
     "metadata": {},
     "output_type": "display_data"
    },
    {
     "data": {
      "text/html": [
       "<table>\n",
       "<thead><tr><th scope=col>part_num</th><th scope=col>name_part</th><th scope=col>part_cat_id</th><th scope=col>name_category</th></tr></thead>\n",
       "<tbody>\n",
       "\t<tr><td>0901                                                  </td><td>Baseplate 16 x 30 with Set 080 Yellow House Print     </td><td> 1                                                    </td><td>Baseplates                                            </td></tr>\n",
       "\t<tr><td>0902                                                  </td><td>Baseplate 16 x 24 with Set 080 Small White House Print</td><td> 1                                                    </td><td>Baseplates                                            </td></tr>\n",
       "\t<tr><td>0903                                                  </td><td>Baseplate 16 x 24 with Set 080 Red House Print        </td><td> 1                                                    </td><td>Baseplates                                            </td></tr>\n",
       "\t<tr><td>0904                                                  </td><td>Baseplate 16 x 24 with Set 080 Large White House Print</td><td> 1                                                    </td><td>Baseplates                                            </td></tr>\n",
       "\t<tr><td>1                                                     </td><td>Homemaker Bookcase 2 x 4 x 4                          </td><td> 7                                                    </td><td>Containers                                            </td></tr>\n",
       "\t<tr><td>10016414                                              </td><td>Sticker Sheet #1 for 41055-1                          </td><td>58                                                    </td><td>Stickers                                              </td></tr>\n",
       "</tbody>\n",
       "</table>\n"
      ],
      "text/latex": [
       "\\begin{tabular}{r|llll}\n",
       " part\\_num & name\\_part & part\\_cat\\_id & name\\_category\\\\\n",
       "\\hline\n",
       "\t 0901                                                   & Baseplate 16 x 30 with Set 080 Yellow House Print      &  1                                                     & Baseplates                                            \\\\\n",
       "\t 0902                                                   & Baseplate 16 x 24 with Set 080 Small White House Print &  1                                                     & Baseplates                                            \\\\\n",
       "\t 0903                                                   & Baseplate 16 x 24 with Set 080 Red House Print         &  1                                                     & Baseplates                                            \\\\\n",
       "\t 0904                                                   & Baseplate 16 x 24 with Set 080 Large White House Print &  1                                                     & Baseplates                                            \\\\\n",
       "\t 1                                                      & Homemaker Bookcase 2 x 4 x 4                           &  7                                                     & Containers                                            \\\\\n",
       "\t 10016414                                                 & Sticker Sheet \\#1 for 41055-1                           & 58                                                       & Stickers                                                \\\\\n",
       "\\end{tabular}\n"
      ],
      "text/markdown": [
       "\n",
       "part_num | name_part | part_cat_id | name_category | \n",
       "|---|---|---|---|---|---|\n",
       "| 0901                                                   | Baseplate 16 x 30 with Set 080 Yellow House Print      |  1                                                     | Baseplates                                             | \n",
       "| 0902                                                   | Baseplate 16 x 24 with Set 080 Small White House Print |  1                                                     | Baseplates                                             | \n",
       "| 0903                                                   | Baseplate 16 x 24 with Set 080 Red House Print         |  1                                                     | Baseplates                                             | \n",
       "| 0904                                                   | Baseplate 16 x 24 with Set 080 Large White House Print |  1                                                     | Baseplates                                             | \n",
       "| 1                                                      | Homemaker Bookcase 2 x 4 x 4                           |  7                                                     | Containers                                             | \n",
       "| 10016414                                               | Sticker Sheet #1 for 41055-1                           | 58                                                     | Stickers                                               | \n",
       "\n",
       "\n"
      ],
      "text/plain": [
       "  part_num name_part                                              part_cat_id\n",
       "1 0901     Baseplate 16 x 30 with Set 080 Yellow House Print       1         \n",
       "2 0902     Baseplate 16 x 24 with Set 080 Small White House Print  1         \n",
       "3 0903     Baseplate 16 x 24 with Set 080 Red House Print          1         \n",
       "4 0904     Baseplate 16 x 24 with Set 080 Large White House Print  1         \n",
       "5 1        Homemaker Bookcase 2 x 4 x 4                            7         \n",
       "6 10016414 Sticker Sheet #1 for 41055-1                           58         \n",
       "  name_category\n",
       "1 Baseplates   \n",
       "2 Baseplates   \n",
       "3 Baseplates   \n",
       "4 Baseplates   \n",
       "5 Containers   \n",
       "6 Stickers     "
      ]
     },
     "metadata": {},
     "output_type": "display_data"
    }
   ],
   "source": [
    "head(inner_join(parts, part_categories, by = c(\"part_cat_id\"=\"id\")))\n",
    "\n",
    "head(inner_join(parts, part_categories, by = c(\"part_cat_id\"=\"id\"), suffix = c(\"_part\",\"_category\")))"
   ]
  },
  {
   "cell_type": "markdown",
   "metadata": {},
   "source": [
    "#### 1.1.2) Joining parts and inventories\n",
    "**Exercise**\n",
    "- Connect the parts and inventory_parts tables by their part numbers using an inner join.\n",
    "\n",
    "*Answer*"
   ]
  },
  {
   "cell_type": "code",
   "execution_count": 20,
   "metadata": {},
   "outputs": [
    {
     "data": {
      "text/html": [
       "<table>\n",
       "<thead><tr><th scope=col>part_num</th><th scope=col>name</th><th scope=col>part_cat_id</th><th scope=col>inventory_id</th><th scope=col>color_id</th><th scope=col>quantity</th></tr></thead>\n",
       "<tbody>\n",
       "\t<tr><td>0901                                                  </td><td>Baseplate 16 x 30 with Set 080 Yellow House Print     </td><td>1                                                     </td><td>1973                                                  </td><td> 2                                                    </td><td>1                                                     </td></tr>\n",
       "\t<tr><td>0902                                                  </td><td>Baseplate 16 x 24 with Set 080 Small White House Print</td><td>1                                                     </td><td>1973                                                  </td><td> 2                                                    </td><td>1                                                     </td></tr>\n",
       "\t<tr><td>0903                                                  </td><td>Baseplate 16 x 24 with Set 080 Red House Print        </td><td>1                                                     </td><td>1973                                                  </td><td> 2                                                    </td><td>1                                                     </td></tr>\n",
       "\t<tr><td>0904                                                  </td><td>Baseplate 16 x 24 with Set 080 Large White House Print</td><td>1                                                     </td><td>1973                                                  </td><td> 2                                                    </td><td>1                                                     </td></tr>\n",
       "\t<tr><td>1                                                     </td><td>Homemaker Bookcase 2 x 4 x 4                          </td><td>7                                                     </td><td> 508                                                  </td><td>15                                                    </td><td>1                                                     </td></tr>\n",
       "\t<tr><td>1                                                     </td><td>Homemaker Bookcase 2 x 4 x 4                          </td><td>7                                                     </td><td>1158                                                  </td><td>15                                                    </td><td>2                                                     </td></tr>\n",
       "</tbody>\n",
       "</table>\n"
      ],
      "text/latex": [
       "\\begin{tabular}{r|llllll}\n",
       " part\\_num & name & part\\_cat\\_id & inventory\\_id & color\\_id & quantity\\\\\n",
       "\\hline\n",
       "\t 0901                                                   & Baseplate 16 x 30 with Set 080 Yellow House Print      & 1                                                      & 1973                                                   &  2                                                     & 1                                                     \\\\\n",
       "\t 0902                                                   & Baseplate 16 x 24 with Set 080 Small White House Print & 1                                                      & 1973                                                   &  2                                                     & 1                                                     \\\\\n",
       "\t 0903                                                   & Baseplate 16 x 24 with Set 080 Red House Print         & 1                                                      & 1973                                                   &  2                                                     & 1                                                     \\\\\n",
       "\t 0904                                                   & Baseplate 16 x 24 with Set 080 Large White House Print & 1                                                      & 1973                                                   &  2                                                     & 1                                                     \\\\\n",
       "\t 1                                                      & Homemaker Bookcase 2 x 4 x 4                           & 7                                                      &  508                                                   & 15                                                     & 1                                                     \\\\\n",
       "\t 1                                                      & Homemaker Bookcase 2 x 4 x 4                           & 7                                                      & 1158                                                   & 15                                                     & 2                                                     \\\\\n",
       "\\end{tabular}\n"
      ],
      "text/markdown": [
       "\n",
       "part_num | name | part_cat_id | inventory_id | color_id | quantity | \n",
       "|---|---|---|---|---|---|\n",
       "| 0901                                                   | Baseplate 16 x 30 with Set 080 Yellow House Print      | 1                                                      | 1973                                                   |  2                                                     | 1                                                      | \n",
       "| 0902                                                   | Baseplate 16 x 24 with Set 080 Small White House Print | 1                                                      | 1973                                                   |  2                                                     | 1                                                      | \n",
       "| 0903                                                   | Baseplate 16 x 24 with Set 080 Red House Print         | 1                                                      | 1973                                                   |  2                                                     | 1                                                      | \n",
       "| 0904                                                   | Baseplate 16 x 24 with Set 080 Large White House Print | 1                                                      | 1973                                                   |  2                                                     | 1                                                      | \n",
       "| 1                                                      | Homemaker Bookcase 2 x 4 x 4                           | 7                                                      |  508                                                   | 15                                                     | 1                                                      | \n",
       "| 1                                                      | Homemaker Bookcase 2 x 4 x 4                           | 7                                                      | 1158                                                   | 15                                                     | 2                                                      | \n",
       "\n",
       "\n"
      ],
      "text/plain": [
       "  part_num name                                                   part_cat_id\n",
       "1 0901     Baseplate 16 x 30 with Set 080 Yellow House Print      1          \n",
       "2 0902     Baseplate 16 x 24 with Set 080 Small White House Print 1          \n",
       "3 0903     Baseplate 16 x 24 with Set 080 Red House Print         1          \n",
       "4 0904     Baseplate 16 x 24 with Set 080 Large White House Print 1          \n",
       "5 1        Homemaker Bookcase 2 x 4 x 4                           7          \n",
       "6 1        Homemaker Bookcase 2 x 4 x 4                           7          \n",
       "  inventory_id color_id quantity\n",
       "1 1973          2       1       \n",
       "2 1973          2       1       \n",
       "3 1973          2       1       \n",
       "4 1973          2       1       \n",
       "5  508         15       1       \n",
       "6 1158         15       2       "
      ]
     },
     "metadata": {},
     "output_type": "display_data"
    }
   ],
   "source": [
    "head(parts %>% inner_join(inventory_parts, by = \"part_num\"))\n"
   ]
  },
  {
   "cell_type": "markdown",
   "metadata": {},
   "source": [
    "### 1.3) (video) Joining three or more tables\n",
    "now you have seen how can join two table, we can extend this knowledge for three or more table, the idea is the same only need specify through which columns we will join our tables.\n",
    "\n",
    "#### 1.3.1) Joining three tables\n",
    "You can string together multiple joins with `inner_join` and the pipe (`%>%`), both with which you are already very familiar!\n",
    "\n",
    "We'll now connect `sets`, a table that tells us about each LEGO kit, with `inventories`, a table that tells us the specific version of a given set, and finally to inventory_parts, a table which tells us how many of each part is available in each LEGO kit.\n",
    "\n",
    "So if you were building a Batman LEGO `set`, sets would tell you the name of the set, `inventories` would give you IDs for each of the versions of the set, and inventory_parts would tell you how many of each part would be in each version.\n",
    "\n",
    "**Exercise**\n",
    "- Combine the inventories table with the sets table.\n",
    "- Next, join the inventory_parts table to the table you created in the previous join by the inventory IDs.\n",
    "\n",
    "*Answer*"
   ]
  },
  {
   "cell_type": "code",
   "execution_count": 9,
   "metadata": {},
   "outputs": [
    {
     "data": {
      "text/html": [
       "<table>\n",
       "<thead><tr><th scope=col>set_num</th><th scope=col>name</th><th scope=col>year</th><th scope=col>theme_id</th><th scope=col>id</th><th scope=col>version</th><th scope=col>part_num</th><th scope=col>color_id</th><th scope=col>quantity</th></tr></thead>\n",
       "<tbody>\n",
       "\t<tr><td>700.3-1              </td><td>Medium Gift Set (ABB)</td><td>1949                 </td><td>365                  </td><td>24197                </td><td>1                    </td><td>bdoor01              </td><td> 2                   </td><td>2                    </td></tr>\n",
       "\t<tr><td>700.3-1              </td><td>Medium Gift Set (ABB)</td><td>1949                 </td><td>365                  </td><td>24197                </td><td>1                    </td><td>bdoor01              </td><td>15                   </td><td>1                    </td></tr>\n",
       "\t<tr><td>700.3-1              </td><td>Medium Gift Set (ABB)</td><td>1949                 </td><td>365                  </td><td>24197                </td><td>1                    </td><td>bdoor01              </td><td> 4                   </td><td>1                    </td></tr>\n",
       "\t<tr><td>700.3-1              </td><td>Medium Gift Set (ABB)</td><td>1949                 </td><td>365                  </td><td>24197                </td><td>1                    </td><td>bslot02              </td><td>15                   </td><td>6                    </td></tr>\n",
       "\t<tr><td>700.3-1              </td><td>Medium Gift Set (ABB)</td><td>1949                 </td><td>365                  </td><td>24197                </td><td>1                    </td><td>bslot02              </td><td> 2                   </td><td>6                    </td></tr>\n",
       "\t<tr><td>700.3-1              </td><td>Medium Gift Set (ABB)</td><td>1949                 </td><td>365                  </td><td>24197                </td><td>1                    </td><td>bslot02              </td><td> 4                   </td><td>6                    </td></tr>\n",
       "</tbody>\n",
       "</table>\n"
      ],
      "text/latex": [
       "\\begin{tabular}{r|lllllllll}\n",
       " set\\_num & name & year & theme\\_id & id & version & part\\_num & color\\_id & quantity\\\\\n",
       "\\hline\n",
       "\t 700.3-1               & Medium Gift Set (ABB) & 1949                  & 365                   & 24197                 & 1                     & bdoor01               &  2                    & 2                    \\\\\n",
       "\t 700.3-1               & Medium Gift Set (ABB) & 1949                  & 365                   & 24197                 & 1                     & bdoor01               & 15                    & 1                    \\\\\n",
       "\t 700.3-1               & Medium Gift Set (ABB) & 1949                  & 365                   & 24197                 & 1                     & bdoor01               &  4                    & 1                    \\\\\n",
       "\t 700.3-1               & Medium Gift Set (ABB) & 1949                  & 365                   & 24197                 & 1                     & bslot02               & 15                    & 6                    \\\\\n",
       "\t 700.3-1               & Medium Gift Set (ABB) & 1949                  & 365                   & 24197                 & 1                     & bslot02               &  2                    & 6                    \\\\\n",
       "\t 700.3-1               & Medium Gift Set (ABB) & 1949                  & 365                   & 24197                 & 1                     & bslot02               &  4                    & 6                    \\\\\n",
       "\\end{tabular}\n"
      ],
      "text/markdown": [
       "\n",
       "set_num | name | year | theme_id | id | version | part_num | color_id | quantity | \n",
       "|---|---|---|---|---|---|\n",
       "| 700.3-1               | Medium Gift Set (ABB) | 1949                  | 365                   | 24197                 | 1                     | bdoor01               |  2                    | 2                     | \n",
       "| 700.3-1               | Medium Gift Set (ABB) | 1949                  | 365                   | 24197                 | 1                     | bdoor01               | 15                    | 1                     | \n",
       "| 700.3-1               | Medium Gift Set (ABB) | 1949                  | 365                   | 24197                 | 1                     | bdoor01               |  4                    | 1                     | \n",
       "| 700.3-1               | Medium Gift Set (ABB) | 1949                  | 365                   | 24197                 | 1                     | bslot02               | 15                    | 6                     | \n",
       "| 700.3-1               | Medium Gift Set (ABB) | 1949                  | 365                   | 24197                 | 1                     | bslot02               |  2                    | 6                     | \n",
       "| 700.3-1               | Medium Gift Set (ABB) | 1949                  | 365                   | 24197                 | 1                     | bslot02               |  4                    | 6                     | \n",
       "\n",
       "\n"
      ],
      "text/plain": [
       "  set_num name                  year theme_id id    version part_num color_id\n",
       "1 700.3-1 Medium Gift Set (ABB) 1949 365      24197 1       bdoor01   2      \n",
       "2 700.3-1 Medium Gift Set (ABB) 1949 365      24197 1       bdoor01  15      \n",
       "3 700.3-1 Medium Gift Set (ABB) 1949 365      24197 1       bdoor01   4      \n",
       "4 700.3-1 Medium Gift Set (ABB) 1949 365      24197 1       bslot02  15      \n",
       "5 700.3-1 Medium Gift Set (ABB) 1949 365      24197 1       bslot02   2      \n",
       "6 700.3-1 Medium Gift Set (ABB) 1949 365      24197 1       bslot02   4      \n",
       "  quantity\n",
       "1 2       \n",
       "2 1       \n",
       "3 1       \n",
       "4 6       \n",
       "5 6       \n",
       "6 6       "
      ]
     },
     "metadata": {},
     "output_type": "display_data"
    }
   ],
   "source": [
    "head(sets %>% inner_join(inventories, by = \"set_num\") %>% \n",
    "     inner_join(inventory_parts, by = c(\"id\"=\"inventory_id\"))\n",
    "    \n",
    "    )"
   ]
  },
  {
   "cell_type": "markdown",
   "metadata": {},
   "source": [
    "#### 1.3.2) What's the most common color?\n",
    "Now let's join an additional table, colors, which will tell us the color of each part in each set, so that we can answer the question, \"what is the most common color of a LEGO piece?\"\n",
    "\n",
    "**Exercise**\n",
    "- Inner join the colors table using the color_id column from the previous join and the id column from colors; use the suffixes \"_set\" and \"_color\".\n",
    "- \n",
    "\n",
    "*Answer*"
   ]
  },
  {
   "cell_type": "code",
   "execution_count": 13,
   "metadata": {},
   "outputs": [
    {
     "data": {
      "text/html": [
       "<table>\n",
       "<thead><tr><th scope=col>set_num</th><th scope=col>name_set</th><th scope=col>year</th><th scope=col>theme_id</th><th scope=col>id</th><th scope=col>version</th><th scope=col>part_num</th><th scope=col>color_id</th><th scope=col>quantity</th><th scope=col>name_color</th><th scope=col>rgb</th></tr></thead>\n",
       "<tbody>\n",
       "\t<tr><td>700.3-1              </td><td>Medium Gift Set (ABB)</td><td>1949                 </td><td>365                  </td><td>24197                </td><td>1                    </td><td>bdoor01              </td><td> 2                   </td><td>2                    </td><td>Green                </td><td>#237841              </td></tr>\n",
       "\t<tr><td>700.3-1              </td><td>Medium Gift Set (ABB)</td><td>1949                 </td><td>365                  </td><td>24197                </td><td>1                    </td><td>bdoor01              </td><td>15                   </td><td>1                    </td><td>White                </td><td>#FFFFFF              </td></tr>\n",
       "\t<tr><td>700.3-1              </td><td>Medium Gift Set (ABB)</td><td>1949                 </td><td>365                  </td><td>24197                </td><td>1                    </td><td>bdoor01              </td><td> 4                   </td><td>1                    </td><td>Red                  </td><td>#C91A09              </td></tr>\n",
       "\t<tr><td>700.3-1              </td><td>Medium Gift Set (ABB)</td><td>1949                 </td><td>365                  </td><td>24197                </td><td>1                    </td><td>bslot02              </td><td>15                   </td><td>6                    </td><td>White                </td><td>#FFFFFF              </td></tr>\n",
       "\t<tr><td>700.3-1              </td><td>Medium Gift Set (ABB)</td><td>1949                 </td><td>365                  </td><td>24197                </td><td>1                    </td><td>bslot02              </td><td> 2                   </td><td>6                    </td><td>Green                </td><td>#237841              </td></tr>\n",
       "\t<tr><td>700.3-1              </td><td>Medium Gift Set (ABB)</td><td>1949                 </td><td>365                  </td><td>24197                </td><td>1                    </td><td>bslot02              </td><td> 4                   </td><td>6                    </td><td>Red                  </td><td>#C91A09              </td></tr>\n",
       "</tbody>\n",
       "</table>\n"
      ],
      "text/latex": [
       "\\begin{tabular}{r|lllllllllll}\n",
       " set\\_num & name\\_set & year & theme\\_id & id & version & part\\_num & color\\_id & quantity & name\\_color & rgb\\\\\n",
       "\\hline\n",
       "\t 700.3-1               & Medium Gift Set (ABB) & 1949                  & 365                   & 24197                 & 1                     & bdoor01               &  2                    & 2                     & Green                 & \\#237841            \\\\\n",
       "\t 700.3-1               & Medium Gift Set (ABB) & 1949                  & 365                   & 24197                 & 1                     & bdoor01               & 15                    & 1                     & White                 & \\#FFFFFF            \\\\\n",
       "\t 700.3-1               & Medium Gift Set (ABB) & 1949                  & 365                   & 24197                 & 1                     & bdoor01               &  4                    & 1                     & Red                   & \\#C91A09            \\\\\n",
       "\t 700.3-1               & Medium Gift Set (ABB) & 1949                  & 365                   & 24197                 & 1                     & bslot02               & 15                    & 6                     & White                 & \\#FFFFFF            \\\\\n",
       "\t 700.3-1               & Medium Gift Set (ABB) & 1949                  & 365                   & 24197                 & 1                     & bslot02               &  2                    & 6                     & Green                 & \\#237841            \\\\\n",
       "\t 700.3-1               & Medium Gift Set (ABB) & 1949                  & 365                   & 24197                 & 1                     & bslot02               &  4                    & 6                     & Red                   & \\#C91A09            \\\\\n",
       "\\end{tabular}\n"
      ],
      "text/markdown": [
       "\n",
       "set_num | name_set | year | theme_id | id | version | part_num | color_id | quantity | name_color | rgb | \n",
       "|---|---|---|---|---|---|\n",
       "| 700.3-1               | Medium Gift Set (ABB) | 1949                  | 365                   | 24197                 | 1                     | bdoor01               |  2                    | 2                     | Green                 | #237841               | \n",
       "| 700.3-1               | Medium Gift Set (ABB) | 1949                  | 365                   | 24197                 | 1                     | bdoor01               | 15                    | 1                     | White                 | #FFFFFF               | \n",
       "| 700.3-1               | Medium Gift Set (ABB) | 1949                  | 365                   | 24197                 | 1                     | bdoor01               |  4                    | 1                     | Red                   | #C91A09               | \n",
       "| 700.3-1               | Medium Gift Set (ABB) | 1949                  | 365                   | 24197                 | 1                     | bslot02               | 15                    | 6                     | White                 | #FFFFFF               | \n",
       "| 700.3-1               | Medium Gift Set (ABB) | 1949                  | 365                   | 24197                 | 1                     | bslot02               |  2                    | 6                     | Green                 | #237841               | \n",
       "| 700.3-1               | Medium Gift Set (ABB) | 1949                  | 365                   | 24197                 | 1                     | bslot02               |  4                    | 6                     | Red                   | #C91A09               | \n",
       "\n",
       "\n"
      ],
      "text/plain": [
       "  set_num name_set              year theme_id id    version part_num color_id\n",
       "1 700.3-1 Medium Gift Set (ABB) 1949 365      24197 1       bdoor01   2      \n",
       "2 700.3-1 Medium Gift Set (ABB) 1949 365      24197 1       bdoor01  15      \n",
       "3 700.3-1 Medium Gift Set (ABB) 1949 365      24197 1       bdoor01   4      \n",
       "4 700.3-1 Medium Gift Set (ABB) 1949 365      24197 1       bslot02  15      \n",
       "5 700.3-1 Medium Gift Set (ABB) 1949 365      24197 1       bslot02   2      \n",
       "6 700.3-1 Medium Gift Set (ABB) 1949 365      24197 1       bslot02   4      \n",
       "  quantity name_color rgb    \n",
       "1 2        Green      #237841\n",
       "2 1        White      #FFFFFF\n",
       "3 1        Red        #C91A09\n",
       "4 6        White      #FFFFFF\n",
       "5 6        Green      #237841\n",
       "6 6        Red        #C91A09"
      ]
     },
     "metadata": {},
     "output_type": "display_data"
    },
    {
     "data": {
      "text/html": [
       "<table>\n",
       "<thead><tr><th scope=col>name_color</th><th scope=col>n</th></tr></thead>\n",
       "<tbody>\n",
       "\t<tr><td>Black            </td><td>48068            </td></tr>\n",
       "\t<tr><td>White            </td><td>30105            </td></tr>\n",
       "\t<tr><td>Light Bluish Gray</td><td>26024            </td></tr>\n",
       "\t<tr><td>Red              </td><td>21602            </td></tr>\n",
       "\t<tr><td>Dark Bluish Gray </td><td>19948            </td></tr>\n",
       "\t<tr><td>Yellow           </td><td>17088            </td></tr>\n",
       "</tbody>\n",
       "</table>\n"
      ],
      "text/latex": [
       "\\begin{tabular}{r|ll}\n",
       " name\\_color & n\\\\\n",
       "\\hline\n",
       "\t Black             & 48068            \\\\\n",
       "\t White             & 30105            \\\\\n",
       "\t Light Bluish Gray & 26024            \\\\\n",
       "\t Red               & 21602            \\\\\n",
       "\t Dark Bluish Gray  & 19948            \\\\\n",
       "\t Yellow            & 17088            \\\\\n",
       "\\end{tabular}\n"
      ],
      "text/markdown": [
       "\n",
       "name_color | n | \n",
       "|---|---|---|---|---|---|\n",
       "| Black             | 48068             | \n",
       "| White             | 30105             | \n",
       "| Light Bluish Gray | 26024             | \n",
       "| Red               | 21602             | \n",
       "| Dark Bluish Gray  | 19948             | \n",
       "| Yellow            | 17088             | \n",
       "\n",
       "\n"
      ],
      "text/plain": [
       "  name_color        n    \n",
       "1 Black             48068\n",
       "2 White             30105\n",
       "3 Light Bluish Gray 26024\n",
       "4 Red               21602\n",
       "5 Dark Bluish Gray  19948\n",
       "6 Yellow            17088"
      ]
     },
     "metadata": {},
     "output_type": "display_data"
    }
   ],
   "source": [
    "\n",
    "head(\n",
    "sets %>%\n",
    "inner_join(inventories, by = \"set_num\") %>%\n",
    "inner_join(inventory_parts, by = c(\"id\" = \"inventory_id\")) %>%\n",
    "inner_join(colors, by = c(\"color_id\" = \"id\"), suffix = c(\"_set\", \"_color\"))\n",
    ")\n",
    "\n",
    "\n",
    "head(sets %>%\n",
    "inner_join(inventories, by = \"set_num\") %>%\n",
    "inner_join(inventory_parts, by = c(\"id\" = \"inventory_id\")) %>%\n",
    "inner_join(colors, by = c(\"color_id\" = \"id\"), suffix = c(\"_set\", \"_color\")) %>% count(name_color, sort = TRUE)\n",
    ")"
   ]
  },
  {
   "cell_type": "markdown",
   "metadata": {},
   "source": [
    "## 2) Left and Right Joins\n",
    "Learn two more mutating joins, the left and right join, which are mirror images of each other! You'll learn use cases for each type of join as you explore parts and colors of LEGO themes. Then, you'll explore how to join tables to themselves to understand the hierarchy of LEGO themes in the data\n",
    "\n",
    "### 2.1) (video) The left_join verb\n",
    "you have learned how can join two table , but maybe you have noticed that this kind of join only return value that are available into the two tables and the same time, so if we want to have the values that joined and the same time the values which aren't in one of them, we need other type of join.\n",
    "\n",
    "#### 2.1.1)Left joining two sets by part and color\n",
    "**Exercise**\n",
    "- Combine the star_destroyer and millennium_falcon tables with the suffixes _falcon and _star_destroyer\n",
    "\n",
    "*Answer*"
   ]
  },
  {
   "cell_type": "code",
   "execution_count": 6,
   "metadata": {},
   "outputs": [],
   "source": [
    "inventory_parts_joined <- inventories %>% inner_join(inventory_parts, by = c(\"id\"=\"inventory_id\")) %>% \n",
    "select(-id,-version) %>%\n",
    "arrange(desc(quantity))"
   ]
  },
  {
   "cell_type": "code",
   "execution_count": 7,
   "metadata": {},
   "outputs": [],
   "source": [
    "millennium_falcon <- inventory_parts_joined %>%\n",
    "  filter(set_num == \"7965-1\")\n",
    "\n",
    "star_destroyer <- inventory_parts_joined %>%\n",
    "  filter(set_num == \"75190-1\")\n"
   ]
  },
  {
   "cell_type": "code",
   "execution_count": 9,
   "metadata": {},
   "outputs": [
    {
     "data": {
      "text/html": [
       "<table>\n",
       "<thead><tr><th scope=col>set_num_falcon</th><th scope=col>part_num</th><th scope=col>color_id</th><th scope=col>quantity_falcon</th><th scope=col>set_num_star_destroyer</th><th scope=col>quantity_star_destroyer</th></tr></thead>\n",
       "<tbody>\n",
       "\t<tr><td>7965-1 </td><td>63868  </td><td>71     </td><td>62     </td><td>NA     </td><td>NA     </td></tr>\n",
       "\t<tr><td>7965-1 </td><td>3023   </td><td> 0     </td><td>60     </td><td>NA     </td><td>NA     </td></tr>\n",
       "\t<tr><td>7965-1 </td><td>3021   </td><td>72     </td><td>46     </td><td>75190-1</td><td> 6     </td></tr>\n",
       "\t<tr><td>7965-1 </td><td>2780   </td><td> 0     </td><td>37     </td><td>75190-1</td><td>36     </td></tr>\n",
       "\t<tr><td>7965-1 </td><td>60478  </td><td>72     </td><td>36     </td><td>NA     </td><td>NA     </td></tr>\n",
       "\t<tr><td>7965-1 </td><td>6636   </td><td>71     </td><td>34     </td><td>75190-1</td><td> 2     </td></tr>\n",
       "\t<tr><td>7965-1 </td><td>3009   </td><td>71     </td><td>28     </td><td>75190-1</td><td> 2     </td></tr>\n",
       "\t<tr><td>7965-1 </td><td>3665   </td><td>71     </td><td>22     </td><td>NA     </td><td>NA     </td></tr>\n",
       "\t<tr><td>7965-1 </td><td>2412b  </td><td>72     </td><td>20     </td><td>75190-1</td><td>11     </td></tr>\n",
       "\t<tr><td>7965-1 </td><td>3010   </td><td>71     </td><td>19     </td><td>NA     </td><td>NA     </td></tr>\n",
       "\t<tr><td>7965-1 </td><td>3004   </td><td>71     </td><td>18     </td><td>NA     </td><td>NA     </td></tr>\n",
       "\t<tr><td>7965-1 </td><td>3022   </td><td>19     </td><td>17     </td><td>NA     </td><td>NA     </td></tr>\n",
       "\t<tr><td>7965-1 </td><td>3795   </td><td>72     </td><td>17     </td><td>75190-1</td><td>11     </td></tr>\n",
       "\t<tr><td>7965-1 </td><td>3678b  </td><td>71     </td><td>16     </td><td>NA     </td><td>NA     </td></tr>\n",
       "\t<tr><td>7965-1 </td><td>2456   </td><td>71     </td><td>14     </td><td>NA     </td><td>NA     </td></tr>\n",
       "\t<tr><td>7965-1 </td><td>3020   </td><td>72     </td><td>14     </td><td>75190-1</td><td> 1     </td></tr>\n",
       "\t<tr><td>7965-1 </td><td>50950  </td><td>71     </td><td>14     </td><td>NA     </td><td>NA     </td></tr>\n",
       "\t<tr><td>7965-1 </td><td>92099  </td><td>72     </td><td>14     </td><td>NA     </td><td>NA     </td></tr>\n",
       "\t<tr><td>7965-1 </td><td>3023   </td><td>19     </td><td>13     </td><td>NA     </td><td>NA     </td></tr>\n",
       "\t<tr><td>7965-1 </td><td>44728  </td><td> 0     </td><td>13     </td><td>NA     </td><td>NA     </td></tr>\n",
       "\t<tr><td>7965-1 </td><td>6141   </td><td>19     </td><td>13     </td><td>NA     </td><td>NA     </td></tr>\n",
       "\t<tr><td>7965-1 </td><td>6249   </td><td>72     </td><td>13     </td><td>NA     </td><td>NA     </td></tr>\n",
       "\t<tr><td>7965-1 </td><td>47397  </td><td>71     </td><td>12     </td><td>NA     </td><td>NA     </td></tr>\n",
       "\t<tr><td>7965-1 </td><td>47398  </td><td>71     </td><td>12     </td><td>NA     </td><td>NA     </td></tr>\n",
       "\t<tr><td>7965-1 </td><td>3895   </td><td>71     </td><td>11     </td><td>NA     </td><td>NA     </td></tr>\n",
       "\t<tr><td>7965-1 </td><td>63864  </td><td>71     </td><td>10     </td><td>75190-1</td><td>16     </td></tr>\n",
       "\t<tr><td>7965-1 </td><td>3002   </td><td>71     </td><td> 9     </td><td>NA     </td><td>NA     </td></tr>\n",
       "\t<tr><td>7965-1 </td><td>3069b  </td><td>71     </td><td> 9     </td><td>NA     </td><td>NA     </td></tr>\n",
       "\t<tr><td>7965-1 </td><td>3666   </td><td>72     </td><td> 9     </td><td>NA     </td><td>NA     </td></tr>\n",
       "\t<tr><td>7965-1 </td><td>3700   </td><td>71     </td><td> 9     </td><td>NA     </td><td>NA     </td></tr>\n",
       "\t<tr><td>...</td><td>...</td><td>...</td><td>...</td><td>...</td><td>...</td></tr>\n",
       "\t<tr><td>7965-1       </td><td>50231        </td><td>  0          </td><td>1            </td><td>NA           </td><td>NA           </td></tr>\n",
       "\t<tr><td>7965-1       </td><td>51739        </td><td> 72          </td><td>1            </td><td>NA           </td><td>NA           </td></tr>\n",
       "\t<tr><td>7965-1       </td><td>59349        </td><td> 72          </td><td>1            </td><td>NA           </td><td>NA           </td></tr>\n",
       "\t<tr><td>7965-1       </td><td>60479        </td><td> 71          </td><td>1            </td><td>75190-1      </td><td>13           </td></tr>\n",
       "\t<tr><td>7965-1       </td><td>6106         </td><td> 71          </td><td>1            </td><td>NA           </td><td>NA           </td></tr>\n",
       "\t<tr><td>7965-1       </td><td>6134         </td><td>  4          </td><td>1            </td><td>NA           </td><td>NA           </td></tr>\n",
       "\t<tr><td>7965-1       </td><td>6141         </td><td> 47          </td><td>1            </td><td>NA           </td><td>NA           </td></tr>\n",
       "\t<tr><td>7965-1       </td><td>6141         </td><td> 41          </td><td>1            </td><td>75190-1      </td><td> 3           </td></tr>\n",
       "\t<tr><td>7965-1       </td><td>61485        </td><td>  0          </td><td>1            </td><td>NA           </td><td>NA           </td></tr>\n",
       "\t<tr><td>7965-1       </td><td>61780        </td><td> 72          </td><td>1            </td><td>NA           </td><td>NA           </td></tr>\n",
       "\t<tr><td>7965-1       </td><td>78c19        </td><td> 41          </td><td>1            </td><td>NA           </td><td>NA           </td></tr>\n",
       "\t<tr><td>7965-1       </td><td>86208        </td><td> 71          </td><td>1            </td><td>NA           </td><td>NA           </td></tr>\n",
       "\t<tr><td>7965-1       </td><td>87081        </td><td>  0          </td><td>1            </td><td>NA           </td><td>NA           </td></tr>\n",
       "\t<tr><td>7965-1       </td><td>87544        </td><td> 71          </td><td>1            </td><td>NA           </td><td>NA           </td></tr>\n",
       "\t<tr><td>7965-1       </td><td>87609        </td><td> 15          </td><td>1            </td><td>NA           </td><td>NA           </td></tr>\n",
       "\t<tr><td>7965-1       </td><td>92593        </td><td> 15          </td><td>1            </td><td>NA           </td><td>NA           </td></tr>\n",
       "\t<tr><td>7965-1       </td><td>92746        </td><td> 19          </td><td>1            </td><td>NA           </td><td>NA           </td></tr>\n",
       "\t<tr><td>7965-1       </td><td>92758        </td><td>308          </td><td>1            </td><td>NA           </td><td>NA           </td></tr>\n",
       "\t<tr><td>7965-1       </td><td>970c00       </td><td> 70          </td><td>1            </td><td>NA           </td><td>NA           </td></tr>\n",
       "\t<tr><td>7965-1       </td><td>970c00       </td><td>  0          </td><td>1            </td><td>75190-1      </td><td> 1           </td></tr>\n",
       "\t<tr><td>7965-1       </td><td>970c00       </td><td> 15          </td><td>1            </td><td>NA           </td><td>NA           </td></tr>\n",
       "\t<tr><td>7965-1       </td><td>970c00       </td><td> 19          </td><td>1            </td><td>NA           </td><td>NA           </td></tr>\n",
       "\t<tr><td>7965-1       </td><td>970c00pr0240 </td><td>272          </td><td>1            </td><td>NA           </td><td>NA           </td></tr>\n",
       "\t<tr><td>7965-1       </td><td>970x001pr0113</td><td> 19          </td><td>1            </td><td>NA           </td><td>NA           </td></tr>\n",
       "\t<tr><td>7965-1       </td><td>973c32       </td><td> 70          </td><td>1            </td><td>NA           </td><td>NA           </td></tr>\n",
       "\t<tr><td>7965-1       </td><td>973pr0510c01 </td><td> 15          </td><td>1            </td><td>NA           </td><td>NA           </td></tr>\n",
       "\t<tr><td>7965-1       </td><td>973pr0530c01 </td><td> 19          </td><td>1            </td><td>NA           </td><td>NA           </td></tr>\n",
       "\t<tr><td>7965-1       </td><td>973pr1331c01 </td><td>  0          </td><td>1            </td><td>NA           </td><td>NA           </td></tr>\n",
       "\t<tr><td>7965-1       </td><td>973pr1332c01 </td><td> 15          </td><td>1            </td><td>NA           </td><td>NA           </td></tr>\n",
       "\t<tr><td>7965-1       </td><td>973pr1469c01 </td><td>  0          </td><td>1            </td><td>NA           </td><td>NA           </td></tr>\n",
       "</tbody>\n",
       "</table>\n"
      ],
      "text/latex": [
       "\\begin{tabular}{r|llllll}\n",
       " set\\_num\\_falcon & part\\_num & color\\_id & quantity\\_falcon & set\\_num\\_star\\_destroyer & quantity\\_star\\_destroyer\\\\\n",
       "\\hline\n",
       "\t 7965-1  & 63868   & 71      & 62      & NA      & NA     \\\\\n",
       "\t 7965-1  & 3023    &  0      & 60      & NA      & NA     \\\\\n",
       "\t 7965-1  & 3021    & 72      & 46      & 75190-1 &  6     \\\\\n",
       "\t 7965-1  & 2780    &  0      & 37      & 75190-1 & 36     \\\\\n",
       "\t 7965-1  & 60478   & 72      & 36      & NA      & NA     \\\\\n",
       "\t 7965-1  & 6636    & 71      & 34      & 75190-1 &  2     \\\\\n",
       "\t 7965-1  & 3009    & 71      & 28      & 75190-1 &  2     \\\\\n",
       "\t 7965-1  & 3665    & 71      & 22      & NA      & NA     \\\\\n",
       "\t 7965-1  & 2412b   & 72      & 20      & 75190-1 & 11     \\\\\n",
       "\t 7965-1  & 3010    & 71      & 19      & NA      & NA     \\\\\n",
       "\t 7965-1  & 3004    & 71      & 18      & NA      & NA     \\\\\n",
       "\t 7965-1  & 3022    & 19      & 17      & NA      & NA     \\\\\n",
       "\t 7965-1  & 3795    & 72      & 17      & 75190-1 & 11     \\\\\n",
       "\t 7965-1  & 3678b   & 71      & 16      & NA      & NA     \\\\\n",
       "\t 7965-1  & 2456    & 71      & 14      & NA      & NA     \\\\\n",
       "\t 7965-1  & 3020    & 72      & 14      & 75190-1 &  1     \\\\\n",
       "\t 7965-1  & 50950   & 71      & 14      & NA      & NA     \\\\\n",
       "\t 7965-1  & 92099   & 72      & 14      & NA      & NA     \\\\\n",
       "\t 7965-1  & 3023    & 19      & 13      & NA      & NA     \\\\\n",
       "\t 7965-1  & 44728   &  0      & 13      & NA      & NA     \\\\\n",
       "\t 7965-1  & 6141    & 19      & 13      & NA      & NA     \\\\\n",
       "\t 7965-1  & 6249    & 72      & 13      & NA      & NA     \\\\\n",
       "\t 7965-1  & 47397   & 71      & 12      & NA      & NA     \\\\\n",
       "\t 7965-1  & 47398   & 71      & 12      & NA      & NA     \\\\\n",
       "\t 7965-1  & 3895    & 71      & 11      & NA      & NA     \\\\\n",
       "\t 7965-1  & 63864   & 71      & 10      & 75190-1 & 16     \\\\\n",
       "\t 7965-1  & 3002    & 71      &  9      & NA      & NA     \\\\\n",
       "\t 7965-1  & 3069b   & 71      &  9      & NA      & NA     \\\\\n",
       "\t 7965-1  & 3666    & 72      &  9      & NA      & NA     \\\\\n",
       "\t 7965-1  & 3700    & 71      &  9      & NA      & NA     \\\\\n",
       "\t ... & ... & ... & ... & ... & ...\\\\\n",
       "\t 7965-1        & 50231         &   0           & 1             & NA            & NA           \\\\\n",
       "\t 7965-1        & 51739         &  72           & 1             & NA            & NA           \\\\\n",
       "\t 7965-1        & 59349         &  72           & 1             & NA            & NA           \\\\\n",
       "\t 7965-1        & 60479         &  71           & 1             & 75190-1       & 13           \\\\\n",
       "\t 7965-1        & 6106          &  71           & 1             & NA            & NA           \\\\\n",
       "\t 7965-1        & 6134          &   4           & 1             & NA            & NA           \\\\\n",
       "\t 7965-1        & 6141          &  47           & 1             & NA            & NA           \\\\\n",
       "\t 7965-1        & 6141          &  41           & 1             & 75190-1       &  3           \\\\\n",
       "\t 7965-1        & 61485         &   0           & 1             & NA            & NA           \\\\\n",
       "\t 7965-1        & 61780         &  72           & 1             & NA            & NA           \\\\\n",
       "\t 7965-1        & 78c19         &  41           & 1             & NA            & NA           \\\\\n",
       "\t 7965-1        & 86208         &  71           & 1             & NA            & NA           \\\\\n",
       "\t 7965-1        & 87081         &   0           & 1             & NA            & NA           \\\\\n",
       "\t 7965-1        & 87544         &  71           & 1             & NA            & NA           \\\\\n",
       "\t 7965-1        & 87609         &  15           & 1             & NA            & NA           \\\\\n",
       "\t 7965-1        & 92593         &  15           & 1             & NA            & NA           \\\\\n",
       "\t 7965-1        & 92746         &  19           & 1             & NA            & NA           \\\\\n",
       "\t 7965-1        & 92758         & 308           & 1             & NA            & NA           \\\\\n",
       "\t 7965-1        & 970c00        &  70           & 1             & NA            & NA           \\\\\n",
       "\t 7965-1        & 970c00        &   0           & 1             & 75190-1       &  1           \\\\\n",
       "\t 7965-1        & 970c00        &  15           & 1             & NA            & NA           \\\\\n",
       "\t 7965-1        & 970c00        &  19           & 1             & NA            & NA           \\\\\n",
       "\t 7965-1        & 970c00pr0240  & 272           & 1             & NA            & NA           \\\\\n",
       "\t 7965-1        & 970x001pr0113 &  19           & 1             & NA            & NA           \\\\\n",
       "\t 7965-1        & 973c32        &  70           & 1             & NA            & NA           \\\\\n",
       "\t 7965-1        & 973pr0510c01  &  15           & 1             & NA            & NA           \\\\\n",
       "\t 7965-1        & 973pr0530c01  &  19           & 1             & NA            & NA           \\\\\n",
       "\t 7965-1        & 973pr1331c01  &   0           & 1             & NA            & NA           \\\\\n",
       "\t 7965-1        & 973pr1332c01  &  15           & 1             & NA            & NA           \\\\\n",
       "\t 7965-1        & 973pr1469c01  &   0           & 1             & NA            & NA           \\\\\n",
       "\\end{tabular}\n"
      ],
      "text/markdown": [
       "\n",
       "set_num_falcon | part_num | color_id | quantity_falcon | set_num_star_destroyer | quantity_star_destroyer | \n",
       "|---|---|---|---|---|---|---|---|---|---|---|---|---|---|---|---|---|---|---|---|---|---|---|---|---|---|---|---|---|---|---|---|---|---|---|---|---|---|---|---|---|---|---|---|---|---|---|---|---|---|---|---|---|---|---|---|---|---|---|---|---|\n",
       "| 7965-1  | 63868   | 71      | 62      | NA      | NA      | \n",
       "| 7965-1  | 3023    |  0      | 60      | NA      | NA      | \n",
       "| 7965-1  | 3021    | 72      | 46      | 75190-1 |  6      | \n",
       "| 7965-1  | 2780    |  0      | 37      | 75190-1 | 36      | \n",
       "| 7965-1  | 60478   | 72      | 36      | NA      | NA      | \n",
       "| 7965-1  | 6636    | 71      | 34      | 75190-1 |  2      | \n",
       "| 7965-1  | 3009    | 71      | 28      | 75190-1 |  2      | \n",
       "| 7965-1  | 3665    | 71      | 22      | NA      | NA      | \n",
       "| 7965-1  | 2412b   | 72      | 20      | 75190-1 | 11      | \n",
       "| 7965-1  | 3010    | 71      | 19      | NA      | NA      | \n",
       "| 7965-1  | 3004    | 71      | 18      | NA      | NA      | \n",
       "| 7965-1  | 3022    | 19      | 17      | NA      | NA      | \n",
       "| 7965-1  | 3795    | 72      | 17      | 75190-1 | 11      | \n",
       "| 7965-1  | 3678b   | 71      | 16      | NA      | NA      | \n",
       "| 7965-1  | 2456    | 71      | 14      | NA      | NA      | \n",
       "| 7965-1  | 3020    | 72      | 14      | 75190-1 |  1      | \n",
       "| 7965-1  | 50950   | 71      | 14      | NA      | NA      | \n",
       "| 7965-1  | 92099   | 72      | 14      | NA      | NA      | \n",
       "| 7965-1  | 3023    | 19      | 13      | NA      | NA      | \n",
       "| 7965-1  | 44728   |  0      | 13      | NA      | NA      | \n",
       "| 7965-1  | 6141    | 19      | 13      | NA      | NA      | \n",
       "| 7965-1  | 6249    | 72      | 13      | NA      | NA      | \n",
       "| 7965-1  | 47397   | 71      | 12      | NA      | NA      | \n",
       "| 7965-1  | 47398   | 71      | 12      | NA      | NA      | \n",
       "| 7965-1  | 3895    | 71      | 11      | NA      | NA      | \n",
       "| 7965-1  | 63864   | 71      | 10      | 75190-1 | 16      | \n",
       "| 7965-1  | 3002    | 71      |  9      | NA      | NA      | \n",
       "| 7965-1  | 3069b   | 71      |  9      | NA      | NA      | \n",
       "| 7965-1  | 3666    | 72      |  9      | NA      | NA      | \n",
       "| 7965-1  | 3700    | 71      |  9      | NA      | NA      | \n",
       "| ... | ... | ... | ... | ... | ... | \n",
       "| 7965-1        | 50231         |   0           | 1             | NA            | NA            | \n",
       "| 7965-1        | 51739         |  72           | 1             | NA            | NA            | \n",
       "| 7965-1        | 59349         |  72           | 1             | NA            | NA            | \n",
       "| 7965-1        | 60479         |  71           | 1             | 75190-1       | 13            | \n",
       "| 7965-1        | 6106          |  71           | 1             | NA            | NA            | \n",
       "| 7965-1        | 6134          |   4           | 1             | NA            | NA            | \n",
       "| 7965-1        | 6141          |  47           | 1             | NA            | NA            | \n",
       "| 7965-1        | 6141          |  41           | 1             | 75190-1       |  3            | \n",
       "| 7965-1        | 61485         |   0           | 1             | NA            | NA            | \n",
       "| 7965-1        | 61780         |  72           | 1             | NA            | NA            | \n",
       "| 7965-1        | 78c19         |  41           | 1             | NA            | NA            | \n",
       "| 7965-1        | 86208         |  71           | 1             | NA            | NA            | \n",
       "| 7965-1        | 87081         |   0           | 1             | NA            | NA            | \n",
       "| 7965-1        | 87544         |  71           | 1             | NA            | NA            | \n",
       "| 7965-1        | 87609         |  15           | 1             | NA            | NA            | \n",
       "| 7965-1        | 92593         |  15           | 1             | NA            | NA            | \n",
       "| 7965-1        | 92746         |  19           | 1             | NA            | NA            | \n",
       "| 7965-1        | 92758         | 308           | 1             | NA            | NA            | \n",
       "| 7965-1        | 970c00        |  70           | 1             | NA            | NA            | \n",
       "| 7965-1        | 970c00        |   0           | 1             | 75190-1       |  1            | \n",
       "| 7965-1        | 970c00        |  15           | 1             | NA            | NA            | \n",
       "| 7965-1        | 970c00        |  19           | 1             | NA            | NA            | \n",
       "| 7965-1        | 970c00pr0240  | 272           | 1             | NA            | NA            | \n",
       "| 7965-1        | 970x001pr0113 |  19           | 1             | NA            | NA            | \n",
       "| 7965-1        | 973c32        |  70           | 1             | NA            | NA            | \n",
       "| 7965-1        | 973pr0510c01  |  15           | 1             | NA            | NA            | \n",
       "| 7965-1        | 973pr0530c01  |  19           | 1             | NA            | NA            | \n",
       "| 7965-1        | 973pr1331c01  |   0           | 1             | NA            | NA            | \n",
       "| 7965-1        | 973pr1332c01  |  15           | 1             | NA            | NA            | \n",
       "| 7965-1        | 973pr1469c01  |   0           | 1             | NA            | NA            | \n",
       "\n",
       "\n"
      ],
      "text/plain": [
       "    set_num_falcon part_num      color_id quantity_falcon\n",
       "1   7965-1         63868         71       62             \n",
       "2   7965-1         3023           0       60             \n",
       "3   7965-1         3021          72       46             \n",
       "4   7965-1         2780           0       37             \n",
       "5   7965-1         60478         72       36             \n",
       "6   7965-1         6636          71       34             \n",
       "7   7965-1         3009          71       28             \n",
       "8   7965-1         3665          71       22             \n",
       "9   7965-1         2412b         72       20             \n",
       "10  7965-1         3010          71       19             \n",
       "11  7965-1         3004          71       18             \n",
       "12  7965-1         3022          19       17             \n",
       "13  7965-1         3795          72       17             \n",
       "14  7965-1         3678b         71       16             \n",
       "15  7965-1         2456          71       14             \n",
       "16  7965-1         3020          72       14             \n",
       "17  7965-1         50950         71       14             \n",
       "18  7965-1         92099         72       14             \n",
       "19  7965-1         3023          19       13             \n",
       "20  7965-1         44728          0       13             \n",
       "21  7965-1         6141          19       13             \n",
       "22  7965-1         6249          72       13             \n",
       "23  7965-1         47397         71       12             \n",
       "24  7965-1         47398         71       12             \n",
       "25  7965-1         3895          71       11             \n",
       "26  7965-1         63864         71       10             \n",
       "27  7965-1         3002          71        9             \n",
       "28  7965-1         3069b         71        9             \n",
       "29  7965-1         3666          72        9             \n",
       "30  7965-1         3700          71        9             \n",
       "... ...            ...           ...      ...            \n",
       "234 7965-1         50231           0      1              \n",
       "235 7965-1         51739          72      1              \n",
       "236 7965-1         59349          72      1              \n",
       "237 7965-1         60479          71      1              \n",
       "238 7965-1         6106           71      1              \n",
       "239 7965-1         6134            4      1              \n",
       "240 7965-1         6141           47      1              \n",
       "241 7965-1         6141           41      1              \n",
       "242 7965-1         61485           0      1              \n",
       "243 7965-1         61780          72      1              \n",
       "244 7965-1         78c19          41      1              \n",
       "245 7965-1         86208          71      1              \n",
       "246 7965-1         87081           0      1              \n",
       "247 7965-1         87544          71      1              \n",
       "248 7965-1         87609          15      1              \n",
       "249 7965-1         92593          15      1              \n",
       "250 7965-1         92746          19      1              \n",
       "251 7965-1         92758         308      1              \n",
       "252 7965-1         970c00         70      1              \n",
       "253 7965-1         970c00          0      1              \n",
       "254 7965-1         970c00         15      1              \n",
       "255 7965-1         970c00         19      1              \n",
       "256 7965-1         970c00pr0240  272      1              \n",
       "257 7965-1         970x001pr0113  19      1              \n",
       "258 7965-1         973c32         70      1              \n",
       "259 7965-1         973pr0510c01   15      1              \n",
       "260 7965-1         973pr0530c01   19      1              \n",
       "261 7965-1         973pr1331c01    0      1              \n",
       "262 7965-1         973pr1332c01   15      1              \n",
       "263 7965-1         973pr1469c01    0      1              \n",
       "    set_num_star_destroyer quantity_star_destroyer\n",
       "1   NA                     NA                     \n",
       "2   NA                     NA                     \n",
       "3   75190-1                 6                     \n",
       "4   75190-1                36                     \n",
       "5   NA                     NA                     \n",
       "6   75190-1                 2                     \n",
       "7   75190-1                 2                     \n",
       "8   NA                     NA                     \n",
       "9   75190-1                11                     \n",
       "10  NA                     NA                     \n",
       "11  NA                     NA                     \n",
       "12  NA                     NA                     \n",
       "13  75190-1                11                     \n",
       "14  NA                     NA                     \n",
       "15  NA                     NA                     \n",
       "16  75190-1                 1                     \n",
       "17  NA                     NA                     \n",
       "18  NA                     NA                     \n",
       "19  NA                     NA                     \n",
       "20  NA                     NA                     \n",
       "21  NA                     NA                     \n",
       "22  NA                     NA                     \n",
       "23  NA                     NA                     \n",
       "24  NA                     NA                     \n",
       "25  NA                     NA                     \n",
       "26  75190-1                16                     \n",
       "27  NA                     NA                     \n",
       "28  NA                     NA                     \n",
       "29  NA                     NA                     \n",
       "30  NA                     NA                     \n",
       "... ...                    ...                    \n",
       "234 NA                     NA                     \n",
       "235 NA                     NA                     \n",
       "236 NA                     NA                     \n",
       "237 75190-1                13                     \n",
       "238 NA                     NA                     \n",
       "239 NA                     NA                     \n",
       "240 NA                     NA                     \n",
       "241 75190-1                 3                     \n",
       "242 NA                     NA                     \n",
       "243 NA                     NA                     \n",
       "244 NA                     NA                     \n",
       "245 NA                     NA                     \n",
       "246 NA                     NA                     \n",
       "247 NA                     NA                     \n",
       "248 NA                     NA                     \n",
       "249 NA                     NA                     \n",
       "250 NA                     NA                     \n",
       "251 NA                     NA                     \n",
       "252 NA                     NA                     \n",
       "253 75190-1                 1                     \n",
       "254 NA                     NA                     \n",
       "255 NA                     NA                     \n",
       "256 NA                     NA                     \n",
       "257 NA                     NA                     \n",
       "258 NA                     NA                     \n",
       "259 NA                     NA                     \n",
       "260 NA                     NA                     \n",
       "261 NA                     NA                     \n",
       "262 NA                     NA                     \n",
       "263 NA                     NA                     "
      ]
     },
     "metadata": {},
     "output_type": "display_data"
    }
   ],
   "source": [
    "# Combine the star_destroyer and millennium_falcon tables\n",
    "head(millennium_falcon %>% \n",
    "left_join(star_destroyer, by = c(\"part_num\",\"color_id\"), \n",
    "suffix = c(\"_falcon\",\"_star_destroyer\"))\n",
    ")\n"
   ]
  },
  {
   "cell_type": "markdown",
   "metadata": {},
   "source": [
    "### 2.3) (video) The right-join verb\n",
    "maybe you will be thinking what happen if instead of keeping the elements from the first table, i would like to keep the elements from the second table, well this is possible and here is when you need other verb of dplyr `right_join`\n",
    "\n",
    "#### 2.3.1) Counting part colors\n",
    "Sometimes you'll want to do some processing before you do a join, and prioritize keeping the the second (right) table's rows instead. In this case, a right join is for you.\n",
    "\n",
    "In the example below, we'll count the part_cat_id from parts, before using a right_join to join with part_categories. The reason we do this is because we don't only want to know the count of part_cat_id in parts, but we also want to know if there are any part_cat_ids not present in part_categories.\n",
    "\n",
    "Note: we will see how to use `replace_na()`\n",
    "\n",
    "**Exercise**\n",
    "- Use the count verb to count each part_cat_id in the parts table.\n",
    "- Use a right_join to join part_categories. You'll need to use the part_cat_id from the count and the id column from part_categories.\n",
    "- filter for where the column n is NA.\n",
    "*Answer*\n"
   ]
  },
  {
   "cell_type": "code",
   "execution_count": 6,
   "metadata": {},
   "outputs": [
    {
     "data": {
      "text/html": [
       "<table>\n",
       "<thead><tr><th scope=col>part_cat_id</th><th scope=col>n</th><th scope=col>name</th></tr></thead>\n",
       "<tbody>\n",
       "\t<tr><td>66     </td><td>NA     </td><td>Modulex</td></tr>\n",
       "</tbody>\n",
       "</table>\n"
      ],
      "text/latex": [
       "\\begin{tabular}{r|lll}\n",
       " part\\_cat\\_id & n & name\\\\\n",
       "\\hline\n",
       "\t 66      & NA      & Modulex\\\\\n",
       "\\end{tabular}\n"
      ],
      "text/markdown": [
       "\n",
       "part_cat_id | n | name | \n",
       "|---|\n",
       "| 66      | NA      | Modulex | \n",
       "\n",
       "\n"
      ],
      "text/plain": [
       "  part_cat_id n  name   \n",
       "1 66          NA Modulex"
      ]
     },
     "metadata": {},
     "output_type": "display_data"
    }
   ],
   "source": [
    "head(\n",
    "parts %>%\n",
    "    count(part_cat_id) %>%\n",
    "    right_join(part_categories, by = c(\"part_cat_id\" = \"id\")) %>%\n",
    "    # Filter for NA\n",
    "    filter(is.na(n) == TRUE)\n",
    ")"
   ]
  },
  {
   "cell_type": "markdown",
   "metadata": {},
   "source": [
    "#### 2.3.2) Cleaning up your count\n",
    "In both left and right joins, there is the opportunity for there to be NA values in the resulting table. Fortunately, the `replace_na` function can turn those NAs into meaningful values.\n",
    "\n",
    "**Exercise**\n",
    "- Use replace_na to replace NAs in the n column with the value 0.\n",
    "\n",
    "*Answer*"
   ]
  },
  {
   "cell_type": "code",
   "execution_count": 13,
   "metadata": {},
   "outputs": [
    {
     "data": {
      "text/html": [
       "<table>\n",
       "<thead><tr><th scope=col>part_cat_id</th><th scope=col>n</th><th scope=col>name</th></tr></thead>\n",
       "<tbody>\n",
       "\t<tr><td>1                      </td><td> 135                   </td><td>Baseplates             </td></tr>\n",
       "\t<tr><td>3                      </td><td> 303                   </td><td>Bricks Sloped          </td></tr>\n",
       "\t<tr><td>4                      </td><td>1900                   </td><td>Duplo, Quatro and Primo</td></tr>\n",
       "\t<tr><td>5                      </td><td> 107                   </td><td>Bricks Special         </td></tr>\n",
       "\t<tr><td>6                      </td><td> 128                   </td><td>Bricks Wedged          </td></tr>\n",
       "\t<tr><td>7                      </td><td>  97                   </td><td>Containers             </td></tr>\n",
       "</tbody>\n",
       "</table>\n"
      ],
      "text/latex": [
       "\\begin{tabular}{r|lll}\n",
       " part\\_cat\\_id & n & name\\\\\n",
       "\\hline\n",
       "\t 1                       &  135                    & Baseplates             \\\\\n",
       "\t 3                       &  303                    & Bricks Sloped          \\\\\n",
       "\t 4                       & 1900                    & Duplo, Quatro and Primo\\\\\n",
       "\t 5                       &  107                    & Bricks Special         \\\\\n",
       "\t 6                       &  128                    & Bricks Wedged          \\\\\n",
       "\t 7                       &   97                    & Containers             \\\\\n",
       "\\end{tabular}\n"
      ],
      "text/markdown": [
       "\n",
       "part_cat_id | n | name | \n",
       "|---|---|---|---|---|---|\n",
       "| 1                       |  135                    | Baseplates              | \n",
       "| 3                       |  303                    | Bricks Sloped           | \n",
       "| 4                       | 1900                    | Duplo, Quatro and Primo | \n",
       "| 5                       |  107                    | Bricks Special          | \n",
       "| 6                       |  128                    | Bricks Wedged           | \n",
       "| 7                       |   97                    | Containers              | \n",
       "\n",
       "\n"
      ],
      "text/plain": [
       "  part_cat_id n    name                   \n",
       "1 1            135 Baseplates             \n",
       "2 3            303 Bricks Sloped          \n",
       "3 4           1900 Duplo, Quatro and Primo\n",
       "4 5            107 Bricks Special         \n",
       "5 6            128 Bricks Wedged          \n",
       "6 7             97 Containers             "
      ]
     },
     "metadata": {},
     "output_type": "display_data"
    }
   ],
   "source": [
    "head(parts %>%\n",
    "    count(part_cat_id) %>%\n",
    "    right_join(part_categories, by = c(\"part_cat_id\" = \"id\")) %>%\n",
    "    # Use replace_na to replace missing values in the n column \n",
    "    replace_na(list(n = 0))\n",
    ")"
   ]
  },
  {
   "cell_type": "markdown",
   "metadata": {},
   "source": []
  },
  {
   "cell_type": "markdown",
   "metadata": {},
   "source": [
    "### (video) 2.4)  Joining tables to themselves\n",
    "You have seen how to join two tables, but it is important to know that it is possible to join a table with yourself, it is not very common but it is available, it is special with  the parent-child relationships  e.g:\n",
    "\n",
    "    themes %>% \n",
    "        # Inner join the themes table\n",
    "        inner_join(themes, by = c(\"id\"=\"parent_id\"), suffix = c(\"_parent\",\"_child\")) %>%\n",
    "        # Filter for the \"Harry Potter\" parent name \n",
    "        filter(name_parent == \"Harry Potter\")\n",
    "\n"
   ]
  },
  {
   "cell_type": "markdown",
   "metadata": {},
   "source": [
    "## 3) Full, Semi, and Anti Joins\n",
    "In this chapter, you'll cover three more joining verbs: full-join, semi-join, and anti-join. You'll then use these verbs to answer questions about the similarities and differences between a variety of LEGO sets.\n",
    "\n",
    "### 3.1) (video) The full_join verb\n",
    "until this point you have seen how can use left or right join to keep all information from one table and full the  missing values with `NA` and   the same time if you want you can change them by a specif value with `replace.na from tidyr package` , but now you will learn how to keep all missing value from both tables to do that we use `full_join`\n",
    "\n",
    "#### 3.1.1) Differences between Batman and Star Wars\n",
    "In the video, you compared two sets. Now, you'll compare two themes, each of which is made up of many sets.\n",
    "\n",
    "First, you'll need to join in the themes. Recall that doing so requires going through the sets first. You'll use the inventory_parts_joined table from the video, which is already available to you in the console.\n",
    "\n",
    "**Exercise**\n",
    "- In order to join in the themes, you'll first need to combine the sets and inventory_parts_joined tables.\n",
    "- Then, combine the themes table with your first join, using the suffix argument to clarify which table each name came from (\"_set\" or \"_theme\").\n",
    "\n",
    "*Answer*\n"
   ]
  },
  {
   "cell_type": "code",
   "execution_count": 3,
   "metadata": {},
   "outputs": [],
   "source": [
    "#load:\n",
    "inventory_parts_joined <- inventories %>%\n",
    "  inner_join(inventory_parts, by = c(\"id\" = \"inventory_id\")) %>%\n",
    "  arrange(desc(quantity)) %>%\n",
    "  select(-id, -version)"
   ]
  },
  {
   "cell_type": "code",
   "execution_count": 11,
   "metadata": {},
   "outputs": [
    {
     "data": {
      "text/html": [
       "<table>\n",
       "<thead><tr><th scope=col>set_num</th><th scope=col>part_num</th><th scope=col>color_id</th><th scope=col>quantity</th><th scope=col>name_set</th><th scope=col>year</th><th scope=col>theme_id</th><th scope=col>name_theme</th><th scope=col>parent_id</th></tr></thead>\n",
       "<tbody>\n",
       "\t<tr><td>40179-1                     </td><td>3024                        </td><td>72                          </td><td>900                         </td><td>Personalised Mosaic Portrait</td><td>2016                        </td><td>277                         </td><td>Mosaic                      </td><td>276                         </td></tr>\n",
       "\t<tr><td>40179-1                     </td><td>3024                        </td><td>15                          </td><td>900                         </td><td>Personalised Mosaic Portrait</td><td>2016                        </td><td>277                         </td><td>Mosaic                      </td><td>276                         </td></tr>\n",
       "\t<tr><td>40179-1                     </td><td>3024                        </td><td> 0                          </td><td>900                         </td><td>Personalised Mosaic Portrait</td><td>2016                        </td><td>277                         </td><td>Mosaic                      </td><td>276                         </td></tr>\n",
       "\t<tr><td>40179-1                     </td><td>3024                        </td><td>71                          </td><td>900                         </td><td>Personalised Mosaic Portrait</td><td>2016                        </td><td>277                         </td><td>Mosaic                      </td><td>276                         </td></tr>\n",
       "\t<tr><td>40179-1                     </td><td>3024                        </td><td>14                          </td><td>900                         </td><td>Personalised Mosaic Portrait</td><td>2016                        </td><td>277                         </td><td>Mosaic                      </td><td>276                         </td></tr>\n",
       "\t<tr><td>k34434-1                    </td><td>3024                        </td><td>15                          </td><td>810                         </td><td>Lego Mosaic Tiger           </td><td>2003                        </td><td>277                         </td><td>Mosaic                      </td><td>276                         </td></tr>\n",
       "</tbody>\n",
       "</table>\n"
      ],
      "text/latex": [
       "\\begin{tabular}{r|lllllllll}\n",
       " set\\_num & part\\_num & color\\_id & quantity & name\\_set & year & theme\\_id & name\\_theme & parent\\_id\\\\\n",
       "\\hline\n",
       "\t 40179-1                      & 3024                         & 72                           & 900                          & Personalised Mosaic Portrait & 2016                         & 277                          & Mosaic                       & 276                         \\\\\n",
       "\t 40179-1                      & 3024                         & 15                           & 900                          & Personalised Mosaic Portrait & 2016                         & 277                          & Mosaic                       & 276                         \\\\\n",
       "\t 40179-1                      & 3024                         &  0                           & 900                          & Personalised Mosaic Portrait & 2016                         & 277                          & Mosaic                       & 276                         \\\\\n",
       "\t 40179-1                      & 3024                         & 71                           & 900                          & Personalised Mosaic Portrait & 2016                         & 277                          & Mosaic                       & 276                         \\\\\n",
       "\t 40179-1                      & 3024                         & 14                           & 900                          & Personalised Mosaic Portrait & 2016                         & 277                          & Mosaic                       & 276                         \\\\\n",
       "\t k34434-1                     & 3024                         & 15                           & 810                          & Lego Mosaic Tiger            & 2003                         & 277                          & Mosaic                       & 276                         \\\\\n",
       "\\end{tabular}\n"
      ],
      "text/markdown": [
       "\n",
       "set_num | part_num | color_id | quantity | name_set | year | theme_id | name_theme | parent_id | \n",
       "|---|---|---|---|---|---|\n",
       "| 40179-1                      | 3024                         | 72                           | 900                          | Personalised Mosaic Portrait | 2016                         | 277                          | Mosaic                       | 276                          | \n",
       "| 40179-1                      | 3024                         | 15                           | 900                          | Personalised Mosaic Portrait | 2016                         | 277                          | Mosaic                       | 276                          | \n",
       "| 40179-1                      | 3024                         |  0                           | 900                          | Personalised Mosaic Portrait | 2016                         | 277                          | Mosaic                       | 276                          | \n",
       "| 40179-1                      | 3024                         | 71                           | 900                          | Personalised Mosaic Portrait | 2016                         | 277                          | Mosaic                       | 276                          | \n",
       "| 40179-1                      | 3024                         | 14                           | 900                          | Personalised Mosaic Portrait | 2016                         | 277                          | Mosaic                       | 276                          | \n",
       "| k34434-1                     | 3024                         | 15                           | 810                          | Lego Mosaic Tiger            | 2003                         | 277                          | Mosaic                       | 276                          | \n",
       "\n",
       "\n"
      ],
      "text/plain": [
       "  set_num  part_num color_id quantity name_set                     year\n",
       "1 40179-1  3024     72       900      Personalised Mosaic Portrait 2016\n",
       "2 40179-1  3024     15       900      Personalised Mosaic Portrait 2016\n",
       "3 40179-1  3024      0       900      Personalised Mosaic Portrait 2016\n",
       "4 40179-1  3024     71       900      Personalised Mosaic Portrait 2016\n",
       "5 40179-1  3024     14       900      Personalised Mosaic Portrait 2016\n",
       "6 k34434-1 3024     15       810      Lego Mosaic Tiger            2003\n",
       "  theme_id name_theme parent_id\n",
       "1 277      Mosaic     276      \n",
       "2 277      Mosaic     276      \n",
       "3 277      Mosaic     276      \n",
       "4 277      Mosaic     276      \n",
       "5 277      Mosaic     276      \n",
       "6 277      Mosaic     276      "
      ]
     },
     "metadata": {},
     "output_type": "display_data"
    }
   ],
   "source": [
    "#answer\n",
    "head(\n",
    "inventory_parts_joined %>%\n",
    "  # Combine the sets table with inventory_parts_joined \n",
    "  inner_join(sets, by = c(\"set_num\")) %>% \n",
    "  # Combine the themes table with your first join \n",
    "  inner_join(themes, by = c(\"theme_id\"=\"id\"), suffix = c (\"_set\",\"_theme\"))\n",
    ")\n"
   ]
  },
  {
   "cell_type": "markdown",
   "metadata": {},
   "source": [
    "#### 3.1.2) Aggregating each theme\n",
    "Previously, you combined tables to compare themes. Before doing this comparison, you'll want to aggregate the data to learn more about the pieces that are a part of each theme, as well as the colors of those pieces.\n",
    "\n",
    "The table you created previously has been preloaded for you as inventory_sets_themes. It was filtered for each theme, and the objects have been saved as batman and star_wars\n",
    "\n",
    "**Exercise**\n",
    "- Count the part number and color id for the parts in Batman and Star Wars, weighted by quantity.\n",
    "\n",
    "*Answer*"
   ]
  },
  {
   "cell_type": "code",
   "execution_count": 20,
   "metadata": {},
   "outputs": [],
   "source": [
    "inventory_sets_themes <- inventory_parts_joined %>%\n",
    "  inner_join(sets, by = \"set_num\") %>%\n",
    "  inner_join(themes, by = c(\"theme_id\" = \"id\"), suffix = c(\"_set\", \"_theme\"))\n",
    "\n",
    "batman <- inventory_sets_themes %>%\n",
    "  filter(name_theme == \"Batman\")\n",
    "\n",
    "star_wars <- inventory_sets_themes %>%\n",
    "  filter(name_theme == \"Star Wars\")\n",
    "\n",
    "\n",
    "#batman %>% filter(part_num == 3873,color_id ==0)"
   ]
  },
  {
   "cell_type": "code",
   "execution_count": 21,
   "metadata": {},
   "outputs": [
    {
     "data": {
      "text/html": [
       "<table>\n",
       "<thead><tr><th scope=col>part_num</th><th scope=col>color_id</th><th scope=col>n</th></tr></thead>\n",
       "<tbody>\n",
       "\t<tr><td>10113</td><td>  0  </td><td>11   </td></tr>\n",
       "\t<tr><td>10113</td><td>272  </td><td> 1   </td></tr>\n",
       "\t<tr><td>10113</td><td>320  </td><td> 1   </td></tr>\n",
       "\t<tr><td>10183</td><td> 57  </td><td> 1   </td></tr>\n",
       "\t<tr><td>10190</td><td>  0  </td><td> 2   </td></tr>\n",
       "\t<tr><td>10201</td><td>  0  </td><td> 1   </td></tr>\n",
       "</tbody>\n",
       "</table>\n"
      ],
      "text/latex": [
       "\\begin{tabular}{r|lll}\n",
       " part\\_num & color\\_id & n\\\\\n",
       "\\hline\n",
       "\t 10113 &   0   & 11   \\\\\n",
       "\t 10113 & 272   &  1   \\\\\n",
       "\t 10113 & 320   &  1   \\\\\n",
       "\t 10183 &  57   &  1   \\\\\n",
       "\t 10190 &   0   &  2   \\\\\n",
       "\t 10201 &   0   &  1   \\\\\n",
       "\\end{tabular}\n"
      ],
      "text/markdown": [
       "\n",
       "part_num | color_id | n | \n",
       "|---|---|---|---|---|---|\n",
       "| 10113 |   0   | 11    | \n",
       "| 10113 | 272   |  1    | \n",
       "| 10113 | 320   |  1    | \n",
       "| 10183 |  57   |  1    | \n",
       "| 10190 |   0   |  2    | \n",
       "| 10201 |   0   |  1    | \n",
       "\n",
       "\n"
      ],
      "text/plain": [
       "  part_num color_id n \n",
       "1 10113      0      11\n",
       "2 10113    272       1\n",
       "3 10113    320       1\n",
       "4 10183     57       1\n",
       "5 10190      0       2\n",
       "6 10201      0       1"
      ]
     },
     "metadata": {},
     "output_type": "display_data"
    }
   ],
   "source": [
    "# Count the part number and color id, weight by quantity\n",
    "head(\n",
    "batman %>% count(part_num,color_id , wt = quantity) \n",
    ")\n",
    "\n",
    "#star_wars %>% count(part_num,color_id , wt = quantity) "
   ]
  },
  {
   "cell_type": "markdown",
   "metadata": {},
   "source": [
    "#### 3.1.3) Full-joining Batman and Star Wars LEGO parts\n",
    "Now that you've got separate tables for the pieces in the batman and star_wars themes, you'll want to be able to combine them to see any similarities or differences between the two themes. The aggregating from the last exercise has been saved as batman_parts and star_wars_parts, and is preloaded for you.\n",
    "\n",
    "**Exercise**\n",
    "- Combine the star_wars_parts table with the batman_parts table; use the suffix argument to include the \"_batman\" and \"_star_wars\" suffixes.\n",
    "- Replace all the NA values in the n_batman and n_star_wars columns with 0s.\n",
    "\n",
    "*Answer*"
   ]
  },
  {
   "cell_type": "code",
   "execution_count": 22,
   "metadata": {},
   "outputs": [],
   "source": [
    "batman_parts <- batman %>%\n",
    "  count(part_num, color_id, wt = quantity)\n",
    "\n",
    "star_wars_parts <- star_wars %>%\n",
    "  count(part_num, color_id, wt = quantity)"
   ]
  },
  {
   "cell_type": "code",
   "execution_count": 24,
   "metadata": {},
   "outputs": [
    {
     "data": {
      "text/html": [
       "<table>\n",
       "<thead><tr><th scope=col>part_num</th><th scope=col>color_id</th><th scope=col>n_batman</th><th scope=col>n_star_wars</th></tr></thead>\n",
       "<tbody>\n",
       "\t<tr><td>10113</td><td>  0  </td><td>11   </td><td> 0   </td></tr>\n",
       "\t<tr><td>10113</td><td>272  </td><td> 1   </td><td> 0   </td></tr>\n",
       "\t<tr><td>10113</td><td>320  </td><td> 1   </td><td> 0   </td></tr>\n",
       "\t<tr><td>10183</td><td> 57  </td><td> 1   </td><td> 0   </td></tr>\n",
       "\t<tr><td>10190</td><td>  0  </td><td> 2   </td><td> 0   </td></tr>\n",
       "\t<tr><td>10201</td><td>  0  </td><td> 1   </td><td>21   </td></tr>\n",
       "</tbody>\n",
       "</table>\n"
      ],
      "text/latex": [
       "\\begin{tabular}{r|llll}\n",
       " part\\_num & color\\_id & n\\_batman & n\\_star\\_wars\\\\\n",
       "\\hline\n",
       "\t 10113 &   0   & 11    &  0   \\\\\n",
       "\t 10113 & 272   &  1    &  0   \\\\\n",
       "\t 10113 & 320   &  1    &  0   \\\\\n",
       "\t 10183 &  57   &  1    &  0   \\\\\n",
       "\t 10190 &   0   &  2    &  0   \\\\\n",
       "\t 10201 &   0   &  1    & 21   \\\\\n",
       "\\end{tabular}\n"
      ],
      "text/markdown": [
       "\n",
       "part_num | color_id | n_batman | n_star_wars | \n",
       "|---|---|---|---|---|---|\n",
       "| 10113 |   0   | 11    |  0    | \n",
       "| 10113 | 272   |  1    |  0    | \n",
       "| 10113 | 320   |  1    |  0    | \n",
       "| 10183 |  57   |  1    |  0    | \n",
       "| 10190 |   0   |  2    |  0    | \n",
       "| 10201 |   0   |  1    | 21    | \n",
       "\n",
       "\n"
      ],
      "text/plain": [
       "  part_num color_id n_batman n_star_wars\n",
       "1 10113      0      11        0         \n",
       "2 10113    272       1        0         \n",
       "3 10113    320       1        0         \n",
       "4 10183     57       1        0         \n",
       "5 10190      0       2        0         \n",
       "6 10201      0       1       21         "
      ]
     },
     "metadata": {},
     "output_type": "display_data"
    }
   ],
   "source": [
    "head(\n",
    "batman_parts %>%\n",
    "  # Combine the star_wars_parts table \n",
    "  full_join(star_wars_parts, by = c(\"part_num\",\"color_id\"), \n",
    "  suffix= c(\"_batman\",\"_star_wars\")) %>%\n",
    "  # Replace NAs with 0s in the n_batman and n_star_wars columns \n",
    "  replace_na(list(n_batman =0, n_star_wars = 0))\n",
    "\n",
    ")"
   ]
  },
  {
   "cell_type": "markdown",
   "metadata": {},
   "source": [
    "### 3.2) (video) The semi- and anti-join verbs\n",
    "now let's introduce a new class of join verbs, the `filtering joins`  this keeps or removes observations from the first table, but doesn't add new variables, there are:\n",
    "\n",
    "- `semi_join` :  ask ... what observations in X(first table) are also in Y?\n",
    "- `anti_join`:  ask..what observations in X are not in Y?\n",
    "\n",
    "#### 3.2.1) omething within one set but not another\n",
    "In the videos, you learned how to filter using the semi- and anti-join verbs to answer questions you have about your data. Let's focus on the batwing dataset, and use our skills to determine which parts are in both the batwing and batmobile sets, and which sets are in one, but not the other. While answering these questions, we'll also be determining whether or not the parts we're looking at in both sets also have the same color in common.\n",
    "\n",
    "The batmobile and batwing datasets have been preloaded for you.\n",
    "\n",
    "**Exercise**\n",
    "- Filter the batwing set for parts that are also in the batmobile, whether or not they have the same color.\n",
    "- Filter the batwing set for parts that aren't also in the batmobile, whether or not they have the same color.\n",
    "\n",
    "*Answer*\n"
   ]
  },
  {
   "cell_type": "code",
   "execution_count": 4,
   "metadata": {},
   "outputs": [],
   "source": [
    "#load\n",
    "inventory_parts_joined <- inventories %>%\n",
    "  inner_join(inventory_parts, by = c(\"id\" = \"inventory_id\")) %>%\n",
    "  arrange(desc(quantity)) %>%\n",
    "  select(-id, -version)\n",
    "\n",
    "batmobile <- inventory_parts_joined %>%\n",
    "  filter(set_num == \"7784-1\") %>%\n",
    "  select(-set_num)\n",
    "\n",
    "batwing <- inventory_parts_joined %>%\n",
    "  filter(set_num == \"70916-1\") %>%\n",
    "  select(-set_num)"
   ]
  },
  {
   "cell_type": "code",
   "execution_count": 7,
   "metadata": {},
   "outputs": [
    {
     "data": {
      "text/html": [
       "<table>\n",
       "<thead><tr><th scope=col>part_num</th><th scope=col>color_id</th><th scope=col>quantity</th></tr></thead>\n",
       "<tbody>\n",
       "\t<tr><td>3023</td><td>0   </td><td>22  </td></tr>\n",
       "\t<tr><td>3024</td><td>0   </td><td>22  </td></tr>\n",
       "\t<tr><td>3623</td><td>0   </td><td>20  </td></tr>\n",
       "\t<tr><td>2780</td><td>0   </td><td>17  </td></tr>\n",
       "\t<tr><td>3666</td><td>0   </td><td>16  </td></tr>\n",
       "\t<tr><td>3710</td><td>0   </td><td>14  </td></tr>\n",
       "</tbody>\n",
       "</table>\n"
      ],
      "text/latex": [
       "\\begin{tabular}{r|lll}\n",
       " part\\_num & color\\_id & quantity\\\\\n",
       "\\hline\n",
       "\t 3023 & 0    & 22  \\\\\n",
       "\t 3024 & 0    & 22  \\\\\n",
       "\t 3623 & 0    & 20  \\\\\n",
       "\t 2780 & 0    & 17  \\\\\n",
       "\t 3666 & 0    & 16  \\\\\n",
       "\t 3710 & 0    & 14  \\\\\n",
       "\\end{tabular}\n"
      ],
      "text/markdown": [
       "\n",
       "part_num | color_id | quantity | \n",
       "|---|---|---|---|---|---|\n",
       "| 3023 | 0    | 22   | \n",
       "| 3024 | 0    | 22   | \n",
       "| 3623 | 0    | 20   | \n",
       "| 2780 | 0    | 17   | \n",
       "| 3666 | 0    | 16   | \n",
       "| 3710 | 0    | 14   | \n",
       "\n",
       "\n"
      ],
      "text/plain": [
       "  part_num color_id quantity\n",
       "1 3023     0        22      \n",
       "2 3024     0        22      \n",
       "3 3623     0        20      \n",
       "4 2780     0        17      \n",
       "5 3666     0        16      \n",
       "6 3710     0        14      "
      ]
     },
     "metadata": {},
     "output_type": "display_data"
    },
    {
     "data": {
      "text/html": [
       "<table>\n",
       "<thead><tr><th scope=col>part_num</th><th scope=col>color_id</th><th scope=col>quantity</th></tr></thead>\n",
       "<tbody>\n",
       "\t<tr><td>11477</td><td> 0   </td><td>18   </td></tr>\n",
       "\t<tr><td>99207</td><td>71   </td><td>18   </td></tr>\n",
       "\t<tr><td>22385</td><td> 0   </td><td>14   </td></tr>\n",
       "\t<tr><td>99563</td><td> 0   </td><td>13   </td></tr>\n",
       "\t<tr><td>10247</td><td>72   </td><td>12   </td></tr>\n",
       "\t<tr><td>2877 </td><td>72   </td><td>12   </td></tr>\n",
       "</tbody>\n",
       "</table>\n"
      ],
      "text/latex": [
       "\\begin{tabular}{r|lll}\n",
       " part\\_num & color\\_id & quantity\\\\\n",
       "\\hline\n",
       "\t 11477 &  0    & 18   \\\\\n",
       "\t 99207 & 71    & 18   \\\\\n",
       "\t 22385 &  0    & 14   \\\\\n",
       "\t 99563 &  0    & 13   \\\\\n",
       "\t 10247 & 72    & 12   \\\\\n",
       "\t 2877  & 72    & 12   \\\\\n",
       "\\end{tabular}\n"
      ],
      "text/markdown": [
       "\n",
       "part_num | color_id | quantity | \n",
       "|---|---|---|---|---|---|\n",
       "| 11477 |  0    | 18    | \n",
       "| 99207 | 71    | 18    | \n",
       "| 22385 |  0    | 14    | \n",
       "| 99563 |  0    | 13    | \n",
       "| 10247 | 72    | 12    | \n",
       "| 2877  | 72    | 12    | \n",
       "\n",
       "\n"
      ],
      "text/plain": [
       "  part_num color_id quantity\n",
       "1 11477     0       18      \n",
       "2 99207    71       18      \n",
       "3 22385     0       14      \n",
       "4 99563     0       13      \n",
       "5 10247    72       12      \n",
       "6 2877     72       12      "
      ]
     },
     "metadata": {},
     "output_type": "display_data"
    }
   ],
   "source": [
    "# Filter the batwing set for parts that are also in the batmobile set\n",
    "head(\n",
    "batwing %>% semi_join(batmobile, by = c(\"part_num\"))\n",
    ")\n",
    "\n",
    "# Filter the batwing set for parts that aren't in the batmobile set\n",
    "head(\n",
    "batwing %>% anti_join(batmobile, by = c(\"part_num\"))\n",
    ")"
   ]
  },
  {
   "cell_type": "markdown",
   "metadata": {},
   "source": [
    "### 3.3 (video)Visualizing set differences\n",
    "You have already seen how to join or filter through unions, it is important to know that all these are your first steps to analyze your data, because you can manipulate them to create visualizations that help you understand your data. eg"
   ]
  },
  {
   "cell_type": "code",
   "execution_count": 19,
   "metadata": {},
   "outputs": [
    {
     "name": "stderr",
     "output_type": "stream",
     "text": [
      "Warning message:\n",
      "\"Removed 1 rows containing missing values (position_stack).\""
     ]
    },
    {
     "data": {},
     "metadata": {},
     "output_type": "display_data"
    },
    {
     "data": {
      "image/png": "[encoded data removed]",
      "text/plain": [
       "plot without title"
      ]
     },
     "metadata": {},
     "output_type": "display_data"
    }
   ],
   "source": [
    "# load our data \n",
    "inventory_parts_themes <- inventories %>%\n",
    "  inner_join(inventory_parts, by = c(\"id\" = \"inventory_id\")) %>%\n",
    "  arrange(desc(quantity)) %>%\n",
    "  select(-id, -version) %>%\n",
    "  inner_join(sets, by = \"set_num\") %>%\n",
    "  inner_join(themes, by = c(\"theme_id\" = \"id\"), suffix = c(\"_set\", \"_theme\"))\n",
    "\n",
    "    #  Filter and aggregate the Batman and Star Wars set data\n",
    "    batman_colors <- inventory_parts_themes %>%\n",
    "      # Filter the inventory_parts_themes table for the Batman theme\n",
    "      filter( name_theme==\"Batman\") %>%\n",
    "      group_by(color_id) %>%\n",
    "      summarize(total = sum(quantity)) %>%\n",
    "      # Add a percent column of the total divided by the sum of the total \n",
    "      mutate(percent = total / sum(total))\n",
    "\n",
    "    # Filter and aggregate the Star Wars set data; add a percent column\n",
    "    star_wars_colors <- inventory_parts_themes %>%\n",
    "      # Filter the inventory_parts_themes table for the Batman theme\n",
    "      filter( name_theme==\"Star Wars\") %>%\n",
    "      group_by(color_id) %>%\n",
    "      summarize(total = sum(quantity)) %>%\n",
    "      # Add a percent column of the total divided by the sum of the total \n",
    "      mutate(percent = total / sum(total))\n",
    "\n",
    "\n",
    "#Join two data set \n",
    "colors_joined <- batman_colors %>%\n",
    "  full_join(star_wars_colors, by = \"color_id\", suffix = c(\"_batman\", \"_star_wars\")) %>%\n",
    "  replace_na(list(total_batman = 0, total_star_wars = 0)) %>%\n",
    "  inner_join(colors, by = c(\"color_id\" = \"id\")) %>%\n",
    "  mutate(difference = percent_batman - percent_star_wars,\n",
    "         total = total_batman + total_star_wars) %>%\n",
    "  filter(total >= 200) %>%\n",
    "  mutate(name = fct_reorder(name, difference))\n",
    "\n",
    "\n",
    "# Create a bar plot using colors_joined and the name and difference columns\n",
    "color_palette<-setNames(colors_joined$rgb, colors_joined$name)\n",
    "\n",
    "ggplot(colors_joined , aes(name, difference, fill = name)) +\n",
    "  geom_col() +\n",
    "  coord_flip() +\n",
    "  scale_fill_manual(values = color_palette, guide = FALSE) +\n",
    "  labs(y = \"Difference: Batman - Star Wars\")"
   ]
  },
  {
   "cell_type": "markdown",
   "metadata": {},
   "source": [
    "## 4) Case Study: Joins on Stack Overflow Data\n",
    "\n",
    "Put together all the types of join you learned in this course to analyze a new dataset: Stack Overflow questions, answers, and tags. This includes calculating and visualizing trends for some notable tags like dplyr and ggplot2. You'll also master one more method for combining tables, the bind_rows verb, which stacks tables on top of each other.\n",
    "\n",
    "### 4.1) Stack Overflow questions\n",
    "\n",
    "\n",
    "#### 4.1.1)Left-joining questions and tags\n",
    "Three of the Stack Overflow survey datasets are questions, question_tags, and tags:\n",
    "\n",
    "- questions: an ID and the score, or how many times the question has been upvoted; the data only includes R-based questions\n",
    "- question_tags: a tag ID for each question and the question's id\n",
    "- tags: a tag id and the tag's name, which can be used to identify the subject of each question, such as ggplot2 or dplyr\n",
    "\n",
    "In this exercise, we'll be stitching together these datasets and replacing NAs in important fields.\n",
    "\n",
    "Note that we'll be using left_joins in this exercise to ensure we keep all questions, even those without a corresponding tag. However, since we know the questions data is all R data, we'll want to manually tag these as R questions with replace_na."
   ]
  },
  {
   "cell_type": "code",
   "execution_count": 6,
   "metadata": {},
   "outputs": [],
   "source": [
    "questions<-readRDS(gzcon(url(\"https://assets.datacamp.com/production/repositories/5284/datasets/89d5a716b4f41dbe4fcda1a7a1190f24f58f0e47/questions.rds\")))\n",
    "tags<-readRDS(gzcon(url(\"https://assets.datacamp.com/production/repositories/5284/datasets/207c31b235786e73496fd7e58e416779911a9d98/tags.rds\")))\n",
    "question_tags<-readRDS(gzcon(url(\"https://assets.datacamp.com/production/repositories/5284/datasets/966938d665c69bffd87393b345ea2837a94bab97/question_tags.rds\")))\n",
    "answers<-tags<-readRDS(gzcon(url(\"https://assets.datacamp.com/production/repositories/5284/datasets/6cb9c039aa8326d98de37afefa32e1c458764638/answers.rds\")))"
   ]
  },
  {
   "cell_type": "code",
   "execution_count": 8,
   "metadata": {},
   "outputs": [
    {
     "data": {
      "text/html": [
       "<table>\n",
       "<thead><tr><th scope=col>id</th><th scope=col>creation_date.x</th><th scope=col>score.x</th><th scope=col>tag_id</th><th scope=col>creation_date.y</th><th scope=col>question_id</th><th scope=col>score.y</th></tr></thead>\n",
       "<tbody>\n",
       "\t<tr><td>22557677  </td><td>2014-03-21</td><td>1         </td><td>   18     </td><td>NA        </td><td>NA        </td><td>NA        </td></tr>\n",
       "\t<tr><td>22557677  </td><td>2014-03-21</td><td>1         </td><td>  139     </td><td>NA        </td><td>NA        </td><td>NA        </td></tr>\n",
       "\t<tr><td>22557677  </td><td>2014-03-21</td><td>1         </td><td>16088     </td><td>NA        </td><td>NA        </td><td>NA        </td></tr>\n",
       "\t<tr><td>22557677  </td><td>2014-03-21</td><td>1         </td><td> 1672     </td><td>NA        </td><td>NA        </td><td>NA        </td></tr>\n",
       "\t<tr><td>22557707  </td><td>2014-03-21</td><td>2         </td><td>   NA     </td><td>NA        </td><td>NA        </td><td>NA        </td></tr>\n",
       "\t<tr><td>22558084  </td><td>2014-03-21</td><td>2         </td><td> 6419     </td><td>NA        </td><td>NA        </td><td>NA        </td></tr>\n",
       "</tbody>\n",
       "</table>\n"
      ],
      "text/latex": [
       "\\begin{tabular}{r|lllllll}\n",
       " id & creation\\_date.x & score.x & tag\\_id & creation\\_date.y & question\\_id & score.y\\\\\n",
       "\\hline\n",
       "\t 22557677   & 2014-03-21 & 1          &    18      & NA         & NA         & NA        \\\\\n",
       "\t 22557677   & 2014-03-21 & 1          &   139      & NA         & NA         & NA        \\\\\n",
       "\t 22557677   & 2014-03-21 & 1          & 16088      & NA         & NA         & NA        \\\\\n",
       "\t 22557677   & 2014-03-21 & 1          &  1672      & NA         & NA         & NA        \\\\\n",
       "\t 22557707   & 2014-03-21 & 2          &    NA      & NA         & NA         & NA        \\\\\n",
       "\t 22558084   & 2014-03-21 & 2          &  6419      & NA         & NA         & NA        \\\\\n",
       "\\end{tabular}\n"
      ],
      "text/markdown": [
       "\n",
       "id | creation_date.x | score.x | tag_id | creation_date.y | question_id | score.y | \n",
       "|---|---|---|---|---|---|\n",
       "| 22557677   | 2014-03-21 | 1          |    18      | NA         | NA         | NA         | \n",
       "| 22557677   | 2014-03-21 | 1          |   139      | NA         | NA         | NA         | \n",
       "| 22557677   | 2014-03-21 | 1          | 16088      | NA         | NA         | NA         | \n",
       "| 22557677   | 2014-03-21 | 1          |  1672      | NA         | NA         | NA         | \n",
       "| 22557707   | 2014-03-21 | 2          |    NA      | NA         | NA         | NA         | \n",
       "| 22558084   | 2014-03-21 | 2          |  6419      | NA         | NA         | NA         | \n",
       "\n",
       "\n"
      ],
      "text/plain": [
       "  id       creation_date.x score.x tag_id creation_date.y question_id score.y\n",
       "1 22557677 2014-03-21      1          18  <NA>            NA          NA     \n",
       "2 22557677 2014-03-21      1         139  <NA>            NA          NA     \n",
       "3 22557677 2014-03-21      1       16088  <NA>            NA          NA     \n",
       "4 22557677 2014-03-21      1        1672  <NA>            NA          NA     \n",
       "5 22557707 2014-03-21      2          NA  <NA>            NA          NA     \n",
       "6 22558084 2014-03-21      2        6419  <NA>            NA          NA     "
      ]
     },
     "metadata": {},
     "output_type": "display_data"
    }
   ],
   "source": [
    "#head(questions)\n",
    "#head(question_tags)\n",
    "#head(tags)\n",
    "\n",
    "#answer\n",
    "head(\n",
    "questions %>%\n",
    "  left_join(question_tags, by = c(\"id\" = \"question_id\")) %>%\n",
    "  left_join(tags, by = c(\"tag_id\" = \"id\")) %>%\n",
    "  replace_na(list(tag_name = \"only-r\"))\n",
    "    \n",
    "    )"
   ]
  },
  {
   "cell_type": "markdown",
   "metadata": {},
   "source": [
    "#### 4.1.2) Comparing scores across tags\n",
    "The complete dataset you created in the last exercise is available to you as questions_with_tags. Let's do a quick bit of analysis on it! You'll use familiar dplyr verbs like group_by, summarize, arrange, and n to find out the average score of the most asked questions.\n",
    "\n",
    "**Exercise**\n",
    "- Aggregate by the tag_name.\n",
    "- Summarize to get the total number of questions, num_questions, as well as the mean score for each question, score.\n",
    "- Arrange num_questions in descending order to sort the answers by the most asked questions.\n",
    "*Answer*\n",
    "\n",
    "    questions_with_tags %>%\n",
    "        # Group by tag_name\n",
    "      group_by(tag_name) %>%\n",
    "        # Get mean score and num_questions\n",
    "        summarize(score = sum(score)/n(),\n",
    "                  num_questions = n()) %>%\n",
    "        # Sort num_questions in descending order\n",
    "        arrange(desc(num_questions))"
   ]
  },
  {
   "cell_type": "markdown",
   "metadata": {},
   "source": [
    "#### 4.1.2) What tags never appear on R questions?\n",
    "The tags table includes all Stack Overflow tags, but some have nothing to do with R. How could you filter for just the tags that never appear on an R question? The tags and question_tags tables have been preloaded for you.\n",
    "\n",
    "**Exercise**\n",
    "\n",
    "- Use a join to determine which tags never appear on an R question.\n",
    "\n",
    "*Answer*\n",
    "\n",
    "    # Using a join, filter for tags that are never on an R question\n",
    "    tags %>% anti_join(question_tags, by = c(\"id\"=\"tag_id\"))"
   ]
  },
  {
   "cell_type": "markdown",
   "metadata": {},
   "source": [
    "### 4.2) (video) Joining questions and answers\n",
    "\n",
    "### 4.2.1) Finding gaps between questions and answers\n",
    "Now we'll join together questions with answers so we can measure the time between questions and answers.\n",
    "\n",
    "**Exercise**\n",
    "- Use an inner join to combine the questions and answers tables using the suffixes \"_question\" and \"_answer\", respectively.\n",
    "- Subtract creation_date_question from creation_date_answer within the as.integer() function to create the gap column.\n",
    "\n",
    "*Answer*\n",
    "\n",
    "    questions %>%\n",
    "        # Inner join questions and answers with proper suffixes\n",
    "        inner_join(answers, by = c(\"id\" = \"question_id\"), suffix = c(\"_question\", \"_answer\")) %>%\n",
    "        # Subtract creation_date_question from creation_date_answer to create gap\n",
    "        mutate(gap = as.integer(creation_date_answer - creation_date_question)) "
   ]
  },
  {
   "cell_type": "markdown",
   "metadata": {},
   "source": [
    "#### 4.2.2) Joining question and answer counts\n",
    "We can also determine how many questions actually yield answers. If we count the number of answers for each question, we can then join the answers counts with the questions table.\n",
    "\n",
    "**Exercise**\n",
    "- Count and sort the question_id column in the answers table to create the answer_counts table.\n",
    "- Join the questions table with the answer_counts table.\n",
    "- Replace the NA values in the n column with 0s.\n",
    "\n",
    "*Answer*\n",
    "\n",
    "    # Count and sort the question id column in the answers table\n",
    "    answer_counts <- answers %>% count(question_id)\n",
    "\n",
    "    # Combine the answer_counts and questions tables\n",
    "    questions %>% left_join(answer_counts, by = c(\"id\"=\"question_id\")) %>%\n",
    "    # Replace the NAs in the n column\n",
    "    replace_na(list(n = 0))"
   ]
  },
  {
   "cell_type": "markdown",
   "metadata": {},
   "source": [
    "#### 4.2.3) Joining questions, answers, and tags\n",
    "Let's build on the last exercise by adding the tags table to our previous joins. This will allow us to do a better job of identifying which R topics get the most traction on Stack Overflow. The tables you created in the last exercise have been preloaded for you as answer_counts and question_answer_counts.\n",
    "\n",
    "    answer_counts <- answers %>%\n",
    "        count(question_id, sort = TRUE)\n",
    "\n",
    "    question_answer_counts <- questions %>%\n",
    "        left_join(answer_counts, by = c(\"id\" = \"question_id\")) %>%\n",
    "        replace_na(list(n = 0))\n",
    "\n",
    "**Exercise**\n",
    "- Combine the question_tags table with question_answer_counts using an inner_join.\n",
    "- Now, use another inner_join to add the tags table.\n",
    "\n",
    "*Answer*\n",
    "\n",
    "    question_answer_counts %>%\n",
    "        # Join the question_tags tables\n",
    "        inner_join(question_tags, by = c(\"id\" = \"question_id\")) %>%\n",
    "        # Join the tags table\n",
    "        inner_join(tags, by = c(\"tag_id\" = \"id\"))"
   ]
  },
  {
   "cell_type": "markdown",
   "metadata": {},
   "source": [
    "### 4.3) (video) The bind_rows verb\n",
    "you have learned how can combine two or more table through one or more key columns, but there is other type of join, special when you want to stack below the other table, we do this with `bind_rows`\n",
    "\n"
   ]
  },
  {
   "cell_type": "markdown",
   "metadata": {},
   "source": [
    "**Exercise**\n",
    "\n",
    "*Answer*"
   ]
  }
 ],
 "metadata": {
  "kernelspec": {
   "display_name": "R",
   "language": "R",
   "name": "ir"
  },
  "language_info": {
   "codemirror_mode": "r",
   "file_extension": ".r",
   "mimetype": "text/x-r-source",
   "name": "R",
   "pygments_lexer": "r",
   "version": "3.5.1"
  }
 },
 "nbformat": 4,
 "nbformat_minor": 2
}
