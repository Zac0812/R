{
 "cells": [
  {
   "cell_type": "markdown",
   "metadata": {},
   "source": [
    "It's commonly said that data scientists spend 80% of their time cleaning and manipulating data and only 20% of their time actually analyzing it. For this reason, it is critical to become familiar with the data cleaning process and all of the tools available to you along the way. This course provides a very basic introduction to cleaning data in R using the tidyr, dplyr, and stringr packages. After taking the course you'll be able to go from raw data to awesome insights as quickly and painlessly as possible!\n",
    "\n",
    "1. Exploring raw data\n",
    "2. Tidying data\n",
    "3. Preparing data for analysis\n",
    "\n",
    "# 1) Introduction and exploring raw data\n",
    "\n",
    "This chapter will give you an overview of the process of data cleaning with R, then walk you through the basics of exploring raw data.\n",
    "\n",
    "## a) Exploring raw data\n",
    "the first step in data cleaning process is exploring your raw data, we can think our process in 3 steps:\n",
    "\n",
    "1. Undestanding the structure of your data.\n",
    "2. Look at your data\n",
    "3. Visualize your data\n",
    "\n",
    "by the first step \"understanding the structure of your data\" we have several tools in R:\n",
    "\n",
    "    #Load a specif data, for example\n",
    "    luch<-read.csv(\"dataset/lunch_clean.csv\")\n",
    "    \n",
    "    #View the class\n",
    "    class(lunch)\n",
    "    \n",
    "    #View its dimensions\n",
    "    dim(lunch)\n",
    "    \n",
    "    #look at columns names\n",
    "    names(lunch)\n",
    "    \n",
    "    #see the structure\n",
    "    str(lunch)\n",
    "    \n",
    "    #summary\n",
    "    summary(lunch)\n",
    "\n",
    "**the package `dplry` offers the `glimpse()` function from `dplyr` is a slightly cleaner alternative to `str()`**\n",
    "\n",
    "The str(), head(), and summary() functions are designed to give you some information about a dataset without being overwhelming. However, this dataset is so large and has so many variables that even these outputs seemed pretty intimidating!\n",
    "\n",
    "The glimpse() function from the dplyr package often formats information in a more approachable way.\n",
    "\n",
    "    #load dplyr\n",
    "    library(dplyr)\n",
    "    glimpse(lunch)\n",
    "\n",
    "## b) Exploring raw data (part 2)\n",
    "\n",
    "We have seen a several functions that allow us to see the structure our data but always it's better to see it,so for this we have:\n",
    "\n",
    "    #View the top or the bottom by default only we can see 6 first or last registers.\n",
    "    head(luch, n=10) \n",
    "    tail(luch, n=10)\n",
    "    \n",
    "    #Other way to see issues, it´s plotting our datas\n",
    "    hist(luch$perc_free_red)\n",
    "\n",
    "    #we can plot fo two variables\n",
    "    plot(lunch$year, luch$perc_free_red)\n",
    "    \n",
    "    \n",
    "    \n"
   ]
  },
  {
   "cell_type": "markdown",
   "metadata": {
    "collapsed": true
   },
   "source": [
    "# 2) Tidying data\n",
    "Note: tidy (adj) put in order \n",
    "\n",
    "## a) tidyr - gather and spread\n",
    "\n",
    "it's a wonderful package , whose purpose is help us to apply the principle of tidy data, we won't see all function, however we will see the most common.\n",
    "\n",
    "The most important function in tidyr is gather(). It should be used when you have columns that are not variables and you want to collapse them into key-value pairs.\n",
    "    \n",
    "    gather(wide_df, my_key, my_val, -col)\n",
    "    #other example\n",
    "    gather(df, time, val, t1:t3)\n",
    "    \n",
    "Notice that gather() allows you to select multiple columns to be gathered by using the : operator.    \n",
    "\n",
    "The opposite of gather() is spread(), which takes key-values pairs and spreads them across multiple columns. This is useful when values in a column should actually be column names (i.e. variables). It can also make data more compact and easier to read.\n",
    "\n",
    "    spread(long_df, my_key, my_val)\n"
   ]
  },
  {
   "cell_type": "code",
   "execution_count": 10,
   "metadata": {},
   "outputs": [
    {
     "data": {
      "text/html": [
       "<table>\n",
       "<thead><tr><th scope=col>Categoria</th><th scope=col>A</th><th scope=col>B</th><th scope=col>C</th></tr></thead>\n",
       "<tbody>\n",
       "\t<tr><td>X</td><td>1</td><td>2</td><td>3</td></tr>\n",
       "\t<tr><td>Y</td><td>4</td><td>5</td><td>6</td></tr>\n",
       "</tbody>\n",
       "</table>\n"
      ],
      "text/latex": [
       "\\begin{tabular}{r|llll}\n",
       " Categoria & A & B & C\\\\\n",
       "\\hline\n",
       "\t X & 1 & 2 & 3\\\\\n",
       "\t Y & 4 & 5 & 6\\\\\n",
       "\\end{tabular}\n"
      ],
      "text/markdown": [
       "\n",
       "Categoria | A | B | C | \n",
       "|---|---|\n",
       "| X | 1 | 2 | 3 | \n",
       "| Y | 4 | 5 | 6 | \n",
       "\n",
       "\n"
      ],
      "text/plain": [
       "  Categoria A B C\n",
       "1 X         1 2 3\n",
       "2 Y         4 5 6"
      ]
     },
     "metadata": {},
     "output_type": "display_data"
    },
    {
     "name": "stdout",
     "output_type": "stream",
     "text": [
      "'data.frame':\t2 obs. of  4 variables:\n",
      " $ Categoria: chr  \"X\" \"Y\"\n",
      " $ A        : num  1 4\n",
      " $ B        : num  2 5\n",
      " $ C        : num  3 6\n"
     ]
    },
    {
     "data": {
      "text/html": [
       "<table>\n",
       "<thead><tr><th scope=col>Categoria</th><th scope=col>Name_Col</th><th scope=col>Name_Val</th></tr></thead>\n",
       "<tbody>\n",
       "\t<tr><td>X</td><td>A</td><td>1</td></tr>\n",
       "\t<tr><td>Y</td><td>A</td><td>4</td></tr>\n",
       "\t<tr><td>X</td><td>B</td><td>2</td></tr>\n",
       "\t<tr><td>Y</td><td>B</td><td>5</td></tr>\n",
       "\t<tr><td>X</td><td>C</td><td>3</td></tr>\n",
       "\t<tr><td>Y</td><td>C</td><td>6</td></tr>\n",
       "</tbody>\n",
       "</table>\n"
      ],
      "text/latex": [
       "\\begin{tabular}{r|lll}\n",
       " Categoria & Name\\_Col & Name\\_Val\\\\\n",
       "\\hline\n",
       "\t X & A & 1\\\\\n",
       "\t Y & A & 4\\\\\n",
       "\t X & B & 2\\\\\n",
       "\t Y & B & 5\\\\\n",
       "\t X & C & 3\\\\\n",
       "\t Y & C & 6\\\\\n",
       "\\end{tabular}\n"
      ],
      "text/markdown": [
       "\n",
       "Categoria | Name_Col | Name_Val | \n",
       "|---|---|---|---|---|---|\n",
       "| X | A | 1 | \n",
       "| Y | A | 4 | \n",
       "| X | B | 2 | \n",
       "| Y | B | 5 | \n",
       "| X | C | 3 | \n",
       "| Y | C | 6 | \n",
       "\n",
       "\n"
      ],
      "text/plain": [
       "  Categoria Name_Col Name_Val\n",
       "1 X         A        1       \n",
       "2 Y         A        4       \n",
       "3 X         B        2       \n",
       "4 Y         B        5       \n",
       "5 X         C        3       \n",
       "6 Y         C        6       "
      ]
     },
     "metadata": {},
     "output_type": "display_data"
    },
    {
     "data": {
      "text/html": [
       "<table>\n",
       "<thead><tr><th scope=col>Categoria</th><th scope=col>A</th><th scope=col>B</th><th scope=col>C</th></tr></thead>\n",
       "<tbody>\n",
       "\t<tr><td>X</td><td>1</td><td>2</td><td>3</td></tr>\n",
       "\t<tr><td>Y</td><td>4</td><td>5</td><td>6</td></tr>\n",
       "</tbody>\n",
       "</table>\n"
      ],
      "text/latex": [
       "\\begin{tabular}{r|llll}\n",
       " Categoria & A & B & C\\\\\n",
       "\\hline\n",
       "\t X & 1 & 2 & 3\\\\\n",
       "\t Y & 4 & 5 & 6\\\\\n",
       "\\end{tabular}\n"
      ],
      "text/markdown": [
       "\n",
       "Categoria | A | B | C | \n",
       "|---|---|\n",
       "| X | 1 | 2 | 3 | \n",
       "| Y | 4 | 5 | 6 | \n",
       "\n",
       "\n"
      ],
      "text/plain": [
       "  Categoria A B C\n",
       "1 X         1 2 3\n",
       "2 Y         4 5 6"
      ]
     },
     "metadata": {},
     "output_type": "display_data"
    }
   ],
   "source": [
    "a<-c(\"X\",\"Y\")\n",
    "b<-c(1,4)\n",
    "c<-c(2,5)\n",
    "d<-c(3,6)\n",
    "\n",
    "wide_df<-data.frame(a,b,c,d,stringsAsFactors = FALSE)\n",
    "names(wide_df)<-c(\"Categoria\",\"A\",\"B\",\"C\")\n",
    "wide_df\n",
    "\n",
    "#Gather (apilar) the columns of wide_df\n",
    "#install.packages(\"tidyr\")\n",
    "library(dplyr)\n",
    "library(tidyr)\n",
    "str(wide_df)\n",
    "\n",
    "# source, nombre que recibira la columna \n",
    "wide_gather<-gather(wide_df, Name_Col, Name_Val, -Categoria)\n",
    "wide_gather\n",
    "\n",
    "\n",
    "spread(wide_gather,Name_Col,Name_Val)\n"
   ]
  },
  {
   "cell_type": "markdown",
   "metadata": {
    "collapsed": true
   },
   "source": [
    "## b) tidyr - separate\n",
    "\n",
    "it´is often useful to separate data of a single columns into a multiple columns, we can do it easily with the separate functions.\n",
    "\n",
    "    separate(data,col,into) we can use a 4th parameter, it´s sep=\"\" \n",
    "    \n",
    "The opposite of separate() is unite(), which takes multiple columns and pastes them together. By default, the contents of the columns will be separated by underscores in the new column, but this behavior can be altered via the sep argument.  \n",
    "\n",
    "    unite(data,col,....) "
   ]
  },
  {
   "cell_type": "code",
   "execution_count": 8,
   "metadata": {},
   "outputs": [
    {
     "data": {
      "text/html": [
       "<table>\n",
       "<thead><tr><th scope=col>patient</th><th scope=col>treatment</th><th scope=col>year_mo</th><th scope=col>response</th></tr></thead>\n",
       "<tbody>\n",
       "\t<tr><td>X      </td><td>A      </td><td>2010-10</td><td>1      </td></tr>\n",
       "\t<tr><td>Y      </td><td>A      </td><td>2010-10</td><td>4      </td></tr>\n",
       "\t<tr><td>X      </td><td>B      </td><td>2012-08</td><td>2      </td></tr>\n",
       "\t<tr><td>Y      </td><td>B      </td><td>2012-08</td><td>5      </td></tr>\n",
       "\t<tr><td>X      </td><td>C      </td><td>2014-12</td><td>3      </td></tr>\n",
       "\t<tr><td>Y      </td><td>C      </td><td>2014-12</td><td>6      </td></tr>\n",
       "</tbody>\n",
       "</table>\n"
      ],
      "text/latex": [
       "\\begin{tabular}{r|llll}\n",
       " patient & treatment & year\\_mo & response\\\\\n",
       "\\hline\n",
       "\t X       & A       & 2010-10 & 1      \\\\\n",
       "\t Y       & A       & 2010-10 & 4      \\\\\n",
       "\t X       & B       & 2012-08 & 2      \\\\\n",
       "\t Y       & B       & 2012-08 & 5      \\\\\n",
       "\t X       & C       & 2014-12 & 3      \\\\\n",
       "\t Y       & C       & 2014-12 & 6      \\\\\n",
       "\\end{tabular}\n"
      ],
      "text/markdown": [
       "\n",
       "patient | treatment | year_mo | response | \n",
       "|---|---|---|---|---|---|\n",
       "| X       | A       | 2010-10 | 1       | \n",
       "| Y       | A       | 2010-10 | 4       | \n",
       "| X       | B       | 2012-08 | 2       | \n",
       "| Y       | B       | 2012-08 | 5       | \n",
       "| X       | C       | 2014-12 | 3       | \n",
       "| Y       | C       | 2014-12 | 6       | \n",
       "\n",
       "\n"
      ],
      "text/plain": [
       "  patient treatment year_mo response\n",
       "1 X       A         2010-10 1       \n",
       "2 Y       A         2010-10 4       \n",
       "3 X       B         2012-08 2       \n",
       "4 Y       B         2012-08 5       \n",
       "5 X       C         2014-12 3       \n",
       "6 Y       C         2014-12 6       "
      ]
     },
     "metadata": {},
     "output_type": "display_data"
    },
    {
     "data": {
      "text/html": [
       "<table>\n",
       "<thead><tr><th scope=col>patient</th><th scope=col>treatment</th><th scope=col>year</th><th scope=col>month</th><th scope=col>response</th></tr></thead>\n",
       "<tbody>\n",
       "\t<tr><td>X   </td><td>A   </td><td>2010</td><td>10  </td><td>1   </td></tr>\n",
       "\t<tr><td>Y   </td><td>A   </td><td>2010</td><td>10  </td><td>4   </td></tr>\n",
       "\t<tr><td>X   </td><td>B   </td><td>2012</td><td>08  </td><td>2   </td></tr>\n",
       "\t<tr><td>Y   </td><td>B   </td><td>2012</td><td>08  </td><td>5   </td></tr>\n",
       "\t<tr><td>X   </td><td>C   </td><td>2014</td><td>12  </td><td>3   </td></tr>\n",
       "\t<tr><td>Y   </td><td>C   </td><td>2014</td><td>12  </td><td>6   </td></tr>\n",
       "</tbody>\n",
       "</table>\n"
      ],
      "text/latex": [
       "\\begin{tabular}{r|lllll}\n",
       " patient & treatment & year & month & response\\\\\n",
       "\\hline\n",
       "\t X    & A    & 2010 & 10   & 1   \\\\\n",
       "\t Y    & A    & 2010 & 10   & 4   \\\\\n",
       "\t X    & B    & 2012 & 08   & 2   \\\\\n",
       "\t Y    & B    & 2012 & 08   & 5   \\\\\n",
       "\t X    & C    & 2014 & 12   & 3   \\\\\n",
       "\t Y    & C    & 2014 & 12   & 6   \\\\\n",
       "\\end{tabular}\n"
      ],
      "text/markdown": [
       "\n",
       "patient | treatment | year | month | response | \n",
       "|---|---|---|---|---|---|\n",
       "| X    | A    | 2010 | 10   | 1    | \n",
       "| Y    | A    | 2010 | 10   | 4    | \n",
       "| X    | B    | 2012 | 08   | 2    | \n",
       "| Y    | B    | 2012 | 08   | 5    | \n",
       "| X    | C    | 2014 | 12   | 3    | \n",
       "| Y    | C    | 2014 | 12   | 6    | \n",
       "\n",
       "\n"
      ],
      "text/plain": [
       "  patient treatment year month response\n",
       "1 X       A         2010 10    1       \n",
       "2 Y       A         2010 10    4       \n",
       "3 X       B         2012 08    2       \n",
       "4 Y       B         2012 08    5       \n",
       "5 X       C         2014 12    3       \n",
       "6 Y       C         2014 12    6       "
      ]
     },
     "metadata": {},
     "output_type": "display_data"
    },
    {
     "data": {
      "text/html": [
       "<table>\n",
       "<thead><tr><th scope=col>patient</th><th scope=col>treatment</th><th scope=col>ye_mo2</th><th scope=col>response</th></tr></thead>\n",
       "<tbody>\n",
       "\t<tr><td>X      </td><td>A      </td><td>2010/10</td><td>1      </td></tr>\n",
       "\t<tr><td>Y      </td><td>A      </td><td>2010/10</td><td>4      </td></tr>\n",
       "\t<tr><td>X      </td><td>B      </td><td>2012/08</td><td>2      </td></tr>\n",
       "\t<tr><td>Y      </td><td>B      </td><td>2012/08</td><td>5      </td></tr>\n",
       "\t<tr><td>X      </td><td>C      </td><td>2014/12</td><td>3      </td></tr>\n",
       "\t<tr><td>Y      </td><td>C      </td><td>2014/12</td><td>6      </td></tr>\n",
       "</tbody>\n",
       "</table>\n"
      ],
      "text/latex": [
       "\\begin{tabular}{r|llll}\n",
       " patient & treatment & ye\\_mo2 & response\\\\\n",
       "\\hline\n",
       "\t X       & A       & 2010/10 & 1      \\\\\n",
       "\t Y       & A       & 2010/10 & 4      \\\\\n",
       "\t X       & B       & 2012/08 & 2      \\\\\n",
       "\t Y       & B       & 2012/08 & 5      \\\\\n",
       "\t X       & C       & 2014/12 & 3      \\\\\n",
       "\t Y       & C       & 2014/12 & 6      \\\\\n",
       "\\end{tabular}\n"
      ],
      "text/markdown": [
       "\n",
       "patient | treatment | ye_mo2 | response | \n",
       "|---|---|---|---|---|---|\n",
       "| X       | A       | 2010/10 | 1       | \n",
       "| Y       | A       | 2010/10 | 4       | \n",
       "| X       | B       | 2012/08 | 2       | \n",
       "| Y       | B       | 2012/08 | 5       | \n",
       "| X       | C       | 2014/12 | 3       | \n",
       "| Y       | C       | 2014/12 | 6       | \n",
       "\n",
       "\n"
      ],
      "text/plain": [
       "  patient treatment ye_mo2  response\n",
       "1 X       A         2010/10 1       \n",
       "2 Y       A         2010/10 4       \n",
       "3 X       B         2012/08 2       \n",
       "4 Y       B         2012/08 5       \n",
       "5 X       C         2014/12 3       \n",
       "6 Y       C         2014/12 6       "
      ]
     },
     "metadata": {},
     "output_type": "display_data"
    }
   ],
   "source": [
    "\n",
    "library(tidyr)\n",
    "pat<-c(\"X\",\"Y\",\"X\",\"Y\",\"X\",\"Y\")\n",
    "treat<-c(\"A\",\"A\",\"B\",\"B\",\"C\",\"C\")\n",
    "ye_mo<-c(\"2010-10\",\"2010-10\",\"2012-08\",\"2012-08\",\"2014-12\",\"2014-12\")\n",
    "res<-c(1,4,2,5,3,6)\n",
    "treatments<-data.frame(pat,treat,ye_mo,res)\n",
    "names(treatments)<-c(\"patient\",\"treatment\",\"year_mo\",\"response\")\n",
    "treatments\n",
    "#We can separate\n",
    "dt_sepr<-separate(treatments,year_mo,c(\"year\",\"month\"),sep=\"-\")\n",
    "dt_sepr\n",
    "\n",
    "#We can unite\n",
    "unite(dt_sepr,ye_mo2,year,month,sep=\"/\")\n",
    "\n"
   ]
  },
  {
   "cell_type": "markdown",
   "metadata": {},
   "source": [
    "# 3) Preparing data for analysis\n",
    "This chapter will teach you how to prepare your data for analysis. We will look at type conversion, string manipulation, missing and special values, and outliers and obvious errors.\n",
    "\n",
    "## a) Type of variable in R\n",
    "We will see a quick review about these:\n",
    "\n",
    "    1 character: \"treatmen\",\"123\"\n",
    "    2 numeric: 23.44, 120 , NaN, Inf\n",
    "    3 integer: 25L, 1123L\n",
    "    4 factor: factor(\"Hello\"), factor(8)\n",
    "    5 logical: TRUE, FALSE , NA\n",
    "    \n",
    "Additionally these type of variables, we can use some function that allow us to know what kind of variable we have or we will coerce a variable in other type:\n",
    "\n",
    "    class(value) #to obtation a type of variable\n",
    "    as.function() #to converter \n",
    "    \n",
    "until now you can see that we have not seen type of data of date itps because it will be a little hard, but a lot of problemes could be solved used addinaly packages\n",
    "\n",
    "    install.packages(\"lubridate\")\n",
    "    #Load package \n",
    "    library(\"lubridate\")\n",
    "\n",
    "    #Experiment \n",
    "    ymd(\"2018-08-25\")\n",
    "\n",
    "    hms(\"13:33:09\")\n",
    "\n",
    "    ymd_hms(\"2018/08/25 13.33.09\")\n",
    "\n",
    "## b) String Manipulation\n",
    "Manipulate a text string it´is crucial skill when we are cleaning data in R, tha same way like lubridate packages that allow work easier with dates by text string we have a stringr package.\n",
    "\n",
    "Some examples:\n",
    "\n",
    "    install.packages(\"stringr\")\n",
    "    library(stringr)\n",
    "    #Trim leading and trailing white space\n",
    "    str_trim(\" Hola Mundo         \")\n",
    "\n",
    "    #Pad string with zeros\n",
    "    str_pad(\"10936\", width = 10, side=\"left\", pad=\"0\")\n",
    "\n",
    "\n",
    "    #search for a string in a vector\n",
    "    names<-c(\"Luis\",\"Antonio\",\"Zacarias\")\n",
    "    str_detect(names,\"Zaca\")\n",
    "\n",
    "    #Replace string in Vector\n",
    "    str_replace(names,\"Zacarias\",\"Meza\")\n",
    "\n",
    "    #Make all lowerCase % upperCase\n",
    "    toupper(\"hola mundo\")\n",
    "    tolower(\"HI WORDL\")\n"
   ]
  },
  {
   "cell_type": "code",
   "execution_count": 3,
   "metadata": {},
   "outputs": [
    {
     "data": {
      "text/html": [
       "'Hola Mundo'"
      ],
      "text/latex": [
       "'Hola Mundo'"
      ],
      "text/markdown": [
       "'Hola Mundo'"
      ],
      "text/plain": [
       "[1] \"Hola Mundo\""
      ]
     },
     "metadata": {},
     "output_type": "display_data"
    },
    {
     "data": {
      "text/html": [
       "'0000010936'"
      ],
      "text/latex": [
       "'0000010936'"
      ],
      "text/markdown": [
       "'0000010936'"
      ],
      "text/plain": [
       "[1] \"0000010936\""
      ]
     },
     "metadata": {},
     "output_type": "display_data"
    },
    {
     "data": {
      "text/html": [
       "<ol class=list-inline>\n",
       "\t<li>FALSE</li>\n",
       "\t<li>FALSE</li>\n",
       "\t<li>TRUE</li>\n",
       "</ol>\n"
      ],
      "text/latex": [
       "\\begin{enumerate*}\n",
       "\\item FALSE\n",
       "\\item FALSE\n",
       "\\item TRUE\n",
       "\\end{enumerate*}\n"
      ],
      "text/markdown": [
       "1. FALSE\n",
       "2. FALSE\n",
       "3. TRUE\n",
       "\n",
       "\n"
      ],
      "text/plain": [
       "[1] FALSE FALSE  TRUE"
      ]
     },
     "metadata": {},
     "output_type": "display_data"
    },
    {
     "data": {
      "text/html": [
       "<ol class=list-inline>\n",
       "\t<li>'Luis'</li>\n",
       "\t<li>'Antonio'</li>\n",
       "\t<li>'Meza'</li>\n",
       "</ol>\n"
      ],
      "text/latex": [
       "\\begin{enumerate*}\n",
       "\\item 'Luis'\n",
       "\\item 'Antonio'\n",
       "\\item 'Meza'\n",
       "\\end{enumerate*}\n"
      ],
      "text/markdown": [
       "1. 'Luis'\n",
       "2. 'Antonio'\n",
       "3. 'Meza'\n",
       "\n",
       "\n"
      ],
      "text/plain": [
       "[1] \"Luis\"    \"Antonio\" \"Meza\"   "
      ]
     },
     "metadata": {},
     "output_type": "display_data"
    },
    {
     "data": {
      "text/html": [
       "'HOLA MUNDO'"
      ],
      "text/latex": [
       "'HOLA MUNDO'"
      ],
      "text/markdown": [
       "'HOLA MUNDO'"
      ],
      "text/plain": [
       "[1] \"HOLA MUNDO\""
      ]
     },
     "metadata": {},
     "output_type": "display_data"
    },
    {
     "data": {
      "text/html": [
       "'hi wordl'"
      ],
      "text/latex": [
       "'hi wordl'"
      ],
      "text/markdown": [
       "'hi wordl'"
      ],
      "text/plain": [
       "[1] \"hi wordl\""
      ]
     },
     "metadata": {},
     "output_type": "display_data"
    }
   ],
   "source": [
    "library(stringr)    \n",
    "    #Trim leading and trailing white space\n",
    "    str_trim(\" Hola Mundo         \")\n",
    "\n",
    "    #Pad string with zeros\n",
    "    str_pad(\"10936\", width = 10, side=\"left\", pad=\"0\")\n",
    "\n",
    "\n",
    "    #search for a string in a vector\n",
    "    names<-c(\"Luis\",\"Antonio\",\"Zacarias\")\n",
    "    str_detect(names,\"Zaca\")\n",
    "\n",
    "    #Replace string in Vector\n",
    "    str_replace(names,\"Zacarias\",\"Meza\")\n",
    "\n",
    "    toupper(\"hola mundo\")\n",
    "    tolower(\"HI WORDL\")"
   ]
  },
  {
   "cell_type": "markdown",
   "metadata": {
    "collapsed": true
   },
   "source": [
    "## c) Missing and special values\n",
    "\n",
    "Before dealing with missing values in the data, it's important to find them and figure out why they exist in the first place. If your dataset is too big to look at all at once, like it is here, remember you can use sum() and is.na() to quickly size up the situation by counting the number of NA values.\n",
    "\n",
    "The summary() function may also come in handy for identifying which variables contain the missing values. Finally, the which() function is useful for locating the missing values within a particular column.\n",
    "\n",
    "Carefully consider what the inputs and outputs are for the functions is.na() and which(). is.na() takes in a vector and returns TRUE if an index in the input vector is NA and FALSE otherwise. which() takes in a vector of TRUE and FALSE values and returns numbers that indicate the indices (or positions) in which the vector argument is TRUE\n",
    "\n",
    "As you've seen, missing values in R should be represented by NA, but unfortunately you will not always be so lucky. Before you can deal with missing values, you have to find them in the data.\n",
    "\n",
    "If missing values are properly coded as NA, the is.na() function will help you find them. Otherwise, if your dataset is too big to just look at the whole thing, you may need to try searching for some of the usual suspects like \"\", \"#N/A\", etc. You can also use the summary() and table() functions to turn up unexpected values in your data.\n",
    "\n",
    "\n",
    "    new_df<-data.frame(A=c(1,NA,8,NA),B=c(3,NA,88,23),C=c(2,45,3,1))\n",
    "    new_df\n",
    "\n",
    "    #i fwe have a data set not very large we can use de function is.na\n",
    "    is.na(new_df)\n",
    "\n",
    "    #in other case could be not usefull used the previous function, so we can use \n",
    "    any(is.na(new_df))\n",
    "\n",
    "    #how many?\n",
    "    is.na(new_df)\n",
    "    \n",
    "    #use summary to find NAs\n",
    "    summary(new_df)\n",
    "    \n",
    "\n",
    "    #Now if we want to replace or work only with completes values we have:\n",
    "    #Find rows with no missing values \n",
    "    complete.cases(new_df)\n",
    "\n",
    "    #subset data, keeping only complete cases\n",
    "    new_df[complete.cases(new_df),]\n",
    "\n",
    "    #another way to remove rows whith NA´s\n",
    "    na.omit(new_df)\n",
    "\n",
    "## d) Outliers and obvious errors\n",
    "\n",
    "When dealing with strange values in your data, you often must decide whether they are just extreme or actually erroneous. Extreme values show up all over the place, but you, the data analyst, must figure out when they are plausible and when they are not.\n",
    "\n",
    "Another useful way of looking at strange values is with boxplots. Simply put, boxplots draw a box around the middle 50% of values for a given variable, with a bolded horizontal line drawn at the median. Values that fall far from the bulk of the data points (i.e. outliers) are denoted by open circles. (If you're curious about the exact formula for determining what is \"far\", check out ?hist.)\n",
    "\n",
    "\n",
    "## Summary\n",
    "\n",
    "Undestanding the structure of your data\n",
    "\n",
    "class()- class of data object\n",
    "dim() - dimension of data\n",
    "names()- column names\n",
    "str()- previe of data with helpful datails \n",
    "glimpse()- better version of str() from dplyr\n",
    "summarry() summary of data \n",
    "\n",
    "Looking at your data\n",
    "\n",
    "head()- view top of dataset\n",
    "tail()- view bottoms of dataset\n",
    "print()- view entire dataset (not recommended!)\n",
    "\n",
    "Visualizing your data\n",
    "hist()- view histrogram of a single variable\n",
    "plot()- view plot of two variables."
   ]
  },
  {
   "cell_type": "code",
   "execution_count": 1,
   "metadata": {},
   "outputs": [
    {
     "data": {
      "text/html": [
       "<table>\n",
       "<thead><tr><th scope=col>A</th><th scope=col>B</th><th scope=col>C</th></tr></thead>\n",
       "<tbody>\n",
       "\t<tr><td> 1</td><td> 3</td><td> 2</td></tr>\n",
       "\t<tr><td>NA</td><td>NA</td><td>45</td></tr>\n",
       "\t<tr><td> 8</td><td>88</td><td> 3</td></tr>\n",
       "\t<tr><td>NA</td><td>23</td><td> 1</td></tr>\n",
       "</tbody>\n",
       "</table>\n"
      ],
      "text/latex": [
       "\\begin{tabular}{r|lll}\n",
       " A & B & C\\\\\n",
       "\\hline\n",
       "\t  1 &  3 &  2\\\\\n",
       "\t NA & NA & 45\\\\\n",
       "\t  8 & 88 &  3\\\\\n",
       "\t NA & 23 &  1\\\\\n",
       "\\end{tabular}\n"
      ],
      "text/markdown": [
       "\n",
       "A | B | C | \n",
       "|---|---|---|---|\n",
       "|  1 |  3 |  2 | \n",
       "| NA | NA | 45 | \n",
       "|  8 | 88 |  3 | \n",
       "| NA | 23 |  1 | \n",
       "\n",
       "\n"
      ],
      "text/plain": [
       "  A  B  C \n",
       "1  1  3  2\n",
       "2 NA NA 45\n",
       "3  8 88  3\n",
       "4 NA 23  1"
      ]
     },
     "metadata": {},
     "output_type": "display_data"
    },
    {
     "data": {
      "text/html": [
       "<table>\n",
       "<thead><tr><th scope=col>A</th><th scope=col>B</th><th scope=col>C</th></tr></thead>\n",
       "<tbody>\n",
       "\t<tr><td>FALSE</td><td>FALSE</td><td>FALSE</td></tr>\n",
       "\t<tr><td> TRUE</td><td> TRUE</td><td>FALSE</td></tr>\n",
       "\t<tr><td>FALSE</td><td>FALSE</td><td>FALSE</td></tr>\n",
       "\t<tr><td> TRUE</td><td>FALSE</td><td>FALSE</td></tr>\n",
       "</tbody>\n",
       "</table>\n"
      ],
      "text/latex": [
       "\\begin{tabular}{lll}\n",
       " A & B & C\\\\\n",
       "\\hline\n",
       "\t FALSE & FALSE & FALSE\\\\\n",
       "\t  TRUE &  TRUE & FALSE\\\\\n",
       "\t FALSE & FALSE & FALSE\\\\\n",
       "\t  TRUE & FALSE & FALSE\\\\\n",
       "\\end{tabular}\n"
      ],
      "text/markdown": [
       "\n",
       "A | B | C | \n",
       "|---|---|---|---|\n",
       "| FALSE | FALSE | FALSE | \n",
       "|  TRUE |  TRUE | FALSE | \n",
       "| FALSE | FALSE | FALSE | \n",
       "|  TRUE | FALSE | FALSE | \n",
       "\n",
       "\n"
      ],
      "text/plain": [
       "     A     B     C    \n",
       "[1,] FALSE FALSE FALSE\n",
       "[2,]  TRUE  TRUE FALSE\n",
       "[3,] FALSE FALSE FALSE\n",
       "[4,]  TRUE FALSE FALSE"
      ]
     },
     "metadata": {},
     "output_type": "display_data"
    },
    {
     "data": {
      "text/html": [
       "TRUE"
      ],
      "text/latex": [
       "TRUE"
      ],
      "text/markdown": [
       "TRUE"
      ],
      "text/plain": [
       "[1] TRUE"
      ]
     },
     "metadata": {},
     "output_type": "display_data"
    },
    {
     "data": {
      "text/html": [
       "<table>\n",
       "<thead><tr><th scope=col>A</th><th scope=col>B</th><th scope=col>C</th></tr></thead>\n",
       "<tbody>\n",
       "\t<tr><td>FALSE</td><td>FALSE</td><td>FALSE</td></tr>\n",
       "\t<tr><td> TRUE</td><td> TRUE</td><td>FALSE</td></tr>\n",
       "\t<tr><td>FALSE</td><td>FALSE</td><td>FALSE</td></tr>\n",
       "\t<tr><td> TRUE</td><td>FALSE</td><td>FALSE</td></tr>\n",
       "</tbody>\n",
       "</table>\n"
      ],
      "text/latex": [
       "\\begin{tabular}{lll}\n",
       " A & B & C\\\\\n",
       "\\hline\n",
       "\t FALSE & FALSE & FALSE\\\\\n",
       "\t  TRUE &  TRUE & FALSE\\\\\n",
       "\t FALSE & FALSE & FALSE\\\\\n",
       "\t  TRUE & FALSE & FALSE\\\\\n",
       "\\end{tabular}\n"
      ],
      "text/markdown": [
       "\n",
       "A | B | C | \n",
       "|---|---|---|---|\n",
       "| FALSE | FALSE | FALSE | \n",
       "|  TRUE |  TRUE | FALSE | \n",
       "| FALSE | FALSE | FALSE | \n",
       "|  TRUE | FALSE | FALSE | \n",
       "\n",
       "\n"
      ],
      "text/plain": [
       "     A     B     C    \n",
       "[1,] FALSE FALSE FALSE\n",
       "[2,]  TRUE  TRUE FALSE\n",
       "[3,] FALSE FALSE FALSE\n",
       "[4,]  TRUE FALSE FALSE"
      ]
     },
     "metadata": {},
     "output_type": "display_data"
    },
    {
     "data": {
      "text/plain": [
       "       A              B              C        \n",
       " Min.   :1.00   Min.   : 3.0   Min.   : 1.00  \n",
       " 1st Qu.:2.75   1st Qu.:13.0   1st Qu.: 1.75  \n",
       " Median :4.50   Median :23.0   Median : 2.50  \n",
       " Mean   :4.50   Mean   :38.0   Mean   :12.75  \n",
       " 3rd Qu.:6.25   3rd Qu.:55.5   3rd Qu.:13.50  \n",
       " Max.   :8.00   Max.   :88.0   Max.   :45.00  \n",
       " NA's   :2      NA's   :1                     "
      ]
     },
     "metadata": {},
     "output_type": "display_data"
    },
    {
     "data": {
      "text/html": [
       "<ol class=list-inline>\n",
       "\t<li>TRUE</li>\n",
       "\t<li>FALSE</li>\n",
       "\t<li>TRUE</li>\n",
       "\t<li>FALSE</li>\n",
       "</ol>\n"
      ],
      "text/latex": [
       "\\begin{enumerate*}\n",
       "\\item TRUE\n",
       "\\item FALSE\n",
       "\\item TRUE\n",
       "\\item FALSE\n",
       "\\end{enumerate*}\n"
      ],
      "text/markdown": [
       "1. TRUE\n",
       "2. FALSE\n",
       "3. TRUE\n",
       "4. FALSE\n",
       "\n",
       "\n"
      ],
      "text/plain": [
       "[1]  TRUE FALSE  TRUE FALSE"
      ]
     },
     "metadata": {},
     "output_type": "display_data"
    },
    {
     "data": {
      "text/html": [
       "<table>\n",
       "<thead><tr><th></th><th scope=col>A</th><th scope=col>B</th><th scope=col>C</th></tr></thead>\n",
       "<tbody>\n",
       "\t<tr><th scope=row>1</th><td>1 </td><td> 3</td><td>2 </td></tr>\n",
       "\t<tr><th scope=row>3</th><td>8 </td><td>88</td><td>3 </td></tr>\n",
       "</tbody>\n",
       "</table>\n"
      ],
      "text/latex": [
       "\\begin{tabular}{r|lll}\n",
       "  & A & B & C\\\\\n",
       "\\hline\n",
       "\t1 & 1  &  3 & 2 \\\\\n",
       "\t3 & 8  & 88 & 3 \\\\\n",
       "\\end{tabular}\n"
      ],
      "text/markdown": [
       "\n",
       "| <!--/--> | A | B | C | \n",
       "|---|---|\n",
       "| 1 | 1  |  3 | 2  | \n",
       "| 3 | 8  | 88 | 3  | \n",
       "\n",
       "\n"
      ],
      "text/plain": [
       "  A B  C\n",
       "1 1  3 2\n",
       "3 8 88 3"
      ]
     },
     "metadata": {},
     "output_type": "display_data"
    },
    {
     "data": {
      "text/html": [
       "<table>\n",
       "<thead><tr><th></th><th scope=col>A</th><th scope=col>B</th><th scope=col>C</th></tr></thead>\n",
       "<tbody>\n",
       "\t<tr><th scope=row>1</th><td>1 </td><td> 3</td><td>2 </td></tr>\n",
       "\t<tr><th scope=row>3</th><td>8 </td><td>88</td><td>3 </td></tr>\n",
       "</tbody>\n",
       "</table>\n"
      ],
      "text/latex": [
       "\\begin{tabular}{r|lll}\n",
       "  & A & B & C\\\\\n",
       "\\hline\n",
       "\t1 & 1  &  3 & 2 \\\\\n",
       "\t3 & 8  & 88 & 3 \\\\\n",
       "\\end{tabular}\n"
      ],
      "text/markdown": [
       "\n",
       "| <!--/--> | A | B | C | \n",
       "|---|---|\n",
       "| 1 | 1  |  3 | 2  | \n",
       "| 3 | 8  | 88 | 3  | \n",
       "\n",
       "\n"
      ],
      "text/plain": [
       "  A B  C\n",
       "1 1  3 2\n",
       "3 8 88 3"
      ]
     },
     "metadata": {},
     "output_type": "display_data"
    }
   ],
   "source": [
    "    new_df<-data.frame(A=c(1,NA,8,NA),B=c(3,NA,88,23),C=c(2,45,3,1))\n",
    "    new_df\n",
    "\n",
    "    #i fwe have a data set not very large we can use de function is.na\n",
    "    is.na(new_df)\n",
    "\n",
    "    #in other case could be not usefull used the previous function, so we can use \n",
    "    any(is.na(new_df))\n",
    "\n",
    "    #how many?\n",
    "    is.na(new_df)\n",
    "    \n",
    "    #use summary to find NAs\n",
    "    summary(new_df)\n",
    "    \n",
    "\n",
    "    #Now if we want to replace or work only with completes values we have:\n",
    "    #Find rows with no missing values \n",
    "    complete.cases(new_df)\n",
    "\n",
    "    #subset data, keeping only complete cases\n",
    "    new_df[complete.cases(new_df),]\n",
    "\n",
    "    #another way to remove rows whith NA´s\n",
    "    na.omit(new_df)"
   ]
  },
  {
   "cell_type": "markdown",
   "metadata": {
    "collapsed": true
   },
   "source": []
  },
  {
   "cell_type": "code",
   "execution_count": null,
   "metadata": {
    "collapsed": true
   },
   "outputs": [],
   "source": []
  }
 ],
 "metadata": {
  "kernelspec": {
   "display_name": "R",
   "language": "R",
   "name": "ir"
  },
  "language_info": {
   "codemirror_mode": "r",
   "file_extension": ".r",
   "mimetype": "text/x-r-source",
   "name": "R",
   "pygments_lexer": "r",
   "version": "3.5.1"
  }
 },
 "nbformat": 4,
 "nbformat_minor": 2
}
