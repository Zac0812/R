{
 "cells": [
  {
   "cell_type": "markdown",
   "metadata": {},
   "source": [
    "# Visualization Best Practices in R\n",
    "\n",
    "### Course Description\n",
    "This course will help you take your data visualization skills beyond the basics and hone them into a powerful member of your data science toolkit. Over the lessons we will use two interesting open datasets to cover different types of data (proportions, point-data, single distributions, and multiple distributions) and discuss the pros and cons of the most common visualizations. In addition, we will cover some less common alternatives visualizations for the data types and how to tweak default ggplot settings to most efficiently and effectively get your message across.\n",
    "\n",
    "### Note how can Resizing plots in the R kernel for Jupyter notebooks\n",
    "https://blog.revolutionanalytics.com/2015/09/resizing-plots-in-the-r-kernel-for-jupyter-notebooks.html\n",
    "\n",
    "    library(repr)\n",
    "\n",
    "    # Change plot size to 4 x 3\n",
    "    options(repr.plot.width=10, repr.plot.height=3)\n",
    "    grid.arrange(a1, a2,a3, nrow = 1)\n",
    "    \n",
    "### Note2 Generate a table \n",
    "https://www.tablesgenerator.com/markdown_tables\n",
    "\n",
    "### Note 3 - DataFrames"
   ]
  },
  {
   "cell_type": "code",
   "execution_count": null,
   "metadata": {},
   "outputs": [],
   "source": [
    "library(dplyr)\n",
    "library(ggplot2)\n",
    "library(readr)\n",
    "library(tidyr)\n",
    "library(gridExtra)\n",
    "\n",
    "path_csv<-\"https://assets.datacamp.com/production/repositories/1864/datasets/71386124a72f58a50fbc07b8254f47ef9a867ebe/who_disease.csv\"\n",
    "who_disease<-read_csv(path_csv)\n",
    "\n",
    "interestingCountries<-c(\"NGA\",\"SDN\",\"FRA\",\"NPL\",\"MYS\",\"TZA\",\"YEM\",\"UKR\",\"BGD\",\"VNM\")\n",
    "who_subset<-who_disease %>%\n",
    "  filter(countryCode %in% interestingCountries, disease == \"measles\" , year %in% c (\"2006\",\"2016\")) %>% \n",
    "  mutate(year = paste('cases_',year)) %>% \n",
    "  spread(year, cases)\n",
    "\n"
   ]
  },
  {
   "cell_type": "markdown",
   "metadata": {},
   "source": [
    "## 1) Proportions of a whole\n",
    "In this chapter, we focus on visualizing proportions of a whole; we see that pie charts really aren't so bad, along with discussing the waffle chart and stacked bars for comparing multiple proportions.\n",
    "\n",
    "### 1.1) (video) Course/Grammar of Grapichs intro\n",
    "\n",
    "#### 1.1.1) Familiarizing with disease data\n",
    "The dataset containing disease cases from the World Health Organization (WHO) is loaded into your environment as the dataframe `who_disease`.\n",
    "\n",
    "In order to familiarize yourself with the data, let's start by printing it to the console.\n",
    "\n",
    "Once you've investigated it a bit, make a simple bar chart of the number of observations by region using the supplied code. You will need to fill in the aes()thetics function to map the x-axis to the proper column name.\n",
    "\n",
    "**Exercise**\n",
    "1. Print dataframe by simply calling the it: who_disease.\n",
    "2. Modify ggplot code so aes() contains the region as its x-axis mapping\n",
    "\n",
    "*Answears*"
   ]
  },
  {
   "cell_type": "code",
   "execution_count": 3,
   "metadata": {},
   "outputs": [
    {
     "data": {
      "text/html": [
       "<table>\n",
       "<thead><tr><th scope=col>region</th><th scope=col>countryCode</th><th scope=col>country</th><th scope=col>disease</th><th scope=col>year</th><th scope=col>cases</th></tr></thead>\n",
       "<tbody>\n",
       "\t<tr><td>EMR                </td><td>AFG                </td><td>Afghanistan        </td><td>measles            </td><td>2016               </td><td>638                </td></tr>\n",
       "\t<tr><td>EUR                </td><td>ALB                </td><td>Albania            </td><td>measles            </td><td>2016               </td><td> 17                </td></tr>\n",
       "\t<tr><td>AFR                </td><td>DZA                </td><td>Algeria            </td><td>measles            </td><td>2016               </td><td> 41                </td></tr>\n",
       "\t<tr><td>EUR                </td><td>AND                </td><td>Andorra            </td><td>measles            </td><td>2016               </td><td>  0                </td></tr>\n",
       "\t<tr><td>AFR                </td><td>AGO                </td><td>Angola             </td><td>measles            </td><td>2016               </td><td> 53                </td></tr>\n",
       "\t<tr><td>AMR                </td><td>ATG                </td><td>Antigua and Barbuda</td><td>measles            </td><td>2016               </td><td>  0                </td></tr>\n",
       "</tbody>\n",
       "</table>\n"
      ],
      "text/latex": [
       "\\begin{tabular}{r|llllll}\n",
       " region & countryCode & country & disease & year & cases\\\\\n",
       "\\hline\n",
       "\t EMR                 & AFG                 & Afghanistan         & measles             & 2016                & 638                \\\\\n",
       "\t EUR                 & ALB                 & Albania             & measles             & 2016                &  17                \\\\\n",
       "\t AFR                 & DZA                 & Algeria             & measles             & 2016                &  41                \\\\\n",
       "\t EUR                 & AND                 & Andorra             & measles             & 2016                &   0                \\\\\n",
       "\t AFR                 & AGO                 & Angola              & measles             & 2016                &  53                \\\\\n",
       "\t AMR                 & ATG                 & Antigua and Barbuda & measles             & 2016                &   0                \\\\\n",
       "\\end{tabular}\n"
      ],
      "text/markdown": [
       "\n",
       "region | countryCode | country | disease | year | cases | \n",
       "|---|---|---|---|---|---|\n",
       "| EMR                 | AFG                 | Afghanistan         | measles             | 2016                | 638                 | \n",
       "| EUR                 | ALB                 | Albania             | measles             | 2016                |  17                 | \n",
       "| AFR                 | DZA                 | Algeria             | measles             | 2016                |  41                 | \n",
       "| EUR                 | AND                 | Andorra             | measles             | 2016                |   0                 | \n",
       "| AFR                 | AGO                 | Angola              | measles             | 2016                |  53                 | \n",
       "| AMR                 | ATG                 | Antigua and Barbuda | measles             | 2016                |   0                 | \n",
       "\n",
       "\n"
      ],
      "text/plain": [
       "  region countryCode country             disease year cases\n",
       "1 EMR    AFG         Afghanistan         measles 2016 638  \n",
       "2 EUR    ALB         Albania             measles 2016  17  \n",
       "3 AFR    DZA         Algeria             measles 2016  41  \n",
       "4 EUR    AND         Andorra             measles 2016   0  \n",
       "5 AFR    AGO         Angola              measles 2016  53  \n",
       "6 AMR    ATG         Antigua and Barbuda measles 2016   0  "
      ]
     },
     "metadata": {},
     "output_type": "display_data"
    },
    {
     "data": {},
     "metadata": {},
     "output_type": "display_data"
    },
    {
     "data": {
      "image/png": "[encoded data removed]",
      "text/plain": [
       "plot without title"
      ]
     },
     "metadata": {},
     "output_type": "display_data"
    }
   ],
   "source": [
    "library(repr)\n",
    "\n",
    "# Change plot size to 4 x 3\n",
    "options(repr.plot.width=4, repr.plot.height=3)\n",
    "\n",
    "# print dataframe to inspect\n",
    "head(who_disease)\n",
    "\n",
    "# set x aesthetic to region column\n",
    "ggplot(who_disease, aes(x = region)) + geom_bar()"
   ]
  },
  {
   "cell_type": "markdown",
   "metadata": {},
   "source": [
    "#### 1.1.2) Warming up data-wrangling\n",
    "Let's warm up your tidyverse data wrangling skills a bit and look at the number of cases reported by year for the American region ('AMR').\n",
    "\n",
    "To do this, we will first filter the dataset to our desired region, then make a simple scatter plot of the  `year` by `cases`.\n",
    "\n",
    "In addition, set the opacity of the points to 50% (0.5) so we can get a sense of data overlap.\n",
    "\n",
    "**Exercise**    \n",
    "\n",
    "*Answears*"
   ]
  },
  {
   "cell_type": "code",
   "execution_count": 4,
   "metadata": {},
   "outputs": [
    {
     "data": {},
     "metadata": {},
     "output_type": "display_data"
    },
    {
     "data": {
      "image/png": "[encoded data removed]",
      "text/plain": [
       "plot without title"
      ]
     },
     "metadata": {},
     "output_type": "display_data"
    }
   ],
   "source": [
    "library(repr)\n",
    "\n",
    "# Change plot size to 4 x 3\n",
    "options(repr.plot.width=4, repr.plot.height=3)\n",
    "\n",
    "\n",
    "# filter data to AMR region. \n",
    "amr_region <- who_disease %>%\n",
    "filter(region ==  'AMR')\n",
    "\n",
    "# map x to year and y to cases. \n",
    "ggplot(amr_region, aes(x = year, y = cases)) + \n",
    "# lower alpha to 0.5 to see overlap \n",
    "geom_point(alpha = .5)"
   ]
  },
  {
   "cell_type": "markdown",
   "metadata": {},
   "source": [
    "### 1.2) (video) The Pie Chart and its friends\n",
    "\n",
    "#### 1.2.1) The infamous P-I-E\n",
    "Intuitively, you can think about a pie chart as a `stacked bar chart` that has been 'wrapped' around some central axis. Conveniently, this intuition fits very well with how they are made in ggplot2.\n",
    "\n",
    "Supplied is code to summarize our who_disease data into a dataframe containing three diseases: measles, mumps, and,other, along with their total number of cases in the data.\n",
    "\n",
    "Your job is to turn the empty ggplot object into a `stacked bar-chart`, then into a `pie-chart` by using the transform `coord_polar(theta = 'y')`.\n",
    "\n",
    "Notice how I have set `x = 1` in the aesthetics. This is because **we only want one bar chart here**. We'll learn about multiple stacked bar charts in the next lesson!\n",
    "  \n",
    "**Exercise**    \n",
    "1. Add a column geometry (geom_col()) to the supplied ggplot object.\n",
    "2. Switch to polar coordinates by adding coord_polar()\n",
    "\n",
    "*Answears*"
   ]
  },
  {
   "cell_type": "code",
   "execution_count": 5,
   "metadata": {},
   "outputs": [
    {
     "data": {},
     "metadata": {},
     "output_type": "display_data"
    },
    {
     "data": {
      "image/png": "[encoded data removed]",
      "text/plain": [
       "plot without title"
      ]
     },
     "metadata": {},
     "output_type": "display_data"
    }
   ],
   "source": [
    "library(repr)\n",
    "\n",
    "# Change plot size to 4 x 3\n",
    "options(repr.plot.width=4, repr.plot.height=3)\n",
    "\n",
    "# Wrangle data into form we want. \n",
    "disease_counts <- who_disease %>%\n",
    "mutate(disease = ifelse(disease %in% c('measles', 'mumps'), disease, 'other')) %>%\n",
    "group_by(disease) %>%\n",
    "summarise(total_cases = sum(cases))\n",
    "\n",
    "ggplot(disease_counts, aes(x = 1, y = total_cases, fill = disease)) +\n",
    "# Use a column geometry.\n",
    "geom_col() +\n",
    "# Change coordinate system to polar and set theta to 'y'.\n",
    "coord_polar(theta = 'y')\n"
   ]
  },
  {
   "cell_type": "markdown",
   "metadata": {},
   "source": [
    "#### 1.2.2) Cleaning up the pie\n",
    "The pie chart you made in the last plot is good, but it's a little cluttered. Let's clean it up using the ggplot function `theme_void()` along with giving it a meaningful title with `ggtitle(...)`.\n",
    "\n",
    "The disease_counts summarized dataframe from the last exercise is already loaded for you.\n",
    "\n",
    "**Exercise** \n",
    "  1. Add theme_void() to the ggplot object to clean up the background.\n",
    "2. Give the plot the title 'Proportion of diseases'\n",
    "\n",
    "*Answears*"
   ]
  },
  {
   "cell_type": "code",
   "execution_count": 6,
   "metadata": {},
   "outputs": [
    {
     "data": {},
     "metadata": {},
     "output_type": "display_data"
    },
    {
     "data": {
      "image/png": "[encoded data removed]",
      "text/plain": [
       "plot without title"
      ]
     },
     "metadata": {},
     "output_type": "display_data"
    }
   ],
   "source": [
    "library(repr)\n",
    "\n",
    "# Change plot size to 4 x 3\n",
    "options(repr.plot.width=4, repr.plot.height=3)\n",
    "\n",
    "  \n",
    "  # Wrangle data into form we want. \n",
    "  disease_counts <- who_disease %>%\n",
    "  mutate(disease = ifelse(disease %in% c('measles', 'mumps'), disease, 'other')) %>%\n",
    "  group_by(disease) %>%\n",
    "  summarise(total_cases = sum(cases))\n",
    "\n",
    "ggplot(disease_counts, aes(x = 1, y = total_cases, fill = disease)) +\n",
    "  # Use a column geometry.\n",
    "  geom_col() +\n",
    "  # Change coordinate system to polar.\n",
    "  coord_polar(theta = \"y\") +\n",
    "  # Clean up the background with theme_void and give it a proper title with ggtitle.\n",
    "  theme_void() +\n",
    "  ggtitle('Proportion of diseases')"
   ]
  },
  {
   "cell_type": "markdown",
   "metadata": {},
   "source": [
    "#### 1.2.3) How about a waffle?\n",
    "What if we are interested in the details of the 'other' class?\n",
    "  \n",
    "  Let's make the switch to a `waffle chart`, as they are capable of dealing with more classes. We'll use the same data-manipulation pipeline from the last exercise, but this time with all the diseases left in.\n",
    "\n",
    "We will use the library `waffle` which contains the function `waffle()`. This function produces a waffle chart for you when supplied with a named vector of counts.\n",
    "\n",
    "It will draw one square for each unit supplied in the vector, so we need to manipulate our disease counts to rounded percents (note the mutate() call in the supplied data wrangling code).\n",
    "\n",
    "**Exercise**    \n",
    "1. Give the case_counts vector names using the names() function.\n",
    "2. Call the waffle() function in the library waffle with the case_counts vector supplied as an argument.\n",
    "\n",
    "\n",
    "*Answears*\n"
   ]
  },
  {
   "cell_type": "code",
   "execution_count": 7,
   "metadata": {},
   "outputs": [
    {
     "name": "stderr",
     "output_type": "stream",
     "text": [
      "Warning message:\n",
      "\"package 'waffle' was built under R version 3.5.3\""
     ]
    },
    {
     "data": {},
     "metadata": {},
     "output_type": "display_data"
    },
    {
     "data": {
      "image/png": "[encoded data removed]",
      "text/plain": [
       "plot without title"
      ]
     },
     "metadata": {},
     "output_type": "display_data"
    }
   ],
   "source": [
    "library(repr)\n",
    "\n",
    "# Change plot size to 4 x 3\n",
    "options(repr.plot.width=4, repr.plot.height=3)\n",
    "\n",
    "  \n",
    "  library(waffle)\n",
    "disease_counts <- who_disease %>%\n",
    "  group_by(disease) %>%\n",
    "  summarise(total_cases = sum(cases)) %>% \n",
    "  mutate(percent = round(total_cases/sum(total_cases)*100))\n",
    "\n",
    "# Create an array of rounded percentages for diseases.\n",
    "case_counts <- disease_counts$percent\n",
    "\n",
    "# Name the percentage array with disease_counts$disease\n",
    "names(case_counts)<-disease_counts$disease\n",
    "\n",
    "# Pass case_counts vector to the waffle function to plot\n",
    "waffle(case_counts)"
   ]
  },
  {
   "cell_type": "markdown",
   "metadata": {},
   "source": [
    "### 1.3) (video) When to use bars\n",
    "\n",
    "#### 1.3.1) Basic stacked bars\n",
    "When we made the pie and waffle charts in the last exercises, we looked at all years in the data combined together.\n",
    "\n",
    "Now, we're interested in looking at these patterns over time. To do this we will make a stacked bar chart with the x-axis being the year of observation. Like we did with the pie chart before, we will simplify the data to just be measles, mumps, and other.\n",
    "\n",
    "Do you notice anything funky in the data after visualizing it this way?\n",
    "\n",
    "**Exercise**  \n",
    "1. Modify the aes() call to include the year mapped to the x-axis.\n",
    "2. Make bars fill the entire y-axis by adjusting position argument in geom_col()\n",
    "\n",
    "*Answears*"
   ]
  },
  {
   "cell_type": "code",
   "execution_count": 9,
   "metadata": {},
   "outputs": [
    {
     "data": {},
     "metadata": {},
     "output_type": "display_data"
    },
    {
     "data": {
      "image/png": "[encoded data removed]",
      "text/plain": [
       "plot without title"
      ]
     },
     "metadata": {},
     "output_type": "display_data"
    }
   ],
   "source": [
    "library(repr)\n",
    "\n",
    "# Change plot size to 4 x 3\n",
    "options(repr.plot.width=6, repr.plot.height=3)\n",
    "\n",
    "\n",
    "disease_counts <- who_disease %>%\n",
    "mutate(disease = ifelse(disease %in% c('measles', 'mumps'), disease, 'other')) %>%\n",
    "group_by(disease, year) %>% # note the addition of year to the grouping.\n",
    "summarise(total_cases = sum(cases))\n",
    "\n",
    "# add the mapping of year to the x axis. \n",
    "ggplot(disease_counts, aes(x = year, y = total_cases, fill = disease)) +\n",
    "# Change the position argument to make bars full height\n",
    "geom_col(position = \"fill\")"
   ]
  },
  {
   "cell_type": "markdown",
   "metadata": {},
   "source": [
    "#### 1.3.2) Ordering stack for readability\n",
    "In the last plot since we grouped all diseases that are not measles and mumps into their own category, it's fair to assume that we care less about the 'other' category's trajectory than those of measles and mumps.\n",
    "\n",
    "Because of this, the plot we made has a problem. The way that the bars are stacked, with measles on top, mumps in the middle, and other on the bottom, makes it hard to get a good intuition for the behavior of mumps over time because its baseline is non-constant due to changing values in measles proportions.\n",
    "\n",
    "Ggplot orders the bars and legend based upon the order it sees the variables in the dataset. To override this, turn the disease column into a factor with the `levels` in the order we want our plot to use.\n",
    "\n",
    "**Exercise**  \n",
    "1. Change the mutate function in the data-manipulation pipeline to turn disease into a factor with levels = c('measles', 'other', 'mumps').\n",
    "2. Re-plot using the same code as the last exercise.\n",
    "\n",
    "*Answears*"
   ]
  },
  {
   "cell_type": "code",
   "execution_count": 11,
   "metadata": {},
   "outputs": [
    {
     "data": {},
     "metadata": {},
     "output_type": "display_data"
    },
    {
     "data": {
      "image/png": "[encoded data removed]",
      "text/plain": [
       "plot without title"
      ]
     },
     "metadata": {},
     "output_type": "display_data"
    }
   ],
   "source": [
    "library(repr)\n",
    "\n",
    "# Change plot size to 4 x 3\n",
    "options(repr.plot.width=6, repr.plot.height=3)\n",
    "\n",
    "disease_counts <- who_disease %>%\n",
    "mutate(\n",
    "disease = ifelse(disease %in% c('measles', 'mumps'), disease, 'other') %>% \n",
    "factor(levels = c('measles', 'other', 'mumps')) # change factor levels to desired ordering\n",
    ") %>%\n",
    "group_by(disease, year) %>%\n",
    "summarise(total_cases = sum(cases)) \n",
    "\n",
    "# plot\n",
    "ggplot(disease_counts, aes(x = year, y = total_cases, fill = disease)) +\n",
    "geom_col(position = 'fill')\n"
   ]
  },
  {
   "cell_type": "markdown",
   "metadata": {},
   "source": [
    "#### 1.3.3) Categorical x-axis\n",
    "In the previous charts, we saw that mumps didn't start getting reported until 1999, making comparisons before then meaningless.\n",
    "\n",
    "Let's filter the data to be only the cases reported on or after 1999 and then make a stacked bar chart looking at the proportion of different diseases by region.\n",
    "\n",
    "Modify the data-manipulation pipeline to get the data into the form you want, then build your stacked bar chart and plot! Don't worry about ordering the bars here as we did in the last exercise. See any surprising patterns?\n",
    "\n",
    "**Exercise**  \n",
    "1. Filter who_disease data to only years 1999 and later.\n",
    "2. Add to group_by() to keep region information in summary.\n",
    "3. Fill out aesthetics with x = region, y = total_cases, and fill = disease.\n",
    "\n",
    "*Answears*\n",
    " "
   ]
  },
  {
   "cell_type": "code",
   "execution_count": 13,
   "metadata": {},
   "outputs": [
    {
     "data": {},
     "metadata": {},
     "output_type": "display_data"
    },
    {
     "data": {
      "image/png": "[encoded data removed]",
      "text/plain": [
       "plot without title"
      ]
     },
     "metadata": {},
     "output_type": "display_data"
    }
   ],
   "source": [
    "library(repr)\n",
    "\n",
    "# Change plot size to 4 x 3\n",
    "options(repr.plot.width=6, repr.plot.height=3)\n",
    "\n",
    "disease_counts <- who_disease %>%\n",
    "# Filter to on or later than 1999\n",
    "filter(year >= 1999) %>% \n",
    "mutate(disease = ifelse(disease %in% c('measles', 'mumps'), disease, 'other')) %>%\n",
    "group_by(disease, region) %>%    # Add region to grouping\n",
    "summarise(total_cases = sum(cases))\n",
    "\n",
    "# Set aesthetics so disease is the stacking variable, region is the x-axis and counts are the y\n",
    "ggplot(disease_counts, aes(x = region, y = total_cases, fill = disease)) +\n",
    "# Add a column geometry with the proper position value. \n",
    "geom_col(position = 'fill')\n",
    "\n"
   ]
  },
  {
   "cell_type": "markdown",
   "metadata": {},
   "source": [
    "## 2.0) Point data\n",
    "We shift our focus now to single-observation or point data and go over when bar charts are appropriate and when they are not, what to use when they are not, and general perception-based enhancements for your charts.\n",
    "\n",
    "### 2.1) (video) Point Data\n",
    "\n",
    "#### 2.1.1) Working with geom_col\n",
    "In ggplot, there are two different ways to make bar plots: `geom_col()` and `geom_bar()`.\n",
    "\n",
    "If your data is in the form where the height of the bar is encoded in a column that you want to map to the y-axis, like counts of diseases are in our data, you want to use the `geom_col()` option.\n",
    "\n",
    "Let's make a barplot of the number of cases recorded by disease for India in 1980 using `geom_col()`.\n",
    "\n",
    "**Exercise**  \n",
    "1. filter() the data to the country of India and the year 1980 with country == \"India\", year == 1980.\n",
    "2. Map disease to the x-axis and cases to the y-axis in the aes() call.\n",
    "3. Add a geom_col() geometry.\n",
    "\n",
    "*Answears*"
   ]
  },
  {
   "cell_type": "code",
   "execution_count": 14,
   "metadata": {},
   "outputs": [
    {
     "data": {},
     "metadata": {},
     "output_type": "display_data"
    },
    {
     "data": {
      "image/png": "[encoded data removed]",
      "text/plain": [
       "plot without title"
      ]
     },
     "metadata": {},
     "output_type": "display_data"
    }
   ],
   "source": [
    "library(repr)\n",
    "\n",
    "# Change plot size to 4 x 3\n",
    "options(repr.plot.width=6, repr.plot.height=3)\n",
    "\n",
    "\n",
    "who_disease %>% \n",
    "# filter to india in 1980\n",
    "filter(country == \"India\", year == 1980) %>% \n",
    "# map x aesthetic to disease and y to cases\n",
    "ggplot(aes(x = disease, y = cases )) +\n",
    "# use geom_col to draw\n",
    "geom_col()\n"
   ]
  },
  {
   "cell_type": "markdown",
   "metadata": {},
   "source": [
    "#### 2.1.2) Wrangling geom_bar\n",
    "Whereas `geom_col()` expects you to pass it a y-axis mapping column, `geom_bar()` doesn't take a y-axis call (at least by default).\n",
    "\n",
    "Instead, `geom_bar()` takes your x-axis mapping and counts every single observation (or row of the passed dataframe) for each class and then draws bars of corresponding heights\n",
    "\n",
    "These two code chunks will give you the same plot:\n",
    "  \n",
    "    # geom_col()\n",
    "    data %>%\n",
    "    groupby(xAxisCol) %>%\n",
    "    summarize(value = n()) %>%\n",
    "    ggplot(aes(x = xAxisCol, y = value) + \n",
    "    geom_col()\n",
    "         \n",
    "    # geom_bar()\n",
    "    data %>%\n",
    "    ggplot(aes(x = xAxisCol)) +\n",
    "    geom_bar()\n",
    "\n",
    "Let's use `geom_bar()` to make a look at observations with a large number of cases by region our WHO data.\n",
    "\n",
    "**Exercise**\n",
    "\n",
    "1. filter() the who_disease data into only observations (rows) with greater than 1000 cases.\n",
    "2. Map the x-axis to the region column.\n",
    "3. Add geom_bar() to the plot object to draw the bars.\n",
    "*Answears*"
   ]
  },
  {
   "cell_type": "code",
   "execution_count": 15,
   "metadata": {},
   "outputs": [
    {
     "data": {},
     "metadata": {},
     "output_type": "display_data"
    },
    {
     "data": {
      "image/png": "[encoded data removed]",
      "text/plain": [
       "plot without title"
      ]
     },
     "metadata": {},
     "output_type": "display_data"
    }
   ],
   "source": [
    "library(repr)\n",
    "\n",
    "# Change plot size to 4 x 3\n",
    "options(repr.plot.width=6, repr.plot.height=3)\n",
    "\n",
    "who_disease %>%\n",
    "# filter data to observations of greater than 1,000 cases\n",
    "filter(cases > 1000) %>%\n",
    "# map the x-axis to the region column\n",
    "ggplot(aes(x = region)) + \n",
    "# add a geom_bar call \n",
    "geom_bar()"
   ]
  },
  {
   "cell_type": "markdown",
   "metadata": {},
   "source": [
    "### 2.2) (video) Point Charts\n",
    "\n",
    "#### 2.2.1) Ordered point chart\n",
    "Let's start by improving the point plot we saw in the slides.\n",
    "\n",
    "First, change the data manipulation pipeline to filter to the years 1992 and 2002 instead of the default 2006-2016. Note that the array interestingCountries has been loaded and is the same as in the slides.\n",
    "\n",
    "Now modify the plotting code to plot the new data, but this time, let's reorder the y-axis in descending order of cases for 1992.\n",
    "\n",
    "**Exercise**  \n",
    "1. Modify filter() to pull the years 1992 and 2002.\n",
    "2. Modify Aesthetics to:\n",
    "* Plot the cases for 1992 by country.\n",
    "* reorder() y-axis by the number of cases.\n",
    "\n",
    "*Answears*"
   ]
  },
  {
   "cell_type": "code",
   "execution_count": 16,
   "metadata": {},
   "outputs": [
    {
     "data": {},
     "metadata": {},
     "output_type": "display_data"
    },
    {
     "data": {
      "image/png": "[encoded data removed]",
      "text/plain": [
       "plot without title"
      ]
     },
     "metadata": {},
     "output_type": "display_data"
    }
   ],
   "source": [
    "library(repr)\n",
    "\n",
    "# Change plot size to 4 x 3\n",
    "options(repr.plot.width=6, repr.plot.height=3)\n",
    "\n",
    " \n",
    " who_subset <- who_disease %>% \n",
    " filter(\n",
    " countryCode %in% interestingCountries,\n",
    " disease == 'measles',\n",
    " year %in% c(1992, 2002) # Modify years to 1992 and 2002\n",
    " ) %>% \n",
    " mutate(year = paste0('cases_', year)) %>% \n",
    " spread(year, cases)\n",
    " \n",
    " # Reorder y axis and change the cases year to 1992\n",
    " ggplot(who_subset, aes(x = log10(cases_1992), y = reorder(country, cases_1992))) +\n",
    " geom_point()\n",
    " "
   ]
  },
  {
   "cell_type": "markdown",
   "metadata": {},
   "source": [
    "#### 2.2.2) Adding visual anchors\n",
    "A nice property of the log fold change is it is symmetric: a value of 1 means two times 'bigger', and -1 means two times 'smaller.' Due to this, the position of 0 on the x-axis marks the switch point between count declines and increases over years. When your data has a natural break-point like this, it is good if the chart shows it as a focal-point as well.\n",
    "\n",
    "The code provided will make a basic point chart of the log fold change for the dates. To improve it, we will do two things. First, reorder the dots in descending order like in the previous exercise. Second, add a guideline at x = 0 to show the neutral point by adding `geom_vline()` (for `v`ertical `line`) to your plot object with the argument `xintercept` set to 0.\n",
    "\n",
    "\n",
    "**Exercise**  \n",
    "1. Order dots in descending by wrapping the y mapping in reorder().\n",
    "2. Add visual anchor at x = 0 with geom_vline().\n",
    "\n",
    "*Answears*"
   ]
  },
  {
   "cell_type": "code",
   "execution_count": 17,
   "metadata": {},
   "outputs": [
    {
     "data": {},
     "metadata": {},
     "output_type": "display_data"
    },
    {
     "data": {
      "image/png": "[encoded data removed]",
      "text/plain": [
       "plot without title"
      ]
     },
     "metadata": {},
     "output_type": "display_data"
    }
   ],
   "source": [
    "library(repr)\n",
    "\n",
    "# Change plot size to 4 x 3\n",
    "options(repr.plot.width=6, repr.plot.height=3)\n",
    "\n",
    "who_subset %>% \n",
    "# calculate the log fold change between 2016 and 2006\n",
    "mutate(logFoldChange = log2(cases_2002/cases_1992)) %>% \n",
    "# set y axis as country ordered with respect to logFoldChange\n",
    "ggplot(aes(x = logFoldChange, y = reorder(country, logFoldChange))) +\n",
    "geom_point() +\n",
    "# add a visual anchor at x = 0\n",
    "geom_vline(xintercept = 0)\n"
   ]
  },
  {
   "cell_type": "markdown",
   "metadata": {},
   "source": [
    "#### 2.2.3) Faceting to show structure.\n",
    "Taking the code from the last exercise, let's modify it to group the countries by their region by faceting.\n",
    "\n",
    "This will help inject a bit more structure into the presentation while not overly complicating the chart.\n",
    "\n",
    "We want to use `facet_grid()` here and keep all the plots in the same column, enabling easy comparisons outside of a region while still maintaining the region-level grouping.\n",
    "\n",
    "You will also need to adjust the `scale` argument in `facet_grid()` in order to avoid repeating the entire y-axis structure for every facet.\n",
    "\n",
    "**Exercise**  \n",
    "1. Add facet_grid() to the code from the last plot and set its faceting variable to region~..\n",
    "2. Set y-axis to be free by setting scale to 'free_y'.\n",
    "\n",
    "*Answears*"
   ]
  },
  {
   "cell_type": "code",
   "execution_count": 18,
   "metadata": {},
   "outputs": [
    {
     "data": {},
     "metadata": {},
     "output_type": "display_data"
    },
    {
     "data": {
      "image/png": "[encoded data removed]",
      "text/plain": [
       "plot without title"
      ]
     },
     "metadata": {},
     "output_type": "display_data"
    }
   ],
   "source": [
    "library(repr)\n",
    "\n",
    "# Change plot size to 4 x 3\n",
    "options(repr.plot.width=6, repr.plot.height=3)\n",
    "\n",
    "who_subset %>% \n",
    "mutate(logFoldChange = log2(cases_2002/cases_1992)) %>% \n",
    "ggplot(aes(x = logFoldChange, y = reorder(country, logFoldChange))) +\n",
    "geom_point() +\n",
    "geom_vline(xintercept = 0) +\n",
    "xlim(-6,6) +\n",
    "# add facet_grid arranged in the column direction by region and free_y scales\n",
    "facet_grid(region~., scales = 'free_y') \n"
   ]
  },
  {
   "cell_type": "markdown",
   "metadata": {},
   "source": [
    " ### 2.3) (video) Tuning your charts\n",
    " \n",
    " #### 2.3.1) Let's flip some axes\n",
    " First, we can practice rotating a plot. Provided is code that makes a bar plot of the number of cases of pertussis in the Americas region (AMR) in 1980. You will notice it's almost unreadable.\n",
    " \n",
    " First, to help see patterns that may be in the data, reorder() the columns in descending order of cases.\n",
    " \n",
    " Next, let's coord_flip() the axes to make it possible to read the country names.\n",
    " \n",
    " **Exercise**  \n",
    "   *Answears*"
   ]
  },
  {
   "cell_type": "code",
   "execution_count": 20,
   "metadata": {},
   "outputs": [
    {
     "data": {},
     "metadata": {},
     "output_type": "display_data"
    },
    {
     "data": {
      "image/png": "[encoded data removed]",
      "text/plain": [
       "plot without title"
      ]
     },
     "metadata": {},
     "output_type": "display_data"
    }
   ],
   "source": [
    "library(repr)\n",
    "\n",
    "# Change plot size to 4 x 3\n",
    "options(repr.plot.width=6, repr.plot.height=5)\n",
    "\n",
    "\n",
    "amr_pertussis <- who_disease %>% \n",
    "filter(   # filter data to our desired subset\n",
    " region == 'AMR', \n",
    " year == 1980, \n",
    " disease == 'pertussis'\n",
    ")\n",
    "\n",
    "\n",
    "# Set x axis as country ordered with respect to cases. \n",
    "ggplot(amr_pertussis, aes(x = reorder(country, cases), y = cases)) +\n",
    "geom_col() +\n",
    "# flip axes\n",
    "coord_flip()"
   ]
  },
  {
   "cell_type": "markdown",
   "metadata": {},
   "source": [
    "#### 2.3.2) Cleaning up the bars\n",
    "The changes we made to the last plot are great and improved it immensely, but we can go further!\n",
    "\n",
    "We seem to have a few countries that have zero counts for the cases. Let's get rid of these to free up even more space for the country names to breath.\n",
    "\n",
    "In addition, let's get rid of the unnecessary horizontal lines that are cluttering up the background.\n",
    "\n",
    "The dataframe `amr_pertussis` that we made in the last exercise is already loaded for you.\n",
    "\n",
    "\n",
    "**Exercise**  \n",
    "1. Add a filter() to amr_pertussis so we only have countries that had more than zero cases.\n",
    "2. Using the theme() function, remove the horizontal grid lines panel.grid.major.y from the background.\n",
    "\n",
    "*Answears*"
   ]
  },
  {
   "cell_type": "code",
   "execution_count": 21,
   "metadata": {},
   "outputs": [
    {
     "data": {},
     "metadata": {},
     "output_type": "display_data"
    },
    {
     "data": {
      "image/png": "[encoded data removed]",
      "text/plain": [
       "plot without title"
      ]
     },
     "metadata": {},
     "output_type": "display_data"
    }
   ],
   "source": [
    "library(repr)\n",
    "\n",
    "# Change plot size to 4 x 3\n",
    "options(repr.plot.width=6, repr.plot.height=5)\n",
    "\n",
    "amr_pertussis <- who_disease %>% \n",
    "filter(   # filter data to our desired subset\n",
    " region == 'AMR', \n",
    " year == 1980, \n",
    " disease == 'pertussis'\n",
    ")\n",
    "\n",
    "amr_pertussis %>% \n",
    "# filter to countries that had > 0 cases. \n",
    "filter(cases > 0) %>%\n",
    "ggplot(aes(x = reorder(country, cases), y = cases)) +\n",
    "geom_col() +\n",
    "coord_flip() +\n",
    "theme(\n",
    " # get rid of the 'major' y grid lines\n",
    " panel.grid.major.y  = element_blank()\n",
    ")"
   ]
  },
  {
   "cell_type": "markdown",
   "metadata": {},
   "source": [
    "#### 2.3.3) Converting to point chart\n",
    "Our plot in the last exercise looked good, but what if we care about the values of the lower-end of the cases? It's hard for us to get a sense of their values because Brazil and Argentina are forcing the axis' upper range so high.\n",
    "\n",
    "This is a good situation to switch to a log scale. However, remember that when on a log scale our stacking concept fails, so we should switch to a point chart! Note the additional filter added to the pipeline. What happens if you run the code without it?\n",
    "\n",
    "This time, instead of modifying the data before sending to ggplot(), we will add scale_y_log10() to our plot and ggplot will take care of it for us.\n",
    "\n",
    "To polish, use theme_minimal() to lighten the chart up and increase the size of the points from the default to 2.\n",
    "\n",
    "**Exercise**  \n",
    "1. Change the geometry from geom_col() to geom_point() .\n",
    "2. Increase point size with size = 2.\n",
    "3. Switch to a log scale with scale_y_log10().\n",
    "4. Lighten the background with theme_minimal().\n",
    "\n",
    "*Answears*"
   ]
  },
  {
   "cell_type": "code",
   "execution_count": 22,
   "metadata": {},
   "outputs": [
    {
     "data": {},
     "metadata": {},
     "output_type": "display_data"
    },
    {
     "data": {
      "image/png": "[encoded data removed]",
      "text/plain": [
       "plot without title"
      ]
     },
     "metadata": {},
     "output_type": "display_data"
    }
   ],
   "source": [
    "library(repr)\n",
    "\n",
    "# Change plot size to 4 x 3\n",
    "options(repr.plot.width=6, repr.plot.height=5)\n",
    "\n",
    "amr_pertussis <- who_disease %>% \n",
    "filter(   # filter data to our desired subset\n",
    " region == 'AMR', \n",
    " year == 1980, \n",
    " disease == 'pertussis'\n",
    ")\n",
    "\n",
    "amr_pertussis %>% filter(cases > 0) %>% \n",
    "ggplot(aes(x = reorder(country, cases), y = cases)) + \n",
    "# switch geometry to points and set point size = 2\n",
    "geom_point(size = 2) + \n",
    "# change y-axis to log10. \n",
    "scale_y_log10() +\n",
    "# add theme_minimal()\n",
    "theme_minimal() +\n",
    "coord_flip()"
   ]
  },
  {
   "cell_type": "markdown",
   "metadata": {},
   "source": [
    "## 3.0) Single Distributions\n",
    "We now move on to visualizing distributional data, we expose the fragility of histograms, discuss when it is better to shift to a kernel density plots, and how to make both plots work best for your data\n",
    "\n",
    "### 3.1) (video) Importance of distributions\n",
    "Note: We'll be working with a new dataframe that unfortunately, we can´t access it\n",
    "\n",
    "#### 3.1.3) Changing y-axis to density\n",
    "By default, you will notice that the y-axis is the 'count' of points that fell within a given bin. This is nice and interpretable, but what if we wanted to interpret the plot as a true density curve like it's trying to estimate? I.e. all the (bar widths) * (bar heights) sum to 1?\n",
    "\n",
    "To do this we simply add `y = stat(density)` to the aesthetic mappings, this will re-scale the y-axis from counts to an empirical probability estimate. Note this won't change the shape of the plot at all, but will simply give you a different interpretation of the y-axis.\n",
    "\n",
    "Let's try it out on the hour of the day that a speeder was pulled over `(hour_of_day)`. In addition, lower the opacity of the bars a bit so the grid lines show through to allow easier comparisons.\n",
    "\n",
    "**Exercise**  \n",
    "1. set x-aesthetic to hour_of_day.\n",
    "2. set the y-aesthetic to stat(density).\n",
    "3. change the alpha value in geom_histogram() to 0.8.\n",
    "\n",
    "*Answears*\n",
    "\n",
    "    ggplot(md_speeding) +\n",
    "    geom_histogram(\n",
    "     # set x and y aesthetics to hour_of_day and stat(density) respectively.\n",
    "     aes(x = hour_of_day, y = stat(density))\n",
    "     # make points see-through by setting alpha to 0.8\n",
    "     ,alpha = .8\n",
    "    )"
   ]
  },
  {
   "cell_type": "markdown",
   "metadata": {},
   "source": [
    " ### 3.2) (video) Histogram Nuances\n",
    "\n",
    "#### 3.2.1) Adjusting the bin numbers\n",
    "Let's take our first steps away from the default number of bins with our histograms. We'll start by building a histogram of the percentage of the speed a driver is traveling over the limit for each citation. This is calculated as ((speed - speed_limit) / speed_limit)*100.\n",
    "\n",
    "Plot percentage over the speed limit as a histogram with the number of bins set to 40. While you're at it, set the alpha to 0.8. You're entirely on your own with this one, no scaffolding.\n",
    "\n",
    "**Exercise**  \n",
    "1. Load md_speeding into ggplot() object.\n",
    "2. Add a histogram geometry to plot.\n",
    "3. Set x aes()thetic to percentage_over_limit.\n",
    "4. Adjust settings for 40 bins and set alpha as 0.8.\n",
    "\n",
    "  *Answears*\n",
    "  \n",
    "      # Load md_speeding into ggplot\n",
    "      ggplot(md_speeding) +\n",
    "      # add a geom_histogram with x mapped to percentage_over_limit\n",
    "      geom_histogram(\n",
    "       aes(x = percentage_over_limit),\n",
    "       bins = 40,     # 40 binsset bin number to 40\n",
    "       alpha = 0.8 )  # reduce alpha to 0.8\n",
    "\n",
    "#### 3.2.3) Bin width by context\n",
    "The supplied code looks at the distribution of citations by hour of the day. Notice how the bars don't fall nicely on a given hour; making the interpretation of the bar heights a bit ungainly. When your data has natural breakpoints like this, you should exploit them. In this case, we can set our breaks to fall on the hour boundaries.\n",
    "\n",
    "Modify `geom_histogram()` to set the `binwidth` to `1` hour. This argument, however, doesn't tell ggplot where to start its bins, which by default is determined by the extent of the data. To fix this, set the `center` argument to `0.5`. This says you want one of the bars to be centered at 30 mins past midnight, ggplot then arranges the rest of the bars accordingly. (You could set this to be any hour + 0.5 such as 2.5, 3.5 etc..)\n",
    "\n",
    "**Exercise**  \n",
    "1. Set the binwidth of the plot to 1.\n",
    "2. Center the bars on the half hour with the center argument.\n",
    "\n",
    "*Answears*\n",
    "\n",
    "      ggplot(md_speeding,aes(x = hour_of_day)) +\n",
    "      geom_histogram(\n",
    "       binwidth = 1,  # set binwidth to 1\n",
    "       center = .5  # Center bins at the half (0.5) hour\n",
    "      ) +\n",
    "      scale_x_continuous(breaks = 0:24)\n",
    "\n",
    "### 3.3) (video) The kernel density estimator\n",
    "Now that we have seen where and how histogram fail, what are our alternatives,one of most popular is Kernel Density Estimator (KDE)\n",
    "\n",
    "#### 3.3.1) Histogram to KDE\n",
    "For these exercises, we will be looking at a subset of our data of citations handed out to `\"Heavy Duty Truck\"s`. We may be a data-savvy truck driver and want to know when the most dangerous time to be out on the road is. Note that the sample size here is only 32 observations.\n",
    "\n",
    "Below is code to make a default histogram with ggplot. Unsurprisingly, it's not great. There's not really enough data to fill out even 30 bins, making it rather hard to read or get a grasp of the data. Switch the geometry to a KDE using `geom_density()`. Lastly, in an effort to maintain the most transparency with your visualization, add a subtitle to the plot telling the viewer the bin-width used for your KDE.\n",
    "\n",
    "**Exercise**  \n",
    "1. Change histogram geometry to a density one (geom_density()).\n",
    "2. Modify the default bin width to be 1.5 units.\n",
    "3. Add the subtitle \"Gaussian kernel SD = 1.5\"to your plot, telling the reader the binwidth of your kernel.\n",
    "\n",
    "*Answears*\n",
    "\n",
    "      orginal\n",
    "\n",
    "      # filter data to just heavy duty trucks\n",
    "      truck_speeding <- md_speeding %>% \n",
    "      filter(vehicle_type == \"Heavy Duty Truck\")\n",
    "\n",
    "      ggplot(truck_speeding, aes(x = hour_of_day)) +\n",
    "      # switch to density with bin width of 1.5, keep fill \n",
    "      geom_histogram(fill = 'steelblue') +\n",
    "      # add a subtitle stating binwidth\n",
    "      labs(title = 'Citations by hour')\n",
    "\n",
    "      final\n",
    "\n",
    "      # filter data to just heavy duty trucks\n",
    "      truck_speeding <- md_speeding %>% \n",
    "      filter(vehicle_type == \"Heavy Duty Truck\")\n",
    "\n",
    "      ggplot(truck_speeding, aes(x = hour_of_day)) +\n",
    "      # switch to density with bin width of 1.5, keep fill \n",
    "      geom_density(bw = 1.5 ,fill = 'steelblue')+\n",
    "      # add a subtitle stating binwidth\n",
    "      labs(title = 'Citations by hour', subtitle = \"Gaussian kernel SD = 1.5\") \n",
    "\n",
    "#### 3.3.2) Putting a rug down\n",
    "The plot we just made looks pretty good, but we can see a small hint of bi-modality between the hours of 10 and 15. Given we just are looking the blob of a density estimate it's hard to know how confident we are in that shape.\n",
    "\n",
    "Let's alleviate this by doing a couple things.\n",
    "\n",
    "First, lower the alpha on the density plot so we can more accurately locate these peaks using the background grid.\n",
    "\n",
    "Next, add a rug-plot beneath the density plot using geom_rug(). To show any overlap that may occur in the rug plot set its alpha to 0.5.\n",
    "\n",
    "The dataframe you made in the last exercise: truck_speeding has already been loaded for you.\n",
    "\n",
    "**Exercise** \n",
    "1. Set alpha of density plot to 0.7.\n",
    "2. Add geom_rug() to the plot.\n",
    "3. Set alpha of rug plot to 0.5.\n",
    "\n",
    "*Answears*\n",
    "\n",
    "      ggplot(truck_speeding, aes(x = hour_of_day)) +\n",
    "      # Adjust opacity to see gridlines with alpha = 0.7\n",
    "      geom_density(bw = 1.5, fill = 'steelblue', alpha = \n",
    "                    .7) +\n",
    "      # add a rug plot using geom_rug to see individual datapoints, set alpha to 0.5.\n",
    "      geom_rug(alpha = .5) +\n",
    "      labs(title = 'Citations by hour', subtitle = \"Gaussian kernel SD = 1.5\")\n",
    "\n",
    "#### 3.3.3) KDE with lots of data\n",
    "The code supplied will make a basic KDE of the `percentage_over_limit` for all citations. At first glance, the settings makes sense. We have a lot of data so we set our bin width nice and narrow: just one percent. Also, the rug plot, which has been thoughtfully added, has a lowered alpha of `0.7`.\n",
    "\n",
    "Running this code, you will immediately see it's not a great plot. The density estimate looks like a porcupine and the rug plot is essentially a thick black bar due to massive overlap.\n",
    "\n",
    "Fix it by upping the bin width a bit to `2.5` and lowering the `alpha` of the rug plot to `0.05` to try and get some sense of the point overlap. Don't forget to change the subtitle to reflect the change in the kernel width!\n",
    "\n",
    "**Exercise** \n",
    "1. Change kernel sd to 2.5\n",
    "2. Set alpha of rugplot to 0.05\n",
    "3. Change the subtitle to \"Gaussian kernel SD = 2.5\" to reflect the new kernel width.\n",
    "\n",
    "*Answears*\n",
    "\n",
    "      ggplot(md_speeding, aes(x = percentage_over_limit)) +\n",
    "      # Increase bin width 1 to 2.5\n",
    "      geom_density(fill = 'steelblue', bw = 2.5,  alpha = 0.7) + \n",
    "      # lower rugplot alpha to 0.05\n",
    "      geom_rug(alpha = 0.05) + \n",
    "      labs(\n",
    "       title = 'Distribution of % over speed limit', \n",
    "       # modify subtitle to reflect change in kernel width\n",
    "       subtitle = \"Gaussian kernel SD = 2.5\"\n",
    "      )\n",
    "\n",
    "## 4) Comparing Distributions\n",
    "Finishing off we take a look at comparing multiple distributions to each other. We see why the traditional box plots are very dangerous and how to easily improve them, along with investigating when you should use more advanced alternatives like the beeswarm plot and violin plots.\n",
    "\n",
    "### 4.1) (video) Intro to comparing distributions\n",
    "\n",
    "#### 4.1.1) A simple boxplot\n",
    "Let's get started by simply making a box plot similar to the ones we made in the slides.\n",
    "\n",
    "Modify the `filter()` to look at 'RED' cars instead of blue and then map the x-axis to gender and the y-axis to driver speed. Add your boxplot geometry and give it a title.\n",
    "\n",
    "**Exercise**  \n",
    "*Answears*\n",
    "\n",
    "    md_speeding %>% \n",
    "    filter(vehicle_color == 'RED') %>%\n",
    "    # Map x and y to gender and speed columns respectively\n",
    "    ggplot(aes(x = gender, y = speed)) + \n",
    "    # add a boxplot geometry\n",
    "    geom_boxplot() +\n",
    "    # give plot supplied title\n",
    "    labs(title = 'Speed of red cars by gender of driver')\n",
    "\n",
    "\n",
    "#### 4.1.2) Adding some jitter\n",
    "We can improve the previous plot by adding jittered points behind the box plot. Make the jittered points a nice 'steelblue' color and set their alpha to 0.3 in order to visualize any overlap that may happen by chance.\n",
    "\n",
    "You will also need to make the boxplot transparent in order to see the points that fall under the 'box' of the box plot.\n",
    "\n",
    "**Exercise**  \n",
    "1. Add geom_jitter() to the plot object before the boxplot geometry.\n",
    "2. Set the color of the jittered points to 'steelblue' and the alpha to 0.3.\n",
    "3. Make existing box plot transparent by setting alpha to 0.\n",
    "\n",
    "*Answears*\n",
    "\n",
    "      md_speeding %>% \n",
    "      filter(vehicle_color == 'RED') %>%\n",
    "      ggplot(aes(x = gender, y = speed)) + \n",
    "      # add jittered points with alpha of 0.3 and color 'steelblue'\n",
    "      geom_jitter(alpha = .3, color = 'steelblue') +\n",
    "      # make boxplot transparent with alpha = 0\n",
    "      geom_boxplot(alpha = 0) +\n",
    "      labs(title = 'Speed of red cars by gender of driver')\n",
    "\n",
    "#### 4.1.3) Faceting to show all colors\n",
    "As we may expect, there doesn't appear to be too big of a difference in genders for red cars. What happens if we instead facet to look at this comparison across all the colors?\n",
    "\n",
    "It's not uncommon when comparing distributions to want to look at a large number of conditions. When doing this faceting, we're looking at all 10k points.\n",
    "\n",
    "**Exercise**  \n",
    "1. Remove filter() for red cars.\n",
    "2. Add a facet_wrap() by vehicle_color.\n",
    "3. Change title to 'Speed of different car colors, separated by gender of driver'.\n",
    "\n",
    "*Answears*\n",
    "\n",
    "      # remove color filter\n",
    "      md_speeding %>%\n",
    "      ggplot(aes(x = gender, y = speed)) + \n",
    "      geom_jitter(alpha = 0.3, color = 'steelblue') +\n",
    "      geom_boxplot(alpha = 0) +\n",
    "      # add a facet_wrap by vehicle_color\n",
    "      facet_wrap(~vehicle_color) +\n",
    "      # change title to reflect new faceting\n",
    "      labs(title = 'Speed of different car colors, separated by gender of driver')\n",
    "\n",
    "\n",
    "### (video) 4.2 Beeswarms and violins\n",
    "the first is a plot when you have a medium amount of observations and want to get sense of density among your groups \n",
    "\n",
    "note: if you want to use beeswarms, it´s necesary to load `library (ggbeeswarm)` and  use `geom_beeswarm()` function.\n",
    "\n",
    "#### 4.2.1) Your first beeswarm\n",
    "The following code makes a simple beeswarm plot for you of the gender speeding data, similar to what we saw in the last lesson.\n",
    "\n",
    "You will notice that it doesn't look fantastic due to the stacking of the points causing overlap between the two genders' spreads.\n",
    "\n",
    "Fix up this plot by reducing the size of the points using the `cex` argument to `0.5` and setting an opacity value for the points as to make the plots a little less harsh and emphasize the individual points.\n",
    "\n",
    "In addition, add a transparent boxplot over the points to provide basic summary statistics as well.\n",
    "\n",
    "**Exercise**  \n",
    "1. Reduce size of points by setting cex = 0.5 in the beeswarm geometry.\n",
    "2. Set the alpha of the points to 0.8 .\n",
    "3. Add a transparent boxplot on top of the beeswarm.\n",
    "\n",
    "*Answears*\n",
    "\n",
    "      # Load library for making beeswarm plots\n",
    "      library(ggbeeswarm)\n",
    "\n",
    "      md_speeding %>% \n",
    "      filter(vehicle_color == 'RED') %>%\n",
    "      ggplot(aes(x = gender, y = speed)) + \n",
    "      # change point size to 0.5 and alpha to 0.8\n",
    "      geom_beeswarm(cex = .5, alpha = .8) +\n",
    "      # add a transparent boxplot on top of points\n",
    "      geom_boxplot(alpha = 0)\n",
    "\n",
    "#### 4.2.2) Fiddling with a violin plot\n",
    "The supplied code makes a simple violin plot of the same comparison we've been looking at.\n",
    "  \n",
    "Much like with `geom_density()`, ggplot has given us an unfilled (or at least white) shape. To make this more aesthetically pleasing, set the `fill` to 'steelblue'. Set the kernel SD to an intuitively reasonable value and make sure to state this kernel width in the subtitle of the plot.\n",
    "  \n",
    "In addition, let's attempt to replicate the rain-cloud plots from the density lesson and add (non-jittered) points back to the plot over the violins to attempt to see where interpolation is happening. Do this by simply adding a `geom_point()` geometry and setting the color to 'white', the `alpha` to 0.3 to show overlap, and the `size` to 0.5 to keep the points as unobtrusive as possible.\n",
    "\n",
    "\n",
    "**Exercise**  \n",
    "1. Swap geom_beeswarm() with geom_violin().\n",
    "2. Set the kernel width (bw) of the violin plot to 2.5.\n",
    "3. Add individual points underneath with geom_point().\n",
    "4. Style individual points with alpha = 0.3, size = 0.5.\n",
    "\n",
    "*Answears*\n",
    "\n",
    "      md_speeding %>% \n",
    "      filter(vehicle_color == 'RED') %>%\n",
    "      ggplot(aes(x = gender, y = speed)) + \n",
    "      # Replace beeswarm geometry with a violin geometry with kernel width of 2.5\n",
    "      geom_violin(cex = 0.5, alpha = 0.7, fill = 'steelblue', bw = 2.5) +\n",
    "      # add individual points on top of violins\n",
    "      geom_point(alpha = .3, size = .5, color = 'white')\n",
    "\n",
    "#### 4.2.3)  Violins with boxplots\n",
    "If we still want the handy summary statistics that a box plot provides while not sacrificing the benefits of a violin plot, we can simply add a geom_boxplot() on top of the violin geometry in our plot object.\n",
    "\n",
    "One issue we run into when doing this, however, is that the box plots are awkwardly wide. We only need to see where the horizontal lines are and not much more. Luckily, geom_boxplot() has the argument width, which scales the width of the boxplot (e.g. 0.5 = half-width).\n",
    "\n",
    "Modify the plot we just made to have a boxplot between the violin and point geometries. In addition, change the points to have shape = 95 which is a horizontal tick mark. Lastly, we forgot to tell the user our kernel width, let's do that now.\n",
    "\n",
    "**Exercise**  \n",
    "1. Add a geom_boxplot() between violin and point geometries.\n",
    "2. Set box alpha to 0 and width to 0.3.\n",
    "3. Change point geometry to shape = 95 and delete size argument.\n",
    "4. Give plot a subtitle with labs(subtitle = 'Gaussian kernel SD = 2.5').\n",
    "\n",
    "*Answears*\n",
    "\n",
    "      md_speeding %>% \n",
    "      filter(vehicle_color == 'RED') %>%\n",
    "      ggplot(aes(x = gender, y = speed)) + \n",
    "      geom_violin(bw = 2.5) +\n",
    "      # add a transparent boxplot and shrink its width\n",
    "      geom_boxplot(alpha = 0, width = 0.3) + \n",
    "      # Reset point size to default and set point shape to 95.\n",
    "      geom_point(alpha = 0.3, shape = 95) + \n",
    "      # Supply a subtitle detailing the kernel width\n",
    "      labs(subtitle = 'Gaussian kernel SD = 2.5')\n",
    "\n",
    "#### 4.2.4) Comparing lots of distributions\n",
    "Let's revisit the faceted plot we made before, but now with our handy new techniques. Can we get a better handle on the relationships with our new plot types?\n",
    "\n",
    "The supplied code makes the same visualization you did in the last lesson. Change the code to use violin plots to display the density instead of jitter plots to draw the individual data. Like in the last exercise, shrink the box plot width so they mostly sit within the violin plots. Last, don't forget to add a subtitle to the plot telling the viewer the width of your violin plot kernels!\n",
    "\n",
    "**Exercise**  \n",
    "1. Replace geom_jitter() with geom_violin().\n",
    "2. Set fill = 'steelblue' and kernel standard deviation of 2.5 for the violin geometry.\n",
    "3. Shrink geom_boxplot() width by setting it to 0.3.\n",
    "4. Add the subtitle Gaussian kernel width: 2.5'.\n",
    "\n",
    "*Answears*\n",
    "\n",
    "      md_speeding %>% \n",
    "      ggplot(aes(x = gender, y = speed)) + \n",
    "      # replace with violin plot with kernel width of 2.5, change color argument to fill \n",
    "      geom_violin(bw = 2.5, fill = \"steelblue\") +\n",
    "      # reduce width to 0.3\n",
    "      geom_boxplot(alpha = 0, width = .3) +\n",
    "      facet_wrap(~vehicle_color) +\n",
    "      labs(\n",
    "       title = 'Speed of different car colors, separated by gender of driver',\n",
    "       # add a subtitle w/ kernel width\n",
    "       subtitle = \"Gaussian kernel width: 2.5\"\n",
    "      )\n",
    "\n",
    "### 4.3 ) (video) Comparing spatially related distributions\n",
    "\n",
    "#### 4.3.1) A basic ridgeline plot\n",
    "Supplied is code to make a ridgeline plot looking at the percentage over the limit drivers were pulled over going by day of the week.\n",
    "\n",
    "Modify the code to set the kernel width (bandwidth) to a specified value, change the x-axis limits to get rid of the long tails, and also add a subtitle letting the reader know the bandwidth you are using.\n",
    "\n",
    "**Exercise**  \n",
    "1. Change the bandwidth to 3.5 in geom_density_ridges().\n",
    "2. Set the limits of the x-scale to 0 to 150.\n",
    "3. Give plot the subtitle 'Gaussian kernel SD = 3.5'.\n",
    "\n",
    "*Answears*\n",
    "\n",
    "      library(ggridges)\n",
    "\n",
    "      md_speeding %>% \n",
    "      mutate(day_of_week = factor(day_of_week, levels = c(\"Mon\",\"Tues\",\"Wed\",\"Thu\",\"Fri\",\"Sat\",\"Sun\") )) %>% \n",
    "      ggplot(aes( x = percentage_over_limit, y = day_of_week)) + \n",
    "      # Set bandwidth to 3.5\n",
    "      geom_density_ridges(bandwidth = 3.5) +\n",
    "      # add limits of 0 to 150 to x-scale\n",
    "      scale_x_continuous(limits = c(0,150)) +\n",
    "      # provide subtitle with bandwidth\n",
    "      labs(subtitle = 'Gaussian kernel SD = 3.5')\n",
    "\n",
    "#### 4.3.2) Cleaning up your ridgelines\n",
    "Let's modify the plot from the last exercise, even more, to make it prettier and easier to read.\n",
    "\n",
    "To do this, make the densities a bit transparent to help avoid overlapping issues by modifying the alpha value in the ridgeline geometry. Next, get rid of the extra space that ggplot puts around the extremes of the data to avoid the awkward empty strip on the right and left where the densities don't interpolate. Finally, use the theme() function to remove the y-axis ticks because the density lines already serve the purpose to point to the y-axis labels.\n",
    "\n",
    "The ggridges library is already loaded for you.\n",
    "\n",
    "**Exercise**  \n",
    "1. Set alpha of geom_density_ridges() to 0.7.\n",
    "2. Set expand = c(0,0) in the scale_x_continuous() call.\n",
    "3. Remove axis.ticks.y in the theme() function.\n",
    "\n",
    "*Answears*\n",
    "\n",
    "      md_speeding %>% \n",
    "      mutate(day_of_week = factor(day_of_week, levels = c(\"Mon\",\"Tues\",\"Wed\",\"Thu\",\"Fri\",\"Sat\",\"Sun\") )) %>% \n",
    "      ggplot(aes( x = percentage_over_limit, y = day_of_week)) + \n",
    "      # make ridgeline densities a bit see-through with alpha = 0.7\n",
    "      geom_density_ridges(bandwidth = 3.5, alpha = 0.7) +\n",
    "      # set expand values to c(0,0)\n",
    "      scale_x_continuous(limits = c(0,150), expand = c(0,0)) +\n",
    "      labs(subtitle = 'Guassian kernel SD = 3.5') +\n",
    "      # remove y axis ticks\n",
    "      theme(axis.ticks.y = element_blank())\n",
    "\n",
    "#### 4.3.3) Making it rain (datapoints)\n",
    "The increased bi-modality we see early in the week could be compelling, but we should draw individual points below the densities in order to get a sense of what the KDE is doing in terms of interpolation before calling it a day.\n",
    "\n",
    "Added to the previous exercises' code is a point geometry to do just this. You will notice it doesn't look very good. To make it better we will do a few things...\n",
    "\n",
    "First, lower the point alphas slightly to visualize overlap. Second, switch the point shape to the geom_rug() style vertical lines ('|').\n",
    "\n",
    "At this stage, if you run the code you will see the points awkwardly clip the density shapes. We need to 'nudge' the tick marks down the y-axis a tiny bit. To do this we can use the position argument and the helper function position_nudge().    \n",
    "\n",
    "**Exercise**  \n",
    "1. Lower alpha of the points to 0.2 to show overlap.\n",
    "2. Change the line shape to '|' for more efficient space utilization.\n",
    "3. Push points down so they don't overlap the density shape with \n",
    "position = position_nudge(y = -0.05)\n",
    "\n",
    "\n",
    "  *Answears*\n",
    "  \n",
    "      md_speeding %>% \n",
    "      mutate(day_of_week = factor(day_of_week, levels = c(\"Mon\",\"Tues\",\"Wed\",\"Thu\",\"Fri\",\"Sat\",\"Sun\") )) %>% \n",
    "      ggplot(aes( x = percentage_over_limit, y = day_of_week)) + \n",
    "      geom_point(\n",
    "      # make semi-transparent with alpha = 0.2\n",
    "      alpha = 0.2,\n",
    "      # turn points to vertical lines with shape = '|'\n",
    "      shape = \"|\",\n",
    "      # nudge the points downward by 0.05\n",
    "      position = position_nudge(y = -0.05)\n",
    "      ) +\n",
    "      geom_density_ridges(bandwidth = 3.5, alpha = 0.7) +\n",
    "      scale_x_continuous(limits = c(0,150), expand  = c(0,0)) +\n",
    "      labs(subtitle = 'Guassian kernel SD = 3.5') +\n",
    "      theme( axis.ticks.y = element_blank() )\n"
   ]
  },
  {
   "cell_type": "code",
   "execution_count": 4,
   "metadata": {},
   "outputs": [
    {
     "data": {},
     "metadata": {},
     "output_type": "display_data"
    },
    {
     "data": {
      "image/png": "[encoded data removed]",
      "text/plain": [
       "plot without title"
      ]
     },
     "metadata": {},
     "output_type": "display_data"
    }
   ],
   "source": [
    "    amr_pertussis <- who_disease %>% \n",
    "            filter(   # filter data to our desired subset\n",
    "                region == 'AMR', \n",
    "                year == 1980, \n",
    "                disease == 'pertussis'\n",
    "            )\n",
    "\n",
    "    amr_pertussis %>% filter(cases > 0) %>% \n",
    "        ggplot(aes(x = reorder(country, cases), y = cases)) + \n",
    "        # switch geometry to points and set point size = 2\n",
    "        geom_point(size = 2) + \n",
    "        # change y-axis to log10. \n",
    "        scale_y_log10() +\n",
    "        # add theme_minimal()\n",
    "        theme_minimal() +\n",
    "        coord_flip()"
   ]
  },
  {
   "cell_type": "markdown",
   "metadata": {},
   "source": []
  },
  {
   "cell_type": "code",
   "execution_count": null,
   "metadata": {},
   "outputs": [],
   "source": []
  }
 ],
 "metadata": {
  "kernelspec": {
   "display_name": "R",
   "language": "R",
   "name": "ir"
  },
  "language_info": {
   "codemirror_mode": "r",
   "file_extension": ".r",
   "mimetype": "text/x-r-source",
   "name": "R",
   "pygments_lexer": "r",
   "version": "3.5.1"
  }
 },
 "nbformat": 4,
 "nbformat_minor": 2
}
