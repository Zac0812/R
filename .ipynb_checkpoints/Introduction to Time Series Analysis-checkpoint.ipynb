{
 "cells": [
  {
   "cell_type": "markdown",
   "metadata": {},
   "source": [
    "# Introduction to Time Series Analysis\n",
    "\n",
    "## Basic Time Series Model\n",
    "\n",
    "1. white noise (WN)\n",
    "2. Random Walk (RW)\n",
    "3. Autoregression (AR)\n",
    "4. Simple Moving Averege (MA) \n",
    "\n",
    "### Exploring raw time series\n",
    "The most common first step when conducting time series analysis is to display your time series dataset in a visually intuitive format. The most useful way to view raw time series data in R is to use the  `print()` command, which displays the Start, End, and Frequency of your data along with the observations.\n",
    "\n",
    "Another useful command for viewing time series data in R is the `length()`function, which tells you the total number of observations in your data.\n",
    "\n",
    "Some datasets are very long, and previewing a subset of data is more suitable than displaying the entire series. The `head(___, n =___) and tail(___, n =___) `functions, in which n is the number of items to display, focus on the first and last few elements of a given dataset respectively.\n",
    "\n",
    "Other function is plot and some properties are:\n",
    "\n",
    "        plot(Data, xlab = \"text\", ylab = \"text\", main=\"Tile\", type=\"b\")\n"
   ]
  },
  {
   "cell_type": "code",
   "execution_count": null,
   "metadata": {
    "collapsed": true
   },
   "outputs": [],
   "source": []
  }
 ],
 "metadata": {
  "kernelspec": {
   "display_name": "R",
   "language": "R",
   "name": "ir"
  },
  "language_info": {
   "codemirror_mode": "r",
   "file_extension": ".r",
   "mimetype": "text/x-r-source",
   "name": "R",
   "pygments_lexer": "r",
   "version": "3.4.3"
  }
 },
 "nbformat": 4,
 "nbformat_minor": 2
}
