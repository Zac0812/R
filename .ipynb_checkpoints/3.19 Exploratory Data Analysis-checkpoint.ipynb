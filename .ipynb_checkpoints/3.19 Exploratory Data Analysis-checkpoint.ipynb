{
 "cells": [
  {
   "cell_type": "markdown",
   "metadata": {},
   "source": [
    "# Exploratory Data Analysis\n",
    "\n",
    "### Course Description\n",
    "When your dataset is represented as a table or a database, it's difficult to observe much about it beyond its size and the types of variables it contains. In this course, you'll learn how to use graphical and numerical techniques to begin uncovering the structure of your data. Which variables suggest interesting relationships? Which observations are unusual? By the end of the course, you'll be able to answer these questions and more, while generating graphics that are both insightful and beautiful.\n",
    "### Note how can Resizing plots in the R kernel for Jupyter notebooks\n",
    "https://blog.revolutionanalytics.com/2015/09/resizing-plots-in-the-r-kernel-for-jupyter-notebooks.html\n",
    "\n",
    "    library(repr)\n",
    "\n",
    "    # Change plot size to 4 x 3\n",
    "    options(repr.plot.width=4, repr.plot.height=3)\n",
    "    \n",
    "### Note2 Generate a table \n",
    "https://www.tablesgenerator.com/markdown_tables\n",
    "\n",
    "### Note 3 - DataFrames"
   ]
  },
  {
   "cell_type": "code",
   "execution_count": 1,
   "metadata": {},
   "outputs": [
    {
     "name": "stderr",
     "output_type": "stream",
     "text": [
      "Warning message:\n",
      "\"package 'dplyr' was built under R version 3.5.3\"\n",
      "Attaching package: 'dplyr'\n",
      "\n",
      "The following objects are masked from 'package:stats':\n",
      "\n",
      "    filter, lag\n",
      "\n",
      "The following objects are masked from 'package:base':\n",
      "\n",
      "    intersect, setdiff, setequal, union\n",
      "\n",
      "Parsed with column specification:\n",
      "cols(\n",
      "  name = col_character(),\n",
      "  sports_car = col_logical(),\n",
      "  suv = col_logical(),\n",
      "  wagon = col_logical(),\n",
      "  minivan = col_logical(),\n",
      "  pickup = col_logical(),\n",
      "  all_wheel = col_logical(),\n",
      "  rear_wheel = col_logical(),\n",
      "  msrp = col_integer(),\n",
      "  dealer_cost = col_integer(),\n",
      "  eng_size = col_double(),\n",
      "  ncyl = col_integer(),\n",
      "  horsepwr = col_integer(),\n",
      "  city_mpg = col_integer(),\n",
      "  hwy_mpg = col_integer(),\n",
      "  weight = col_integer(),\n",
      "  wheel_base = col_integer(),\n",
      "  length = col_integer(),\n",
      "  width = col_integer()\n",
      ")\n",
      "Parsed with column specification:\n",
      "cols(\n",
      "  name = col_character(),\n",
      "  id = col_character(),\n",
      "  align = col_character(),\n",
      "  eye = col_character(),\n",
      "  hair = col_character(),\n",
      "  gender = col_character(),\n",
      "  gsm = col_character(),\n",
      "  alive = col_character(),\n",
      "  appearances = col_integer(),\n",
      "  first_appear = col_character(),\n",
      "  publisher = col_character()\n",
      ")\n",
      "Parsed with column specification:\n",
      "cols(\n",
      "  party = col_character(),\n",
      "  priority = col_character()\n",
      ")\n",
      "Parsed with column specification:\n",
      "cols(\n",
      "  State = col_character(),\n",
      "  County = col_character(),\n",
      "  fips = col_integer(),\n",
      "  Year = col_integer(),\n",
      "  `Female life expectancy (years)` = col_double(),\n",
      "  `Female life expectancy (national, years)` = col_double(),\n",
      "  `Female life expectancy (state, years)` = col_double(),\n",
      "  `Male life expectancy (years)` = col_double(),\n",
      "  `Male life expectancy (national, years)` = col_double(),\n",
      "  `Male life expectancy (state, years)` = col_double()\n",
      ")\n",
      "Parsed with column specification:\n",
      "cols(\n",
      "  GeoFips = col_integer(),\n",
      "  GeoName = col_character(),\n",
      "  LineCode = col_integer(),\n",
      "  Description = col_character(),\n",
      "  Income = col_character()\n",
      ")\n",
      "Warning message in rbind(names(probs), probs_f):\n",
      "\"number of columns of result is not a multiple of vector length (arg 1)\"Warning message:\n",
      "\"13 parsing failures.\n",
      "row # A tibble: 5 x 5 col     row col    expected     actual                     file                      expected   <int> <chr>  <chr>        <chr>                      <chr>                     actual 1  9415 GeoFi~ an integer   Legend / Footnotes:        'https://assets.datacamp~ file 2  9416 GeoFi~ no trailing~ / Census Bureau midyear p~ 'https://assets.datacamp~ row 3  9417 GeoFi~ no trailing~ / Per capita personal inc~ 'https://assets.datacamp~ col 4  9418 GeoFi~ an integer   * Cibola, NM was separate~ 'https://assets.datacamp~ expected 5  9419 GeoFi~ an integer   * La Paz County, AZ was s~ 'https://assets.datacamp~\n",
      "... ................. ... ................................................................................ ........ ................................................................................ ...... ................................................................................ .... ................................................................................ ... ................................................................................ ... ................................................................................ ........ ................................................................................\n",
      "See problems(...) for more details.\n",
      "\""
     ]
    }
   ],
   "source": [
    "library(dplyr)\n",
    "library(ggplot2)\n",
    "library(readr)\n",
    "library(tidyr)\n",
    "\n",
    "#cars\n",
    "path_csv<-\"https://assets.datacamp.com/production/repositories/537/datasets/c0366d5da5ee8dce49919a5443685cf2e50c6a96/cars04.csv\"\n",
    "#comics\n",
    "path1_csv<-\"https://assets.datacamp.com/production/repositories/537/datasets/8860af2c0ef67fc77a8c704a73bbb93a395debcf/comics.csv\"\n",
    "#immigrations\n",
    "path2_csv<-\"https://assets.datacamp.com/production/repositories/537/datasets/d6b811836c453d2afaaf76c6d62b592e673e93ae/immigration.csv\"\n",
    "#life_exp\n",
    "path3_csv<-\"https://assets.datacamp.com/production/repositories/537/datasets/e079a96a639aa10afc478359da45f2f75f7efd2e/life_exp_raw.csv\"\n",
    "#names\n",
    "path4_txt<-\"https://assets.datacamp.com/production/repositories/537/datasets/7dc95cdac26db11e7dd46542741435dbb09fb613/names.txt\"\n",
    "#income\n",
    "path5_csv<-\"https://assets.datacamp.com/production/repositories/537/datasets/813eb74f670b7dd1c7806375bc9607472fe976db/us_income_raw.csv\"\n",
    "\n",
    "cars<-read_csv(path_csv)\n",
    "comics<-read_csv(path1_csv)\n",
    "immigration<-read_csv(path2_csv)\n",
    "life<-read_csv(path3_csv)\n",
    "income<-read_csv(path5_csv)\n",
    "\n",
    "\n"
   ]
  },
  {
   "cell_type": "markdown",
   "metadata": {},
   "source": [
    "## 1) Exploring Categorical Data\n",
    "\n",
    "### 1.1) (video)  Exploring Categorical Data\n",
    "\n",
    "#### 1.1.1) Contingency table review\n",
    "In this chapter you'll continue working with the comics dataset introduced in the video. This is a collection of characteristics on all of the superheroes created by Marvel and DC comics in the last 80 years.\n",
    "\n",
    "Let's start by creating a contingency table, which is a useful way to represent the total counts of observations that fall into each combination of the levels of categorical variables.\n",
    "\n",
    "**Exercise**\n",
    "The dataset has been loaded into your workspace as comics.\n",
    "\n",
    "1. Type the name of the dataset to look at the rows and columns of the dataset.\n",
    "2. View the levels() that the align variable can take.\n",
    "3. View the levels() that the gender variable can take.\n",
    "4. Create a contingency table of the same two variables.\n",
    "\n",
    "*Answer*\n",
    "\n",
    "    # Print the first rows of the data\n",
    "    names(comics)\n",
    "\n",
    "    # Check levels of align\n",
    "    levels(comics$align)\n",
    "\n",
    "    # Check the levels of gender\n",
    "    levels(comics$gender)\n",
    "\n",
    "    # Create a 2-way contingency table\n",
    "    table(comics$align, comics$gender)\n",
    "    "
   ]
  },
  {
   "cell_type": "markdown",
   "metadata": {},
   "source": [
    "#### 1.1.2) Dropping levels\n",
    "The contingency table from the last exercise revealed that there are some levels that have very low counts. To simplify the analysis, it often helps to drop such levels.\n",
    "\n",
    "In R, this requires two steps: first filtering out any rows with the levels that have very low counts, then removing these levels from the factor variable with droplevels(). This is because the droplevels() function would keep levels that have just 1 or 2 counts; it only drops levels that don't exist in a dataset.\n",
    "\n",
    "**Exercise**\n",
    "The contingency table from the last exercise is available in your workspace as tab.\n",
    "\n",
    "1. Load the dplyr package.\n",
    "2. Print tab to find out which level of align has the fewest total entries.\n",
    "4. 3. Use filter() to filter out all rows of comics with that level, then drop the unused level with droplevels(). Save the simplified dataset over the old one as comics.\n",
    "\n",
    "*Answer*\n",
    "\n",
    "    # Load dplyr\n",
    "    library(dplyr)\n",
    "\n",
    "    # Print tab\n",
    "    tab\n",
    "\n",
    "    # Remove align level\n",
    "    comics_filtered <- comics %>%\n",
    "      filter(align != \"Reformed Criminals\") %>%\n",
    "      droplevels()\n",
    "\n",
    "    # See the result\n",
    "    comics_filtered\n",
    "\n",
    "#### 1.1.3) Side-by-side barcharts\n",
    "While a contingency table represents the counts numerically, it's often more useful to represent them graphically.\n",
    "\n",
    "Here you'll construct two side-by-side barcharts of the comics data. This shows that there can often be two or more options for presenting the same data. Passing the argument position = \"dodge\" to geom_bar() says that you want a side-by-side (i.e. not stacked) barchart.\n",
    "\n",
    "**Exercise**\n",
    "1. Load the ggplot2 package.\n",
    "2. Create a side-by-side barchart with align on the x-axis and gender as the fill aesthetic.\n",
    "4. 3. Create another side-by-side barchart with gender on the x-axis and align as the fill aesthetic. Rotate the axis labels 90 degrees to help readability.\n",
    "\n",
    "*Answer*\n",
    "\n",
    "    # Load ggplot2\n",
    "    library(ggplot2)\n",
    "\n",
    "    # Create side-by-side barchart of gender by alignment\n",
    "    ggplot(comics, aes(x = align, fill = gender)) + \n",
    "      geom_bar(position = \"dodge\")\n",
    "\n",
    "    # Create side-by-side barchart of alignment by gender\n",
    "    ggplot(comics, aes(x = gender, fill = align)) + \n",
    "      geom_bar(position = \"dodge\") +\n",
    "      theme(axis.text.x = element_text(angle = 90))\n",
    "\n",
    "\n",
    "### 1.2) (video) Counts vs. proportions\n",
    "in the last section you will have noticed that rows count is very useful, but some times is much better the proportion, if we wanted to instead get a sense of the proportion of all cases that fell into each category,we can take the original table counts and provide it as input to the `prop.table `function like:\n",
    "\n",
    "    option(scripen = 999, digits = 3) # simplify display format\n",
    "    tab_cnt<-table(comics$id, comics$aling)\n",
    "    prop.table(tab_cnt)\n",
    "    \n",
    "if we are curious about systematic associations between variables, we should look to canditional proportions like :\n",
    "\n",
    "    prop.table(tab_cnt, 1)  #note the second argument specifying that you´d like to conditional on the rows (i.e rows sum 1)\n",
    "    \n",
    "to conditional on the columns instead change that argument to 2 like:    \n",
    "\n",
    "    prop.table(tab_cnt, 2)  #note the second argument specifying that you´d like to conditional on the col (i.e col sum 1)\n",
    "\n",
    "Of course the prop.tables is a good way to visualize your data however If we have a lot data the best idea it´is used a barchart graph but same way in necesary to change some things that we have seen in the previous modul.\n",
    "\n",
    "#### 1.2.1) Counts vs. proportions (2)\n",
    "Bar charts can tell dramatically different stories depending on whether they represent counts or proportions and, if proportions, what the proportions are conditioned on. To demonstrate this difference, you'll construct two barcharts in this exercise: one of counts and one of proportions.\n",
    "\n",
    "**Exercise**\n",
    "1. Create a stacked barchart of gender counts with align on the x-axis.\n",
    "2. Create a stacked barchart of gender proportions with align on the x-axis by setting the position argument to geom_bar() equal to \"fill\".\n",
    "\n",
    "*Answer*\n",
    "\n"
   ]
  },
  {
   "cell_type": "markdown",
   "metadata": {},
   "source": []
  },
  {
   "cell_type": "code",
   "execution_count": 5,
   "metadata": {},
   "outputs": [
    {
     "data": {},
     "metadata": {},
     "output_type": "display_data"
    },
    {
     "data": {},
     "metadata": {},
     "output_type": "display_data"
    },
    {
     "data": {
      "image/png": "[encoded data removed]",
      "text/plain": [
       "plot without title"
      ]
     },
     "metadata": {},
     "output_type": "display_data"
    },
    {
     "data": {
      "image/png": "[encoded data removed]",
      "text/plain": [
       "plot without title"
      ]
     },
     "metadata": {},
     "output_type": "display_data"
    }
   ],
   "source": [
    "    library(repr)\n",
    "\n",
    "    # Change plot size to 4 x 3\n",
    "    options(repr.plot.width=4, repr.plot.height=3)\n",
    "\n",
    "# Plot of gender by align\n",
    "ggplot(comics, aes(x = align, fill = gender)) +\n",
    "  geom_bar()\n",
    "  \n",
    "# Plot proportion of gender, conditional on align\n",
    "ggplot(comics, aes(x = align, fill = gender)) + \n",
    "  geom_bar(position = \"fill\") +\n",
    "  ylab(\"proportion\")"
   ]
  },
  {
   "cell_type": "markdown",
   "metadata": {},
   "source": [
    "### 1.3) (video) Distribution of one variable\n",
    "you might have noticed but until already , you have created graphs that illustrates a relationship between two variables, now we will be assuming one variable, so in this part we will see that a good way to display that information class  is throught bar chart.\n",
    "\n",
    "#### 1.3.1 ) Marginal barchart\n",
    "If you are interested in the distribution of alignment of all superheroes, it makes sense to construct a barchart for just that single variable.\n",
    "\n",
    "You can improve the interpretability of the plot, though, by implementing some sensible ordering. Superheroes that are \"Neutral\" show an alignment between \"Good\" and \"Bad\", so it makes sense to put that bar in the middle.\n",
    "\n",
    "**Exercise**\n",
    "1. Reorder the levels of align using the factor() function so that printing them reads \"Bad\", \"Neutral\", then \"Good\".\n",
    "2. Create a barchart of counts of the align variable.\n",
    "\n",
    "*Answer*\n",
    "\n",
    "    # Change the order of the levels in align\n",
    "    comics$align <- factor(comics$align, \n",
    "                           levels = c(\"Bad\", \"Neutral\", \"Good\"))\n",
    "\n",
    "    # Create plot of align\n",
    "    ggplot(comics, aes(x = align)) + \n",
    "      geom_bar()\n",
    "\n",
    "#### 1.3.2) Conditional barchart\n",
    "Now, if you want to break down the distribution of alignment based on gender, you're looking for conditional distributions.\n",
    "\n",
    "You could make these by creating multiple filtered datasets (one for each gender) or by faceting the plot of alignment based on gender. As a point of comparison, we've provided your plot of the marginal distribution of alignment from the last exercise.\n",
    "\n",
    "**Exercise**\n",
    "1. Create a barchart of align faceted by gender\n",
    "\n",
    "*Answer*\n",
    "\n",
    "    # Plot of alignment broken down by gender\n",
    "    ggplot(comics, aes(x = align)) + \n",
    "      geom_bar() +\n",
    "      facet_wrap(~gender)\n",
    "\n",
    "\n",
    "#### 1.3.3) Improve piechart\n",
    "The piechart is a very common way to represent the distribution of a single categorical variable, but they can be more difficult to interpret than barcharts.\n",
    "\n",
    "This is a piechart of a dataset called pies that contains the favorite pie flavors of 98 people. Improve the representation of these data by constructing a barchart that is ordered in descending order of count.\n",
    "\n",
    "**Exercise**\n",
    "1. Use the code provided to reorder the levels of flavor so that they're in descending order by count.\n",
    "2. Create a barchart of flavor and orient the labels vertically so that they're easier to read. The default coloring may look drab by comparison, so change the fill of the bars to \"chartreuse\".\n",
    "\n",
    "*Answer*\n",
    "\n",
    "    # Put levels of flavor in decending order\n",
    "    lev <- c(\"apple\", \"key lime\", \"boston creme\", \"blueberry\", \"cherry\", \"pumpkin\", \"strawberry\")\n",
    "    pies$flavor <- factor(pies$flavor, levels = lev)\n",
    "\n",
    "\n",
    "\n",
    "    # Create barchart of flavor\n",
    "    ggplot(pies, aes(x = flavor)) + \n",
    "      geom_bar(fill = \"chartreuse\") + \n",
    "      theme(axis.text.x = element_text(angle = 90))\n",
    "\n",
    "## 2) Exploring Numerical Data\n",
    "In this chapter, you will learn how to graphically summarize numerical data\n",
    "\n",
    "### 2.1) (video) Exploring numerical data\n",
    "\n",
    "#### 2.1.1) Faceted histogram\n",
    "In this chapter, you'll be working with the `cars` dataset, which records characteristics on all of the new models of cars for sale in the US in a certain year. You will investigate the distribution of mileage across a categorial variable, but before you get there, you'll want to familiarize yourself with the dataset.\n",
    "\n",
    "**Exercise**\n",
    "The cars dataset has been loaded in your workspace.\n",
    "\n",
    "1. Load the ggplot2 package.\n",
    "2. View the size of the data and the variable types using str().\n",
    "3. Plot a histogram of city_mpg faceted by suv, a logical variable indicating whether the car is an SUV or not.\n",
    "\n",
    "*Answer*\n",
    "\n",
    "    # Load package\n",
    "    library(ggplot2)\n",
    "\n",
    "    # Learn data structure\n",
    "    str(cars)\n",
    "\n",
    "    # Create faceted histogram\n",
    "    ggplot(cars, aes(x = city_mpg)) +\n",
    "      geom_histogram() +\n",
    "      facet_wrap(~ suv)\n",
    "\n",
    "#### 2.1.2) Boxplots and density plots\n",
    "The mileage of a car tends to be associated with the size of its engine (as measured by the number of cylinders). To explore the relationship between these two variables, you could stick to using histograms, but in this exercise you'll try your hand at two alternatives: the box plot and the density plot.\n",
    "\n",
    "**Exercise**\n",
    "A quick look at unique(cars$ncyl) shows that there are more possible levels of ncyl than you might think. Here, restrict your attention to the most common levels.\n",
    "\n",
    "1. Filter cars to include only cars with 4, 6, or 8 cylinders and save the result as common_cyl. The %in% operator may prove useful here.\n",
    "2. Create side-by-side box plots of city_mpg separated out by ncyl.\n",
    "3. Create overlaid density plots of city_mpg colored by ncyl.\n",
    "\n",
    "*Answer*\n"
   ]
  },
  {
   "cell_type": "code",
   "execution_count": 6,
   "metadata": {},
   "outputs": [
    {
     "name": "stderr",
     "output_type": "stream",
     "text": [
      "Warning message:\n",
      "\"Removed 11 rows containing non-finite values (stat_boxplot).\""
     ]
    },
    {
     "data": {},
     "metadata": {},
     "output_type": "display_data"
    },
    {
     "name": "stderr",
     "output_type": "stream",
     "text": [
      "Warning message:\n",
      "\"Removed 11 rows containing non-finite values (stat_density).\""
     ]
    },
    {
     "data": {},
     "metadata": {},
     "output_type": "display_data"
    },
    {
     "data": {
      "image/png": "[encoded data removed]",
      "text/plain": [
       "plot without title"
      ]
     },
     "metadata": {},
     "output_type": "display_data"
    },
    {
     "data": {
      "image/png": "[encoded data removed]",
      "text/plain": [
       "plot without title"
      ]
     },
     "metadata": {},
     "output_type": "display_data"
    }
   ],
   "source": [
    "    library(repr)\n",
    "\n",
    "    # Change plot size to 4 x 3\n",
    "    options(repr.plot.width=4, repr.plot.height=3)\n",
    "\n",
    "\n",
    "common_cyl <- filter(cars, ncyl %in% c(4,6,8))\n",
    "\n",
    "# Create box plots of city mpg by ncyl\n",
    "ggplot(common_cyl, aes(x = as.factor(ncyl), y = city_mpg)) +\n",
    "  geom_boxplot()\n",
    "\n",
    "# Create overlaid density plots for same data\n",
    "ggplot(common_cyl, aes(x = city_mpg, fill = as.factor(ncyl))) +\n",
    "  geom_density(alpha = .3)"
   ]
  },
  {
   "cell_type": "markdown",
   "metadata": {},
   "source": [
    "### 2.2) (video) Distribution of one variable\n",
    "If you are interested in a distribution of single numerical variable there are 3 ways yo can get there:\n",
    "\n",
    "    1. Histogram\n",
    "    2. Density plot\n",
    "\n",
    "#### 2.2.1) Marginal and conditional histograms\n",
    "Now, turn your attention to a new variable: `horsepwr`. The goal is to get a sense of the marginal distribution of this variable and then compare it to the distribution of horsepower conditional on the price of the car being less than $25,000.\n",
    "\n",
    "You'll be making two plots using the \"data pipeline\" paradigm, where you start with the raw data and end with the plot.\n",
    "\n",
    "**Exercise**\n",
    "1. Create a histogram of the distribution of horsepwr across all cars and add an appropriate title. Start by piping in the raw dataset.\n",
    "2. Create a second histogram of the distribution of horsepower, but only for those cars that have an msrp less than $25,000. Keep the limits of the x-axis so that they're similar to that of the first plot, and add a descriptive title.\n",
    "\n",
    "*Answer*"
   ]
  },
  {
   "cell_type": "code",
   "execution_count": 3,
   "metadata": {},
   "outputs": [
    {
     "name": "stderr",
     "output_type": "stream",
     "text": [
      "`stat_bin()` using `bins = 30`. Pick better value with `binwidth`.\n"
     ]
    },
    {
     "data": {},
     "metadata": {},
     "output_type": "display_data"
    },
    {
     "name": "stderr",
     "output_type": "stream",
     "text": [
      "`stat_bin()` using `bins = 30`. Pick better value with `binwidth`.\n",
      "Warning message:\n",
      "\"Removed 1 rows containing non-finite values (stat_bin).\"Warning message:\n",
      "\"Removed 2 rows containing missing values (geom_bar).\""
     ]
    },
    {
     "data": {},
     "metadata": {},
     "output_type": "display_data"
    },
    {
     "data": {
      "image/png": "[encoded data removed]",
      "text/plain": [
       "plot without title"
      ]
     },
     "metadata": {},
     "output_type": "display_data"
    },
    {
     "data": {
      "image/png": "[encoded data removed]",
      "text/plain": [
       "plot without title"
      ]
     },
     "metadata": {},
     "output_type": "display_data"
    }
   ],
   "source": [
    "library(repr)\n",
    "\n",
    "# Change plot size to 4 x 3\n",
    "    options(repr.plot.width=4, repr.plot.height=3)\n",
    "\n",
    "# Create hist of horsepwr\n",
    "cars %>%\n",
    "  ggplot(aes(x = horsepwr)) +\n",
    "  geom_histogram() +\n",
    "  ggtitle(label = \"horsepwr\")\n",
    "  \n",
    "\n",
    "# Create hist of horsepwr for affordable cars\n",
    "cars %>% \n",
    "  filter(msrp < 25000) %>%\n",
    "  ggplot(aes(x = horsepwr)) +\n",
    "  geom_histogram() +\n",
    "  xlim(c(90, 550)) +\n",
    "  ggtitle(label = \"horsepwr with msrp less 25,000\")"
   ]
  },
  {
   "cell_type": "markdown",
   "metadata": {},
   "source": [
    "#### 2.2.2) Three binwidths\n",
    "Before you take these plots for granted, it's a good idea to see how things change when you alter the binwidth. The binwidth determines how smooth your distribution will appear: the smaller the binwidth, the more jagged your distribution becomes. It's good practice to consider several binwidths in order to detect different types of structure in your data.\n",
    "\n",
    "**Exercise**\n",
    "Create the following three plots, adding a title to each to indicate the binwidth used:\n",
    "\n",
    "1. A histogram of horsepower (i.e. horsepwr) with a binwidth of 3.\n",
    "2. A second histogram of horsepower with a binwidth of 30.\n",
    "3. A third histogram of horsepower with a binwidth of 60.\n",
    "\n",
    "*Answer*"
   ]
  },
  {
   "cell_type": "code",
   "execution_count": 7,
   "metadata": {},
   "outputs": [
    {
     "data": {},
     "metadata": {},
     "output_type": "display_data"
    },
    {
     "data": {},
     "metadata": {},
     "output_type": "display_data"
    },
    {
     "data": {
      "image/png": "[encoded data removed]",
      "text/plain": [
       "plot without title"
      ]
     },
     "metadata": {},
     "output_type": "display_data"
    },
    {
     "data": {},
     "metadata": {},
     "output_type": "display_data"
    },
    {
     "data": {
      "image/png": "[encoded data removed]",
      "text/plain": [
       "plot without title"
      ]
     },
     "metadata": {},
     "output_type": "display_data"
    },
    {
     "data": {
      "image/png": "[encoded data removed]",
      "text/plain": [
       "plot without title"
      ]
     },
     "metadata": {},
     "output_type": "display_data"
    }
   ],
   "source": [
    "library(repr)\n",
    "\n",
    "# Change plot size to 4 x 3\n",
    "    options(repr.plot.width=4, repr.plot.height=3)\n",
    "\n",
    "# Create hist of horsepwr with binwidth of 3\n",
    "cars %>%\n",
    "  ggplot(aes(horsepwr)) +\n",
    "  geom_histogram(binwidth = 3) +\n",
    "  ggtitle(label = \"horsepwr with binwidth 3\")\n",
    "\n",
    "# Create hist of horsepwr with binwidth of 30\n",
    "cars %>%\n",
    "  ggplot(aes(horsepwr)) +\n",
    "  geom_histogram(binwidth = 30) +\n",
    "  ggtitle(label = \"horsepwr with binwidth 30\")\n",
    "\n",
    "\n",
    "# Create hist of horsepwr with binwidth of 60\n",
    "cars %>%\n",
    "  ggplot(aes(horsepwr)) +\n",
    "  geom_histogram(binwidth = 60) +\n",
    "  ggtitle(label = \"horsepwr with binwidth 60\")\n"
   ]
  },
  {
   "cell_type": "markdown",
   "metadata": {},
   "source": [
    "### 2.3) Box plots\n",
    "Note:If we want to display a single boxplot only need to specify `x = 1` into our \"aes\" parameter\n",
    "\n",
    "### 2.3.1) Box plots for outliers\n",
    "In addition to indicating the center and spread of a distribution, a box plot provides a graphical means to detect outliers. You can apply this method to the msrp column (manufacturer's suggested retail price) to detect if there are unusually expensive or cheap cars.\n",
    "\n",
    "**Exercise**\n",
    "1. Construct a box plot of msrp.\n",
    "2. Exclude the largest 3-5 outliers by filtering the rows to retain cars less than $100,000. Save this reduced dataset as cars_no_out.\n",
    "3. Construct a similar box plot of msrp using this reduced dataset. Compare the two plots.\n",
    "\n",
    "*Answer*\n"
   ]
  },
  {
   "cell_type": "code",
   "execution_count": 2,
   "metadata": {},
   "outputs": [
    {
     "data": {},
     "metadata": {},
     "output_type": "display_data"
    },
    {
     "data": {},
     "metadata": {},
     "output_type": "display_data"
    },
    {
     "data": {
      "image/png": "[encoded data removed]",
      "text/plain": [
       "plot without title"
      ]
     },
     "metadata": {},
     "output_type": "display_data"
    },
    {
     "data": {
      "image/png": "[encoded data removed]",
      "text/plain": [
       "plot without title"
      ]
     },
     "metadata": {},
     "output_type": "display_data"
    }
   ],
   "source": [
    "library(repr)\n",
    "\n",
    "# Change plot size to 4 x 3\n",
    "    options(repr.plot.width=4, repr.plot.height=3)\n",
    "\n",
    "# Construct box plot of msrp\n",
    "cars %>%\n",
    "  ggplot(aes(x = 1, y = msrp)) +\n",
    "  geom_boxplot()\n",
    "\n",
    "# Exclude outliers from data\n",
    "cars_no_out <- cars %>%\n",
    "  filter(msrp < 100000)\n",
    "\n",
    "# Construct box plot of msrp using the reduced dataset\n",
    "cars_no_out %>% \n",
    "ggplot(aes(x = 1, y = msrp)) +\n",
    "  geom_boxplot()"
   ]
  },
  {
   "cell_type": "markdown",
   "metadata": {},
   "source": [
    "#### 2.3.2) Plot selection\n",
    "Consider two other columns in the cars dataset: city_mpg and width. Which is the most appropriate plot for displaying the important features of their distributions? Remember, both density plots and box plots display the central tendency and spread of the data, but the box plot is more robust to outliers.\n",
    "\n",
    "**Exercise**\n",
    "Use density plots or box plots to construct the following visualizations. For each variable, try both plots and submit the one that is better at capturing the important structure.\n",
    "\n",
    "1. Display the distribution of city_mpg.\n",
    "2. Display the distribution of width.\n",
    "\n",
    "*Answer*\n"
   ]
  },
  {
   "cell_type": "code",
   "execution_count": 5,
   "metadata": {},
   "outputs": [
    {
     "name": "stderr",
     "output_type": "stream",
     "text": [
      "Warning message:\n",
      "\"Removed 14 rows containing non-finite values (stat_boxplot).\""
     ]
    },
    {
     "data": {},
     "metadata": {},
     "output_type": "display_data"
    },
    {
     "name": "stderr",
     "output_type": "stream",
     "text": [
      "Warning message:\n",
      "\"Removed 14 rows containing non-finite values (stat_density).\""
     ]
    },
    {
     "data": {},
     "metadata": {},
     "output_type": "display_data"
    },
    {
     "data": {
      "image/png": "[encoded data removed]",
      "text/plain": [
       "plot without title"
      ]
     },
     "metadata": {},
     "output_type": "display_data"
    },
    {
     "name": "stderr",
     "output_type": "stream",
     "text": [
      "Warning message:\n",
      "\"Removed 28 rows containing non-finite values (stat_density).\""
     ]
    },
    {
     "data": {},
     "metadata": {},
     "output_type": "display_data"
    },
    {
     "data": {
      "image/png": "[encoded data removed]",
      "text/plain": [
       "plot without title"
      ]
     },
     "metadata": {},
     "output_type": "display_data"
    },
    {
     "name": "stderr",
     "output_type": "stream",
     "text": [
      "Warning message:\n",
      "\"Removed 28 rows containing non-finite values (stat_boxplot).\""
     ]
    },
    {
     "data": {},
     "metadata": {},
     "output_type": "display_data"
    },
    {
     "data": {
      "image/png": "[encoded data removed]",
      "text/plain": [
       "plot without title"
      ]
     },
     "metadata": {},
     "output_type": "display_data"
    },
    {
     "data": {
      "image/png": "[encoded data removed]",
      "text/plain": [
       "plot without title"
      ]
     },
     "metadata": {},
     "output_type": "display_data"
    }
   ],
   "source": [
    "library(repr)\n",
    "\n",
    "# Change plot size to 4 x 3\n",
    "    options(repr.plot.width=6, repr.plot.height=2)\n",
    "\n",
    "#first \n",
    "# Create plot of city_mpg\n",
    "cars %>%\n",
    "  ggplot(aes(x = 1, y = city_mpg)) +\n",
    "  geom_boxplot()\n",
    "\n",
    "#or \n",
    "cars %>%\n",
    "  ggplot(aes(x = city_mpg)) +\n",
    "  geom_density()\n",
    "  \n",
    "\n",
    "#second\n",
    "# Create plot of width\n",
    "cars %>% \n",
    "  ggplot(aes(x = width )) +\n",
    "  geom_density()\n",
    "\n",
    "# or \n",
    "cars %>% \n",
    "  ggplot(aes(x = 1, y = width )) +\n",
    "  geom_boxplot()"
   ]
  },
  {
   "cell_type": "markdown",
   "metadata": {},
   "source": [
    "### 2.4) (video) Visualization in higher dimensions\n",
    "\n",
    "\n",
    "#### 2.4.1) 3 variable plot\n",
    "Faceting is a valuable technique for looking at several conditional distributions at the same time. If the faceted distributions are laid out in a grid, you can consider the association between a variable and two others, one on the rows of the grid and the other on the columns.\n",
    "\n",
    "**Exercise**\n",
    "common_cyl, which you created to contain only cars with 4, 6, or 8 cylinders, is available in your workspace.\n",
    "\n",
    "1. Using common_cyl, create a histogram of hwy_mpg.\n",
    "2. Grid-facet the plot rowwise by ncyl and columnwise by suv.\n",
    "3. Add a title to your plot to indicate what variables are being faceted on.\n",
    "\n",
    "*Answer*"
   ]
  },
  {
   "cell_type": "code",
   "execution_count": 9,
   "metadata": {},
   "outputs": [
    {
     "name": "stderr",
     "output_type": "stream",
     "text": [
      "`stat_bin()` using `bins = 30`. Pick better value with `binwidth`.\n",
      "Warning message:\n",
      "\"Removed 11 rows containing non-finite values (stat_bin).\""
     ]
    },
    {
     "data": {},
     "metadata": {},
     "output_type": "display_data"
    },
    {
     "data": {
      "image/png": "[encoded data removed]",
      "text/plain": [
       "plot without title"
      ]
     },
     "metadata": {},
     "output_type": "display_data"
    }
   ],
   "source": [
    "library(repr)\n",
    "\n",
    "# Change plot size to 4 x 3\n",
    "    options(repr.plot.width=6, repr.plot.height=4)\n",
    "\n",
    "# Facet hists using hwy mileage and ncyl\n",
    "\n",
    "common_cyl %>%\n",
    "  ggplot(aes(x = hwy_mpg)) +\n",
    "  geom_histogram() +\n",
    "  facet_grid(ncyl ~ suv , labeller = label_both) +\n",
    "  ggtitle(\"Mpg by ncyl and suv\")\n"
   ]
  },
  {
   "cell_type": "markdown",
   "metadata": {},
   "source": [
    "## 3) Numerical Summaries\n",
    "Now that we've looked at exploring categorical and numerical data, you'll learn some useful statistics for describing distributions of data\n",
    "\n",
    "### 3.1) (video) Measures of center\n",
    "\n",
    "#### 3.1.2) Calculate center measures\n",
    "Throughout this chapter, you will use data from `gapminder`, which tracks demographic data in countries of the world over time. To learn more about it, you can bring up the help file with `?gapminder`.\n",
    "\n",
    "For this exercise, focus on how the life expectancy differs from continent to continent. This requires that you conduct your analysis not at the country level, but aggregated up to the continent level. This is made possible by the one-two punch of group_by() and summarize(), a very powerful syntax for carrying out the same analysis on different subsets of the full dataset.\n",
    "\n",
    "**Exercise**\n",
    "1. Create a dataset called gap2007 that contains only data from the year 2007.\n",
    "2. Using gap2007, calculate the mean and median life expectancy for each continent. Don't worry about naming the new columns produced by summarize().\n",
    "3. confirm the trends that you see in the medians by generating side-by-side box plots of life expectancy for each continent.\n",
    "\n",
    "*Answer*"
   ]
  },
  {
   "cell_type": "code",
   "execution_count": 8,
   "metadata": {},
   "outputs": [
    {
     "data": {
      "text/html": [
       "<table>\n",
       "<thead><tr><th scope=col>continent</th><th scope=col>mean(lifeExp)</th><th scope=col>median(lifeExp)</th></tr></thead>\n",
       "<tbody>\n",
       "\t<tr><td>Africa  </td><td>54.80604</td><td>52.9265 </td></tr>\n",
       "\t<tr><td>Americas</td><td>73.60812</td><td>72.8990 </td></tr>\n",
       "\t<tr><td>Asia    </td><td>70.72848</td><td>72.3960 </td></tr>\n",
       "\t<tr><td>Europe  </td><td>77.64860</td><td>78.6085 </td></tr>\n",
       "\t<tr><td>Oceania </td><td>80.71950</td><td>80.7195 </td></tr>\n",
       "</tbody>\n",
       "</table>\n"
      ],
      "text/latex": [
       "\\begin{tabular}{r|lll}\n",
       " continent & mean(lifeExp) & median(lifeExp)\\\\\n",
       "\\hline\n",
       "\t Africa   & 54.80604 & 52.9265 \\\\\n",
       "\t Americas & 73.60812 & 72.8990 \\\\\n",
       "\t Asia     & 70.72848 & 72.3960 \\\\\n",
       "\t Europe   & 77.64860 & 78.6085 \\\\\n",
       "\t Oceania  & 80.71950 & 80.7195 \\\\\n",
       "\\end{tabular}\n"
      ],
      "text/markdown": [
       "\n",
       "continent | mean(lifeExp) | median(lifeExp) | \n",
       "|---|---|---|---|---|\n",
       "| Africa   | 54.80604 | 52.9265  | \n",
       "| Americas | 73.60812 | 72.8990  | \n",
       "| Asia     | 70.72848 | 72.3960  | \n",
       "| Europe   | 77.64860 | 78.6085  | \n",
       "| Oceania  | 80.71950 | 80.7195  | \n",
       "\n",
       "\n"
      ],
      "text/plain": [
       "  continent mean(lifeExp) median(lifeExp)\n",
       "1 Africa    54.80604      52.9265        \n",
       "2 Americas  73.60812      72.8990        \n",
       "3 Asia      70.72848      72.3960        \n",
       "4 Europe    77.64860      78.6085        \n",
       "5 Oceania   80.71950      80.7195        "
      ]
     },
     "metadata": {},
     "output_type": "display_data"
    },
    {
     "data": {},
     "metadata": {},
     "output_type": "display_data"
    },
    {
     "data": {
      "image/png": "[encoded data removed]",
      "text/plain": [
       "plot without title"
      ]
     },
     "metadata": {},
     "output_type": "display_data"
    }
   ],
   "source": [
    "library(\"gapminder\")\n",
    "data(\"gapminder\")\n",
    "\n",
    "\n",
    "library(repr)\n",
    "# Change plot size to 4 x 3\n",
    "    options(repr.plot.width=6, repr.plot.height=4)\n",
    "\n",
    "\n",
    "# Create dataset of 2007 data\n",
    "gap2007 <- filter(gapminder, year == 2007)\n",
    "\n",
    "# Compute groupwise mean and median lifeExp\n",
    "gap2007 %>%\n",
    "  group_by(continent) %>%\n",
    "  summarize( mean(lifeExp),\n",
    "            median(lifeExp))\n",
    "\n",
    "# Generate box plots of lifeExp for each continent\n",
    "gap2007 %>%\n",
    "  ggplot(aes(x = continent, y = lifeExp)) +\n",
    "  geom_boxplot()"
   ]
  },
  {
   "cell_type": "markdown",
   "metadata": {},
   "source": [
    "**Exercise**\n",
    "*Answer*"
   ]
  },
  {
   "cell_type": "markdown",
   "metadata": {},
   "source": [
    "### 3.2) (video) Measures of variability \n",
    "\n",
    "#### 3.2.2) Calculate spread measures\n",
    "Let's extend the powerful group_by() and summarize() syntax to measures of spread. If you're unsure whether you're working with symmetric or skewed distributions, it's a good idea to consider a robust measure like IQR in addition to the usual measures of variance or standard deviation.\n",
    "\n",
    "**Exercise**\n",
    "The gap2007 dataset that you created in an earlier exercise is available in your workspace.\n",
    "\n",
    "1. For each continent in gap2007, summarize life expectancies using the sd(), the IQR(), and the count of countries, n(). No need to name the new columns produced here. The n() function within your summarize() call does not take any arguments.\n",
    "2. Graphically compare the spread of these distributions by constructing overlaid density plots of life expectancy broken down by continent\n",
    "\n",
    "*Answer*"
   ]
  },
  {
   "cell_type": "code",
   "execution_count": 3,
   "metadata": {},
   "outputs": [
    {
     "data": {
      "text/html": [
       "<table>\n",
       "<thead><tr><th scope=col>continent</th><th scope=col>sd(lifeExp)</th><th scope=col>IQR(lifeExp)</th><th scope=col>n()</th></tr></thead>\n",
       "<tbody>\n",
       "\t<tr><td>Africa   </td><td>9.6307807</td><td>11.61025 </td><td>52       </td></tr>\n",
       "\t<tr><td>Americas </td><td>4.4409476</td><td> 4.63200 </td><td>25       </td></tr>\n",
       "\t<tr><td>Asia     </td><td>7.9637245</td><td>10.15200 </td><td>33       </td></tr>\n",
       "\t<tr><td>Europe   </td><td>2.9798127</td><td> 4.78250 </td><td>30       </td></tr>\n",
       "\t<tr><td>Oceania  </td><td>0.7290271</td><td> 0.51550 </td><td> 2       </td></tr>\n",
       "</tbody>\n",
       "</table>\n"
      ],
      "text/latex": [
       "\\begin{tabular}{r|llll}\n",
       " continent & sd(lifeExp) & IQR(lifeExp) & n()\\\\\n",
       "\\hline\n",
       "\t Africa    & 9.6307807 & 11.61025  & 52       \\\\\n",
       "\t Americas  & 4.4409476 &  4.63200  & 25       \\\\\n",
       "\t Asia      & 7.9637245 & 10.15200  & 33       \\\\\n",
       "\t Europe    & 2.9798127 &  4.78250  & 30       \\\\\n",
       "\t Oceania   & 0.7290271 &  0.51550  &  2       \\\\\n",
       "\\end{tabular}\n"
      ],
      "text/markdown": [
       "\n",
       "continent | sd(lifeExp) | IQR(lifeExp) | n() | \n",
       "|---|---|---|---|---|\n",
       "| Africa    | 9.6307807 | 11.61025  | 52        | \n",
       "| Americas  | 4.4409476 |  4.63200  | 25        | \n",
       "| Asia      | 7.9637245 | 10.15200  | 33        | \n",
       "| Europe    | 2.9798127 |  4.78250  | 30        | \n",
       "| Oceania   | 0.7290271 |  0.51550  |  2        | \n",
       "\n",
       "\n"
      ],
      "text/plain": [
       "  continent sd(lifeExp) IQR(lifeExp) n()\n",
       "1 Africa    9.6307807   11.61025     52 \n",
       "2 Americas  4.4409476    4.63200     25 \n",
       "3 Asia      7.9637245   10.15200     33 \n",
       "4 Europe    2.9798127    4.78250     30 \n",
       "5 Oceania   0.7290271    0.51550      2 "
      ]
     },
     "metadata": {},
     "output_type": "display_data"
    },
    {
     "data": {},
     "metadata": {},
     "output_type": "display_data"
    },
    {
     "data": {
      "image/png": "[encoded data removed]",
      "text/plain": [
       "plot without title"
      ]
     },
     "metadata": {},
     "output_type": "display_data"
    }
   ],
   "source": [
    "library(repr)\n",
    "# Change plot size to 4 x 3\n",
    "    options(repr.plot.width=6, repr.plot.height=4)\n",
    "\n",
    "\n",
    "# Compute groupwise measures of spread\n",
    "gap2007 %>%\n",
    "  group_by(continent) %>%\n",
    "  summarize(sd(lifeExp),\n",
    "            IQR(lifeExp),\n",
    "            n())\n",
    "\n",
    "# Generate overlaid density plots\n",
    "gap2007 %>%\n",
    "  ggplot(aes(x = lifeExp, fill = continent)) +\n",
    "  geom_density(alpha = 0.3)"
   ]
  },
  {
   "cell_type": "markdown",
   "metadata": {},
   "source": [
    "#### 3.2.3) Choose measures for center and spread\n",
    "Consider the density plots shown here. What are the most appropriate measures to describe their centers and spreads? In this exercise, you'll select the measures and then calculate them.\n",
    "\n",
    "**Exercise**\n",
    "Using the shapes of the density plots, calculate the most appropriate measures of center and spread for the following:\n",
    "\n",
    "1. The distribution of life expectancy in the countries of the Americas. Note you'll need to apply a filter here.\n",
    "2. The distribution of country populations across the entire gap2007 dataset.\n"
   ]
  },
  {
   "cell_type": "code",
   "execution_count": 12,
   "metadata": {},
   "outputs": [
    {
     "name": "stderr",
     "output_type": "stream",
     "text": [
      "Warning message:\n",
      "\"package 'gridExtra' was built under R version 3.5.3\"\n",
      "Attaching package: 'gridExtra'\n",
      "\n",
      "The following object is masked from 'package:dplyr':\n",
      "\n",
      "    combine\n",
      "\n"
     ]
    },
    {
     "data": {
      "image/png": "[encoded data removed]",
      "text/plain": [
       "plot without title"
      ]
     },
     "metadata": {},
     "output_type": "display_data"
    }
   ],
   "source": [
    "library(repr)\n",
    "library(gridExtra)\n",
    "\n",
    "\n",
    "# Change plot size to 4 x 3\n",
    "    options(repr.plot.width=6, repr.plot.height=3)\n",
    "\n",
    "p1<-gap2007 %>%\n",
    "  filter(continent == \"Americas\") %>%   ggplot(aes(x = lifeExp)) +\n",
    "  geom_density(alpha = 0.3)\n",
    "\n",
    "p2<-gap2007 %>% ggplot(aes(x = pop)) + geom_density(alpha = 0.3)\n",
    "\n",
    "grid.arrange(p1, p2, nrow=1)"
   ]
  },
  {
   "cell_type": "markdown",
   "metadata": {},
   "source": [
    "*Answer*"
   ]
  },
  {
   "cell_type": "code",
   "execution_count": 13,
   "metadata": {},
   "outputs": [
    {
     "data": {
      "text/html": [
       "<table>\n",
       "<thead><tr><th scope=col>mean(lifeExp)</th><th scope=col>sd(lifeExp)</th></tr></thead>\n",
       "<tbody>\n",
       "\t<tr><td>73.60812</td><td>4.440948</td></tr>\n",
       "</tbody>\n",
       "</table>\n"
      ],
      "text/latex": [
       "\\begin{tabular}{r|ll}\n",
       " mean(lifeExp) & sd(lifeExp)\\\\\n",
       "\\hline\n",
       "\t 73.60812 & 4.440948\\\\\n",
       "\\end{tabular}\n"
      ],
      "text/markdown": [
       "\n",
       "mean(lifeExp) | sd(lifeExp) | \n",
       "|---|\n",
       "| 73.60812 | 4.440948 | \n",
       "\n",
       "\n"
      ],
      "text/plain": [
       "  mean(lifeExp) sd(lifeExp)\n",
       "1 73.60812      4.440948   "
      ]
     },
     "metadata": {},
     "output_type": "display_data"
    },
    {
     "data": {
      "text/html": [
       "<table>\n",
       "<thead><tr><th scope=col>median(pop)</th><th scope=col>IQR(pop)</th></tr></thead>\n",
       "<tbody>\n",
       "\t<tr><td>10517531</td><td>26702008</td></tr>\n",
       "</tbody>\n",
       "</table>\n"
      ],
      "text/latex": [
       "\\begin{tabular}{r|ll}\n",
       " median(pop) & IQR(pop)\\\\\n",
       "\\hline\n",
       "\t 10517531 & 26702008\\\\\n",
       "\\end{tabular}\n"
      ],
      "text/markdown": [
       "\n",
       "median(pop) | IQR(pop) | \n",
       "|---|\n",
       "| 10517531 | 26702008 | \n",
       "\n",
       "\n"
      ],
      "text/plain": [
       "  median(pop) IQR(pop)\n",
       "1 10517531    26702008"
      ]
     },
     "metadata": {},
     "output_type": "display_data"
    }
   ],
   "source": [
    "# Compute stats for lifeExp in Americas\n",
    "gap2007 %>%\n",
    "  filter(continent == \"Americas\") %>%\n",
    "  summarize(mean(lifeExp),\n",
    "            sd(lifeExp))\n",
    "\n",
    "# Compute stats for population\n",
    "gap2007 %>%\n",
    "  summarize(median(pop),\n",
    "            IQR(pop))"
   ]
  },
  {
   "cell_type": "markdown",
   "metadata": {},
   "source": [
    "### 3.3) (video) Shape and transformations\n",
    "There are 4 generally four characteristics of distributions that are of interest \n",
    "\n",
    "1. center: mean, mode, median\n",
    "2. spread: varianza, sd, IQR, range\n",
    "3. shape of distributions: we can described by modality and skew.\n",
    "4. Outliers\n",
    "\n",
    "where modality of a distributions is the number of prominent humps that show up in the distributions, if there is a single model, as a bell-curve, it´s called unimodal, if there are two prominent modes, it´s called bimodal, if it has three modes or more, the convention is to refer to it as multimodal, the last case it´s when we don´t have modes, it´s called uniform\n",
    "\n",
    "The skew, to refer if a distribution has a long tail that streches out to the right, it´s referred to as \"right-skewed\" or if that long tail stretches out to the left, its referred to as \"left-skewed\". otherwise it´s called symmetric distributions.\n",
    "\n",
    "#### 3.3.2) Transformations\n",
    "Highly skewed distributions can make it very difficult to learn anything from a visualization. Transformations can be helpful in revealing the more subtle structure.\n",
    "\n",
    "Here you'll focus on the population variable, which exhibits strong right skew, and transform it with the natural logarithm function (log() in R).\n",
    "\n",
    "**Exercise**\n",
    "Using the gap2007 data:\n",
    "\n",
    "1. Create a density plot of the population variable.\n",
    "2. Mutate a new column called log_pop that is the natural log of the population and save it back into gap2007.\n",
    "3. Create a density plot of your transformed variable\n",
    "\n",
    "*Answer*"
   ]
  },
  {
   "cell_type": "code",
   "execution_count": 11,
   "metadata": {},
   "outputs": [
    {
     "data": {},
     "metadata": {},
     "output_type": "display_data"
    },
    {
     "data": {},
     "metadata": {},
     "output_type": "display_data"
    },
    {
     "data": {
      "image/png": "[encoded data removed]",
      "text/plain": [
       "plot without title"
      ]
     },
     "metadata": {},
     "output_type": "display_data"
    },
    {
     "data": {
      "image/png": "[encoded data removed]",
      "text/plain": [
       "plot without title"
      ]
     },
     "metadata": {},
     "output_type": "display_data"
    }
   ],
   "source": [
    "library(repr)\n",
    "# Change plot size to 4 x 3\n",
    "    options(repr.plot.width=4, repr.plot.height=2)\n",
    "\n",
    "# Create density plot of old variable\n",
    "gap2007 %>%\n",
    "  ggplot(aes(x = pop)) +\n",
    "  geom_density()\n",
    "\n",
    "# Transform the skewed pop variable\n",
    "gap2007 <- gap2007 %>%\n",
    "  mutate(log_pop = log(pop))\n",
    "\n",
    "# Create density plot of new variable\n",
    "gap2007 %>%\n",
    "  ggplot(aes(x = log_pop)) +\n",
    "  geom_density()\n",
    "\n"
   ]
  },
  {
   "cell_type": "markdown",
   "metadata": {},
   "source": [
    "### 3.4) Outliers\n",
    "Identify outliers\n",
    "Consider the distribution, shown here, of the life expectancies of the countries in Asia. The box plot identifies one clear outlier: a country with a notably low life expectancy. Do you have a guess as to which country this might be? Test your guess in the console using either min() or filter(), then proceed to building a plot with that country removed\n"
   ]
  },
  {
   "cell_type": "code",
   "execution_count": 19,
   "metadata": {},
   "outputs": [
    {
     "data": {},
     "metadata": {},
     "output_type": "display_data"
    },
    {
     "data": {
      "image/png": "[encoded data removed]",
      "text/plain": [
       "plot without title"
      ]
     },
     "metadata": {},
     "output_type": "display_data"
    }
   ],
   "source": [
    "library(repr)\n",
    "# Change plot size to 4 x 3\n",
    "    options(repr.plot.width=4, repr.plot.height=4)\n",
    "\n",
    "gap2007 %>% \n",
    "  filter(continent == \"Asia\") %>%  \n",
    "  ggplot(aes(x = 1 , y = lifeExp)) + geom_boxplot()\n"
   ]
  },
  {
   "cell_type": "markdown",
   "metadata": {},
   "source": [
    "**Exercise**\n",
    "gap2007 is still available in your workspace.\n",
    "\n",
    "1. Apply a filter so that it only contains observations from Asia, then create a new variable called is_outlier that is TRUE for countries with life expectancy less than 50. Assign the result to gap_asia.\n",
    "2. Filter gap_asia to remove all outliers, then create another box plot of the remaining life expectancies.\n",
    "\n",
    "*Answer*"
   ]
  },
  {
   "cell_type": "code",
   "execution_count": 20,
   "metadata": {},
   "outputs": [
    {
     "data": {},
     "metadata": {},
     "output_type": "display_data"
    },
    {
     "data": {
      "image/png": "[encoded data removed]",
      "text/plain": [
       "plot without title"
      ]
     },
     "metadata": {},
     "output_type": "display_data"
    }
   ],
   "source": [
    "library(repr)\n",
    "# Change plot size to 4 x 3\n",
    "    options(repr.plot.width=4, repr.plot.height=4)\n",
    "\n",
    "# Filter for Asia, add column indicating outliers\n",
    "gap_asia <- gap2007 %>%\n",
    "  filter(continent == \"Asia\") %>%\n",
    "  mutate(is_outlier = lifeExp < 50)\n",
    "\n",
    "# Remove outliers, create box plot of lifeExp\n",
    "gap_asia %>%\n",
    "  filter(!is_outlier) %>%\n",
    "  ggplot(aes(x = 1, y = lifeExp)) +\n",
    "  geom_boxplot()"
   ]
  },
  {
   "cell_type": "markdown",
   "metadata": {},
   "source": [
    "## 4) Case Study\n",
    "Apply what you've learned to explore and summarize a real world dataset in this case study of email spam.\n",
    "\n",
    "### 4.1) (video) Introducing the data\n",
    "\n",
    "#### 4.1.1) Spam and num_char\n",
    "Is there an association between spam and the length of an email? You could imagine a story either way:\n",
    "\n",
    "1. Spam is more likely to be a short message tempting me to click on a link, or\n",
    "2. My normal email is likely shorter since I exchange brief emails with my friends all the time.\n",
    "\n",
    "Here, you'll use the email dataset to settle that question. Begin by bringing up the help file and learning about all the variables with ?email.\n",
    "\n",
    "As you explore the association between spam and the length of an email, use this opportunity to try out linking a dplyr chain with the layers in a ggplot2 object.\n",
    "\n",
    "**Exercise**\n",
    "Using the email dataset\n",
    "\n",
    "1. Load the packages ggplot2, dplyr, and openintro.\n",
    "2. Compute appropriate measures of the center and spread of num_char for both spam and not-spam using group_by() and summarize(). No need to name the new columns created by summarize().\n",
    "3. Construct side-by-side box plots to visualize the association between the same two variables. It will be useful to mutate()\n",
    "\n",
    "*Answer*"
   ]
  },
  {
   "cell_type": "code",
   "execution_count": 2,
   "metadata": {},
   "outputs": [
    {
     "name": "stderr",
     "output_type": "stream",
     "text": [
      "Warning message:\n",
      "\"package 'openintro' was built under R version 3.5.2\"Please visit openintro.org for free statistics materials\n",
      "\n",
      "Attaching package: 'openintro'\n",
      "\n",
      "The following objects are masked _by_ '.GlobalEnv':\n",
      "\n",
      "    cars, immigration\n",
      "\n",
      "The following object is masked from 'package:ggplot2':\n",
      "\n",
      "    diamonds\n",
      "\n",
      "The following objects are masked from 'package:datasets':\n",
      "\n",
      "    cars, trees\n",
      "\n"
     ]
    },
    {
     "data": {
      "text/html": [
       "<table>\n",
       "<thead><tr><th scope=col>spam</th><th scope=col>median(num_char)</th><th scope=col>IQR(num_char)</th></tr></thead>\n",
       "<tbody>\n",
       "\t<tr><td>0       </td><td>6.831   </td><td>13.58225</td></tr>\n",
       "\t<tr><td>1       </td><td>1.046   </td><td> 2.81800</td></tr>\n",
       "</tbody>\n",
       "</table>\n"
      ],
      "text/latex": [
       "\\begin{tabular}{r|lll}\n",
       " spam & median(num\\_char) & IQR(num\\_char)\\\\\n",
       "\\hline\n",
       "\t 0        & 6.831    & 13.58225\\\\\n",
       "\t 1        & 1.046    &  2.81800\\\\\n",
       "\\end{tabular}\n"
      ],
      "text/markdown": [
       "\n",
       "spam | median(num_char) | IQR(num_char) | \n",
       "|---|---|\n",
       "| 0        | 6.831    | 13.58225 | \n",
       "| 1        | 1.046    |  2.81800 | \n",
       "\n",
       "\n"
      ],
      "text/plain": [
       "  spam median(num_char) IQR(num_char)\n",
       "1 0    6.831            13.58225     \n",
       "2 1    1.046             2.81800     "
      ]
     },
     "metadata": {},
     "output_type": "display_data"
    },
    {
     "data": {},
     "metadata": {},
     "output_type": "display_data"
    },
    {
     "data": {
      "image/png": "[encoded data removed]",
      "text/plain": [
       "plot without title"
      ]
     },
     "metadata": {},
     "output_type": "display_data"
    }
   ],
   "source": [
    "library(repr)\n",
    "# Change plot size to 4 x 3\n",
    "    options(repr.plot.width=6, repr.plot.height=4)\n",
    "\n",
    "# Load packages\n",
    "library(dplyr)\n",
    "library(ggplot2)\n",
    "library(openintro) #here is email dataset\n",
    "data(\"email\")\n",
    "\n",
    "\n",
    "# Compute summary statistics\n",
    "email %>%\n",
    "  group_by(spam) %>%\n",
    "  summarize(median(num_char),IQR(num_char))\n",
    "\n",
    "# Create plot\n",
    "email %>%\n",
    "  mutate(log_num_char = log(num_char)) %>%\n",
    "  ggplot(aes(x = as.factor(spam), y = log_num_char)) +\n",
    "  geom_boxplot()"
   ]
  },
  {
   "cell_type": "markdown",
   "metadata": {},
   "source": [
    "#### 4.1.3) Spam and !!!\n",
    "Let's look at a more obvious indicator of spam: exclamation marks. exclaim_mess contains the number of exclamation marks in each message. Using summary statistics and visualization, see if there is a relationship between this variable and whether or not a message is spam.\n",
    "\n",
    "Experiment with different types of plots until you find one that is the most informative. Recall that you've seen:\n",
    "\n",
    "    Side-by-side box plots\n",
    "    Faceted histograms\n",
    "    Overlaid density plots\n",
    "\n",
    "**Exercise**\n",
    "The email dataset is still available in your workspace.\n",
    "\n",
    "1. Calculate appropriate measures of the center and spread of exclaim_mess for both spam and not-spam using group_by() and summarize().\n",
    "2. Construct an appropriate plot to visualize the association between the same two variables, adding in a log-transformation step if necessary.\n",
    "\n",
    "**If you decide to use a log transformation, remember that log(0) is -Inf in R, which isn't a very useful value! You can get around this by adding a small number (like 0.01) to the quantity inside the log() function. This way, your value is never zero. This small shift to the right won't affect your results.**\n",
    "\n",
    "*Answer*"
   ]
  },
  {
   "cell_type": "code",
   "execution_count": 6,
   "metadata": {},
   "outputs": [
    {
     "data": {
      "text/html": [
       "<table>\n",
       "<thead><tr><th scope=col>spam</th><th scope=col>mean(exclaim_mess)</th><th scope=col>IQR(exclaim_mess)</th></tr></thead>\n",
       "<tbody>\n",
       "\t<tr><td>0       </td><td>6.508160</td><td>5       </td></tr>\n",
       "\t<tr><td>1       </td><td>7.321526</td><td>1       </td></tr>\n",
       "</tbody>\n",
       "</table>\n"
      ],
      "text/latex": [
       "\\begin{tabular}{r|lll}\n",
       " spam & mean(exclaim\\_mess) & IQR(exclaim\\_mess)\\\\\n",
       "\\hline\n",
       "\t 0        & 6.508160 & 5       \\\\\n",
       "\t 1        & 7.321526 & 1       \\\\\n",
       "\\end{tabular}\n"
      ],
      "text/markdown": [
       "\n",
       "spam | mean(exclaim_mess) | IQR(exclaim_mess) | \n",
       "|---|---|\n",
       "| 0        | 6.508160 | 5        | \n",
       "| 1        | 7.321526 | 1        | \n",
       "\n",
       "\n"
      ],
      "text/plain": [
       "  spam mean(exclaim_mess) IQR(exclaim_mess)\n",
       "1 0    6.508160           5                \n",
       "2 1    7.321526           1                "
      ]
     },
     "metadata": {},
     "output_type": "display_data"
    },
    {
     "name": "stderr",
     "output_type": "stream",
     "text": [
      "Warning message:\n",
      "\"Removed 1435 rows containing non-finite values (stat_density).\""
     ]
    },
    {
     "data": {},
     "metadata": {},
     "output_type": "display_data"
    },
    {
     "data": {
      "image/png": "[encoded data removed]",
      "text/plain": [
       "plot without title"
      ]
     },
     "metadata": {},
     "output_type": "display_data"
    }
   ],
   "source": [
    "library(repr)\n",
    "# Change plot size to 4 x 3\n",
    "    options(repr.plot.width=6, repr.plot.height=4)\n",
    "\n",
    "# Compute center and spread for exclaim_mess by spam\n",
    "email %>%\n",
    "group_by(spam) %>%\n",
    "summarize(mean(exclaim_mess), IQR(exclaim_mess))\n",
    "\n",
    "# Create plot for spam and exclaim_mess\n",
    "email %>%\n",
    "mutate(log_exclaim_mess = log(exclaim_mess)) %>%\n",
    "ggplot(aes(x = log_exclaim_mess, fill = as.factor(spam))) +\n",
    "geom_density(alpha = .3)\n"
   ]
  },
  {
   "cell_type": "markdown",
   "metadata": {},
   "source": [
    "### (video) 4.2 Check-In 1\n",
    "\n",
    "#### 4.2.1) Collapsing levels\n",
    "If it was difficult to work with the heavy skew of exclaim_mess, the number of images attached to each email (image) poses even more of a challenge. Run the following code at the console to get a sense of its distribution:\n",
    "\n",
    "    table(email$image)\n",
    "    \n",
    "Recall that this tabulates the number of cases in each category (so there were 3811 emails with 0 images, for example). Given the very low counts at the higher number of images, let's collapse image into a categorical variable that indicates whether or not the email had at least one image. In this exercise, you'll create this new variable and explore its association with spam.\n",
    "\n",
    "**Exercise**\n",
    "Starting with email, form a continuous chain that links together the following tasks:\n",
    "\n",
    "1. Create a new variable called has_image that is TRUE where the number of images is greater than zero and FALSE otherwise.\n",
    "2. Create an appropriate plot with email to visualize the relationship between has_image and spam.\n",
    "\n",
    "*Answer*"
   ]
  },
  {
   "cell_type": "code",
   "execution_count": 5,
   "metadata": {},
   "outputs": [
    {
     "data": {},
     "metadata": {},
     "output_type": "display_data"
    },
    {
     "data": {
      "image/png": "[encoded data removed]",
      "text/plain": [
       "plot without title"
      ]
     },
     "metadata": {},
     "output_type": "display_data"
    }
   ],
   "source": [
    "library(repr)\n",
    "# Change plot size to 4 x 3\n",
    "    options(repr.plot.width=5, repr.plot.height=4)\n",
    "\n",
    "email %>%\n",
    "  mutate(has_image = image > 0) %>%\n",
    "  ggplot(aes(x = has_image, fill = as.factor(spam))) +\n",
    "  geom_bar(position = \"fill\") "
   ]
  },
  {
   "cell_type": "markdown",
   "metadata": {},
   "source": [
    "#### 4.2.2) Data Integrity\n",
    "In the process of exploring a dataset, you'll sometimes come across something that will lead you to question how the data were compiled. For example, the variable num_char contains the number of characters in the email, in thousands, so it could take decimal values, but it certainly shouldn't take negative values.\n",
    "\n",
    "You can formulate a test to ensure this variable is behaving as we expect:\n",
    "\n",
    "    email$num_char < 0\n",
    "    \n",
    "If you run this code at the console, you'll get a long vector of logical values indicating for each case in the dataset whether that condition is TRUE. Here, the first 1000 values all appear to be FALSE. To verify that all of the cases indeed have non-negative values for num_char, we can take the sum of this vector:\n",
    "\n",
    "    sum(email$num_char < 0)\n",
    "    \n",
    "This is a handy shortcut. When you do arithmetic on logical values, R treats TRUE as 1 and FALSE as 0. Since the sum over the whole vector is zero, you learn that every case in the dataset took a value of FALSE in the test. That is, the num_char column is behaving as we expect and taking only non-negative values.\n",
    "\n",
    "**Exercise**\n",
    "Consider the variables `image` and `attach`. You can read about them with `?email`, but the help file is ambiguous: do attached images count as attached files in this dataset?\n",
    "\n",
    "Design a simple test to determine if images count as attached files. This involves creating a logical condition to compare the values of the two variables, then using `sum()` to assess every case in the dataset. Recall that the logical operators are `<` for less than, `<= `for less than or equal to, `>` for greater than, `>=` for greater than or equal to, and `==` for equal to.\n",
    "\n",
    "*Answer*\n",
    "\n",
    "    # Test if images count as attachments\n",
    "    sum(email$image>0 && email$attach>0)\n",
    "\n",
    "#### 4.2.3) Answering questions with chains\n",
    "When you have a specific question about a dataset, you can find your way to an answer by carefully constructing the appropriate chain of R code. For example, consider the following question:\n",
    "\n",
    "    \"Within non-spam emails, is the typical length of emails shorter for those that were sent to multiple people?\"\n",
    "\n",
    "This can be answered with the following chain:\n",
    "\n",
    "    email %>%\n",
    "       filter(spam == \"not-spam\") %>%\n",
    "       group_by(to_multiple) %>%\n",
    "       summarize(median(num_char))\n",
    "   \n",
    "The code makes it clear that you are using num_char to measure the length of an email and median() as the measure of what is typical. If you run this code, you'll learn that the answer to the question is \"yes\": the typical length of non-spam sent to multiple people is a bit lower than those sent to only one person.\n",
    "\n",
    "This chain concluded with summary statistics, but others might end in a plot; it all depends on the question that you're trying to answer\n",
    "\n",
    "**Exercise**\n",
    "Build a chain to answer each of the following questions, both about the variable dollar.\n",
    "\n",
    "1. For emails containing the word \"dollar\", does the typical spam email contain a greater number of occurrences of the word than the typical non-spam email? Create a summary statistic that answers this question.\n",
    "2. If you encounter an email with greater than 10 occurrences of the word \"dollar\", is it more likely to be spam or not-spam? Create a barchart that answers this question.\n",
    "\n",
    "*Answer*    "
   ]
  },
  {
   "cell_type": "code",
   "execution_count": 8,
   "metadata": {},
   "outputs": [
    {
     "data": {
      "text/html": [
       "<table>\n",
       "<thead><tr><th scope=col>spam</th><th scope=col>median(dollar)</th></tr></thead>\n",
       "<tbody>\n",
       "\t<tr><td>0</td><td>4</td></tr>\n",
       "\t<tr><td>1</td><td>2</td></tr>\n",
       "</tbody>\n",
       "</table>\n"
      ],
      "text/latex": [
       "\\begin{tabular}{r|ll}\n",
       " spam & median(dollar)\\\\\n",
       "\\hline\n",
       "\t 0 & 4\\\\\n",
       "\t 1 & 2\\\\\n",
       "\\end{tabular}\n"
      ],
      "text/markdown": [
       "\n",
       "spam | median(dollar) | \n",
       "|---|---|\n",
       "| 0 | 4 | \n",
       "| 1 | 2 | \n",
       "\n",
       "\n"
      ],
      "text/plain": [
       "  spam median(dollar)\n",
       "1 0    4             \n",
       "2 1    2             "
      ]
     },
     "metadata": {},
     "output_type": "display_data"
    },
    {
     "data": {},
     "metadata": {},
     "output_type": "display_data"
    },
    {
     "data": {
      "image/png": "[encoded data removed]",
      "text/plain": [
       "plot without title"
      ]
     },
     "metadata": {},
     "output_type": "display_data"
    }
   ],
   "source": [
    "library(repr)\n",
    "# Change plot size to 4 x 3\n",
    "    options(repr.plot.width=4, repr.plot.height=3)\n",
    "\n",
    "\n",
    "# Question 1\n",
    "email %>%\n",
    "  filter(dollar > 0) %>%\n",
    "  group_by(spam) %>%\n",
    "  summarize(median(dollar))\n",
    "\n",
    "# Question 2\n",
    "email %>%\n",
    "  filter(dollar > 10) %>%\n",
    "  ggplot(aes(x = spam)) +\n",
    "  geom_bar()"
   ]
  },
  {
   "cell_type": "markdown",
   "metadata": {},
   "source": [
    "### 4.3) (video) Check-In 2\n",
    "\n",
    "#### 4.3.1) What's in a number?\n",
    "Turn your attention to the variable called number. Read more about it by pulling up the help file with ?email.\n",
    "\n",
    "To explore the association between this variable and spam, select and construct an informative plot. For illustrating relationships between categorical variables, you've seen\n",
    "\n",
    "    Faceted barcharts\n",
    "    Side-by-side barcharts\n",
    "    Stacked and normalized barcharts.\n",
    "    Let's practice constructing a faceted barchart.\n",
    "\n",
    "**Exercise**\n",
    "1. Reorder the levels of number so that they preserve the natural ordering of \"none\", then \"small\", then \"big\".\n",
    "2. Construct a faceted barchart of the association between number and spam.\n",
    "\n",
    "*Answer*"
   ]
  },
  {
   "cell_type": "code",
   "execution_count": 10,
   "metadata": {},
   "outputs": [
    {
     "data": {},
     "metadata": {},
     "output_type": "display_data"
    },
    {
     "data": {
      "image/png": "[encoded data removed]",
      "text/plain": [
       "plot without title"
      ]
     },
     "metadata": {},
     "output_type": "display_data"
    }
   ],
   "source": [
    "library(repr)\n",
    "# Change plot size to 4 x 3\n",
    "    options(repr.plot.width=5, repr.plot.height=4)\n",
    "\n",
    "# Reorder levels\n",
    "email$number <- factor(email$number, levels = c(\"none\", \"small\", \"big\"))\n",
    "\n",
    "# Construct plot of number\n",
    "ggplot(email, aes(x = number)) +\n",
    "  geom_bar() +\n",
    "  facet_wrap(~ spam)"
   ]
  },
  {
   "cell_type": "code",
   "execution_count": null,
   "metadata": {},
   "outputs": [],
   "source": []
  }
 ],
 "metadata": {
  "kernelspec": {
   "display_name": "R",
   "language": "R",
   "name": "ir"
  },
  "language_info": {
   "codemirror_mode": "r",
   "file_extension": ".r",
   "mimetype": "text/x-r-source",
   "name": "R",
   "pygments_lexer": "r",
   "version": "3.5.1"
  }
 },
 "nbformat": 4,
 "nbformat_minor": 2
}
