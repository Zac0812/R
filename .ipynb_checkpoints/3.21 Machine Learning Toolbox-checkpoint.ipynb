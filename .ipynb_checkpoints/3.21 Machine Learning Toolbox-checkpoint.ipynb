{
 "cells": [
  {
   "cell_type": "markdown",
   "metadata": {},
   "source": [
    "# Machine Learning Toolbox\n",
    "\n",
    "### Course Description\n",
    "Machine learning is the study and application of algorithms that learn from and make predictions on data. From search results to self-driving cars, it has manifested itself in all areas of our lives and is one of the most exciting and fast growing fields of research in the world of data science. This course teaches the big ideas in machine learning: how to build and evaluate predictive models, how to tune them for optimal performance, how to preprocess data for better results, and much more. The popular `caret` R package, which provides a consistent interface to all of R's most powerful machine learning facilities, is used throughout the course.\n",
    "\n",
    "Example: https://www.guru99.com/r-generalized-linear-model.html (muy bueno paso a paso)\n",
    "\n",
    "\n",
    "### Note how can Resizing plots in the R kernel for Jupyter notebooks\n",
    "https://blog.revolutionanalytics.com/2015/09/resizing-plots-in-the-r-kernel-for-jupyter-notebooks.html\n",
    "\n",
    "    library(repr)\n",
    "\n",
    "    # Change plot size to 4 x 3\n",
    "    options(repr.plot.width=4, repr.plot.height=3)\n",
    "    \n",
    "### Note2 Generate a table \n",
    "https://www.tablesgenerator.com/markdown_tables\n",
    "\n",
    "**Notas sobre el paquete caret**\n",
    "http://topepo.github.io/caret/model-training-and-tuning.html\n",
    "\n",
    "**Notas sobre Confusion matrix and measures\n",
    "https://towardsdatascience.com/understanding-confusion-matrix-a9ad42dcfd62\n",
    "https://towardsdatascience.com/understanding-auc-roc-curve-68b2303cc9c5\n",
    "\n",
    "\n",
    "### Note 3 - DataFrames"
   ]
  },
  {
   "cell_type": "code",
   "execution_count": 1,
   "metadata": {},
   "outputs": [
    {
     "name": "stderr",
     "output_type": "stream",
     "text": [
      "Warning message:\n",
      "\"package 'dplyr' was built under R version 3.5.3\"\n",
      "Attaching package: 'dplyr'\n",
      "\n",
      "The following objects are masked from 'package:stats':\n",
      "\n",
      "    filter, lag\n",
      "\n",
      "The following objects are masked from 'package:base':\n",
      "\n",
      "    intersect, setdiff, setequal, union\n",
      "\n",
      "Warning message:\n",
      "\"package 'ggplot2' was built under R version 3.5.3\"Warning message:\n",
      "\"package 'readr' was built under R version 3.5.3\"Warning message:\n",
      "\"package 'broom' was built under R version 3.5.3\"Warning message:\n",
      "\"package 'caret' was built under R version 3.5.3\"Loading required package: lattice\n",
      "Warning message:\n",
      "\"package 'openintro' was built under R version 3.5.2\"Please visit openintro.org for free statistics materials\n",
      "\n",
      "Attaching package: 'openintro'\n",
      "\n",
      "The following object is masked from 'package:caret':\n",
      "\n",
      "    dotPlot\n",
      "\n",
      "The following object is masked from 'package:lattice':\n",
      "\n",
      "    lsegments\n",
      "\n",
      "The following object is masked from 'package:ggplot2':\n",
      "\n",
      "    diamonds\n",
      "\n",
      "The following objects are masked from 'package:datasets':\n",
      "\n",
      "    cars, trees\n",
      "\n",
      "Parsed with column specification:\n",
      "cols(\n",
      "  .default = col_double(),\n",
      "  y = col_character()\n",
      ")\n",
      "See spec(...) for full column specifications.\n"
     ]
    }
   ],
   "source": [
    "library(dplyr)\n",
    "library(ggplot2)\n",
    "library(readr)\n",
    "library(tidyr)\n",
    "library(datasets)\n",
    "library(broom)\n",
    "library(caret)\n",
    "library(openintro)\n",
    "\n",
    "#Diamonds\n",
    "load(file = \"D:/Analista Pricing/6.0 Personal/R/DataSources/Diamonds.RData\")\n",
    "#Sonar\n",
    "load(file = \"D:/Analista Pricing/6.0 Personal/R/DataSources/Diamonds.RData\")\n",
    "#Wine\n",
    "wine<-readRDS(\"D:/Analista Pricing/6.0 Personal/R/DataSources/wine_100.RDS\")\n",
    "#Overfit data\n",
    "library(readr)\n",
    "path_csv<-\"https://assets.datacamp.com/production/repositories/223/datasets/0bd5f7c30d9aec3e1f1fa677a19bee3af407453a/overfit.csv\"\n",
    "overfit<-read_csv(path_csv)\n",
    "#Breast Cancer\n",
    "Cancer<-load(file = \"D:/Analista Pricing/6.0 Personal/R/DataSources/BreastCancer.RData\")\n",
    "#Blood-brain\n",
    "broodbrain<-load(file = \"D:/Analista Pricing/6.0 Personal/R/DataSources/BloodBrain.RData\")\n",
    "#Churn\n",
    "load(file = \"D:/Analista Pricing/6.0 Personal/R/DataSources/Churn.RData\")\n"
   ]
  },
  {
   "cell_type": "markdown",
   "metadata": {},
   "source": [
    "## 1) Regression models: fitting them and evaluating their performance\n",
    "In the first chapter of this course, you'll fit regression models with `train()` and evaluate their out-of-sample performance using cross-validation and root-mean-square error (RMSE).\n",
    "\n",
    "### 1.1) (video) Welcome to the Toolbox\n",
    "today `caret` package is one of the most widely used package in R for supervising learning (also known as predictive model), it´s when you have a target variable or something specifc that you whan to predict.\n",
    "\n",
    "There are two main kinds of predective models:\n",
    "1. Classification model (quialitative)\n",
    "2. Regresion model (quiantitative) \n",
    "\n",
    "Once we have a model, we use a \"metric\" to evaluate how well the model works, a metric is quantifiable and gives us an objective measure how well the model predicts on new data.\n",
    "\n",
    "for regresion problems  we focused on RMSE (root mean squared error) as our metric of choice, this is  the error that lineal model regresion typically seek to minimize but it´s not the best meausre beaucse it´s common practice to calculate RMSE on the same data we used to fit the model this typically leads to overly-optimistic thi called `overfitting`, a betther approach  it to use out-of-sample estimates of model performance.\n",
    "\n",
    "#### 1.1.1)  In-sample RMSE for linear regression\n",
    "RMSE is commonly calculated in-sample on your training set. What's a potential drawback (disadvantage) to calculating training set error?\n",
    "\n",
    "    Answer = You have no idea how well your model generalizes to new data (i.e. overfitting)\n",
    "\n",
    "#### 1.1.2) In-sample RMSE for linear regression on diamonds\n",
    "As you saw in the video, included in the course is the `diamonds` dataset, which is a classic dataset from the `ggplot2` package. The dataset contains physical attributes of diamonds as well as the price they sold for. One interesting modeling challenge is predicting diamond price based on their attributes using something like a linear regression.\n",
    "\n",
    "Recall that to fit a linear regression, you use the `lm()` function in the following format:\n",
    "\n",
    "    mod <- lm(y ~ x, my_data)\n",
    "    \n",
    "To make predictions using mod on the original data, you call the predict() function:\n",
    "\n",
    "    pred <- predict(mod, my_data)\n",
    "\n",
    "**Exercise**\n",
    "1. Fit a linear model on the diamonds dataset predicting price using all other variables as predictors (i.e. price ~ .). Save the result to model.\n",
    "2. Make predictions using model on the full original dataset and save the result to p.\n",
    "3. Compute errors using the formula errors=predicted−actual. Save the result to error.\n",
    "4. Compute RMSE using the formula you learned in the video and print it to the console.\n",
    "\n",
    "*Answer*"
   ]
  },
  {
   "cell_type": "code",
   "execution_count": 2,
   "metadata": {},
   "outputs": [
    {
     "data": {
      "text/html": [
       "<table>\n",
       "<thead><tr><th scope=col>carat</th><th scope=col>cut</th><th scope=col>color</th><th scope=col>clarity</th><th scope=col>depth</th><th scope=col>table</th><th scope=col>price</th><th scope=col>x</th><th scope=col>y</th><th scope=col>z</th></tr></thead>\n",
       "<tbody>\n",
       "\t<tr><td>0.23     </td><td>Ideal    </td><td>E        </td><td>SI2      </td><td>61.5     </td><td>55       </td><td>326      </td><td>3.95     </td><td>3.98     </td><td>2.43     </td></tr>\n",
       "\t<tr><td>0.21     </td><td>Premium  </td><td>E        </td><td>SI1      </td><td>59.8     </td><td>61       </td><td>326      </td><td>3.89     </td><td>3.84     </td><td>2.31     </td></tr>\n",
       "\t<tr><td>0.23     </td><td>Good     </td><td>E        </td><td>VS1      </td><td>56.9     </td><td>65       </td><td>327      </td><td>4.05     </td><td>4.07     </td><td>2.31     </td></tr>\n",
       "\t<tr><td>0.29     </td><td>Premium  </td><td>I        </td><td>VS2      </td><td>62.4     </td><td>58       </td><td>334      </td><td>4.20     </td><td>4.23     </td><td>2.63     </td></tr>\n",
       "\t<tr><td>0.31     </td><td>Good     </td><td>J        </td><td>SI2      </td><td>63.3     </td><td>58       </td><td>335      </td><td>4.34     </td><td>4.35     </td><td>2.75     </td></tr>\n",
       "\t<tr><td>0.24     </td><td>Very Good</td><td>J        </td><td>VVS2     </td><td>62.8     </td><td>57       </td><td>336      </td><td>3.94     </td><td>3.96     </td><td>2.48     </td></tr>\n",
       "</tbody>\n",
       "</table>\n"
      ],
      "text/latex": [
       "\\begin{tabular}{r|llllllllll}\n",
       " carat & cut & color & clarity & depth & table & price & x & y & z\\\\\n",
       "\\hline\n",
       "\t 0.23      & Ideal     & E         & SI2       & 61.5      & 55        & 326       & 3.95      & 3.98      & 2.43     \\\\\n",
       "\t 0.21      & Premium   & E         & SI1       & 59.8      & 61        & 326       & 3.89      & 3.84      & 2.31     \\\\\n",
       "\t 0.23      & Good      & E         & VS1       & 56.9      & 65        & 327       & 4.05      & 4.07      & 2.31     \\\\\n",
       "\t 0.29      & Premium   & I         & VS2       & 62.4      & 58        & 334       & 4.20      & 4.23      & 2.63     \\\\\n",
       "\t 0.31      & Good      & J         & SI2       & 63.3      & 58        & 335       & 4.34      & 4.35      & 2.75     \\\\\n",
       "\t 0.24      & Very Good & J         & VVS2      & 62.8      & 57        & 336       & 3.94      & 3.96      & 2.48     \\\\\n",
       "\\end{tabular}\n"
      ],
      "text/markdown": [
       "\n",
       "carat | cut | color | clarity | depth | table | price | x | y | z | \n",
       "|---|---|---|---|---|---|\n",
       "| 0.23      | Ideal     | E         | SI2       | 61.5      | 55        | 326       | 3.95      | 3.98      | 2.43      | \n",
       "| 0.21      | Premium   | E         | SI1       | 59.8      | 61        | 326       | 3.89      | 3.84      | 2.31      | \n",
       "| 0.23      | Good      | E         | VS1       | 56.9      | 65        | 327       | 4.05      | 4.07      | 2.31      | \n",
       "| 0.29      | Premium   | I         | VS2       | 62.4      | 58        | 334       | 4.20      | 4.23      | 2.63      | \n",
       "| 0.31      | Good      | J         | SI2       | 63.3      | 58        | 335       | 4.34      | 4.35      | 2.75      | \n",
       "| 0.24      | Very Good | J         | VVS2      | 62.8      | 57        | 336       | 3.94      | 3.96      | 2.48      | \n",
       "\n",
       "\n"
      ],
      "text/plain": [
       "  carat cut       color clarity depth table price x    y    z   \n",
       "1 0.23  Ideal     E     SI2     61.5  55    326   3.95 3.98 2.43\n",
       "2 0.21  Premium   E     SI1     59.8  61    326   3.89 3.84 2.31\n",
       "3 0.23  Good      E     VS1     56.9  65    327   4.05 4.07 2.31\n",
       "4 0.29  Premium   I     VS2     62.4  58    334   4.20 4.23 2.63\n",
       "5 0.31  Good      J     SI2     63.3  58    335   4.34 4.35 2.75\n",
       "6 0.24  Very Good J     VVS2    62.8  57    336   3.94 3.96 2.48"
      ]
     },
     "metadata": {},
     "output_type": "display_data"
    },
    {
     "data": {
      "text/plain": [
       "   Min. 1st Qu.  Median    Mean 3rd Qu.    Max. \n",
       "  -4308    1073    2819    3933    5886   39394 "
      ]
     },
     "metadata": {},
     "output_type": "display_data"
    },
    {
     "data": {
      "text/html": [
       "1129.84298657309"
      ],
      "text/latex": [
       "1129.84298657309"
      ],
      "text/markdown": [
       "1129.84298657309"
      ],
      "text/plain": [
       "[1] 1129.843"
      ]
     },
     "metadata": {},
     "output_type": "display_data"
    }
   ],
   "source": [
    "data(diamonds)\n",
    "head(diamonds)\n",
    "\n",
    "# Fit lm model: model\n",
    "model <- lm(price ~ ., diamonds)\n",
    "\n",
    "# Predict on full data: p\n",
    "p <- predict(model, diamonds)\n",
    "summary(p)\n",
    "\n",
    "# Compute errors: error\n",
    "error <- p - diamonds[[\"price\"]]\n",
    "\n",
    "# Calculate RMSE\n",
    "sqrt(mean(error ^ 2))\n",
    "\n",
    "#Or can use the function Residual\n",
    "#sqrt(mean(residuals(model) ^ 2))"
   ]
  },
  {
   "cell_type": "markdown",
   "metadata": {},
   "source": [
    "### 1.2) (video) Out-of-sample error measures\n",
    "\n",
    "This course focused on predictive, rather than explanatory modeling, we want model that not overfit the training data and generalize well, our primary concern is \"do the models perform well on new data?\" so the best way to do that is test the models on new data.\n",
    "\n",
    "This simulates real worl experience, in which you fit on one dataset and then predict new data,where you do not actually know the outcome, simulating this experience with a train/test split helps you make an honest assessment fo yourself as a modeler this is one of the key insighs of machine learning: error metrics should be computed on new data because in-sample validatition (or predicting on your data) essentialy guarantees overfiting , out-of-sample validation helps you choose models that will continue perform well in the future.\n",
    "\n",
    "it´s the primary goal of the `caret` package in general and this course specifically: don´t overfit \n",
    "\n",
    "**Example**"
   ]
  },
  {
   "cell_type": "code",
   "execution_count": 3,
   "metadata": {},
   "outputs": [
    {
     "data": {
      "text/html": [
       "<table>\n",
       "<thead><tr><th></th><th scope=col>mpg</th><th scope=col>cyl</th><th scope=col>disp</th><th scope=col>hp</th><th scope=col>drat</th><th scope=col>wt</th><th scope=col>qsec</th><th scope=col>vs</th><th scope=col>am</th><th scope=col>gear</th><th scope=col>carb</th></tr></thead>\n",
       "<tbody>\n",
       "\t<tr><th scope=row>Mazda RX4</th><td>21.0 </td><td>6    </td><td>160  </td><td>110  </td><td>3.90 </td><td>2.620</td><td>16.46</td><td>0    </td><td>1    </td><td>4    </td><td>4    </td></tr>\n",
       "\t<tr><th scope=row>Mazda RX4 Wag</th><td>21.0 </td><td>6    </td><td>160  </td><td>110  </td><td>3.90 </td><td>2.875</td><td>17.02</td><td>0    </td><td>1    </td><td>4    </td><td>4    </td></tr>\n",
       "\t<tr><th scope=row>Datsun 710</th><td>22.8 </td><td>4    </td><td>108  </td><td> 93  </td><td>3.85 </td><td>2.320</td><td>18.61</td><td>1    </td><td>1    </td><td>4    </td><td>1    </td></tr>\n",
       "\t<tr><th scope=row>Hornet 4 Drive</th><td>21.4 </td><td>6    </td><td>258  </td><td>110  </td><td>3.08 </td><td>3.215</td><td>19.44</td><td>1    </td><td>0    </td><td>3    </td><td>1    </td></tr>\n",
       "\t<tr><th scope=row>Hornet Sportabout</th><td>18.7 </td><td>8    </td><td>360  </td><td>175  </td><td>3.15 </td><td>3.440</td><td>17.02</td><td>0    </td><td>0    </td><td>3    </td><td>2    </td></tr>\n",
       "\t<tr><th scope=row>Valiant</th><td>18.1 </td><td>6    </td><td>225  </td><td>105  </td><td>2.76 </td><td>3.460</td><td>20.22</td><td>1    </td><td>0    </td><td>3    </td><td>1    </td></tr>\n",
       "</tbody>\n",
       "</table>\n"
      ],
      "text/latex": [
       "\\begin{tabular}{r|lllllllllll}\n",
       "  & mpg & cyl & disp & hp & drat & wt & qsec & vs & am & gear & carb\\\\\n",
       "\\hline\n",
       "\tMazda RX4 & 21.0  & 6     & 160   & 110   & 3.90  & 2.620 & 16.46 & 0     & 1     & 4     & 4    \\\\\n",
       "\tMazda RX4 Wag & 21.0  & 6     & 160   & 110   & 3.90  & 2.875 & 17.02 & 0     & 1     & 4     & 4    \\\\\n",
       "\tDatsun 710 & 22.8  & 4     & 108   &  93   & 3.85  & 2.320 & 18.61 & 1     & 1     & 4     & 1    \\\\\n",
       "\tHornet 4 Drive & 21.4  & 6     & 258   & 110   & 3.08  & 3.215 & 19.44 & 1     & 0     & 3     & 1    \\\\\n",
       "\tHornet Sportabout & 18.7  & 8     & 360   & 175   & 3.15  & 3.440 & 17.02 & 0     & 0     & 3     & 2    \\\\\n",
       "\tValiant & 18.1  & 6     & 225   & 105   & 2.76  & 3.460 & 20.22 & 1     & 0     & 3     & 1    \\\\\n",
       "\\end{tabular}\n"
      ],
      "text/markdown": [
       "\n",
       "| <!--/--> | mpg | cyl | disp | hp | drat | wt | qsec | vs | am | gear | carb | \n",
       "|---|---|---|---|---|---|\n",
       "| Mazda RX4 | 21.0  | 6     | 160   | 110   | 3.90  | 2.620 | 16.46 | 0     | 1     | 4     | 4     | \n",
       "| Mazda RX4 Wag | 21.0  | 6     | 160   | 110   | 3.90  | 2.875 | 17.02 | 0     | 1     | 4     | 4     | \n",
       "| Datsun 710 | 22.8  | 4     | 108   |  93   | 3.85  | 2.320 | 18.61 | 1     | 1     | 4     | 1     | \n",
       "| Hornet 4 Drive | 21.4  | 6     | 258   | 110   | 3.08  | 3.215 | 19.44 | 1     | 0     | 3     | 1     | \n",
       "| Hornet Sportabout | 18.7  | 8     | 360   | 175   | 3.15  | 3.440 | 17.02 | 0     | 0     | 3     | 2     | \n",
       "| Valiant | 18.1  | 6     | 225   | 105   | 2.76  | 3.460 | 20.22 | 1     | 0     | 3     | 1     | \n",
       "\n",
       "\n"
      ],
      "text/plain": [
       "                  mpg  cyl disp hp  drat wt    qsec  vs am gear carb\n",
       "Mazda RX4         21.0 6   160  110 3.90 2.620 16.46 0  1  4    4   \n",
       "Mazda RX4 Wag     21.0 6   160  110 3.90 2.875 17.02 0  1  4    4   \n",
       "Datsun 710        22.8 4   108   93 3.85 2.320 18.61 1  1  4    1   \n",
       "Hornet 4 Drive    21.4 6   258  110 3.08 3.215 19.44 1  0  3    1   \n",
       "Hornet Sportabout 18.7 8   360  175 3.15 3.440 17.02 0  0  3    2   \n",
       "Valiant           18.1 6   225  105 2.76 3.460 20.22 1  0  3    1   "
      ]
     },
     "metadata": {},
     "output_type": "display_data"
    }
   ],
   "source": [
    "#lest walk throught a simple example of out-of-sample validation\n",
    "data(mtcars)\n",
    "head(mtcars,)\n",
    "\n",
    "#Fit a model to the mtcars data\n",
    "#we create our model on 20 register from our dataset\n",
    "model<-lm(mpg ~ hp, mtcars[1:20,])\n",
    "\n",
    "#Predict out-of-sample\n",
    "#now we make predictions on a New dataset: last 12 observations\n",
    "predicted<-predict(model, mtcars[21:32,], type = \"response\")\n"
   ]
  },
  {
   "cell_type": "markdown",
   "metadata": {},
   "source": [
    "In practice, rather than manually splitting the dataset, we´d actually use the `createResamples` or `createFolds` in `caret`, but the manual split simplifies this example."
   ]
  },
  {
   "cell_type": "code",
   "execution_count": 4,
   "metadata": {},
   "outputs": [
    {
     "name": "stdout",
     "output_type": "stream",
     "text": [
      "[1] \"RMSE on the test set\"\n"
     ]
    },
    {
     "data": {
      "text/html": [
       "5.50723581646381"
      ],
      "text/latex": [
       "5.50723581646381"
      ],
      "text/markdown": [
       "5.50723581646381"
      ],
      "text/plain": [
       "[1] 5.507236"
      ]
     },
     "metadata": {},
     "output_type": "display_data"
    },
    {
     "name": "stdout",
     "output_type": "stream",
     "text": [
      "[1] \"RMSE full dataset\"\n"
     ]
    },
    {
     "data": {
      "text/html": [
       "3.74029708689949"
      ],
      "text/latex": [
       "3.74029708689949"
      ],
      "text/markdown": [
       "3.74029708689949"
      ],
      "text/plain": [
       "[1] 3.740297"
      ]
     },
     "metadata": {},
     "output_type": "display_data"
    }
   ],
   "source": [
    "#Evaluate error\n",
    "#finally we calculate RMSE on the test set by comparing the predictions from our model to the actual mpg value for the test set\n",
    "actual<-mtcars[21:32,\"mpg\"]\n",
    "print(\"RMSE on the test set\")\n",
    "sqrt(mean((predicted-actual)^2))\n",
    "\n",
    "#RMSE is a measure of the model´s average error and it has the same units as the test set, so this means\n",
    "#our model is off by 5 to 6 miles per gallon, on average \n",
    "\n",
    "#Compare to in-sample RMSE\n",
    "\n",
    "#fit a model to the full dataset\n",
    "model2<-lm(mpg ~ hp, mtcars)\n",
    "\n",
    "#Predict in-sample\n",
    "predicted2<-predict(model2, mtcars, type = \"response\")\n",
    "\n",
    "#Evaluate error\n",
    "print(\"RMSE full dataset\")\n",
    "actual2<-mtcars[,\"mpg\"]\n",
    "sqrt(mean((predicted2-actual2)^2))"
   ]
  },
  {
   "cell_type": "markdown",
   "metadata": {},
   "source": [
    "compared to in-sample RMSE from a model fit on the full dataset, our model is significantly worse if we used in-sample error, we would fooled ourselves into thinking our models is much better that it actually is in reality."
   ]
  },
  {
   "cell_type": "markdown",
   "metadata": {},
   "source": [
    "#### 1.2.1) Out-of-sample RMSE for linear regression\n",
    "What is the advantage of using a train/test split rather than just validating your model in-sample on the training set? Because It gives you an estimate of how well your model performs on new data, the Tests sets are essential for making sure your models will make good predictions\n",
    "\n",
    "#### 1.1.2) Randomly order the data frame\n",
    "One way you can take a train/test split of a dataset is to order the dataset randomly, then divide it into the two sets. This ensures that the training set and test set are both random samples and that any biases in the ordering of the dataset (e.g. if it had originally been ordered by price or size) are not retained in the samples we take for training and testing your models. You can think of this like shuffling a brand new deck of playing cards before dealing hands.\n",
    "\n",
    "First, you set a random seed so that your work is reproducible and you get the same random split each time you run your script:\n",
    "\n",
    "    set.seed(42)\n",
    "\n",
    "Next, you use the `sample()` function to shuffle the row indices of the `diamonds` dataset. You can later use these indices to reorder the dataset.\n",
    "\n",
    "    rows <- sample(nrow(diamonds))\n",
    "\n",
    "Finally, you can use this random vector to reorder the diamonds dataset:\n",
    "\n",
    "    diamonds <- diamonds[rows, ]\n",
    "    \n",
    "**Exercise**\n",
    "1. Set the random seed to 42.\n",
    "2. Make a vector of row indices called rows.\n",
    "3. Randomly reorder the diamonds data frame, assigning to shuffled_diamonds.\n",
    "\n",
    "*Answer*"
   ]
  },
  {
   "cell_type": "code",
   "execution_count": 5,
   "metadata": {},
   "outputs": [],
   "source": [
    "#Note the data ser \"diamonds\" is avalibre in library ggplot2\n",
    "# Set seed\n",
    "set.seed(42)\n",
    "\n",
    "# Shuffle row indices: rows\n",
    "rows<-sample(nrow(diamonds))\n",
    "\n",
    "# Randomly order data\n",
    "shuffled_diamonds <- diamonds[rows, ]"
   ]
  },
  {
   "cell_type": "markdown",
   "metadata": {},
   "source": [
    "**Note: Randomly ordering your dataset is important for many machine learning methods**\n",
    "\n",
    "#### 1.2.3) Try an 80/20 split\n",
    "Now that your dataset is randomly ordered, you can split the first 80% of it into a training set, and the last 20% into a test set. You can do this by choosing a split point approximately 80% of the way through your data:\n",
    "\n",
    "    split <- round(nrow(mydata) * .80)\n",
    "    \n",
    "You can then use this point to break off the first 80% of the dataset as a training set:\n",
    "\n",
    "    mydata[1:split, ]\n",
    "\n",
    "And then you can use that same point to determine the test set:\n",
    "\n",
    "    mydata[(split + 1):nrow(mydata), ]\n",
    "    \n",
    "**Exercise**\n",
    "1. Choose a row index to split on so that the split point is approximately 80% of the way through the diamonds dataset. Call this index split.\n",
    "2. Create a training set called train using that index.\n",
    "3. Create a test set called test using that index.\n",
    "\n",
    "*Answer*    "
   ]
  },
  {
   "cell_type": "code",
   "execution_count": 6,
   "metadata": {},
   "outputs": [],
   "source": [
    "#Note we´re using our data set randomly ordering called \"shuffled_diamonds\" and not \"diamonds\" dataset the correct answear \n",
    "\n",
    "# Determine row to split on: split\n",
    "split<- round(nrow(shuffled_diamonds)*.80)\n",
    "\n",
    "# Create train\n",
    "train<- shuffled_diamonds[1:split,]\n",
    "\n",
    "# Create test\n",
    "test<-shuffled_diamonds[(split + 1):nrow(shuffled_diamonds),]"
   ]
  },
  {
   "cell_type": "markdown",
   "metadata": {},
   "source": [
    "#### 1.2.4) Predict on test set\n",
    "Now that you have a randomly split `training set` and `test set`, you can use the `lm()` function as you did in the first exercise to fit a model to your training set, rather than the entire dataset. Recall that you can use the formula interface to the linear regression function *to fit a model with a specified target variable using all other variables in the dataset* as predictors:\n",
    "\n",
    "    mod <- lm(y ~ ., training_data)\n",
    "    \n",
    "You can use the `predict()` function to make predictions from that model on new data. The new dataset must have all of the columns from the training data, but they can be in a different order with different values. Here, rather than re-predicting on the training set, you can predict on the test set, which you did not use for training the model. This will allow you to determine the out-of-sample error for the model in the next exercise:\n",
    "\n",
    "    p <- predict(model, new_data)    \n",
    "\n",
    "**Exercise**\n",
    "1. Fit an lm() model called model to predict price using all other variables as covariates. Be sure to use the training set, train.\n",
    "2. Predict on the test set, test, using predict(). Store these values in a vector called p.\n",
    "\n",
    "*Answer*"
   ]
  },
  {
   "cell_type": "code",
   "execution_count": 7,
   "metadata": {},
   "outputs": [],
   "source": [
    "# Fit lm model on train: model\n",
    "model<-lm(price ~ ., train)\n",
    "\n",
    "# Predict on test: p\n",
    "p<-predict(model, test)"
   ]
  },
  {
   "cell_type": "markdown",
   "metadata": {},
   "source": [
    "#### 1.2.4) Calculate test set RMSE by hand\n",
    "Now that you have predictions on the test set, you can use these predictions to calculate an error metric (in this case RMSE) on the test set and see how the model performs out-of-sample, rather than in-sample as you did in the first exercise. You first do this by calculating the errors between the predicted diamond prices and the actual diamond prices by subtracting the predictions from the actual values.\n",
    "\n",
    "Once you have an error vector, calculating RMSE is as simple as squaring it, taking the mean, then taking the square root:\n",
    "\n",
    "    sqrt(mean(error^2))\n",
    "\n",
    "**Exercise**\n",
    "`test`, `model`, and `p` are loaded in your workspace.\n",
    "\n",
    "1. Calculate the error between the predictions on the test set and the actual diamond prices in the test set. Call this error.\n",
    "2. Calculate RMSE using this error vector, just printing the result to the console.\n",
    "\n",
    "*Answer*"
   ]
  },
  {
   "cell_type": "code",
   "execution_count": 8,
   "metadata": {},
   "outputs": [
    {
     "data": {
      "text/html": [
       "1136.59565324766"
      ],
      "text/latex": [
       "1136.59565324766"
      ],
      "text/markdown": [
       "1136.59565324766"
      ],
      "text/plain": [
       "[1] 1136.596"
      ]
     },
     "metadata": {},
     "output_type": "display_data"
    }
   ],
   "source": [
    "# Compute errors: error\n",
    "error<-p-test$price\n",
    "\n",
    "# Calculate RMSE\n",
    "sqrt(mean(error^2))"
   ]
  },
  {
   "cell_type": "markdown",
   "metadata": {},
   "source": [
    "#### 1.2.5) Comparing out-of-sample RMSE to in-sample RMSE\n",
    "Why is the test set RMSE higher than the training set RMSE?\n",
    "Because you overfit the training set and the test set contains data the model hasn't seen before, Computing the error on the training set is risky because the model may overfit the data used to train it.\n",
    "\n",
    "here we can se the RMSE of train set:"
   ]
  },
  {
   "cell_type": "code",
   "execution_count": 9,
   "metadata": {},
   "outputs": [
    {
     "data": {
      "text/html": [
       "1128.25085917109"
      ],
      "text/latex": [
       "1128.25085917109"
      ],
      "text/markdown": [
       "1128.25085917109"
      ],
      "text/plain": [
       "[1] 1128.251"
      ]
     },
     "metadata": {},
     "output_type": "display_data"
    }
   ],
   "source": [
    "# Compute errors: error\n",
    "error_train<-predict(model, train) - train$price\n",
    "\n",
    "# Calculate RMSE of train set\n",
    "sqrt(mean(error_train^2))"
   ]
  },
  {
   "cell_type": "markdown",
   "metadata": {},
   "source": [
    "### 1.3) (video) Cross-validation\n",
    "\n",
    "in the last chapter we saw how can divided our Full Dataset in two sub dataset (training set and test set) and evaluated out-of sample error once, however this process it´s a little  fragile: because the presence or absence of a sigle outliers can vastly change our out-of-sample RMSE, so a better approach than a simple train/test split is using multiple test sets and averaging out-of-sample error, which gives us a more precise estimate of true out-of-sample error, one of the most common approaches for multiple test sets is know as `cross-validation` in wich we split our data into ten `folders` or traint/test splits, we create these folds in such a way that each point in our dataset ocurrs in exactly one test set.\n",
    "\n",
    "    Full DataSet >>> Fold 1\n",
    "                     Fold 2\n",
    "                     .\n",
    "                     .\n",
    "                     Fold N\n",
    "\n",
    "We assign each row to its single test set randomly , to avoid any kind of systematic biases in our data this one of the best way to estimate out-of-sample error for predictive models. \n",
    "\n",
    "One important note: after doing cross-validation, you throw all resampled models away and star over! so cross-validation is only used to estimate the out-of-sample error for you model once you know this, you re-fit your model on the full training dataset, so as to fully exploit the information in that dataset, all this make the model very expensive: it inherently takes 11 times as long as fitting a single model (11 cross-validation models plus the final model).\n",
    "\n",
    "The `train` function in `caret ` does a different kind of re-sampling known as boostrap validationt but it also capable of doing cross-validation, and the two methods in practice yield similar results, now we´ll see a example with mtcars dataset.\n"
   ]
  },
  {
   "cell_type": "code",
   "execution_count": 10,
   "metadata": {},
   "outputs": [
    {
     "name": "stdout",
     "output_type": "stream",
     "text": [
      "+ Fold01: intercept=TRUE \n",
      "- Fold01: intercept=TRUE \n",
      "+ Fold02: intercept=TRUE \n",
      "- Fold02: intercept=TRUE \n",
      "+ Fold03: intercept=TRUE \n",
      "- Fold03: intercept=TRUE \n",
      "+ Fold04: intercept=TRUE \n",
      "- Fold04: intercept=TRUE \n",
      "+ Fold05: intercept=TRUE \n",
      "- Fold05: intercept=TRUE \n",
      "+ Fold06: intercept=TRUE \n",
      "- Fold06: intercept=TRUE \n",
      "+ Fold07: intercept=TRUE \n",
      "- Fold07: intercept=TRUE \n",
      "+ Fold08: intercept=TRUE \n",
      "- Fold08: intercept=TRUE \n",
      "+ Fold09: intercept=TRUE \n",
      "- Fold09: intercept=TRUE \n",
      "+ Fold10: intercept=TRUE \n",
      "- Fold10: intercept=TRUE \n",
      "Aggregating results\n",
      "Fitting final model on full training set\n"
     ]
    },
    {
     "data": {
      "text/plain": [
       "Linear Regression \n",
       "\n",
       "32 samples\n",
       " 1 predictor\n",
       "\n",
       "No pre-processing\n",
       "Resampling: Cross-Validated (10 fold) \n",
       "Summary of sample sizes: 30, 29, 29, 28, 29, 28, ... \n",
       "Resampling results:\n",
       "\n",
       "  RMSE      Rsquared   MAE     \n",
       "  3.957996  0.9252153  3.349958\n",
       "\n",
       "Tuning parameter 'intercept' was held constant at a value of TRUE"
      ]
     },
     "metadata": {},
     "output_type": "display_data"
    }
   ],
   "source": [
    "#first we set random seed\n",
    "set.seed(42)\n",
    "\n",
    "#fit linear regresion model\n",
    "model<- train(\n",
    "  mpg ~ hp, \n",
    "  mtcars, \n",
    "  method = \"lm\",\n",
    "  trControl = trainControl(   #Controls the parameter caret uses for cross-validation\n",
    "    method = \"cv\",\n",
    "    number = 10,\n",
    "    verboseIter = TRUE # progress log as the model is being fit \n",
    "  )\n",
    ")\n",
    "\n",
    "model"
   ]
  },
  {
   "cell_type": "markdown",
   "metadata": {},
   "source": [
    "#### 1.3.1) Advantage of cross-validation\n",
    "What is the advantage of cross-validation over a single train/test split?\n",
    "It gives you multiple estimates of out-of-sample error, rather than a single estimate, if all of your estimates give similar outputs, you can be more certain of the model's accuracy. If your estimates give different outputs, that tells you the model does not perform consistently and suggests a problem with it\n",
    "\n",
    "#### 1.3.2 ) 10-fold cross-validation\n",
    "As you saw in the video, a better approach to validating models is to use multiple systematic test sets, rather than a single random train/test split. Fortunately, the `caret` package makes this very easy to do:\n",
    "\n",
    "    model <- train(y ~ ., my_data)\n",
    "    \n",
    "`caret` supports many types of cross-validation, and you can specify which type of cross-validation and the number of cross-validation folds with the `trainControl()` function, which you pass to the `trControl` argument in `train()`:\n",
    "\n",
    "    model <- train(\n",
    "      y ~ ., \n",
    "      my_data,\n",
    "      method = \"lm\",\n",
    "      trControl = trainControl(\n",
    "        method = \"cv\", \n",
    "        number = 10,\n",
    "        verboseIter = TRUE\n",
    "      )\n",
    "    )\n",
    " \n",
    " \n",
    "It's important to note that you pass the method for modeling to the main `train()` function and the method for cross-validation to the `trainControl()` function.    \n",
    "\n",
    "**Exercise**\n",
    "1. Fit a linear regression to model price using all other variables in the diamonds dataset as predictors. Use the train() function and 10-fold cross-validation. (Note that we've taken a subset of the full diamonds dataset to speed up this operation, but it's still named diamonds.)\n",
    "2. Print the model to the console and examine the results.\n",
    "\n",
    "*Answer*"
   ]
  },
  {
   "cell_type": "code",
   "execution_count": 11,
   "metadata": {},
   "outputs": [
    {
     "name": "stdout",
     "output_type": "stream",
     "text": [
      "+ Fold01: intercept=TRUE \n",
      "- Fold01: intercept=TRUE \n",
      "+ Fold02: intercept=TRUE \n",
      "- Fold02: intercept=TRUE \n",
      "+ Fold03: intercept=TRUE \n",
      "- Fold03: intercept=TRUE \n",
      "+ Fold04: intercept=TRUE \n",
      "- Fold04: intercept=TRUE \n",
      "+ Fold05: intercept=TRUE \n",
      "- Fold05: intercept=TRUE \n",
      "+ Fold06: intercept=TRUE \n",
      "- Fold06: intercept=TRUE \n",
      "+ Fold07: intercept=TRUE \n",
      "- Fold07: intercept=TRUE \n",
      "+ Fold08: intercept=TRUE \n",
      "- Fold08: intercept=TRUE \n",
      "+ Fold09: intercept=TRUE \n",
      "- Fold09: intercept=TRUE \n",
      "+ Fold10: intercept=TRUE \n",
      "- Fold10: intercept=TRUE \n",
      "Aggregating results\n",
      "Fitting final model on full training set\n"
     ]
    },
    {
     "data": {
      "text/plain": [
       "Linear Regression \n",
       "\n",
       "53940 samples\n",
       "    9 predictor\n",
       "\n",
       "No pre-processing\n",
       "Resampling: Cross-Validated (10 fold) \n",
       "Summary of sample sizes: 48546, 48546, 48545, 48547, 48547, 48546, ... \n",
       "Resampling results:\n",
       "\n",
       "  RMSE      Rsquared   MAE     \n",
       "  1130.929  0.9196497  740.5019\n",
       "\n",
       "Tuning parameter 'intercept' was held constant at a value of TRUE"
      ]
     },
     "metadata": {},
     "output_type": "display_data"
    }
   ],
   "source": [
    "# Fit lm model using 10-fold CV: model\n",
    "model <- train(\n",
    "  price ~ ., \n",
    "  diamonds,\n",
    "  method = \"lm\",\n",
    "  trControl = trainControl(\n",
    "    method = \"cv\", \n",
    "    number = 10,\n",
    "    verboseIter = TRUE\n",
    "  )\n",
    ")\n",
    "\n",
    "# Print model to console\n",
    "model"
   ]
  },
  {
   "cell_type": "markdown",
   "metadata": {},
   "source": [
    "#### 1.3.3) 5-fold cross-validation\n",
    "In this course, you will use a wide variety of datasets to explore the full flexibility of the `caret package`. Here, you will use the famous Boston housing dataset, where the goal is to predict median home values in various Boston suburbs.\n",
    "\n",
    "You can use exactly the same code as in the previous exercise, but change the dataset used by the model:\n",
    "\n",
    "    model <- train(\n",
    "      medv ~ ., \n",
    "      Boston, # <- new!\n",
    "      method = \"lm\",\n",
    "      trControl = trainControl(\n",
    "        method = \"cv\", \n",
    "        number = 10,\n",
    "        verboseIter = TRUE\n",
    "      )\n",
    "    )\n",
    "\n",
    "Next, you can reduce the number of cross-validation folds from 10 to 5 using the `number` argument to the `trainControl()` argument:\n",
    "\n",
    "    trControl = trainControl(\n",
    "      method = \"cv\", \n",
    "      number = 5,\n",
    "      verboseIter = TRUE\n",
    "    )\n",
    "\n",
    "**Exercise**\n",
    "1. Fit an `lm()` model to the `Boston` housing dataset, such that `medv` is the response variable and all other variables are explanatory variables.\n",
    "2. Use 5-fold cross-validation rather than 10-fold cross-validation.\n",
    "3. Print the model to the console and inspect the results.\n",
    "\n",
    "*Answer*\n"
   ]
  },
  {
   "cell_type": "code",
   "execution_count": 12,
   "metadata": {},
   "outputs": [
    {
     "name": "stderr",
     "output_type": "stream",
     "text": [
      "\n",
      "Attaching package: 'MASS'\n",
      "\n",
      "The following objects are masked from 'package:openintro':\n",
      "\n",
      "    housing, mammals\n",
      "\n",
      "The following object is masked from 'package:dplyr':\n",
      "\n",
      "    select\n",
      "\n"
     ]
    },
    {
     "name": "stdout",
     "output_type": "stream",
     "text": [
      "+ Fold1: intercept=TRUE \n",
      "- Fold1: intercept=TRUE \n",
      "+ Fold2: intercept=TRUE \n",
      "- Fold2: intercept=TRUE \n",
      "+ Fold3: intercept=TRUE \n",
      "- Fold3: intercept=TRUE \n",
      "+ Fold4: intercept=TRUE \n",
      "- Fold4: intercept=TRUE \n",
      "+ Fold5: intercept=TRUE \n",
      "- Fold5: intercept=TRUE \n",
      "Aggregating results\n",
      "Fitting final model on full training set\n"
     ]
    },
    {
     "data": {
      "text/plain": [
       "Linear Regression \n",
       "\n",
       "506 samples\n",
       " 13 predictor\n",
       "\n",
       "No pre-processing\n",
       "Resampling: Cross-Validated (5 fold) \n",
       "Summary of sample sizes: 404, 405, 405, 405, 405 \n",
       "Resampling results:\n",
       "\n",
       "  RMSE      Rsquared   MAE     \n",
       "  4.816486  0.7249456  3.404306\n",
       "\n",
       "Tuning parameter 'intercept' was held constant at a value of TRUE"
      ]
     },
     "metadata": {},
     "output_type": "display_data"
    }
   ],
   "source": [
    "#Data Boston\n",
    "library(MASS)\n",
    "\n",
    "\n",
    "# Fit lm model using 5-fold CV: model\n",
    "model <- train(\n",
    "  medv ~ ., \n",
    "  Boston,\n",
    "  method = \"lm\",\n",
    "  trControl = trainControl(\n",
    "    method = \"cv\", #Cross validation \n",
    "    number = 5,\n",
    "    verboseIter = TRUE\n",
    "  )\n",
    ")\n",
    "\n",
    "# Print model to console\n",
    "model"
   ]
  },
  {
   "cell_type": "markdown",
   "metadata": {},
   "source": [
    "#### 1.3.3) 5 x 5-fold cross-validation\n",
    "You **can do more than just one iteration of cross-validation**. Repeated cross-validation gives you a better estimate of the test-set error. You can also repeat the entire cross-validation procedure. This takes longer, but gives you many more out-of-sample datasets to look at and much more precise assessments of how well the model performs.\n",
    "\n",
    "One of the awesome things about the `train()` function in `caret` is how easy it is to run very different models or methods of cross-validation just by tweaking a few simple arguments to the function call. For example, you could repeat your entire cross-validation procedure 5 times for greater confidence in your estimates of the model's out-of-sample accuracy, e.g.:\n",
    "\n",
    "    trControl = trainControl(\n",
    "      method = \"repeatedcv\", #define the repetead\n",
    "      number = 5,\n",
    "      repeats = 5,  #We can repetead cross-validation\n",
    "      verboseIter = TRUE\n",
    "    )\n",
    "\n",
    "Suppose that method = \"repeatedcv\", number = 10 and repeats = 3,then **three** separate 10-fold cross-validations are used as the resampling scheme.\n",
    "\n",
    "**Exercise**\n",
    "1. Re-fit the linear regression model to the Boston housing dataset.\n",
    "2. Use 5 repeats of 5-fold cross-validation.\n",
    "3. Print the model to the console.\n",
    "\n",
    "*Answer*"
   ]
  },
  {
   "cell_type": "code",
   "execution_count": 13,
   "metadata": {},
   "outputs": [
    {
     "name": "stdout",
     "output_type": "stream",
     "text": [
      "+ Fold1.Rep1: intercept=TRUE \n",
      "- Fold1.Rep1: intercept=TRUE \n",
      "+ Fold2.Rep1: intercept=TRUE \n",
      "- Fold2.Rep1: intercept=TRUE \n",
      "+ Fold3.Rep1: intercept=TRUE \n",
      "- Fold3.Rep1: intercept=TRUE \n",
      "+ Fold4.Rep1: intercept=TRUE \n",
      "- Fold4.Rep1: intercept=TRUE \n",
      "+ Fold5.Rep1: intercept=TRUE \n",
      "- Fold5.Rep1: intercept=TRUE \n",
      "+ Fold1.Rep2: intercept=TRUE \n",
      "- Fold1.Rep2: intercept=TRUE \n",
      "+ Fold2.Rep2: intercept=TRUE \n",
      "- Fold2.Rep2: intercept=TRUE \n",
      "+ Fold3.Rep2: intercept=TRUE \n",
      "- Fold3.Rep2: intercept=TRUE \n",
      "+ Fold4.Rep2: intercept=TRUE \n",
      "- Fold4.Rep2: intercept=TRUE \n",
      "+ Fold5.Rep2: intercept=TRUE \n",
      "- Fold5.Rep2: intercept=TRUE \n",
      "+ Fold1.Rep3: intercept=TRUE \n",
      "- Fold1.Rep3: intercept=TRUE \n",
      "+ Fold2.Rep3: intercept=TRUE \n",
      "- Fold2.Rep3: intercept=TRUE \n",
      "+ Fold3.Rep3: intercept=TRUE \n",
      "- Fold3.Rep3: intercept=TRUE \n",
      "+ Fold4.Rep3: intercept=TRUE \n",
      "- Fold4.Rep3: intercept=TRUE \n",
      "+ Fold5.Rep3: intercept=TRUE \n",
      "- Fold5.Rep3: intercept=TRUE \n",
      "+ Fold1.Rep4: intercept=TRUE \n",
      "- Fold1.Rep4: intercept=TRUE \n",
      "+ Fold2.Rep4: intercept=TRUE \n",
      "- Fold2.Rep4: intercept=TRUE \n",
      "+ Fold3.Rep4: intercept=TRUE \n",
      "- Fold3.Rep4: intercept=TRUE \n",
      "+ Fold4.Rep4: intercept=TRUE \n",
      "- Fold4.Rep4: intercept=TRUE \n",
      "+ Fold5.Rep4: intercept=TRUE \n",
      "- Fold5.Rep4: intercept=TRUE \n",
      "+ Fold1.Rep5: intercept=TRUE \n",
      "- Fold1.Rep5: intercept=TRUE \n",
      "+ Fold2.Rep5: intercept=TRUE \n",
      "- Fold2.Rep5: intercept=TRUE \n",
      "+ Fold3.Rep5: intercept=TRUE \n",
      "- Fold3.Rep5: intercept=TRUE \n",
      "+ Fold4.Rep5: intercept=TRUE \n",
      "- Fold4.Rep5: intercept=TRUE \n",
      "+ Fold5.Rep5: intercept=TRUE \n",
      "- Fold5.Rep5: intercept=TRUE \n",
      "Aggregating results\n",
      "Fitting final model on full training set\n"
     ]
    },
    {
     "data": {
      "text/plain": [
       "Linear Regression \n",
       "\n",
       "506 samples\n",
       " 13 predictor\n",
       "\n",
       "No pre-processing\n",
       "Resampling: Cross-Validated (5 fold, repeated 5 times) \n",
       "Summary of sample sizes: 404, 405, 405, 405, 405, 404, ... \n",
       "Resampling results:\n",
       "\n",
       "  RMSE      Rsquared   MAE     \n",
       "  4.837325  0.7267669  3.398271\n",
       "\n",
       "Tuning parameter 'intercept' was held constant at a value of TRUE"
      ]
     },
     "metadata": {},
     "output_type": "display_data"
    }
   ],
   "source": [
    "# medv median value of owner-occupied homes in \\$1000s\n",
    "model <- train(\n",
    "  medv ~ ., \n",
    "  Boston,\n",
    "  method = \"lm\",\n",
    "  trControl = trainControl(\n",
    "    method = \"repeatedcv\", \n",
    "    number = 5,\n",
    "    repeats = 5, \n",
    "    verboseIter = TRUE\n",
    "  )\n",
    ")\n",
    "\n",
    "# Print model to console\n",
    "model"
   ]
  },
  {
   "cell_type": "markdown",
   "metadata": {},
   "source": [
    "#### 1.3.4) Making predictions on new data\n",
    "Finally, the model you fit with the `train()` function has the exact same `predict()` interface as the linear regression models you fit earlier in this chapter.\n",
    "\n",
    "After fitting a model with `train()`, you can simply call `predict()` with new data, e.g:\n",
    "\n",
    "    predict(my_model, new_data)\n",
    "\n",
    "**Exercise**\n",
    "Use the predict() function to make predictions with model on the full Boston housing dataset. Print the result to the console.\n",
    "\n",
    "*Answer*"
   ]
  },
  {
   "cell_type": "code",
   "execution_count": 14,
   "metadata": {},
   "outputs": [],
   "source": [
    "result<-predict(model, Boston)"
   ]
  },
  {
   "cell_type": "markdown",
   "metadata": {},
   "source": [
    "## 2) Classification models: fitting them and evaluating their performance\n",
    "\n",
    "In this chapter, you'll fit classification models with `train()` and evaluate their out-of-sample performance using cross-validation and area under the curve (AUC).\n",
    "\n",
    "### 2.1) (video) Logistic regression on sonar\n",
    "\n",
    "in classification models you're trying to predict a categorical target, for example predicting whether or not will a loan default? this is still a form of supervised learning, like with regression problems, as before,  we can use a train/test split to explore how well our model generalizes to new data, in this chapter we will been working with the `sonar` dataset, a classic statistics dataset whic contains some characteristics of a sonar signal for objects that are either rocks or mines the goal here is to train a classifier that can relibly distinguish rocks from mines.\n",
    "\n",
    "So let´s load the Sonar dataset and take a look at it."
   ]
  },
  {
   "cell_type": "code",
   "execution_count": 15,
   "metadata": {},
   "outputs": [
    {
     "name": "stderr",
     "output_type": "stream",
     "text": [
      "Warning message:\n",
      "\"package 'mlbench' was built under R version 3.5.3\""
     ]
    },
    {
     "data": {
      "text/html": [
       "<table>\n",
       "<thead><tr><th scope=col>V1</th><th scope=col>V2</th><th scope=col>V3</th><th scope=col>V4</th><th scope=col>V5</th><th scope=col>Class</th></tr></thead>\n",
       "<tbody>\n",
       "\t<tr><td>0.0200</td><td>0.0371</td><td>0.0428</td><td>0.0207</td><td>0.0954</td><td>R     </td></tr>\n",
       "\t<tr><td>0.0453</td><td>0.0523</td><td>0.0843</td><td>0.0689</td><td>0.1183</td><td>R     </td></tr>\n",
       "\t<tr><td>0.0262</td><td>0.0582</td><td>0.1099</td><td>0.1083</td><td>0.0974</td><td>R     </td></tr>\n",
       "\t<tr><td>0.0100</td><td>0.0171</td><td>0.0623</td><td>0.0205</td><td>0.0205</td><td>R     </td></tr>\n",
       "\t<tr><td>0.0762</td><td>0.0666</td><td>0.0481</td><td>0.0394</td><td>0.0590</td><td>R     </td></tr>\n",
       "\t<tr><td>0.0286</td><td>0.0453</td><td>0.0277</td><td>0.0174</td><td>0.0384</td><td>R     </td></tr>\n",
       "</tbody>\n",
       "</table>\n"
      ],
      "text/latex": [
       "\\begin{tabular}{r|llllll}\n",
       " V1 & V2 & V3 & V4 & V5 & Class\\\\\n",
       "\\hline\n",
       "\t 0.0200 & 0.0371 & 0.0428 & 0.0207 & 0.0954 & R     \\\\\n",
       "\t 0.0453 & 0.0523 & 0.0843 & 0.0689 & 0.1183 & R     \\\\\n",
       "\t 0.0262 & 0.0582 & 0.1099 & 0.1083 & 0.0974 & R     \\\\\n",
       "\t 0.0100 & 0.0171 & 0.0623 & 0.0205 & 0.0205 & R     \\\\\n",
       "\t 0.0762 & 0.0666 & 0.0481 & 0.0394 & 0.0590 & R     \\\\\n",
       "\t 0.0286 & 0.0453 & 0.0277 & 0.0174 & 0.0384 & R     \\\\\n",
       "\\end{tabular}\n"
      ],
      "text/markdown": [
       "\n",
       "V1 | V2 | V3 | V4 | V5 | Class | \n",
       "|---|---|---|---|---|---|\n",
       "| 0.0200 | 0.0371 | 0.0428 | 0.0207 | 0.0954 | R      | \n",
       "| 0.0453 | 0.0523 | 0.0843 | 0.0689 | 0.1183 | R      | \n",
       "| 0.0262 | 0.0582 | 0.1099 | 0.1083 | 0.0974 | R      | \n",
       "| 0.0100 | 0.0171 | 0.0623 | 0.0205 | 0.0205 | R      | \n",
       "| 0.0762 | 0.0666 | 0.0481 | 0.0394 | 0.0590 | R      | \n",
       "| 0.0286 | 0.0453 | 0.0277 | 0.0174 | 0.0384 | R      | \n",
       "\n",
       "\n"
      ],
      "text/plain": [
       "  V1     V2     V3     V4     V5     Class\n",
       "1 0.0200 0.0371 0.0428 0.0207 0.0954 R    \n",
       "2 0.0453 0.0523 0.0843 0.0689 0.1183 R    \n",
       "3 0.0262 0.0582 0.1099 0.1083 0.0974 R    \n",
       "4 0.0100 0.0171 0.0623 0.0205 0.0205 R    \n",
       "5 0.0762 0.0666 0.0481 0.0394 0.0590 R    \n",
       "6 0.0286 0.0453 0.0277 0.0174 0.0384 R    "
      ]
     },
     "metadata": {},
     "output_type": "display_data"
    }
   ],
   "source": [
    "library(mlbench) #Machine Learning Benchmark Problem\n",
    "data(Sonar)\n",
    "Sonar[1:6,c(1:5,61)]\n"
   ]
  },
  {
   "cell_type": "markdown",
   "metadata": {},
   "source": [
    "Note that the target is either \"R\" for rock and \"M\" for mine and most of predictors are numbers measuring some aspect of a Sonar signal."
   ]
  },
  {
   "cell_type": "markdown",
   "metadata": {},
   "source": [
    "#### 2.1.2) Try a 60/40 split\n",
    "As you saw in the video, you'll be working with the `Sonar` dataset in this chapter, using a 60% training set and a 40% test set. We'll practice making a train/test split one more time, just to be sure you have the hang of it. Recall that you can use the `sample()` function to get a random permutation of the row indices in a dataset, to use when making train/test splits, e.g.:\n",
    "\n",
    "    n_obs <- nrow(my_data)\n",
    "    permuted_rows <- sample(n_obs)\n",
    "\n",
    "And then use those row indices to randomly reorder the dataset, e.g.:\n",
    "\n",
    "    my_data <- my_data[permuted_rows, ]\n",
    "\n",
    "Once your dataset is randomly ordered, you can split off the first 60% as a training set and the last 40% as a test set.\n",
    "\n",
    "**Exercise**\n",
    "1. Get the number of observations (rows) in Sonar, assigning to n_obs.\n",
    "2. Shuffle the row indices of Sonar and store the result in permuted_rows.\n",
    "3. Use permuted_rows to randomly reorder the rows of Sonar, saving as Sonar_shuffled.\n",
    "4. Identify the proper row to split on for a 60/40 split. Store this row number as split.\n",
    "5. Save the first 60% of Sonar_shuffled as a training set.\n",
    "6. Save the last 40% of Sonar_shuffled as the test set.\n",
    "\n",
    "*Answer*"
   ]
  },
  {
   "cell_type": "code",
   "execution_count": 16,
   "metadata": {},
   "outputs": [],
   "source": [
    "# Get the number of observations\n",
    "n_obs<-nrow(Sonar)\n",
    "\n",
    "# Shuffle row indices: permuted_rows\n",
    "permuted_rows<-sample(n_obs)\n",
    "\n",
    "# Randomly order data: Sonar\n",
    "Sonar_shuffled<-Sonar[permuted_rows,]\n",
    "\n",
    "# Identify row to split on: split\n",
    "split <- round(n_obs * .60)\n",
    "\n",
    "# Create train\n",
    "train<-Sonar_shuffled[1:split,]\n",
    "\n",
    "# Create test\n",
    "test<-Sonar_shuffled[(split+1):nrow(Sonar_shuffled),]"
   ]
  },
  {
   "cell_type": "markdown",
   "metadata": {},
   "source": [
    "#### 2.1.3) Fit a logistic regression model\n",
    "Once you have your random training and test sets you can fit a logistic regression model to your training set using the `glm()` function. `glm(`) is a more advanced version of `lm()` that allows for more varied types of regression models, aside from plain vanilla ordinary least squares regression.\n",
    "\n",
    "Be sure to pass the argument `family = \"binomial\"` to `glm()` to specify that you want to do logistic (rather than linear) regression. For example:\n",
    "\n",
    "    glm(Target ~ ., family = \"binomial\", dataset)\n",
    "    \n",
    "Don't worry about warnings like `glm.fit: algorithm did not converge` or `glm.fit: fitted probabilities numerically 0 or 1 occurred`. These are common on smaller datasets and usually don't cause any issues. They typically mean your dataset is perfectly separable, which can cause problems for the math behind the model, but R's `glm()` function is almost always robust enough to handle this case with no problems.\n",
    "\n",
    "Once you have a `glm()` model fit to your dataset, you can predict the outcome (e.g. rock or mine) on the `test` set using the `predict()` function with the argument `type = \"response\"`:\n",
    "\n",
    "    predict(my_model, test, type = \"response\")  \n",
    "\n",
    "**Exercise**\n",
    "\n",
    "1. Fit a logistic regression called model to predict Class using all other variables as predictors. Use the training set for Sonar.\n",
    "2. Predict on the test set using that model. Call the result p like you've done before.    \n",
    "\n",
    "*Answer*"
   ]
  },
  {
   "cell_type": "code",
   "execution_count": 17,
   "metadata": {},
   "outputs": [
    {
     "name": "stderr",
     "output_type": "stream",
     "text": [
      "Warning message:\n",
      "\"glm.fit: algorithm did not converge\"Warning message:\n",
      "\"glm.fit: fitted probabilities numerically 0 or 1 occurred\""
     ]
    }
   ],
   "source": [
    "# Fit glm model: model\n",
    "model<-glm(Class ~ .,family = \"binomial\", data = train)\n",
    "\n",
    "# Predict on test: p\n",
    "p<-predict(model, test, type = \"response\")"
   ]
  },
  {
   "cell_type": "markdown",
   "metadata": {},
   "source": [
    "### 2.2 (video) Confusion Matrix \n",
    "\n",
    "A really useful tool for evaluating binary classification models is known as a \"confusion matrix\" this is a matrix of the model´s predicted classes vs the actual outcomes in reality , it´s called confusion matrix because it reveals how \"confused\" the model is between 2 classes. \n",
    "\n",
    "The columns are the true classes while the rows of matrix are the predicted classes, the main diagonal of the matrix is where the model is correct \n",
    "\n",
    "| Prediction/Reference | Yes (Positive) | No (Negative)  |\n",
    "|----------------------|----------------|----------------|\n",
    "| Yes  (Positive)      | True Positive  | False Positive |\n",
    "| No   (Negative)      | False Negative | True Negative  |\n",
    "\n",
    "To generate a confusion matrix, we start by fitting a model to our training set, next we predict on the test set, and cut the predicted probabilities with a threshold to get assignments, in other words de logistic regresion model outputs the probability that an object is a mine, but we need to use these probabilities to make a binary decision: rock or mine in the simple case, we use a probability of 50% as our cutoff and assign anything under 50% as a rock otherwise is a mine, next we make a 2-way frequency table using a `table` function in R and we´ll use the `confusionMatrix` function in `caret` package to calculate our error rate.\n",
    "\n",
    "**Example**"
   ]
  },
  {
   "cell_type": "code",
   "execution_count": 18,
   "metadata": {},
   "outputs": [
    {
     "name": "stderr",
     "output_type": "stream",
     "text": [
      "Warning message:\n",
      "\"glm.fit: algorithm did not converge\"Warning message:\n",
      "\"glm.fit: fitted probabilities numerically 0 or 1 occurred\""
     ]
    },
    {
     "data": {
      "text/plain": [
       "     Min.   1st Qu.    Median      Mean   3rd Qu.      Max. \n",
       "0.0000000 0.0000000 0.0000001 0.3711606 0.9998758 1.0000000 "
      ]
     },
     "metadata": {},
     "output_type": "display_data"
    },
    {
     "data": {
      "text/plain": [
       "p_class\n",
       " M  R \n",
       "32 51 "
      ]
     },
     "metadata": {},
     "output_type": "display_data"
    },
    {
     "data": {
      "text/plain": [
       "       \n",
       "p_class  M  R\n",
       "      M 11 21\n",
       "      R 30 21"
      ]
     },
     "metadata": {},
     "output_type": "display_data"
    },
    {
     "data": {
      "text/plain": [
       "Confusion Matrix and Statistics\n",
       "\n",
       "          Reference\n",
       "Prediction  M  R\n",
       "         M 11 21\n",
       "         R 30 21\n",
       "                                          \n",
       "               Accuracy : 0.3855          \n",
       "                 95% CI : (0.2807, 0.4988)\n",
       "    No Information Rate : 0.506           \n",
       "    P-Value [Acc > NIR] : 0.9897          \n",
       "                                          \n",
       "                  Kappa : -0.2323         \n",
       "                                          \n",
       " Mcnemar's Test P-Value : 0.2626          \n",
       "                                          \n",
       "            Sensitivity : 0.2683          \n",
       "            Specificity : 0.5000          \n",
       "         Pos Pred Value : 0.3438          \n",
       "         Neg Pred Value : 0.4118          \n",
       "             Prevalence : 0.4940          \n",
       "         Detection Rate : 0.1325          \n",
       "   Detection Prevalence : 0.3855          \n",
       "      Balanced Accuracy : 0.3841          \n",
       "                                          \n",
       "       'Positive' Class : M               \n",
       "                                          "
      ]
     },
     "metadata": {},
     "output_type": "display_data"
    }
   ],
   "source": [
    "#1) Fit Model\n",
    "model<-glm(Class ~ ., family = binomial(link = \"logit\"), train )\n",
    "p<- predict(model, test, type = \"response\")\n",
    "summary(p)\n",
    "\n",
    "#2 Turn probabilities into classes and look at their frequencies \n",
    "p_class<- ifelse(p>.5,\"M\",\"R\")\n",
    "table(p_class)\n",
    "\n",
    "#3 Make a 2-way frequency table\n",
    "table(p_class,test[[\"Class\"]])\n",
    "\n",
    "\n",
    "p_class<-as.factor(p_class)\n",
    "\n",
    "\n",
    "#use caret´s helper function to calculate additional statistics\n",
    "confusionMatrix(p_class, test[[\"Class\"]])"
   ]
  },
  {
   "cell_type": "markdown",
   "metadata": {},
   "source": [
    "#### 2.2.1) Calculate a confusion matrix\n",
    "As you saw in the video, a confusion matrix is a very useful tool for calibrating the output of a model and examining all possible outcomes of your predictions (true positive, true negative, false positive, false negative).\n",
    "\n",
    "Before you make your confusion matrix, you need to \"cut\" your predicted probabilities at a given threshold to turn probabilities into a factor of class predictions. Combine `ifelse()` with `factor()` as follows:\n",
    "\n",
    "    pos_or_neg <- ifelse(probability_prediction > threshold, positive_class, negative_class)\n",
    "    p_class <- factor(pos_or_neg, levels = levels(test_values))\n",
    "    \n",
    "`confusionMatrix()` in `caret` improves on `table()` from base R by adding lots of useful ancillary statistics in addition to the base rates in the table. You can calculate the confusion matrix (and the associated statistics) using the predicted outcomes as well as the actual outcomes, e.g.:    \n",
    "\n",
    "    confusionMatrix(p_class, test_values)\n",
    "\n",
    "\n",
    "**Exercise**\n",
    "1. Use ifelse() to create a character vector, m_or_r that is the positive class, \"M\", when p is greater than 0.5, and the negative class, \"R\", otherwise.\n",
    "2. Convert m_or_r to be a factor, p_class, with levels the same as those of test[[\"Class\"]].\n",
    "3. Make a confusion matrix with confusionMatrix(), passing p_class and the \"Class\" column from the test dataset.\n",
    "\n",
    "*Answer*"
   ]
  },
  {
   "cell_type": "code",
   "execution_count": 19,
   "metadata": {},
   "outputs": [
    {
     "name": "stderr",
     "output_type": "stream",
     "text": [
      "Warning message:\n",
      "\"glm.fit: algorithm did not converge\"Warning message:\n",
      "\"glm.fit: fitted probabilities numerically 0 or 1 occurred\""
     ]
    },
    {
     "data": {
      "text/plain": [
       "Confusion Matrix and Statistics\n",
       "\n",
       "          Reference\n",
       "Prediction  M  R\n",
       "         M 11 21\n",
       "         R 30 21\n",
       "                                          \n",
       "               Accuracy : 0.3855          \n",
       "                 95% CI : (0.2807, 0.4988)\n",
       "    No Information Rate : 0.506           \n",
       "    P-Value [Acc > NIR] : 0.9897          \n",
       "                                          \n",
       "                  Kappa : -0.2323         \n",
       "                                          \n",
       " Mcnemar's Test P-Value : 0.2626          \n",
       "                                          \n",
       "            Sensitivity : 0.2683          \n",
       "            Specificity : 0.5000          \n",
       "         Pos Pred Value : 0.3438          \n",
       "         Neg Pred Value : 0.4118          \n",
       "             Prevalence : 0.4940          \n",
       "         Detection Rate : 0.1325          \n",
       "   Detection Prevalence : 0.3855          \n",
       "      Balanced Accuracy : 0.3841          \n",
       "                                          \n",
       "       'Positive' Class : M               \n",
       "                                          "
      ]
     },
     "metadata": {},
     "output_type": "display_data"
    }
   ],
   "source": [
    "#1) Fit Model\n",
    "# Fit glm model: model\n",
    "model<-glm(Class ~ .,family = \"binomial\", data = train)\n",
    "# Predict on test: p\n",
    "p<-predict(model, test, type = \"response\")\n",
    "\n",
    "# If p exceeds threshold of 0.5, M else R: m_or_r\n",
    "m_or_r<-ifelse(p > .5,\"M\",\"R\")\n",
    "\n",
    "# Convert to factor: p_class\n",
    "p_class<-factor(m_or_r, levels = levels(test$Class))\n",
    "\n",
    "# Create confusion matrix\n",
    "confusionMatrix(p_class,test$Class)"
   ]
  },
  {
   "cell_type": "markdown",
   "metadata": {},
   "source": [
    "Here it´s importante to see:\n",
    "\n",
    "The `accuracy` of this model that tell us how well this model predict, What is the test set true positive rate (or `sensitivity` or Recall or true positive rate) of this model and What is the test set true negative rate (or `specificity`) of this model.\n",
    "\n",
    "Link1: https://towardsdatascience.com/understanding-logistic-regression-9b02c2aec102 (Understanding Logistic Regression)\n",
    "Lin2: https://towardsdatascience.com/understanding-confusion-matrix-a9ad42dcfd62 (Understanding Confusion Matrix)\n",
    "\n",
    "\n",
    "| Prediction/Reference | Yes (Positive) | No (Negative)  |\n",
    "|----------------------|----------------|----------------|\n",
    "| Yes  (Positive)      | True Positive  | False Positive |\n",
    "| No   (Negative)      | False Negative | True Negative  |\n",
    "\n",
    "where \n",
    "\n",
    "1. **Accuracy** = `TP+TN/Total`  (Out of all the classes, how much we predicted correctly)\n",
    "2. Precision (Positive predictive value) = `TP / TP + FP`  (Out of all the positive classes we have predicted correctly, how many are actually positive)\n",
    "3. **Sensitivity** (Recall or True positive rate) = `TP/ TP + FN` or `TP/Positive (P)` (Out of all the positive classes, how much we predicted correctly. It should be high as possible.)\n",
    "4. Specificity (True negative rate) = `TN/ TN + FP` or `TN/Negative (N)`\n",
    "\n",
    "and F-measure = `2*Recall*Precision / Recall + Precision`\n",
    "\n",
    "\n",
    "### 2.3)  (video) Class probabilities and predictions\n",
    "in the previous exercise we worked through an example confusion matrix using 50% as classification cutoff threshold, however we´re not limited to using this threshold we can use 10% or 90 % but choosing a threshold is an exercise in balancing the true positive rate (or percent of mines we catch) with false positive rate (or percen of non-mines we incorrectly flag as mines) but unfortunately there is not a metodology to choose one, you usually have to use a confusion matrix on your test set to find a good threshold.\n",
    "\n",
    "#### 2.3.1) Probabilities and classes\n",
    "What's the relationship between the predicted probabilities and the predicted classes?\n",
    "Predicted classes are based off of predicted probabilities plus a classification threshol\n",
    "\n",
    "#### 2.3.2) Try another threshold\n",
    "In the previous exercises, you used a threshold of 0.50 to cut your predicted probabilities to make class predictions (rock vs mine). However, this classification threshold does not always align with the goals for a given modeling problem.\n",
    "\n",
    "For example, pretend you want to identify the objects you are really certain are mines. In this case, you might want to use a probability threshold of 0.90 to get fewer predicted mines, but with greater confidence in each prediction.\n",
    "\n",
    "The code pattern for cutting probabilities into predicted classes, then calculating a confusion matrix, was shown in Exercise 7 of this chapter.\n",
    "\n",
    "**Exercise**\n",
    "1. Use `ifelse()` to create a character vector, `m_or_r` that is the positive class, `\"M\"`, when p is greater than 0.9, and the negative class, `\"R\"`, otherwise.\n",
    "2. Convert `m_or_r` to be a factor, `p_class`, with levels the same as those of `test[[\"Class\"]]`.\n",
    "3. Make a confusion matrix with `confusionMatrix()`, passing `p_class` and the `\"Class\"` column from the test dataset.\n",
    "\n",
    "*Answer*"
   ]
  },
  {
   "cell_type": "code",
   "execution_count": 20,
   "metadata": {},
   "outputs": [
    {
     "data": {
      "text/plain": [
       "Confusion Matrix and Statistics\n",
       "\n",
       "          Reference\n",
       "Prediction  M  R\n",
       "         M  8 21\n",
       "         R 33 21\n",
       "                                         \n",
       "               Accuracy : 0.3494         \n",
       "                 95% CI : (0.248, 0.4619)\n",
       "    No Information Rate : 0.506          \n",
       "    P-Value [Acc > NIR] : 0.9986         \n",
       "                                         \n",
       "                  Kappa : -0.3059        \n",
       "                                         \n",
       " Mcnemar's Test P-Value : 0.1344         \n",
       "                                         \n",
       "            Sensitivity : 0.19512        \n",
       "            Specificity : 0.50000        \n",
       "         Pos Pred Value : 0.27586        \n",
       "         Neg Pred Value : 0.38889        \n",
       "             Prevalence : 0.49398        \n",
       "         Detection Rate : 0.09639        \n",
       "   Detection Prevalence : 0.34940        \n",
       "      Balanced Accuracy : 0.34756        \n",
       "                                         \n",
       "       'Positive' Class : M              \n",
       "                                         "
      ]
     },
     "metadata": {},
     "output_type": "display_data"
    }
   ],
   "source": [
    "# If p exceeds threshold of 0.9, M else R: m_or_r\n",
    "m_or_r<-ifelse(p>.9,\"M\",\"R\")\n",
    "\n",
    "# Convert to factor: p_class\n",
    "p_class<-factor(m_or_r, levels = levels(Sonar$Class))\n",
    "\n",
    "# Create confusion matrix\n",
    "confusionMatrix(p_class, test$Class)"
   ]
  },
  {
   "cell_type": "markdown",
   "metadata": {},
   "source": [
    "#### 2.3.3) From probabilites to confusion matrix\n",
    "Conversely, say you want to be really certain that your model correctly identifies all the mines as mines. In this case, you might use a prediction threshold of 0.10, instead of 0.90.\n",
    "\n",
    "The code pattern for cutting probabilities into predicted classes, then calculating a confusion matrix, was shown in Exercise 7 of this chapter.\n",
    "\n",
    "**Exercise**\n",
    "1. Use ifelse() to create a character vector, m_or_r that is the positive class, \"M\", when p is greater than 0.1, and the negative class, \"R\", otherwise.\n",
    "2. Convert m_or_r to be a factor, p_class, with levels the same as those of test[[\"Class\"]].\n",
    "3. Make a confusion matrix with confusionMatrix(), passing p_class and the \"Class\" column from the test dataset.\n",
    "\n",
    "*Answer*"
   ]
  },
  {
   "cell_type": "code",
   "execution_count": 21,
   "metadata": {},
   "outputs": [
    {
     "data": {
      "text/plain": [
       "Confusion Matrix and Statistics\n",
       "\n",
       "          Reference\n",
       "Prediction  M  R\n",
       "         M 11 21\n",
       "         R 30 21\n",
       "                                          \n",
       "               Accuracy : 0.3855          \n",
       "                 95% CI : (0.2807, 0.4988)\n",
       "    No Information Rate : 0.506           \n",
       "    P-Value [Acc > NIR] : 0.9897          \n",
       "                                          \n",
       "                  Kappa : -0.2323         \n",
       "                                          \n",
       " Mcnemar's Test P-Value : 0.2626          \n",
       "                                          \n",
       "            Sensitivity : 0.2683          \n",
       "            Specificity : 0.5000          \n",
       "         Pos Pred Value : 0.3438          \n",
       "         Neg Pred Value : 0.4118          \n",
       "             Prevalence : 0.4940          \n",
       "         Detection Rate : 0.1325          \n",
       "   Detection Prevalence : 0.3855          \n",
       "      Balanced Accuracy : 0.3841          \n",
       "                                          \n",
       "       'Positive' Class : M               \n",
       "                                          "
      ]
     },
     "metadata": {},
     "output_type": "display_data"
    }
   ],
   "source": [
    "library(repr)\n",
    "# Change plot size to 4 x 3\n",
    "    options(repr.plot.width=4, repr.plot.height=3)\n",
    "\n",
    "# If p exceeds threshold of 0.1, M else R: m_or_r\n",
    "m_or_r<- ifelse(p>.1,\"M\",\"R\")\n",
    "\n",
    "# Convert to factor: p_class\n",
    "p_class<-factor(m_or_r, levels = levels(test$Class))\n",
    "\n",
    "# Create confusion matrix\n",
    "confusionMatrix(p_class, test$Class)"
   ]
  },
  {
   "cell_type": "markdown",
   "metadata": {},
   "source": [
    "### 2.4) (video) Introducing the ROC curve\n",
    "\n",
    "link: https://www.youtube.com/watch?v=4jRBRDbJemM (Youtube/ ROC and AUC, Clearly Explained!)\n",
    "\n",
    "Manually evaluating classification thresholds is hard work! in order to do this correctly, we´d have to manually dozens or hundreds of confusion matrices, and then visually inspect them unitil we find one we like, this seem un-scientific, as it requiries a lot manually work is heuristic-based  and could easly overlook a particular important threshold we need a systematic approach to evaluating classification threslholds. \n",
    "\n",
    "One common approach to do this problem is to let the computer iteratively evaluate every possible classification threshold and then calculate the true-positive rate and false-positive rate for each of them, we can then plot the true positive/false positive rate at every possible threshold and visualize the trade-off between the 2 extreme models (predict all mines vs predicts all rocks) or 100% true positive rate vs 0 % false positive rate the resulting curve is called a ROC curve or Receiver Operating Characteristic curve e.g\n",
    "\n",
    "Note: in the graph the X axis is the false positive rate, the Y axis is the true positive rate \n",
    "\n",
    "**Remember**\n",
    "\n",
    "| Prediction/Reference | Yes (Positive) | No (Negative)  |\n",
    "|----------------------|----------------|----------------|\n",
    "| Yes  (Positive)      | True Positive  | False Positive |\n",
    "| No   (Negative)      | False Negative | True Negative  |\n",
    "\n",
    "1. **Accuracy** = `TP+TN/Total`  (Out of all the classes, how much we predicted correctly)\n",
    "2. Precision (Positive predictive value) = `TP / TP + FP`  (Out of all the positive classes we have predicted correctly, how many are actually positive)\n",
    "3. **Sensitivity** (Recall or True Positive Rate or \"TPR\" ) = `TP/ TP + FN` or `TP/Positive (P)` (Out of all the positive classes, how much we predicted correctly. It should be high as possible.)\n",
    "4. **Specificity** (True Negative Rate) = `TN/ TN + FP` or `TN/Negative (N)`"
   ]
  },
  {
   "cell_type": "code",
   "execution_count": 22,
   "metadata": {},
   "outputs": [
    {
     "name": "stderr",
     "output_type": "stream",
     "text": [
      "Warning message:\n",
      "\"package 'caTools' was built under R version 3.5.3\""
     ]
    },
    {
     "data": {
      "text/html": [
       "<table>\n",
       "<tbody>\n",
       "\t<tr><th scope=row>M vs. R</th><td>0.6567944</td></tr>\n",
       "</tbody>\n",
       "</table>\n"
      ],
      "text/latex": [
       "\\begin{tabular}{r|l}\n",
       "\tM vs. R & 0.6567944\\\\\n",
       "\\end{tabular}\n"
      ],
      "text/markdown": [
       "\n",
       "| M vs. R | 0.6567944 | \n",
       "\n",
       "\n"
      ],
      "text/plain": [
       "        [,1]     \n",
       "M vs. R 0.6567944"
      ]
     },
     "metadata": {},
     "output_type": "display_data"
    },
    {
     "data": {
      "image/png": "[encoded data removed]",
      "text/plain": [
       "Plot with title \"ROC Curves\""
      ]
     },
     "metadata": {},
     "output_type": "display_data"
    }
   ],
   "source": [
    "#Create a ROC curve\n",
    "library(caTools)\n",
    "colAUC(p, test$Class, plotROC = TRUE)\n",
    "\n",
    "#Note False Negative Rate = 1-Specificity"
   ]
  },
  {
   "cell_type": "markdown",
   "metadata": {},
   "source": [
    "#### 2.4.1) Plot an ROC curve\n",
    "As you saw in the video, an ROC curve is a really useful shortcut for summarizing the performance of a classifier over all possible thresholds. This saves you a lot of tedious work computing class predictions for many different thresholds and examining the confusion matrix for each.\n",
    "\n",
    "My favorite package for computing ROC curves is `caTools`, which contains a function called `colAUC()`. This function is very user-friendly and can actually calculate ROC curves for multiple predictors at once. In this case, you only need to calculate the ROC curve for one predictor, e.g.\n",
    "\n",
    "    colAUC(predicted_probabilities, actual, plotROC = TRUE)\n",
    "\n",
    "The function will return a score called AUC (more on that later) and the `plotROC = TRUE` argument will return the plot of the ROC curve for visual inspection.\n",
    "\n",
    "**Exercise**\n",
    "`model`, `test`, and `train` from the last exercise using the sonar data are loaded in your workspace.\n",
    "\n",
    "1. Predict probabilities (i.e. type = \"response\") on the test set, then store the result as p.\n",
    "2. Make an ROC curve using the predicted test set probabilities.\n",
    "\n",
    "*Answer*"
   ]
  },
  {
   "cell_type": "code",
   "execution_count": 23,
   "metadata": {},
   "outputs": [
    {
     "data": {
      "text/html": [
       "<table>\n",
       "<tbody>\n",
       "\t<tr><th scope=row>M vs. R</th><td>0.6567944</td></tr>\n",
       "</tbody>\n",
       "</table>\n"
      ],
      "text/latex": [
       "\\begin{tabular}{r|l}\n",
       "\tM vs. R & 0.6567944\\\\\n",
       "\\end{tabular}\n"
      ],
      "text/markdown": [
       "\n",
       "| M vs. R | 0.6567944 | \n",
       "\n",
       "\n"
      ],
      "text/plain": [
       "        [,1]     \n",
       "M vs. R 0.6567944"
      ]
     },
     "metadata": {},
     "output_type": "display_data"
    },
    {
     "data": {
      "image/png": "[encoded data removed]",
      "text/plain": [
       "Plot with title \"ROC Curves\""
      ]
     },
     "metadata": {},
     "output_type": "display_data"
    }
   ],
   "source": [
    "# Predict on test: p\n",
    "p<-predict(model, test, type = \"response\")\n",
    "\n",
    "# Make ROC curve\n",
    "colAUC(p, test$Class, plotROC = TRUE)"
   ]
  },
  {
   "cell_type": "markdown",
   "metadata": {},
   "source": [
    "### 2.5 (video) Area under the curve (AUC)\n",
    "\n",
    "Just looking at a ROC curves starts to give us a good idea of how to evaluate whether or not our predict model is any good one interesting observation is that models with random predictions tend to produce curves that closely follow the diagonal line. On the other hand, models with a classification threshold that allows for perfect separation of classes produce a \"box\" with a single point at (1,0) to represent a model where it is possible to archive a 100% true positive rate and 0% false positive rate, wouldn´t that be nice? continuing with this example, if we calculate the area under each of these 2 ROC curves, an interesting property emerges: the area under the curve for a perfect model is exactly 1, as our plot represents a 1 by 1square, and the average area under the curve for a random model is point-5 as our plot represents a diagonal line. We can use this insight to formalize a measure of model accurancy know as \"AUC\" OR \"Area Under the Curve\".\n",
    "\n",
    "1. Single-number summary of model accuracy \n",
    "2. summarizes performance across all threshold \n",
    "3. Rank different models within the same dataset.\n",
    "\n",
    "It ranges from 0 to 1, where point-5 is the UAC of a random model and 1-point-0 is the UAC of a perfect model and 0 model always wrong , as a very rough rule of thumb, UAC can be thought of as letter grade , where point-9 is an \"A\", point-8 is an \"B\" and so on. I´m generally happy with a model that has an UAC of point-8 or higher, and models in the point-7 range are often useful.\n",
    "\n",
    "#### 2.5.1 ) Customizing trainControl\n",
    "As you saw in the video, area under the ROC curve is a very useful, single-number summary of a model's ability to discriminate the positive from the negative class (e.g. mines from rocks). An AUC of 0.5 is no better than random guessing, an AUC of 1.0 is a perfectly predictive model, and an AUC of 0.0 is perfectly anti-predictive (which rarely happens).\n",
    "\n",
    "This is often a much more useful metric than simply ranking models by their accuracy at a set threshold, as different models might require different calibration steps (looking at a confusion matrix at each step) to find the optimal classification threshold for that model.\n",
    "\n",
    "You can use the `trainControl()` function in `caret` to use AUC (instead of acccuracy), to tune the parameters of your models. The `twoClassSummary()` convenience function allows you to do this easily.\n",
    "\n",
    "When using `twoClassSummary()`, be sure to always include the argument `classProbs = TRUE` or your model will throw an error! (You cannot calculate AUC with just class predictions. You need to have class probabilities as well.)\n",
    "\n",
    "**Exercise**\n",
    "1. Customize the trainControl object to use twoClassSummary rather than defaultSummary.\n",
    "2. Use 10-fold cross-validation.\n",
    "3. Be sure to tell trainControl() to return class probabilities.\n",
    "\n",
    "*Answer*"
   ]
  },
  {
   "cell_type": "code",
   "execution_count": 24,
   "metadata": {},
   "outputs": [],
   "source": [
    "# Create trainControl object: myControl\n",
    "myControl <- trainControl(\n",
    "  method = \"cv\", #cross validation \n",
    "  number = 10,\n",
    "  summaryFunction = twoClassSummary, #Before# defaultSummary,\n",
    "  classProbs = TRUE, # IMPORTANT!\n",
    "  verboseIter = TRUE\n",
    ")"
   ]
  },
  {
   "cell_type": "markdown",
   "metadata": {},
   "source": [
    "#### 2.5.2) Using custom trainControl\n",
    "Now that you have a custom `trainControl` object, it's easy to fit `caret` models that use AUC rather than accuracy to tune and evaluate the model. You can just pass your custom `trainControl` object to the `train()` function via the `trControl` argument, e.g.:\n",
    "\n",
    "    train(<standard arguments here>, trControl = myControl)\n",
    "    \n",
    "This syntax gives you a convenient way to store a lot of custom modeling parameters and then use them across multiple different calls to `train()`. You will make extensive use of this trick in Chapter 5.\n",
    "\n",
    "**Exercise**\n",
    "1. Use `train()` to predict `Class` from all other variables in the Sonar data (that is, Class ~ .). It should be a `glm` model (that is, set method to \"glm\") using your custom `trainControl` object, `myControl`. Save the result to model.\n",
    "2. Print the model to the console and examine its output.\n",
    "\n",
    "*Answer*"
   ]
  },
  {
   "cell_type": "code",
   "execution_count": 25,
   "metadata": {},
   "outputs": [
    {
     "name": "stderr",
     "output_type": "stream",
     "text": [
      "Warning message in train.default(x, y, weights = w, ...):\n",
      "\"The metric \"Accuracy\" was not in the result set. ROC will be used instead.\""
     ]
    },
    {
     "name": "stdout",
     "output_type": "stream",
     "text": [
      "+ Fold01: parameter=none \n"
     ]
    },
    {
     "name": "stderr",
     "output_type": "stream",
     "text": [
      "Warning message:\n",
      "\"glm.fit: algorithm did not converge\"Warning message:\n",
      "\"glm.fit: fitted probabilities numerically 0 or 1 occurred\""
     ]
    },
    {
     "name": "stdout",
     "output_type": "stream",
     "text": [
      "- Fold01: parameter=none \n",
      "+ Fold02: parameter=none \n"
     ]
    },
    {
     "name": "stderr",
     "output_type": "stream",
     "text": [
      "Warning message:\n",
      "\"glm.fit: algorithm did not converge\"Warning message:\n",
      "\"glm.fit: fitted probabilities numerically 0 or 1 occurred\""
     ]
    },
    {
     "name": "stdout",
     "output_type": "stream",
     "text": [
      "- Fold02: parameter=none \n",
      "+ Fold03: parameter=none \n"
     ]
    },
    {
     "name": "stderr",
     "output_type": "stream",
     "text": [
      "Warning message:\n",
      "\"glm.fit: algorithm did not converge\"Warning message:\n",
      "\"glm.fit: fitted probabilities numerically 0 or 1 occurred\""
     ]
    },
    {
     "name": "stdout",
     "output_type": "stream",
     "text": [
      "- Fold03: parameter=none \n",
      "+ Fold04: parameter=none \n"
     ]
    },
    {
     "name": "stderr",
     "output_type": "stream",
     "text": [
      "Warning message:\n",
      "\"glm.fit: algorithm did not converge\"Warning message:\n",
      "\"glm.fit: fitted probabilities numerically 0 or 1 occurred\""
     ]
    },
    {
     "name": "stdout",
     "output_type": "stream",
     "text": [
      "- Fold04: parameter=none \n",
      "+ Fold05: parameter=none \n"
     ]
    },
    {
     "name": "stderr",
     "output_type": "stream",
     "text": [
      "Warning message:\n",
      "\"glm.fit: algorithm did not converge\"Warning message:\n",
      "\"glm.fit: fitted probabilities numerically 0 or 1 occurred\""
     ]
    },
    {
     "name": "stdout",
     "output_type": "stream",
     "text": [
      "- Fold05: parameter=none \n",
      "+ Fold06: parameter=none \n"
     ]
    },
    {
     "name": "stderr",
     "output_type": "stream",
     "text": [
      "Warning message:\n",
      "\"glm.fit: algorithm did not converge\"Warning message:\n",
      "\"glm.fit: fitted probabilities numerically 0 or 1 occurred\""
     ]
    },
    {
     "name": "stdout",
     "output_type": "stream",
     "text": [
      "- Fold06: parameter=none \n",
      "+ Fold07: parameter=none \n"
     ]
    },
    {
     "name": "stderr",
     "output_type": "stream",
     "text": [
      "Warning message:\n",
      "\"glm.fit: algorithm did not converge\"Warning message:\n",
      "\"glm.fit: fitted probabilities numerically 0 or 1 occurred\""
     ]
    },
    {
     "name": "stdout",
     "output_type": "stream",
     "text": [
      "- Fold07: parameter=none \n",
      "+ Fold08: parameter=none \n"
     ]
    },
    {
     "name": "stderr",
     "output_type": "stream",
     "text": [
      "Warning message:\n",
      "\"glm.fit: algorithm did not converge\"Warning message:\n",
      "\"glm.fit: fitted probabilities numerically 0 or 1 occurred\""
     ]
    },
    {
     "name": "stdout",
     "output_type": "stream",
     "text": [
      "- Fold08: parameter=none \n",
      "+ Fold09: parameter=none \n"
     ]
    },
    {
     "name": "stderr",
     "output_type": "stream",
     "text": [
      "Warning message:\n",
      "\"glm.fit: algorithm did not converge\"Warning message:\n",
      "\"glm.fit: fitted probabilities numerically 0 or 1 occurred\""
     ]
    },
    {
     "name": "stdout",
     "output_type": "stream",
     "text": [
      "- Fold09: parameter=none \n",
      "+ Fold10: parameter=none \n"
     ]
    },
    {
     "name": "stderr",
     "output_type": "stream",
     "text": [
      "Warning message:\n",
      "\"glm.fit: algorithm did not converge\"Warning message:\n",
      "\"glm.fit: fitted probabilities numerically 0 or 1 occurred\""
     ]
    },
    {
     "name": "stdout",
     "output_type": "stream",
     "text": [
      "- Fold10: parameter=none \n",
      "Aggregating results\n",
      "Fitting final model on full training set\n"
     ]
    },
    {
     "name": "stderr",
     "output_type": "stream",
     "text": [
      "Warning message:\n",
      "\"glm.fit: algorithm did not converge\"Warning message:\n",
      "\"glm.fit: fitted probabilities numerically 0 or 1 occurred\""
     ]
    },
    {
     "data": {
      "text/plain": [
       "Generalized Linear Model \n",
       "\n",
       "208 samples\n",
       " 60 predictor\n",
       "  2 classes: 'M', 'R' \n",
       "\n",
       "No pre-processing\n",
       "Resampling: Cross-Validated (10 fold) \n",
       "Summary of sample sizes: 188, 186, 187, 187, 187, 187, ... \n",
       "Resampling results:\n",
       "\n",
       "  ROC        Sens       Spec     \n",
       "  0.7397096  0.7280303  0.6822222\n"
      ]
     },
     "metadata": {},
     "output_type": "display_data"
    }
   ],
   "source": [
    "# Train glm with custom trainControl: model\n",
    "model<- train(\n",
    "Class~.,\n",
    "Sonar,\n",
    "method = \"glm\",\n",
    "trControl = myControl\n",
    ")\n",
    "\n",
    "\n",
    "# Print model to console\n",
    "model"
   ]
  },
  {
   "cell_type": "markdown",
   "metadata": {},
   "source": [
    "Note: Great work! Note that fitting a glm with caret often produces warnings about convergence or probabilities. These warnings can almost always be safely ignored, as you can use the glm's predictions to validate whether the model is accurate enough for your task.\n",
    "\n",
    "## 3) Tuning model parameters to improve performance\n",
    "In this chapter, you will use the `train()` function to tweak model parameters through cross-validation and grid search.\n",
    "\n",
    "### 3.1) (video) Random forests and wine\n",
    "Now that we have explored simple, linear model for classification and regression, lets move on  to something more interesting, random forest are a popular type of machine learning model, they are very useful especially for beginners because they´re quite robust againtst over-fitting.\n",
    "\n",
    "Random forest typically yield very accurante , non-linear models with no extra work on the part of the data scientist, this make them very useful on many real-word problems.\n",
    "\n",
    "The drawback to random forest is that, unlike linear models, the have \"hyperparameters\" to tune , unlike regular parameters, for instance slope or incercept in a linear model. Hyperparameters cannot be directly estimated from the training data they must be manually specified by the data scientist as inputs to the predict model, however theese hyperparameters can impact how the model fits he data, and the optimal values for theese parameters vary dataset to dataset. In practice the default value of the hyperparameters for random forest are often fine, but ocasionally need adjustment fortunately, we have the caret package to help us. \n",
    "\n",
    "Random forest starts with a simple decision tree model that is very fast but usually not very acurrante, RF (randome forest) improve the accuracy of a single model by fitting many decision trees, each fit to a different boostrap sample of the original dataset. This called boostrap aggregation or baggin , and is a well-know techinique for improving the performance of predictive models. \n",
    "\n",
    "Random forests take bagging one step further by randomly re-sampling the columns of the dataset at each split this additional level of sampling often helps yield even more accurate models.\n",
    "\n",
    "Let´s fit a random forest using caret\n",
    "\n",
    "after that we fit a model using the train function, and pass the \"ranger\" argument to fit a random forest "
   ]
  },
  {
   "cell_type": "code",
   "execution_count": 26,
   "metadata": {},
   "outputs": [
    {
     "data": {
      "text/plain": [
       "Random Forest \n",
       "\n",
       "208 samples\n",
       " 60 predictor\n",
       "  2 classes: 'M', 'R' \n",
       "\n",
       "No pre-processing\n",
       "Resampling: Bootstrapped (25 reps) \n",
       "Summary of sample sizes: 208, 208, 208, 208, 208, 208, ... \n",
       "Resampling results across tuning parameters:\n",
       "\n",
       "  mtry  splitrule   Accuracy   Kappa    \n",
       "   2    gini        0.8205321  0.6373345\n",
       "   2    extratrees  0.8334256  0.6646559\n",
       "  31    gini        0.8011446  0.5990418\n",
       "  31    extratrees  0.8385782  0.6743135\n",
       "  60    gini        0.7791183  0.5549046\n",
       "  60    extratrees  0.8331836  0.6637987\n",
       "\n",
       "Tuning parameter 'min.node.size' was held constant at a value of 1\n",
       "Accuracy was used to select the optimal model using the largest value.\n",
       "The final values used for the model were mtry = 31, splitrule = extratrees\n",
       " and min.node.size = 1."
      ]
     },
     "metadata": {},
     "output_type": "display_data"
    },
    {
     "data": {},
     "metadata": {},
     "output_type": "display_data"
    },
    {
     "data": {
      "image/png": "[encoded data removed]",
      "text/plain": [
       "plot without title"
      ]
     },
     "metadata": {},
     "output_type": "display_data"
    }
   ],
   "source": [
    "#laod some data\n",
    "library(caret)\n",
    "library(mlbench)\n",
    "\n",
    "data(Sonar)\n",
    "set.seed(42)\n",
    "\n",
    "model<-train(Class ~ ., data = Sonar, method = \"ranger\")\n",
    "model\n",
    "plot(model)"
   ]
  },
  {
   "cell_type": "markdown",
   "metadata": {},
   "source": [
    "#### 3.1.1) Random forests vs. linear models\n",
    "What's the primary advantage of random forests over linear models?\n",
    "\n",
    "A random forest is a more flexible model than a linear model, but just as easy to fit, Random forests are very powerful non-linear models, but are also very easy to fit.\n",
    "\n",
    "#### Fit a random forest\n",
    "As you saw in the video, random forest models are much more flexible than linear models, and can model complicated nonlinear effects as well as automatically capture interactions between variables. They tend to give very good results on real world data, so let's try one out on the wine quality dataset, where the goal is to predict the human-evaluated quality of a batch of wine, given some of the machine-measured chemical and physical properties of that batch.\n",
    "\n",
    "Fitting a random forest model is exactly the same as fitting a generalized linear regression model, as you did in the previous chapter. You simply change the `method` argument in the `train` function to be `\"ranger\"`. The `ranger` package is a rewrite of R's classic `randomForest` package and fits models much faster, but gives almost exactly the same results. We suggest that all beginners use the `ranger` package for random forest modeling.\n",
    "\n",
    "**Exercise**\n",
    "1. Train a random forest called model on the wine quality dataset, wine, such that quality is the response variable and all other variables are explanatory variables.\n",
    "    - Use method = \"ranger\".\n",
    "    - Use a tuneLength of 1.\n",
    "    - Use 5 CV folds.\n",
    "2. Print model to the console.\n",
    "\n",
    "*Answer*"
   ]
  },
  {
   "cell_type": "code",
   "execution_count": 27,
   "metadata": {},
   "outputs": [
    {
     "name": "stdout",
     "output_type": "stream",
     "text": [
      "+ Fold1: mtry=3, min.node.size=5, splitrule=variance \n",
      "- Fold1: mtry=3, min.node.size=5, splitrule=variance \n",
      "+ Fold1: mtry=3, min.node.size=5, splitrule=extratrees \n",
      "- Fold1: mtry=3, min.node.size=5, splitrule=extratrees \n",
      "+ Fold2: mtry=3, min.node.size=5, splitrule=variance \n",
      "- Fold2: mtry=3, min.node.size=5, splitrule=variance \n",
      "+ Fold2: mtry=3, min.node.size=5, splitrule=extratrees \n",
      "- Fold2: mtry=3, min.node.size=5, splitrule=extratrees \n",
      "+ Fold3: mtry=3, min.node.size=5, splitrule=variance \n",
      "- Fold3: mtry=3, min.node.size=5, splitrule=variance \n",
      "+ Fold3: mtry=3, min.node.size=5, splitrule=extratrees \n",
      "- Fold3: mtry=3, min.node.size=5, splitrule=extratrees \n",
      "+ Fold4: mtry=3, min.node.size=5, splitrule=variance \n",
      "- Fold4: mtry=3, min.node.size=5, splitrule=variance \n",
      "+ Fold4: mtry=3, min.node.size=5, splitrule=extratrees \n",
      "- Fold4: mtry=3, min.node.size=5, splitrule=extratrees \n",
      "+ Fold5: mtry=3, min.node.size=5, splitrule=variance \n",
      "- Fold5: mtry=3, min.node.size=5, splitrule=variance \n",
      "+ Fold5: mtry=3, min.node.size=5, splitrule=extratrees \n",
      "- Fold5: mtry=3, min.node.size=5, splitrule=extratrees \n",
      "Aggregating results\n",
      "Selecting tuning parameters\n",
      "Fitting mtry = 3, splitrule = variance, min.node.size = 5 on full training set\n"
     ]
    }
   ],
   "source": [
    "# Fit random forest: model\n",
    "model <- train(\n",
    "  quality ~ .,\n",
    "  tuneLength = 1,\n",
    "  data = wine, \n",
    "  method = \"ranger\",\n",
    "  trControl = trainControl(\n",
    "    method = \"cv\", \n",
    "    number = 5, \n",
    "    verboseIter = TRUE\n",
    "  )\n",
    ")    "
   ]
  },
  {
   "cell_type": "markdown",
   "metadata": {},
   "source": [
    "### 3.2) (video) Explore a winder model space\n",
    "\n",
    "One of the big difference between a random forest and linear regression model  we've been exploring up to now is that random forest require \"tuning\" in other word random forests have `hyperameters` that control how the model is fit unlike `parameters` of a model (for example the split points in the random forest or coefficients in linear regresion, hyperamaters must be selected by hand before fitting the mode.\n",
    "\n",
    "The most importat of these hyperamaters is the `mtry` or number of randomly selected variables used at each split point in the individual desicion tress that make up the random forest.This number is tunable: you could look as a few as 2 or as many 100 variables per split forest that used 2 variables would tend to be more random forest that used 100 variables  would tend to be less random, unfortunately, due to their nature, it´s hard to know the best value of these hyperameters without trying them out on your trainig data for somedata set 2 variable random foresst  are best and other data set 100 variable random forest are best, one again `caret` save us a lot boring  manually work, automating the process of hyperamaters selection.\n",
    "\n",
    "To start we can play with the `tuneLenght` argument to the train function this argument is used to tell train to explore more models along its default tuning grid"
   ]
  },
  {
   "cell_type": "code",
   "execution_count": 28,
   "metadata": {},
   "outputs": [
    {
     "data": {},
     "metadata": {},
     "output_type": "display_data"
    },
    {
     "data": {
      "image/png": "[encoded data removed]",
      "text/plain": [
       "plot without title"
      ]
     },
     "metadata": {},
     "output_type": "display_data"
    }
   ],
   "source": [
    "#first we loand the Sonar data from mlbench package \n",
    "library(caret)\n",
    "library(mlbench)\n",
    "data(Sonar)\n",
    "\n",
    "#this will take longer than the default model, which uses a tunelenght of 3\n",
    "model<-train(\n",
    "    Class ~ .,\n",
    "    data = Sonar,\n",
    "    method = \"ranger\", #this uses the ranger package in R to fit a random forest wich is much faster than the more widely know randomForest package \n",
    "    tuneLength = 10\n",
    ")\n",
    "\n",
    "\n",
    "#finally we can plot to visually inspect the model´s accurancy for different values of mtry \n",
    "plot(model)"
   ]
  },
  {
   "cell_type": "markdown",
   "metadata": {},
   "source": [
    "#### 3.2.1) Advantage of a longer tune length\n",
    "What's the advantage of a longer tuneLength?\n",
    "You explore more potential models and can potentially find a better model.\n",
    "\n",
    "Note: Number of variables available for splitting at each tree node. In the random forests literature, this is referred to as the mtry parameter. ... randomForest - For classification models, the default is the square root of the number of predictor variables (rounded down). For regression models, it is the number of predictor variables divided by 3 (rounded down).\n",
    "\n",
    "#### 3.2.2) Try a longer tune length\n",
    "Recall from the video that random forest models have a primary tuning parameter of `mtry`, which controls how many variables are exposed to the splitting search routine at each split . For example, suppose that a tree has a total of 10 splits and mtry = 2. This means that there are 10 samples of 2 predictors each time a split is evaluated.\n",
    "\n",
    "Use a larger tuning grid this time, but stick to the defaults provided by the `train()` function. Try a `tuneLength` of 3, rather than 1, to explore some more potential models, and `plot` the resulting model using the plot function.\n",
    "\n",
    "**Exercise**\n",
    "- Train a random forest model, model, using the wine dataset on the quality variable with all other variables as explanatory variables. (This will take a few seconds to run, so be patient!)\n",
    "- Use method = \"ranger\".\n",
    "- Change the tuneLength to 3.\n",
    "- Use 5 CV folds.\n",
    "- Print model to the console.\n",
    "- Plot the model after fitting it.\n",
    "\n",
    "*Answer*"
   ]
  },
  {
   "cell_type": "code",
   "execution_count": 29,
   "metadata": {},
   "outputs": [
    {
     "name": "stdout",
     "output_type": "stream",
     "text": [
      "+ Fold1: mtry= 2, min.node.size=5, splitrule=variance \n",
      "- Fold1: mtry= 2, min.node.size=5, splitrule=variance \n",
      "+ Fold1: mtry= 7, min.node.size=5, splitrule=variance \n",
      "- Fold1: mtry= 7, min.node.size=5, splitrule=variance \n",
      "+ Fold1: mtry=12, min.node.size=5, splitrule=variance \n",
      "- Fold1: mtry=12, min.node.size=5, splitrule=variance \n",
      "+ Fold1: mtry= 2, min.node.size=5, splitrule=extratrees \n",
      "- Fold1: mtry= 2, min.node.size=5, splitrule=extratrees \n",
      "+ Fold1: mtry= 7, min.node.size=5, splitrule=extratrees \n",
      "- Fold1: mtry= 7, min.node.size=5, splitrule=extratrees \n",
      "+ Fold1: mtry=12, min.node.size=5, splitrule=extratrees \n",
      "- Fold1: mtry=12, min.node.size=5, splitrule=extratrees \n",
      "+ Fold2: mtry= 2, min.node.size=5, splitrule=variance \n",
      "- Fold2: mtry= 2, min.node.size=5, splitrule=variance \n",
      "+ Fold2: mtry= 7, min.node.size=5, splitrule=variance \n",
      "- Fold2: mtry= 7, min.node.size=5, splitrule=variance \n",
      "+ Fold2: mtry=12, min.node.size=5, splitrule=variance \n",
      "- Fold2: mtry=12, min.node.size=5, splitrule=variance \n",
      "+ Fold2: mtry= 2, min.node.size=5, splitrule=extratrees \n",
      "- Fold2: mtry= 2, min.node.size=5, splitrule=extratrees \n",
      "+ Fold2: mtry= 7, min.node.size=5, splitrule=extratrees \n",
      "- Fold2: mtry= 7, min.node.size=5, splitrule=extratrees \n",
      "+ Fold2: mtry=12, min.node.size=5, splitrule=extratrees \n",
      "- Fold2: mtry=12, min.node.size=5, splitrule=extratrees \n",
      "+ Fold3: mtry= 2, min.node.size=5, splitrule=variance \n",
      "- Fold3: mtry= 2, min.node.size=5, splitrule=variance \n",
      "+ Fold3: mtry= 7, min.node.size=5, splitrule=variance \n",
      "- Fold3: mtry= 7, min.node.size=5, splitrule=variance \n",
      "+ Fold3: mtry=12, min.node.size=5, splitrule=variance \n",
      "- Fold3: mtry=12, min.node.size=5, splitrule=variance \n",
      "+ Fold3: mtry= 2, min.node.size=5, splitrule=extratrees \n",
      "- Fold3: mtry= 2, min.node.size=5, splitrule=extratrees \n",
      "+ Fold3: mtry= 7, min.node.size=5, splitrule=extratrees \n",
      "- Fold3: mtry= 7, min.node.size=5, splitrule=extratrees \n",
      "+ Fold3: mtry=12, min.node.size=5, splitrule=extratrees \n",
      "- Fold3: mtry=12, min.node.size=5, splitrule=extratrees \n",
      "+ Fold4: mtry= 2, min.node.size=5, splitrule=variance \n",
      "- Fold4: mtry= 2, min.node.size=5, splitrule=variance \n",
      "+ Fold4: mtry= 7, min.node.size=5, splitrule=variance \n",
      "- Fold4: mtry= 7, min.node.size=5, splitrule=variance \n",
      "+ Fold4: mtry=12, min.node.size=5, splitrule=variance \n",
      "- Fold4: mtry=12, min.node.size=5, splitrule=variance \n",
      "+ Fold4: mtry= 2, min.node.size=5, splitrule=extratrees \n",
      "- Fold4: mtry= 2, min.node.size=5, splitrule=extratrees \n",
      "+ Fold4: mtry= 7, min.node.size=5, splitrule=extratrees \n",
      "- Fold4: mtry= 7, min.node.size=5, splitrule=extratrees \n",
      "+ Fold4: mtry=12, min.node.size=5, splitrule=extratrees \n",
      "- Fold4: mtry=12, min.node.size=5, splitrule=extratrees \n",
      "+ Fold5: mtry= 2, min.node.size=5, splitrule=variance \n",
      "- Fold5: mtry= 2, min.node.size=5, splitrule=variance \n",
      "+ Fold5: mtry= 7, min.node.size=5, splitrule=variance \n",
      "- Fold5: mtry= 7, min.node.size=5, splitrule=variance \n",
      "+ Fold5: mtry=12, min.node.size=5, splitrule=variance \n",
      "- Fold5: mtry=12, min.node.size=5, splitrule=variance \n",
      "+ Fold5: mtry= 2, min.node.size=5, splitrule=extratrees \n",
      "- Fold5: mtry= 2, min.node.size=5, splitrule=extratrees \n",
      "+ Fold5: mtry= 7, min.node.size=5, splitrule=extratrees \n",
      "- Fold5: mtry= 7, min.node.size=5, splitrule=extratrees \n",
      "+ Fold5: mtry=12, min.node.size=5, splitrule=extratrees \n",
      "- Fold5: mtry=12, min.node.size=5, splitrule=extratrees \n",
      "Aggregating results\n",
      "Selecting tuning parameters\n",
      "Fitting mtry = 7, splitrule = variance, min.node.size = 5 on full training set\n"
     ]
    },
    {
     "data": {
      "text/plain": [
       "Random Forest \n",
       "\n",
       "100 samples\n",
       " 12 predictor\n",
       "\n",
       "No pre-processing\n",
       "Resampling: Cross-Validated (5 fold) \n",
       "Summary of sample sizes: 79, 80, 80, 80, 81 \n",
       "Resampling results across tuning parameters:\n",
       "\n",
       "  mtry  splitrule   RMSE       Rsquared   MAE      \n",
       "   2    variance    0.6573597  0.3022398  0.5021202\n",
       "   2    extratrees  0.6852534  0.2378773  0.5096205\n",
       "   7    variance    0.6543511  0.2848738  0.4983836\n",
       "   7    extratrees  0.6655256  0.2691106  0.5040878\n",
       "  12    variance    0.6573930  0.2873497  0.5047146\n",
       "  12    extratrees  0.6695405  0.2510089  0.5094095\n",
       "\n",
       "Tuning parameter 'min.node.size' was held constant at a value of 5\n",
       "RMSE was used to select the optimal model using the smallest value.\n",
       "The final values used for the model were mtry = 7, splitrule = variance\n",
       " and min.node.size = 5."
      ]
     },
     "metadata": {},
     "output_type": "display_data"
    },
    {
     "data": {},
     "metadata": {},
     "output_type": "display_data"
    },
    {
     "data": {
      "image/png": "[encoded data removed]",
      "text/plain": [
       "plot without title"
      ]
     },
     "metadata": {},
     "output_type": "display_data"
    }
   ],
   "source": [
    "# Fit random forest: model\n",
    "model <- train(\n",
    "  quality ~ . ,\n",
    "  tuneLength = 3,\n",
    "  data = wine, \n",
    "  method = \"ranger\",\n",
    "  trControl = trainControl(\n",
    "    method = \"cv\", \n",
    "    number = 5, \n",
    "    verboseIter = TRUE\n",
    "  )\n",
    ")\n",
    "\n",
    "# Print model to console\n",
    "model\n",
    "\n",
    "# Plot model\n",
    "plot(model)"
   ]
  },
  {
   "cell_type": "markdown",
   "metadata": {},
   "source": [
    "### 3.3) (video) Custom tuning grids\n",
    "in the last video we learned how use tuneLength argument to customize caret model, however we´are not limited to the defaults train chooses for us, we can pass our own, fully-customized grid as data frames to the `tuneGrid` argument in `train` function . it give us complete control over the models that are explored during grid search the major drawback of this method is that it requires the most knowledge of the how the model works.\n",
    "\n",
    "let´s make a custom tuning grid."
   ]
  },
  {
   "cell_type": "code",
   "execution_count": 30,
   "metadata": {},
   "outputs": [
    {
     "ename": "ERROR",
     "evalue": "Error: The tuning parameter grid should have columns mtry, splitrule, min.node.size\n",
     "output_type": "error",
     "traceback": [
      "Error: The tuning parameter grid should have columns mtry, splitrule, min.node.size\nTraceback:\n",
      "1. train(Class ~ ., data = Sonar, method = \"ranger\", tuneGrid = myGrid)",
      "2. train.formula(Class ~ ., data = Sonar, method = \"ranger\", tuneGrid = myGrid)",
      "3. train(x, y, weights = w, ...)",
      "4. train.default(x, y, weights = w, ...)",
      "5. stop(paste(\"The tuning parameter grid should have columns\", paste(tuneNames, \n .     collapse = \", \", sep = \"\")), call. = FALSE)"
     ]
    }
   ],
   "source": [
    "#first we loand the Sonar data from mlbench package \n",
    "library(caret)\n",
    "library(mlbench)\n",
    "data(Sonar)\n",
    "\n",
    "\n",
    "# first we need to make a dataframe\n",
    "myGrid<- data.frame(mtry = c(2, 3, 4, 5, 10, 20))\n",
    "\n",
    "#this example only receives an mtry parameter because the random forest only needs this\n",
    "set.seed(42)\n",
    "\n",
    "model<-train(\n",
    "    Class ~ .,\n",
    "    data = Sonar,\n",
    "    method = \"ranger\", #this uses the ranger package in R to fit a random forest wich is much faster than the more widely know randomForest package \n",
    "    tuneGrid = myGrid\n",
    ")\n",
    "\n",
    "#plot the model\n",
    "plot(model)"
   ]
  },
  {
   "cell_type": "markdown",
   "metadata": {},
   "source": [
    "#### 3.3.1) Advantages of a custom tuning grid\n",
    "Why use a custom tuneGrid?\n",
    "It gives you more fine-grained control over the tuning parameters that are explored.\n",
    "\n",
    "#### 3.3.2) Fit a random forest with custom tuning\n",
    "Now that you've explored the default tuning grids provided by the `train()` function, let's customize your models a bit more.\n",
    "\n",
    "You can provide any number of values for `mtry`, from 2 up to the number of columns in the dataset. In practice, there are diminishing returns for much larger values of mtry, so you will use a custom tuning grid that explores 2 simple models (mtry = 2 and mtry = 3) as well as one more complicated model (mtry = 7).\n",
    "\n",
    "**Exercise**\n",
    "1. Define a custom tuning grid.\n",
    " - Set the number of variables to possibly split at each node, .mtry, to a vector of 2, 3, and 7.\n",
    " - Set the rule to split on, .splitrule, to \"variance\".\n",
    " - Set the minimum node size, .min.node.size, to 5.\n",
    "\n",
    "2. Train another random forest model, model, using the wine dataset on the quality variable with all other variables as explanatory variables.\n",
    " - Use method = \"ranger\".\n",
    " - Use the custom tuneGrid.\n",
    " - Use 5 CV folds.\n",
    " - Print model to the console.\n",
    " - Plot the model after fitting it using plot().\n",
    "\n",
    "*Answer*"
   ]
  },
  {
   "cell_type": "code",
   "execution_count": 31,
   "metadata": {},
   "outputs": [
    {
     "name": "stdout",
     "output_type": "stream",
     "text": [
      "+ Fold1: mtry=2, splitrule=variance, min.node.size=5 \n",
      "- Fold1: mtry=2, splitrule=variance, min.node.size=5 \n",
      "+ Fold1: mtry=3, splitrule=variance, min.node.size=5 \n",
      "- Fold1: mtry=3, splitrule=variance, min.node.size=5 \n",
      "+ Fold1: mtry=7, splitrule=variance, min.node.size=5 \n",
      "- Fold1: mtry=7, splitrule=variance, min.node.size=5 \n",
      "+ Fold2: mtry=2, splitrule=variance, min.node.size=5 \n",
      "- Fold2: mtry=2, splitrule=variance, min.node.size=5 \n",
      "+ Fold2: mtry=3, splitrule=variance, min.node.size=5 \n",
      "- Fold2: mtry=3, splitrule=variance, min.node.size=5 \n",
      "+ Fold2: mtry=7, splitrule=variance, min.node.size=5 \n",
      "- Fold2: mtry=7, splitrule=variance, min.node.size=5 \n",
      "+ Fold3: mtry=2, splitrule=variance, min.node.size=5 \n",
      "- Fold3: mtry=2, splitrule=variance, min.node.size=5 \n",
      "+ Fold3: mtry=3, splitrule=variance, min.node.size=5 \n",
      "- Fold3: mtry=3, splitrule=variance, min.node.size=5 \n",
      "+ Fold3: mtry=7, splitrule=variance, min.node.size=5 \n",
      "- Fold3: mtry=7, splitrule=variance, min.node.size=5 \n",
      "+ Fold4: mtry=2, splitrule=variance, min.node.size=5 \n",
      "- Fold4: mtry=2, splitrule=variance, min.node.size=5 \n",
      "+ Fold4: mtry=3, splitrule=variance, min.node.size=5 \n",
      "- Fold4: mtry=3, splitrule=variance, min.node.size=5 \n",
      "+ Fold4: mtry=7, splitrule=variance, min.node.size=5 \n",
      "- Fold4: mtry=7, splitrule=variance, min.node.size=5 \n",
      "+ Fold5: mtry=2, splitrule=variance, min.node.size=5 \n",
      "- Fold5: mtry=2, splitrule=variance, min.node.size=5 \n",
      "+ Fold5: mtry=3, splitrule=variance, min.node.size=5 \n",
      "- Fold5: mtry=3, splitrule=variance, min.node.size=5 \n",
      "+ Fold5: mtry=7, splitrule=variance, min.node.size=5 \n",
      "- Fold5: mtry=7, splitrule=variance, min.node.size=5 \n",
      "Aggregating results\n",
      "Selecting tuning parameters\n",
      "Fitting mtry = 7, splitrule = variance, min.node.size = 5 on full training set\n"
     ]
    },
    {
     "data": {
      "text/plain": [
       "Random Forest \n",
       "\n",
       "100 samples\n",
       " 12 predictor\n",
       "\n",
       "No pre-processing\n",
       "Resampling: Cross-Validated (5 fold) \n",
       "Summary of sample sizes: 81, 79, 80, 80, 80 \n",
       "Resampling results across tuning parameters:\n",
       "\n",
       "  mtry  RMSE       Rsquared   MAE      \n",
       "  2     0.6466191  0.3362868  0.4788620\n",
       "  3     0.6412933  0.3376880  0.4730280\n",
       "  7     0.6337477  0.3427215  0.4692297\n",
       "\n",
       "Tuning parameter 'splitrule' was held constant at a value of variance\n",
       "\n",
       "Tuning parameter 'min.node.size' was held constant at a value of 5\n",
       "RMSE was used to select the optimal model using the smallest value.\n",
       "The final values used for the model were mtry = 7, splitrule = variance\n",
       " and min.node.size = 5."
      ]
     },
     "metadata": {},
     "output_type": "display_data"
    },
    {
     "data": {},
     "metadata": {},
     "output_type": "display_data"
    },
    {
     "data": {
      "image/png": "[encoded data removed]",
      "text/plain": [
       "plot without title"
      ]
     },
     "metadata": {},
     "output_type": "display_data"
    }
   ],
   "source": [
    "#1 From previous step\n",
    "tuneGrid <- data.frame(\n",
    "  .mtry = c(2, 3, 7),\n",
    "  .splitrule = \"variance\",\n",
    "  .min.node.size = 5\n",
    ")\n",
    "\n",
    "#2 Fit random forest: model\n",
    "model <- train(\n",
    "  quality ~ .,\n",
    "  tuneGrid = tuneGrid,\n",
    "  data = wine, \n",
    "  method = \"ranger\",\n",
    "  trControl = trainControl(\n",
    "    method = \"cv\", \n",
    "    number = 5, \n",
    "    verboseIter = TRUE\n",
    "  )\n",
    ")\n",
    "\n",
    "# Print model to console\n",
    "model\n",
    "\n",
    "# Plot model\n",
    "plot(model)"
   ]
  },
  {
   "cell_type": "markdown",
   "metadata": {},
   "source": [
    "### 3.4) (video) Introducing glmnet\n",
    "Now we´ll see one of the best predict models called `glmnet` models are an extension of  generalized linear model (or the `glm` function in R), however, they have built-in variables selection that useful on many real-world datasets in particular, it helps in linear regresion model better handle collinearity (or correlation among predictos in a model) and also help prevent them in being over-condifedent in results derived from smal samples sizes, there are two pimary forms in glmnet models:\n",
    "\n",
    "- lasso regression,which penalizes the number of number of non-zeros coefficients.\n",
    "- ridge regression, which penalizes the absolute magnitud of the coefficients (large coefficients).\n",
    "\n",
    "These penalties are calculated during the model fit, and are used by the optimizer to adjutst the linea regression coefficients in other words a `glmnet` attempts to find a parsimonious model, with either few non-zeros coefficients or small absolute magnitude coefficients, that  best fit the input dataset. this is an extremely useful model, and pairs particulary well with random forests models, as it yield different results.\n",
    "\n",
    "`glmnet` models are a combination of 2 types of models: lasso regression and ridge regression, this gives `glmnet` models many parameters to tune:\n",
    "\n",
    " - the alpha paramter ranges from 0 to , where 0 is pure ridge regression and 1 is pure lasso regression, and any value between is a a mix of the two\n",
    " - lambda on the other hand, ranges from 0 to positive infinity, and controls the size of the penalty, higher values of lambda will yield simplier models and high enough values of lambda will yield intercept-only models that just predict the mean of the response variable in the training data."
   ]
  },
  {
   "cell_type": "code",
   "execution_count": 32,
   "metadata": {},
   "outputs": [
    {
     "data": {
      "text/html": [
       "<table>\n",
       "<thead><tr><th scope=col>y</th><th scope=col>X1</th><th scope=col>X2</th><th scope=col>X3</th><th scope=col>X4</th><th scope=col>X5</th><th scope=col>X6</th><th scope=col>X7</th><th scope=col>X8</th><th scope=col>X9</th><th scope=col>...</th><th scope=col>X191</th><th scope=col>X192</th><th scope=col>X193</th><th scope=col>X194</th><th scope=col>X195</th><th scope=col>X196</th><th scope=col>X197</th><th scope=col>X198</th><th scope=col>X199</th><th scope=col>X200</th></tr></thead>\n",
       "<tbody>\n",
       "\t<tr><td>class2      </td><td>0.9148060   </td><td>0.33423133  </td><td>0.1365052   </td><td>0.24492099  </td><td>0.84829322  </td><td>0.73592037  </td><td>0.05391100  </td><td>0.1651787   </td><td>0.9899656   </td><td>...         </td><td>0.5406514   </td><td>0.7222597   </td><td>0.002576062 </td><td>0.25223405  </td><td>0.5568160   </td><td>0.08803946  </td><td>0.7399642   </td><td>0.3738620   </td><td>0.6715633   </td><td>0.0001012264</td></tr>\n",
       "\t<tr><td>class2      </td><td>0.9370754   </td><td>0.18843433  </td><td>0.1771364   </td><td>0.08763591  </td><td>0.06274633  </td><td>0.75178575  </td><td>0.95509577  </td><td>0.7277811   </td><td>0.4384936   </td><td>...         </td><td>0.1411782   </td><td>0.1310911   </td><td>0.411775569 </td><td>0.52042257  </td><td>0.4986688   </td><td>0.67626884  </td><td>0.9724303   </td><td>0.8393751   </td><td>0.7468173   </td><td>0.8653565315</td></tr>\n",
       "\t<tr><td>class2      </td><td>0.2861395   </td><td>0.26971618  </td><td>0.5195605   </td><td>0.39110850  </td><td>0.81984509  </td><td>0.33261448  </td><td>0.02560094  </td><td>0.2061579   </td><td>0.6999032   </td><td>...         </td><td>0.2106741   </td><td>0.5895710   </td><td>0.891389510 </td><td>0.77904746  </td><td>0.3912340   </td><td>0.09020876  </td><td>0.6599458   </td><td>0.8371015   </td><td>0.9785843   </td><td>0.3703812116</td></tr>\n",
       "\t<tr><td>class1      </td><td>0.8304476   </td><td>0.53074408  </td><td>0.8111208   </td><td>0.18256143  </td><td>0.53936029  </td><td>0.05754862  </td><td>0.92076314  </td><td>0.5864655   </td><td>0.8890770   </td><td>...         </td><td>0.8211162   </td><td>0.5913061   </td><td>0.767070756 </td><td>0.08815411  </td><td>0.8240591   </td><td>0.41487972  </td><td>0.3337511   </td><td>0.5536796   </td><td>0.7041028   </td><td>0.6651317959</td></tr>\n",
       "\t<tr><td>class2      </td><td>0.6417455   </td><td>0.02145023  </td><td>0.1153620   </td><td>0.13362478  </td><td>0.49902010  </td><td>0.67441545  </td><td>0.36666474  </td><td>0.9135460   </td><td>0.8341595   </td><td>...         </td><td>0.8930576   </td><td>0.9879969   </td><td>0.598619170 </td><td>0.60512811  </td><td>0.5665962   </td><td>0.01701286  </td><td>0.2368524   </td><td>0.7016140   </td><td>0.7000800   </td><td>0.3351982590</td></tr>\n",
       "\t<tr><td>class2      </td><td>0.5190959   </td><td>0.79876031  </td><td>0.8934218   </td><td>0.25746291  </td><td>0.02222732  </td><td>0.04157017  </td><td>0.69839255  </td><td>0.2069666   </td><td>0.7344215   </td><td>...         </td><td>0.1698084   </td><td>0.1546299   </td><td>0.127565006 </td><td>0.08847341  </td><td>0.6644925   </td><td>0.96472272  </td><td>0.3598008   </td><td>0.9455406   </td><td>0.2009973   </td><td>0.2989820768</td></tr>\n",
       "</tbody>\n",
       "</table>\n"
      ],
      "text/latex": [
       "\\begin{tabular}{r|lllllllllllllllllllllllllllllllllllllllllllllllllllllllllllllllllllllllllllllllllllllllllllllllllllllllllllllllllllllllllllllllllllllllllllllllllllllllllllllllllllllllllllllllllllllllllllllllllllllllll}\n",
       " y & X1 & X2 & X3 & X4 & X5 & X6 & X7 & X8 & X9 & ... & X191 & X192 & X193 & X194 & X195 & X196 & X197 & X198 & X199 & X200\\\\\n",
       "\\hline\n",
       "\t class2       & 0.9148060    & 0.33423133   & 0.1365052    & 0.24492099   & 0.84829322   & 0.73592037   & 0.05391100   & 0.1651787    & 0.9899656    & ...          & 0.5406514    & 0.7222597    & 0.002576062  & 0.25223405   & 0.5568160    & 0.08803946   & 0.7399642    & 0.3738620    & 0.6715633    & 0.0001012264\\\\\n",
       "\t class2       & 0.9370754    & 0.18843433   & 0.1771364    & 0.08763591   & 0.06274633   & 0.75178575   & 0.95509577   & 0.7277811    & 0.4384936    & ...          & 0.1411782    & 0.1310911    & 0.411775569  & 0.52042257   & 0.4986688    & 0.67626884   & 0.9724303    & 0.8393751    & 0.7468173    & 0.8653565315\\\\\n",
       "\t class2       & 0.2861395    & 0.26971618   & 0.5195605    & 0.39110850   & 0.81984509   & 0.33261448   & 0.02560094   & 0.2061579    & 0.6999032    & ...          & 0.2106741    & 0.5895710    & 0.891389510  & 0.77904746   & 0.3912340    & 0.09020876   & 0.6599458    & 0.8371015    & 0.9785843    & 0.3703812116\\\\\n",
       "\t class1       & 0.8304476    & 0.53074408   & 0.8111208    & 0.18256143   & 0.53936029   & 0.05754862   & 0.92076314   & 0.5864655    & 0.8890770    & ...          & 0.8211162    & 0.5913061    & 0.767070756  & 0.08815411   & 0.8240591    & 0.41487972   & 0.3337511    & 0.5536796    & 0.7041028    & 0.6651317959\\\\\n",
       "\t class2       & 0.6417455    & 0.02145023   & 0.1153620    & 0.13362478   & 0.49902010   & 0.67441545   & 0.36666474   & 0.9135460    & 0.8341595    & ...          & 0.8930576    & 0.9879969    & 0.598619170  & 0.60512811   & 0.5665962    & 0.01701286   & 0.2368524    & 0.7016140    & 0.7000800    & 0.3351982590\\\\\n",
       "\t class2       & 0.5190959    & 0.79876031   & 0.8934218    & 0.25746291   & 0.02222732   & 0.04157017   & 0.69839255   & 0.2069666    & 0.7344215    & ...          & 0.1698084    & 0.1546299    & 0.127565006  & 0.08847341   & 0.6644925    & 0.96472272   & 0.3598008    & 0.9455406    & 0.2009973    & 0.2989820768\\\\\n",
       "\\end{tabular}\n"
      ],
      "text/markdown": [
       "\n",
       "y | X1 | X2 | X3 | X4 | X5 | X6 | X7 | X8 | X9 | ... | X191 | X192 | X193 | X194 | X195 | X196 | X197 | X198 | X199 | X200 | \n",
       "|---|---|---|---|---|---|\n",
       "| class2       | 0.9148060    | 0.33423133   | 0.1365052    | 0.24492099   | 0.84829322   | 0.73592037   | 0.05391100   | 0.1651787    | 0.9899656    | ...          | 0.5406514    | 0.7222597    | 0.002576062  | 0.25223405   | 0.5568160    | 0.08803946   | 0.7399642    | 0.3738620    | 0.6715633    | 0.0001012264 | \n",
       "| class2       | 0.9370754    | 0.18843433   | 0.1771364    | 0.08763591   | 0.06274633   | 0.75178575   | 0.95509577   | 0.7277811    | 0.4384936    | ...          | 0.1411782    | 0.1310911    | 0.411775569  | 0.52042257   | 0.4986688    | 0.67626884   | 0.9724303    | 0.8393751    | 0.7468173    | 0.8653565315 | \n",
       "| class2       | 0.2861395    | 0.26971618   | 0.5195605    | 0.39110850   | 0.81984509   | 0.33261448   | 0.02560094   | 0.2061579    | 0.6999032    | ...          | 0.2106741    | 0.5895710    | 0.891389510  | 0.77904746   | 0.3912340    | 0.09020876   | 0.6599458    | 0.8371015    | 0.9785843    | 0.3703812116 | \n",
       "| class1       | 0.8304476    | 0.53074408   | 0.8111208    | 0.18256143   | 0.53936029   | 0.05754862   | 0.92076314   | 0.5864655    | 0.8890770    | ...          | 0.8211162    | 0.5913061    | 0.767070756  | 0.08815411   | 0.8240591    | 0.41487972   | 0.3337511    | 0.5536796    | 0.7041028    | 0.6651317959 | \n",
       "| class2       | 0.6417455    | 0.02145023   | 0.1153620    | 0.13362478   | 0.49902010   | 0.67441545   | 0.36666474   | 0.9135460    | 0.8341595    | ...          | 0.8930576    | 0.9879969    | 0.598619170  | 0.60512811   | 0.5665962    | 0.01701286   | 0.2368524    | 0.7016140    | 0.7000800    | 0.3351982590 | \n",
       "| class2       | 0.5190959    | 0.79876031   | 0.8934218    | 0.25746291   | 0.02222732   | 0.04157017   | 0.69839255   | 0.2069666    | 0.7344215    | ...          | 0.1698084    | 0.1546299    | 0.127565006  | 0.08847341   | 0.6644925    | 0.96472272   | 0.3598008    | 0.9455406    | 0.2009973    | 0.2989820768 | \n",
       "\n",
       "\n"
      ],
      "text/plain": [
       "  y      X1        X2         X3        X4         X5         X6        \n",
       "1 class2 0.9148060 0.33423133 0.1365052 0.24492099 0.84829322 0.73592037\n",
       "2 class2 0.9370754 0.18843433 0.1771364 0.08763591 0.06274633 0.75178575\n",
       "3 class2 0.2861395 0.26971618 0.5195605 0.39110850 0.81984509 0.33261448\n",
       "4 class1 0.8304476 0.53074408 0.8111208 0.18256143 0.53936029 0.05754862\n",
       "5 class2 0.6417455 0.02145023 0.1153620 0.13362478 0.49902010 0.67441545\n",
       "6 class2 0.5190959 0.79876031 0.8934218 0.25746291 0.02222732 0.04157017\n",
       "  X7         X8        X9        ... X191      X192      X193        X194      \n",
       "1 0.05391100 0.1651787 0.9899656 ... 0.5406514 0.7222597 0.002576062 0.25223405\n",
       "2 0.95509577 0.7277811 0.4384936 ... 0.1411782 0.1310911 0.411775569 0.52042257\n",
       "3 0.02560094 0.2061579 0.6999032 ... 0.2106741 0.5895710 0.891389510 0.77904746\n",
       "4 0.92076314 0.5864655 0.8890770 ... 0.8211162 0.5913061 0.767070756 0.08815411\n",
       "5 0.36666474 0.9135460 0.8341595 ... 0.8930576 0.9879969 0.598619170 0.60512811\n",
       "6 0.69839255 0.2069666 0.7344215 ... 0.1698084 0.1546299 0.127565006 0.08847341\n",
       "  X195      X196       X197      X198      X199      X200        \n",
       "1 0.5568160 0.08803946 0.7399642 0.3738620 0.6715633 0.0001012264\n",
       "2 0.4986688 0.67626884 0.9724303 0.8393751 0.7468173 0.8653565315\n",
       "3 0.3912340 0.09020876 0.6599458 0.8371015 0.9785843 0.3703812116\n",
       "4 0.8240591 0.41487972 0.3337511 0.5536796 0.7041028 0.6651317959\n",
       "5 0.5665962 0.01701286 0.2368524 0.7016140 0.7000800 0.3351982590\n",
       "6 0.6644925 0.96472272 0.3598008 0.9455406 0.2009973 0.2989820768"
      ]
     },
     "metadata": {},
     "output_type": "display_data"
    },
    {
     "name": "stderr",
     "output_type": "stream",
     "text": [
      "Warning message in train.default(x, y, weights = w, ...):\n",
      "\"The metric \"Accuracy\" was not in the result set. ROC will be used instead.\""
     ]
    },
    {
     "name": "stdout",
     "output_type": "stream",
     "text": [
      "+ Fold01: alpha=0.10, lambda=0.01013 \n",
      "- Fold01: alpha=0.10, lambda=0.01013 \n",
      "+ Fold01: alpha=0.55, lambda=0.01013 \n",
      "- Fold01: alpha=0.55, lambda=0.01013 \n",
      "+ Fold01: alpha=1.00, lambda=0.01013 \n",
      "- Fold01: alpha=1.00, lambda=0.01013 \n",
      "+ Fold02: alpha=0.10, lambda=0.01013 \n",
      "- Fold02: alpha=0.10, lambda=0.01013 \n",
      "+ Fold02: alpha=0.55, lambda=0.01013 \n",
      "- Fold02: alpha=0.55, lambda=0.01013 \n",
      "+ Fold02: alpha=1.00, lambda=0.01013 \n",
      "- Fold02: alpha=1.00, lambda=0.01013 \n",
      "+ Fold03: alpha=0.10, lambda=0.01013 \n",
      "- Fold03: alpha=0.10, lambda=0.01013 \n",
      "+ Fold03: alpha=0.55, lambda=0.01013 \n",
      "- Fold03: alpha=0.55, lambda=0.01013 \n",
      "+ Fold03: alpha=1.00, lambda=0.01013 \n",
      "- Fold03: alpha=1.00, lambda=0.01013 \n",
      "+ Fold04: alpha=0.10, lambda=0.01013 \n",
      "- Fold04: alpha=0.10, lambda=0.01013 \n",
      "+ Fold04: alpha=0.55, lambda=0.01013 \n",
      "- Fold04: alpha=0.55, lambda=0.01013 \n",
      "+ Fold04: alpha=1.00, lambda=0.01013 \n",
      "- Fold04: alpha=1.00, lambda=0.01013 \n",
      "+ Fold05: alpha=0.10, lambda=0.01013 \n",
      "- Fold05: alpha=0.10, lambda=0.01013 \n",
      "+ Fold05: alpha=0.55, lambda=0.01013 \n",
      "- Fold05: alpha=0.55, lambda=0.01013 \n",
      "+ Fold05: alpha=1.00, lambda=0.01013 \n",
      "- Fold05: alpha=1.00, lambda=0.01013 \n",
      "+ Fold06: alpha=0.10, lambda=0.01013 \n",
      "- Fold06: alpha=0.10, lambda=0.01013 \n",
      "+ Fold06: alpha=0.55, lambda=0.01013 \n",
      "- Fold06: alpha=0.55, lambda=0.01013 \n",
      "+ Fold06: alpha=1.00, lambda=0.01013 \n",
      "- Fold06: alpha=1.00, lambda=0.01013 \n",
      "+ Fold07: alpha=0.10, lambda=0.01013 \n",
      "- Fold07: alpha=0.10, lambda=0.01013 \n",
      "+ Fold07: alpha=0.55, lambda=0.01013 \n",
      "- Fold07: alpha=0.55, lambda=0.01013 \n",
      "+ Fold07: alpha=1.00, lambda=0.01013 \n",
      "- Fold07: alpha=1.00, lambda=0.01013 \n",
      "+ Fold08: alpha=0.10, lambda=0.01013 \n",
      "- Fold08: alpha=0.10, lambda=0.01013 \n",
      "+ Fold08: alpha=0.55, lambda=0.01013 \n",
      "- Fold08: alpha=0.55, lambda=0.01013 \n",
      "+ Fold08: alpha=1.00, lambda=0.01013 \n",
      "- Fold08: alpha=1.00, lambda=0.01013 \n",
      "+ Fold09: alpha=0.10, lambda=0.01013 \n",
      "- Fold09: alpha=0.10, lambda=0.01013 \n",
      "+ Fold09: alpha=0.55, lambda=0.01013 \n",
      "- Fold09: alpha=0.55, lambda=0.01013 \n",
      "+ Fold09: alpha=1.00, lambda=0.01013 \n",
      "- Fold09: alpha=1.00, lambda=0.01013 \n",
      "+ Fold10: alpha=0.10, lambda=0.01013 \n",
      "- Fold10: alpha=0.10, lambda=0.01013 \n",
      "+ Fold10: alpha=0.55, lambda=0.01013 \n",
      "- Fold10: alpha=0.55, lambda=0.01013 \n",
      "+ Fold10: alpha=1.00, lambda=0.01013 \n",
      "- Fold10: alpha=1.00, lambda=0.01013 \n",
      "Aggregating results\n",
      "Selecting tuning parameters\n",
      "Fitting alpha = 0.1, lambda = 0.0101 on full training set\n"
     ]
    },
    {
     "data": {},
     "metadata": {},
     "output_type": "display_data"
    },
    {
     "data": {
      "image/png": "[encoded data removed]",
      "text/plain": [
       "plot without title"
      ]
     },
     "metadata": {},
     "output_type": "display_data"
    }
   ],
   "source": [
    "head(overfit)\n",
    "\n",
    "#make a custome trainControl\n",
    "myControl<- trainControl(\n",
    "method = \"cv\",\n",
    "    number = 10,\n",
    "    summaryFunction = twoClassSummary,\n",
    "    classProbs = TRUE, #super important!\n",
    "    verboseIter = TRUE\n",
    ")\n",
    "\n",
    "# fit a model\n",
    "\n",
    "set.seed(42)\n",
    "model <- train (\n",
    "    y ~ .,\n",
    "    overfit,\n",
    "    method = \"glmnet\",\n",
    "    trControl = myControl\n",
    ")\n",
    "\n",
    "plot(model)"
   ]
  },
  {
   "cell_type": "markdown",
   "metadata": {},
   "source": [
    "#### 3.4.1) Advantage of glmnet\n",
    "What's the advantage of glmnet over regular glm models?\n",
    "models place constraints on your coefficients, which helps prevent overfitting\n",
    "\n",
    "#### 3.4.2) Make a custom trainControl\n",
    "The wine quality dataset was a regression problem, but now you are looking at a classification problem. This is a simulated dataset based on the \"don't overfit\" competition on Kaggle a number of years ago.\n",
    "\n",
    "Classification problems are a little more complicated than regression problems because you have to provide a custom `summaryFunction` to the `train()` function to use the `AUC` metric to rank your models. Start by making a custom `trainControl`, as you did in the previous chapter. Be sure to set `classProbs = TRUE`, otherwise the `twoClassSummary` for `summaryFunction` will break.\n",
    "\n",
    "**Exercise**\n",
    "\n",
    "Make a custom trainControl called myControl for classification using the trainControl function.\n",
    "\n",
    "- Use 10 CV folds.\n",
    "- Use twoClassSummary for the summaryFunction.\n",
    "- Be sure to set classProbs = TRUE."
   ]
  },
  {
   "cell_type": "code",
   "execution_count": 33,
   "metadata": {},
   "outputs": [],
   "source": [
    "# Create custom trainControl: myControl\n",
    "myControl <- trainControl(\n",
    "  method = \"cv\", \n",
    "  number = 10,\n",
    "  summaryFunction = twoClassSummary,\n",
    "  classProbs = TRUE, # IMPORTANT!\n",
    "  verboseIter = TRUE\n",
    ")"
   ]
  },
  {
   "cell_type": "markdown",
   "metadata": {},
   "source": [
    "#### 3.4.3) Fit glmnet with custom trainControl\n",
    "Now that you have a custom `trainControl` object, fit a `glmnet` model to the \"don't overfit\" dataset. Recall from the video that `glmnet` is an extension of the generalized linear regression model (or `glm`) that places constraints on the magnitude of the coefficients to prevent overfitting. This is more commonly known as \"penalized\" regression modeling and is a very useful technique on datasets with many predictors and few values.\n",
    "\n",
    "`glmnet` is capable of fitting two different kinds of penalized models, controlled by the alpha parameter:\n",
    "\n",
    "    Ridge regression (or alpha = 0)\n",
    "    Lasso regression (or alpha = 1)\n",
    "\n",
    "You'll now fit a `glmnet` model to the \"don't overfit\" dataset using the defaults provided by the caret package.\n",
    "\n",
    "**Exercise**\n",
    "- Train a `glmnet` model called `model` on the overfit data. Use the custom `trainControl` from the previous exercise (myControl). The variable `y` is the response variable and all other variables are explanatory variables.\n",
    "- Print the model to the console.\n",
    "- Use the `max()` function to find the maximum of the ROC statistic contained somewhere in `model[[\"results\"]]`."
   ]
  },
  {
   "cell_type": "code",
   "execution_count": 34,
   "metadata": {},
   "outputs": [
    {
     "name": "stderr",
     "output_type": "stream",
     "text": [
      "Warning message in train.default(x, y, weights = w, ...):\n",
      "\"The metric \"Accuracy\" was not in the result set. ROC will be used instead.\""
     ]
    },
    {
     "name": "stdout",
     "output_type": "stream",
     "text": [
      "+ Fold01: alpha=0.10, lambda=0.01013 \n",
      "- Fold01: alpha=0.10, lambda=0.01013 \n",
      "+ Fold01: alpha=0.55, lambda=0.01013 \n",
      "- Fold01: alpha=0.55, lambda=0.01013 \n",
      "+ Fold01: alpha=1.00, lambda=0.01013 \n",
      "- Fold01: alpha=1.00, lambda=0.01013 \n",
      "+ Fold02: alpha=0.10, lambda=0.01013 \n",
      "- Fold02: alpha=0.10, lambda=0.01013 \n",
      "+ Fold02: alpha=0.55, lambda=0.01013 \n",
      "- Fold02: alpha=0.55, lambda=0.01013 \n",
      "+ Fold02: alpha=1.00, lambda=0.01013 \n",
      "- Fold02: alpha=1.00, lambda=0.01013 \n",
      "+ Fold03: alpha=0.10, lambda=0.01013 \n",
      "- Fold03: alpha=0.10, lambda=0.01013 \n",
      "+ Fold03: alpha=0.55, lambda=0.01013 \n",
      "- Fold03: alpha=0.55, lambda=0.01013 \n",
      "+ Fold03: alpha=1.00, lambda=0.01013 \n",
      "- Fold03: alpha=1.00, lambda=0.01013 \n",
      "+ Fold04: alpha=0.10, lambda=0.01013 \n",
      "- Fold04: alpha=0.10, lambda=0.01013 \n",
      "+ Fold04: alpha=0.55, lambda=0.01013 \n",
      "- Fold04: alpha=0.55, lambda=0.01013 \n",
      "+ Fold04: alpha=1.00, lambda=0.01013 \n",
      "- Fold04: alpha=1.00, lambda=0.01013 \n",
      "+ Fold05: alpha=0.10, lambda=0.01013 \n",
      "- Fold05: alpha=0.10, lambda=0.01013 \n",
      "+ Fold05: alpha=0.55, lambda=0.01013 \n",
      "- Fold05: alpha=0.55, lambda=0.01013 \n",
      "+ Fold05: alpha=1.00, lambda=0.01013 \n",
      "- Fold05: alpha=1.00, lambda=0.01013 \n",
      "+ Fold06: alpha=0.10, lambda=0.01013 \n",
      "- Fold06: alpha=0.10, lambda=0.01013 \n",
      "+ Fold06: alpha=0.55, lambda=0.01013 \n",
      "- Fold06: alpha=0.55, lambda=0.01013 \n",
      "+ Fold06: alpha=1.00, lambda=0.01013 \n",
      "- Fold06: alpha=1.00, lambda=0.01013 \n",
      "+ Fold07: alpha=0.10, lambda=0.01013 \n",
      "- Fold07: alpha=0.10, lambda=0.01013 \n",
      "+ Fold07: alpha=0.55, lambda=0.01013 \n",
      "- Fold07: alpha=0.55, lambda=0.01013 \n",
      "+ Fold07: alpha=1.00, lambda=0.01013 \n",
      "- Fold07: alpha=1.00, lambda=0.01013 \n",
      "+ Fold08: alpha=0.10, lambda=0.01013 \n",
      "- Fold08: alpha=0.10, lambda=0.01013 \n",
      "+ Fold08: alpha=0.55, lambda=0.01013 \n",
      "- Fold08: alpha=0.55, lambda=0.01013 \n",
      "+ Fold08: alpha=1.00, lambda=0.01013 \n",
      "- Fold08: alpha=1.00, lambda=0.01013 \n",
      "+ Fold09: alpha=0.10, lambda=0.01013 \n",
      "- Fold09: alpha=0.10, lambda=0.01013 \n",
      "+ Fold09: alpha=0.55, lambda=0.01013 \n",
      "- Fold09: alpha=0.55, lambda=0.01013 \n",
      "+ Fold09: alpha=1.00, lambda=0.01013 \n",
      "- Fold09: alpha=1.00, lambda=0.01013 \n",
      "+ Fold10: alpha=0.10, lambda=0.01013 \n",
      "- Fold10: alpha=0.10, lambda=0.01013 \n",
      "+ Fold10: alpha=0.55, lambda=0.01013 \n",
      "- Fold10: alpha=0.55, lambda=0.01013 \n",
      "+ Fold10: alpha=1.00, lambda=0.01013 \n",
      "- Fold10: alpha=1.00, lambda=0.01013 \n",
      "Aggregating results\n",
      "Selecting tuning parameters\n",
      "Fitting alpha = 0.55, lambda = 0.0101 on full training set\n"
     ]
    },
    {
     "data": {
      "text/plain": [
       "glmnet \n",
       "\n",
       "250 samples\n",
       "200 predictors\n",
       "  2 classes: 'class1', 'class2' \n",
       "\n",
       "No pre-processing\n",
       "Resampling: Cross-Validated (10 fold) \n",
       "Summary of sample sizes: 226, 225, 224, 225, 225, 225, ... \n",
       "Resampling results across tuning parameters:\n",
       "\n",
       "  alpha  lambda        ROC        Sens  Spec     \n",
       "  0.10   0.0001012745  0.4172101  0.00  0.9742754\n",
       "  0.10   0.0010127448  0.4299819  0.00  0.9786232\n",
       "  0.10   0.0101274483  0.4361413  0.00  0.9956522\n",
       "  0.55   0.0001012745  0.4148551  0.05  0.9445652\n",
       "  0.55   0.0010127448  0.4191123  0.05  0.9617754\n",
       "  0.55   0.0101274483  0.4596014  0.00  0.9873188\n",
       "  1.00   0.0001012745  0.3730072  0.05  0.9315217\n",
       "  1.00   0.0010127448  0.3663043  0.00  0.9487319\n",
       "  1.00   0.0101274483  0.4227355  0.00  0.9914855\n",
       "\n",
       "ROC was used to select the optimal model using the largest value.\n",
       "The final values used for the model were alpha = 0.55 and lambda = 0.01012745."
      ]
     },
     "metadata": {},
     "output_type": "display_data"
    },
    {
     "data": {
      "text/html": [
       "0.459601449275362"
      ],
      "text/latex": [
       "0.459601449275362"
      ],
      "text/markdown": [
       "0.459601449275362"
      ],
      "text/plain": [
       "[1] 0.4596014"
      ]
     },
     "metadata": {},
     "output_type": "display_data"
    }
   ],
   "source": [
    "\n",
    "# Fit glmnet model: model\n",
    "model <- train(\n",
    "  y ~ ., \n",
    "  overfit,\n",
    "  method = \"glmnet\",\n",
    "  trControl = myControl\n",
    ")\n",
    "\n",
    "# Print model to console\n",
    "model\n",
    "\n",
    "# Print maximum ROC statistic\n",
    "max(model[[\"results\"]][[\"ROC\"]])"
   ]
  },
  {
   "cell_type": "markdown",
   "metadata": {},
   "source": [
    "### 3.5) (video) glmnet with custom tuning grid\n",
    "\n",
    "\n",
    "Random forest models are relatively easy to tune since has really one parameter important `mtry` glmnet models in other hand have two tuning parameter:\n",
    "- alpha or the mixed parameter between `lasso` and `ridge` regresion\n",
    "- lambda or the strength of the penalty on coefficients.\n",
    "\n",
    "However there is trick to `glmnet` models for a single value at alpha `glmnet` fit all values in lambda simultaneously this is called submodel-trick because we can fit a number differents models simultaneously and explore results each sub-model after the fact.\n",
    "\n",
    "We can also explore this trick to get faster running great searches while still exploring final great tuning grid.\n",
    "\n",
    "with `glmnet` models are usually like to explore two values of alpha 0 and 1 with a weight range of lambda, `caret` will use this sub-model trick to colect entire tuning grid down to tune two models fits which run pretty fast even 10 folder of cross validation."
   ]
  },
  {
   "cell_type": "code",
   "execution_count": 35,
   "metadata": {},
   "outputs": [
    {
     "name": "stderr",
     "output_type": "stream",
     "text": [
      "Warning message in train.default(x, y, weights = w, ...):\n",
      "\"The metric \"Accuracy\" was not in the result set. ROC will be used instead.\""
     ]
    },
    {
     "name": "stdout",
     "output_type": "stream",
     "text": [
      "+ Fold01: alpha=0, lambda=1 \n",
      "- Fold01: alpha=0, lambda=1 \n",
      "+ Fold01: alpha=1, lambda=1 \n",
      "- Fold01: alpha=1, lambda=1 \n",
      "+ Fold02: alpha=0, lambda=1 \n",
      "- Fold02: alpha=0, lambda=1 \n",
      "+ Fold02: alpha=1, lambda=1 \n",
      "- Fold02: alpha=1, lambda=1 \n",
      "+ Fold03: alpha=0, lambda=1 \n",
      "- Fold03: alpha=0, lambda=1 \n",
      "+ Fold03: alpha=1, lambda=1 \n",
      "- Fold03: alpha=1, lambda=1 \n",
      "+ Fold04: alpha=0, lambda=1 \n",
      "- Fold04: alpha=0, lambda=1 \n",
      "+ Fold04: alpha=1, lambda=1 \n",
      "- Fold04: alpha=1, lambda=1 \n",
      "+ Fold05: alpha=0, lambda=1 \n",
      "- Fold05: alpha=0, lambda=1 \n",
      "+ Fold05: alpha=1, lambda=1 \n",
      "- Fold05: alpha=1, lambda=1 \n",
      "+ Fold06: alpha=0, lambda=1 \n",
      "- Fold06: alpha=0, lambda=1 \n",
      "+ Fold06: alpha=1, lambda=1 \n",
      "- Fold06: alpha=1, lambda=1 \n",
      "+ Fold07: alpha=0, lambda=1 \n",
      "- Fold07: alpha=0, lambda=1 \n",
      "+ Fold07: alpha=1, lambda=1 \n",
      "- Fold07: alpha=1, lambda=1 \n",
      "+ Fold08: alpha=0, lambda=1 \n",
      "- Fold08: alpha=0, lambda=1 \n",
      "+ Fold08: alpha=1, lambda=1 \n",
      "- Fold08: alpha=1, lambda=1 \n",
      "+ Fold09: alpha=0, lambda=1 \n",
      "- Fold09: alpha=0, lambda=1 \n",
      "+ Fold09: alpha=1, lambda=1 \n",
      "- Fold09: alpha=1, lambda=1 \n",
      "+ Fold10: alpha=0, lambda=1 \n",
      "- Fold10: alpha=0, lambda=1 \n",
      "+ Fold10: alpha=1, lambda=1 \n",
      "- Fold10: alpha=1, lambda=1 \n",
      "Aggregating results\n",
      "Selecting tuning parameters\n",
      "Fitting alpha = 1, lambda = 1 on full training set\n"
     ]
    },
    {
     "data": {},
     "metadata": {},
     "output_type": "display_data"
    },
    {
     "data": {
      "image/png": "[encoded data removed]",
      "text/plain": [
       "plot without title"
      ]
     },
     "metadata": {},
     "output_type": "display_data"
    },
    {
     "data": {
      "image/png": "[encoded data removed]",
      "text/plain": [
       "plot without title"
      ]
     },
     "metadata": {},
     "output_type": "display_data"
    }
   ],
   "source": [
    "# we start making a custome tuning grid \n",
    "myGrid <- expand.grid(\n",
    "alpha = 0:1,\n",
    "    lambda = seq(.0001, 1, length = 10)\n",
    ")\n",
    "\n",
    "#after that we fit our model\n",
    "\n",
    "set.seed(42)\n",
    "\n",
    "model<- train(\n",
    "y ~ .,\n",
    "    overfit,\n",
    "    method = \"glmnet\",\n",
    "    tuneGrid = myGrid,\n",
    "    trControl = myControl\n",
    ")\n",
    "\n",
    "plot(model)\n",
    "plot(model$finalModel)"
   ]
  },
  {
   "cell_type": "markdown",
   "metadata": {},
   "source": [
    "#### 3.5.1) Exercise\n",
    "Why use a custom tuning grid for a glmnet model?\n",
    "With a custom grid you can deeply explore machine learning models in caret.\n",
    "\n",
    "#### glmnet with custom trainControl and tuning\n",
    "As you saw in the video, the `glmnet` model actually fits many models at once (one of the great things about the package). You can exploit this by passing a large number of `lambda` values, which control the amount of penalization in the model. `train()` is smart enough to only fit one model per `alpha` value and pass all of the `lambda` values at once for simultaneous fitting.\n",
    "\n",
    "My favorite tuning grid for `glmnet` models is:\n",
    "\n",
    "    expand.grid(\n",
    "      alpha = 0:1,\n",
    "      lambda = seq(0.0001, 1, length = 100)\n",
    "    )\n",
    "    \n",
    "This grid explores a large number of `lambda` values (100, in fact), from a very small one to a very large one. (You could increase the maximum `lambda` to 10, but in this exercise 1 is a good upper bound.)\n",
    "\n",
    "If you want to explore fewer models, you can use a shorter lambda sequence. For example, `lambda = seq(0.0001, 1, length = 10)` would fit 10 models per value of alpha.\n",
    "\n",
    "You also look at the two forms of penalized models with this `tuneGrid`: `ridge` regression and `lasso` regression. `alpha = 0` is pure ridge regression, and `alpha = 1` is pure lasso regression. You can fit a mixture of the two models (i.e. an elastic net) using an alpha between 0 and 1. For example, alpha = 0.05 would be 95% ridge regression and 5% lasso regression.\n",
    "\n",
    "In this problem you'll just explore the 2 extremes – pure ridge and pure lasso regression – for the purpose of illustrating their differences.\n",
    "\n",
    "**Exercise**\n",
    "- Train a `glmnet` model on the `overfit` data such that `y` is the response variable and all other variables are explanatory variables. Make sure to use your custom `trainControl` from the previous exercise (`myControl`). Also, use a custom `tuneGrid` to explore `alpha = 0:1` and 20 values of `lambda` between 0.0001 and 1 per value of alpha.\n",
    "- Print `model` to the console.\n",
    "- Print the `max()` of the `ROC` statistic in `model[[\"results\"]]`. You can access it using `model[[\"results\"]][[\"ROC\"]]`.\n",
    "\n",
    "*Answer*"
   ]
  },
  {
   "cell_type": "code",
   "execution_count": 36,
   "metadata": {},
   "outputs": [
    {
     "name": "stderr",
     "output_type": "stream",
     "text": [
      "Warning message in train.default(x, y, weights = w, ...):\n",
      "\"The metric \"Accuracy\" was not in the result set. ROC will be used instead.\""
     ]
    },
    {
     "name": "stdout",
     "output_type": "stream",
     "text": [
      "+ Fold01: alpha=0, lambda=1 \n",
      "- Fold01: alpha=0, lambda=1 \n",
      "+ Fold01: alpha=1, lambda=1 \n",
      "- Fold01: alpha=1, lambda=1 \n",
      "+ Fold02: alpha=0, lambda=1 \n",
      "- Fold02: alpha=0, lambda=1 \n",
      "+ Fold02: alpha=1, lambda=1 \n",
      "- Fold02: alpha=1, lambda=1 \n",
      "+ Fold03: alpha=0, lambda=1 \n",
      "- Fold03: alpha=0, lambda=1 \n",
      "+ Fold03: alpha=1, lambda=1 \n",
      "- Fold03: alpha=1, lambda=1 \n",
      "+ Fold04: alpha=0, lambda=1 \n",
      "- Fold04: alpha=0, lambda=1 \n",
      "+ Fold04: alpha=1, lambda=1 \n",
      "- Fold04: alpha=1, lambda=1 \n",
      "+ Fold05: alpha=0, lambda=1 \n",
      "- Fold05: alpha=0, lambda=1 \n",
      "+ Fold05: alpha=1, lambda=1 \n",
      "- Fold05: alpha=1, lambda=1 \n",
      "+ Fold06: alpha=0, lambda=1 \n",
      "- Fold06: alpha=0, lambda=1 \n",
      "+ Fold06: alpha=1, lambda=1 \n",
      "- Fold06: alpha=1, lambda=1 \n",
      "+ Fold07: alpha=0, lambda=1 \n",
      "- Fold07: alpha=0, lambda=1 \n",
      "+ Fold07: alpha=1, lambda=1 \n",
      "- Fold07: alpha=1, lambda=1 \n",
      "+ Fold08: alpha=0, lambda=1 \n",
      "- Fold08: alpha=0, lambda=1 \n",
      "+ Fold08: alpha=1, lambda=1 \n",
      "- Fold08: alpha=1, lambda=1 \n",
      "+ Fold09: alpha=0, lambda=1 \n",
      "- Fold09: alpha=0, lambda=1 \n",
      "+ Fold09: alpha=1, lambda=1 \n",
      "- Fold09: alpha=1, lambda=1 \n",
      "+ Fold10: alpha=0, lambda=1 \n",
      "- Fold10: alpha=0, lambda=1 \n",
      "+ Fold10: alpha=1, lambda=1 \n",
      "- Fold10: alpha=1, lambda=1 \n",
      "Aggregating results\n",
      "Selecting tuning parameters\n",
      "Fitting alpha = 1, lambda = 0.0527 on full training set\n"
     ]
    },
    {
     "data": {
      "text/plain": [
       "glmnet \n",
       "\n",
       "250 samples\n",
       "200 predictors\n",
       "  2 classes: 'class1', 'class2' \n",
       "\n",
       "No pre-processing\n",
       "Resampling: Cross-Validated (10 fold) \n",
       "Summary of sample sizes: 225, 226, 225, 225, 226, 225, ... \n",
       "Resampling results across tuning parameters:\n",
       "\n",
       "  alpha  lambda      ROC        Sens  Spec     \n",
       "  0      0.00010000  0.4199275  0     0.9871377\n",
       "  0      0.05272632  0.4412138  0     0.9956522\n",
       "  0      0.10535263  0.4560688  0     1.0000000\n",
       "  0      0.15797895  0.4580616  0     1.0000000\n",
       "  0      0.21060526  0.4622283  0     1.0000000\n",
       "  0      0.26323158  0.4623188  0     1.0000000\n",
       "  0      0.31585789  0.4666667  0     1.0000000\n",
       "  0      0.36848421  0.4708333  0     1.0000000\n",
       "  0      0.42111053  0.4708333  0     1.0000000\n",
       "  0      0.47373684  0.4751812  0     1.0000000\n",
       "  0      0.52636316  0.4773551  0     1.0000000\n",
       "  0      0.57898947  0.4773551  0     1.0000000\n",
       "  0      0.63161579  0.4794384  0     1.0000000\n",
       "  0      0.68424211  0.4903080  0     1.0000000\n",
       "  0      0.73686842  0.4903080  0     1.0000000\n",
       "  0      0.78949474  0.4924819  0     1.0000000\n",
       "  0      0.84212105  0.4924819  0     1.0000000\n",
       "  0      0.89474737  0.4924819  0     1.0000000\n",
       "  0      0.94737368  0.4924819  0     1.0000000\n",
       "  0      1.00000000  0.4924819  0     1.0000000\n",
       "  1      0.00010000  0.4460145  0     0.9442029\n",
       "  1      0.05272632  0.5210145  0     1.0000000\n",
       "  1      0.10535263  0.5000000  0     1.0000000\n",
       "  1      0.15797895  0.5000000  0     1.0000000\n",
       "  1      0.21060526  0.5000000  0     1.0000000\n",
       "  1      0.26323158  0.5000000  0     1.0000000\n",
       "  1      0.31585789  0.5000000  0     1.0000000\n",
       "  1      0.36848421  0.5000000  0     1.0000000\n",
       "  1      0.42111053  0.5000000  0     1.0000000\n",
       "  1      0.47373684  0.5000000  0     1.0000000\n",
       "  1      0.52636316  0.5000000  0     1.0000000\n",
       "  1      0.57898947  0.5000000  0     1.0000000\n",
       "  1      0.63161579  0.5000000  0     1.0000000\n",
       "  1      0.68424211  0.5000000  0     1.0000000\n",
       "  1      0.73686842  0.5000000  0     1.0000000\n",
       "  1      0.78949474  0.5000000  0     1.0000000\n",
       "  1      0.84212105  0.5000000  0     1.0000000\n",
       "  1      0.89474737  0.5000000  0     1.0000000\n",
       "  1      0.94737368  0.5000000  0     1.0000000\n",
       "  1      1.00000000  0.5000000  0     1.0000000\n",
       "\n",
       "ROC was used to select the optimal model using the largest value.\n",
       "The final values used for the model were alpha = 1 and lambda = 0.05272632."
      ]
     },
     "metadata": {},
     "output_type": "display_data"
    },
    {
     "data": {
      "text/html": [
       "0.521014492753623"
      ],
      "text/latex": [
       "0.521014492753623"
      ],
      "text/markdown": [
       "0.521014492753623"
      ],
      "text/plain": [
       "[1] 0.5210145"
      ]
     },
     "metadata": {},
     "output_type": "display_data"
    }
   ],
   "source": [
    "myControl <- trainControl(\n",
    "  method = \"cv\", \n",
    "  number = 10,\n",
    "  summaryFunction = twoClassSummary,\n",
    "  classProbs = TRUE, # IMPORTANT!\n",
    "  verboseIter = TRUE\n",
    ")\n",
    "\n",
    "\n",
    "#Anwears\n",
    "# Train glmnet with custom trainControl and tuning: model\n",
    "model <- train(\n",
    "  y ~ ., \n",
    "  overfit,\n",
    "  tuneGrid = expand.grid(\n",
    "  alpha = 0:1,\n",
    "  lambda = seq(.0001, 1, length = 20)\n",
    "    ),\n",
    "  method = \"glmnet\",\n",
    "  trControl = myControl\n",
    ")\n",
    "\n",
    "# Print model to console\n",
    "model\n",
    "\n",
    "# Print maximum ROC statistic\n",
    "max(model[[\"results\"]][[\"ROC\"]])"
   ]
  },
  {
   "cell_type": "markdown",
   "metadata": {},
   "source": [
    "## 4) Preprocessing your data\n",
    "In this chapter, you will practice using `train()` to preprocess data before fitting models, improving your ability to making accurate predictions.\n",
    "\n",
    "### 4.1) (video) Median imputation\n",
    "real world data have missing values this is a problem for most statistical or machine learning algorithm they usually require numbers to work and don´t know what to do with missing data a common approaches is throw out rows with missing values but in generally not a good idea , it can lead to biases in your dataset and generete over-confident models, it can also, in extrame cases lead to you throwing out all of your data, a much better strategy is to use the `median` to guess what a missing value would be, if it weren´t missing  this is very good idea if your data are `missing at random` and lets you model data that include rows with missing values.\n",
    "\n",
    "so let´s make an example: hear we´ll take our dataset called `mtcars` and we´ll changes some values with `NA` values after that we split our data set and try to fit our model, but unfortunately it´s show us an error, the simple solution to this problem i to pass `medianImpute` the `preProcess` argument for train, which tells caret to impute the missing values in X with their medians.\n",
    "\n",
    "this way it´s no necessary clean our data or reprocess the information. \n"
   ]
  },
  {
   "cell_type": "code",
   "execution_count": 37,
   "metadata": {},
   "outputs": [
    {
     "name": "stdout",
     "output_type": "stream",
     "text": [
      "note: only 2 unique complexity parameters in default grid. Truncating the grid to 2 .\n",
      "\n"
     ]
    },
    {
     "data": {
      "text/plain": [
       "Random Forest \n",
       "\n",
       "32 samples\n",
       " 3 predictor\n",
       "\n",
       "Pre-processing: median imputation (3) \n",
       "Resampling: Bootstrapped (25 reps) \n",
       "Summary of sample sizes: 32, 32, 32, 32, 32, 32, ... \n",
       "Resampling results across tuning parameters:\n",
       "\n",
       "  mtry  RMSE      Rsquared   MAE     \n",
       "  2     2.629862  0.8234310  2.200327\n",
       "  3     2.615883  0.8267228  2.179490\n",
       "\n",
       "RMSE was used to select the optimal model using the smallest value.\n",
       "The final value used for the model was mtry = 3."
      ]
     },
     "metadata": {},
     "output_type": "display_data"
    }
   ],
   "source": [
    "#Generete some data with missing values \n",
    "data(mtcars)\n",
    "set.seed(42)\n",
    "mtcars2<-mtcars\n",
    "mtcars2[sample(1:nrow(mtcars2),10),\"hp\"]<-NA\n",
    "\n",
    "#split target from predictors \n",
    "Y<-mtcars2$mpg\n",
    "X<-mtcars2[,2:4]\n",
    "\n",
    "#try to fit a caret model\n",
    "library(caret)\n",
    "model<-train(X, Y, preProcess = \"medianImpute\")\n",
    "model\n"
   ]
  },
  {
   "cell_type": "markdown",
   "metadata": {},
   "source": [
    "#### 4.1.1) Apply median imputation\n",
    "In this chapter, you'll be using a version of the Wisconsin Breast Cancer dataset. This dataset presents a classic binary classification problem: 50% of the samples are benign, 50% are malignant, and the challenge is to identify which are which.\n",
    "\n",
    "This dataset is interesting because many of the predictors contain missing values and most rows of the dataset have at least one missing value. This presents a modeling challenge, because most machine learning algorithms cannot handle missing values out of the box. For example, your first instinct might be to fit a logistic regression model to this data, but prior to doing this you need a strategy for handling the NAs.\n",
    "\n",
    "Fortunately, the `train()` function in `caret` contains an argument called `preProcess`, which allows you to specify that `median imputation` should be used to fill in the missing values. In previous chapters, you created models with the `train()` function using formulas such as `y ~ .`. An alternative way is to specify the `x` and `y` arguments to `train()`, where `x` is an object with samples in rows and features in columns and `y` is a numeric or factor vector containing the outcomes. Said differently, `x` is a matrix or data frame that contains the whole dataset you'd use for the data argument to the `lm()` call, for example, but excludes the response variable column; `y` is a vector that contains just the response variable column.\n",
    "\n",
    "For this exercise, the argument `x` to `train()` is loaded in your workspace as `breast_cancer_x` and `y` as `breast_cancer_y`.\n",
    "\n",
    "**Exercise**\n",
    "\n",
    "- Use the train() function to fit a glm model called median_model to the breast cancer dataset. Use preProcess = \"medianImpute\" to handle the missing values.\n",
    "- Print median_model to the console.\n",
    "\n",
    "*Answer*"
   ]
  },
  {
   "cell_type": "code",
   "execution_count": 38,
   "metadata": {},
   "outputs": [
    {
     "name": "stderr",
     "output_type": "stream",
     "text": [
      "Warning message in train.default(x = breast_cancer_x, y = breast_cancer_y, method = \"glm\", :\n",
      "\"The metric \"Accuracy\" was not in the result set. ROC will be used instead.\""
     ]
    },
    {
     "name": "stdout",
     "output_type": "stream",
     "text": [
      "+ Fold01: parameter=none \n",
      "- Fold01: parameter=none \n",
      "+ Fold02: parameter=none \n",
      "- Fold02: parameter=none \n",
      "+ Fold03: parameter=none \n",
      "- Fold03: parameter=none \n",
      "+ Fold04: parameter=none \n",
      "- Fold04: parameter=none \n",
      "+ Fold05: parameter=none \n",
      "- Fold05: parameter=none \n",
      "+ Fold06: parameter=none \n",
      "- Fold06: parameter=none \n",
      "+ Fold07: parameter=none \n",
      "- Fold07: parameter=none \n",
      "+ Fold08: parameter=none \n",
      "- Fold08: parameter=none \n",
      "+ Fold09: parameter=none \n",
      "- Fold09: parameter=none \n",
      "+ Fold10: parameter=none \n",
      "- Fold10: parameter=none \n",
      "Aggregating results\n",
      "Fitting final model on full training set\n"
     ]
    },
    {
     "data": {
      "text/plain": [
       "Generalized Linear Model \n",
       "\n",
       "699 samples\n",
       "  9 predictor\n",
       "  2 classes: 'benign', 'malignant' \n",
       "\n",
       "Pre-processing: median imputation (9) \n",
       "Resampling: Cross-Validated (10 fold) \n",
       "Summary of sample sizes: 629, 628, 630, 629, 629, 630, ... \n",
       "Resampling results:\n",
       "\n",
       "  ROC        Sens       Spec \n",
       "  0.9920564  0.9695169  0.942\n"
      ]
     },
     "metadata": {},
     "output_type": "display_data"
    }
   ],
   "source": [
    "myControl <- trainControl(\n",
    "  method = \"cv\", \n",
    "  number = 10,\n",
    "  summaryFunction = twoClassSummary,\n",
    "  classProbs = TRUE, # IMPORTANT!\n",
    "  verboseIter = TRUE\n",
    ")\n",
    "\n",
    "#avalible in cancer\n",
    "#breast_cancer_x\n",
    "#breast_cancer_y\n",
    "\n",
    "\n",
    "# Apply median imputation: median_model\n",
    "median_model <- train(\n",
    "  x = breast_cancer_x, \n",
    "  y = breast_cancer_y,\n",
    "  method = \"glm\",\n",
    "  trControl = myControl,\n",
    "  preProcess = \"medianImpute\"\n",
    ")\n",
    "\n",
    "# Print median_model to console\n",
    "median_model"
   ]
  },
  {
   "cell_type": "markdown",
   "metadata": {},
   "source": [
    "### 3.2 (video) KNN imputation\n",
    "There´are some problems with median imputation, it's very fast but it can produce incorrect results if the input data set has a systematic bias and is missing not-at-random, in other words, if there is  a pattern in data that leads to missing values, median imputation can miss this, it´s therefore useful explore other strategies for missing imputation, particulary for linear models. \n",
    "\n",
    "Tree based models such as random forest tend to be more robust to the missing-not-at random case, one useful type of missing values imputation is k-nearst neighbors (KNN impuration) this´s a strategy for imputation missing values based on other \"similar\" non-missing rows, this is a strategy  for imputation missing value based in other similar no missing row, this method tries to overcome the missing-not-at-random problem by inferring what the missing value would be, based on observations that are similar in other, non-missing variables, fortunately, the train function has a built-in method to do this\n"
   ]
  },
  {
   "cell_type": "code",
   "execution_count": 39,
   "metadata": {},
   "outputs": [
    {
     "name": "stdout",
     "output_type": "stream",
     "text": [
      "[1] 6.717277e-15\n",
      "[1] 6.084156e-14\n"
     ]
    }
   ],
   "source": [
    "# let´s make a data set that has some missing-not-at random data\n",
    "data(mtcars)\n",
    "set.seed(42)\n",
    "\n",
    "mtcars3<-mtcars\n",
    "# we pretend that smaler cars (those with as lower displacement) don´t report ther horsepower\n",
    "mtcars3[mtcars3$disp < 140, \"hp\"]<-NA\n",
    "Y<-mtcars3$disp\n",
    "X<-mtcars3[,2:4]\n",
    "\n",
    "#use median imputation, it would be incorrect because only have information about horesepower of the medium and large cars\n",
    "#that way if I use a median imputation i will be bias my small cars\n",
    "model<-train(X, Y, method = \"glm\", preProcess = \"medianImpute\")\n",
    "print(min(model$results$RMSE))\n",
    "\n",
    "#use KNN imputation\n",
    "model<-train(X, Y, method = \"glm\", preProcess = \"knnImpute\")\n",
    "print(min(model$results$RMSE))"
   ]
  },
  {
   "cell_type": "markdown",
   "metadata": {},
   "source": [
    "#### 3.2.1) Question\n",
    "Will KNN imputation always be better than median imputation? No, you should try both options and keep the one that gives more accurate models.\n",
    "\n",
    "#### 3.2.2) Use KNN imputation\n",
    "In the previous exercise, you used `median imputation` to fill in missing values in the `breast cancer` dataset, but that is not the only possible method for dealing with missing data.\n",
    "\n",
    "An alternative to `median imputation` is `k-nearest neighbors`, or `KNN`, imputation. This is a more advanced form of imputation where missing values are replaced with values from other rows that are similar to the current row. While this is a lot more complicated to implement in practice than simple median imputation, it is very easy to explore in `caret` using the `preProcess` argument to `train()`. You can simply use `preProcess = \"knnImpute\"` to change the method of imputation used prior to model fitting.\n",
    "\n",
    "**Exercise**\n",
    "\n",
    "breast_cancer_x and breast_cancer_y are loaded in your workspace.\n",
    "\n",
    "- Use the train() function to fit a glm model called knn_model to the breast cancer dataset.\n",
    "- Use KNN imputation to handle missing values.\n",
    "\n",
    "*Answer*"
   ]
  },
  {
   "cell_type": "code",
   "execution_count": 40,
   "metadata": {},
   "outputs": [
    {
     "name": "stderr",
     "output_type": "stream",
     "text": [
      "Warning message in train.default(x = breast_cancer_x, y = breast_cancer_y, method = \"glm\", :\n",
      "\"The metric \"Accuracy\" was not in the result set. ROC will be used instead.\""
     ]
    },
    {
     "name": "stdout",
     "output_type": "stream",
     "text": [
      "+ Fold01: parameter=none \n",
      "- Fold01: parameter=none \n",
      "+ Fold02: parameter=none \n",
      "- Fold02: parameter=none \n",
      "+ Fold03: parameter=none \n",
      "- Fold03: parameter=none \n",
      "+ Fold04: parameter=none \n",
      "- Fold04: parameter=none \n",
      "+ Fold05: parameter=none \n",
      "- Fold05: parameter=none \n",
      "+ Fold06: parameter=none \n",
      "- Fold06: parameter=none \n",
      "+ Fold07: parameter=none \n",
      "- Fold07: parameter=none \n",
      "+ Fold08: parameter=none \n",
      "- Fold08: parameter=none \n",
      "+ Fold09: parameter=none \n",
      "- Fold09: parameter=none \n",
      "+ Fold10: parameter=none \n",
      "- Fold10: parameter=none \n",
      "Aggregating results\n",
      "Fitting final model on full training set\n"
     ]
    },
    {
     "data": {
      "text/plain": [
       "Generalized Linear Model \n",
       "\n",
       "699 samples\n",
       "  9 predictor\n",
       "  2 classes: 'benign', 'malignant' \n",
       "\n",
       "Pre-processing: nearest neighbor imputation (9), centered (9), scaled (9) \n",
       "Resampling: Cross-Validated (10 fold) \n",
       "Summary of sample sizes: 629, 629, 629, 629, 629, 629, ... \n",
       "Resampling results:\n",
       "\n",
       "  ROC        Sens      Spec     \n",
       "  0.9896606  0.976087  0.9378333\n"
      ]
     },
     "metadata": {},
     "output_type": "display_data"
    }
   ],
   "source": [
    "# Apply KNN imputation: knn_model\n",
    "knn_model <- train(\n",
    "  x = breast_cancer_x, \n",
    "  y = breast_cancer_y,\n",
    "  method = \"glm\",\n",
    "  trControl = myControl,\n",
    "  preProcess = \"knnImpute\"\n",
    ")\n",
    "\n",
    "# Print knn_model to console\n",
    "knn_model"
   ]
  },
  {
   "cell_type": "markdown",
   "metadata": {},
   "source": [
    "### 3.3 (video) Multiple preprocessing methods\n",
    "the preprocess argument to train can do a lot more than missing values imputation,it exposes a very wide range of pre-processing steps that can have a large impact on the results of your models. you can also chain together multiple pre-processing steps, for example you can use `median imputation`, then `center` and `scale` your data, then fit a `glm` model this is a common \"recipe\" for pre-preprocessing data prior to fitting a linear model, note that there is an \"orden of operations \" to the pre-processing steps (to see more detail you can type `?preProcess`) \n"
   ]
  },
  {
   "cell_type": "code",
   "execution_count": 41,
   "metadata": {},
   "outputs": [
    {
     "name": "stdout",
     "output_type": "stream",
     "text": [
      "[1] 3.332758\n"
     ]
    }
   ],
   "source": [
    "# we load mtcars and type some missing at random data\n",
    "data(mtcars)\n",
    "set.seed(42)\n",
    "mtcars[sample(1:nrow(mtcars),10),\"hp\"]<-NA\n",
    "Y<-mtcars$mpg\n",
    "X<-mtcars[,2:4] #missing at random\n",
    "\n",
    "# Now let´s use our linear model recipe: median imputation, the center, scale and fit glm\n",
    "set.seed(42)\n",
    "model<-train(X, Y,\n",
    "            method = \"glm\",\n",
    "            preProcess = c(\"medianImpute\", \"center\", \"scale\")\n",
    "            )\n",
    "print(min(model$results$RMSE))"
   ]
  },
  {
   "cell_type": "markdown",
   "metadata": {},
   "source": [
    "Pre-processing cheat sheet\n",
    "- start with median imputation\n",
    "- try KNN imputation if data missing not at random\n",
    "- for linear model (lm, glm, glmnet) always center and scale.\n",
    "-it´s worth trying PCA and spatial sign transformation \n",
    "-tree-based models such as random forest or GBMs typically don´t need much pre-processing \n",
    "\n",
    "#### 3.3.1) Combining preprocessing methods\n",
    "The `preProcess` argument to `train()` doesn't just limit you to imputing missing values. It also includes a wide variety of other `preProcess` techniques to make your life as a data scientist much easier. You can read a full list of them by typing   `?preProcess` and reading the help page for this function.\n",
    "\n",
    "One set of preprocessing functions that is particularly useful for fitting regression models is standardization: **centering** and **scaling**. You first **center** by subtracting the mean of each column from each value in that column, then you **scale** by dividing by the standard deviation.\n",
    "\n",
    "**Standardization** transforms your data such that for each column, the mean is 0 and the standard deviation is 1. This makes it easier for regression models to find a good solution.\n",
    "\n",
    "**Exercise**\n",
    "- `breast_cancer_x` and `breast_cancer_y` are loaded in your workspace. Fit a logistic regression model using median imputation called `model` to the breast cancer data, then print it to the console.\n",
    "- Update the model to include two more pre-processing steps: centering and scaling."
   ]
  },
  {
   "cell_type": "code",
   "execution_count": 42,
   "metadata": {},
   "outputs": [
    {
     "name": "stderr",
     "output_type": "stream",
     "text": [
      "Warning message in train.default(x = breast_cancer_x, y = breast_cancer_y, method = \"glm\", :\n",
      "\"The metric \"Accuracy\" was not in the result set. ROC will be used instead.\""
     ]
    },
    {
     "name": "stdout",
     "output_type": "stream",
     "text": [
      "+ Fold01: parameter=none \n",
      "- Fold01: parameter=none \n",
      "+ Fold02: parameter=none \n",
      "- Fold02: parameter=none \n",
      "+ Fold03: parameter=none \n",
      "- Fold03: parameter=none \n",
      "+ Fold04: parameter=none \n",
      "- Fold04: parameter=none \n",
      "+ Fold05: parameter=none \n",
      "- Fold05: parameter=none \n",
      "+ Fold06: parameter=none \n",
      "- Fold06: parameter=none \n",
      "+ Fold07: parameter=none \n",
      "- Fold07: parameter=none \n",
      "+ Fold08: parameter=none \n",
      "- Fold08: parameter=none \n",
      "+ Fold09: parameter=none \n",
      "- Fold09: parameter=none \n",
      "+ Fold10: parameter=none \n",
      "- Fold10: parameter=none \n",
      "Aggregating results\n",
      "Fitting final model on full training set\n"
     ]
    },
    {
     "data": {
      "text/plain": [
       "Generalized Linear Model \n",
       "\n",
       "699 samples\n",
       "  9 predictor\n",
       "  2 classes: 'benign', 'malignant' \n",
       "\n",
       "Pre-processing: median imputation (9) \n",
       "Resampling: Cross-Validated (10 fold) \n",
       "Summary of sample sizes: 629, 629, 629, 629, 628, 629, ... \n",
       "Resampling results:\n",
       "\n",
       "  ROC        Sens       Spec     \n",
       "  0.9920978  0.9694686  0.9503333\n"
      ]
     },
     "metadata": {},
     "output_type": "display_data"
    },
    {
     "name": "stderr",
     "output_type": "stream",
     "text": [
      "Warning message in train.default(x = breast_cancer_x, y = breast_cancer_y, method = \"glm\", :\n",
      "\"The metric \"Accuracy\" was not in the result set. ROC will be used instead.\""
     ]
    },
    {
     "name": "stdout",
     "output_type": "stream",
     "text": [
      "+ Fold01: parameter=none \n",
      "- Fold01: parameter=none \n",
      "+ Fold02: parameter=none \n",
      "- Fold02: parameter=none \n",
      "+ Fold03: parameter=none \n",
      "- Fold03: parameter=none \n",
      "+ Fold04: parameter=none \n",
      "- Fold04: parameter=none \n",
      "+ Fold05: parameter=none \n",
      "- Fold05: parameter=none \n",
      "+ Fold06: parameter=none \n",
      "- Fold06: parameter=none \n",
      "+ Fold07: parameter=none \n",
      "- Fold07: parameter=none \n",
      "+ Fold08: parameter=none \n",
      "- Fold08: parameter=none \n",
      "+ Fold09: parameter=none \n",
      "- Fold09: parameter=none \n",
      "+ Fold10: parameter=none \n",
      "- Fold10: parameter=none \n",
      "Aggregating results\n",
      "Fitting final model on full training set\n"
     ]
    },
    {
     "data": {
      "text/plain": [
       "Generalized Linear Model \n",
       "\n",
       "699 samples\n",
       "  9 predictor\n",
       "  2 classes: 'benign', 'malignant' \n",
       "\n",
       "Pre-processing: median imputation (9), centered (9), scaled (9) \n",
       "Resampling: Cross-Validated (10 fold) \n",
       "Summary of sample sizes: 629, 629, 629, 629, 629, 629, ... \n",
       "Resampling results:\n",
       "\n",
       "  ROC        Sens       Spec     \n",
       "  0.9915775  0.9672947  0.9418333\n"
      ]
     },
     "metadata": {},
     "output_type": "display_data"
    }
   ],
   "source": [
    "myControl <- trainControl(\n",
    "  method = \"cv\", \n",
    "  number = 10,\n",
    "  summaryFunction = twoClassSummary,\n",
    "  classProbs = TRUE, # IMPORTANT!\n",
    "  verboseIter = TRUE\n",
    ")\n",
    "\n",
    "#avalible in cancer\n",
    "#breast_cancer_x\n",
    "#breast_cancer_y\n",
    "\n",
    "#1)\n",
    "# Fit glm with median imputation\n",
    "model <- train(\n",
    "  x = breast_cancer_x, \n",
    "  y = breast_cancer_y,\n",
    "  method = \"glm\",\n",
    "  trControl = myControl,\n",
    "  preProcess = \"medianImpute\"\n",
    ")\n",
    "\n",
    "# Print model\n",
    "model\n",
    "\n",
    "\n",
    "#2)\n",
    "# Update model with standardization\n",
    "model <- train(\n",
    "  x = breast_cancer_x, \n",
    "  y = breast_cancer_y,\n",
    "  method = \"glm\",\n",
    "  trControl = myControl,\n",
    "  preProcess = c(\"medianImpute\", \"center\", \"scale\")\n",
    ")\n",
    "\n",
    "# Print updated model\n",
    "model"
   ]
  },
  {
   "cell_type": "markdown",
   "metadata": {},
   "source": [
    "### 4.4 (video) Handling low-information predictors\n",
    "in the real word the data that we´are using for predict modelsing is often messy some variables in our dataset might not contain much information for example variables that are constant or very close to constant don´t contain much useful information and it´s can sometimes be useful remove them prior to modeling, nearly constant variables are pariculary tricky, because it easy for one fold of cross-validation to end up with a constant column.\n",
    "\n",
    "cosntant columns can mess up a lot of models and should be avoided furthermore nearly constant columns cantain little information wich means that these variables tend not to have an impact on the result of your model in general we remove extremly low variance variables from my dataset prior to modeling this speeds up my model and makes the run with fewer bugs and generally doent´s have a large impact on their accurancy.\n",
    "\n",
    "For example:"
   ]
  },
  {
   "cell_type": "code",
   "execution_count": 43,
   "metadata": {},
   "outputs": [
    {
     "name": "stderr",
     "output_type": "stream",
     "text": [
      "Warning message in preProcess.default(thresh = 0.95, k = 5, freqCut = 19, uniqueCut = 10, :\n",
      "\"These variables have zero variances: bad\"Warning message:\n",
      "\"model fit failed for Resample01: parameter=none Error in prcomp.default(x[, method$pca, drop = FALSE], scale = TRUE, retx = FALSE) : \n",
      "  cannot rescale a constant/zero column to unit variance\n",
      "\"Warning message in preProcess.default(thresh = 0.95, k = 5, freqCut = 19, uniqueCut = 10, :\n",
      "\"These variables have zero variances: bad\"Warning message:\n",
      "\"model fit failed for Resample02: parameter=none Error in prcomp.default(x[, method$pca, drop = FALSE], scale = TRUE, retx = FALSE) : \n",
      "  cannot rescale a constant/zero column to unit variance\n",
      "\"Warning message in preProcess.default(thresh = 0.95, k = 5, freqCut = 19, uniqueCut = 10, :\n",
      "\"These variables have zero variances: bad\"Warning message:\n",
      "\"model fit failed for Resample03: parameter=none Error in prcomp.default(x[, method$pca, drop = FALSE], scale = TRUE, retx = FALSE) : \n",
      "  cannot rescale a constant/zero column to unit variance\n",
      "\"Warning message in preProcess.default(thresh = 0.95, k = 5, freqCut = 19, uniqueCut = 10, :\n",
      "\"These variables have zero variances: bad\"Warning message:\n",
      "\"model fit failed for Resample04: parameter=none Error in prcomp.default(x[, method$pca, drop = FALSE], scale = TRUE, retx = FALSE) : \n",
      "  cannot rescale a constant/zero column to unit variance\n",
      "\"Warning message in preProcess.default(thresh = 0.95, k = 5, freqCut = 19, uniqueCut = 10, :\n",
      "\"These variables have zero variances: bad\"Warning message:\n",
      "\"model fit failed for Resample05: parameter=none Error in prcomp.default(x[, method$pca, drop = FALSE], scale = TRUE, retx = FALSE) : \n",
      "  cannot rescale a constant/zero column to unit variance\n",
      "\"Warning message in preProcess.default(thresh = 0.95, k = 5, freqCut = 19, uniqueCut = 10, :\n",
      "\"These variables have zero variances: bad\"Warning message:\n",
      "\"model fit failed for Resample06: parameter=none Error in prcomp.default(x[, method$pca, drop = FALSE], scale = TRUE, retx = FALSE) : \n",
      "  cannot rescale a constant/zero column to unit variance\n",
      "\"Warning message in preProcess.default(thresh = 0.95, k = 5, freqCut = 19, uniqueCut = 10, :\n",
      "\"These variables have zero variances: bad\"Warning message:\n",
      "\"model fit failed for Resample07: parameter=none Error in prcomp.default(x[, method$pca, drop = FALSE], scale = TRUE, retx = FALSE) : \n",
      "  cannot rescale a constant/zero column to unit variance\n",
      "\"Warning message in preProcess.default(thresh = 0.95, k = 5, freqCut = 19, uniqueCut = 10, :\n",
      "\"These variables have zero variances: bad\"Warning message:\n",
      "\"model fit failed for Resample08: parameter=none Error in prcomp.default(x[, method$pca, drop = FALSE], scale = TRUE, retx = FALSE) : \n",
      "  cannot rescale a constant/zero column to unit variance\n",
      "\"Warning message in preProcess.default(thresh = 0.95, k = 5, freqCut = 19, uniqueCut = 10, :\n",
      "\"These variables have zero variances: bad\"Warning message:\n",
      "\"model fit failed for Resample09: parameter=none Error in prcomp.default(x[, method$pca, drop = FALSE], scale = TRUE, retx = FALSE) : \n",
      "  cannot rescale a constant/zero column to unit variance\n",
      "\"Warning message in preProcess.default(thresh = 0.95, k = 5, freqCut = 19, uniqueCut = 10, :\n",
      "\"These variables have zero variances: bad\"Warning message:\n",
      "\"model fit failed for Resample10: parameter=none Error in prcomp.default(x[, method$pca, drop = FALSE], scale = TRUE, retx = FALSE) : \n",
      "  cannot rescale a constant/zero column to unit variance\n",
      "\"Warning message in preProcess.default(thresh = 0.95, k = 5, freqCut = 19, uniqueCut = 10, :\n",
      "\"These variables have zero variances: bad\"Warning message:\n",
      "\"model fit failed for Resample11: parameter=none Error in prcomp.default(x[, method$pca, drop = FALSE], scale = TRUE, retx = FALSE) : \n",
      "  cannot rescale a constant/zero column to unit variance\n",
      "\"Warning message in preProcess.default(thresh = 0.95, k = 5, freqCut = 19, uniqueCut = 10, :\n",
      "\"These variables have zero variances: bad\"Warning message:\n",
      "\"model fit failed for Resample12: parameter=none Error in prcomp.default(x[, method$pca, drop = FALSE], scale = TRUE, retx = FALSE) : \n",
      "  cannot rescale a constant/zero column to unit variance\n",
      "\"Warning message in preProcess.default(thresh = 0.95, k = 5, freqCut = 19, uniqueCut = 10, :\n",
      "\"These variables have zero variances: bad\"Warning message:\n",
      "\"model fit failed for Resample13: parameter=none Error in prcomp.default(x[, method$pca, drop = FALSE], scale = TRUE, retx = FALSE) : \n",
      "  cannot rescale a constant/zero column to unit variance\n",
      "\"Warning message in preProcess.default(thresh = 0.95, k = 5, freqCut = 19, uniqueCut = 10, :\n",
      "\"These variables have zero variances: bad\"Warning message:\n",
      "\"model fit failed for Resample14: parameter=none Error in prcomp.default(x[, method$pca, drop = FALSE], scale = TRUE, retx = FALSE) : \n",
      "  cannot rescale a constant/zero column to unit variance\n",
      "\"Warning message in preProcess.default(thresh = 0.95, k = 5, freqCut = 19, uniqueCut = 10, :\n",
      "\"These variables have zero variances: bad\"Warning message:\n",
      "\"model fit failed for Resample15: parameter=none Error in prcomp.default(x[, method$pca, drop = FALSE], scale = TRUE, retx = FALSE) : \n",
      "  cannot rescale a constant/zero column to unit variance\n",
      "\"Warning message in preProcess.default(thresh = 0.95, k = 5, freqCut = 19, uniqueCut = 10, :\n",
      "\"These variables have zero variances: bad\"Warning message:\n",
      "\"model fit failed for Resample16: parameter=none Error in prcomp.default(x[, method$pca, drop = FALSE], scale = TRUE, retx = FALSE) : \n",
      "  cannot rescale a constant/zero column to unit variance\n",
      "\"Warning message in preProcess.default(thresh = 0.95, k = 5, freqCut = 19, uniqueCut = 10, :\n",
      "\"These variables have zero variances: bad\"Warning message:\n",
      "\"model fit failed for Resample17: parameter=none Error in prcomp.default(x[, method$pca, drop = FALSE], scale = TRUE, retx = FALSE) : \n",
      "  cannot rescale a constant/zero column to unit variance\n",
      "\"Warning message in preProcess.default(thresh = 0.95, k = 5, freqCut = 19, uniqueCut = 10, :\n",
      "\"These variables have zero variances: bad\"Warning message:\n",
      "\"model fit failed for Resample18: parameter=none Error in prcomp.default(x[, method$pca, drop = FALSE], scale = TRUE, retx = FALSE) : \n",
      "  cannot rescale a constant/zero column to unit variance\n",
      "\"Warning message in preProcess.default(thresh = 0.95, k = 5, freqCut = 19, uniqueCut = 10, :\n",
      "\"These variables have zero variances: bad\"Warning message:\n",
      "\"model fit failed for Resample19: parameter=none Error in prcomp.default(x[, method$pca, drop = FALSE], scale = TRUE, retx = FALSE) : \n",
      "  cannot rescale a constant/zero column to unit variance\n",
      "\"Warning message in preProcess.default(thresh = 0.95, k = 5, freqCut = 19, uniqueCut = 10, :\n",
      "\"These variables have zero variances: bad\"Warning message:\n",
      "\"model fit failed for Resample20: parameter=none Error in prcomp.default(x[, method$pca, drop = FALSE], scale = TRUE, retx = FALSE) : \n",
      "  cannot rescale a constant/zero column to unit variance\n",
      "\"Warning message in preProcess.default(thresh = 0.95, k = 5, freqCut = 19, uniqueCut = 10, :\n",
      "\"These variables have zero variances: bad\"Warning message:\n",
      "\"model fit failed for Resample21: parameter=none Error in prcomp.default(x[, method$pca, drop = FALSE], scale = TRUE, retx = FALSE) : \n",
      "  cannot rescale a constant/zero column to unit variance\n",
      "\"Warning message in preProcess.default(thresh = 0.95, k = 5, freqCut = 19, uniqueCut = 10, :\n",
      "\"These variables have zero variances: bad\"Warning message:\n",
      "\"model fit failed for Resample22: parameter=none Error in prcomp.default(x[, method$pca, drop = FALSE], scale = TRUE, retx = FALSE) : \n",
      "  cannot rescale a constant/zero column to unit variance\n",
      "\"Warning message in preProcess.default(thresh = 0.95, k = 5, freqCut = 19, uniqueCut = 10, :\n",
      "\"These variables have zero variances: bad\"Warning message:\n",
      "\"model fit failed for Resample23: parameter=none Error in prcomp.default(x[, method$pca, drop = FALSE], scale = TRUE, retx = FALSE) : \n",
      "  cannot rescale a constant/zero column to unit variance\n",
      "\"Warning message in preProcess.default(thresh = 0.95, k = 5, freqCut = 19, uniqueCut = 10, :\n",
      "\"These variables have zero variances: bad\"Warning message:\n",
      "\"model fit failed for Resample24: parameter=none Error in prcomp.default(x[, method$pca, drop = FALSE], scale = TRUE, retx = FALSE) : \n",
      "  cannot rescale a constant/zero column to unit variance\n"
     ]
    },
    {
     "name": "stderr",
     "output_type": "stream",
     "text": [
      "\"Warning message in preProcess.default(thresh = 0.95, k = 5, freqCut = 19, uniqueCut = 10, :\n",
      "\"These variables have zero variances: bad\"Warning message:\n",
      "\"model fit failed for Resample25: parameter=none Error in prcomp.default(x[, method$pca, drop = FALSE], scale = TRUE, retx = FALSE) : \n",
      "  cannot rescale a constant/zero column to unit variance\n",
      "\"Warning message in nominalTrainWorkflow(x = x, y = y, wts = weights, info = trainInfo, :\n",
      "\"There were missing values in resampled performance measures.\""
     ]
    },
    {
     "name": "stdout",
     "output_type": "stream",
     "text": [
      "Something is wrong; all the RMSE metric values are missing:\n",
      "      RMSE        Rsquared        MAE     \n",
      " Min.   : NA   Min.   : NA   Min.   : NA  \n",
      " 1st Qu.: NA   1st Qu.: NA   1st Qu.: NA  \n",
      " Median : NA   Median : NA   Median : NA  \n",
      " Mean   :NaN   Mean   :NaN   Mean   :NaN  \n",
      " 3rd Qu.: NA   3rd Qu.: NA   3rd Qu.: NA  \n",
      " Max.   : NA   Max.   : NA   Max.   : NA  \n",
      " NA's   :1     NA's   :1     NA's   :1    \n"
     ]
    },
    {
     "ename": "ERROR",
     "evalue": "Error: Stopping\n",
     "output_type": "error",
     "traceback": [
      "Error: Stopping\nTraceback:\n",
      "1. train(X, Y, method = \"glm\", preProcess = c(\"medianImpute\", \"center\", \n .     \"scale\", \"pca\"))",
      "2. train.default(X, Y, method = \"glm\", preProcess = c(\"medianImpute\", \n .     \"center\", \"scale\", \"pca\"))",
      "3. stop(\"Stopping\", call. = FALSE)"
     ]
    }
   ],
   "source": [
    "# we load mtcars and type some missing at random data\n",
    "data(mtcars)\n",
    "set.seed(42)\n",
    "mtcars[sample(1:nrow(mtcars),10),\"hp\"]<-NA\n",
    "Y<-mtcars$mpg\n",
    "X<-mtcars[,2:4] #missing at random\n",
    "\n",
    "\n",
    "# add constant-valued columns to mtcars\n",
    "X$bad<-1\n",
    "\n",
    "\n",
    "# Now let´s use our linear model recipe: median imputation, the center, scale and fit glm\n",
    "set.seed(42)\n",
    "model<-train(X, Y,\n",
    "            method = \"glm\",\n",
    "            preProcess = c(\"medianImpute\", \"center\", \"scale\",\"pca\")\n",
    "            )\n",
    "#model\n",
    "#print(min(model$results$RMSE))"
   ]
  },
  {
   "cell_type": "markdown",
   "metadata": {},
   "source": [
    "in the example we add a constant column and try to modeling but unfortunately we obtain an horribly wrong, but it´s hard to tell what, because all of the metrics are missing, this error is due to the constant-valued column, which has a standar deviation of 0 therefore, when we try to scale the column by dividing by stantar deviation we end up with a whole bunch of missing values, which throw off the subsequent stages of modeling .\n",
    "\n",
    "Fortunately `caret` packges salve us again because we can add `zv` to  preprocesing argument to remove cosntatn-valued columns or `nzv`  to remove nearly constant columns.\n",
    "\n",
    "we can fix the previous code adding `zv` like:"
   ]
  },
  {
   "cell_type": "code",
   "execution_count": 44,
   "metadata": {},
   "outputs": [
    {
     "name": "stdout",
     "output_type": "stream",
     "text": [
      "[1] 3.25045\n"
     ]
    }
   ],
   "source": [
    "# we load mtcars and type some missing at random data\n",
    "data(mtcars)\n",
    "set.seed(42)\n",
    "mtcars[sample(1:nrow(mtcars),10),\"hp\"]<-NA\n",
    "Y<-mtcars$mpg\n",
    "X<-mtcars[,2:4] #missing at random\n",
    "\n",
    "\n",
    "# add constant-valued columns to mtcars\n",
    "X$bad<-1\n",
    "\n",
    "\n",
    "# Now let´s use our linear model recipe: median imputation, the center, scale and fit glm\n",
    "set.seed(42)\n",
    "model<-train(X, Y,\n",
    "            method = \"glm\",\n",
    "            preProcess = c(\"zv\",\"medianImpute\", \"center\", \"scale\",\"pca\")\n",
    "            )\n",
    "\n",
    "print(min(model$results$RMSE))"
   ]
  },
  {
   "cell_type": "markdown",
   "metadata": {},
   "source": [
    "#### 4.4.1)  ,  Low variance variables are unlikely to have a large impact on our models.\n",
    "What's the best reason to remove near zero variance predictors from your data before building a model?\n",
    "To reduce model-fitting time without reducing model accuracy, Low variance variables are unlikely to have a large impact on our models.\n",
    "\n",
    "#### 4.4.2) Remove near zero variance predictors\n",
    "you'll be using the blood-brain dataset. This is a biochemical dataset in which the task is to predict the following value for a set of biochemical compounds:\n",
    "\n",
    "    log((concentration of compound in brain) /\n",
    "          (concentration of compound in blood))\n",
    "          \n",
    "This gives a quantitative metric of the compound's ability to cross the blood-brain barrier, and is useful for understanding the biological properties of that barrier.\n",
    "\n",
    "One interesting aspect of this dataset is that it contains many variables and many of these variables have extemely low variances. This means that there is very little information in these variables because they mostly consist of a single value (e.g. zero).\n",
    "\n",
    "Fortunately, `caret` contains a utility function called `nearZeroVar()` for removing such variables to save time during modeling.\n",
    "\n",
    "`nearZeroVar()` takes in data `x`, then looks at the ratio of the most common value to the second most common value, `freqCut`, and the percentage of distinct values out of the number of total samples, `uniqueCut`. By default, `caret` uses `freqCut = 19` and `uniqueCut` = 10, which is fairly conservative. I like to be a little more aggressive and use `freqCut = 2` and `uniqueCut = 20` when calling `nearZeroVar()`.\n",
    "\n",
    "**Exercise**\n",
    "\n",
    "bloodbrain_x and bloodbrain_y are loaded in your workspace.\n",
    "\n",
    "- Identify the near zero variance predictors by running nearZeroVar() on the blood-brain dataset. Store the result as an object called remove_cols. Use freqCut = 2 and uniqueCut = 20 in the call to nearZeroVar().\n",
    "- Use names() to create a vector containing all column names of bloodbrain_x. Call this all_cols.\n",
    "- Make a new data frame called bloodbrain_x_small with the near-zero variance variables removed. Use setdiff() to isolate the column names that you wish to keep (i.e. that you don't want to remove.)"
   ]
  },
  {
   "cell_type": "code",
   "execution_count": 45,
   "metadata": {},
   "outputs": [],
   "source": [
    "myControl <- trainControl(\n",
    "  method = \"cv\", \n",
    "  number = 10,\n",
    "  summaryFunction = twoClassSummary,\n",
    "  classProbs = TRUE, # IMPORTANT!\n",
    "  verboseIter = TRUE\n",
    ")\n",
    "\n",
    "#avalible in broodbrain\n",
    "#bloodbrain_x\n",
    "#bloodbrain_y\n",
    "\n",
    "\n",
    "# Identify near zero variance predictors: remove_cols\n",
    "remove_cols <- nearZeroVar(bloodbrain_x, names = TRUE, \n",
    "                           freqCut = 2, uniqueCut = 20)\n",
    "\n",
    "# Get all column names from bloodbrain_x: all_cols\n",
    "all_cols<-names(bloodbrain_x)\n",
    "\n",
    "# Remove from data: bloodbrain_x_small\n",
    "bloodbrain_x_small <- bloodbrain_x[ , setdiff(all_cols, remove_cols)]\n"
   ]
  },
  {
   "cell_type": "markdown",
   "metadata": {},
   "source": [
    "#### 4.4.3) preProcess() and nearZeroVar()\n",
    "Can you use the preProcess argument in caret to remove near-zero variance predictors? Or do you have to do this by hand, prior to modeling, using the nearZeroVar() function? Yes! Set the preProcess argument equal to \"nzv\"\n",
    "\n",
    "#### 4.4.4) Fit model on reduced blood-brain data\n",
    "Now that you've reduced your dataset, you can fit a `glm` model to it using the `train()` function. This model will run faster than using the full dataset and will yield very similar predictive accuracy.\n",
    "\n",
    "Furthermore, zero variance variables can cause problems with cross-validation (e.g. if one fold ends up with only a single unique value for that variable), so removing them prior to modeling means you are less likely to get errors during the fitting process.\n",
    "\n",
    "**Exercise**\n",
    "bloodbrain_x, bloodbrain_y, remove, and bloodbrain_x_small are loaded in your workspace.\n",
    "\n",
    "- Fit a glm model using the train() function and the reduced blood-brain dataset you created in the previous exercise.\n",
    "- Print the result to the console.\n",
    "\n",
    "*Anwear*"
   ]
  },
  {
   "cell_type": "code",
   "execution_count": 46,
   "metadata": {},
   "outputs": [
    {
     "name": "stderr",
     "output_type": "stream",
     "text": [
      "Warning message in predict.lm(object, newdata, se.fit, scale = 1, type = ifelse(type == :\n",
      "\"prediction from a rank-deficient fit may be misleading\"Warning message in predict.lm(object, newdata, se.fit, scale = 1, type = ifelse(type == :\n",
      "\"prediction from a rank-deficient fit may be misleading\"Warning message in predict.lm(object, newdata, se.fit, scale = 1, type = ifelse(type == :\n",
      "\"prediction from a rank-deficient fit may be misleading\"Warning message in predict.lm(object, newdata, se.fit, scale = 1, type = ifelse(type == :\n",
      "\"prediction from a rank-deficient fit may be misleading\"Warning message in predict.lm(object, newdata, se.fit, scale = 1, type = ifelse(type == :\n",
      "\"prediction from a rank-deficient fit may be misleading\"Warning message in predict.lm(object, newdata, se.fit, scale = 1, type = ifelse(type == :\n",
      "\"prediction from a rank-deficient fit may be misleading\"Warning message in predict.lm(object, newdata, se.fit, scale = 1, type = ifelse(type == :\n",
      "\"prediction from a rank-deficient fit may be misleading\"Warning message in predict.lm(object, newdata, se.fit, scale = 1, type = ifelse(type == :\n",
      "\"prediction from a rank-deficient fit may be misleading\"Warning message in predict.lm(object, newdata, se.fit, scale = 1, type = ifelse(type == :\n",
      "\"prediction from a rank-deficient fit may be misleading\"Warning message in predict.lm(object, newdata, se.fit, scale = 1, type = ifelse(type == :\n",
      "\"prediction from a rank-deficient fit may be misleading\"Warning message in predict.lm(object, newdata, se.fit, scale = 1, type = ifelse(type == :\n",
      "\"prediction from a rank-deficient fit may be misleading\"Warning message in predict.lm(object, newdata, se.fit, scale = 1, type = ifelse(type == :\n",
      "\"prediction from a rank-deficient fit may be misleading\"Warning message in predict.lm(object, newdata, se.fit, scale = 1, type = ifelse(type == :\n",
      "\"prediction from a rank-deficient fit may be misleading\"Warning message in predict.lm(object, newdata, se.fit, scale = 1, type = ifelse(type == :\n",
      "\"prediction from a rank-deficient fit may be misleading\"Warning message in predict.lm(object, newdata, se.fit, scale = 1, type = ifelse(type == :\n",
      "\"prediction from a rank-deficient fit may be misleading\"Warning message in predict.lm(object, newdata, se.fit, scale = 1, type = ifelse(type == :\n",
      "\"prediction from a rank-deficient fit may be misleading\"Warning message in predict.lm(object, newdata, se.fit, scale = 1, type = ifelse(type == :\n",
      "\"prediction from a rank-deficient fit may be misleading\"Warning message in predict.lm(object, newdata, se.fit, scale = 1, type = ifelse(type == :\n",
      "\"prediction from a rank-deficient fit may be misleading\"Warning message in predict.lm(object, newdata, se.fit, scale = 1, type = ifelse(type == :\n",
      "\"prediction from a rank-deficient fit may be misleading\"Warning message in predict.lm(object, newdata, se.fit, scale = 1, type = ifelse(type == :\n",
      "\"prediction from a rank-deficient fit may be misleading\"Warning message in predict.lm(object, newdata, se.fit, scale = 1, type = ifelse(type == :\n",
      "\"prediction from a rank-deficient fit may be misleading\"Warning message in predict.lm(object, newdata, se.fit, scale = 1, type = ifelse(type == :\n",
      "\"prediction from a rank-deficient fit may be misleading\"Warning message in predict.lm(object, newdata, se.fit, scale = 1, type = ifelse(type == :\n",
      "\"prediction from a rank-deficient fit may be misleading\"Warning message in predict.lm(object, newdata, se.fit, scale = 1, type = ifelse(type == :\n",
      "\"prediction from a rank-deficient fit may be misleading\"Warning message in predict.lm(object, newdata, se.fit, scale = 1, type = ifelse(type == :\n",
      "\"prediction from a rank-deficient fit may be misleading\""
     ]
    },
    {
     "data": {
      "text/plain": [
       "Generalized Linear Model \n",
       "\n",
       "208 samples\n",
       "112 predictors\n",
       "\n",
       "No pre-processing\n",
       "Resampling: Bootstrapped (25 reps) \n",
       "Summary of sample sizes: 208, 208, 208, 208, 208, 208, ... \n",
       "Resampling results:\n",
       "\n",
       "  RMSE      Rsquared   MAE     \n",
       "  1.737597  0.1226598  1.136949\n"
      ]
     },
     "metadata": {},
     "output_type": "display_data"
    }
   ],
   "source": [
    "# Fit model on reduced data: model\n",
    "model <- train(\n",
    "  x = bloodbrain_x_small, \n",
    "  y = bloodbrain_y, \n",
    "  method = \"glm\"\n",
    ")\n",
    "\n",
    "# Print model to console\n",
    "model\n"
   ]
  },
  {
   "cell_type": "markdown",
   "metadata": {},
   "source": [
    "### 4.5 (video) Principle components analysis (PCA)\n",
    "Principal components analysis (PCA) is one my favorites pre-process steps for linear regression models you'll noticed many that I used it as an many of previous examples. PCA is incredibly useful because it combines all the low-variance and correlated variables in your dataset  into a single set of high-variance, perpendicular predictors . as we saw before, low variance variables can be problematic for cross-validation but can also contain useful information it´s better to find a systematic way to use that information, rather than throw it away, furthermore, perpendicular regresion are useful because they are perfectly uncorrelated.\n",
    "\n",
    "Linear regression models have trouble with correlation between variables (also know as collinearity) and PCA elegantly removes this issue from the equiation. \n",
    "\n",
    "PCA searches for hight-variance linear combinations of the input data that are perpendicular to each other, the first componen of PCA is the highest-variance component, and is the highest variance axis of the orginal dataset, the second PCA component has the second highets variance, and so on.\n",
    "\n",
    "#### 4.5.1) Using PCA as an alternative to nearZeroVar()\n",
    "An alternative to removing low-variance predictors is to run PCA on your dataset. This is sometimes preferable because it does not throw out all of your data: many different low variance predictors may end up combined into one high variance PCA variable, which might have a positive impact on your model's accuracy.\n",
    "\n",
    "This is an especially good trick for linear models: the `pca` option in the `preProcess` argument will center and scale your data, combine low variance variables, and ensure that all of your predictors are orthogonal. This creates an ideal dataset for linear regression modeling, and can often improve the accuracy of your models.\n",
    "\n",
    "**Exercise**\n",
    "\n",
    "bloodbrain_x and bloodbrain_y are loaded in your workspace.\n",
    "\n",
    "- Fit a glm model to the full blood-brain dataset using the \"pca\" option to preProcess.\n",
    "- Print the model to the console and inspect the result.\n",
    "\n",
    "*Answer*"
   ]
  },
  {
   "cell_type": "code",
   "execution_count": 47,
   "metadata": {},
   "outputs": [
    {
     "data": {
      "text/plain": [
       "Generalized Linear Model \n",
       "\n",
       "208 samples\n",
       "132 predictors\n",
       "\n",
       "Pre-processing: principal component signal extraction (132), centered\n",
       " (132), scaled (132) \n",
       "Resampling: Bootstrapped (25 reps) \n",
       "Summary of sample sizes: 208, 208, 208, 208, 208, 208, ... \n",
       "Resampling results:\n",
       "\n",
       "  RMSE       Rsquared   MAE      \n",
       "  0.6003685  0.4320452  0.4603794\n"
      ]
     },
     "metadata": {},
     "output_type": "display_data"
    }
   ],
   "source": [
    "# Fit glm model using PCA: model\n",
    "model <- train(\n",
    "  x = bloodbrain_x, \n",
    "  y = bloodbrain_y,\n",
    "  method = \"glm\", \n",
    "  preProcess = (\"pca\")\n",
    ")\n",
    "\n",
    "# Print model to console\n",
    "model"
   ]
  },
  {
   "cell_type": "markdown",
   "metadata": {},
   "source": [
    "## 5) Selecting models: a case study in churn prediction\n",
    "in the final chapter of this course, you'll learn how to use resamples() to compare multiple models and select (or ensemble) the best one(s).\n",
    "\n",
    "### 5.1) (video) Reusing a trainControl\n",
    "We are working with a more realistic dataset `customer churn` at a telecom company, we'll fit different kind of models and choose the best.\n",
    "\n",
    "in order to compare apple with apple , we define the training and test folds and make sure each model uses exactly the same split for each folds we can do this by pre-defining a `trainControl` object which explicity specifies which rows are used for model building and which are used as holdouts (this `trainControl` can then be used across multiple models) \n",
    "\n",
    "before to start we need load the `customer churn` data from the C50 package in R."
   ]
  },
  {
   "cell_type": "code",
   "execution_count": 48,
   "metadata": {},
   "outputs": [
    {
     "name": "stderr",
     "output_type": "stream",
     "text": [
      "Warning message:\n",
      "\"package 'C50' was built under R version 3.5.3\""
     ]
    },
    {
     "data": {
      "text/plain": [
       "\n",
       "      yes        no \n",
       "0.1449145 0.8550855 "
      ]
     },
     "metadata": {},
     "output_type": "display_data"
    },
    {
     "data": {
      "text/plain": [
       "\n",
       "      yes        no \n",
       "0.1441441 0.8558559 "
      ]
     },
     "metadata": {},
     "output_type": "display_data"
    },
    {
     "ename": "ERROR",
     "evalue": "Error in trainControl(summaryFunction = twoClassSummary, classProbs = TRUE, : unused argument (savePridictions = TRUE)\n",
     "output_type": "error",
     "traceback": [
      "Error in trainControl(summaryFunction = twoClassSummary, classProbs = TRUE, : unused argument (savePridictions = TRUE)\nTraceback:\n"
     ]
    }
   ],
   "source": [
    "library(caret)\n",
    "library(C50)\n",
    "\n",
    "# first we load our data\n",
    "data(churn)\n",
    "table(churnTrain$churn)/ nrow(churnTrain) \n",
    "\n",
    "#second make train/test index fro cross validation \n",
    "set.seed(42)\n",
    "myFolds<- createFolds(churnTrain$churn, k = 5)\n",
    "\n",
    "#compare class distribution\n",
    "i<-myFolds$Fold1\n",
    "table(churnTrain$churn[i])/ length(i) \n",
    "\n",
    "#now we use theese folds to create a trainControl object, which we can re-use to fit multiple models.\n",
    "myContro<- trainControl(\n",
    "    summaryFunction = twoClassSummary,\n",
    "    classProbs = TRUE,\n",
    "    verboseIter = TRUE,\n",
    "    savePridictions = TRUE,\n",
    "    index = myFolds\n",
    ")"
   ]
  },
  {
   "cell_type": "markdown",
   "metadata": {},
   "source": [
    "#### 5.1.1) Why reuse a trainControl?\n",
    "- So you can use the same summaryFunction and tuning parameters for multiple models.\n",
    "- So you don't have to repeat code when fitting multiple models.\n",
    "- So you can compare models on the exact same training and test data.\n",
    "\n",
    "#### 5.1.2) Make custom train/test indices\n",
    "As you saw in the video, for this chapter you will focus on a real-world dataset that brings together all of the concepts discussed in the previous chapters.\n",
    "\n",
    "The churn dataset contains data on a variety of telecom customers and the modeling challenge is to predict which customers will cancel their service (or churn).\n",
    "\n",
    "In this chapter, you will be exploring two different types of predictive models: `glmnet` and `rf`, so the first order of business is to create a reusable `trainControl` object you can use to reliably compare them.\n",
    "\n",
    "\n",
    "**Exercise**\n",
    "\n",
    "`churn_x` and `churn_y` are loaded in your workspace.\n",
    "\n",
    "- Use `createFolds()` to create 5 CV folds on `churn_y`, your target variable for this exercise.\n",
    "- Pass them to `trainControl()` to create a reusable `trainControl` for comparing models."
   ]
  },
  {
   "cell_type": "code",
   "execution_count": 49,
   "metadata": {},
   "outputs": [],
   "source": [
    "# Create custom indices: myFolds\n",
    "myFolds <- createFolds(churn_y, k = 5)\n",
    "\n",
    "# Create reusable trainControl object: myControl\n",
    "myControl <- trainControl(\n",
    "  summaryFunction = twoClassSummary,\n",
    "  classProbs = TRUE, # IMPORTANT!\n",
    "  verboseIter = TRUE,\n",
    "  savePredictions = TRUE,\n",
    "  index = myFolds\n",
    ")"
   ]
  },
  {
   "cell_type": "markdown",
   "metadata": {},
   "source": [
    "### 5.2) (video) Reintroducing glmnet\n",
    "\n",
    "recall the `glmnet` model that we learned about early, it's a linear regression model with  build-in variables selection and is a great baseline model for any predictive modeling problem , it is a useful baseline because :\n",
    "- it's fast\n",
    "- uses variable selection to ignore noisy variables\n",
    "-  and also provides linear regresion coeficcients that you can use to understand patters in your data.\n",
    "\n",
    "It yields models that just as interpetable as models from the `lm` or `glm` function in R. A business analyst could use these coefficients to understand key drivers of churn, but even if you only care about predictions, glment is a solid baseline that fits quickly and often provide very accurate models.\n",
    "\n",
    "let´s fit one to the churn dataset"
   ]
  },
  {
   "cell_type": "code",
   "execution_count": 50,
   "metadata": {},
   "outputs": [
    {
     "name": "stdout",
     "output_type": "stream",
     "text": [
      "+ Fold1: alpha=0, lambda=1 \n",
      "- Fold1: alpha=0, lambda=1 \n",
      "+ Fold1: alpha=1, lambda=1 \n",
      "- Fold1: alpha=1, lambda=1 \n",
      "+ Fold2: alpha=0, lambda=1 \n"
     ]
    },
    {
     "name": "stderr",
     "output_type": "stream",
     "text": [
      "Warning message in lognet(x, is.sparse, ix, jx, y, weights, offset, alpha, nobs, :\n",
      "\"one multinomial or binomial class has fewer than 8  observations; dangerous ground\""
     ]
    },
    {
     "name": "stdout",
     "output_type": "stream",
     "text": [
      "- Fold2: alpha=0, lambda=1 \n",
      "+ Fold2: alpha=1, lambda=1 \n"
     ]
    },
    {
     "name": "stderr",
     "output_type": "stream",
     "text": [
      "Warning message in lognet(x, is.sparse, ix, jx, y, weights, offset, alpha, nobs, :\n",
      "\"one multinomial or binomial class has fewer than 8  observations; dangerous ground\""
     ]
    },
    {
     "name": "stdout",
     "output_type": "stream",
     "text": [
      "- Fold2: alpha=1, lambda=1 \n",
      "+ Fold3: alpha=0, lambda=1 \n"
     ]
    },
    {
     "name": "stderr",
     "output_type": "stream",
     "text": [
      "Warning message in lognet(x, is.sparse, ix, jx, y, weights, offset, alpha, nobs, :\n",
      "\"one multinomial or binomial class has fewer than 8  observations; dangerous ground\""
     ]
    },
    {
     "name": "stdout",
     "output_type": "stream",
     "text": [
      "- Fold3: alpha=0, lambda=1 \n",
      "+ Fold3: alpha=1, lambda=1 \n"
     ]
    },
    {
     "name": "stderr",
     "output_type": "stream",
     "text": [
      "Warning message in lognet(x, is.sparse, ix, jx, y, weights, offset, alpha, nobs, :\n",
      "\"one multinomial or binomial class has fewer than 8  observations; dangerous ground\""
     ]
    },
    {
     "name": "stdout",
     "output_type": "stream",
     "text": [
      "- Fold3: alpha=1, lambda=1 \n",
      "+ Fold4: alpha=0, lambda=1 \n"
     ]
    },
    {
     "name": "stderr",
     "output_type": "stream",
     "text": [
      "Warning message in lognet(x, is.sparse, ix, jx, y, weights, offset, alpha, nobs, :\n",
      "\"one multinomial or binomial class has fewer than 8  observations; dangerous ground\""
     ]
    },
    {
     "name": "stdout",
     "output_type": "stream",
     "text": [
      "- Fold4: alpha=0, lambda=1 \n",
      "+ Fold4: alpha=1, lambda=1 \n"
     ]
    },
    {
     "name": "stderr",
     "output_type": "stream",
     "text": [
      "Warning message in lognet(x, is.sparse, ix, jx, y, weights, offset, alpha, nobs, :\n",
      "\"one multinomial or binomial class has fewer than 8  observations; dangerous ground\""
     ]
    },
    {
     "name": "stdout",
     "output_type": "stream",
     "text": [
      "- Fold4: alpha=1, lambda=1 \n",
      "+ Fold5: alpha=0, lambda=1 \n"
     ]
    },
    {
     "name": "stderr",
     "output_type": "stream",
     "text": [
      "Warning message in lognet(x, is.sparse, ix, jx, y, weights, offset, alpha, nobs, :\n",
      "\"one multinomial or binomial class has fewer than 8  observations; dangerous ground\""
     ]
    },
    {
     "name": "stdout",
     "output_type": "stream",
     "text": [
      "- Fold5: alpha=0, lambda=1 \n",
      "+ Fold5: alpha=1, lambda=1 \n"
     ]
    },
    {
     "name": "stderr",
     "output_type": "stream",
     "text": [
      "Warning message in lognet(x, is.sparse, ix, jx, y, weights, offset, alpha, nobs, :\n",
      "\"one multinomial or binomial class has fewer than 8  observations; dangerous ground\""
     ]
    },
    {
     "name": "stdout",
     "output_type": "stream",
     "text": [
      "- Fold5: alpha=1, lambda=1 \n",
      "Aggregating results\n",
      "Selecting tuning parameters\n",
      "Fitting alpha = 0, lambda = 1 on full training set\n"
     ]
    }
   ],
   "source": [
    "set.seed(42)\n",
    "model_glmnet<-train(\n",
    "    churn ~ .,\n",
    "    churnTrain,\n",
    "    metric = \"ROC\",\n",
    "    method = \"glmnet\",\n",
    "    tuneGrid = expand.grid(\n",
    "    alpha = 0:1,\n",
    "    lambda = 0:10/10),\n",
    "    trControl = myControl\n",
    ")"
   ]
  },
  {
   "cell_type": "code",
   "execution_count": 51,
   "metadata": {},
   "outputs": [
    {
     "data": {},
     "metadata": {},
     "output_type": "display_data"
    },
    {
     "data": {
      "image/png": "[encoded data removed]",
      "text/plain": [
       "plot without title"
      ]
     },
     "metadata": {},
     "output_type": "display_data"
    },
    {
     "data": {
      "image/png": "[encoded data removed]",
      "text/plain": [
       "plot without title"
      ]
     },
     "metadata": {},
     "output_type": "display_data"
    }
   ],
   "source": [
    "library(repr)\n",
    "# Change plot size to 4 x 3\n",
    "    options(repr.plot.width=4, repr.plot.height=3)\n",
    "\n",
    "plot(model_glmnet)\n",
    "\n",
    "plot(model_glmnet$finalModel)"
   ]
  },
  {
   "cell_type": "markdown",
   "metadata": {},
   "source": [
    "#### 5.2.1) Fit the baseline model\n",
    "Now that you have a reusable `trainControl` object called `myControl`, you can start fitting different predictive models to your churn dataset and evaluate their predictive accuracy.\n",
    "\n",
    "You'll start with one of my favorite models, `glmnet`, which penalizes linear and logistic regression models on the size and number of coefficients to help prevent overfitting.\n",
    "\n",
    "**Exercise**\n",
    "- Fit a `glmnet` model to the churn dataset called `model_glmnet`. Make sure to use `myControl`, which you created in the first exercise and is available in your workspace, as the `trainControl` object.\n",
    "\n",
    "*Answer*"
   ]
  },
  {
   "cell_type": "code",
   "execution_count": 52,
   "metadata": {},
   "outputs": [
    {
     "name": "stdout",
     "output_type": "stream",
     "text": [
      "+ Fold1: alpha=0.10, lambda=0.01821 \n"
     ]
    },
    {
     "name": "stderr",
     "output_type": "stream",
     "text": [
      "Warning message in lognet(x, is.sparse, ix, jx, y, weights, offset, alpha, nobs, :\n",
      "\"one multinomial or binomial class has fewer than 8  observations; dangerous ground\""
     ]
    },
    {
     "name": "stdout",
     "output_type": "stream",
     "text": [
      "- Fold1: alpha=0.10, lambda=0.01821 \n",
      "+ Fold1: alpha=0.55, lambda=0.01821 \n"
     ]
    },
    {
     "name": "stderr",
     "output_type": "stream",
     "text": [
      "Warning message in lognet(x, is.sparse, ix, jx, y, weights, offset, alpha, nobs, :\n",
      "\"one multinomial or binomial class has fewer than 8  observations; dangerous ground\""
     ]
    },
    {
     "name": "stdout",
     "output_type": "stream",
     "text": [
      "- Fold1: alpha=0.55, lambda=0.01821 \n",
      "+ Fold1: alpha=1.00, lambda=0.01821 \n"
     ]
    },
    {
     "name": "stderr",
     "output_type": "stream",
     "text": [
      "Warning message in lognet(x, is.sparse, ix, jx, y, weights, offset, alpha, nobs, :\n",
      "\"one multinomial or binomial class has fewer than 8  observations; dangerous ground\""
     ]
    },
    {
     "name": "stdout",
     "output_type": "stream",
     "text": [
      "- Fold1: alpha=1.00, lambda=0.01821 \n",
      "+ Fold2: alpha=0.10, lambda=0.01821 \n"
     ]
    },
    {
     "name": "stderr",
     "output_type": "stream",
     "text": [
      "Warning message in lognet(x, is.sparse, ix, jx, y, weights, offset, alpha, nobs, :\n",
      "\"one multinomial or binomial class has fewer than 8  observations; dangerous ground\""
     ]
    },
    {
     "name": "stdout",
     "output_type": "stream",
     "text": [
      "- Fold2: alpha=0.10, lambda=0.01821 \n",
      "+ Fold2: alpha=0.55, lambda=0.01821 \n"
     ]
    },
    {
     "name": "stderr",
     "output_type": "stream",
     "text": [
      "Warning message in lognet(x, is.sparse, ix, jx, y, weights, offset, alpha, nobs, :\n",
      "\"one multinomial or binomial class has fewer than 8  observations; dangerous ground\""
     ]
    },
    {
     "name": "stdout",
     "output_type": "stream",
     "text": [
      "- Fold2: alpha=0.55, lambda=0.01821 \n",
      "+ Fold2: alpha=1.00, lambda=0.01821 \n"
     ]
    },
    {
     "name": "stderr",
     "output_type": "stream",
     "text": [
      "Warning message in lognet(x, is.sparse, ix, jx, y, weights, offset, alpha, nobs, :\n",
      "\"one multinomial or binomial class has fewer than 8  observations; dangerous ground\""
     ]
    },
    {
     "name": "stdout",
     "output_type": "stream",
     "text": [
      "- Fold2: alpha=1.00, lambda=0.01821 \n",
      "+ Fold3: alpha=0.10, lambda=0.01821 \n"
     ]
    },
    {
     "name": "stderr",
     "output_type": "stream",
     "text": [
      "Warning message in lognet(x, is.sparse, ix, jx, y, weights, offset, alpha, nobs, :\n",
      "\"one multinomial or binomial class has fewer than 8  observations; dangerous ground\""
     ]
    },
    {
     "name": "stdout",
     "output_type": "stream",
     "text": [
      "- Fold3: alpha=0.10, lambda=0.01821 \n",
      "+ Fold3: alpha=0.55, lambda=0.01821 \n"
     ]
    },
    {
     "name": "stderr",
     "output_type": "stream",
     "text": [
      "Warning message in lognet(x, is.sparse, ix, jx, y, weights, offset, alpha, nobs, :\n",
      "\"one multinomial or binomial class has fewer than 8  observations; dangerous ground\""
     ]
    },
    {
     "name": "stdout",
     "output_type": "stream",
     "text": [
      "- Fold3: alpha=0.55, lambda=0.01821 \n",
      "+ Fold3: alpha=1.00, lambda=0.01821 \n"
     ]
    },
    {
     "name": "stderr",
     "output_type": "stream",
     "text": [
      "Warning message in lognet(x, is.sparse, ix, jx, y, weights, offset, alpha, nobs, :\n",
      "\"one multinomial or binomial class has fewer than 8  observations; dangerous ground\""
     ]
    },
    {
     "name": "stdout",
     "output_type": "stream",
     "text": [
      "- Fold3: alpha=1.00, lambda=0.01821 \n",
      "+ Fold4: alpha=0.10, lambda=0.01821 \n"
     ]
    },
    {
     "name": "stderr",
     "output_type": "stream",
     "text": [
      "Warning message in lognet(x, is.sparse, ix, jx, y, weights, offset, alpha, nobs, :\n",
      "\"one multinomial or binomial class has fewer than 8  observations; dangerous ground\""
     ]
    },
    {
     "name": "stdout",
     "output_type": "stream",
     "text": [
      "- Fold4: alpha=0.10, lambda=0.01821 \n",
      "+ Fold4: alpha=0.55, lambda=0.01821 \n"
     ]
    },
    {
     "name": "stderr",
     "output_type": "stream",
     "text": [
      "Warning message in lognet(x, is.sparse, ix, jx, y, weights, offset, alpha, nobs, :\n",
      "\"one multinomial or binomial class has fewer than 8  observations; dangerous ground\""
     ]
    },
    {
     "name": "stdout",
     "output_type": "stream",
     "text": [
      "- Fold4: alpha=0.55, lambda=0.01821 \n",
      "+ Fold4: alpha=1.00, lambda=0.01821 \n"
     ]
    },
    {
     "name": "stderr",
     "output_type": "stream",
     "text": [
      "Warning message in lognet(x, is.sparse, ix, jx, y, weights, offset, alpha, nobs, :\n",
      "\"one multinomial or binomial class has fewer than 8  observations; dangerous ground\""
     ]
    },
    {
     "name": "stdout",
     "output_type": "stream",
     "text": [
      "- Fold4: alpha=1.00, lambda=0.01821 \n",
      "+ Fold5: alpha=0.10, lambda=0.01821 \n"
     ]
    },
    {
     "name": "stderr",
     "output_type": "stream",
     "text": [
      "Warning message in lognet(x, is.sparse, ix, jx, y, weights, offset, alpha, nobs, :\n",
      "\"one multinomial or binomial class has fewer than 8  observations; dangerous ground\""
     ]
    },
    {
     "name": "stdout",
     "output_type": "stream",
     "text": [
      "- Fold5: alpha=0.10, lambda=0.01821 \n",
      "+ Fold5: alpha=0.55, lambda=0.01821 \n"
     ]
    },
    {
     "name": "stderr",
     "output_type": "stream",
     "text": [
      "Warning message in lognet(x, is.sparse, ix, jx, y, weights, offset, alpha, nobs, :\n",
      "\"one multinomial or binomial class has fewer than 8  observations; dangerous ground\""
     ]
    },
    {
     "name": "stdout",
     "output_type": "stream",
     "text": [
      "- Fold5: alpha=0.55, lambda=0.01821 \n",
      "+ Fold5: alpha=1.00, lambda=0.01821 \n"
     ]
    },
    {
     "name": "stderr",
     "output_type": "stream",
     "text": [
      "Warning message in lognet(x, is.sparse, ix, jx, y, weights, offset, alpha, nobs, :\n",
      "\"one multinomial or binomial class has fewer than 8  observations; dangerous ground\""
     ]
    },
    {
     "name": "stdout",
     "output_type": "stream",
     "text": [
      "- Fold5: alpha=1.00, lambda=0.01821 \n",
      "Aggregating results\n",
      "Selecting tuning parameters\n",
      "Fitting alpha = 1, lambda = 0.0182 on full training set\n"
     ]
    }
   ],
   "source": [
    "# Create reusable trainControl object: myControl\n",
    "myControl <- trainControl(\n",
    "  summaryFunction = twoClassSummary,\n",
    "  classProbs = TRUE, # IMPORTANT!\n",
    "  verboseIter = TRUE,\n",
    "  savePredictions = TRUE,\n",
    "  index = myFolds\n",
    ")\n",
    "\n",
    "# *Answer*\n",
    "# Fit glmnet model: model_glmnet\n",
    "model_glmnet <- train(\n",
    "  x = churn_x, \n",
    "  y = churn_y,\n",
    "  metric = \"ROC\",\n",
    "  method = \"glmnet\",\n",
    "  trControl = myControl\n",
    ")\n"
   ]
  },
  {
   "cell_type": "markdown",
   "metadata": {},
   "source": [
    "### 5.3) (video) Reintroducing random forest\n",
    "Next let's try a random forest model on the churn dataset, after 'glmnet', random forest is always the second model that recommended to fit at any predictive model problem.\n",
    "\n",
    "- it´is slower than 'glmnet' model\n",
    "- could be less interpetable\n",
    "- but in a lot of situation can yield much more accurent models with a little parameters tuning.\n",
    "- Require little pre-processing, not need log tranform or otherwise normalize your predictors,and they handle the missing not at random case pretty well even with median imputation\n",
    "- they also automatically capture threshold effects and variable interactions by default, both of which occurr often in real-world data.\n",
    "\n",
    "Now, we´ll see an example, this model is even easier to fit than glmnet, the default caret values for the tuning parameters are great, so we don't need a custum tunning grid. \n"
   ]
  },
  {
   "cell_type": "code",
   "execution_count": 53,
   "metadata": {},
   "outputs": [
    {
     "name": "stdout",
     "output_type": "stream",
     "text": [
      "+ Fold1: mtry= 2, min.node.size=1, splitrule=gini \n",
      "- Fold1: mtry= 2, min.node.size=1, splitrule=gini \n",
      "+ Fold1: mtry=35, min.node.size=1, splitrule=gini \n",
      "- Fold1: mtry=35, min.node.size=1, splitrule=gini \n",
      "+ Fold1: mtry=69, min.node.size=1, splitrule=gini \n",
      "- Fold1: mtry=69, min.node.size=1, splitrule=gini \n",
      "+ Fold1: mtry= 2, min.node.size=1, splitrule=extratrees \n",
      "- Fold1: mtry= 2, min.node.size=1, splitrule=extratrees \n",
      "+ Fold1: mtry=35, min.node.size=1, splitrule=extratrees \n",
      "- Fold1: mtry=35, min.node.size=1, splitrule=extratrees \n",
      "+ Fold1: mtry=69, min.node.size=1, splitrule=extratrees \n",
      "- Fold1: mtry=69, min.node.size=1, splitrule=extratrees \n",
      "+ Fold2: mtry= 2, min.node.size=1, splitrule=gini \n",
      "- Fold2: mtry= 2, min.node.size=1, splitrule=gini \n",
      "+ Fold2: mtry=35, min.node.size=1, splitrule=gini \n",
      "- Fold2: mtry=35, min.node.size=1, splitrule=gini \n",
      "+ Fold2: mtry=69, min.node.size=1, splitrule=gini \n",
      "- Fold2: mtry=69, min.node.size=1, splitrule=gini \n",
      "+ Fold2: mtry= 2, min.node.size=1, splitrule=extratrees \n",
      "- Fold2: mtry= 2, min.node.size=1, splitrule=extratrees \n",
      "+ Fold2: mtry=35, min.node.size=1, splitrule=extratrees \n",
      "- Fold2: mtry=35, min.node.size=1, splitrule=extratrees \n",
      "+ Fold2: mtry=69, min.node.size=1, splitrule=extratrees \n",
      "- Fold2: mtry=69, min.node.size=1, splitrule=extratrees \n",
      "+ Fold3: mtry= 2, min.node.size=1, splitrule=gini \n",
      "- Fold3: mtry= 2, min.node.size=1, splitrule=gini \n",
      "+ Fold3: mtry=35, min.node.size=1, splitrule=gini \n",
      "- Fold3: mtry=35, min.node.size=1, splitrule=gini \n",
      "+ Fold3: mtry=69, min.node.size=1, splitrule=gini \n",
      "- Fold3: mtry=69, min.node.size=1, splitrule=gini \n",
      "+ Fold3: mtry= 2, min.node.size=1, splitrule=extratrees \n",
      "- Fold3: mtry= 2, min.node.size=1, splitrule=extratrees \n",
      "+ Fold3: mtry=35, min.node.size=1, splitrule=extratrees \n",
      "- Fold3: mtry=35, min.node.size=1, splitrule=extratrees \n",
      "+ Fold3: mtry=69, min.node.size=1, splitrule=extratrees \n",
      "- Fold3: mtry=69, min.node.size=1, splitrule=extratrees \n",
      "+ Fold4: mtry= 2, min.node.size=1, splitrule=gini \n",
      "- Fold4: mtry= 2, min.node.size=1, splitrule=gini \n",
      "+ Fold4: mtry=35, min.node.size=1, splitrule=gini \n",
      "- Fold4: mtry=35, min.node.size=1, splitrule=gini \n",
      "+ Fold4: mtry=69, min.node.size=1, splitrule=gini \n",
      "- Fold4: mtry=69, min.node.size=1, splitrule=gini \n",
      "+ Fold4: mtry= 2, min.node.size=1, splitrule=extratrees \n",
      "- Fold4: mtry= 2, min.node.size=1, splitrule=extratrees \n",
      "+ Fold4: mtry=35, min.node.size=1, splitrule=extratrees \n",
      "- Fold4: mtry=35, min.node.size=1, splitrule=extratrees \n",
      "+ Fold4: mtry=69, min.node.size=1, splitrule=extratrees \n",
      "- Fold4: mtry=69, min.node.size=1, splitrule=extratrees \n",
      "+ Fold5: mtry= 2, min.node.size=1, splitrule=gini \n",
      "- Fold5: mtry= 2, min.node.size=1, splitrule=gini \n",
      "+ Fold5: mtry=35, min.node.size=1, splitrule=gini \n",
      "- Fold5: mtry=35, min.node.size=1, splitrule=gini \n",
      "+ Fold5: mtry=69, min.node.size=1, splitrule=gini \n",
      "- Fold5: mtry=69, min.node.size=1, splitrule=gini \n",
      "+ Fold5: mtry= 2, min.node.size=1, splitrule=extratrees \n",
      "- Fold5: mtry= 2, min.node.size=1, splitrule=extratrees \n",
      "+ Fold5: mtry=35, min.node.size=1, splitrule=extratrees \n",
      "- Fold5: mtry=35, min.node.size=1, splitrule=extratrees \n",
      "+ Fold5: mtry=69, min.node.size=1, splitrule=extratrees \n",
      "- Fold5: mtry=69, min.node.size=1, splitrule=extratrees \n",
      "Aggregating results\n",
      "Selecting tuning parameters\n",
      "Fitting mtry = 35, splitrule = extratrees, min.node.size = 1 on full training set\n"
     ]
    },
    {
     "data": {},
     "metadata": {},
     "output_type": "display_data"
    },
    {
     "data": {
      "image/png": "[encoded data removed]",
      "text/plain": [
       "plot without title"
      ]
     },
     "metadata": {},
     "output_type": "display_data"
    }
   ],
   "source": [
    "library(caret)\n",
    "library(C50)\n",
    "\n",
    "# first we load our data\n",
    "data(churn)\n",
    "\n",
    "myFolds <- createFolds(churn_y, k = 5)\n",
    "# Create reusable trainControl object: myControl\n",
    "myControl <- trainControl(\n",
    "  summaryFunction = twoClassSummary,\n",
    "  classProbs = TRUE, # IMPORTANT!\n",
    "  verboseIter = TRUE,\n",
    "  savePredictions = TRUE,\n",
    "  index = myFolds\n",
    ")\n",
    "\n",
    "\n",
    "set.seed(42)\n",
    "churnTrain$churn<-factor(churnTrain$churn, levels = c(\"no\", \"yes\"))\n",
    "\n",
    "model_rf<-train(\n",
    "churn ~ .,\n",
    "    churnTrain,\n",
    "    metric = \"ROC\",\n",
    "    method = \"ranger\",\n",
    "    trControl  = myControl\n",
    "    \n",
    ")\n",
    "\n",
    "plot(model_rf)"
   ]
  },
  {
   "cell_type": "markdown",
   "metadata": {},
   "source": [
    "#### 5.3.1) Random forest with custom trainControl\n",
    "Another one of my favorite models is the random forest, which combines an ensemble of non-linear decision trees into a highly flexible (and usually quite accurate) model.\n",
    "\n",
    "Rather than using the classic randomForest package, you'll be using the `ranger` package, which is a re-implementation of `randomForest` that produces almost the exact same results, but is faster, more stable, and uses less memory. I highly recommend it as a starting point for random forest modeling in R.\n",
    "\n",
    "**Exercise**\n",
    "`churn_x` and `churn_y` are loaded in your workspace.\n",
    "\n",
    "Fit a random forest model to the `churn` dataset. Be sure to use `myControl` as the trainControl like you've done before and implement the \"ranger\" method.\n",
    "\n",
    "*Answer*\n"
   ]
  },
  {
   "cell_type": "code",
   "execution_count": 54,
   "metadata": {},
   "outputs": [
    {
     "name": "stdout",
     "output_type": "stream",
     "text": [
      "+ Fold1: mtry= 2, min.node.size=1, splitrule=gini \n",
      "- Fold1: mtry= 2, min.node.size=1, splitrule=gini \n",
      "+ Fold1: mtry=36, min.node.size=1, splitrule=gini \n",
      "- Fold1: mtry=36, min.node.size=1, splitrule=gini \n",
      "+ Fold1: mtry=70, min.node.size=1, splitrule=gini \n",
      "- Fold1: mtry=70, min.node.size=1, splitrule=gini \n",
      "+ Fold1: mtry= 2, min.node.size=1, splitrule=extratrees \n",
      "- Fold1: mtry= 2, min.node.size=1, splitrule=extratrees \n",
      "+ Fold1: mtry=36, min.node.size=1, splitrule=extratrees \n",
      "- Fold1: mtry=36, min.node.size=1, splitrule=extratrees \n",
      "+ Fold1: mtry=70, min.node.size=1, splitrule=extratrees \n",
      "- Fold1: mtry=70, min.node.size=1, splitrule=extratrees \n",
      "+ Fold2: mtry= 2, min.node.size=1, splitrule=gini \n",
      "- Fold2: mtry= 2, min.node.size=1, splitrule=gini \n",
      "+ Fold2: mtry=36, min.node.size=1, splitrule=gini \n",
      "- Fold2: mtry=36, min.node.size=1, splitrule=gini \n",
      "+ Fold2: mtry=70, min.node.size=1, splitrule=gini \n",
      "- Fold2: mtry=70, min.node.size=1, splitrule=gini \n",
      "+ Fold2: mtry= 2, min.node.size=1, splitrule=extratrees \n",
      "- Fold2: mtry= 2, min.node.size=1, splitrule=extratrees \n",
      "+ Fold2: mtry=36, min.node.size=1, splitrule=extratrees \n",
      "- Fold2: mtry=36, min.node.size=1, splitrule=extratrees \n",
      "+ Fold2: mtry=70, min.node.size=1, splitrule=extratrees \n",
      "- Fold2: mtry=70, min.node.size=1, splitrule=extratrees \n",
      "+ Fold3: mtry= 2, min.node.size=1, splitrule=gini \n",
      "- Fold3: mtry= 2, min.node.size=1, splitrule=gini \n",
      "+ Fold3: mtry=36, min.node.size=1, splitrule=gini \n",
      "- Fold3: mtry=36, min.node.size=1, splitrule=gini \n",
      "+ Fold3: mtry=70, min.node.size=1, splitrule=gini \n",
      "- Fold3: mtry=70, min.node.size=1, splitrule=gini \n",
      "+ Fold3: mtry= 2, min.node.size=1, splitrule=extratrees \n",
      "- Fold3: mtry= 2, min.node.size=1, splitrule=extratrees \n",
      "+ Fold3: mtry=36, min.node.size=1, splitrule=extratrees \n",
      "- Fold3: mtry=36, min.node.size=1, splitrule=extratrees \n",
      "+ Fold3: mtry=70, min.node.size=1, splitrule=extratrees \n",
      "- Fold3: mtry=70, min.node.size=1, splitrule=extratrees \n",
      "+ Fold4: mtry= 2, min.node.size=1, splitrule=gini \n",
      "- Fold4: mtry= 2, min.node.size=1, splitrule=gini \n",
      "+ Fold4: mtry=36, min.node.size=1, splitrule=gini \n",
      "- Fold4: mtry=36, min.node.size=1, splitrule=gini \n",
      "+ Fold4: mtry=70, min.node.size=1, splitrule=gini \n",
      "- Fold4: mtry=70, min.node.size=1, splitrule=gini \n",
      "+ Fold4: mtry= 2, min.node.size=1, splitrule=extratrees \n",
      "- Fold4: mtry= 2, min.node.size=1, splitrule=extratrees \n",
      "+ Fold4: mtry=36, min.node.size=1, splitrule=extratrees \n",
      "- Fold4: mtry=36, min.node.size=1, splitrule=extratrees \n",
      "+ Fold4: mtry=70, min.node.size=1, splitrule=extratrees \n",
      "- Fold4: mtry=70, min.node.size=1, splitrule=extratrees \n",
      "+ Fold5: mtry= 2, min.node.size=1, splitrule=gini \n",
      "- Fold5: mtry= 2, min.node.size=1, splitrule=gini \n",
      "+ Fold5: mtry=36, min.node.size=1, splitrule=gini \n",
      "- Fold5: mtry=36, min.node.size=1, splitrule=gini \n",
      "+ Fold5: mtry=70, min.node.size=1, splitrule=gini \n",
      "- Fold5: mtry=70, min.node.size=1, splitrule=gini \n",
      "+ Fold5: mtry= 2, min.node.size=1, splitrule=extratrees \n",
      "- Fold5: mtry= 2, min.node.size=1, splitrule=extratrees \n",
      "+ Fold5: mtry=36, min.node.size=1, splitrule=extratrees \n",
      "- Fold5: mtry=36, min.node.size=1, splitrule=extratrees \n",
      "+ Fold5: mtry=70, min.node.size=1, splitrule=extratrees \n",
      "- Fold5: mtry=70, min.node.size=1, splitrule=extratrees \n",
      "Aggregating results\n",
      "Selecting tuning parameters\n",
      "Fitting mtry = 36, splitrule = extratrees, min.node.size = 1 on full training set\n"
     ]
    }
   ],
   "source": [
    "# Fit random forest: model_rf\n",
    "model_rf <- train(\n",
    "  x = churn_x, \n",
    "  y = churn_y,\n",
    "  metric = \"ROC\",\n",
    "  method = \"ranger\",\n",
    "  trControl = myControl\n",
    ")"
   ]
  },
  {
   "cell_type": "markdown",
   "metadata": {},
   "source": [
    "### 5.4) (video) Comparing models\n",
    "After fitting 2 or more models the next step is deciding which one makes the best prediction on new data, first of all, we have make sure they were fit on exact the same training and test set during cross validation ,so , we're sure making an apples to apples comparasion of their result.\n",
    "\n",
    "We wanto to pick the model with the highet avarage AUC across all 10 validation folds, but also typically want a model with a low standar diviation in AUC, fortunately the  'caret' package provides handy function for collecting the result from mutiple models, this function is called 'resamples' and it provides a variety of methods for assessing which of two models is the best for a given dataset.\n"
   ]
  },
  {
   "cell_type": "markdown",
   "metadata": {},
   "source": [
    "#### 5.4.1) Matching train/test indices\n",
    "What's the primary reason that train/test indices need to match when comparing two models?\n",
    "Because otherwise you wouldn't be doing a fair comparison of your models and your results could be due to chance. it's because Train/test indexes allow you to evaluate your models out of sample so you know that they work\n",
    "\n",
    "#### 5.4.2) Create a resamples object\n",
    "Now that you have fit two models to the `churn` dataset, it's time to compare their out-of-sample predictions and choose which one is the best model for your dataset.\n",
    "\n",
    "You can compare models in `caret` using the `resamples()` function, provided they have the same training data and use the same `trainControl` object with preset `cross-validation` folds. `resamples()` takes as input a list of models and can be used to compare dozens of models at once (though in this case you are only comparing two models).\n",
    "\n",
    "**Exercise**\n",
    "model_glmnet and model_rf are loaded in your workspace.\n",
    "\n",
    "- Create a list() containing the glmnet model as item1 and the ranger model as item2.\n",
    "- Pass this list to the resamples() function and save the resulting object as resamples.\n",
    "- Summarize the results by calling summary() on resamples."
   ]
  },
  {
   "cell_type": "code",
   "execution_count": 55,
   "metadata": {},
   "outputs": [
    {
     "data": {
      "text/plain": [
       "\n",
       "Call:\n",
       "summary.resamples(object = resamples)\n",
       "\n",
       "Models: item1, item2 \n",
       "Number of resamples: 5 \n",
       "\n",
       "ROC \n",
       "           Min.   1st Qu.    Median      Mean   3rd Qu.      Max. NA's\n",
       "item1 0.3919540 0.5509890 0.6317241 0.5916097 0.6686561 0.7147253    0\n",
       "item2 0.6073626 0.6883289 0.7134066 0.6968541 0.7370115 0.7381609    0\n",
       "\n",
       "Sens \n",
       "           Min.   1st Qu.    Median      Mean   3rd Qu.      Max. NA's\n",
       "item1 0.9314286 0.9425287 0.9485714 0.9518621 0.9655172 0.9712644    0\n",
       "item2 0.9540230 0.9828571 0.9885057 0.9839278 0.9942529 1.0000000    0\n",
       "\n",
       "Spec \n",
       "      Min.    1st Qu. Median       Mean    3rd Qu.      Max. NA's\n",
       "item1 0.04 0.07692308   0.08 0.15476923 0.19230769 0.3846154    0\n",
       "item2 0.00 0.00000000   0.04 0.03938462 0.07692308 0.0800000    0\n"
      ]
     },
     "metadata": {},
     "output_type": "display_data"
    }
   ],
   "source": [
    "# Create model_list\n",
    "model_list <- list(item1 = model_glmnet, item2 = model_rf)\n",
    "\n",
    "# Pass model_list to resamples(): resamples\n",
    "resamples<-resamples(model_list)\n",
    "\n",
    "# Summarize the results\n",
    "summary(resamples)"
   ]
  },
  {
   "cell_type": "markdown",
   "metadata": {},
   "source": [
    "### 5.4) (video) More on resamples\n",
    "resamples provides a ton a cool methods for comparing models.\n",
    "\n",
    "- box and box-and-whisker plot of AUC scores like  \n",
    "        bwplot(resamps, metric = \"ROC\")\n",
    "- dotplot show the same information so : \n",
    "        dotplot(resamps, metric = \"ROC\")\n",
    "- a density plor shows the full distribution of AUC scores using kernel density plot.\n",
    "        densityplot(resamps, metric = \"ROC\")\n",
    "- scatterplot to directly compare the AUC on all 10 cross-validation folds\n",
    "        xyplot(resamps, metric = \"ROC\")\n",
    "- if we had many models, we can still sumarize them using the same functions but recomend you to use 'dotplot'"
   ]
  },
  {
   "cell_type": "markdown",
   "metadata": {},
   "source": [
    "### 5.4.1) Create a box-and-whisker plot\n",
    "`caret` provides a variety of methods to use for comparing models. All of these methods are based on the `resamples()` function. My favorite is the *box-and-whisker plot*, which allows you to compare the distribution of predictive accuracy (in this case AUC) for the two models.\n",
    "\n",
    "In general, you want the model with the higher median AUC, as well as a smaller range between min and max AUC.\n",
    "\n",
    "You can make this plot using the `bwplot()` function, which makes a box and whisker plot of the model's out of sample scores. Box and whisker plots show the median of each distribution as a line and the interquartile range of each distribution as a box around the median line. You can pass the `metric = \"ROC\"` argument to the bwplot() function to show a plot of the model's out-of-sample ROC scores and choose the model with the highest median ROC.\n",
    "\n",
    "If you do not specify a metric to plot, `bwplot()` will automatically plot 3 of them.\n",
    "\n",
    "**Exercise**\n",
    "Pass the `resamples` object to the `bwplot()` function to make a box-and-whisker plot. Look at the resulting plot and note which model has the higher median ROC statistic. Be sure to specify which metric you want to plot.\n",
    "\n",
    "*Answer*"
   ]
  },
  {
   "cell_type": "code",
   "execution_count": 56,
   "metadata": {},
   "outputs": [
    {
     "data": {},
     "metadata": {},
     "output_type": "display_data"
    },
    {
     "data": {
      "image/png": "[encoded data removed]",
      "text/plain": [
       "plot without title"
      ]
     },
     "metadata": {},
     "output_type": "display_data"
    }
   ],
   "source": [
    "# Create bwplot\n",
    "bwplot(resamples, metric = \"ROC\")"
   ]
  },
  {
   "cell_type": "markdown",
   "metadata": {},
   "source": [
    "### 5.4.2)  Create a scatterplot\n",
    "Another useful plot for comparing models is the scatterplot, also known as the xy-plot. This plot shows you how similar the two models' performances are on different folds.\n",
    "\n",
    "It's particularly useful for identifying if one model is consistently better than the other across all folds, or if there are situations when the inferior model produces better predictions on a particular subset of the data.\n",
    "\n",
    "**Exercise**\n",
    "\n",
    "Pass the `resamples` object to the `xyplot()` function. Look at the resulting plot and note how similar the two models' predictions are (or are not) on the different folds. Be sure to specify which metric you want to plot.\n",
    "\n",
    "*Answer*"
   ]
  },
  {
   "cell_type": "code",
   "execution_count": 57,
   "metadata": {},
   "outputs": [
    {
     "data": {},
     "metadata": {},
     "output_type": "display_data"
    },
    {
     "data": {
      "image/png": "[encoded data removed]",
      "text/plain": [
       "plot without title"
      ]
     },
     "metadata": {},
     "output_type": "display_data"
    }
   ],
   "source": [
    "# Create xyplot\n",
    "xyplot(resamples, metric = \"ROC\")"
   ]
  },
  {
   "cell_type": "markdown",
   "metadata": {},
   "source": [
    "### 5.4.3) Ensembling models\n",
    "That concludes the course! As a teaser for a future course on making ensembles of `caret models`, I'll show you how to fit a stacked ensemble of models using the `caretEnsemble` package.\n",
    "\n",
    "`caretEnsemble` provides the `caretList()` function for creating multiple `caret` models at once on the same dataset, using the same resampling folds. You can also create your own lists of `caret` models.\n",
    "\n",
    "In this exercise, I've made a `caretList` for you, containing the `glmnet` and `ranger` models you fit on the churn dataset. Use the `caretStack()` function to make a stack of caret models, with the two sub-models (glmnet and ranger) feeding into another (hopefully more accurate!) caret model.\n",
    "\n",
    "**Exercise**\n",
    "\n",
    "- Call the caretStack() function with two arguments, model_list and method = \"glm\", to ensemble the two models using a logistic regression. Store the result as stack.\n",
    "- Summarize the resulting model with the summary() function.\n",
    "\n",
    "*Answer*"
   ]
  },
  {
   "cell_type": "code",
   "execution_count": 58,
   "metadata": {},
   "outputs": [
    {
     "ename": "ERROR",
     "evalue": "Error in caretStack(model_list, method = \"glm\"): no se pudo encontrar la función \"caretStack\"\n",
     "output_type": "error",
     "traceback": [
      "Error in caretStack(model_list, method = \"glm\"): no se pudo encontrar la función \"caretStack\"\nTraceback:\n"
     ]
    }
   ],
   "source": [
    "# Create ensemble model: stack\n",
    "stack <- caretStack(model_list, method = \"glm\")\n",
    "\n",
    "# Look at summary\n",
    "summary(stack)"
   ]
  },
  {
   "cell_type": "code",
   "execution_count": null,
   "metadata": {},
   "outputs": [],
   "source": [
    "library(repr)\n",
    "# Change plot size to 4 x 3\n",
    "    options(repr.plot.width=4, repr.plot.height=3)"
   ]
  },
  {
   "cell_type": "markdown",
   "metadata": {},
   "source": [
    "**Exercise**\n",
    "\n",
    "*Answer*"
   ]
  }
 ],
 "metadata": {
  "kernelspec": {
   "display_name": "R",
   "language": "R",
   "name": "ir"
  },
  "language_info": {
   "codemirror_mode": "r",
   "file_extension": ".r",
   "mimetype": "text/x-r-source",
   "name": "R",
   "pygments_lexer": "r",
   "version": "3.5.1"
  }
 },
 "nbformat": 4,
 "nbformat_minor": 2
}
