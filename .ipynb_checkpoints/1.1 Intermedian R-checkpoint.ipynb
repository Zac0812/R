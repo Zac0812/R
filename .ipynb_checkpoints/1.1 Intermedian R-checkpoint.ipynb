{
 "cells": [
  {
   "cell_type": "markdown",
   "metadata": {},
   "source": [
    "# Logial Operators\n",
    "\n",
    "We can use the following operators :\n",
    "\n",
    "1. Equeal `==`\n",
    "2. Greater and less than `> or <`\n",
    "3. Not Equeal `!=`\n",
    "4. And - Or Operator, we have: `& and |`\n",
    "\n",
    "# Conditional Statments\n",
    "\n",
    "### Conditional if \n",
    "\n",
    "The sintax is:\n",
    "\n",
    "`if (condition) {expr} else {expr}` it´s important to say that we can use `else if` to do more if, if we need it.\n",
    "\n",
    "It's important that the else keyword comes on the same line as the closing bracket of the if part!"
   ]
  },
  {
   "cell_type": "code",
   "execution_count": 1,
   "metadata": {},
   "outputs": [
    {
     "name": "stdout",
     "output_type": "stream",
     "text": [
      "[1] \"No se Cumple\"\n"
     ]
    }
   ],
   "source": [
    "a<-3\n",
    "if (a>5) {print(\"Se cumple la condición\")} else {print(\"No se Cumple\")}"
   ]
  },
  {
   "cell_type": "markdown",
   "metadata": {
    "collapsed": true
   },
   "source": [
    "### While loop\n",
    "\n",
    "The sintax is very similiar as `if` hovewer the difference is, this new conditional repeat the sintax while the conditional  be true\n",
    "\n",
    "`while (condition) {expr}`, aditional we have the posibility to break our statment typing  **`break` **\n",
    "\n",
    "Note: we can stop the process with type `ctrl+c`\n"
   ]
  },
  {
   "cell_type": "code",
   "execution_count": 5,
   "metadata": {},
   "outputs": [
    {
     "name": "stdout",
     "output_type": "stream",
     "text": [
      "[1] 1\n",
      "[1] 2\n",
      "[1] 3\n",
      "[1] 4\n",
      "[1] \"We found the number\"\n"
     ]
    }
   ],
   "source": [
    "num<-1\n",
    "while (num<10) {\n",
    "    if (num%%5==0) {\n",
    "        print(\"We found the number\")\n",
    "        break\n",
    "    } else {\n",
    "        print(num)\n",
    "        num<-num+1\n",
    "        }\n",
    "}"
   ]
  },
  {
   "cell_type": "markdown",
   "metadata": {
    "collapsed": true
   },
   "source": [
    "### for loop\n",
    "\n",
    "The sintax is following:\n",
    "\n",
    "`for (var in seq) {expr}`,\n",
    "\n",
    "It´s important to say the if we want to access to some properties for example the `index` we need modify our code ,how we can show in the example and the same way we can have for into other for:\n",
    "\n",
    "`\n",
    "for (var1 in seq1) {\n",
    "  for (var2 in seq2) {\n",
    "    expr\n",
    "  }\n",
    "}\n",
    "`"
   ]
  },
  {
   "cell_type": "code",
   "execution_count": 15,
   "metadata": {},
   "outputs": [
    {
     "name": "stdout",
     "output_type": "stream",
     "text": [
      "[1] \"Uso del Break\"\n",
      "[1] \"MID\"\n",
      "[1] \"CUN\"\n",
      "[1] \"MEX\"\n",
      "[1] \"--------------------------\"\n",
      "[1] \"Uso del Next\"\n",
      "[1] \"MID\"\n",
      "[1] \"CUN\"\n",
      "[1] \"MEX\"\n",
      "[1] \"GDL esta en la posición 4\"\n",
      "[1] \"MTY\"\n"
     ]
    }
   ],
   "source": [
    "cities<-c(\"MID\",\"CUN\",\"MEX\",\"GDL\",\"MTY\")\n",
    "print(\"Uso del Break\")\n",
    "for (i in cities) {\n",
    "    if (i==\"GDL\") {\n",
    "        break\n",
    "    } else {\n",
    "        print(i)\n",
    "        }\n",
    "}\n",
    "\n",
    "print(\"--------------------------\")\n",
    "print(\"Uso del Next\")\n",
    "for (i in 1: length(cities)) {\n",
    "    if (cities[i]==\"GDL\") {\n",
    "        print(paste(\"GDL esta en la posición\",i))\n",
    "        next\n",
    "    } else {\n",
    "        print(cities[i])\n",
    "        }\n",
    "}"
   ]
  },
  {
   "cell_type": "markdown",
   "metadata": {
    "collapsed": true
   },
   "source": [
    "# Functions\n",
    "A quick review about this:\n",
    "\n",
    "1. Functions works like a black box (recive a input a give a output)\n",
    "2. Arguments matchig: by position or by name\n",
    "3. Functions could have default values\n",
    "\n",
    "Before to star, I´ll present the function **`arg`**  wich allow you to inspect the arguments of a function"
   ]
  },
  {
   "cell_type": "code",
   "execution_count": 3,
   "metadata": {},
   "outputs": [
    {
     "data": {
      "text/html": [
       "<pre class=language-r><code>function (x, na.rm = FALSE) \n",
       "NULL</code></pre>"
      ],
      "text/latex": [
       "\\begin{minted}{r}\n",
       "function (x, na.rm = FALSE) \n",
       "NULL\n",
       "\\end{minted}"
      ],
      "text/markdown": [
       "```r\n",
       "function (x, na.rm = FALSE) \n",
       "NULL\n",
       "```"
      ],
      "text/plain": [
       "function (x, na.rm = FALSE) \n",
       "NULL"
      ]
     },
     "metadata": {},
     "output_type": "display_data"
    }
   ],
   "source": [
    "args(sd)"
   ]
  },
  {
   "cell_type": "markdown",
   "metadata": {
    "collapsed": true
   },
   "source": [
    "## Writings Functions\n",
    "We have the following structure:\n",
    "\n",
    "` my_function<- function(arg1, arg2) {\n",
    "body\n",
    "}\n",
    "`"
   ]
  },
  {
   "cell_type": "code",
   "execution_count": 2,
   "metadata": {},
   "outputs": [
    {
     "data": {
      "text/html": [
       "0"
      ],
      "text/latex": [
       "0"
      ],
      "text/markdown": [
       "0"
      ],
      "text/plain": [
       "[1] 0"
      ]
     },
     "metadata": {},
     "output_type": "display_data"
    }
   ],
   "source": [
    "#Example of a function with a default value and validation \n",
    "my_magical_function <- function (arg1,arg2=1) {\n",
    "    if (arg2==0) {\n",
    "        return (0)\n",
    "    }\n",
    "    arg1*arg2 + arg1/arg2\n",
    "    \n",
    "}\n",
    "\n",
    "my_magical_function(8,0)"
   ]
  },
  {
   "cell_type": "markdown",
   "metadata": {},
   "source": [
    "## Packages\n",
    "There are basically two extremely important functions when it comes down to R packages:\n",
    "\n",
    "`install.packages()`, which as you can expect, installs a given package.\n",
    "\n",
    "`library()` which loads packages, i.e. attaches them to the search list on your R workspace.\n",
    "\n",
    "To install packages, you need administrator privileges. This means that install.packages() will thus not work in the DataCamp interface\n",
    "\n",
    "Before starting, execute the following commands in the console:\n",
    "\n",
    "search(), to look at the currently attached packages and"
   ]
  },
  {
   "cell_type": "code",
   "execution_count": 4,
   "metadata": {},
   "outputs": [
    {
     "data": {
      "text/html": [
       "<ol class=list-inline>\n",
       "\t<li>'.GlobalEnv'</li>\n",
       "\t<li>'jupyter:irkernel'</li>\n",
       "\t<li>'package:stats'</li>\n",
       "\t<li>'package:graphics'</li>\n",
       "\t<li>'package:grDevices'</li>\n",
       "\t<li>'package:utils'</li>\n",
       "\t<li>'package:datasets'</li>\n",
       "\t<li>'package:methods'</li>\n",
       "\t<li>'Autoloads'</li>\n",
       "\t<li>'package:base'</li>\n",
       "</ol>\n"
      ],
      "text/latex": [
       "\\begin{enumerate*}\n",
       "\\item '.GlobalEnv'\n",
       "\\item 'jupyter:irkernel'\n",
       "\\item 'package:stats'\n",
       "\\item 'package:graphics'\n",
       "\\item 'package:grDevices'\n",
       "\\item 'package:utils'\n",
       "\\item 'package:datasets'\n",
       "\\item 'package:methods'\n",
       "\\item 'Autoloads'\n",
       "\\item 'package:base'\n",
       "\\end{enumerate*}\n"
      ],
      "text/markdown": [
       "1. '.GlobalEnv'\n",
       "2. 'jupyter:irkernel'\n",
       "3. 'package:stats'\n",
       "4. 'package:graphics'\n",
       "5. 'package:grDevices'\n",
       "6. 'package:utils'\n",
       "7. 'package:datasets'\n",
       "8. 'package:methods'\n",
       "9. 'Autoloads'\n",
       "10. 'package:base'\n",
       "\n",
       "\n"
      ],
      "text/plain": [
       " [1] \".GlobalEnv\"        \"jupyter:irkernel\"  \"package:stats\"    \n",
       " [4] \"package:graphics\"  \"package:grDevices\" \"package:utils\"    \n",
       " [7] \"package:datasets\"  \"package:methods\"   \"Autoloads\"        \n",
       "[10] \"package:base\"     "
      ]
     },
     "metadata": {},
     "output_type": "display_data"
    },
    {
     "data": {
      "text/html": [
       "<ol class=list-inline>\n",
       "\t<li>'.GlobalEnv'</li>\n",
       "\t<li>'package:ggplot2'</li>\n",
       "\t<li>'jupyter:irkernel'</li>\n",
       "\t<li>'package:stats'</li>\n",
       "\t<li>'package:graphics'</li>\n",
       "\t<li>'package:grDevices'</li>\n",
       "\t<li>'package:utils'</li>\n",
       "\t<li>'package:datasets'</li>\n",
       "\t<li>'package:methods'</li>\n",
       "\t<li>'Autoloads'</li>\n",
       "\t<li>'package:base'</li>\n",
       "</ol>\n"
      ],
      "text/latex": [
       "\\begin{enumerate*}\n",
       "\\item '.GlobalEnv'\n",
       "\\item 'package:ggplot2'\n",
       "\\item 'jupyter:irkernel'\n",
       "\\item 'package:stats'\n",
       "\\item 'package:graphics'\n",
       "\\item 'package:grDevices'\n",
       "\\item 'package:utils'\n",
       "\\item 'package:datasets'\n",
       "\\item 'package:methods'\n",
       "\\item 'Autoloads'\n",
       "\\item 'package:base'\n",
       "\\end{enumerate*}\n"
      ],
      "text/markdown": [
       "1. '.GlobalEnv'\n",
       "2. 'package:ggplot2'\n",
       "3. 'jupyter:irkernel'\n",
       "4. 'package:stats'\n",
       "5. 'package:graphics'\n",
       "6. 'package:grDevices'\n",
       "7. 'package:utils'\n",
       "8. 'package:datasets'\n",
       "9. 'package:methods'\n",
       "10. 'Autoloads'\n",
       "11. 'package:base'\n",
       "\n",
       "\n"
      ],
      "text/plain": [
       " [1] \".GlobalEnv\"        \"package:ggplot2\"   \"jupyter:irkernel\" \n",
       " [4] \"package:stats\"     \"package:graphics\"  \"package:grDevices\"\n",
       " [7] \"package:utils\"     \"package:datasets\"  \"package:methods\"  \n",
       "[10] \"Autoloads\"         \"package:base\"     "
      ]
     },
     "metadata": {},
     "output_type": "display_data"
    }
   ],
   "source": [
    "search()\n",
    "library(\"ggplot2\")\n",
    "search()"
   ]
  },
  {
   "cell_type": "markdown",
   "metadata": {
    "collapsed": true
   },
   "source": [
    "# lapply()\n",
    "\n",
    "It´s a way to iterate over a functions over list or vector, a characteristic about this function is that it always return a `list`"
   ]
  },
  {
   "cell_type": "code",
   "execution_count": 10,
   "metadata": {},
   "outputs": [
    {
     "name": "stdout",
     "output_type": "stream",
     "text": [
      "[1] \"numeric\"\n",
      "[1] \"character\"\n",
      "[1] \"logical\"\n"
     ]
    },
    {
     "data": {
      "text/html": [
       "<dl>\n",
       "\t<dt>$a1</dt>\n",
       "\t\t<dd>'numeric'</dd>\n",
       "\t<dt>$b1</dt>\n",
       "\t\t<dd>'character'</dd>\n",
       "\t<dt>$c</dt>\n",
       "\t\t<dd>'logical'</dd>\n",
       "</dl>\n"
      ],
      "text/latex": [
       "\\begin{description}\n",
       "\\item[\\$a1] 'numeric'\n",
       "\\item[\\$b1] 'character'\n",
       "\\item[\\$c] 'logical'\n",
       "\\end{description}\n"
      ],
      "text/markdown": [
       "$a1\n",
       ":   'numeric'\n",
       "$b1\n",
       ":   'character'\n",
       "$c\n",
       ":   'logical'\n",
       "\n",
       "\n"
      ],
      "text/plain": [
       "$a1\n",
       "[1] \"numeric\"\n",
       "\n",
       "$b1\n",
       "[1] \"character\"\n",
       "\n",
       "$c\n",
       "[1] \"logical\"\n"
      ]
     },
     "metadata": {},
     "output_type": "display_data"
    },
    {
     "data": {
      "text/html": [
       "<dl class=dl-horizontal>\n",
       "\t<dt>a1</dt>\n",
       "\t\t<dd>'numeric'</dd>\n",
       "\t<dt>b1</dt>\n",
       "\t\t<dd>'character'</dd>\n",
       "\t<dt>c</dt>\n",
       "\t\t<dd>'logical'</dd>\n",
       "</dl>\n"
      ],
      "text/latex": [
       "\\begin{description*}\n",
       "\\item[a1] 'numeric'\n",
       "\\item[b1] 'character'\n",
       "\\item[c] 'logical'\n",
       "\\end{description*}\n"
      ],
      "text/markdown": [
       "a1\n",
       ":   'numeric'b1\n",
       ":   'character'c\n",
       ":   'logical'\n",
       "\n"
      ],
      "text/plain": [
       "         a1          b1           c \n",
       "  \"numeric\" \"character\"   \"logical\" "
      ]
     },
     "metadata": {},
     "output_type": "display_data"
    }
   ],
   "source": [
    "a<-list(\"a1\"=4000,\"b1\"=c(\"Luis\",\"Antonio\"),\"c\"=F)\n",
    "for (i in a) {\n",
    "    print(class(i))\n",
    "}\n",
    "\n",
    "#Other way\n",
    "\n",
    "lapply(a,class)\n",
    "\n",
    "#If we want our datas in form of no-list i.e vector\n",
    "unlist(lapply(a,class))\n"
   ]
  },
  {
   "cell_type": "code",
   "execution_count": 15,
   "metadata": {},
   "outputs": [
    {
     "data": {
      "text/html": [
       "<ol class=list-inline>\n",
       "\t<li>30</li>\n",
       "\t<li>60</li>\n",
       "\t<li>90</li>\n",
       "\t<li>120</li>\n",
       "\t<li>150</li>\n",
       "\t<li>180</li>\n",
       "</ol>\n"
      ],
      "text/latex": [
       "\\begin{enumerate*}\n",
       "\\item 30\n",
       "\\item 60\n",
       "\\item 90\n",
       "\\item 120\n",
       "\\item 150\n",
       "\\item 180\n",
       "\\end{enumerate*}\n"
      ],
      "text/markdown": [
       "1. 30\n",
       "2. 60\n",
       "3. 90\n",
       "4. 120\n",
       "5. 150\n",
       "6. 180\n",
       "\n",
       "\n"
      ],
      "text/plain": [
       "[1]  30  60  90 120 150 180"
      ]
     },
     "metadata": {},
     "output_type": "display_data"
    }
   ],
   "source": [
    "#We can create our own functions\n",
    "mul3<- function(a=0) {\n",
    "    a*3\n",
    "}\n",
    "\n",
    "oil_price= list(10,20,30,40,50,60)\n",
    "unlist(lapply(oil_price,mul3))"
   ]
  },
  {
   "cell_type": "markdown",
   "metadata": {
    "collapsed": true
   },
   "source": [
    "# sapply (simplify)\n",
    "It´s a way to obtain ours results keeping the type of ours datas, for this we can use the functions `sapply`\n",
    "\n",
    "You can use sapply() similar to how you used lapply(). The first argument of sapply() is the list or vector X over which you want to apply a function, FUN. Potential additional arguments to this function are specified afterwards (...):\n",
    "\n",
    "# vapply \n",
    "Apply a function over list or vector **explicity specify** output format\n",
    "`vapply(X, FUN, FUN.VALUE, ..., USE.NAMES = TRUE)`\n",
    "\n",
    "Over the elements inside X, the function FUN is applied. The FUN.VALUE argument expects a template for the return argument of this function FUN. USE.NAMES is TRUE by default; in this case vapply() tries to generate a named array, if possible.\n"
   ]
  },
  {
   "cell_type": "markdown",
   "metadata": {},
   "source": [
    "# Mathematical utilities\n",
    "Have another look at some useful math functions that R features:\n",
    "\n",
    "1. abs(): Calculate the absolute value.\n",
    "2. sum(): Calculate the sum of all the values in a data structure.\n",
    "3. mean(): Calculate the arithmetic mean.\n",
    "4. round(): Round the values to 0 decimal places by default. Try out ?round in the console for variations of round() and ways to change the number of digits to round to.\n",
    "\n",
    "R features a bunch of functions to juggle around with data structures::\n",
    "\n",
    "    >seq(): Generate sequences, by specifying the from, to, and by arguments.\n",
    "    >rep(): Replicate elements of vectors and lists.\n",
    "    >sort(): Sort a vector in ascending order. Works on numerics, but also on character strings and logicals.\n",
    "    >rev(): Reverse the elements in a data structures for which reversal is defined.\n",
    "    >str(): Display the structure of any R object.\n",
    "    >append(): Merge vectors or lists.\n",
    "    >is.*(): Check for the class of an R object.\n",
    "    >as.*(): Convert an R object from one class to another.\n",
    "    >unlist(): Flatten (possibly embedded) lists to produce a vector."
   ]
  },
  {
   "cell_type": "markdown",
   "metadata": {
    "collapsed": true
   },
   "source": [
    "# Regular Expressions\n",
    "\n",
    "In their most basic form, regular expressions can be used to see whether a pattern exists inside a character string or a vector of character strings. For this purpose, you can use:\n",
    "\n",
    "1. grepl(), which returns TRUE when a pattern is found in the corresponding character string.\n",
    "2. grep(), which returns a vector of indices of the character strings that contains the pattern.\n",
    "\n",
    "Both functions need a pattern and an x argument, where pattern is the regular expression you want to match for, and the x argument is the character vector from which matches should be sought.\n",
    "\n",
    "You can use the caret, ^, and the dollar sign, $ to match the content located in the start and end of a string, respectively. This could take us one step closer to a correct pattern for matching only the \".edu\" email addresses from our list of emails. But there's more that can be added to make the pattern more robust:\n",
    "\n",
    "**@**, because a valid email must contain an at-sign.\n",
    "\n",
    ".\\* , which matches any character (.) zero or more times (\\*)  Both the dot and the asterisk are metacharacters. You can use them to match any character between the at-sign and the \".edu\" portion of an email address.\n",
    "\n",
    "\\\\\\\\.edu$, to match the \".edu\" part of the email at the end of the string. The \\\\\\ part escapes the dot: it tells R that you want to use the . as an actual character."
   ]
  },
  {
   "cell_type": "code",
   "execution_count": 2,
   "metadata": {},
   "outputs": [
    {
     "data": {
      "text/html": [
       "<ol class=list-inline>\n",
       "\t<li>TRUE</li>\n",
       "\t<li>TRUE</li>\n",
       "\t<li>FALSE</li>\n",
       "\t<li>TRUE</li>\n",
       "\t<li>TRUE</li>\n",
       "\t<li>FALSE</li>\n",
       "</ol>\n"
      ],
      "text/latex": [
       "\\begin{enumerate*}\n",
       "\\item TRUE\n",
       "\\item TRUE\n",
       "\\item FALSE\n",
       "\\item TRUE\n",
       "\\item TRUE\n",
       "\\item FALSE\n",
       "\\end{enumerate*}\n"
      ],
      "text/markdown": [
       "1. TRUE\n",
       "2. TRUE\n",
       "3. FALSE\n",
       "4. TRUE\n",
       "5. TRUE\n",
       "6. FALSE\n",
       "\n",
       "\n"
      ],
      "text/plain": [
       "[1]  TRUE  TRUE FALSE  TRUE  TRUE FALSE"
      ]
     },
     "metadata": {},
     "output_type": "display_data"
    },
    {
     "data": {
      "text/html": [
       "<ol class=list-inline>\n",
       "\t<li>'john.doe@ivyleague.edu'</li>\n",
       "\t<li>'education@world.gov'</li>\n",
       "\t<li>'invalid.edu'</li>\n",
       "\t<li>'quant@bigdatacollege.edu'</li>\n",
       "</ol>\n"
      ],
      "text/latex": [
       "\\begin{enumerate*}\n",
       "\\item 'john.doe@ivyleague.edu'\n",
       "\\item 'education@world.gov'\n",
       "\\item 'invalid.edu'\n",
       "\\item 'quant@bigdatacollege.edu'\n",
       "\\end{enumerate*}\n"
      ],
      "text/markdown": [
       "1. 'john.doe@ivyleague.edu'\n",
       "2. 'education@world.gov'\n",
       "3. 'invalid.edu'\n",
       "4. 'quant@bigdatacollege.edu'\n",
       "\n",
       "\n"
      ],
      "text/plain": [
       "[1] \"john.doe@ivyleague.edu\"   \"education@world.gov\"     \n",
       "[3] \"invalid.edu\"              \"quant@bigdatacollege.edu\""
      ]
     },
     "metadata": {},
     "output_type": "display_data"
    }
   ],
   "source": [
    "emails <- c(\"john.doe@ivyleague.edu\", \"education@world.gov\", \"dalai.lama@peace.org\",\n",
    "            \"invalid.edu\", \"quant@bigdatacollege.edu\", \"cookie.monster@sesame.tv\")\n",
    "# Use grepl() to match for \"edu\"\n",
    "grepl(\"edu\",emails)\n",
    "\n",
    "# Use grep() to match for \"edu\", save result to hits\n",
    "hits<-grep(\"edu\",emails)\n",
    "\n",
    "# Subset emails using hits\n",
    "emails[hits]"
   ]
  },
  {
   "cell_type": "code",
   "execution_count": 3,
   "metadata": {},
   "outputs": [
    {
     "data": {
      "text/html": [
       "<ol class=list-inline>\n",
       "\t<li>TRUE</li>\n",
       "\t<li>FALSE</li>\n",
       "\t<li>FALSE</li>\n",
       "\t<li>FALSE</li>\n",
       "\t<li>TRUE</li>\n",
       "\t<li>FALSE</li>\n",
       "</ol>\n"
      ],
      "text/latex": [
       "\\begin{enumerate*}\n",
       "\\item TRUE\n",
       "\\item FALSE\n",
       "\\item FALSE\n",
       "\\item FALSE\n",
       "\\item TRUE\n",
       "\\item FALSE\n",
       "\\end{enumerate*}\n"
      ],
      "text/markdown": [
       "1. TRUE\n",
       "2. FALSE\n",
       "3. FALSE\n",
       "4. FALSE\n",
       "5. TRUE\n",
       "6. FALSE\n",
       "\n",
       "\n"
      ],
      "text/plain": [
       "[1]  TRUE FALSE FALSE FALSE  TRUE FALSE"
      ]
     },
     "metadata": {},
     "output_type": "display_data"
    },
    {
     "data": {
      "text/html": [
       "<ol class=list-inline>\n",
       "\t<li>'john.doe@ivyleague.edu'</li>\n",
       "\t<li>'quant@bigdatacollege.edu'</li>\n",
       "</ol>\n"
      ],
      "text/latex": [
       "\\begin{enumerate*}\n",
       "\\item 'john.doe@ivyleague.edu'\n",
       "\\item 'quant@bigdatacollege.edu'\n",
       "\\end{enumerate*}\n"
      ],
      "text/markdown": [
       "1. 'john.doe@ivyleague.edu'\n",
       "2. 'quant@bigdatacollege.edu'\n",
       "\n",
       "\n"
      ],
      "text/plain": [
       "[1] \"john.doe@ivyleague.edu\"   \"quant@bigdatacollege.edu\""
      ]
     },
     "metadata": {},
     "output_type": "display_data"
    }
   ],
   "source": [
    "# Use grepl() to match for .edu addresses more robustly\n",
    "grepl(\"@.*\\\\.edu$\",emails)\n",
    "\n",
    "# Use grep() to match for .edu addresses more robustly, save result to hits\n",
    "hits<-grep(\"@.*\\\\.edu$\",emails)\n",
    "\n",
    "# Subset emails using hits\n",
    "emails[hits]"
   ]
  },
  {
   "cell_type": "markdown",
   "metadata": {},
   "source": [
    "# sub & gsub\n",
    "\n",
    "While grep() and grepl() were used to simply check whether a regular expression could be matched with a character vector, sub() and gsub() take it one step further: you can specify a replacement argument. If inside the character vector x, the regular expression pattern is found, the matching element(s) will be replaced with replacement.sub() only replaces the first match, whereas gsub() replaces all matches.\n",
    "\n",
    "Regular expressions are a typical concept that you'll learn by doing and by seeing other examples. Before you rack your brains over the regular expression in this exercise, have a look at the new things that will be used:\n",
    "\n",
    "    > .*: A usual suspect! It can be read as \"any character that is matched zero or more times\".\n",
    "    > \\\\s: Match a space. The \"s\" is normally a character, escaping it (\\\\) makes it a metacharacter.\n",
    "    > [0-9]+: Match the numbers 0 to 9, at least once (+).\n",
    "    > ([0-9]+): The parentheses are used to make parts of the matching string available to define the replacement. The \\\\1 in the replacement argument of sub() gets set to the string that is captured by the regular expression [0-9]+."
   ]
  },
  {
   "cell_type": "code",
   "execution_count": 4,
   "metadata": {},
   "outputs": [
    {
     "data": {
      "text/html": [
       "<ol class=list-inline>\n",
       "\t<li>'john.doe@datacamp.edu'</li>\n",
       "\t<li>'education@world.gov'</li>\n",
       "\t<li>'dalai.lama@peace.org'</li>\n",
       "\t<li>'invalid.edu'</li>\n",
       "\t<li>'quant@datacamp.edu'</li>\n",
       "\t<li>'cookie.monster@sesame.tv'</li>\n",
       "</ol>\n"
      ],
      "text/latex": [
       "\\begin{enumerate*}\n",
       "\\item 'john.doe@datacamp.edu'\n",
       "\\item 'education@world.gov'\n",
       "\\item 'dalai.lama@peace.org'\n",
       "\\item 'invalid.edu'\n",
       "\\item 'quant@datacamp.edu'\n",
       "\\item 'cookie.monster@sesame.tv'\n",
       "\\end{enumerate*}\n"
      ],
      "text/markdown": [
       "1. 'john.doe@datacamp.edu'\n",
       "2. 'education@world.gov'\n",
       "3. 'dalai.lama@peace.org'\n",
       "4. 'invalid.edu'\n",
       "5. 'quant@datacamp.edu'\n",
       "6. 'cookie.monster@sesame.tv'\n",
       "\n",
       "\n"
      ],
      "text/plain": [
       "[1] \"john.doe@datacamp.edu\"    \"education@world.gov\"     \n",
       "[3] \"dalai.lama@peace.org\"     \"invalid.edu\"             \n",
       "[5] \"quant@datacamp.edu\"       \"cookie.monster@sesame.tv\""
      ]
     },
     "metadata": {},
     "output_type": "display_data"
    }
   ],
   "source": [
    "# Use sub() to convert the email domains to datacamp.edu\n",
    "sub(\"@.*\\\\.edu$\",\"@datacamp.edu\",emails)"
   ]
  },
  {
   "cell_type": "markdown",
   "metadata": {},
   "source": [
    "# Dates y Date Times\n",
    "\n",
    "In R, dates are represented by Date objects, while times are represented by POSIXct objects. Under the hood, however, these dates and times are simple numerical values. Date objects store the number of days since the 1st of January in 1970. POSIXct objects on the other hand, store the number of seconds since the 1st of January in 1970.\n",
    "\n",
    "The 1st of January in 1970 is the common origin for representing times and dates in a wide range of programming languages. There is no particular reason for this; it is a simple convention. Of course, it's also possible to create dates and times before 1970; the corresponding numerical values are simply negative in this case.\n",
    "\n",
    "## Create and format dates\n",
    "To create a Date object from a simple character string in R, you can use the as.Date() function. The character string has to obey a format that can be defined using a set of symbols (the examples correspond to 13 January, 1982):\n",
    "\n",
    "    %Y: 4-digit year (1982)\n",
    "    %y: 2-digit year (82)\n",
    "    %m: 2-digit month (01)\n",
    "    %d: 2-digit day of the month (13)\n",
    "    %A: weekday (Wednesday)\n",
    "    %a: abbreviated weekday (Wed)\n",
    "    %B: month (January)\n",
    "    %b: abbreviated month (Jan)\n",
    "The following R commands will all create the same Date object for the 13th day in January of 1982:\n",
    "\n",
    "`as.Date(\"1982-01-13\")\n",
    "as.Date(\"Jan-13-82\", format = \"%b-%d-%y\")\n",
    "as.Date(\"13 January, 1982\", format = \"%d %B, %Y\")`\n",
    "\n",
    "In addition to creating dates, you can also convert dates to character strings that use a different date notation. For this, you use the format()\n",
    "\n",
    "`today <- Sys.Date()\n",
    "format(Sys.Date(), format = \"%d %B, %Y\")\n",
    "format(Sys.Date(), format = \"Today is a %A!\")\n",
    "`"
   ]
  },
  {
   "cell_type": "code",
   "execution_count": 6,
   "metadata": {},
   "outputs": [
    {
     "data": {
      "text/html": [
       "17829"
      ],
      "text/latex": [
       "17829"
      ],
      "text/markdown": [
       "17829"
      ],
      "text/plain": [
       "[1] 17829"
      ]
     },
     "metadata": {},
     "output_type": "display_data"
    },
    {
     "data": {
      "text/html": [
       "1540526472.32687"
      ],
      "text/latex": [
       "1540526472.32687"
      ],
      "text/markdown": [
       "1540526472.32687"
      ],
      "text/plain": [
       "[1] 1540526472"
      ]
     },
     "metadata": {},
     "output_type": "display_data"
    }
   ],
   "source": [
    "# Get the current date: today\n",
    "today<-Sys.Date()\n",
    "\n",
    "# See what today looks like under the hood\n",
    "unclass(today)\n",
    "\n",
    "# Get the current time: now\n",
    "now<-Sys.time()\n",
    "\n",
    "# See what now looks like under the hood\n",
    "unclass(now)"
   ]
  },
  {
   "cell_type": "code",
   "execution_count": 7,
   "metadata": {},
   "outputs": [
    {
     "data": {
      "text/html": [
       "NA"
      ],
      "text/latex": [
       "NA"
      ],
      "text/markdown": [
       "NA"
      ],
      "text/plain": [
       "[1] NA"
      ]
     },
     "metadata": {},
     "output_type": "display_data"
    },
    {
     "data": {
      "text/html": [
       "'15'"
      ],
      "text/latex": [
       "'15'"
      ],
      "text/markdown": [
       "'15'"
      ],
      "text/plain": [
       "[1] \"15\""
      ]
     },
     "metadata": {},
     "output_type": "display_data"
    },
    {
     "data": {
      "text/html": [
       "NA"
      ],
      "text/latex": [
       "NA"
      ],
      "text/markdown": [
       "NA"
      ],
      "text/plain": [
       "[1] NA"
      ]
     },
     "metadata": {},
     "output_type": "display_data"
    }
   ],
   "source": [
    "# Definition of character strings representing dates\n",
    "str1 <- \"May 23, '96\"\n",
    "str2 <- \"2012-03-15\"\n",
    "str3 <- \"30/January/2006\"\n",
    "\n",
    "# Convert the strings to dates: date1, date2, date3\n",
    "date1 <- as.Date(str1, format = \"%b %d, '%y\")\n",
    "date2 <- as.Date(str2)\n",
    "date3 <- as.Date(str3, format = \"%d/%B/%Y\")\n",
    "\n",
    "\n",
    "format(date1, \"%A\")\n",
    "format(date2, \"%d\")\n",
    "format(date3, \"%b%Y\")"
   ]
  },
  {
   "cell_type": "markdown",
   "metadata": {},
   "source": [
    "Create and format times\n",
    "Similar to working with dates, you can use as.POSIXct() to convert from a character string to a POSIXct object, and format() to convert from a POSIXct object to a character string. Again, you have a wide variety of symbols:\n",
    "\n",
    "    %H: hours as a decimal number (00-23)\n",
    "    %I: hours as a decimal number (01-12)\n",
    "    %M: minutes as a decimal number\n",
    "    %S: seconds as a decimal number\n",
    "    %T: shorthand notation for the typical format %H:%M:%S\n",
    "    %p: AM/PM indicator\n",
    "\n",
    "For a full list of conversion symbols, consult the strptime documentation in the console:"
   ]
  },
  {
   "cell_type": "code",
   "execution_count": null,
   "metadata": {
    "collapsed": true
   },
   "outputs": [],
   "source": []
  }
 ],
 "metadata": {
  "kernelspec": {
   "display_name": "R",
   "language": "R",
   "name": "ir"
  },
  "language_info": {
   "codemirror_mode": "r",
   "file_extension": ".r",
   "mimetype": "text/x-r-source",
   "name": "R",
   "pygments_lexer": "r",
   "version": "3.4.3"
  }
 },
 "nbformat": 4,
 "nbformat_minor": 2
}
