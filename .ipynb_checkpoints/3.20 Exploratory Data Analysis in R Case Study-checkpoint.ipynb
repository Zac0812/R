{
 "cells": [
  {
   "cell_type": "markdown",
   "metadata": {},
   "source": [
    "# Exploratory Data Analysis in R: Case Study\n",
    "\n",
    "### Course Description\n",
    "Once you've started learning tools for data manipulation and visualization like dplyr and ggplot2, this course gives you a chance to use them in action on a real dataset. You'll explore the historical voting of the United Nations General Assembly, including analyzing differences in voting between countries, across time, and among international issues. In the process you'll gain more practice with the dplyr and ggplot2 packages, learn about the broom package for tidying model output, and experience the kind of start-to-finish exploratory analysis common in data science.\n",
    "\n",
    "### Note how can Resizing plots in the R kernel for Jupyter notebooks\n",
    "https://blog.revolutionanalytics.com/2015/09/resizing-plots-in-the-r-kernel-for-jupyter-notebooks.html\n",
    "\n",
    "    library(repr)\n",
    "\n",
    "    # Change plot size to 4 x 3\n",
    "    options(repr.plot.width=4, repr.plot.height=3)\n",
    "    \n",
    "### Note2 Generate a table \n",
    "https://www.tablesgenerator.com/markdown_tables\n",
    "\n",
    "### Note 3 - DataFrames"
   ]
  },
  {
   "cell_type": "code",
   "execution_count": 1,
   "metadata": {},
   "outputs": [
    {
     "name": "stderr",
     "output_type": "stream",
     "text": [
      "Warning message:\n",
      "\"package 'dplyr' was built under R version 3.5.3\"\n",
      "Attaching package: 'dplyr'\n",
      "\n",
      "The following objects are masked from 'package:stats':\n",
      "\n",
      "    filter, lag\n",
      "\n",
      "The following objects are masked from 'package:base':\n",
      "\n",
      "    intersect, setdiff, setequal, union\n",
      "\n"
     ]
    }
   ],
   "source": [
    "library(dplyr)\n",
    "library(ggplot2)\n",
    "library(readr)\n",
    "library(tidyr)\n",
    "\n",
    "\n",
    "descriptions<-readRDS(\"D:/Analista Pricing/6.0 Personal/R/DataSources/descriptions.rds\")\n",
    "votes<-readRDS(\"D:/Analista Pricing/6.0 Personal/R/DataSources/votes.rds\")\n"
   ]
  },
  {
   "cell_type": "markdown",
   "metadata": {},
   "source": [
    "## 1) Data cleaning and summarizing with dplyr\n",
    "The best way to learn data wrangling skills is to apply them to a specific case study. Here you'll learn how to clean and filter the United Nations voting dataset using the dplyr package, and how to summarize it into smaller, interpretable units.\n",
    "\n",
    "### 1.1) (video) The United Nations voting dataset\n",
    "Our dataset `votes` has the following columns or variables:\n",
    "\n",
    "    1) rcid: Roll call Id\n",
    "    2) sesion: year, it´s very hard to intepreted however but if you noticed that the first session in the united nation it was 1945, so you can add to each sesion this year.\n",
    "    3) vote: has 5 posibility values (1:Yes, 2:Abstain, 3: No, 8: Not Present, 9 : Not a member)\n",
    "    4) ccode: country code\n",
    "\n",
    "#### 1.1.1) Filtering rows\n",
    "The vote column in the dataset has a number that represents that country's vote:\n",
    "\n",
    "    1 = Yes\n",
    "    2 = Abstain\n",
    "    3 = No\n",
    "    8 = Not present\n",
    "    9 = Not a member\n",
    "    \n",
    "One step of data cleaning is removing observations (rows) that you're not interested in. In this case, you want to remove \"Not present\" and \"Not a member\".\n",
    "\n",
    "**Exercise**\n",
    "1. Load the dplyr package.\n",
    "2. Print the votes table.\n",
    "3. Filter out rows where the vote recorded is \"not present\" or \"not a member\", leaving cases where it is \"yes\", \"abstain\", or \"no\".\n",
    "\n",
    "*Answer*\n",
    "\n",
    "    # Load the dplyr package\n",
    "    library(\"dplyr\")\n",
    "\n",
    "    # Print the votes dataset\n",
    "    votes\n",
    "\n",
    "    # Filter for votes that are \"yes\", \"abstain\", or \"no\"\n",
    "    filter(votes, vote <= 3 )\n",
    "\n",
    "#### 1.1.2) Adding a year column\n",
    "The next step of data cleaning is manipulating your variables (columns) to make them more informative.\n",
    "\n",
    "In this case, you have a session column that is hard to interpret intuitively. But since the UN started voting in 1946, and holds one session per year, you can get the year of a UN resolution by adding 1945 to the session number.\n",
    "\n",
    "\n",
    "**Exercise**\n",
    "Use mutate() to add a year column by adding 1945 to the session column.\n",
    "\n",
    "*Answer*    \n",
    "\n",
    "    # Add another %>% step to add a year column\n",
    "    votes %>%\n",
    "      filter(vote <= 3) %>%\n",
    "      mutate(year = session + 1945)\n",
    "\n",
    "#### 1.1.3) Adding a country column\n",
    "The country codes in the ccode column are what's called Correlates of War codes. This isn't ideal for an analysis, since you'd like to work with recognizable country names.\n",
    "\n",
    "You can use the countrycode package to translate. For example:\n",
    "\n",
    "    library(countrycode)\n",
    "\n",
    "    # Translate the country code 2\n",
    "    > countrycode(2, \"cown\", \"country.name\")\n",
    "    [1] \"United States\"\n",
    "\n",
    "    # Translate multiple country codes\n",
    "    > countrycode(c(2, 20, 40), \"cown\", \"country.name\")\n",
    "    [1] \"United States\" \"Canada\"        \"Cuba\"\n",
    "    \n",
    "**Exercise**\n",
    "1.Load the countrycode package.\n",
    "2. Convert the country code 100 to its country name.\n",
    "3. Add a new country column in your mutate() statement containing country names, using the countrycode() function to translate from the ccode column. Save the result to votes_processed.\n",
    "\n",
    "*Answer*    "
   ]
  },
  {
   "cell_type": "code",
   "execution_count": 2,
   "metadata": {},
   "outputs": [
    {
     "name": "stderr",
     "output_type": "stream",
     "text": [
      "Warning message:\n",
      "\"package 'countrycode' was built under R version 3.5.3\""
     ]
    },
    {
     "data": {
      "text/html": [
       "'Colombia'"
      ],
      "text/latex": [
       "'Colombia'"
      ],
      "text/markdown": [
       "'Colombia'"
      ],
      "text/plain": [
       "[1] \"Colombia\""
      ]
     },
     "metadata": {},
     "output_type": "display_data"
    },
    {
     "name": "stderr",
     "output_type": "stream",
     "text": [
      "Warning message in countrycode(ccode, \"cown\", \"country.name\"):\n",
      "\"Some values were not matched unambiguously: 260, 816\n",
      "\""
     ]
    },
    {
     "data": {
      "text/html": [
       "<table>\n",
       "<thead><tr><th scope=col>rcid</th><th scope=col>session</th><th scope=col>vote</th><th scope=col>ccode</th><th scope=col>year</th><th scope=col>country</th></tr></thead>\n",
       "<tbody>\n",
       "\t<tr><td>46                </td><td>2                 </td><td>1                 </td><td> 2                </td><td>1947              </td><td>United States     </td></tr>\n",
       "\t<tr><td>46                </td><td>2                 </td><td>1                 </td><td>20                </td><td>1947              </td><td>Canada            </td></tr>\n",
       "\t<tr><td>46                </td><td>2                 </td><td>1                 </td><td>40                </td><td>1947              </td><td>Cuba              </td></tr>\n",
       "\t<tr><td>46                </td><td>2                 </td><td>1                 </td><td>41                </td><td>1947              </td><td>Haiti             </td></tr>\n",
       "\t<tr><td>46                </td><td>2                 </td><td>1                 </td><td>42                </td><td>1947              </td><td>Dominican Republic</td></tr>\n",
       "\t<tr><td>46                </td><td>2                 </td><td>1                 </td><td>70                </td><td>1947              </td><td>Mexico            </td></tr>\n",
       "</tbody>\n",
       "</table>\n"
      ],
      "text/latex": [
       "\\begin{tabular}{r|llllll}\n",
       " rcid & session & vote & ccode & year & country\\\\\n",
       "\\hline\n",
       "\t 46                 & 2                  & 1                  &  2                 & 1947               & United States     \\\\\n",
       "\t 46                 & 2                  & 1                  & 20                 & 1947               & Canada            \\\\\n",
       "\t 46                 & 2                  & 1                  & 40                 & 1947               & Cuba              \\\\\n",
       "\t 46                 & 2                  & 1                  & 41                 & 1947               & Haiti             \\\\\n",
       "\t 46                 & 2                  & 1                  & 42                 & 1947               & Dominican Republic\\\\\n",
       "\t 46                 & 2                  & 1                  & 70                 & 1947               & Mexico            \\\\\n",
       "\\end{tabular}\n"
      ],
      "text/markdown": [
       "\n",
       "rcid | session | vote | ccode | year | country | \n",
       "|---|---|---|---|---|---|\n",
       "| 46                 | 2                  | 1                  |  2                 | 1947               | United States      | \n",
       "| 46                 | 2                  | 1                  | 20                 | 1947               | Canada             | \n",
       "| 46                 | 2                  | 1                  | 40                 | 1947               | Cuba               | \n",
       "| 46                 | 2                  | 1                  | 41                 | 1947               | Haiti              | \n",
       "| 46                 | 2                  | 1                  | 42                 | 1947               | Dominican Republic | \n",
       "| 46                 | 2                  | 1                  | 70                 | 1947               | Mexico             | \n",
       "\n",
       "\n"
      ],
      "text/plain": [
       "  rcid session vote ccode year country           \n",
       "1 46   2       1     2    1947 United States     \n",
       "2 46   2       1    20    1947 Canada            \n",
       "3 46   2       1    40    1947 Cuba              \n",
       "4 46   2       1    41    1947 Haiti             \n",
       "5 46   2       1    42    1947 Dominican Republic\n",
       "6 46   2       1    70    1947 Mexico            "
      ]
     },
     "metadata": {},
     "output_type": "display_data"
    }
   ],
   "source": [
    "# Load the countrycode package\n",
    "library(countrycode)\n",
    "\n",
    "# Convert country code 100\n",
    "countrycode(100, \"cown\", \"country.name\")\n",
    "\n",
    "\n",
    "#unique(votes$ccode)\n",
    "#countrycode(unique(votes$ccode), \"cown\", \"country.name\") \n",
    "\n",
    "# Add a country column within the mutate: votes_processed\n",
    "votes_processed <- votes %>%\n",
    "  filter(vote <= 3) %>%\n",
    "  mutate(year = session + 1945, country = countrycode(ccode, \"cown\", \"country.name\")) \n",
    "\n",
    "head(votes_processed)"
   ]
  },
  {
   "cell_type": "markdown",
   "metadata": {},
   "source": [
    "### 1.2) (video) Grouping and summarizing\n",
    "\n",
    "#### 1.2.1) Summarizing the full dataset\n",
    "In this analysis, you're going to focus on `\"% of votes that are yes\"` as a metric for the \"agreeableness\" of countries.\n",
    "\n",
    "You'll start by finding this summary for the entire dataset: the fraction of all votes in their history that were `\"yes\"`. Note that within your call to `summarize()`, you can use `n()` to find the total number of votes and `mean(vote == 1)` to find the fraction of \"yes\" votes.\n",
    "\n",
    "**Exercise**\n",
    "1. Print the votes_processed dataset that you created in the previous exercise.\n",
    "2. Summarize the dataset using the summarize() function to create two columns:\n",
    "    * total: with the number of votes\n",
    "    * percent_yes: the percentage of \"yes\" votes\n",
    "    \n",
    "*Answer* \n",
    "\n",
    "    # Print votes_processed\n",
    "    votes_processed\n",
    "\n",
    "    # Find total and fraction of \"yes\" votes\n",
    "    votes_processed %>% \n",
    "    summarize(total = n(), percent_yes = mean( vote == 1))\n",
    "    \n",
    "#### 1.2.2) Summarizing by year\n",
    "The summarize() function is especially useful because it can be used within groups.\n",
    "\n",
    "For example, you might like to know how much the average \"agreeableness\" of countries changed from year to year. To examine this, you can use group_by() to perform your summary not for the entire dataset, but within each year.\n",
    "\n",
    "**Exercise**    \n",
    "Add a group_by() to your code to summarize() within each year.\n",
    "\n",
    "*Answer* \n",
    "\n",
    "    # Change this code to summarize by year\n",
    "    votes_processed %>%\n",
    "      group_by(year) %>%\n",
    "      summarize(total = n(),\n",
    "                percent_yes = mean(vote == 1))\n",
    "\n",
    "#### 1.2.3) Summarizing by country\n",
    "In the last exercise, you performed a summary of the votes within each year. You could instead summarize() within each country, which would let you compare voting patterns between countries.\n",
    "\n",
    "\n",
    "**Exercise**   \n",
    "Change the code in the editor to summarize() within each country rather than within each year. Save the result as by_country.\n",
    "\n",
    "*Answer*"
   ]
  },
  {
   "cell_type": "code",
   "execution_count": 3,
   "metadata": {},
   "outputs": [],
   "source": [
    "# Summarize by country: by_country\n",
    "by_country<-votes_processed %>%\n",
    "  group_by(country) %>%\n",
    "  summarize(total = n(),\n",
    "            percent_yes = mean(vote == 1))"
   ]
  },
  {
   "cell_type": "markdown",
   "metadata": {},
   "source": [
    "### 1.3) (video) Sorting and filtering summarized data\n",
    "\n",
    "#### 1.3.1) Sorting by percentage of \"yes\" votes\n",
    "Now that you've summarized the dataset by country, you can start examining it and answering interesting questions.\n",
    "\n",
    "For example, you might be especially interested in the countries that voted \"yes\" least often, or the ones that voted \"yes\" most often.\n",
    "\n",
    "**Exercise** \n",
    "1. Print the by_country dataset created in the last exercise.\n",
    "2. Use arrange() to sort the countries in ascending order of percent_yes.\n",
    "3. Arrange the countries by the same variable, but in descending order.\n",
    "\n",
    "*Answer*\n",
    "\n",
    "    # You have the votes summarized by country\n",
    "    by_country <- votes_processed %>%\n",
    "      group_by(country) %>%\n",
    "      summarize(total = n(),\n",
    "                percent_yes = mean(vote == 1))\n",
    "\n",
    "    # Print the by_country dataset\n",
    "    by_country\n",
    "\n",
    "    # Sort in ascending order of percent_yes\n",
    "    by_country %>% arrange(percent_yes)\n",
    "\n",
    "    # Now sort in descending order\n",
    "    by_country %>% arrange(desc(percent_yes))\n",
    "    \n",
    "#### 1.3.2) Filtering summarized output\n",
    "In the last exercise, you may have noticed that the country that voted least frequently, Zanzibar, had only 2 votes in the entire dataset. You certainly can't make any substantial conclusions based on that data!\n",
    "\n",
    "Typically in a progressive analysis, when you find that a few of your observations have very little data while others have plenty, you set some threshold to filter them out.\n",
    "\n",
    "\n",
    "**Exercise**\n",
    "Use filter() to remove from the sorted data countries that have fewer than 100 votes.\n",
    "\n",
    "*Answer*\n",
    "\n",
    "    # Filter out countries with fewer than 100 votes\n",
    "    by_country %>%\n",
    "      arrange(percent_yes) %>%\n",
    "      filter(total > 100)\n",
    "      \n",
    "## 2) Data visualization with ggplot2\n",
    "Once you've cleaned and summarized data, you'll want to visualize them to understand trends and extract insights. Here you'll use the ggplot2 package to explore trends in United Nations voting within each country over time.\n",
    "\n",
    "### 2.1) (video) Visualization with ggplot2\n",
    "\n",
    "#### 2.1.1) Plotting a line over time\n",
    "In the last chapter, you learned how to summarize() the votes dataset by year, particularly the percentage of votes in each year that were \"yes\".\n",
    "\n",
    "You'll now use the ggplot2 package to turn your results into a visualization of the percentage of \"yes\" votes over time.\n",
    "\n",
    "**Exercise**\n",
    "The by_year dataset has the number of votes and percentage of \"yes\" votes each year.\n",
    "\n",
    "1. Load the ggplot2 package.\n",
    "2. Use ggplot() with the geom_line layer to create a line plot with year on the x-axis and percent_yes on the y-axis.\n",
    "\n",
    "*Answer*"
   ]
  },
  {
   "cell_type": "code",
   "execution_count": 4,
   "metadata": {},
   "outputs": [
    {
     "data": {},
     "metadata": {},
     "output_type": "display_data"
    },
    {
     "data": {
      "image/png": "[encoded data removed]",
      "text/plain": [
       "plot without title"
      ]
     },
     "metadata": {},
     "output_type": "display_data"
    }
   ],
   "source": [
    "library(repr)\n",
    "# Change plot size to 4 x 3\n",
    "    options(repr.plot.width=4, repr.plot.height=3)\n",
    "\n",
    "# Define by_year\n",
    "by_year <- votes_processed %>%\n",
    "  group_by(year) %>%\n",
    "  summarize(total = n(),\n",
    "            percent_yes = mean(vote == 1))\n",
    "\n",
    "# Load the ggplot2 package\n",
    "library(ggplot2)\n",
    "\n",
    "# Create line plot\n",
    "ggplot(by_year, aes(x = year, y = percent_yes)) + geom_line()"
   ]
  },
  {
   "cell_type": "markdown",
   "metadata": {},
   "source": [
    "#### 2.1.2) Other ggplot2 layers\n",
    "A line plot is one way to display this data. You could also choose to display it as a scatter plot, with each year represented as a single point. This requires changing the layer (i.e. geom_line() to geom_point()).\n",
    "\n",
    "You can also add additional layers to your graph, such as a smoothing curve with geom_smooth()\n",
    "\n",
    "**Exercise**\n",
    "Change the plot to a scatter plot and add a smoothing curve.\n",
    "\n",
    "*Answer*"
   ]
  },
  {
   "cell_type": "code",
   "execution_count": 5,
   "metadata": {},
   "outputs": [
    {
     "name": "stderr",
     "output_type": "stream",
     "text": [
      "`geom_smooth()` using method = 'loess' and formula 'y ~ x'\n"
     ]
    },
    {
     "data": {},
     "metadata": {},
     "output_type": "display_data"
    },
    {
     "data": {
      "image/png": "[encoded data removed]",
      "text/plain": [
       "plot without title"
      ]
     },
     "metadata": {},
     "output_type": "display_data"
    }
   ],
   "source": [
    "library(repr)\n",
    "# Change plot size to 4 x 3\n",
    "    options(repr.plot.width=4, repr.plot.height=3)\n",
    "\n",
    "# Change to scatter plot and add smoothing curve\n",
    "ggplot(by_year, aes(year, percent_yes)) +\n",
    "  geom_point() + geom_smooth()"
   ]
  },
  {
   "cell_type": "markdown",
   "metadata": {},
   "source": [
    "### 2.2) (video) Visualizing by country\n",
    "\n",
    "#### 2.2.1) Summarizing by year and country\n",
    "You're more interested in trends of voting within specific countries than you are in the overall trend. So instead of summarizing just by year, summarize by both year and country, constructing a dataset that shows what fraction of the time each country votes \"yes\" in each year.\n",
    "\n",
    "**Exercise**\n",
    "Change the code in the editor to group by both year and country rather than just by year. Save the result as by_year_country\n",
    "\n",
    "*Answer*\n",
    "\n",
    "    # Group by year and country: by_year_country\n",
    "    by_year_country<-votes_processed %>%\n",
    "      group_by(year, country) %>%\n",
    "      summarize(total = n(),\n",
    "                percent_yes = mean(vote == 1))\n",
    "\n",
    "#### 2.2.2) Plotting just the UK over time\n",
    "Now that you have the percentage of time that each country voted \"yes\" within each year, you can plot the trend for a particular country. In this case, you'll look at the trend for just the United Kingdom.\n",
    "\n",
    "This will involve using filter() on your data before giving it to ggplot2.\n",
    "\n",
    "**Exercise**                \n",
    "1. Print the by_year_country dataset.\n",
    "2. Create a filtered version of the dataset called UK_by_year.\n",
    "3. Create a line plot of the percentage of \"yes\" votes over time for the United Kingdom.\n",
    "\n",
    "*Answer*"
   ]
  },
  {
   "cell_type": "code",
   "execution_count": 6,
   "metadata": {},
   "outputs": [
    {
     "data": {},
     "metadata": {},
     "output_type": "display_data"
    },
    {
     "data": {
      "image/png": "[encoded data removed]",
      "text/plain": [
       "plot without title"
      ]
     },
     "metadata": {},
     "output_type": "display_data"
    }
   ],
   "source": [
    "library(repr)\n",
    "# Change plot size to 4 x 3\n",
    "    options(repr.plot.width=4, repr.plot.height=3)\n",
    "\n",
    "# Start with by_year_country dataset\n",
    "by_year_country <- votes_processed %>%\n",
    "  group_by(year, country) %>%\n",
    "  summarize(total = n(),\n",
    "            percent_yes = mean(vote == 1))\n",
    "\n",
    "# Print by_year_country\n",
    "#by_year_country\n",
    "\n",
    "# Create a filtered version: UK_by_year\n",
    "UK_by_year<- filter(by_year_country, country == \"United Kingdom\")\n",
    "\n",
    "# Line plot of percent_yes over time for UK only\n",
    "ggplot(UK_by_year, aes(x = year, y = percent_yes)) + geom_line()"
   ]
  },
  {
   "cell_type": "markdown",
   "metadata": {},
   "source": [
    "#### 2.2.3) Plotting multiple countries\n",
    "Plotting just one country at a time is interesting, but you really want to compare trends between countries. For example, suppose you want to compare voting trends for the United States, the UK, France, and India.\n",
    "\n",
    "You'll have to filter to include all four of these countries and use another aesthetic (not just x- and y-axes) to distinguish the countries on the resulting visualization. Instead, you'll use the color aesthetic to represent different countries.\n",
    "\n",
    "**Exercise**\n",
    "The by_year_country dataset you created in the last exercise is available in your workspace.\n",
    "\n",
    "1. Create a filtered version of by_year_country called filtered_4_countries with just the countries listed in the editor (you may find the %in% operator useful here).\n",
    "2. Show the trend for each of these countries on the same graph, using color to distinguish each country.\n",
    "\n",
    "*Answer*"
   ]
  },
  {
   "cell_type": "code",
   "execution_count": 7,
   "metadata": {},
   "outputs": [
    {
     "data": {},
     "metadata": {},
     "output_type": "display_data"
    },
    {
     "data": {
      "image/png": "[encoded data removed]",
      "text/plain": [
       "plot without title"
      ]
     },
     "metadata": {},
     "output_type": "display_data"
    }
   ],
   "source": [
    "library(repr)\n",
    "# Change plot size to 4 x 3\n",
    "    options(repr.plot.width=6, repr.plot.height=3)\n",
    "\n",
    "# Vector of four countries to examine\n",
    "countries <- c(\"United States\", \"United Kingdom\",\n",
    "               \"France\", \"India\")\n",
    "\n",
    "# Filter by_year_country: filtered_4_countries\n",
    "filtered_4_countries<-  filter(by_year_country, country %in% countries)\n",
    "\n",
    "\n",
    "# Line plot of % yes in four countries\n",
    "ggplot(filtered_4_countries, aes(x = year, y = percent_yes, color = country)) + geom_line()"
   ]
  },
  {
   "cell_type": "markdown",
   "metadata": {},
   "source": [
    "### 2.3) (video) Faceting\n",
    "\n",
    "#### 2.3.1) Faceting by country\n",
    "Now you'll take a look at six countries. While in the previous exercise you used color to represent distinct countries, this gets a little too crowded with six.\n",
    "\n",
    "Instead, you will *facet*, giving each country its own sub-plot. To do so, you add a `facet_wrap()` step after all of your layers.\n",
    "\n",
    "**Exercise**\n",
    "1. Create a filtered version that contains these six countries called filtered_6_countries.\n",
    "2. Use the filtered dataset (containing summarized data for six countries) to create a plot with one facet for each country.\n",
    "\n",
    "*Answer*\n",
    "\n"
   ]
  },
  {
   "cell_type": "code",
   "execution_count": 8,
   "metadata": {},
   "outputs": [
    {
     "data": {},
     "metadata": {},
     "output_type": "display_data"
    },
    {
     "data": {
      "image/png": "[encoded data removed]",
      "text/plain": [
       "plot without title"
      ]
     },
     "metadata": {},
     "output_type": "display_data"
    }
   ],
   "source": [
    "library(repr)\n",
    "# Change plot size to 4 x 3\n",
    "    options(repr.plot.width=10, repr.plot.height=3)\n",
    "\n",
    "\n",
    "# Vector of six countries to examine\n",
    "countries <- c(\"United States\", \"United Kingdom\",\n",
    "               \"France\", \"Japan\", \"Brazil\", \"India\")\n",
    "\n",
    "\n",
    "# Filtered by_year_country: filtered_6_countries\n",
    "filtered_6_countries<- filter(by_year_country, country %in% countries)\n",
    "\n",
    "# Line plot of % yes over time faceted by country\n",
    "ggplot(filtered_6_countries, aes(x = year, y = percent_yes)) + \n",
    "geom_line() + facet_wrap(~country)\n"
   ]
  },
  {
   "cell_type": "markdown",
   "metadata": {},
   "source": [
    "#### 2.3.2) Faceting with free y-axis\n",
    "In the previous plot, all six graphs had the same axis limits. This made the changes over time hard to examine for plots with relatively little change.\n",
    "\n",
    "Instead, you may want to let the plot choose a different y-axis for each facet.\n",
    "\n",
    "**Exercise**\n",
    "Change the faceted plot so that the y-axis is freely chosen for each facet, rather than being the same for all six.\n",
    "\n",
    "*Answer*"
   ]
  },
  {
   "cell_type": "code",
   "execution_count": 9,
   "metadata": {},
   "outputs": [
    {
     "data": {},
     "metadata": {},
     "output_type": "display_data"
    },
    {
     "data": {
      "image/png": "[encoded data removed]",
      "text/plain": [
       "plot without title"
      ]
     },
     "metadata": {},
     "output_type": "display_data"
    }
   ],
   "source": [
    "library(repr)\n",
    "# Change plot size to 4 x 3\n",
    "    options(repr.plot.width=10, repr.plot.height=3)\n",
    "\n",
    "# Vector of six countries to examine\n",
    "countries <- c(\"United States\", \"United Kingdom\",\n",
    "               \"France\", \"Japan\", \"Brazil\", \"India\")\n",
    "\n",
    "# Filtered by_year_country: filtered_6_countries\n",
    "filtered_6_countries <- by_year_country %>%\n",
    "  filter(country %in% countries)\n",
    "\n",
    "# Line plot of % yes over time faceted by country\n",
    "ggplot(filtered_6_countries, aes(year, percent_yes)) +\n",
    "  geom_line() +\n",
    "  facet_wrap(~ country, scales = \"free_y\" )\n",
    "  \n",
    "  "
   ]
  },
  {
   "cell_type": "markdown",
   "metadata": {},
   "source": [
    "## 3) Tidy modeling with broom\n",
    "While visualization helps you understand one country at a time, statistical modeling lets you quantify trends across many countries and interpret them together. Here you'll learn to use the tidyr, purrr, and broom packages to fit linear models to each country, and understand and compare their outputs.\n",
    "\n",
    "### 3.1) (video) Linear regression\n",
    "\n",
    "#### 3.1.1) Linear regression on the United States\n",
    "A linear regression is a model that lets us examine how one variable changes with respect to another by fitting a best fit line. It is done with the `lm(indepent variable ~ dependet variable , data) or lm(y~x, data)` function in R.\n",
    "\n",
    "Here, you'll fit a linear regression to just the percentage of \"yes\" votes from the United States.\n",
    "\n",
    "**Exercise**\n",
    "1.Print the US_by_year data to the console.\n",
    "2.Using just the US data in US_by_year, use lm() to run a linear regression predicting percent_yes from year. Save this to a variable US_fit.\n",
    "3. Summarize US_fit using the summary() function.\n",
    "\n",
    "*Answer*"
   ]
  },
  {
   "cell_type": "code",
   "execution_count": 10,
   "metadata": {},
   "outputs": [
    {
     "data": {
      "text/plain": [
       "\n",
       "Call:\n",
       "lm(formula = percent_yes ~ year, data = US_by_year)\n",
       "\n",
       "Residuals:\n",
       "      Min        1Q    Median        3Q       Max \n",
       "-0.222491 -0.080635 -0.008661  0.081948  0.194307 \n",
       "\n",
       "Coefficients:\n",
       "              Estimate Std. Error t value Pr(>|t|)    \n",
       "(Intercept) 12.6641455  1.8379743   6.890 8.48e-08 ***\n",
       "year        -0.0062393  0.0009282  -6.722 1.37e-07 ***\n",
       "---\n",
       "Signif. codes:  0 '***' 0.001 '**' 0.01 '*' 0.05 '.' 0.1 ' ' 1\n",
       "\n",
       "Residual standard error: 0.1062 on 32 degrees of freedom\n",
       "Multiple R-squared:  0.5854,\tAdjusted R-squared:  0.5724 \n",
       "F-statistic: 45.18 on 1 and 32 DF,  p-value: 1.367e-07\n"
      ]
     },
     "metadata": {},
     "output_type": "display_data"
    }
   ],
   "source": [
    "library(repr)\n",
    "# Change plot size to 4 x 3\n",
    "    options(repr.plot.width=4, repr.plot.height=3)\n",
    "\n",
    "\n",
    "# Percentage of yes votes from the US by year: US_by_year\n",
    "US_by_year <- by_year_country %>%\n",
    "  filter(country == \"United States\")\n",
    "\n",
    "# Print the US_by_year data\n",
    "#US_by_year\n",
    "\n",
    "# Perform a linear regression of percent_yes by year: US_fit\n",
    "US_fit<-lm(percent_yes ~ year, US_by_year)\n",
    "\n",
    "\n",
    "# Perform summary() on the US_fit object\n",
    "summary(US_fit)"
   ]
  },
  {
   "cell_type": "markdown",
   "metadata": {},
   "source": [
    "### 3.2 (video) Tidying models with broom\n",
    "now we saw how can we create a linear regression and how can access its variables, but what happens if we want to create a multiples model, we can create one by one or create a function but both have their own issues, the best way it's using the `broom` package because it's offers a funtion called `tidy` convert a linear model into a data frame.\n",
    "\n",
    "#### 3.2.1) Tidying a linear regression model\n",
    "In the last section, you fit a linear model. Now, you'll use the tidy() function in the broom package to turn that model into a tidy data frame.\n",
    "\n",
    "**Exercise**\n",
    "The US_fit linear model is available in your workspace.\n",
    "\n",
    "1. Load the broom package.\n",
    "2. Use the tidy() function from broom on the model object to turn it into a tidy data frame. Don't store the result; just print the output to the console.\n",
    "\n",
    "*Answer*"
   ]
  },
  {
   "cell_type": "code",
   "execution_count": 11,
   "metadata": {},
   "outputs": [
    {
     "name": "stderr",
     "output_type": "stream",
     "text": [
      "Warning message:\n",
      "\"package 'broom' was built under R version 3.5.3\""
     ]
    },
    {
     "data": {
      "text/html": [
       "<table>\n",
       "<thead><tr><th scope=col>term</th><th scope=col>estimate</th><th scope=col>std.error</th><th scope=col>statistic</th><th scope=col>p.value</th></tr></thead>\n",
       "<tbody>\n",
       "\t<tr><td>(Intercept) </td><td>12.664145512</td><td>1.8379742715</td><td> 6.890274   </td><td>8.477089e-08</td></tr>\n",
       "\t<tr><td>year        </td><td>-0.006239305</td><td>0.0009282243</td><td>-6.721764   </td><td>1.366904e-07</td></tr>\n",
       "</tbody>\n",
       "</table>\n"
      ],
      "text/latex": [
       "\\begin{tabular}{r|lllll}\n",
       " term & estimate & std.error & statistic & p.value\\\\\n",
       "\\hline\n",
       "\t (Intercept)  & 12.664145512 & 1.8379742715 &  6.890274    & 8.477089e-08\\\\\n",
       "\t year         & -0.006239305 & 0.0009282243 & -6.721764    & 1.366904e-07\\\\\n",
       "\\end{tabular}\n"
      ],
      "text/markdown": [
       "\n",
       "term | estimate | std.error | statistic | p.value | \n",
       "|---|---|\n",
       "| (Intercept)  | 12.664145512 | 1.8379742715 |  6.890274    | 8.477089e-08 | \n",
       "| year         | -0.006239305 | 0.0009282243 | -6.721764    | 1.366904e-07 | \n",
       "\n",
       "\n"
      ],
      "text/plain": [
       "  term        estimate     std.error    statistic p.value     \n",
       "1 (Intercept) 12.664145512 1.8379742715  6.890274 8.477089e-08\n",
       "2 year        -0.006239305 0.0009282243 -6.721764 1.366904e-07"
      ]
     },
     "metadata": {},
     "output_type": "display_data"
    }
   ],
   "source": [
    "# Load the broom package\n",
    "library(\"broom\")\n",
    "\n",
    "\n",
    "# Call the tidy() function on the US_fit object\n",
    "tidy(US_fit)"
   ]
  },
  {
   "cell_type": "markdown",
   "metadata": {},
   "source": [
    "#### 3.2.2) Combining models for multiple countries\n",
    "One important advantage of changing models to tidied data frames is that they can be combined.\n",
    "\n",
    "In an earlier section, you fit a linear model to the percentage of \"yes\" votes for each year in the United States. Now you'll fit the same model for the United Kingdom and combine the results from both countries.\n",
    "\n",
    "**Exercise**\n",
    "1. Fit a model for the United Kingdom similar to the one you fit for the US and save it as UK_fit.\n",
    "2. Tidy US_fit into a data frame called US_tidied and the UK model into UK_tidied.\n",
    "3. Use bind_rows() from dplyr to combine the two tidied models, printing the result to the console.\n",
    "\n",
    "*Answer*\n"
   ]
  },
  {
   "cell_type": "code",
   "execution_count": 12,
   "metadata": {},
   "outputs": [
    {
     "data": {
      "text/html": [
       "<table>\n",
       "<thead><tr><th scope=col>term</th><th scope=col>estimate</th><th scope=col>std.error</th><th scope=col>statistic</th><th scope=col>p.value</th></tr></thead>\n",
       "<tbody>\n",
       "\t<tr><td>(Intercept) </td><td>12.664145512</td><td>1.8379742715</td><td> 6.890274   </td><td>8.477089e-08</td></tr>\n",
       "\t<tr><td>year        </td><td>-0.006239305</td><td>0.0009282243</td><td>-6.721764   </td><td>1.366904e-07</td></tr>\n",
       "\t<tr><td>(Intercept) </td><td>-3.266547873</td><td>1.9577739504</td><td>-1.668501   </td><td>1.049736e-01</td></tr>\n",
       "\t<tr><td>year        </td><td> 0.001869434</td><td>0.0009887262</td><td> 1.890750   </td><td>6.774177e-02</td></tr>\n",
       "</tbody>\n",
       "</table>\n"
      ],
      "text/latex": [
       "\\begin{tabular}{r|lllll}\n",
       " term & estimate & std.error & statistic & p.value\\\\\n",
       "\\hline\n",
       "\t (Intercept)  & 12.664145512 & 1.8379742715 &  6.890274    & 8.477089e-08\\\\\n",
       "\t year         & -0.006239305 & 0.0009282243 & -6.721764    & 1.366904e-07\\\\\n",
       "\t (Intercept)  & -3.266547873 & 1.9577739504 & -1.668501    & 1.049736e-01\\\\\n",
       "\t year         &  0.001869434 & 0.0009887262 &  1.890750    & 6.774177e-02\\\\\n",
       "\\end{tabular}\n"
      ],
      "text/markdown": [
       "\n",
       "term | estimate | std.error | statistic | p.value | \n",
       "|---|---|---|---|\n",
       "| (Intercept)  | 12.664145512 | 1.8379742715 |  6.890274    | 8.477089e-08 | \n",
       "| year         | -0.006239305 | 0.0009282243 | -6.721764    | 1.366904e-07 | \n",
       "| (Intercept)  | -3.266547873 | 1.9577739504 | -1.668501    | 1.049736e-01 | \n",
       "| year         |  0.001869434 | 0.0009887262 |  1.890750    | 6.774177e-02 | \n",
       "\n",
       "\n"
      ],
      "text/plain": [
       "  term        estimate     std.error    statistic p.value     \n",
       "1 (Intercept) 12.664145512 1.8379742715  6.890274 8.477089e-08\n",
       "2 year        -0.006239305 0.0009282243 -6.721764 1.366904e-07\n",
       "3 (Intercept) -3.266547873 1.9577739504 -1.668501 1.049736e-01\n",
       "4 year         0.001869434 0.0009887262  1.890750 6.774177e-02"
      ]
     },
     "metadata": {},
     "output_type": "display_data"
    }
   ],
   "source": [
    "# Linear regression of percent_yes by year for US\n",
    "US_by_year <- by_year_country %>%\n",
    "  filter(country == \"United States\")\n",
    "US_fit <- lm(percent_yes ~ year, US_by_year)\n",
    "\n",
    "# Fit model for the United Kingdom\n",
    "UK_by_year <- by_year_country %>%\n",
    "  filter(country == \"United Kingdom\")\n",
    "UK_fit <- lm(percent_yes ~ year, UK_by_year)\n",
    "\n",
    "# Create US_tidied and UK_tidied\n",
    "US_tidied<-tidy(US_fit)\n",
    "UK_tidied<-tidy(UK_fit)\n",
    "\n",
    "# Combine the two tidied models\n",
    "bind_rows(US_tidied,UK_tidied)"
   ]
  },
  {
   "cell_type": "markdown",
   "metadata": {},
   "source": [
    "### 3.3 (video) Nesting for multiple models\n",
    "\n",
    "#### 3.3.1) Nesting a data frame\n",
    "Right now, the `by_year_country` data frame has one row per country-vote pair. So that you can model each country individually, you're going to `\"nest\"` all columns besides country, which will result in a data frame with one row per country. The data for each individual country will then be stored in a list column called `data`.\n",
    "\n",
    "**Exercise**\n",
    "1. Load the tidyr package.\n",
    "2. Use the nest() function to nest all the columns in by_year_country except country.\n",
    "\n",
    "*Answer*"
   ]
  },
  {
   "cell_type": "code",
   "execution_count": 13,
   "metadata": {},
   "outputs": [],
   "source": [
    "# Load the tidyr package\n",
    "library(tidyr)\n",
    "# Nest all columns besides country, you can except a column with  \"-\"\n",
    "nest<-nest(by_year_country, - country)\n",
    "\n"
   ]
  },
  {
   "cell_type": "markdown",
   "metadata": {},
   "source": [
    "#### 3.3.2) List columns\n",
    "This `\"nested\"` data has an interesting structure. The second column, `data`, is a list, a type of R object that hasn't yet come up in this course that allows complicated objects to be stored within each row. This is because each item of the `data` column is itself a data frame.\n",
    "\n",
    "You can use `nested$data` to access this list column and double brackets to access a particular element. For example, `nested$data[[1]]` would give you the data frame with Afghanistan's voting history (the percent_yes per year), since Afghanistan is the first row of the table.\n",
    "\n",
    "**Exercise**\n",
    "Print the data frame from the data column that contains the data for Brazil.\n",
    "\n",
    "*Answer*"
   ]
  },
  {
   "cell_type": "code",
   "execution_count": 14,
   "metadata": {},
   "outputs": [
    {
     "ename": "ERROR",
     "evalue": "Error in eval(expr, envir, enclos): objeto 'nested' no encontrado\n",
     "output_type": "error",
     "traceback": [
      "Error in eval(expr, envir, enclos): objeto 'nested' no encontrado\nTraceback:\n"
     ]
    }
   ],
   "source": [
    "# All countries are nested besides country\n",
    "#nested <- by_year_country %>% nest(-country)\n",
    "\n",
    "\n",
    "# Print the nested data for Brazil\n",
    "nested$data[nested$country == \"Brazil\"]"
   ]
  },
  {
   "cell_type": "markdown",
   "metadata": {},
   "source": [
    "#### 3.3.3) Unnesting\n",
    "The opposite of the nest() operation is the unnest() operation. This takes each of the data frames in the list column and brings those rows back to the main data frame.\n",
    "\n",
    "In this exercise, you are just undoing the nest() operation. In the next section, you'll learn how to fit a model in between these nesting and unnesting steps that makes this process useful.\n",
    "\n",
    "**Exercise**\n",
    "Unnest the data list column, so that the table again has one row for each country-year pair, much like by_year_country.\n",
    "\n",
    "*Answer*\n",
    "    # All countries are nested besides country\n",
    "\n",
    "    nested <- by_year_country %>%\n",
    "      nest(-country)\n",
    "\n",
    "    # Unnest the data column to return it to its original form\n",
    "    unnest(nested)\n",
    "\n",
    "### 3.4) (video) Fitting multiple models\n",
    "\n",
    "#### 3.4.1) Performing linear regression on each nested dataset\n",
    "Now that you've divided the data for each country into a separate dataset in the `data` column, you need to fit a linear model to each of these datasets.\n",
    "\n",
    "The `map()` function from `purrr` works by applying a formula to each item in a list, where `.` represents the individual item. For example, you could add one to each of a list of numbers:\n",
    "\n",
    "    map(numbers, ~ 1 + .)\n",
    "    \n",
    "This means that to fit a model to each dataset, you can do:\n",
    "\n",
    "    map(data, ~ lm(percent_yes ~ year, data = .))\n",
    "\n",
    "where `.` represents each individual item from the data column in `by_year_country`. Recall that each item in the data column is a dataset that pertains to a specific country.\n",
    "\n",
    "Note: we can use ~ like Anonymous functions and shortcuts (https://adv-r.hadley.nz/functionals.html)\n",
    "\n",
    "**Exercise**\n",
    "1. Load the tidyr and purrr packages.\n",
    "2. After nesting, use the map() function within a mutate() to perform a linear regression on each dataset (i.e. each item in the data column in by_year_country) modeling percent_yes as a function of year. Save the results to the model column.\n",
    "\n",
    "*Answer*    \n",
    "\n",
    "    # Load tidyr and purrr\n",
    "    library(tidyr)\n",
    "    library(purrr)\n",
    "\n",
    "\n",
    "    # Perform a linear regression on each item in the data column\n",
    "    by_year_country %>%\n",
    "      nest(-country) %>%\n",
    "      mutate(model = map(data, ~ lm(percent_yes ~ year, data = .)))\n",
    "\n",
    "\n",
    "#### 3.4.2) Tidy each linear regression model\n",
    "You've now performed a linear regression on each nested dataset and have a linear model stored in the list column model. But you can't recombine the models until you've tidied each into a table of coefficients. To do that, you'll need to use map() one more time and the tidy() function from the broom package.\n",
    "\n",
    "Recall that you can simply give a function to map() (e.g. map(models, tidy)) in order to apply that function to each item of a list.\n",
    "\n",
    "**Exercise**\n",
    "1. Load the broom package.\n",
    "2. Use the map() function to apply the tidy() function to each linear model in the model column, creating a new column called tidied.\n",
    "\n",
    "*Answer*    \n",
    "\n",
    "    # Load the broom package\n",
    "    library(broom)\n",
    "\n",
    "    # Add another mutate that applies tidy() to each model\n",
    "    by_year_country %>%\n",
    "      nest(-country) %>%\n",
    "      mutate(model = map(data, ~ lm(percent_yes ~ year, data = .)),\n",
    "             tidied = map(model, tidy))\n",
    "             \n",
    "#### 3.4.3) Unnesting a data frame\n",
    "You now have a tidied version of each model stored in the `tidied` column. You want to combine all of those into a large data frame, similar to how you combined the US and UK tidied models earlier. Recall that the `unnest()` function from `tidyr` achieves this.             \n",
    "\n",
    "**Exercise**\n",
    "1. Add an unnest() step to unnest the tidied models stored in the tidied column. Save the result as country_coefficients.\n",
    "2. Print the resulting country_coefficients object to the console.\n",
    "\n",
    "*Answer*   \n",
    "\n",
    "        # Add one more step that unnests the tidied column\n",
    "        country_coefficients<-by_year_country %>%\n",
    "          nest(-country) %>%\n",
    "          mutate(model = map(data, ~ lm(percent_yes ~ year, data = .)),\n",
    "                 tidied = map(model, tidy)) %>%\n",
    "                 unnest(tidied)\n",
    "\n",
    "\n",
    "        # Print the resulting country_coefficients variable\n",
    "        country_coefficients\n",
    "        \n",
    "### 3.4 (video) Working with many tidy models   \n",
    "\n",
    "#### 3.4.1) Filtering model terms\n",
    "You currently have both the intercept and slope terms for each by-country model. You're probably more interested in how each is changing over time, so you want to focus on the slope terms.\n",
    "\n",
    "**Exercise**\n",
    "1. Print the country_coefficients data frame to the console.\n",
    "2. Perform a filter() step that extracts only the slope (not intercept) terms.\n",
    "\n",
    "*Answer*   \n",
    "\n",
    "    # Print the country_coefficients dataset\n",
    "    country_coefficients\n",
    "\n",
    "    # Filter for only the slope terms\n",
    "    filter(country_coefficients, term == \"year\")\n",
    "    \n",
    "    \n",
    "#### 3.4.2) Filtering for significant countries\n",
    "Not all slopes are significant, and you can use the p-value to guess which are and which are not.\n",
    "\n",
    "However, when you have lots of p-values, like one for each country, you run into the problem of multiple hypothesis testing, where you have to set a stricter threshold. The `p.adjust()` function is a simple way to correct for this, where `p.adjust(p.value)` on a vector of p-values returns a set that you can trust.\n",
    "\n",
    "Here you'll add two steps to process the `slope_terms` dataset: use a `mutate` to create the new, adjusted p-value column, and `filter` to filter for those below a .05 threshold.    \n",
    "\n",
    "**Exercise**\n",
    "\n",
    "Use the p.adjust() function to adjust the p.value column, saving the result into a new p.adjusted column. Then, filter for cases where p.adjusted is less than .05.\n",
    "\n",
    "*Answer*\n",
    "\n",
    "    # Filter for only the slope terms\n",
    "    slope_terms <- country_coefficients %>%\n",
    "      filter(term == \"year\")\n",
    "\n",
    "    # Add p.adjusted column, then filter\n",
    "    slope_terms %>%\n",
    "      mutate(p.adjusted = p.adjust(p.value)) %>%\n",
    "      filter(p.adjusted < .05)\n",
    "      \n",
    "#### 3.4.3) Sorting by slope\n",
    "Now that you've filtered for countries where the trend is probably not due to chance, you may be interested in countries whose percentage of \"yes\" votes is changing most quickly over time. Thus, you want to find the countries with the highest and lowest slopes; that is, the estimate column.  \n",
    "\n",
    "**Exercise**\n",
    "1. Using arrange() and desc(), sort the filtered countries to find the countries whose percentage \"yes\" is most quickly increasing over time.\n",
    "2. Using arrange(), sort to find the countries whose percentage \"yes\" is most quickly decreasing.\n",
    "\n",
    "*Answer*\n",
    "\n",
    "        # Filter by adjusted p-values\n",
    "        filtered_countries <- country_coefficients %>%\n",
    "          filter(term == \"year\") %>%\n",
    "          mutate(p.adjusted = p.adjust(p.value)) %>%\n",
    "          filter(p.adjusted < .05)\n",
    "\n",
    "        head(filtered_countries)\n",
    "\n",
    "        # Sort for the countries increasing most quickly\n",
    "        arrange(filtered_countries, desc(estimate))\n",
    "\n",
    "\n",
    "        # Sort for the countries decreasing most quickly\n",
    "        arrange(filtered_countries, estimate)\n"
   ]
  },
  {
   "cell_type": "markdown",
   "metadata": {},
   "source": [
    "## 4) Joining and tidying\n",
    "In this chapter, you'll learn to combine multiple related datasets, such as incorporating information about each resolution's topic into your vote analysis. You'll also learn how to turn untidy data into tidy data, and see how tidy data can guide your exploration of topics and countries over time.\n",
    "\n",
    "### 4.1) (video) Joining datasets\n",
    "\n",
    "#### 4.1.1) Joining datasets with inner_join\n",
    "In the first chapter, you created the `votes_processed` dataset, containing information about each country's votes. You'll now combine that with the new `descriptions` dataset, which includes topic information about each country, so that you can analyze votes within particular topics.\n",
    "\n",
    "To do this, you'll make use of the `inner_join()` function from `dplyr`.\n",
    "\n",
    "**Exercise**\n",
    "1. Load the dplyr package.\n",
    "2. Print the votes_processed dataset.\n",
    "3. Print the new descriptions dataset.\n",
    "4. Join the two datasets using dplyr's inner_join(), using the rcid and session columns to match them. Save as votes_joined.\n",
    "\n",
    "*Answer*"
   ]
  },
  {
   "cell_type": "code",
   "execution_count": 15,
   "metadata": {},
   "outputs": [
    {
     "data": {
      "text/html": [
       "<table>\n",
       "<thead><tr><th scope=col>rcid</th><th scope=col>session</th><th scope=col>vote</th><th scope=col>ccode</th><th scope=col>year</th><th scope=col>country</th></tr></thead>\n",
       "<tbody>\n",
       "\t<tr><td>46                </td><td>2                 </td><td>1                 </td><td> 2                </td><td>1947              </td><td>United States     </td></tr>\n",
       "\t<tr><td>46                </td><td>2                 </td><td>1                 </td><td>20                </td><td>1947              </td><td>Canada            </td></tr>\n",
       "\t<tr><td>46                </td><td>2                 </td><td>1                 </td><td>40                </td><td>1947              </td><td>Cuba              </td></tr>\n",
       "\t<tr><td>46                </td><td>2                 </td><td>1                 </td><td>41                </td><td>1947              </td><td>Haiti             </td></tr>\n",
       "\t<tr><td>46                </td><td>2                 </td><td>1                 </td><td>42                </td><td>1947              </td><td>Dominican Republic</td></tr>\n",
       "\t<tr><td>46                </td><td>2                 </td><td>1                 </td><td>70                </td><td>1947              </td><td>Mexico            </td></tr>\n",
       "</tbody>\n",
       "</table>\n"
      ],
      "text/latex": [
       "\\begin{tabular}{r|llllll}\n",
       " rcid & session & vote & ccode & year & country\\\\\n",
       "\\hline\n",
       "\t 46                 & 2                  & 1                  &  2                 & 1947               & United States     \\\\\n",
       "\t 46                 & 2                  & 1                  & 20                 & 1947               & Canada            \\\\\n",
       "\t 46                 & 2                  & 1                  & 40                 & 1947               & Cuba              \\\\\n",
       "\t 46                 & 2                  & 1                  & 41                 & 1947               & Haiti             \\\\\n",
       "\t 46                 & 2                  & 1                  & 42                 & 1947               & Dominican Republic\\\\\n",
       "\t 46                 & 2                  & 1                  & 70                 & 1947               & Mexico            \\\\\n",
       "\\end{tabular}\n"
      ],
      "text/markdown": [
       "\n",
       "rcid | session | vote | ccode | year | country | \n",
       "|---|---|---|---|---|---|\n",
       "| 46                 | 2                  | 1                  |  2                 | 1947               | United States      | \n",
       "| 46                 | 2                  | 1                  | 20                 | 1947               | Canada             | \n",
       "| 46                 | 2                  | 1                  | 40                 | 1947               | Cuba               | \n",
       "| 46                 | 2                  | 1                  | 41                 | 1947               | Haiti              | \n",
       "| 46                 | 2                  | 1                  | 42                 | 1947               | Dominican Republic | \n",
       "| 46                 | 2                  | 1                  | 70                 | 1947               | Mexico             | \n",
       "\n",
       "\n"
      ],
      "text/plain": [
       "  rcid session vote ccode year country           \n",
       "1 46   2       1     2    1947 United States     \n",
       "2 46   2       1    20    1947 Canada            \n",
       "3 46   2       1    40    1947 Cuba              \n",
       "4 46   2       1    41    1947 Haiti             \n",
       "5 46   2       1    42    1947 Dominican Republic\n",
       "6 46   2       1    70    1947 Mexico            "
      ]
     },
     "metadata": {},
     "output_type": "display_data"
    },
    {
     "data": {
      "text/html": [
       "<table>\n",
       "<thead><tr><th scope=col>rcid</th><th scope=col>session</th><th scope=col>date</th><th scope=col>unres</th><th scope=col>me</th><th scope=col>nu</th><th scope=col>di</th><th scope=col>hr</th><th scope=col>co</th><th scope=col>ec</th></tr></thead>\n",
       "<tbody>\n",
       "\t<tr><td>46        </td><td>2         </td><td>1947-09-04</td><td>R/2/299   </td><td>0         </td><td>0         </td><td>0         </td><td>0         </td><td>0         </td><td>0         </td></tr>\n",
       "\t<tr><td>47        </td><td>2         </td><td>1947-10-05</td><td>R/2/355   </td><td>0         </td><td>0         </td><td>0         </td><td>1         </td><td>0         </td><td>0         </td></tr>\n",
       "\t<tr><td>48        </td><td>2         </td><td>1947-10-06</td><td>R/2/461   </td><td>0         </td><td>0         </td><td>0         </td><td>0         </td><td>0         </td><td>0         </td></tr>\n",
       "\t<tr><td>49        </td><td>2         </td><td>1947-10-06</td><td>R/2/463   </td><td>0         </td><td>0         </td><td>0         </td><td>0         </td><td>0         </td><td>0         </td></tr>\n",
       "\t<tr><td>50        </td><td>2         </td><td>1947-10-06</td><td>R/2/465   </td><td>0         </td><td>0         </td><td>0         </td><td>0         </td><td>0         </td><td>0         </td></tr>\n",
       "\t<tr><td>51        </td><td>2         </td><td>1947-10-02</td><td>R/2/561   </td><td>0         </td><td>0         </td><td>0         </td><td>0         </td><td>1         </td><td>0         </td></tr>\n",
       "</tbody>\n",
       "</table>\n"
      ],
      "text/latex": [
       "\\begin{tabular}{r|llllllllll}\n",
       " rcid & session & date & unres & me & nu & di & hr & co & ec\\\\\n",
       "\\hline\n",
       "\t 46         & 2          & 1947-09-04 & R/2/299    & 0          & 0          & 0          & 0          & 0          & 0         \\\\\n",
       "\t 47         & 2          & 1947-10-05 & R/2/355    & 0          & 0          & 0          & 1          & 0          & 0         \\\\\n",
       "\t 48         & 2          & 1947-10-06 & R/2/461    & 0          & 0          & 0          & 0          & 0          & 0         \\\\\n",
       "\t 49         & 2          & 1947-10-06 & R/2/463    & 0          & 0          & 0          & 0          & 0          & 0         \\\\\n",
       "\t 50         & 2          & 1947-10-06 & R/2/465    & 0          & 0          & 0          & 0          & 0          & 0         \\\\\n",
       "\t 51         & 2          & 1947-10-02 & R/2/561    & 0          & 0          & 0          & 0          & 1          & 0         \\\\\n",
       "\\end{tabular}\n"
      ],
      "text/markdown": [
       "\n",
       "rcid | session | date | unres | me | nu | di | hr | co | ec | \n",
       "|---|---|---|---|---|---|\n",
       "| 46         | 2          | 1947-09-04 | R/2/299    | 0          | 0          | 0          | 0          | 0          | 0          | \n",
       "| 47         | 2          | 1947-10-05 | R/2/355    | 0          | 0          | 0          | 1          | 0          | 0          | \n",
       "| 48         | 2          | 1947-10-06 | R/2/461    | 0          | 0          | 0          | 0          | 0          | 0          | \n",
       "| 49         | 2          | 1947-10-06 | R/2/463    | 0          | 0          | 0          | 0          | 0          | 0          | \n",
       "| 50         | 2          | 1947-10-06 | R/2/465    | 0          | 0          | 0          | 0          | 0          | 0          | \n",
       "| 51         | 2          | 1947-10-02 | R/2/561    | 0          | 0          | 0          | 0          | 1          | 0          | \n",
       "\n",
       "\n"
      ],
      "text/plain": [
       "  rcid session date       unres   me nu di hr co ec\n",
       "1 46   2       1947-09-04 R/2/299 0  0  0  0  0  0 \n",
       "2 47   2       1947-10-05 R/2/355 0  0  0  1  0  0 \n",
       "3 48   2       1947-10-06 R/2/461 0  0  0  0  0  0 \n",
       "4 49   2       1947-10-06 R/2/463 0  0  0  0  0  0 \n",
       "5 50   2       1947-10-06 R/2/465 0  0  0  0  0  0 \n",
       "6 51   2       1947-10-02 R/2/561 0  0  0  0  1  0 "
      ]
     },
     "metadata": {},
     "output_type": "display_data"
    },
    {
     "name": "stderr",
     "output_type": "stream",
     "text": [
      "Warning message:\n",
      "\"Column `rcid` has different attributes on LHS and RHS of join\"Warning message:\n",
      "\"Column `session` has different attributes on LHS and RHS of join\""
     ]
    },
    {
     "data": {
      "text/html": [
       "<table>\n",
       "<thead><tr><th scope=col>rcid</th><th scope=col>session</th><th scope=col>vote</th><th scope=col>ccode</th><th scope=col>year</th><th scope=col>country</th><th scope=col>date</th><th scope=col>unres</th><th scope=col>me</th><th scope=col>nu</th><th scope=col>di</th><th scope=col>hr</th><th scope=col>co</th><th scope=col>ec</th></tr></thead>\n",
       "<tbody>\n",
       "\t<tr><td>46                </td><td>2                 </td><td>1                 </td><td> 2                </td><td>1947              </td><td>United States     </td><td>1947-09-04        </td><td>R/2/299           </td><td>0                 </td><td>0                 </td><td>0                 </td><td>0                 </td><td>0                 </td><td>0                 </td></tr>\n",
       "\t<tr><td>46                </td><td>2                 </td><td>1                 </td><td>20                </td><td>1947              </td><td>Canada            </td><td>1947-09-04        </td><td>R/2/299           </td><td>0                 </td><td>0                 </td><td>0                 </td><td>0                 </td><td>0                 </td><td>0                 </td></tr>\n",
       "\t<tr><td>46                </td><td>2                 </td><td>1                 </td><td>40                </td><td>1947              </td><td>Cuba              </td><td>1947-09-04        </td><td>R/2/299           </td><td>0                 </td><td>0                 </td><td>0                 </td><td>0                 </td><td>0                 </td><td>0                 </td></tr>\n",
       "\t<tr><td>46                </td><td>2                 </td><td>1                 </td><td>41                </td><td>1947              </td><td>Haiti             </td><td>1947-09-04        </td><td>R/2/299           </td><td>0                 </td><td>0                 </td><td>0                 </td><td>0                 </td><td>0                 </td><td>0                 </td></tr>\n",
       "\t<tr><td>46                </td><td>2                 </td><td>1                 </td><td>42                </td><td>1947              </td><td>Dominican Republic</td><td>1947-09-04        </td><td>R/2/299           </td><td>0                 </td><td>0                 </td><td>0                 </td><td>0                 </td><td>0                 </td><td>0                 </td></tr>\n",
       "\t<tr><td>46                </td><td>2                 </td><td>1                 </td><td>70                </td><td>1947              </td><td>Mexico            </td><td>1947-09-04        </td><td>R/2/299           </td><td>0                 </td><td>0                 </td><td>0                 </td><td>0                 </td><td>0                 </td><td>0                 </td></tr>\n",
       "</tbody>\n",
       "</table>\n"
      ],
      "text/latex": [
       "\\begin{tabular}{r|llllllllllllll}\n",
       " rcid & session & vote & ccode & year & country & date & unres & me & nu & di & hr & co & ec\\\\\n",
       "\\hline\n",
       "\t 46                 & 2                  & 1                  &  2                 & 1947               & United States      & 1947-09-04         & R/2/299            & 0                  & 0                  & 0                  & 0                  & 0                  & 0                 \\\\\n",
       "\t 46                 & 2                  & 1                  & 20                 & 1947               & Canada             & 1947-09-04         & R/2/299            & 0                  & 0                  & 0                  & 0                  & 0                  & 0                 \\\\\n",
       "\t 46                 & 2                  & 1                  & 40                 & 1947               & Cuba               & 1947-09-04         & R/2/299            & 0                  & 0                  & 0                  & 0                  & 0                  & 0                 \\\\\n",
       "\t 46                 & 2                  & 1                  & 41                 & 1947               & Haiti              & 1947-09-04         & R/2/299            & 0                  & 0                  & 0                  & 0                  & 0                  & 0                 \\\\\n",
       "\t 46                 & 2                  & 1                  & 42                 & 1947               & Dominican Republic & 1947-09-04         & R/2/299            & 0                  & 0                  & 0                  & 0                  & 0                  & 0                 \\\\\n",
       "\t 46                 & 2                  & 1                  & 70                 & 1947               & Mexico             & 1947-09-04         & R/2/299            & 0                  & 0                  & 0                  & 0                  & 0                  & 0                 \\\\\n",
       "\\end{tabular}\n"
      ],
      "text/markdown": [
       "\n",
       "rcid | session | vote | ccode | year | country | date | unres | me | nu | di | hr | co | ec | \n",
       "|---|---|---|---|---|---|\n",
       "| 46                 | 2                  | 1                  |  2                 | 1947               | United States      | 1947-09-04         | R/2/299            | 0                  | 0                  | 0                  | 0                  | 0                  | 0                  | \n",
       "| 46                 | 2                  | 1                  | 20                 | 1947               | Canada             | 1947-09-04         | R/2/299            | 0                  | 0                  | 0                  | 0                  | 0                  | 0                  | \n",
       "| 46                 | 2                  | 1                  | 40                 | 1947               | Cuba               | 1947-09-04         | R/2/299            | 0                  | 0                  | 0                  | 0                  | 0                  | 0                  | \n",
       "| 46                 | 2                  | 1                  | 41                 | 1947               | Haiti              | 1947-09-04         | R/2/299            | 0                  | 0                  | 0                  | 0                  | 0                  | 0                  | \n",
       "| 46                 | 2                  | 1                  | 42                 | 1947               | Dominican Republic | 1947-09-04         | R/2/299            | 0                  | 0                  | 0                  | 0                  | 0                  | 0                  | \n",
       "| 46                 | 2                  | 1                  | 70                 | 1947               | Mexico             | 1947-09-04         | R/2/299            | 0                  | 0                  | 0                  | 0                  | 0                  | 0                  | \n",
       "\n",
       "\n"
      ],
      "text/plain": [
       "  rcid session vote ccode year country            date       unres   me nu di\n",
       "1 46   2       1     2    1947 United States      1947-09-04 R/2/299 0  0  0 \n",
       "2 46   2       1    20    1947 Canada             1947-09-04 R/2/299 0  0  0 \n",
       "3 46   2       1    40    1947 Cuba               1947-09-04 R/2/299 0  0  0 \n",
       "4 46   2       1    41    1947 Haiti              1947-09-04 R/2/299 0  0  0 \n",
       "5 46   2       1    42    1947 Dominican Republic 1947-09-04 R/2/299 0  0  0 \n",
       "6 46   2       1    70    1947 Mexico             1947-09-04 R/2/299 0  0  0 \n",
       "  hr co ec\n",
       "1 0  0  0 \n",
       "2 0  0  0 \n",
       "3 0  0  0 \n",
       "4 0  0  0 \n",
       "5 0  0  0 \n",
       "6 0  0  0 "
      ]
     },
     "metadata": {},
     "output_type": "display_data"
    }
   ],
   "source": [
    "# Load dplyr package\n",
    "library(dplyr)\n",
    "\n",
    "# Print the votes_processed dataset\n",
    "head(votes_processed)\n",
    "\n",
    "# Print the descriptions dataset\n",
    "head(descriptions)\n",
    "\n",
    "# Join them together based on the \"rcid\" and \"session\" columns\n",
    "votes_joined<-inner_join(votes_processed,descriptions, by = c(\"rcid\",\"session\"))\n",
    "head(votes_joined)"
   ]
  },
  {
   "cell_type": "markdown",
   "metadata": {},
   "source": [
    "#### 4.1.2) Filtering the joined dataset\n",
    "There are six columns in the descriptions dataset (and therefore in the new joined dataset) that describe the topic of a resolution:\n",
    "\n",
    "    me: Palestinian conflict\n",
    "    nu: Nuclear weapons and nuclear material\n",
    "    di: Arms control and disarmament\n",
    "    hr: Human rights\n",
    "    co: Colonialism\n",
    "    ec: Economic development\n",
    "    \n",
    "Each contains a 1 if the resolution is related to this topic and a 0 otherwise.\n",
    "\n",
    "**Exercise**\n",
    "Filter the votes_joined dataset for votes relating to colonialism.\n",
    "\n",
    "*Answer*\n",
    "\n",
    "    # Filter for votes related to colonialism\n",
    "    filter(votes_joined, co == 1)\n",
    "    \n",
    "#### 4.1.3) Visualizing colonialism votes\n",
    "In an earlier exercise, you graphed the percentage of votes each year where the US voted \"yes\". Now you'll create that same graph, but only for votes related to colonialism.    \n",
    "\n",
    "**Exercise**\n",
    "1. Load the ggplot2 package.\n",
    "2. Filter the votes_joined dataset for only votes by the United States relating to colonialism, then summarize() the percentage of votes that are \"yes\" within each year. Name the resulting column percent_yes and save the entire data frame as US_co_by_year.\n",
    "3. Add a geom_line() layer to your ggplot() call to create a line graph of the percentage of \"yes\" votes on colonialism (percent_yes) cast by the US over time.\n",
    "\n",
    "*Answer*\n"
   ]
  },
  {
   "cell_type": "code",
   "execution_count": 16,
   "metadata": {},
   "outputs": [
    {
     "data": {},
     "metadata": {},
     "output_type": "display_data"
    },
    {
     "data": {
      "image/png": "[encoded data removed]",
      "text/plain": [
       "plot without title"
      ]
     },
     "metadata": {},
     "output_type": "display_data"
    }
   ],
   "source": [
    "library(repr)\n",
    "# Change plot size to 4 x 3\n",
    "    options(repr.plot.width=4, repr.plot.height=3)\n",
    "\n",
    "#head(votes_joined)\n",
    "\n",
    "# Load the ggplot2 package\n",
    "library(ggplot2)\n",
    "\n",
    "# Filter, then summarize by year: US_co_by_year\n",
    "US_co_by_year<- votes_joined %>% \n",
    "filter(co == 1 & country == 'United States') %>% \n",
    "group_by(year) %>% \n",
    "summarize(percent_yes = mean(vote == 1))\n",
    "\n",
    "# Graph the % of \"yes\" votes over time\n",
    "ggplot(US_co_by_year, aes(x = year, y = percent_yes)) +\n",
    "  geom_line()\n"
   ]
  },
  {
   "cell_type": "markdown",
   "metadata": {},
   "source": [
    "### 4.2 (video) Tidy data\n",
    "\n",
    "#### 4.2.1) Using gather to tidy a dataset\n",
    "In order to represent the joined vote-topic data in a `tidy` form so we can analyze and graph by topic, we need to transform the data so that each row has one combination of country-vote-topic. This will change the data from having six columns `(me, nu, di, hr, co, ec)` to having two columns `(topic and has_topic)`.\n",
    "\n",
    "**Exercise**\n",
    "1. Load the tidyr package.\n",
    "2. Gather the six topic columns in votes_joined into one column called topic (containing one of me, nu, etc.) and a column called has_topic (containing 0 or 1). Print the result without saving it.\n",
    "3. You don't actually care about the cases where has_topic is 0. Perform the gather() operation again, but this time also filter for only the rows where the topic in topic describes the vote. Save the result as votes_gathered.\n",
    "\n",
    "*Answer*"
   ]
  },
  {
   "cell_type": "code",
   "execution_count": 17,
   "metadata": {},
   "outputs": [
    {
     "data": {
      "text/html": [
       "<table>\n",
       "<thead><tr><th scope=col>rcid</th><th scope=col>session</th><th scope=col>vote</th><th scope=col>ccode</th><th scope=col>year</th><th scope=col>country</th><th scope=col>date</th><th scope=col>unres</th><th scope=col>topic</th><th scope=col>has_topic</th></tr></thead>\n",
       "<tbody>\n",
       "\t<tr><td>77                </td><td>2                 </td><td>1                 </td><td> 2                </td><td>1947              </td><td>United States     </td><td>1947-11-06        </td><td>R/2/1424          </td><td>me                </td><td>1                 </td></tr>\n",
       "\t<tr><td>77                </td><td>2                 </td><td>1                 </td><td>20                </td><td>1947              </td><td>Canada            </td><td>1947-11-06        </td><td>R/2/1424          </td><td>me                </td><td>1                 </td></tr>\n",
       "\t<tr><td>77                </td><td>2                 </td><td>3                 </td><td>40                </td><td>1947              </td><td>Cuba              </td><td>1947-11-06        </td><td>R/2/1424          </td><td>me                </td><td>1                 </td></tr>\n",
       "\t<tr><td>77                </td><td>2                 </td><td>1                 </td><td>41                </td><td>1947              </td><td>Haiti             </td><td>1947-11-06        </td><td>R/2/1424          </td><td>me                </td><td>1                 </td></tr>\n",
       "\t<tr><td>77                </td><td>2                 </td><td>1                 </td><td>42                </td><td>1947              </td><td>Dominican Republic</td><td>1947-11-06        </td><td>R/2/1424          </td><td>me                </td><td>1                 </td></tr>\n",
       "\t<tr><td>77                </td><td>2                 </td><td>2                 </td><td>70                </td><td>1947              </td><td>Mexico            </td><td>1947-11-06        </td><td>R/2/1424          </td><td>me                </td><td>1                 </td></tr>\n",
       "</tbody>\n",
       "</table>\n"
      ],
      "text/latex": [
       "\\begin{tabular}{r|llllllllll}\n",
       " rcid & session & vote & ccode & year & country & date & unres & topic & has\\_topic\\\\\n",
       "\\hline\n",
       "\t 77                 & 2                  & 1                  &  2                 & 1947               & United States      & 1947-11-06         & R/2/1424           & me                 & 1                 \\\\\n",
       "\t 77                 & 2                  & 1                  & 20                 & 1947               & Canada             & 1947-11-06         & R/2/1424           & me                 & 1                 \\\\\n",
       "\t 77                 & 2                  & 3                  & 40                 & 1947               & Cuba               & 1947-11-06         & R/2/1424           & me                 & 1                 \\\\\n",
       "\t 77                 & 2                  & 1                  & 41                 & 1947               & Haiti              & 1947-11-06         & R/2/1424           & me                 & 1                 \\\\\n",
       "\t 77                 & 2                  & 1                  & 42                 & 1947               & Dominican Republic & 1947-11-06         & R/2/1424           & me                 & 1                 \\\\\n",
       "\t 77                 & 2                  & 2                  & 70                 & 1947               & Mexico             & 1947-11-06         & R/2/1424           & me                 & 1                 \\\\\n",
       "\\end{tabular}\n"
      ],
      "text/markdown": [
       "\n",
       "rcid | session | vote | ccode | year | country | date | unres | topic | has_topic | \n",
       "|---|---|---|---|---|---|\n",
       "| 77                 | 2                  | 1                  |  2                 | 1947               | United States      | 1947-11-06         | R/2/1424           | me                 | 1                  | \n",
       "| 77                 | 2                  | 1                  | 20                 | 1947               | Canada             | 1947-11-06         | R/2/1424           | me                 | 1                  | \n",
       "| 77                 | 2                  | 3                  | 40                 | 1947               | Cuba               | 1947-11-06         | R/2/1424           | me                 | 1                  | \n",
       "| 77                 | 2                  | 1                  | 41                 | 1947               | Haiti              | 1947-11-06         | R/2/1424           | me                 | 1                  | \n",
       "| 77                 | 2                  | 1                  | 42                 | 1947               | Dominican Republic | 1947-11-06         | R/2/1424           | me                 | 1                  | \n",
       "| 77                 | 2                  | 2                  | 70                 | 1947               | Mexico             | 1947-11-06         | R/2/1424           | me                 | 1                  | \n",
       "\n",
       "\n"
      ],
      "text/plain": [
       "  rcid session vote ccode year country            date       unres    topic\n",
       "1 77   2       1     2    1947 United States      1947-11-06 R/2/1424 me   \n",
       "2 77   2       1    20    1947 Canada             1947-11-06 R/2/1424 me   \n",
       "3 77   2       3    40    1947 Cuba               1947-11-06 R/2/1424 me   \n",
       "4 77   2       1    41    1947 Haiti              1947-11-06 R/2/1424 me   \n",
       "5 77   2       1    42    1947 Dominican Republic 1947-11-06 R/2/1424 me   \n",
       "6 77   2       2    70    1947 Mexico             1947-11-06 R/2/1424 me   \n",
       "  has_topic\n",
       "1 1        \n",
       "2 1        \n",
       "3 1        \n",
       "4 1        \n",
       "5 1        \n",
       "6 1        "
      ]
     },
     "metadata": {},
     "output_type": "display_data"
    }
   ],
   "source": [
    "# Load the tidyr package\n",
    "library(tidyr)\n",
    "\n",
    "#ls() names(votes_joined)\n",
    "# Gather the six me/nu/di/hr/co/ec columns\n",
    "#votes_joined %>% gather(topic,has_topic, me:ec)\n",
    "\n",
    "\n",
    "# Perform gather again, then filter\n",
    "votes_gathered<- votes_joined %>% gather(topic,has_topic, me:ec)  %>%\n",
    "filter(has_topic == 1)\n",
    "\n",
    "head(votes_gathered)"
   ]
  },
  {
   "cell_type": "markdown",
   "metadata": {},
   "source": [
    "#### 4.2.2) Recoding the topics\n",
    "There's one more step of data cleaning to make this more interpretable. Right now, topics are represented by two-letter codes:\n",
    "\n",
    "    me: Palestinian conflict\n",
    "    nu: Nuclear weapons and nuclear material\n",
    "    di: Arms control and disarmament\n",
    "    hr: Human rights\n",
    "    co: Colonialism\n",
    "    ec: Economic development\n",
    "\n",
    "So that you can interpret the data more easily, `recode` the data to replace these codes with their full name. You can do that with `dplyr's` `recode()` function, which replaces values with ones you specify:\n",
    "\n",
    "    example <- c(\"apple\", \"banana\", \"apple\", \"orange\")\n",
    "    recode(example,\n",
    "           apple = \"plum\",\n",
    "           banana = \"grape\")\n",
    "           \n",
    "**Exercise**\n",
    "Use the recode() function from dplyr in a mutate() to replace each two-letter code in the votes_gathered data frame with the corresponding full name. Save this as votes_tidied\n",
    "\n",
    "*Answer*           "
   ]
  },
  {
   "cell_type": "code",
   "execution_count": 18,
   "metadata": {},
   "outputs": [
    {
     "data": {
      "text/html": [
       "<table>\n",
       "<thead><tr><th scope=col>rcid</th><th scope=col>session</th><th scope=col>vote</th><th scope=col>ccode</th><th scope=col>year</th><th scope=col>country</th><th scope=col>date</th><th scope=col>unres</th><th scope=col>topic</th><th scope=col>has_topic</th></tr></thead>\n",
       "<tbody>\n",
       "\t<tr><td>77                  </td><td>2                   </td><td>1                   </td><td> 2                  </td><td>1947                </td><td>United States       </td><td>1947-11-06          </td><td>R/2/1424            </td><td>Palestinian conflict</td><td>1                   </td></tr>\n",
       "\t<tr><td>77                  </td><td>2                   </td><td>1                   </td><td>20                  </td><td>1947                </td><td>Canada              </td><td>1947-11-06          </td><td>R/2/1424            </td><td>Palestinian conflict</td><td>1                   </td></tr>\n",
       "\t<tr><td>77                  </td><td>2                   </td><td>3                   </td><td>40                  </td><td>1947                </td><td>Cuba                </td><td>1947-11-06          </td><td>R/2/1424            </td><td>Palestinian conflict</td><td>1                   </td></tr>\n",
       "\t<tr><td>77                  </td><td>2                   </td><td>1                   </td><td>41                  </td><td>1947                </td><td>Haiti               </td><td>1947-11-06          </td><td>R/2/1424            </td><td>Palestinian conflict</td><td>1                   </td></tr>\n",
       "\t<tr><td>77                  </td><td>2                   </td><td>1                   </td><td>42                  </td><td>1947                </td><td>Dominican Republic  </td><td>1947-11-06          </td><td>R/2/1424            </td><td>Palestinian conflict</td><td>1                   </td></tr>\n",
       "\t<tr><td>77                  </td><td>2                   </td><td>2                   </td><td>70                  </td><td>1947                </td><td>Mexico              </td><td>1947-11-06          </td><td>R/2/1424            </td><td>Palestinian conflict</td><td>1                   </td></tr>\n",
       "</tbody>\n",
       "</table>\n"
      ],
      "text/latex": [
       "\\begin{tabular}{r|llllllllll}\n",
       " rcid & session & vote & ccode & year & country & date & unres & topic & has\\_topic\\\\\n",
       "\\hline\n",
       "\t 77                   & 2                    & 1                    &  2                   & 1947                 & United States        & 1947-11-06           & R/2/1424             & Palestinian conflict & 1                   \\\\\n",
       "\t 77                   & 2                    & 1                    & 20                   & 1947                 & Canada               & 1947-11-06           & R/2/1424             & Palestinian conflict & 1                   \\\\\n",
       "\t 77                   & 2                    & 3                    & 40                   & 1947                 & Cuba                 & 1947-11-06           & R/2/1424             & Palestinian conflict & 1                   \\\\\n",
       "\t 77                   & 2                    & 1                    & 41                   & 1947                 & Haiti                & 1947-11-06           & R/2/1424             & Palestinian conflict & 1                   \\\\\n",
       "\t 77                   & 2                    & 1                    & 42                   & 1947                 & Dominican Republic   & 1947-11-06           & R/2/1424             & Palestinian conflict & 1                   \\\\\n",
       "\t 77                   & 2                    & 2                    & 70                   & 1947                 & Mexico               & 1947-11-06           & R/2/1424             & Palestinian conflict & 1                   \\\\\n",
       "\\end{tabular}\n"
      ],
      "text/markdown": [
       "\n",
       "rcid | session | vote | ccode | year | country | date | unres | topic | has_topic | \n",
       "|---|---|---|---|---|---|\n",
       "| 77                   | 2                    | 1                    |  2                   | 1947                 | United States        | 1947-11-06           | R/2/1424             | Palestinian conflict | 1                    | \n",
       "| 77                   | 2                    | 1                    | 20                   | 1947                 | Canada               | 1947-11-06           | R/2/1424             | Palestinian conflict | 1                    | \n",
       "| 77                   | 2                    | 3                    | 40                   | 1947                 | Cuba                 | 1947-11-06           | R/2/1424             | Palestinian conflict | 1                    | \n",
       "| 77                   | 2                    | 1                    | 41                   | 1947                 | Haiti                | 1947-11-06           | R/2/1424             | Palestinian conflict | 1                    | \n",
       "| 77                   | 2                    | 1                    | 42                   | 1947                 | Dominican Republic   | 1947-11-06           | R/2/1424             | Palestinian conflict | 1                    | \n",
       "| 77                   | 2                    | 2                    | 70                   | 1947                 | Mexico               | 1947-11-06           | R/2/1424             | Palestinian conflict | 1                    | \n",
       "\n",
       "\n"
      ],
      "text/plain": [
       "  rcid session vote ccode year country            date       unres   \n",
       "1 77   2       1     2    1947 United States      1947-11-06 R/2/1424\n",
       "2 77   2       1    20    1947 Canada             1947-11-06 R/2/1424\n",
       "3 77   2       3    40    1947 Cuba               1947-11-06 R/2/1424\n",
       "4 77   2       1    41    1947 Haiti              1947-11-06 R/2/1424\n",
       "5 77   2       1    42    1947 Dominican Republic 1947-11-06 R/2/1424\n",
       "6 77   2       2    70    1947 Mexico             1947-11-06 R/2/1424\n",
       "  topic                has_topic\n",
       "1 Palestinian conflict 1        \n",
       "2 Palestinian conflict 1        \n",
       "3 Palestinian conflict 1        \n",
       "4 Palestinian conflict 1        \n",
       "5 Palestinian conflict 1        \n",
       "6 Palestinian conflict 1        "
      ]
     },
     "metadata": {},
     "output_type": "display_data"
    }
   ],
   "source": [
    "# Replace the two-letter codes in topic: votes_tidied\n",
    "votes_tidied <- votes_gathered %>%\n",
    "  mutate(topic = recode(topic,\n",
    "                        me = \"Palestinian conflict\",\n",
    "                        nu = \"Nuclear weapons and nuclear material\",\n",
    "                        di = \"Arms control and disarmament\",\n",
    "                        hr = \"Human rights\",\n",
    "                        co = \"Colonialism\",\n",
    "                        ec = \"Economic development\"))\n",
    "\n",
    "head(votes_tidied)"
   ]
  },
  {
   "cell_type": "markdown",
   "metadata": {},
   "source": [
    "#### 4.2.3) Summarize by country, year, and topic\n",
    "In previous exercises, you summarized the votes dataset by country, by year, and by country-year combination.\n",
    "\n",
    "Now that you have topic as an additional variable, you can summarize the votes for each combination of country, year, and topic (e.g. for the United States in 2013 on the topic of nuclear weapons.)\n",
    "\n",
    "**Exercise**\n",
    "\n",
    "1. Print the votes_tidied dataset to the console.\n",
    "2. In a single summarize() call, compute both the total number of votes (total) and the percentage of \"yes\" votes (percent_yes) 3. for each combination of country, year, and topic. Save this as by_country_year_topic. Make sure that you ungroup() after summarizing.\n",
    "4. Print the by_country_year_topic dataset to the console.\n",
    "\n",
    "*Answear*"
   ]
  },
  {
   "cell_type": "code",
   "execution_count": 19,
   "metadata": {},
   "outputs": [
    {
     "data": {
      "text/html": [
       "<table>\n",
       "<thead><tr><th scope=col>rcid</th><th scope=col>session</th><th scope=col>vote</th><th scope=col>ccode</th><th scope=col>year</th><th scope=col>country</th><th scope=col>date</th><th scope=col>unres</th><th scope=col>topic</th><th scope=col>has_topic</th></tr></thead>\n",
       "<tbody>\n",
       "\t<tr><td>77                  </td><td>2                   </td><td>1                   </td><td> 2                  </td><td>1947                </td><td>United States       </td><td>1947-11-06          </td><td>R/2/1424            </td><td>Palestinian conflict</td><td>1                   </td></tr>\n",
       "\t<tr><td>77                  </td><td>2                   </td><td>1                   </td><td>20                  </td><td>1947                </td><td>Canada              </td><td>1947-11-06          </td><td>R/2/1424            </td><td>Palestinian conflict</td><td>1                   </td></tr>\n",
       "\t<tr><td>77                  </td><td>2                   </td><td>3                   </td><td>40                  </td><td>1947                </td><td>Cuba                </td><td>1947-11-06          </td><td>R/2/1424            </td><td>Palestinian conflict</td><td>1                   </td></tr>\n",
       "\t<tr><td>77                  </td><td>2                   </td><td>1                   </td><td>41                  </td><td>1947                </td><td>Haiti               </td><td>1947-11-06          </td><td>R/2/1424            </td><td>Palestinian conflict</td><td>1                   </td></tr>\n",
       "\t<tr><td>77                  </td><td>2                   </td><td>1                   </td><td>42                  </td><td>1947                </td><td>Dominican Republic  </td><td>1947-11-06          </td><td>R/2/1424            </td><td>Palestinian conflict</td><td>1                   </td></tr>\n",
       "\t<tr><td>77                  </td><td>2                   </td><td>2                   </td><td>70                  </td><td>1947                </td><td>Mexico              </td><td>1947-11-06          </td><td>R/2/1424            </td><td>Palestinian conflict</td><td>1                   </td></tr>\n",
       "</tbody>\n",
       "</table>\n"
      ],
      "text/latex": [
       "\\begin{tabular}{r|llllllllll}\n",
       " rcid & session & vote & ccode & year & country & date & unres & topic & has\\_topic\\\\\n",
       "\\hline\n",
       "\t 77                   & 2                    & 1                    &  2                   & 1947                 & United States        & 1947-11-06           & R/2/1424             & Palestinian conflict & 1                   \\\\\n",
       "\t 77                   & 2                    & 1                    & 20                   & 1947                 & Canada               & 1947-11-06           & R/2/1424             & Palestinian conflict & 1                   \\\\\n",
       "\t 77                   & 2                    & 3                    & 40                   & 1947                 & Cuba                 & 1947-11-06           & R/2/1424             & Palestinian conflict & 1                   \\\\\n",
       "\t 77                   & 2                    & 1                    & 41                   & 1947                 & Haiti                & 1947-11-06           & R/2/1424             & Palestinian conflict & 1                   \\\\\n",
       "\t 77                   & 2                    & 1                    & 42                   & 1947                 & Dominican Republic   & 1947-11-06           & R/2/1424             & Palestinian conflict & 1                   \\\\\n",
       "\t 77                   & 2                    & 2                    & 70                   & 1947                 & Mexico               & 1947-11-06           & R/2/1424             & Palestinian conflict & 1                   \\\\\n",
       "\\end{tabular}\n"
      ],
      "text/markdown": [
       "\n",
       "rcid | session | vote | ccode | year | country | date | unres | topic | has_topic | \n",
       "|---|---|---|---|---|---|\n",
       "| 77                   | 2                    | 1                    |  2                   | 1947                 | United States        | 1947-11-06           | R/2/1424             | Palestinian conflict | 1                    | \n",
       "| 77                   | 2                    | 1                    | 20                   | 1947                 | Canada               | 1947-11-06           | R/2/1424             | Palestinian conflict | 1                    | \n",
       "| 77                   | 2                    | 3                    | 40                   | 1947                 | Cuba                 | 1947-11-06           | R/2/1424             | Palestinian conflict | 1                    | \n",
       "| 77                   | 2                    | 1                    | 41                   | 1947                 | Haiti                | 1947-11-06           | R/2/1424             | Palestinian conflict | 1                    | \n",
       "| 77                   | 2                    | 1                    | 42                   | 1947                 | Dominican Republic   | 1947-11-06           | R/2/1424             | Palestinian conflict | 1                    | \n",
       "| 77                   | 2                    | 2                    | 70                   | 1947                 | Mexico               | 1947-11-06           | R/2/1424             | Palestinian conflict | 1                    | \n",
       "\n",
       "\n"
      ],
      "text/plain": [
       "  rcid session vote ccode year country            date       unres   \n",
       "1 77   2       1     2    1947 United States      1947-11-06 R/2/1424\n",
       "2 77   2       1    20    1947 Canada             1947-11-06 R/2/1424\n",
       "3 77   2       3    40    1947 Cuba               1947-11-06 R/2/1424\n",
       "4 77   2       1    41    1947 Haiti              1947-11-06 R/2/1424\n",
       "5 77   2       1    42    1947 Dominican Republic 1947-11-06 R/2/1424\n",
       "6 77   2       2    70    1947 Mexico             1947-11-06 R/2/1424\n",
       "  topic                has_topic\n",
       "1 Palestinian conflict 1        \n",
       "2 Palestinian conflict 1        \n",
       "3 Palestinian conflict 1        \n",
       "4 Palestinian conflict 1        \n",
       "5 Palestinian conflict 1        \n",
       "6 Palestinian conflict 1        "
      ]
     },
     "metadata": {},
     "output_type": "display_data"
    },
    {
     "data": {
      "text/html": [
       "<table>\n",
       "<thead><tr><th scope=col>country</th><th scope=col>year</th><th scope=col>topic</th><th scope=col>total</th><th scope=col>percent_yes</th></tr></thead>\n",
       "<tbody>\n",
       "\t<tr><td>NA                                  </td><td>1973                                </td><td>Arms control and disarmament        </td><td> 7                                  </td><td>0.5714286                           </td></tr>\n",
       "\t<tr><td>NA                                  </td><td>1973                                </td><td>Colonialism                         </td><td>21                                  </td><td>0.3809524                           </td></tr>\n",
       "\t<tr><td>NA                                  </td><td>1973                                </td><td>Economic development                </td><td> 9                                  </td><td>0.1111111                           </td></tr>\n",
       "\t<tr><td>NA                                  </td><td>1973                                </td><td>Human rights                        </td><td>21                                  </td><td>0.4285714                           </td></tr>\n",
       "\t<tr><td>NA                                  </td><td>1973                                </td><td>Nuclear weapons and nuclear material</td><td> 8                                  </td><td>0.6250000                           </td></tr>\n",
       "\t<tr><td>NA                                  </td><td>1973                                </td><td>Palestinian conflict                </td><td> 5                                  </td><td>0.4000000                           </td></tr>\n",
       "</tbody>\n",
       "</table>\n"
      ],
      "text/latex": [
       "\\begin{tabular}{r|lllll}\n",
       " country & year & topic & total & percent\\_yes\\\\\n",
       "\\hline\n",
       "\t NA                                   & 1973                                 & Arms control and disarmament         &  7                                   & 0.5714286                           \\\\\n",
       "\t NA                                   & 1973                                 & Colonialism                          & 21                                   & 0.3809524                           \\\\\n",
       "\t NA                                   & 1973                                 & Economic development                 &  9                                   & 0.1111111                           \\\\\n",
       "\t NA                                   & 1973                                 & Human rights                         & 21                                   & 0.4285714                           \\\\\n",
       "\t NA                                   & 1973                                 & Nuclear weapons and nuclear material &  8                                   & 0.6250000                           \\\\\n",
       "\t NA                                   & 1973                                 & Palestinian conflict                 &  5                                   & 0.4000000                           \\\\\n",
       "\\end{tabular}\n"
      ],
      "text/markdown": [
       "\n",
       "country | year | topic | total | percent_yes | \n",
       "|---|---|---|---|---|---|\n",
       "| NA                                   | 1973                                 | Arms control and disarmament         |  7                                   | 0.5714286                            | \n",
       "| NA                                   | 1973                                 | Colonialism                          | 21                                   | 0.3809524                            | \n",
       "| NA                                   | 1973                                 | Economic development                 |  9                                   | 0.1111111                            | \n",
       "| NA                                   | 1973                                 | Human rights                         | 21                                   | 0.4285714                            | \n",
       "| NA                                   | 1973                                 | Nuclear weapons and nuclear material |  8                                   | 0.6250000                            | \n",
       "| NA                                   | 1973                                 | Palestinian conflict                 |  5                                   | 0.4000000                            | \n",
       "\n",
       "\n"
      ],
      "text/plain": [
       "  country year topic                                total percent_yes\n",
       "1 NA      1973 Arms control and disarmament          7    0.5714286  \n",
       "2 NA      1973 Colonialism                          21    0.3809524  \n",
       "3 NA      1973 Economic development                  9    0.1111111  \n",
       "4 NA      1973 Human rights                         21    0.4285714  \n",
       "5 NA      1973 Nuclear weapons and nuclear material  8    0.6250000  \n",
       "6 NA      1973 Palestinian conflict                  5    0.4000000  "
      ]
     },
     "metadata": {},
     "output_type": "display_data"
    }
   ],
   "source": [
    "# Print votes_tidied\n",
    "head(votes_tidied)\n",
    "\n",
    "# Summarize the percentage \"yes\" per country-year-topic\n",
    "by_country_year_topic <- votes_tidied %>% \n",
    "group_by(country,year,topic) %>% \n",
    "summarize(total = n(),\n",
    "          percent_yes = mean(vote == 1)\n",
    "          ) %>% \n",
    "ungroup()          \n",
    "\n",
    "# Print by_country_year_topic\n",
    "head(by_country_year_topic)"
   ]
  },
  {
   "cell_type": "markdown",
   "metadata": {},
   "source": [
    "#### 4.2.4) Visualizing trends in topics for one country\n",
    "You can now visualize the trends in percentage \"yes\" over time for all six topics side-by-side. Here, you'll visualize them just for the United States\n",
    "\n",
    "**Exercise**\n",
    "1. Load the ggplot2 package.\n",
    "2. Filter the by_country_year_topic dataset for just the United States and save the result as US_by_country_year_topic.\n",
    "3. Use this dataset to graph the percentage \"yes\" over time for the United States, faceting by topic\n",
    "\n",
    "*Answer*"
   ]
  },
  {
   "cell_type": "code",
   "execution_count": 20,
   "metadata": {},
   "outputs": [
    {
     "data": {},
     "metadata": {},
     "output_type": "display_data"
    },
    {
     "data": {
      "image/png": "[encoded data removed]",
      "text/plain": [
       "plot without title"
      ]
     },
     "metadata": {},
     "output_type": "display_data"
    }
   ],
   "source": [
    "library(repr)\n",
    "# Change plot size to 4 x 3\n",
    "    options(repr.plot.width=4, repr.plot.height=3)\n",
    "\n",
    "# Load the ggplot2 package\n",
    "library(ggplot2)\n",
    "\n",
    "\n",
    "# Filter by_country_year_topic for just the US\n",
    "US_by_country_year_topic<- filter(by_country_year_topic, country == \"United States\")\n",
    "\n",
    "# Plot % yes over time for the US, faceting by topic\n",
    "ggplot(US_by_country_year_topic, aes(x = year, y =percent_yes))+ geom_line() + facet_wrap(~topic)\n",
    "\n"
   ]
  },
  {
   "cell_type": "markdown",
   "metadata": {},
   "source": [
    "### 4.3) (video) tidy modeling by country and topic\n",
    "\n",
    "#### 4.3.1) Nesting by topic and country\n",
    "In the last chapter, you constructed a linear model for each country by nesting the data in each country, fitting a model to each dataset, then tidying each model with broom and unnesting the coefficients. The code looked something like this:\n",
    "\n",
    "    country_coefficients <- by_year_country %>%\n",
    "      nest(-country) %>%\n",
    "      mutate(model = map(data, ~ lm(percent_yes ~ year, data = .)),\n",
    "             tidied = map(model, tidy)) %>%\n",
    "      unnest(tidied)\n",
    "      \n",
    "Now, you'll again be modeling change in \"percentage\" yes over time, but instead of fitting one model for each country, you'll fit one for each combination of country and topic.\n",
    "\n",
    "**Exercise**\n",
    "1. Load the purrr, tidyr, and broom packages.\n",
    "2. Print the by_country_year_topic dataset to the console.\n",
    "3. Fit a linear model within each country and topic in this dataset, saving the result as country_topic_coefficients. You can use the above code as a starting point.\n",
    "4. Print the country_topic_coefficients dataset to the console.\n",
    "\n",
    "*Answer*"
   ]
  },
  {
   "cell_type": "markdown",
   "metadata": {},
   "source": [
    "    # Load purrr, tidyr, and broom\n",
    "    library(tidyr)\n",
    "    library(purrr)\n",
    "    library(broom)\n",
    "\n",
    "    # Print by_country_year_topic\n",
    "    by_country_year_topic\n",
    "\n",
    "    # Fit model on the by_country_year_topic dataset\n",
    "    country_topic_coefficients<-by_country_year_topic %>% \n",
    "      nest(-c(country,topic)) %>%\n",
    "      mutate(model = map(data, ~lm(percent_yes~year, data = .)) \n",
    "             , tidied = map(model, tidy)\n",
    "             ) %>%\n",
    "      unnest(tidied)\n",
    "\n",
    "\n",
    "    # Print country_topic_coefficients\n",
    "    country_topic_coefficients"
   ]
  },
  {
   "cell_type": "markdown",
   "metadata": {},
   "source": [
    "#### 4.3.2) Interpreting tidy models\n",
    "Now you have both the slope and intercept terms for each model. Just as you did in the last chapter with the tidied coefficients, you'll need to filter for only the slope terms.\n",
    "\n",
    "You'll also have to extract only cases that are statistically significant, which means adjusting the p-value for the number of models, and then filtering to include only significant changes.\n",
    "\n",
    "**Excersice**\n",
    "1. Filter the country_topic_coefficients data to include only the slope term.\n",
    "2. Add a p.adjusted column containing adjusted p-values (using the p.adjust() function).\n",
    "3. Filter for only adjusted p-values less than .05.\n",
    "4. Save the result as country_topic_filtered.\n",
    "\n",
    "*Answer*"
   ]
  },
  {
   "cell_type": "markdown",
   "metadata": {},
   "source": [
    "    # Create country_topic_filtered\n",
    "    country_topic_filtered<-filter(country_topic_coefficients, term == \"year\") %>%\n",
    "    mutate(p.adjusted = p.adjust(p.value) ) %>%\n",
    "    filter(p.adjusted < .05)\n"
   ]
  },
  {
   "cell_type": "markdown",
   "metadata": {},
   "source": [
    "#### 4.3.3) Checking models visually\n",
    "In the last exercise, you found that over its history, Vanuatu (an island nation in the Pacific Ocean) sharply changed its pattern of voting on the topic of Palestinian conflict.\n",
    "\n",
    "Let's examine this country's voting patterns more closely. Recall that the by_country_year_topic dataset contained one row for each combination of country, year, and topic. You can use that to create a plot of Vanuatu's voting, faceted by topic.\n",
    "\n",
    "**Exercise**\n",
    "\n",
    "1. Filter the by_country_year_topic variable for only Vanuatu's votes to create a vanuatu_by_country_year_topic object.\n",
    "2. Create a plot with year on the x-axis and percent_yes on the y-axis, and facet by topic.\n",
    "\n",
    "*Answer*"
   ]
  },
  {
   "cell_type": "markdown",
   "metadata": {},
   "source": [
    "    # Create vanuatu_by_country_year_topic\n",
    "    vanuatu_by_country_year_topic<- filter(by_country_year_topic, country == \"Vanuatu\")\n",
    "\n",
    "    # Plot of percentage \"yes\" over time, faceted by topic\n",
    "    ggplot(vanuatu_by_country_year_topic, aes(x = year, y = percent_yes)) + geom_line() + facet_wrap(~topic)"
   ]
  },
  {
   "cell_type": "code",
   "execution_count": null,
   "metadata": {},
   "outputs": [],
   "source": [
    "library(repr)\n",
    "# Change plot size to 4 x 3\n",
    "    options(repr.plot.width=4, repr.plot.height=3)"
   ]
  },
  {
   "cell_type": "markdown",
   "metadata": {},
   "source": [
    "**Exercise**\n",
    "\n",
    "*Answer*"
   ]
  },
  {
   "cell_type": "code",
   "execution_count": null,
   "metadata": {},
   "outputs": [],
   "source": [
    "library(repr)\n",
    "# Change plot size to 4 x 3\n",
    "    options(repr.plot.width=4, repr.plot.height=3)"
   ]
  }
 ],
 "metadata": {
  "kernelspec": {
   "display_name": "R",
   "language": "R",
   "name": "ir"
  },
  "language_info": {
   "codemirror_mode": "r",
   "file_extension": ".r",
   "mimetype": "text/x-r-source",
   "name": "R",
   "pygments_lexer": "r",
   "version": "3.5.1"
  }
 },
 "nbformat": 4,
 "nbformat_minor": 2
}
