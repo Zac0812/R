{
 "cells": [
  {
   "cell_type": "markdown",
   "metadata": {},
   "source": [
    "# Logial Operators\n",
    "\n",
    "We can use the following operators :\n",
    "\n",
    "1. Equeal `==`\n",
    "2. Greater and less than `> or <`\n",
    "3. Not Equeal `!=`\n",
    "4. And - Or Operator, we have: `& and |`\n",
    "\n",
    "# Conditional Statments\n",
    "\n",
    "The sintax is:\n",
    "\n",
    "`if (condition) {expr} else {expr}` it´s important to say that we can use `else if` to do more if, if we need it.\n",
    "\n",
    "It's important that the else keyword comes on the same line as the closing bracket of the if part!"
   ]
  },
  {
   "cell_type": "code",
   "execution_count": 4,
   "metadata": {},
   "outputs": [
    {
     "name": "stdout",
     "output_type": "stream",
     "text": [
      "[1] \"No se Cumple\"\n"
     ]
    }
   ],
   "source": [
    "a<-3\n",
    "if (a>5) {print(\"Se cumple la condición\")} else {print(\"No se Cumple\")}"
   ]
  },
  {
   "cell_type": "code",
   "execution_count": null,
   "metadata": {
    "collapsed": true
   },
   "outputs": [],
   "source": []
  }
 ],
 "metadata": {
  "kernelspec": {
   "display_name": "R",
   "language": "R",
   "name": "ir"
  },
  "language_info": {
   "codemirror_mode": "r",
   "file_extension": ".r",
   "mimetype": "text/x-r-source",
   "name": "R",
   "pygments_lexer": "r",
   "version": "3.4.3"
  }
 },
 "nbformat": 4,
 "nbformat_minor": 2
}
