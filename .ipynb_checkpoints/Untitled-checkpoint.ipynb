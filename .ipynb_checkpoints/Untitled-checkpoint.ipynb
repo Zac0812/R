{
 "cells": [
  {
   "cell_type": "markdown",
   "metadata": {},
   "source": [
    "# R-Project\n",
    "\n",
    "Intrucciones basicas en el uso de R en la consola \n",
    "\n",
    "1. \\>quit() , permite cerrar la consola (RGui)\n",
    "2. R studio es un editor de codigo & ambiente de desarrollo con carecteristicas muy agradables"
   ]
  },
  {
   "cell_type": "code",
   "execution_count": 5,
   "metadata": {},
   "outputs": [
    {
     "name": "stdout",
     "output_type": "stream",
     "text": [
      "What is your name?Luis\n"
     ]
    },
    {
     "data": {
      "text/html": [
       "'Hi Luis'"
      ],
      "text/latex": [
       "'Hi Luis'"
      ],
      "text/markdown": [
       "'Hi Luis'"
      ],
      "text/plain": [
       "[1] \"Hi Luis\""
      ]
     },
     "metadata": {},
     "output_type": "display_data"
    }
   ],
   "source": [
    "#Comentarios\n",
    "yourname<-readline(\"What is your name?\")\n",
    "fn_pegar<-paste(\"Hi\",yourname)\n",
    "fn_pegar"
   ]
  },
  {
   "cell_type": "code",
   "execution_count": null,
   "metadata": {
    "collapsed": true
   },
   "outputs": [],
   "source": []
  }
 ],
 "metadata": {
  "kernelspec": {
   "display_name": "R",
   "language": "R",
   "name": "ir"
  },
  "language_info": {
   "codemirror_mode": "r",
   "file_extension": ".r",
   "mimetype": "text/x-r-source",
   "name": "R",
   "pygments_lexer": "r",
   "version": "3.4.3"
  }
 },
 "nbformat": 4,
 "nbformat_minor": 2
}
