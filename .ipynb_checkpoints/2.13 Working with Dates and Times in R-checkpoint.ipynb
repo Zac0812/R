{
 "cells": [
  {
   "cell_type": "markdown",
   "metadata": {},
   "source": [
    "# Working with Dates and Times in R\n",
    "\n",
    "### Course Description\n",
    "\n",
    "\n",
    "### Note how can Resizing plots in the R kernel for Jupyter notebooks\n",
    "https://blog.revolutionanalytics.com/2015/09/resizing-plots-in-the-r-kernel-for-jupyter-notebooks.html\n",
    "\n",
    "    library(repr)\n",
    "\n",
    "    # Change plot size to 4 x 3\n",
    "    options(repr.plot.width=4, repr.plot.height=3)\n",
    "    \n",
    "### Note2 Generate a table \n",
    "https://www.tablesgenerator.com/markdown_tables\n",
    "\n",
    "### Explication of geom\n",
    "http://sape.inf.usi.ch/quick-reference/ggplot2/geom (type of geom in R)\n",
    "\n",
    "https://www.datanalytics.com/libro_r/elementos-de-un-grafico-en-ggplot2.html\n",
    "other: http://docs.ggplot2.org/current/\n"
   ]
  },
  {
   "cell_type": "code",
   "execution_count": 13,
   "metadata": {},
   "outputs": [
    {
     "name": "stderr",
     "output_type": "stream",
     "text": [
      "Parsed with column specification:\n",
      "cols(\n",
      "  major = col_double(),\n",
      "  minor = col_double(),\n",
      "  patch = col_double(),\n",
      "  date = col_date(format = \"\"),\n",
      "  datetime = col_datetime(format = \"\"),\n",
      "  time = col_time(format = \"\"),\n",
      "  type = col_character()\n",
      ")\n",
      "Parsed with column specification:\n",
      "cols(\n",
      "  date = col_character(),\n",
      "  max_temp = col_double(),\n",
      "  min_temp = col_double(),\n",
      "  mean_temp = col_double(),\n",
      "  mean_rh = col_double(),\n",
      "  events = col_character(),\n",
      "  cloud_cover = col_double()\n",
      ")\n",
      "Parsed with column specification:\n",
      "cols(\n",
      "  year = col_double(),\n",
      "  month = col_double(),\n",
      "  mday = col_double(),\n",
      "  time = col_time(format = \"\"),\n",
      "  temperature = col_double(),\n",
      "  weather = col_character(),\n",
      "  conditions = col_character(),\n",
      "  events = col_character(),\n",
      "  humidity = col_double(),\n",
      "  date_utc = col_datetime(format = \"\")\n",
      ")\n"
     ]
    }
   ],
   "source": [
    "library(readr)\n",
    "releases<-read_csv(\"https://assets.datacamp.com/production/repositories/1435/datasets/603b5835e87ce55c22221491406854cecf213898/rversions.csv\")\n",
    "akl_daily_raw<-read_csv(\"https://assets.datacamp.com/production/repositories/1435/datasets/f6590278193112325a874cb69cb94d7fbca5732f/akl_weather_daily.csv\")\n",
    "akl_weather_hourly_2016<-read_csv(\"https://assets.datacamp.com/production/repositories/1435/datasets/0b0ef636e2a69936ef8236108bfd2261647f5e9e/akl_weather_hourly_2016.csv\")\n"
   ]
  },
  {
   "cell_type": "markdown",
   "metadata": {},
   "source": [
    "## 1) Dates and Times in R\n",
    "R doesn't know something is a date or time unless you tell it. In this chapter you'll learn about some of the ways R stores dates and times by exploring how often R versions are released, and how quickly people download them. You'll also get a sneak peek at what you'll learn in the following chapters.\n",
    "\n",
    "### 1.1) Introduction to dates\n",
    "there are a lot way to write a date and its depends in where country or zone we are, so it's necessary to turn out there is is a global standard calle ISO 8601, that specifies the correct way to share data to avoid all confusion, it says order the components in decresing unit that is year, month and day,  but also a few other details about the date.\n",
    "\n",
    "For example, each component has a fixed number of digits, year has a four and day and month two, if you need one digit, you must pad it with leading zeros.\n",
    "\n",
    "You don´t have to use a separator, but if you do it must be a dash in date ... \"-\"\n",
    "\n",
    "Now if you try typing in the consolo a date like 2003-02-27 you´ll obtain 1974 like result,  other way \"2003-02-27\" you´ll obtain a string, this is because it´s necesary explicity to write \"this is a date\" with the as (dot) Date function.\n",
    "\n",
    "    as.Date(\"2003-02-27\")\n",
    "    str(as.Date(\"2003-02-27\"))\n",
    "    \n",
    "there are also a couple of packages that will automatically import dates in a wider range of formats like `readr or anytime`"
   ]
  },
  {
   "cell_type": "code",
   "execution_count": 1,
   "metadata": {},
   "outputs": [
    {
     "name": "stdout",
     "output_type": "stream",
     "text": [
      " chr \"2013-04-03\"\n",
      " Date[1:1], format: \"2013-04-03\"\n",
      " Date[1:1], format: \"2014-04-10\"\n"
     ]
    }
   ],
   "source": [
    "# The date R 3.0.0 was released\n",
    "x <- \"2013-04-03\"\n",
    "\n",
    "# Examine structure of x\n",
    "str(x)\n",
    "\n",
    "# Use as.Date() to interpret x as a date\n",
    "x_date <- as.Date(x)\n",
    "\n",
    "# Examine structure of x_date\n",
    "str(x_date)\n",
    "\n",
    "# Store April 10 2014 as a Date\n",
    "april_10_2014 <- as.Date(\"2014-04-10\")\n",
    "\n",
    "str(april_10_2014)"
   ]
  },
  {
   "cell_type": "markdown",
   "metadata": {},
   "source": [
    "#### 1.1.1) Automatic import\n",
    "Sometimes you'll need to input a couple of dates by hand using `as.Date()` but it's much more common to have a column of dates in a data file.\n",
    "\n",
    "Some functions that read in data will automatically recognize and parse dates in a variety of formats. In particular the import functions, like `read_csv()`, in the readr package will recognize dates in a few common formats.\n",
    "\n",
    "There is also the `anytime()` function in the anytime package whose sole goal is to automatically parse strings as dates regardless of the format.\n",
    "\n",
    "    Intrunctions\n",
    "    Use read_csv() to read in the CSV file rversions.csv as releases.\n",
    "    Use str() to examine the structure of the date column. Notice it's already a Date object.\n",
    "    We've loaded anytime and created an object called sep_10_2009. Use the anytime() function to parse sep_10_2009.\n",
    "    "
   ]
  },
  {
   "cell_type": "code",
   "execution_count": 10,
   "metadata": {},
   "outputs": [
    {
     "name": "stdout",
     "output_type": "stream",
     "text": [
      " Date[1:105], format: \"1997-12-04\" \"1997-12-21\" \"1998-01-10\" \"1998-03-14\" \"1998-05-02\" ...\n"
     ]
    },
    {
     "name": "stderr",
     "output_type": "stream",
     "text": [
      "Warning message:\n",
      "\"package 'anytime' was built under R version 3.5.3\""
     ]
    },
    {
     "data": {
      "text/plain": [
       "[1] \"2009-09-10 CDT\" \"2009-09-10 CDT\" \"2009-09-10 CDT\" \"2009-09-10 CDT\""
      ]
     },
     "metadata": {},
     "output_type": "display_data"
    }
   ],
   "source": [
    "# Load the readr package\n",
    "library(readr)\n",
    "\n",
    "# Use read_csv() to import rversions.csv\n",
    "#releases <- read_csv(\"rversions.csv\")\n",
    "\n",
    "# Examine the structure of the date column\n",
    "str(releases$date)\n",
    "\n",
    "# Load the anytime package\n",
    "library(anytime)\n",
    "\n",
    "# Various ways of writing Sep 10 2009\n",
    "sep_10_2009 <- c(\"September 10 2009\", \"2009-09-10\", \"10 Sep 2009\", \"09-10-2009\")\n",
    "\n",
    "# Use anytime() to parse sep_10_2009\n",
    "anytime(sep_10_2009)"
   ]
  },
  {
   "cell_type": "markdown",
   "metadata": {},
   "source": [
    "### 1.2) Why use dates?\n",
    "Once an object is a date, you can plot and math with it and get the result you´d expect like:\n",
    "\n",
    "#### 1.2.1) Plotting\n",
    "If you plot a Date on the axis of a plot, you expect the dates to be in calendar order, and that's exactly what happens with `plot() or ggplot()`.\n",
    "\n",
    "In this exercise you'll make some plots with the R version releases data from the previous exercises using ggplot2. There are two big differences when a Date is on an axis:\n",
    "\n",
    "If you specify limits they must be Date objects.\n",
    "\n",
    "To control the behavior of the scale you use the `scale_x_date()` function.\n",
    "\n",
    "Have a go in this exercise where you explore how often R releases occur.\n"
   ]
  },
  {
   "cell_type": "code",
   "execution_count": 11,
   "metadata": {},
   "outputs": [
    {
     "name": "stderr",
     "output_type": "stream",
     "text": [
      "Warning message:\n",
      "\"package 'ggplot2' was built under R version 3.5.3\""
     ]
    },
    {
     "data": {},
     "metadata": {},
     "output_type": "display_data"
    },
    {
     "name": "stderr",
     "output_type": "stream",
     "text": [
      "Warning message:\n",
      "\"Removed 87 rows containing missing values (geom_path).\""
     ]
    },
    {
     "data": {},
     "metadata": {},
     "output_type": "display_data"
    },
    {
     "data": {
      "image/png": "[encoded data removed]",
      "text/plain": [
       "plot without title"
      ]
     },
     "metadata": {},
     "output_type": "display_data"
    },
    {
     "data": {},
     "metadata": {},
     "output_type": "display_data"
    },
    {
     "data": {
      "image/png": "[encoded data removed]",
      "text/plain": [
       "plot without title"
      ]
     },
     "metadata": {},
     "output_type": "display_data"
    },
    {
     "data": {
      "image/png": "[encoded data removed]",
      "text/plain": [
       "plot without title"
      ]
     },
     "metadata": {},
     "output_type": "display_data"
    }
   ],
   "source": [
    "    library(ggplot2)\n",
    "    #str(releases)\n",
    "\n",
    "    # Set the x axis to the date column\n",
    "    ggplot(releases, aes(x = date, y = type)) +\n",
    "      geom_line(aes(group = 1, color = factor(major)))\n",
    "\n",
    "    # Limit the axis to between 2010-01-01 and 2014-01-01\n",
    "    ggplot(releases, aes(x = date, y = type)) +\n",
    "      geom_line(aes(group = 1, color = factor(major))) +\n",
    "      xlim(as.Date(\"2010-01-01\"), as.Date(\"2014-01-01\"))\n",
    "\n",
    "    # Specify breaks every ten years and labels with \"%Y\"\n",
    "    ggplot(releases, aes(x = date, y = type)) +\n",
    "      geom_line(aes(group = 1, color = factor(major))) +\n",
    "      scale_x_date(date_breaks = \"10 years\", date_labels = \"%Y\")"
   ]
  },
  {
   "cell_type": "markdown",
   "metadata": {},
   "source": [
    "#### 1.2.2)  Arithmetic and logical operators\n",
    "Since Date objects are internally represented as the number of days since 1970-01-01 you can do basic math and comparisons with dates. You can compare dates with the usual logical operators (<, ==, > etc.), find extremes with min() and max(), and even subtract two dates to find out the time between them.\n",
    "\n",
    "In this exercise you'll see how these operations work by exploring the last R release. You'll see Sys.date() in the code, it simply returns today's date.\n",
    "\n",
    "    Find the date of the most recent release by calling max() on the date column in releases.\n",
    "    Find the rows in releases that have the most recent date, by specifying the comparison date == last_release_date in filter()\n",
    "    Print last_release to see which release this was.\n",
    "    Calculate how long it has been since the most recent release by subtracting last_release_date from Sys.Date().\n",
    "    \n",
    "    \n",
    "    # Find the largest date\n",
    "    last_release_date <- max(releases$date)\n",
    "\n",
    "    # Filter row for last release\n",
    "    last_release <- filter(releases, date == last_release_date)\n",
    "\n",
    "    # Print last_release\n",
    "    last_release\n",
    "\n",
    "    # How long since last release?\n",
    "    Sys.Date() - last_release_date"
   ]
  },
  {
   "cell_type": "markdown",
   "metadata": {},
   "source": [
    "### 1.3) What about time?\n",
    "ISO 8601 tell us that it´s necesary to write from largest unit to smallest a fixed number of digits and optinally seperating the units with a colon (HH:MM:SS) and when combined with a date, the time is sometimes prefixed with the character `T`, there are two built in types of objects for datatimes in R, `POSIXIt and POSIXct` the first stores a date in a list with components for each unit, whereas the second stores the date as the number of seconds since the beginning of 1970, the same way like as.Date we can convert a string chain to POSIXct with `as.POSIXct` e.g "
   ]
  },
  {
   "cell_type": "code",
   "execution_count": 1,
   "metadata": {},
   "outputs": [
    {
     "name": "stdout",
     "output_type": "stream",
     "text": [
      " POSIXct[1:1], format: \"1970-01-01 00:01:00\"\n"
     ]
    }
   ],
   "source": [
    "a<-as.POSIXct(\"1970-01-01 00:01:00\")\n",
    "str(a)"
   ]
  },
  {
   "cell_type": "markdown",
   "metadata": {},
   "source": [
    "Note: ISO 8601 also allows the specification of a timezone if no time zone is specified it is assumed to be local time\n",
    "\n",
    "#### 1.3.1) Getting datetimes into R\n",
    "Just like dates without times, if you want R to recognize a string as a datetime you need to convert it, although now you use `as.POSIXct(). as.POSIXct()` expects strings to be in the format `YYYY-MM-DD HH:MM:SS`.\n",
    "\n",
    "The only tricky thing is that times will be interpreted in local time based on your machine's set up. You can check your timezone with `Sys.timezone()`. If you want the time to be interpreted in a different timezone, you just set the tz argument of `as.POSIXct()`. You'll learn more about time zones in Chapter 4.\n",
    "\n",
    "In this exercise you'll input a couple of datetimes by hand and then see that `read_csv()` also handles datetimes automatically in a lot of cases.\n",
    "\n",
    "    Exercise:\n",
    "    \n",
    "    Use as.POSIXct() and an appropriate string to input the datetime corresponding to Oct 1st 2010 at 12:12:00.\n",
    "    Enter the same datetime again, but now specify the timezone as \"America/Los_Angeles\".\n",
    "    Use read_csv() to read in rversions.csv again.\n",
    "    Examine the structure of the datetime column to verify read_csv() has correctly interpreted it as a datetime.\n",
    "\n",
    "    #Sys.timezone()\n",
    "\n",
    "    # Use as.POSIXct to enter the datetime \n",
    "    as.POSIXct(\"2010-10-01 12:12:00\")\n",
    "\n",
    "    # Use as.POSIXct again but set the timezone to `\"America/Los_Angeles\"`\n",
    "    as.POSIXct(\"2010-10-01 12:12:00\", tz = \"America/Los_Angeles\")\n",
    "\n",
    "    # Use read_csv to import rversions.csv\n",
    "    releases <- read_csv(\"rversions.csv\")\n",
    "\n",
    "    # Examine structure of datetime column\n",
    "    str(releases$datetime)"
   ]
  },
  {
   "cell_type": "markdown",
   "metadata": {},
   "source": [
    "### 1.4) Why lubridate?\n",
    "lubridate is designed to make working with dates and times as easy as possibles in R, it´s a tidyverse package, which means it obeys some key principles, including playing nicely with R´s existing datatime objects and being designed for humans, not computers, it also means it will fit nicely in your data analysis pipelines that use other tidyverse tools."
   ]
  },
  {
   "cell_type": "markdown",
   "metadata": {},
   "source": [
    "## 2) Parsing and Manipulating Dates and Times with lubridate\n",
    "Dates and times come in a huge assortment of formats, so your first hurdle is often to parse the format you have into an R datetime. This chapter teaches you to import dates and times with the lubridate package. You'll also learn how to extract parts of a datetime. You'll practice by exploring the weather in R's birthplace, Auckland NZ.\n",
    "\n",
    "### 2.1)  Parsing date with lubridate\n",
    "You´ll learn first how import package:\n",
    "\n",
    "1. a whole set of functions whose names correspond to different formats or\n",
    "2. and the more general purpose parse_date_time, a function where the format is specified as an argument.\n",
    "\n",
    "so we start, for example:"
   ]
  },
  {
   "cell_type": "code",
   "execution_count": 5,
   "metadata": {},
   "outputs": [
    {
     "data": {
      "text/html": [
       "<time datetime=\"2013-02-17\">2013-02-17</time>"
      ],
      "text/latex": [
       "2013-02-17"
      ],
      "text/markdown": [
       "2013-02-17"
      ],
      "text/plain": [
       "[1] \"2013-02-17\""
      ]
     },
     "metadata": {},
     "output_type": "display_data"
    },
    {
     "data": {
      "text/html": [
       "<time datetime=\"2013-02-17\">2013-02-17</time>"
      ],
      "text/latex": [
       "2013-02-17"
      ],
      "text/markdown": [
       "2013-02-17"
      ],
      "text/plain": [
       "[1] \"2013-02-17\""
      ]
     },
     "metadata": {},
     "output_type": "display_data"
    },
    {
     "data": {
      "text/html": [
       "<time datetime=\"2013-02-27\">2013-02-27</time>"
      ],
      "text/latex": [
       "2013-02-27"
      ],
      "text/markdown": [
       "2013-02-27"
      ],
      "text/plain": [
       "[1] \"2013-02-27\""
      ]
     },
     "metadata": {},
     "output_type": "display_data"
    }
   ],
   "source": [
    "library(lubridate)\n",
    "ymd(\"2013-02-17\")\n",
    "ymd(\"2013.02.17\")\n",
    "ymd(\"2013 Feb 27th\")"
   ]
  },
  {
   "cell_type": "markdown",
   "metadata": {},
   "source": [
    "we saw that lubridate can handle a different type of format of dates that are not necessarily in the format ISO, what´s neat about lubridate is that there are a whole family of functions like `ymd` where the function name specifies the expected format of the date like:\n",
    "\n",
    "`ymd(), ydm(), mdy(), myd(), dmy(), dym()`\n",
    "\n",
    "there are also functions like this for datetime too the date part of the function name is followed by a underscore, and the `hms, hm or s` like dym_hm, unlike some R´functions, if you don´t specify a timezone, lubridate will asumme UTC, some times you may still run into cases where you need to be more specific the function `parse_date_time` in lubridate, also parse dates, but you specify the order in a separete argument e.g `parse_date_time(x = ___ , order = ___)` the order is a string that describres the order of the component in a date, e.g"
   ]
  },
  {
   "cell_type": "code",
   "execution_count": 6,
   "metadata": {},
   "outputs": [
    {
     "data": {
      "text/plain": [
       "[1] \"2013-02-27 UTC\""
      ]
     },
     "metadata": {},
     "output_type": "display_data"
    }
   ],
   "source": [
    "parse_date_time(x = \"27-02-2013\", order = \"dmy\")"
   ]
  },
  {
   "cell_type": "markdown",
   "metadata": {},
   "source": [
    "this function has a handly feature where if the dates you need to parse are in more than one order\n",
    "\n",
    "| Character | Meaning                  | Character | Meaning                  |\n",
    "|-----------|--------------------------|-----------|--------------------------|\n",
    "| d         | Numeric day of the month | a         | Abbreviated weekday      |\n",
    "| m         | Month of year            | A         | Full weekday             |\n",
    "| y         | Year with century        | b         | Abbreviated month name   |\n",
    "| Y         | Year withour century     | B         | Full Month name          |\n",
    "| H         | Hours (24 hours)         | I         | Hours (12hour)           |\n",
    "| M         | Minutes                  | p         | AM/PM                    |\n",
    "| S         | Seconds                  | z         | Timezone,offset from UTC |"
   ]
  },
  {
   "cell_type": "code",
   "execution_count": 7,
   "metadata": {},
   "outputs": [
    {
     "data": {
      "text/plain": [
       "[1] \"2013-02-27 UTC\" \"2013-02-27 UTC\""
      ]
     },
     "metadata": {},
     "output_type": "display_data"
    }
   ],
   "source": [
    "parse_date_time(x = c(\"27-02-2013\",\"2013 Feb 27th\"), order = c(\"dmy\",\"ymd\"))"
   ]
  },
  {
   "cell_type": "markdown",
   "metadata": {},
   "source": [
    "You can find all the possible formating characters on the help page for this function\n",
    "\n",
    "#### 2.1.1)  Selecting the right parsing function\n",
    "lubridate provides a set of functions for parsing dates of a known order. For example, `ymd()` will parse dates with year first, followed by month and then day. The parsing is flexible, for example, it will parse the `m` whether it is numeric (e.g. 9 or 09), a full month name (e.g. September), or an abbreviated month name (e.g. Sep).\n",
    "\n",
    "All the functions with `y, m and d` in any order exist. If your dates have times as well, you can use the functions that start with `ymd, dmy, mdy or ydm` and are followed by any of `_h, _hm or _hms`.\n",
    "\n",
    "To see all the functions available look at `ymd()` for dates and `ymd_hms()` for datetimes.\n",
    "\n",
    "Here are some challenges. In each case we've provided a date, your job is to choose the correct function to parse it."
   ]
  },
  {
   "cell_type": "code",
   "execution_count": 8,
   "metadata": {},
   "outputs": [
    {
     "data": {
      "text/html": [
       "<time datetime=\"2010-09-20\">2010-09-20</time>"
      ],
      "text/latex": [
       "2010-09-20"
      ],
      "text/markdown": [
       "2010-09-20"
      ],
      "text/plain": [
       "[1] \"2010-09-20\""
      ]
     },
     "metadata": {},
     "output_type": "display_data"
    },
    {
     "data": {
      "text/html": [
       "<time datetime=\"2010-01-02\">2010-01-02</time>"
      ],
      "text/latex": [
       "2010-01-02"
      ],
      "text/markdown": [
       "2010-01-02"
      ],
      "text/plain": [
       "[1] \"2010-01-02\""
      ]
     },
     "metadata": {},
     "output_type": "display_data"
    },
    {
     "data": {
      "text/plain": [
       "[1] \"2010-09-12 14:00:00 UTC\""
      ]
     },
     "metadata": {},
     "output_type": "display_data"
    }
   ],
   "source": [
    "library(lubridate)\n",
    "\n",
    "# Parse x \n",
    "x <- \"2010 September 20th\" # 2010-09-20\n",
    "ymd(x)\n",
    "\n",
    "# Parse y \n",
    "y <- \"02.01.2010\"  # 2010-01-02\n",
    "dmy(y)\n",
    "\n",
    "# Parse z \n",
    "z <- \"Sep, 12th 2010 14:00\"  # 2010-09-12T14:00\n",
    "mdy_hm(z)"
   ]
  },
  {
   "cell_type": "markdown",
   "metadata": {},
   "source": [
    "#### 2.1.2) Specifying an order with  `parse_date_time()`\n",
    "What about if you have something in a really weird order like `dym_msh`? There's no named function just for that order, but that is where parse_date_time() comes in. parse_date_time() takes an additional argument, orders, where you can specify the order of the components in the date.\n",
    "\n",
    "For example, to parse \"2010 September 20th\" you could say `parse_date_time(\"2010 September 20th\", orders = \"ymd\")` and that would be equivalent to using the ymd() function from the previous exercise.\n",
    "\n",
    "One advantage of parse_date_time() is that you can use more format characters. For example, you can specify weekday names with `A`, `I` for 12 hour time, am/pm indicators with `p` and many others. You can see a whole list on the help page `?parse_date_time.`\n",
    "\n",
    "Another big advantage is that you can specify a vector of orders, and that allows parsing of dates where multiple formats might be used.\n",
    "\n",
    "You'll try it out in this exercise\n",
    "\n"
   ]
  },
  {
   "cell_type": "code",
   "execution_count": 9,
   "metadata": {},
   "outputs": [
    {
     "name": "stderr",
     "output_type": "stream",
     "text": [
      "Warning message:\n",
      "\"All formats failed to parse. No formats found.\""
     ]
    },
    {
     "data": {
      "text/plain": [
       "[1] NA"
      ]
     },
     "metadata": {},
     "output_type": "display_data"
    },
    {
     "data": {
      "text/plain": [
       "[1] \"2001-10-07 UTC\" \"2002-10-13 UTC\" \"2003-04-13 UTC\" \"2005-04-17 UTC\"\n",
       "[5] \"2017-04-23 UTC\""
      ]
     },
     "metadata": {},
     "output_type": "display_data"
    },
    {
     "data": {
      "text/plain": [
       "[1] \"1282-12-11 UTC\" \"1372-05-01 UTC\" \"1253-01-01 UTC\""
      ]
     },
     "metadata": {},
     "output_type": "display_data"
    }
   ],
   "source": [
    "#?parse_date_time\n",
    "# Specify an order string to parse x\n",
    "x <- \"Monday June 1st 2010 at 4pm\"\n",
    "parse_date_time(x, orders = \"ABdyIp\")\n",
    "\n",
    "# Specify order to include both \"mdy\" and \"dmy\"\n",
    "two_orders <- c(\"October 7, 2001\", \"October 13, 2002\", \"April 13, 2003\", \n",
    "  \"17 April 2005\", \"23 April 2017\")\n",
    "parse_date_time(two_orders, orders = c(\"mdy\", \"dmy\"))\n",
    "\n",
    "# Specify order to include \"dOmY\", \"OmY\" and \"Y\"\n",
    "short_dates <- c(\"11 December 1282\", \"May 1372\", \"1253\")\n",
    "parse_date_time(short_dates, orders = c(\"dOmY\", \"OmY\", \"Y\"))\n"
   ]
  },
  {
   "cell_type": "markdown",
   "metadata": {},
   "source": [
    "### 2.2) Weather in Auckland\n",
    "\n",
    "#### 2.2.1)Import daily weather data\n",
    "In practice you won't be parsing isolated dates and times, they'll be part of a larger dataset. Throughout the chapter after you've mastered a skill with a simpler example (the release times of R for example), you'll practice your lubridate skills in context by working with weather data from `Auckland NZ`.\n",
    "\n",
    "There are two data sets: akl_weather_daily.csv a set of once daily summaries for 10 years, and akl_weather_hourly_2016.csv observations every half hour for 2016. You'll import the daily data in this exercise and the hourly weather in the next exercise.\n",
    "\n",
    "You'll be using functions from dplyr, so if you are feeling rusty, you might want to review filter(), select() and mutate()\n",
    "\n",
    "    Exercise: \n",
    "    Import the daily data, \"akl_weather_daily.csv\" with read_csv().\n",
    "    \n",
    "    Print akl_daily_raw to confirm the date column hasn't been interpreted as a date. Can you see why?\n",
    "    \n",
    "    Using mutate() overwrite the column date with a parsed version of date. You need to specify the parsing function. Hint: the first date should be September 1.\n",
    "    \n",
    "    Print akl_daily to verify the date column is now a Date.\n",
    "    \n",
    "    Take a look at the data by plotting date on the x-axis and max_temp of the y-axis.\n"
   ]
  },
  {
   "cell_type": "code",
   "execution_count": 15,
   "metadata": {},
   "outputs": [
    {
     "data": {
      "text/html": [
       "<table>\n",
       "<thead><tr><th scope=col>date</th><th scope=col>max_temp</th><th scope=col>min_temp</th><th scope=col>mean_temp</th><th scope=col>mean_rh</th><th scope=col>events</th><th scope=col>cloud_cover</th></tr></thead>\n",
       "<tbody>\n",
       "\t<tr><td>2007-9-1</td><td>60      </td><td>51      </td><td>56      </td><td>75      </td><td>NA      </td><td>4       </td></tr>\n",
       "\t<tr><td>2007-9-2</td><td>60      </td><td>53      </td><td>56      </td><td>82      </td><td>Rain    </td><td>4       </td></tr>\n",
       "\t<tr><td>2007-9-3</td><td>57      </td><td>51      </td><td>54      </td><td>78      </td><td>NA      </td><td>6       </td></tr>\n",
       "\t<tr><td>2007-9-4</td><td>64      </td><td>50      </td><td>57      </td><td>80      </td><td>Rain    </td><td>6       </td></tr>\n",
       "\t<tr><td>2007-9-5</td><td>53      </td><td>48      </td><td>50      </td><td>90      </td><td>Rain    </td><td>7       </td></tr>\n",
       "\t<tr><td>2007-9-6</td><td>57      </td><td>42      </td><td>50      </td><td>69      </td><td>NA      </td><td>1       </td></tr>\n",
       "</tbody>\n",
       "</table>\n"
      ],
      "text/latex": [
       "\\begin{tabular}{r|lllllll}\n",
       " date & max\\_temp & min\\_temp & mean\\_temp & mean\\_rh & events & cloud\\_cover\\\\\n",
       "\\hline\n",
       "\t 2007-9-1 & 60       & 51       & 56       & 75       & NA       & 4       \\\\\n",
       "\t 2007-9-2 & 60       & 53       & 56       & 82       & Rain     & 4       \\\\\n",
       "\t 2007-9-3 & 57       & 51       & 54       & 78       & NA       & 6       \\\\\n",
       "\t 2007-9-4 & 64       & 50       & 57       & 80       & Rain     & 6       \\\\\n",
       "\t 2007-9-5 & 53       & 48       & 50       & 90       & Rain     & 7       \\\\\n",
       "\t 2007-9-6 & 57       & 42       & 50       & 69       & NA       & 1       \\\\\n",
       "\\end{tabular}\n"
      ],
      "text/markdown": [
       "\n",
       "date | max_temp | min_temp | mean_temp | mean_rh | events | cloud_cover | \n",
       "|---|---|---|---|---|---|\n",
       "| 2007-9-1 | 60       | 51       | 56       | 75       | NA       | 4        | \n",
       "| 2007-9-2 | 60       | 53       | 56       | 82       | Rain     | 4        | \n",
       "| 2007-9-3 | 57       | 51       | 54       | 78       | NA       | 6        | \n",
       "| 2007-9-4 | 64       | 50       | 57       | 80       | Rain     | 6        | \n",
       "| 2007-9-5 | 53       | 48       | 50       | 90       | Rain     | 7        | \n",
       "| 2007-9-6 | 57       | 42       | 50       | 69       | NA       | 1        | \n",
       "\n",
       "\n"
      ],
      "text/plain": [
       "  date     max_temp min_temp mean_temp mean_rh events cloud_cover\n",
       "1 2007-9-1 60       51       56        75      NA     4          \n",
       "2 2007-9-2 60       53       56        82      Rain   4          \n",
       "3 2007-9-3 57       51       54        78      NA     6          \n",
       "4 2007-9-4 64       50       57        80      Rain   6          \n",
       "5 2007-9-5 53       48       50        90      Rain   7          \n",
       "6 2007-9-6 57       42       50        69      NA     1          "
      ]
     },
     "metadata": {},
     "output_type": "display_data"
    },
    {
     "data": {
      "text/html": [
       "<table>\n",
       "<thead><tr><th scope=col>date</th><th scope=col>max_temp</th><th scope=col>min_temp</th><th scope=col>mean_temp</th><th scope=col>mean_rh</th><th scope=col>events</th><th scope=col>cloud_cover</th></tr></thead>\n",
       "<tbody>\n",
       "\t<tr><td>2007-09-01       </td><td>60               </td><td>51               </td><td>56               </td><td>75               </td><td>NA               </td><td>4                </td></tr>\n",
       "\t<tr><td>2007-09-02       </td><td>60               </td><td>53               </td><td>56               </td><td>82               </td><td>Rain             </td><td>4                </td></tr>\n",
       "\t<tr><td>2007-09-03       </td><td>57               </td><td>51               </td><td>54               </td><td>78               </td><td>NA               </td><td>6                </td></tr>\n",
       "\t<tr><td>2007-09-04       </td><td>64               </td><td>50               </td><td>57               </td><td>80               </td><td>Rain             </td><td>6                </td></tr>\n",
       "\t<tr><td>2007-09-05       </td><td>53               </td><td>48               </td><td>50               </td><td>90               </td><td>Rain             </td><td>7                </td></tr>\n",
       "\t<tr><td>2007-09-06       </td><td>57               </td><td>42               </td><td>50               </td><td>69               </td><td>NA               </td><td>1                </td></tr>\n",
       "\t<tr><td>2007-09-07       </td><td>59               </td><td>41               </td><td>50               </td><td>77               </td><td>NA               </td><td>4                </td></tr>\n",
       "\t<tr><td>2007-09-08       </td><td>59               </td><td>46               </td><td>52               </td><td>80               </td><td>NA               </td><td>5                </td></tr>\n",
       "\t<tr><td>2007-09-09       </td><td>55               </td><td>50               </td><td>52               </td><td>88               </td><td>Rain             </td><td>7                </td></tr>\n",
       "\t<tr><td>2007-09-10       </td><td>59               </td><td>50               </td><td>54               </td><td>82               </td><td>Rain             </td><td>4                </td></tr>\n",
       "\t<tr><td>2007-09-11       </td><td>57               </td><td>50               </td><td>54               </td><td>78               </td><td>NA               </td><td>3                </td></tr>\n",
       "\t<tr><td>2007-09-12       </td><td>59               </td><td>42               </td><td>50               </td><td>78               </td><td>NA               </td><td>2                </td></tr>\n",
       "\t<tr><td>2007-09-13       </td><td>62               </td><td>44               </td><td>53               </td><td>77               </td><td>NA               </td><td>4                </td></tr>\n",
       "\t<tr><td>2007-09-14       </td><td>62               </td><td>51               </td><td>56               </td><td>78               </td><td>NA               </td><td>5                </td></tr>\n",
       "\t<tr><td>2007-09-15       </td><td>66               </td><td>50               </td><td>58               </td><td>83               </td><td>Fog              </td><td>4                </td></tr>\n",
       "\t<tr><td>2007-09-16       </td><td>60               </td><td>55               </td><td>58               </td><td>92               </td><td>Rain             </td><td>6                </td></tr>\n",
       "\t<tr><td>2007-09-17       </td><td>64               </td><td>51               </td><td>58               </td><td>87               </td><td>Fog              </td><td>4                </td></tr>\n",
       "\t<tr><td>2007-09-18       </td><td>66               </td><td>53               </td><td>60               </td><td>86               </td><td>Rain             </td><td>4                </td></tr>\n",
       "\t<tr><td>2007-09-19       </td><td>66               </td><td>51               </td><td>58               </td><td>82               </td><td>Rain             </td><td>4                </td></tr>\n",
       "\t<tr><td>2007-09-20       </td><td>62               </td><td>57               </td><td>60               </td><td>79               </td><td>Rain             </td><td>5                </td></tr>\n",
       "\t<tr><td>2007-09-21       </td><td>64               </td><td>53               </td><td>58               </td><td>74               </td><td>NA               </td><td>3                </td></tr>\n",
       "\t<tr><td>2007-09-22       </td><td>68               </td><td>50               </td><td>59               </td><td>83               </td><td>NA               </td><td>4                </td></tr>\n",
       "\t<tr><td>2007-09-23       </td><td>66               </td><td>55               </td><td>62               </td><td>89               </td><td>Rain             </td><td>6                </td></tr>\n",
       "\t<tr><td>2007-09-24       </td><td>66               </td><td>51               </td><td>58               </td><td>86               </td><td>Rain-Thunderstorm</td><td>4                </td></tr>\n",
       "\t<tr><td>2007-09-25       </td><td>59               </td><td>50               </td><td>54               </td><td>86               </td><td>Rain             </td><td>3                </td></tr>\n",
       "\t<tr><td>2007-09-26       </td><td>60               </td><td>48               </td><td>54               </td><td>76               </td><td>NA               </td><td>3                </td></tr>\n",
       "\t<tr><td>2007-09-27       </td><td>59               </td><td>46               </td><td>52               </td><td>70               </td><td>Rain             </td><td>2                </td></tr>\n",
       "\t<tr><td>2007-09-28       </td><td>59               </td><td>44               </td><td>52               </td><td>71               </td><td>NA               </td><td>2                </td></tr>\n",
       "\t<tr><td>2007-09-29       </td><td>60               </td><td>46               </td><td>53               </td><td>75               </td><td>NA               </td><td>3                </td></tr>\n",
       "\t<tr><td>2007-09-30       </td><td>62               </td><td>53               </td><td>58               </td><td>84               </td><td>Rain             </td><td>6                </td></tr>\n",
       "\t<tr><td>...</td><td>...</td><td>...</td><td>...</td><td>...</td><td>...</td><td>...</td></tr>\n",
       "\t<tr><td>2017-08-08</td><td>64        </td><td>55        </td><td>60        </td><td>93        </td><td>Rain      </td><td> 6        </td></tr>\n",
       "\t<tr><td>2017-08-09</td><td>60        </td><td>55        </td><td>58        </td><td>95        </td><td>Rain      </td><td> 7        </td></tr>\n",
       "\t<tr><td>2017-08-10</td><td>60        </td><td>50        </td><td>55        </td><td>85        </td><td>Rain      </td><td> 3        </td></tr>\n",
       "\t<tr><td>2017-08-11</td><td>59        </td><td>48        </td><td>54        </td><td>86        </td><td>Rain      </td><td> 4        </td></tr>\n",
       "\t<tr><td>2017-08-12</td><td>62        </td><td>55        </td><td>58        </td><td>84        </td><td>Rain      </td><td> 6        </td></tr>\n",
       "\t<tr><td>2017-08-13</td><td>64        </td><td>50        </td><td>57        </td><td>86        </td><td>Rain      </td><td> 4        </td></tr>\n",
       "\t<tr><td>2017-08-14</td><td>59        </td><td>50        </td><td>54        </td><td>87        </td><td>Rain      </td><td> 5        </td></tr>\n",
       "\t<tr><td>2017-08-15</td><td>59        </td><td>46        </td><td>52        </td><td>82        </td><td>Rain      </td><td> 3        </td></tr>\n",
       "\t<tr><td>2017-08-16</td><td>60        </td><td>48        </td><td>54        </td><td>84        </td><td>NA        </td><td> 5        </td></tr>\n",
       "\t<tr><td>2017-08-17</td><td>60        </td><td>50        </td><td>55        </td><td>86        </td><td>Rain      </td><td> 6        </td></tr>\n",
       "\t<tr><td>2017-08-18</td><td>60        </td><td>50        </td><td>55        </td><td>93        </td><td>Fog-Rain  </td><td> 6        </td></tr>\n",
       "\t<tr><td>2017-08-19</td><td>60        </td><td>51        </td><td>56        </td><td>89        </td><td>Rain      </td><td> 6        </td></tr>\n",
       "\t<tr><td>2017-08-20</td><td>60        </td><td>50        </td><td>55        </td><td>84        </td><td>Rain      </td><td> 5        </td></tr>\n",
       "\t<tr><td>2017-08-21</td><td>59        </td><td>50        </td><td>54        </td><td>85        </td><td>Rain      </td><td> 6        </td></tr>\n",
       "\t<tr><td>2017-08-22</td><td>59        </td><td>44        </td><td>52        </td><td>82        </td><td>NA        </td><td> 5        </td></tr>\n",
       "\t<tr><td>2017-08-23</td><td>60        </td><td>39        </td><td>50        </td><td>82        </td><td>NA        </td><td> 2        </td></tr>\n",
       "\t<tr><td>2017-08-24</td><td>62        </td><td>41        </td><td>52        </td><td>82        </td><td>Fog       </td><td> 2        </td></tr>\n",
       "\t<tr><td>2017-08-25</td><td>62        </td><td>42        </td><td>52        </td><td>80        </td><td>NA        </td><td> 2        </td></tr>\n",
       "\t<tr><td>2017-08-26</td><td>62        </td><td>46        </td><td>54        </td><td>85        </td><td>Rain      </td><td> 5        </td></tr>\n",
       "\t<tr><td>2017-08-27</td><td>60        </td><td>51        </td><td>56        </td><td>84        </td><td>Rain      </td><td> 6        </td></tr>\n",
       "\t<tr><td>2017-08-28</td><td>64        </td><td>55        </td><td>60        </td><td>91        </td><td>Rain      </td><td> 7        </td></tr>\n",
       "\t<tr><td>2017-08-29</td><td>62        </td><td>51        </td><td>56        </td><td>87        </td><td>NA        </td><td> 5        </td></tr>\n",
       "\t<tr><td>2017-08-30</td><td>59        </td><td>50        </td><td>54        </td><td>94        </td><td>Rain      </td><td> 6        </td></tr>\n",
       "\t<tr><td>2017-08-31</td><td>62        </td><td>53        </td><td>58        </td><td>89        </td><td>Rain      </td><td> 6        </td></tr>\n",
       "\t<tr><td>2017-09-01</td><td>62        </td><td>50        </td><td>56        </td><td>87        </td><td>Rain      </td><td> 6        </td></tr>\n",
       "\t<tr><td>2017-09-02</td><td>60        </td><td>51        </td><td>56        </td><td>88        </td><td>Rain      </td><td> 6        </td></tr>\n",
       "\t<tr><td>2017-09-03</td><td>59        </td><td>51        </td><td>55        </td><td>78        </td><td>Rain      </td><td> 6        </td></tr>\n",
       "\t<tr><td>2017-09-04</td><td>60        </td><td>51        </td><td>56        </td><td>79        </td><td>Rain      </td><td> 5        </td></tr>\n",
       "\t<tr><td>2017-09-05</td><td>62        </td><td>50        </td><td>56        </td><td>75        </td><td>Rain      </td><td> 6        </td></tr>\n",
       "\t<tr><td>2017-09-06</td><td>NA        </td><td>NA        </td><td>NA        </td><td>NA        </td><td>NA        </td><td>NA        </td></tr>\n",
       "</tbody>\n",
       "</table>\n"
      ],
      "text/latex": [
       "\\begin{tabular}{r|lllllll}\n",
       " date & max\\_temp & min\\_temp & mean\\_temp & mean\\_rh & events & cloud\\_cover\\\\\n",
       "\\hline\n",
       "\t 2007-09-01        & 60                & 51                & 56                & 75                & NA                & 4                \\\\\n",
       "\t 2007-09-02        & 60                & 53                & 56                & 82                & Rain              & 4                \\\\\n",
       "\t 2007-09-03        & 57                & 51                & 54                & 78                & NA                & 6                \\\\\n",
       "\t 2007-09-04        & 64                & 50                & 57                & 80                & Rain              & 6                \\\\\n",
       "\t 2007-09-05        & 53                & 48                & 50                & 90                & Rain              & 7                \\\\\n",
       "\t 2007-09-06        & 57                & 42                & 50                & 69                & NA                & 1                \\\\\n",
       "\t 2007-09-07        & 59                & 41                & 50                & 77                & NA                & 4                \\\\\n",
       "\t 2007-09-08        & 59                & 46                & 52                & 80                & NA                & 5                \\\\\n",
       "\t 2007-09-09        & 55                & 50                & 52                & 88                & Rain              & 7                \\\\\n",
       "\t 2007-09-10        & 59                & 50                & 54                & 82                & Rain              & 4                \\\\\n",
       "\t 2007-09-11        & 57                & 50                & 54                & 78                & NA                & 3                \\\\\n",
       "\t 2007-09-12        & 59                & 42                & 50                & 78                & NA                & 2                \\\\\n",
       "\t 2007-09-13        & 62                & 44                & 53                & 77                & NA                & 4                \\\\\n",
       "\t 2007-09-14        & 62                & 51                & 56                & 78                & NA                & 5                \\\\\n",
       "\t 2007-09-15        & 66                & 50                & 58                & 83                & Fog               & 4                \\\\\n",
       "\t 2007-09-16        & 60                & 55                & 58                & 92                & Rain              & 6                \\\\\n",
       "\t 2007-09-17        & 64                & 51                & 58                & 87                & Fog               & 4                \\\\\n",
       "\t 2007-09-18        & 66                & 53                & 60                & 86                & Rain              & 4                \\\\\n",
       "\t 2007-09-19        & 66                & 51                & 58                & 82                & Rain              & 4                \\\\\n",
       "\t 2007-09-20        & 62                & 57                & 60                & 79                & Rain              & 5                \\\\\n",
       "\t 2007-09-21        & 64                & 53                & 58                & 74                & NA                & 3                \\\\\n",
       "\t 2007-09-22        & 68                & 50                & 59                & 83                & NA                & 4                \\\\\n",
       "\t 2007-09-23        & 66                & 55                & 62                & 89                & Rain              & 6                \\\\\n",
       "\t 2007-09-24        & 66                & 51                & 58                & 86                & Rain-Thunderstorm & 4                \\\\\n",
       "\t 2007-09-25        & 59                & 50                & 54                & 86                & Rain              & 3                \\\\\n",
       "\t 2007-09-26        & 60                & 48                & 54                & 76                & NA                & 3                \\\\\n",
       "\t 2007-09-27        & 59                & 46                & 52                & 70                & Rain              & 2                \\\\\n",
       "\t 2007-09-28        & 59                & 44                & 52                & 71                & NA                & 2                \\\\\n",
       "\t 2007-09-29        & 60                & 46                & 53                & 75                & NA                & 3                \\\\\n",
       "\t 2007-09-30        & 62                & 53                & 58                & 84                & Rain              & 6                \\\\\n",
       "\t ... & ... & ... & ... & ... & ... & ...\\\\\n",
       "\t 2017-08-08 & 64         & 55         & 60         & 93         & Rain       &  6        \\\\\n",
       "\t 2017-08-09 & 60         & 55         & 58         & 95         & Rain       &  7        \\\\\n",
       "\t 2017-08-10 & 60         & 50         & 55         & 85         & Rain       &  3        \\\\\n",
       "\t 2017-08-11 & 59         & 48         & 54         & 86         & Rain       &  4        \\\\\n",
       "\t 2017-08-12 & 62         & 55         & 58         & 84         & Rain       &  6        \\\\\n",
       "\t 2017-08-13 & 64         & 50         & 57         & 86         & Rain       &  4        \\\\\n",
       "\t 2017-08-14 & 59         & 50         & 54         & 87         & Rain       &  5        \\\\\n",
       "\t 2017-08-15 & 59         & 46         & 52         & 82         & Rain       &  3        \\\\\n",
       "\t 2017-08-16 & 60         & 48         & 54         & 84         & NA         &  5        \\\\\n",
       "\t 2017-08-17 & 60         & 50         & 55         & 86         & Rain       &  6        \\\\\n",
       "\t 2017-08-18 & 60         & 50         & 55         & 93         & Fog-Rain   &  6        \\\\\n",
       "\t 2017-08-19 & 60         & 51         & 56         & 89         & Rain       &  6        \\\\\n",
       "\t 2017-08-20 & 60         & 50         & 55         & 84         & Rain       &  5        \\\\\n",
       "\t 2017-08-21 & 59         & 50         & 54         & 85         & Rain       &  6        \\\\\n",
       "\t 2017-08-22 & 59         & 44         & 52         & 82         & NA         &  5        \\\\\n",
       "\t 2017-08-23 & 60         & 39         & 50         & 82         & NA         &  2        \\\\\n",
       "\t 2017-08-24 & 62         & 41         & 52         & 82         & Fog        &  2        \\\\\n",
       "\t 2017-08-25 & 62         & 42         & 52         & 80         & NA         &  2        \\\\\n",
       "\t 2017-08-26 & 62         & 46         & 54         & 85         & Rain       &  5        \\\\\n",
       "\t 2017-08-27 & 60         & 51         & 56         & 84         & Rain       &  6        \\\\\n",
       "\t 2017-08-28 & 64         & 55         & 60         & 91         & Rain       &  7        \\\\\n",
       "\t 2017-08-29 & 62         & 51         & 56         & 87         & NA         &  5        \\\\\n",
       "\t 2017-08-30 & 59         & 50         & 54         & 94         & Rain       &  6        \\\\\n",
       "\t 2017-08-31 & 62         & 53         & 58         & 89         & Rain       &  6        \\\\\n",
       "\t 2017-09-01 & 62         & 50         & 56         & 87         & Rain       &  6        \\\\\n",
       "\t 2017-09-02 & 60         & 51         & 56         & 88         & Rain       &  6        \\\\\n",
       "\t 2017-09-03 & 59         & 51         & 55         & 78         & Rain       &  6        \\\\\n",
       "\t 2017-09-04 & 60         & 51         & 56         & 79         & Rain       &  5        \\\\\n",
       "\t 2017-09-05 & 62         & 50         & 56         & 75         & Rain       &  6        \\\\\n",
       "\t 2017-09-06 & NA         & NA         & NA         & NA         & NA         & NA        \\\\\n",
       "\\end{tabular}\n"
      ],
      "text/markdown": [
       "\n",
       "date | max_temp | min_temp | mean_temp | mean_rh | events | cloud_cover | \n",
       "|---|---|---|---|---|---|---|---|---|---|---|---|---|---|---|---|---|---|---|---|---|---|---|---|---|---|---|---|---|---|---|---|---|---|---|---|---|---|---|---|---|---|---|---|---|---|---|---|---|---|---|---|---|---|---|---|---|---|---|---|---|\n",
       "| 2007-09-01        | 60                | 51                | 56                | 75                | NA                | 4                 | \n",
       "| 2007-09-02        | 60                | 53                | 56                | 82                | Rain              | 4                 | \n",
       "| 2007-09-03        | 57                | 51                | 54                | 78                | NA                | 6                 | \n",
       "| 2007-09-04        | 64                | 50                | 57                | 80                | Rain              | 6                 | \n",
       "| 2007-09-05        | 53                | 48                | 50                | 90                | Rain              | 7                 | \n",
       "| 2007-09-06        | 57                | 42                | 50                | 69                | NA                | 1                 | \n",
       "| 2007-09-07        | 59                | 41                | 50                | 77                | NA                | 4                 | \n",
       "| 2007-09-08        | 59                | 46                | 52                | 80                | NA                | 5                 | \n",
       "| 2007-09-09        | 55                | 50                | 52                | 88                | Rain              | 7                 | \n",
       "| 2007-09-10        | 59                | 50                | 54                | 82                | Rain              | 4                 | \n",
       "| 2007-09-11        | 57                | 50                | 54                | 78                | NA                | 3                 | \n",
       "| 2007-09-12        | 59                | 42                | 50                | 78                | NA                | 2                 | \n",
       "| 2007-09-13        | 62                | 44                | 53                | 77                | NA                | 4                 | \n",
       "| 2007-09-14        | 62                | 51                | 56                | 78                | NA                | 5                 | \n",
       "| 2007-09-15        | 66                | 50                | 58                | 83                | Fog               | 4                 | \n",
       "| 2007-09-16        | 60                | 55                | 58                | 92                | Rain              | 6                 | \n",
       "| 2007-09-17        | 64                | 51                | 58                | 87                | Fog               | 4                 | \n",
       "| 2007-09-18        | 66                | 53                | 60                | 86                | Rain              | 4                 | \n",
       "| 2007-09-19        | 66                | 51                | 58                | 82                | Rain              | 4                 | \n",
       "| 2007-09-20        | 62                | 57                | 60                | 79                | Rain              | 5                 | \n",
       "| 2007-09-21        | 64                | 53                | 58                | 74                | NA                | 3                 | \n",
       "| 2007-09-22        | 68                | 50                | 59                | 83                | NA                | 4                 | \n",
       "| 2007-09-23        | 66                | 55                | 62                | 89                | Rain              | 6                 | \n",
       "| 2007-09-24        | 66                | 51                | 58                | 86                | Rain-Thunderstorm | 4                 | \n",
       "| 2007-09-25        | 59                | 50                | 54                | 86                | Rain              | 3                 | \n",
       "| 2007-09-26        | 60                | 48                | 54                | 76                | NA                | 3                 | \n",
       "| 2007-09-27        | 59                | 46                | 52                | 70                | Rain              | 2                 | \n",
       "| 2007-09-28        | 59                | 44                | 52                | 71                | NA                | 2                 | \n",
       "| 2007-09-29        | 60                | 46                | 53                | 75                | NA                | 3                 | \n",
       "| 2007-09-30        | 62                | 53                | 58                | 84                | Rain              | 6                 | \n",
       "| ... | ... | ... | ... | ... | ... | ... | \n",
       "| 2017-08-08 | 64         | 55         | 60         | 93         | Rain       |  6         | \n",
       "| 2017-08-09 | 60         | 55         | 58         | 95         | Rain       |  7         | \n",
       "| 2017-08-10 | 60         | 50         | 55         | 85         | Rain       |  3         | \n",
       "| 2017-08-11 | 59         | 48         | 54         | 86         | Rain       |  4         | \n",
       "| 2017-08-12 | 62         | 55         | 58         | 84         | Rain       |  6         | \n",
       "| 2017-08-13 | 64         | 50         | 57         | 86         | Rain       |  4         | \n",
       "| 2017-08-14 | 59         | 50         | 54         | 87         | Rain       |  5         | \n",
       "| 2017-08-15 | 59         | 46         | 52         | 82         | Rain       |  3         | \n",
       "| 2017-08-16 | 60         | 48         | 54         | 84         | NA         |  5         | \n",
       "| 2017-08-17 | 60         | 50         | 55         | 86         | Rain       |  6         | \n",
       "| 2017-08-18 | 60         | 50         | 55         | 93         | Fog-Rain   |  6         | \n",
       "| 2017-08-19 | 60         | 51         | 56         | 89         | Rain       |  6         | \n",
       "| 2017-08-20 | 60         | 50         | 55         | 84         | Rain       |  5         | \n",
       "| 2017-08-21 | 59         | 50         | 54         | 85         | Rain       |  6         | \n",
       "| 2017-08-22 | 59         | 44         | 52         | 82         | NA         |  5         | \n",
       "| 2017-08-23 | 60         | 39         | 50         | 82         | NA         |  2         | \n",
       "| 2017-08-24 | 62         | 41         | 52         | 82         | Fog        |  2         | \n",
       "| 2017-08-25 | 62         | 42         | 52         | 80         | NA         |  2         | \n",
       "| 2017-08-26 | 62         | 46         | 54         | 85         | Rain       |  5         | \n",
       "| 2017-08-27 | 60         | 51         | 56         | 84         | Rain       |  6         | \n",
       "| 2017-08-28 | 64         | 55         | 60         | 91         | Rain       |  7         | \n",
       "| 2017-08-29 | 62         | 51         | 56         | 87         | NA         |  5         | \n",
       "| 2017-08-30 | 59         | 50         | 54         | 94         | Rain       |  6         | \n",
       "| 2017-08-31 | 62         | 53         | 58         | 89         | Rain       |  6         | \n",
       "| 2017-09-01 | 62         | 50         | 56         | 87         | Rain       |  6         | \n",
       "| 2017-09-02 | 60         | 51         | 56         | 88         | Rain       |  6         | \n",
       "| 2017-09-03 | 59         | 51         | 55         | 78         | Rain       |  6         | \n",
       "| 2017-09-04 | 60         | 51         | 56         | 79         | Rain       |  5         | \n",
       "| 2017-09-05 | 62         | 50         | 56         | 75         | Rain       |  6         | \n",
       "| 2017-09-06 | NA         | NA         | NA         | NA         | NA         | NA         | \n",
       "\n",
       "\n"
      ],
      "text/plain": [
       "     date       max_temp min_temp mean_temp mean_rh events           \n",
       "1    2007-09-01 60       51       56        75      NA               \n",
       "2    2007-09-02 60       53       56        82      Rain             \n",
       "3    2007-09-03 57       51       54        78      NA               \n",
       "4    2007-09-04 64       50       57        80      Rain             \n",
       "5    2007-09-05 53       48       50        90      Rain             \n",
       "6    2007-09-06 57       42       50        69      NA               \n",
       "7    2007-09-07 59       41       50        77      NA               \n",
       "8    2007-09-08 59       46       52        80      NA               \n",
       "9    2007-09-09 55       50       52        88      Rain             \n",
       "10   2007-09-10 59       50       54        82      Rain             \n",
       "11   2007-09-11 57       50       54        78      NA               \n",
       "12   2007-09-12 59       42       50        78      NA               \n",
       "13   2007-09-13 62       44       53        77      NA               \n",
       "14   2007-09-14 62       51       56        78      NA               \n",
       "15   2007-09-15 66       50       58        83      Fog              \n",
       "16   2007-09-16 60       55       58        92      Rain             \n",
       "17   2007-09-17 64       51       58        87      Fog              \n",
       "18   2007-09-18 66       53       60        86      Rain             \n",
       "19   2007-09-19 66       51       58        82      Rain             \n",
       "20   2007-09-20 62       57       60        79      Rain             \n",
       "21   2007-09-21 64       53       58        74      NA               \n",
       "22   2007-09-22 68       50       59        83      NA               \n",
       "23   2007-09-23 66       55       62        89      Rain             \n",
       "24   2007-09-24 66       51       58        86      Rain-Thunderstorm\n",
       "25   2007-09-25 59       50       54        86      Rain             \n",
       "26   2007-09-26 60       48       54        76      NA               \n",
       "27   2007-09-27 59       46       52        70      Rain             \n",
       "28   2007-09-28 59       44       52        71      NA               \n",
       "29   2007-09-29 60       46       53        75      NA               \n",
       "30   2007-09-30 62       53       58        84      Rain             \n",
       "...  ...        ...      ...      ...       ...     ...              \n",
       "3632 2017-08-08 64       55       60        93      Rain             \n",
       "3633 2017-08-09 60       55       58        95      Rain             \n",
       "3634 2017-08-10 60       50       55        85      Rain             \n",
       "3635 2017-08-11 59       48       54        86      Rain             \n",
       "3636 2017-08-12 62       55       58        84      Rain             \n",
       "3637 2017-08-13 64       50       57        86      Rain             \n",
       "3638 2017-08-14 59       50       54        87      Rain             \n",
       "3639 2017-08-15 59       46       52        82      Rain             \n",
       "3640 2017-08-16 60       48       54        84      NA               \n",
       "3641 2017-08-17 60       50       55        86      Rain             \n",
       "3642 2017-08-18 60       50       55        93      Fog-Rain         \n",
       "3643 2017-08-19 60       51       56        89      Rain             \n",
       "3644 2017-08-20 60       50       55        84      Rain             \n",
       "3645 2017-08-21 59       50       54        85      Rain             \n",
       "3646 2017-08-22 59       44       52        82      NA               \n",
       "3647 2017-08-23 60       39       50        82      NA               \n",
       "3648 2017-08-24 62       41       52        82      Fog              \n",
       "3649 2017-08-25 62       42       52        80      NA               \n",
       "3650 2017-08-26 62       46       54        85      Rain             \n",
       "3651 2017-08-27 60       51       56        84      Rain             \n",
       "3652 2017-08-28 64       55       60        91      Rain             \n",
       "3653 2017-08-29 62       51       56        87      NA               \n",
       "3654 2017-08-30 59       50       54        94      Rain             \n",
       "3655 2017-08-31 62       53       58        89      Rain             \n",
       "3656 2017-09-01 62       50       56        87      Rain             \n",
       "3657 2017-09-02 60       51       56        88      Rain             \n",
       "3658 2017-09-03 59       51       55        78      Rain             \n",
       "3659 2017-09-04 60       51       56        79      Rain             \n",
       "3660 2017-09-05 62       50       56        75      Rain             \n",
       "3661 2017-09-06 NA       NA       NA        NA      NA               \n",
       "     cloud_cover\n",
       "1    4          \n",
       "2    4          \n",
       "3    6          \n",
       "4    6          \n",
       "5    7          \n",
       "6    1          \n",
       "7    4          \n",
       "8    5          \n",
       "9    7          \n",
       "10   4          \n",
       "11   3          \n",
       "12   2          \n",
       "13   4          \n",
       "14   5          \n",
       "15   4          \n",
       "16   6          \n",
       "17   4          \n",
       "18   4          \n",
       "19   4          \n",
       "20   5          \n",
       "21   3          \n",
       "22   4          \n",
       "23   6          \n",
       "24   4          \n",
       "25   3          \n",
       "26   3          \n",
       "27   2          \n",
       "28   2          \n",
       "29   3          \n",
       "30   6          \n",
       "...  ...        \n",
       "3632  6         \n",
       "3633  7         \n",
       "3634  3         \n",
       "3635  4         \n",
       "3636  6         \n",
       "3637  4         \n",
       "3638  5         \n",
       "3639  3         \n",
       "3640  5         \n",
       "3641  6         \n",
       "3642  6         \n",
       "3643  6         \n",
       "3644  5         \n",
       "3645  6         \n",
       "3646  5         \n",
       "3647  2         \n",
       "3648  2         \n",
       "3649  2         \n",
       "3650  5         \n",
       "3651  6         \n",
       "3652  7         \n",
       "3653  5         \n",
       "3654  6         \n",
       "3655  6         \n",
       "3656  6         \n",
       "3657  6         \n",
       "3658  6         \n",
       "3659  5         \n",
       "3660  6         \n",
       "3661 NA         "
      ]
     },
     "metadata": {},
     "output_type": "display_data"
    },
    {
     "name": "stderr",
     "output_type": "stream",
     "text": [
      "Warning message:\n",
      "\"Removed 1 rows containing missing values (geom_path).\""
     ]
    },
    {
     "data": {},
     "metadata": {},
     "output_type": "display_data"
    },
    {
     "data": {
      "image/png": "[encoded data removed]",
      "text/plain": [
       "plot without title"
      ]
     },
     "metadata": {},
     "output_type": "display_data"
    }
   ],
   "source": [
    "library(lubridate)\n",
    "library(readr)\n",
    "library(dplyr)\n",
    "library(ggplot2)\n",
    "\n",
    "# Import CSV with read_csv()\n",
    "#akl_daily_raw <- read_csv(\"akl_weather_daily.csv\")\n",
    "\n",
    "# Print akl_daily_raw\n",
    "head(akl_daily_raw )\n",
    "\n",
    "# Parse date \n",
    "akl_daily <- akl_daily_raw %>%\n",
    "  mutate(date = ymd(date))\n",
    "\n",
    "# Print akl_daily\n",
    "akl_daily\n",
    "\n",
    "# Plot to check work\n",
    "ggplot(akl_daily, aes(x = date, y = max_temp)) +\n",
    "  geom_line() \n"
   ]
  },
  {
   "cell_type": "markdown",
   "metadata": {},
   "source": [
    "#### 2.2.2)Import hourly weather data\n",
    "The hourly data is a little different. The date information is spread over three columns `year, month and mday`, so you'll need to use `make_date()` to combine them.\n",
    "\n",
    "Then the time information is in a separate column again, time. It's quite common to find date and time split across different variables. One way to construct the datetimes is to paste the date and time together and then parse them. You'll do that in this exercise.\n",
    "\n",
    "    Import the hourly data, \"akl_weather_hourly_2016.csv\" with read_csv(), then print akl_hourly_raw to confirm the date is spread over year, month and mday.\n",
    "    \n",
    "    Using mutate() create the column date with using make_date().\n",
    "    \n",
    "    We've pasted together the date and time columns. Create datetime by parsing the datetime_string column.\n",
    "    \n",
    "    Take a look at the date, time and datetime columns to verify they match up.\n",
    "    \n",
    "    Take a look at the data by plotting datetime on the x-axis and temperature of the y-axis.\n",
    "\n",
    "    library(lubridate)\n",
    "    library(readr)\n",
    "    library(dplyr)\n",
    "    library(ggplot2)\n",
    "\n",
    "    # Import \"akl_weather_hourly_2016.csv\"\n",
    "    akl_hourly_raw <- read_csv(\"akl_weather_hourly_2016.csv\")\n",
    "\n",
    "    #labels(akl_hourly_raw)\n",
    "    # Print akl_hourly_raw\n",
    "    akl_hourly_raw\n",
    "\n",
    "    # Use make_date() to combine year, month and mday \n",
    "    akl_hourly  <- akl_hourly_raw  %>% \n",
    "      mutate(date = make_date(year = year, month = month, day = mday))\n",
    "\n",
    "    #str(akl_hourly)\n",
    "    # Parse datetime_string \n",
    "    akl_hourly <- akl_hourly  %>% \n",
    "      mutate(\n",
    "        datetime_string = paste(date, time, sep = \"T\"),\n",
    "        datetime = ymd_hms(datetime_string)\n",
    "      )\n",
    "\n",
    "    # Print date, time and datetime columns of akl_hourly\n",
    "    akl_hourly %>% select(date, time, datetime)\n",
    "\n",
    "    # Plot to check work\n",
    "    ggplot(akl_hourly, aes(x = datetime, y = temperature)) +\n",
    "      geom_line()\n"
   ]
  },
  {
   "cell_type": "markdown",
   "metadata": {},
   "source": [
    "### 2.3) Extracting parts of a datetime\n",
    "| Functions | Extracts                             |\n",
    "|-----------|--------------------------------------|\n",
    "| year()    | year with century                    |\n",
    "| month()   | monto (1-12)                         |\n",
    "| day()     | day of month(1-31)                   |\n",
    "| hour()    | hour (0-23)                          |\n",
    "| min()     | minute(0-59)                         |\n",
    "| second()  | second(0-59)                         |\n",
    "| wday()    | weekday(1-7)                         |\n",
    "| yday()    | day of year a.k.a Julian day (1-366) |\n",
    "\n",
    "other useful functions:\n",
    "\n",
    "| Functions   | Extracts                                |\n",
    "|-------------|-----------------------------------------|\n",
    "| leap_year() | in leap year (true or false)            |\n",
    "| am()        | in morning (true or false)              |\n",
    "| pm()        | in afternoon (true or false)            |\n",
    "| dst()       | during daylight savings (true or false) |\n",
    "| quarter()   | quarter of year (1-4)                   |\n",
    "| semester()  | half of year (1-2)                      |\n",
    "\n",
    "#### 2.3.1What can you extract?\n",
    "As you saw in the video, components of a datetime can be extracted by lubridate functions with the same name like year(), month(), day(), hour(), minute() and second(). They all work the same way just pass in a datetime or vector of datetimes.\n",
    "\n",
    "There are also a few useful functions that return other aspects of a datetime like if it occurs in the morning am(), during daylight savings dst(), in a leap_year(), or which quarter() or semester() it occurs in.\n",
    "\n",
    "Try them out by exploring the release times of R versions using the data from Chapter 1.\n",
    "\n",
    "\n",
    "    We've put release_time, the datetime column of the releases dataset from Chapter 1, in your workspace.\n",
    "\n",
    "    Examine the head() of release_time to verify this is a vector of datetimes.\n",
    "    Extract the month from release_time and examine the first few with head().\n",
    "    To see which months have most releases, extract the month then pipe to table().\n",
    "    Repeat, to see which years have the most releases.\n",
    "    Do releases happen in the morning (UTC)? Find out if the hour of a release is less than 12 and summarise with mean().\n",
    "    Alternatively use am() to find out how often releases happen in the morning.\n",
    "    \n",
    "    # Examine the head() of release_time\n",
    "    head(release_time)\n",
    "\n",
    "    # Examine the head() of the months of release_time\n",
    "    head(month(release_time))\n",
    "\n",
    "    # Extract the month of releases \n",
    "    month(release_time) %>% table()\n",
    "\n",
    "    # Extract the year of releases\n",
    "    year(release_time) %>% table()\n",
    "\n",
    "    # How often is the hour before 12 (noon)?\n",
    "    mean(hour(release_time) < 12)\n",
    "\n",
    "    # How often is the release in am?\n",
    "    mean(am(release_time))\n",
    "\n",
    "#### 2.3.2) Adding useful labels\n",
    "In the previous exercise you found the month of releases:\n",
    "\n",
    "    head(month(release_time))\n",
    "    \n",
    "and received numeric months in return. Sometimes it's nicer (especially for plotting or tables) to have named months. Both the  `month() and wday()` (day of the week) functions have additional arguments label and abbr to achieve just that. Set `label = TRUE ` to have the output labelled with month (or weekday) names, and `abbr = FALSE` for those names to be written in full rather than **abbr**eviated.\n",
    "\n",
    "For example, try running:\n",
    "\n",
    "    head(month(release_time, label = TRUE, abbr = FALSE))\n",
    "\n",
    "    Exercise,releases is now a data frame with a column called datetime with the release time.\n",
    "\n",
    "    First, see what wday() does without labeling, by calling it on the datetime column of releases and tabulating the result. Do you know if 1 is Sunday or Monday?\n",
    "    Repeat above, but now use labels by specifying the label argument. Better, right?\n",
    "    Now store the labelled weekdays in a new column called wday.\n",
    "    Create a barchart of releases by weekday, facetted by the type of release.\n",
    "\n",
    "     #result\n",
    "    library(ggplot2)\n",
    "\n",
    "    # Use wday() to tabulate release by day of the week\n",
    "    wday(releases$datetime) %>% table()\n",
    "\n",
    "    # Add label = TRUE to make table more readable\n",
    "    wday(releases$datetime, label = TRUE) %>% table()\n",
    "\n",
    "    # Create column wday to hold labelled week days\n",
    "    releases$wday <- wday(releases$datetime, label = TRUE)\n",
    "\n",
    "    # Plot barchart of weekday by type of release\n",
    "    ggplot(releases, aes(x = wday)) +\n",
    "      geom_bar() +\n",
    "      facet_wrap(~ type, ncol = 1, scale = \"free_y\")"
   ]
  },
  {
   "cell_type": "markdown",
   "metadata": {},
   "source": [
    "#### 2.3.3) Extracting for plotting\n",
    "Extracting components from a datetime is particularly useful when exploring data. Earlier in the chapter you imported daily data for weather in Auckland, and created a time series plot of ten years of daily maximum temperature. While that plot gives you a good overview of the whole ten years, it's hard to see the annual pattern.\n",
    "\n",
    "In this exercise you'll use components of the dates to help explore the pattern of maximum temperature over the year. The first step is to create some new columns to hold the extracted pieces, then you'll use them in a couple of plots.\n",
    "\n",
    "    Instrunctions\n",
    "    Use mutate() to create three new columns: year, yday and month that respectively hold the same components of the date column. Don't forget to label the months with their names.\n",
    "    \n",
    "    Create a plot of yday on the x-axis, max_temp of the y-axis where lines are grouped by year. Each year is a line on this plot, with the x-axis running from Jan 1 to Dec 31.\n",
    "    \n",
    "    To take an alternate look, create a ridgeline plot(formerly known as a joyplot) with max_temp on the x-axis, month on the y-axis, using geom_density_ridges() from the ggridges package.\n",
    "    \n",
    "     library(ggplot2)\n",
    "    library(dplyr)\n",
    "    library(ggridges)\n",
    "\n",
    "    # Add columns for year, yday and month\n",
    "    akl_daily <- akl_daily %>%\n",
    "      mutate(\n",
    "        year = year(date),\n",
    "        yday = yday(date),\n",
    "        month = month(date, label = TRUE))\n",
    "\n",
    "    #head(akl_daily)\n",
    "\n",
    "    # Plot max_temp by yday for all years\n",
    "    ggplot(akl_daily, aes(x = yday, y = max_temp)) +\n",
    "      geom_line(aes(group = year), alpha = 0.5)\n",
    "\n",
    "    # Examine distribtion of max_temp by month\n",
    "    ggplot(akl_daily, aes(x = max_temp, y = month, height = ..density..)) +\n",
    "      geom_density_ridges(stat = \"density\")"
   ]
  },
  {
   "cell_type": "markdown",
   "metadata": {},
   "source": [
    "#### 2.3.4)Extracting for filtering and summarizing\n",
    "Another reason to extract components is to help with filtering observations or creating summaries. For example, if you are only interested in observations made on weekdays (i.e. not on weekends) you could extract the weekdays then filter out weekends, e.g. `wday(date) %in% 2:6`.\n",
    "\n",
    "In the last exercise you saw that January, February and March were great times to visit Auckland for warm temperatures, but will you need a raincoat?\n",
    "\n",
    "In this exercise you'll find out! You'll use the hourly data to calculate how many days in each month there was any rain during the day.\n",
    "\n",
    "    Instrunctions\n",
    "\n",
    "    Create new columns for the hour and month of the observation from datetime. Make sure you label the month.\n",
    "    Filter to just daytime observations, where the hour is greater than 8 and less than 22.\n",
    "    Group the observations first by month, then by date, and summarise by using any() on the rainy column. This results in one value per day\n",
    "    Summarise again by summing any_rainy. This results in one value per month\n",
    "    \n",
    "    # Create new columns hour, month and rainy\n",
    "    akl_hourly <- akl_hourly %>%\n",
    "      mutate(\n",
    "        hour = hour(datetime),\n",
    "        month = month(datetime, label = TRUE),\n",
    "        rainy = weather == \"Precipitation\"\n",
    "      )\n",
    "\n",
    "    #str(akl_hourly)\n",
    "    # Filter for hours between 8am and 10pm (inclusive)\n",
    "    akl_day <- akl_hourly %>% \n",
    "      filter(hour >= 8, hour <= 22)\n",
    "\n",
    "    # Summarise for each date if there is any rain\n",
    "    rainy_days <- akl_day %>% \n",
    "      group_by(month, date) %>%\n",
    "      summarise(\n",
    "        any_rain = any(rainy)\n",
    "      )\n",
    "\n",
    "    # Summarise for each month, the number of days with rain\n",
    "    rainy_days %>% \n",
    "      summarise(\n",
    "        days_rainy = sum(any_rain)\n",
    "      )"
   ]
  },
  {
   "cell_type": "markdown",
   "metadata": {},
   "source": [
    "### 2.4) Rounding datetimes\n",
    "rounding a date will always result in another data object of the same type, there are 3 functions that `round` datatime :\n",
    "\n",
    "1. round_date() : round to **nearest**\n",
    "2. ceiling_date() : round **up**\n",
    "3. floor_date() : round to **down**\n",
    "\n",
    "Possible values of **unit** like: `second, minute, hour, day, week, month, bimonth, quarter, halfyear or year`\n",
    "\n",
    "All 3 take a unit argument, that specifies the unit to round to \n",
    "\n",
    "#### 2.4.1) Practice rounding\n",
    "As you saw in the video, `round_date()` rounds a date to the nearest value, `floor_date()` rounds down, and `ceiling_date()` rounds up.\n",
    "\n",
    "All three take a unit argument which specifies the resolution of rounding. You can specify \"second\", \"minute\", \"hour\", \"day\", \"week\", \"month\", \"bimonth\", \"quarter\", \"halfyear\", or \"year\". Or, you can specify any multiple of those units, e.g. \"5 years\", \"3 minutes\" etc.\n",
    "\n",
    "    Exercise:\n",
    "    \n",
    "    Choose the right function and units to round r_3_4_1 down to the nearest day.\n",
    "    Choose the right function and units to round r_3_4_1 to the nearest 5 minutes.\n",
    "    Choose the right function and units to round r_3_4_1 up to the nearest week.\n",
    "    Find the time elapsed on the day of release at the time of release by subtracting r_3_4_1 rounded down to the day from r_3_4_1."
   ]
  },
  {
   "cell_type": "code",
   "execution_count": 2,
   "metadata": {},
   "outputs": [
    {
     "name": "stderr",
     "output_type": "stream",
     "text": [
      "Warning message:\n",
      "\"package 'lubridate' was built under R version 3.5.3\"\n",
      "Attaching package: 'lubridate'\n",
      "\n",
      "The following object is masked from 'package:base':\n",
      "\n",
      "    date\n",
      "\n"
     ]
    },
    {
     "data": {
      "text/plain": [
       "[1] \"2016-05-03 UTC\""
      ]
     },
     "metadata": {},
     "output_type": "display_data"
    },
    {
     "data": {
      "text/plain": [
       "[1] \"2016-05-03 07:15:00 UTC\""
      ]
     },
     "metadata": {},
     "output_type": "display_data"
    },
    {
     "data": {
      "text/plain": [
       "[1] \"2016-05-08 UTC\""
      ]
     },
     "metadata": {},
     "output_type": "display_data"
    },
    {
     "data": {
      "text/plain": [
       "Time difference of 7.224444 hours"
      ]
     },
     "metadata": {},
     "output_type": "display_data"
    }
   ],
   "source": [
    "library(lubridate)\n",
    "r_3_4_1 <- ymd_hms(\"2016-05-03 07:13:28 UTC\")\n",
    "\n",
    "# Round down to day\n",
    "floor_date(r_3_4_1, unit = \"day\")\n",
    "\n",
    "# Round to nearest 5 minutes\n",
    "round_date(r_3_4_1, unit = \"5 minutes\")\n",
    "\n",
    "# Round up to week \n",
    "ceiling_date(r_3_4_1, unit = \"week\")\n",
    "\n",
    "# Subtract r_3_4_1 rounded down to day\n",
    "r_3_4_1 - floor_date(r_3_4_1, unit = \"day\")"
   ]
  },
  {
   "cell_type": "markdown",
   "metadata": {},
   "source": [
    "#### 2.4.2) Rounding with the weather data\n",
    "When is rounding useful? In a lot of the same situations extracting date components is useful. The advantage of rounding over extracting is that it maintains the context of the unit. For example, extracting the hour gives you the hour the datetime occurred, but you lose the day that hour occurred on (unless you extract that too), on the other hand, rounding to the nearest hour maintains the day, month and year.\n",
    "\n",
    "As an example you'll explore how many observations per hour there really are in the hourly Auckland weather data.\n",
    "\n",
    "    Exercise:\n",
    "\n",
    "    Create a new column called day_hour that is datetime rounded down to the nearest hour.\n",
    "    Use count() on day_hour to count how many observations there are in each hour. What looks like the most common value?\n",
    "    Extend the pipeline, so that after counting, you filter for observations where n is not equal to 2.\n",
    "    \n",
    "    # Create day_hour, datetime rounded down to hour\n",
    "    akl_hourly <- akl_hourly %>%\n",
    "      mutate(\n",
    "        day_hour = floor_date(datetime, unit = \"hour\")\n",
    "      )\n",
    "\n",
    "\n",
    "    #str(akl_hourly)\n",
    "    # Count observations per hour  \n",
    "    akl_hourly %>% \n",
    "      count(day_hour) \n",
    "\n",
    "    # Find day_hours with n != 2  \n",
    "    akl_hourly %>% \n",
    "      count(day_hour) %>%\n",
    "      filter(n != 2) %>% \n",
    "      arrange(desc(n))"
   ]
  },
  {
   "cell_type": "markdown",
   "metadata": {},
   "source": [
    "## 3) Arithmetic with Dates and Times\n",
    "R doesn't know something is a date or time unless you tell it. In this chapter you'll learn about some of the ways R stores dates and times by exploring how often R versions are released, and how quickly people download them. You'll also get a sneak peek at what you'll learn in the following chapters.\n",
    "\n",
    "### 3.1) Introduction to dates\n",
    "\n",
    "#### 3.1.1) How long has it been?\n",
    "To get finer control over a difference between datetimes use the base function `difftime()`. For example instead of time1 - time2, you use `difftime(time1, time2)`.\n",
    "\n",
    "`difftime()` takes an argument units which specifies the units for the difference. Your options are `\"secs\"`, `\"mins\"`, `\"hours\"`, `\"days\"`, or `\"weeks\"`.\n",
    "\n",
    "To practice you'll find the time since the first man stepped on the moon. You'll also see the `lubridate` functions `today()` and `now()` which when called with no arguments return the current date and time in your system's timezone.\n",
    "\n",
    "    Exercise:\n",
    "\n",
    "    Apollo 11 landed on July 20, 1969. Use difftime() to find the number of days between today() and date_landing.\n",
    "    Neil Armstrong stepped onto the surface at 02:56:15 UTC. Use difftime() to find the number of seconds between now() and moment_step."
   ]
  },
  {
   "cell_type": "code",
   "execution_count": 1,
   "metadata": {},
   "outputs": [
    {
     "name": "stderr",
     "output_type": "stream",
     "text": [
      "Warning message:\n",
      "\"package 'lubridate' was built under R version 3.5.3\"\n",
      "Attaching package: 'lubridate'\n",
      "\n",
      "The following object is masked from 'package:base':\n",
      "\n",
      "    date\n",
      "\n"
     ]
    },
    {
     "data": {
      "text/plain": [
       "Time difference of 18204 days"
      ]
     },
     "metadata": {},
     "output_type": "display_data"
    },
    {
     "data": {
      "text/plain": [
       "Time difference of 1572866115 secs"
      ]
     },
     "metadata": {},
     "output_type": "display_data"
    }
   ],
   "source": [
    "library(lubridate)\n",
    "\n",
    "# The date of landing and moment of step\n",
    "date_landing <- mdy(\"July 20, 1969\")\n",
    "moment_step <- mdy_hms(\"July 20, 1969, 02:56:15\", tz = \"UTC\")\n",
    "\n",
    "# How many days since the first man on the moon?\n",
    "difftime(today(), date_landing, units = \"days\")\n",
    "\n",
    "# How many seconds since the first man on the moon?\n",
    "difftime(now(), moment_step, units = \"secs\")\n"
   ]
  },
  {
   "cell_type": "markdown",
   "metadata": {},
   "source": [
    "#### 3.1.2) How many seconds are in a day?\n",
    "How many seconds are in a day? There are 24 hours in a day, 60 minutes in an hour, and 60 seconds in a minute, so there should be 24*60*60 = 86400 seconds, right?\n",
    "\n",
    "Not always! In this exercise you'll see a counter example, can you figure out what is going on?\n",
    "\n",
    "    Exercise\n",
    "\n",
    "    We've put code to define three times in your script - midnight on March 11th, March 12th and March 13th in 2017 in the US Pacific timezone.\n",
    "\n",
    "    Find the difference in time between mar_13 and mar_12 in seconds. This should match your intuition.\n",
    "    Now, find the difference in time between mar_12 and mar_11 in seconds. Surprised?"
   ]
  },
  {
   "cell_type": "code",
   "execution_count": 3,
   "metadata": {},
   "outputs": [
    {
     "data": {
      "text/plain": [
       "Time difference of 86400 secs"
      ]
     },
     "metadata": {},
     "output_type": "display_data"
    },
    {
     "data": {
      "text/plain": [
       "Time difference of 82800 secs"
      ]
     },
     "metadata": {},
     "output_type": "display_data"
    }
   ],
   "source": [
    "library(lubridate)\n",
    "# Three dates\n",
    "mar_11 <- ymd_hms(\"2017-03-11 12:00:00\", \n",
    "  tz = \"America/Los_Angeles\")\n",
    "mar_12 <- ymd_hms(\"2017-03-12 12:00:00\", \n",
    "  tz = \"America/Los_Angeles\")\n",
    "mar_13 <- ymd_hms(\"2017-03-13 12:00:00\", \n",
    "  tz = \"America/Los_Angeles\")\n",
    "\n",
    "# Difference between mar_13 and mar_12 in seconds\n",
    "difftime(mar_13, mar_12, units = \"secs\")\n",
    "\n",
    "# Difference between mar_12 and mar_11 in seconds\n",
    "difftime(mar_12, mar_11, units = \"secs\")\n"
   ]
  },
  {
   "cell_type": "markdown",
   "metadata": {},
   "source": [
    "Note: Why would a day only have 82800 seconds? At 2am on Mar 12th 2017, Daylight Savings started in the Pacific timezone. That means a whole hour of seconds gets skipped between noon on the 11th and noon on the 12th.\n",
    "\n",
    "### 3.2) Time spans.\n",
    "Time spans are hard because they don´t have a constan meaning, you saw in the previuos exercise, to do addition with datatimes and timespans you need to be specific about what you mean by a time span, for example to add one day to a datime, you need to define what you mean by \"one day\". lubridate does this by provinding two different kinds of span: **periods and duration**\n",
    "\n",
    "* Period, are designed to match our human concept of a time span\n",
    "    * datetime  + **period** of one day (e.g)= same time on the next week \n",
    "    * variable lenght\n",
    "\n",
    "* Duration, are simply a fixed lenght of time in seconds, more like how a stopwatch measures them \n",
    "    * datetime  + **duration** of one day (e.g)= datetime + 86,400 seconds\n",
    "    * fixed numbers of seconds.\n",
    "\n",
    "**Creating a times span**    \n",
    "To create a period in lubridate you use the function of the appropriate unit in prural form like `days()` functions, a duration is constructed similary, except the duration functions all start with `d`, it's important to see that when we print our results, these appears in different ways to help remind you of their meaning.\n",
    "\n",
    "Once you have a times span you can multiply it by a number, add it to or subtract it from a datetime.\n",
    "\n",
    "There´re a construct for each unite of time:\n",
    "\n",
    "| Time span | Duration   | Period    |\n",
    "|-----------|------------|-----------|\n",
    "| Seconds   | dseconds() | seconds() |\n",
    "| Minutes   | dminutes() | minutes() |\n",
    "| Hours     | dhours()   | hours()   |\n",
    "| Days      | ddays()    | days()    |\n",
    "| Weeks     | dweeks()   | weeks()   |\n",
    "| Months    | -          | months()  |\n",
    "| Years     | dyears()   | years()   |"
   ]
  },
  {
   "cell_type": "code",
   "execution_count": 9,
   "metadata": {},
   "outputs": [
    {
     "data": {
      "text/html": [
       "1d 0H 0M 0S"
      ],
      "text/latex": [
       "1d 0H 0M 0S"
      ],
      "text/markdown": [
       "1d 0H 0M 0S"
      ],
      "text/plain": [
       "[1] \"1d 0H 0M 0S\""
      ]
     },
     "metadata": {},
     "output_type": "display_data"
    },
    {
     "data": {
      "text/html": [
       "2d 0H 0M 0S"
      ],
      "text/latex": [
       "2d 0H 0M 0S"
      ],
      "text/markdown": [
       "2d 0H 0M 0S"
      ],
      "text/plain": [
       "[1] \"2d 0H 0M 0S\""
      ]
     },
     "metadata": {},
     "output_type": "display_data"
    },
    {
     "data": {
      "text/html": [
       "172800s (~2 days)"
      ],
      "text/latex": [
       "172800s (\\textasciitilde{}2 days)"
      ],
      "text/markdown": [
       "172800s (~2 days)"
      ],
      "text/plain": [
       "[1] \"172800s (~2 days)\""
      ]
     },
     "metadata": {},
     "output_type": "display_data"
    },
    {
     "data": {
      "text/html": [
       "2d 0H 0M 0S"
      ],
      "text/latex": [
       "2d 0H 0M 0S"
      ],
      "text/markdown": [
       "2d 0H 0M 0S"
      ],
      "text/plain": [
       "[1] \"2d 0H 0M 0S\""
      ]
     },
     "metadata": {},
     "output_type": "display_data"
    },
    {
     "data": {
      "text/html": [
       "2d 0H 0M 0S"
      ],
      "text/latex": [
       "2d 0H 0M 0S"
      ],
      "text/markdown": [
       "2d 0H 0M 0S"
      ],
      "text/plain": [
       "[1] \"2d 0H 0M 0S\""
      ]
     },
     "metadata": {},
     "output_type": "display_data"
    },
    {
     "data": {
      "text/html": [
       "<time datetime=\"2011-01-02\">2011-01-02</time>"
      ],
      "text/latex": [
       "2011-01-02"
      ],
      "text/markdown": [
       "2011-01-02"
      ],
      "text/plain": [
       "[1] \"2011-01-02\""
      ]
     },
     "metadata": {},
     "output_type": "display_data"
    }
   ],
   "source": [
    "library(lubridate)\n",
    "days()\n",
    "days(x = 2)\n",
    "ddays(2)\n",
    "\n",
    "\n",
    "#arithmetic with times spans\n",
    "2*days()\n",
    "\n",
    "days()+days()\n",
    "\n",
    "ymd(\"2011-01-01\") + days()"
   ]
  },
  {
   "cell_type": "markdown",
   "metadata": {},
   "source": [
    "#### 3.2.1) Adding or subtracting a time span to a datetime\n",
    "A common use of time spans is to add or subtract them from a moment in time. For, example to calculate the time one day in the future from `mar_11` (from the previous exercises), you could do either of:\n",
    "\n",
    "    mar_11 + days(1)\n",
    "    mar_11 + ddays(1)\n",
    "    \n",
    "Try them in the console, you get different results! But which one is the right one? It depends on your intent. If you want to account for the fact that time units, in this case days, have different lengths (i.e. due to daylight savings), you want a period `days()`. If you want the time 86400 seconds in the future you use a duration `ddays()`.\n",
    "\n",
    "In this exercise you'll add and subtract timespans from dates and datetimes\n",
    "\n",
    "    Exercise:\n",
    "\n",
    "    It's Monday Aug 27th 2018 at 2pm and you want to remind yourself this time next week to send an email. Add a period of one week to mon_2pm.\n",
    "    It's Tuesday Aug 28th 2018 at 9am and you are starting some code that usually takes about 81 hours to run. When will it finish? Add a duration of 81 hours to tue_9am.\n",
    "    What were you doing five years ago? Subtract a period of 5 years from today().\n",
    "    Subtract a duration of 5 years from today(). Will this give a different date?"
   ]
  },
  {
   "cell_type": "code",
   "execution_count": 1,
   "metadata": {},
   "outputs": [
    {
     "name": "stderr",
     "output_type": "stream",
     "text": [
      "Warning message:\n",
      "\"package 'lubridate' was built under R version 3.5.3\"\n",
      "Attaching package: 'lubridate'\n",
      "\n",
      "The following object is masked from 'package:base':\n",
      "\n",
      "    date\n",
      "\n"
     ]
    },
    {
     "data": {
      "text/plain": [
       "[1] \"2018-09-03 14:00:00 UTC\""
      ]
     },
     "metadata": {},
     "output_type": "display_data"
    },
    {
     "data": {
      "text/plain": [
       "[1] \"2018-08-31 18:00:00 UTC\""
      ]
     },
     "metadata": {},
     "output_type": "display_data"
    },
    {
     "data": {
      "text/html": [
       "<time datetime=\"2014-05-24\">2014-05-24</time>"
      ],
      "text/latex": [
       "2014-05-24"
      ],
      "text/markdown": [
       "2014-05-24"
      ],
      "text/plain": [
       "[1] \"2014-05-24\""
      ]
     },
     "metadata": {},
     "output_type": "display_data"
    },
    {
     "data": {
      "text/html": [
       "<time datetime=\"2014-05-25\">2014-05-25</time>"
      ],
      "text/latex": [
       "2014-05-25"
      ],
      "text/markdown": [
       "2014-05-25"
      ],
      "text/plain": [
       "[1] \"2014-05-25\""
      ]
     },
     "metadata": {},
     "output_type": "display_data"
    }
   ],
   "source": [
    "library(lubridate)\n",
    "\n",
    "# Add a period of one week to mon_2pm\n",
    "mon_2pm <- dmy_hm(\"27 Aug 2018 14:00\")\n",
    "mon_2pm + weeks(1)\n",
    "\n",
    "# Add a duration of 81 hours to tue_9am\n",
    "tue_9am <- dmy_hm(\"28 Aug 2018 9:00\")\n",
    "tue_9am + hours(81)\n",
    "\n",
    "# Subtract a period of five years from today()\n",
    "today() - years(5)\n",
    "\n",
    "# Subtract a duration of five years from today()\n",
    "today() - dyears(5)"
   ]
  },
  {
   "cell_type": "markdown",
   "metadata": {},
   "source": [
    "Note: Sweet! Why did subtracting a duration of five years from today, give a different answer to subtracting a period of five years? Periods know about leap years, and since five years ago includes at least one leap year (assuming you aren't taking this course in 2100) the period of five years is longer than the duration of 365*5 days."
   ]
  },
  {
   "cell_type": "markdown",
   "metadata": {},
   "source": [
    "#### 3.2.2) Arithmetic with timespans\n",
    "You can add and subtract timespans to create different length timespans, and even multiply them by numbers. For example, to create a duration of three days and three hours you could do: `ddays(3) + dhours(3)`, or `3*ddays(1) + 3*dhours(1)` or even `3*(ddays(1) + dhours(1))`.\n",
    "\n",
    "There was an eclipse over North America on 2017-08-21 at 18:26:40. It's possible to predict the next eclipse with similar geometry by calculating the time and date one Saros in the future. A Saros is a length of time that corresponds to 223 Synodic months, a Synodic month being the period of the Moon's phases, a duration of 29 days, 12 hours, 44 minutes and 3 seconds.\n",
    "\n",
    "Do just that in this exercise!"
   ]
  },
  {
   "cell_type": "code",
   "execution_count": 2,
   "metadata": {},
   "outputs": [
    {
     "data": {
      "text/plain": [
       "[1] \"2035-09-02 02:09:49 UTC\""
      ]
     },
     "metadata": {},
     "output_type": "display_data"
    }
   ],
   "source": [
    "library(lubridate)\n",
    "# Time of North American Eclipse 2017\n",
    "eclipse_2017 <- ymd_hms(\"2017-08-21 18:26:40\")\n",
    "\n",
    "# Duration of 29 days, 12 hours, 44 mins and 3 secs\n",
    "synodic <- ddays(29)+dhours(12)+dminutes(44)+dseconds(3)\n",
    "\n",
    "# 223 synodic months\n",
    "saros <- 223*synodic\n",
    "\n",
    "# Add saros to eclipse_2017\n",
    "eclipse_2017+saros"
   ]
  },
  {
   "cell_type": "markdown",
   "metadata": {},
   "source": [
    "#### 3.2.3) Generating sequences of datetimes\n",
    "By combining addition and multiplication with sequences you can generate sequences of datetimes. For example, you can generate a sequence of periods from 1 day up to 10 days with,\n",
    "\n",
    "    1:10 * days(1)\n",
    "\n",
    "Then by adding this sequence to a specific datetime, you can construct a sequence of datetimes from 1 day up to 10 days into the future\n",
    "\n",
    "    today() + 1:10 * days(1)\n",
    "You had a meeting this morning at 8am and you'd like to have that meeting at the same time and day every two weeks for a year. Generate the meeting times in this exercise.\n",
    "\n",
    "    Instructions \n",
    "\n",
    "    Create today_8am() by adding a period of 8 hours to today()\n",
    "    Create a sequence of periods from one period of two weeks, up to 26 periods of two weeks.\n",
    "    Add every_two_weeks to today_8am."
   ]
  },
  {
   "cell_type": "code",
   "execution_count": 3,
   "metadata": {},
   "outputs": [
    {
     "data": {
      "text/plain": [
       " [1] \"2019-06-07 08:00:00 UTC\" \"2019-06-21 08:00:00 UTC\"\n",
       " [3] \"2019-07-05 08:00:00 UTC\" \"2019-07-19 08:00:00 UTC\"\n",
       " [5] \"2019-08-02 08:00:00 UTC\" \"2019-08-16 08:00:00 UTC\"\n",
       " [7] \"2019-08-30 08:00:00 UTC\" \"2019-09-13 08:00:00 UTC\"\n",
       " [9] \"2019-09-27 08:00:00 UTC\" \"2019-10-11 08:00:00 UTC\"\n",
       "[11] \"2019-10-25 08:00:00 UTC\" \"2019-11-08 08:00:00 UTC\"\n",
       "[13] \"2019-11-22 08:00:00 UTC\" \"2019-12-06 08:00:00 UTC\"\n",
       "[15] \"2019-12-20 08:00:00 UTC\" \"2020-01-03 08:00:00 UTC\"\n",
       "[17] \"2020-01-17 08:00:00 UTC\" \"2020-01-31 08:00:00 UTC\"\n",
       "[19] \"2020-02-14 08:00:00 UTC\" \"2020-02-28 08:00:00 UTC\"\n",
       "[21] \"2020-03-13 08:00:00 UTC\" \"2020-03-27 08:00:00 UTC\"\n",
       "[23] \"2020-04-10 08:00:00 UTC\" \"2020-04-24 08:00:00 UTC\"\n",
       "[25] \"2020-05-08 08:00:00 UTC\" \"2020-05-22 08:00:00 UTC\""
      ]
     },
     "metadata": {},
     "output_type": "display_data"
    }
   ],
   "source": [
    "library(lubridate)\n",
    "# Add a period of 8 hours to today\n",
    "today_8am <- today() + hours(8)\n",
    "\n",
    "# Sequence of two weeks from 1 to 26\n",
    "every_two_weeks <- 1:26 * weeks(2) \n",
    "\n",
    "# Create datetime for every two weeks for a year\n",
    "today_8am + every_two_weeks\n"
   ]
  },
  {
   "cell_type": "markdown",
   "metadata": {},
   "source": [
    "#### 3.2.4) The tricky thing about months\n",
    "What should `ymd(\"2018-01-31\") + months(1)` return? Should it be 30, 31 or 28 days in the future? Try it. In general `lubridate `returns the same day of the month in the next month, but since the 31st of February doesn't exist lubridate returns a missing value, `NA`.\n",
    "\n",
    "There are alternative addition and subtraction operators: `%m+%` and `%m-%` that have different behavior. Rather than returning an `NA` for a non-existent date, they roll back to the last existing date.\n",
    "\n",
    "You'll explore their behavior by trying to generate a sequence for the last day in every month this year.\n",
    "\n",
    "    Exercise:\n",
    "\n",
    "    We've put jan_31, the date for January 31st this year in your workspace.\n",
    "\n",
    "    Start by creating a sequence of 1 to 12 periods of 1 month.\n",
    "    Add month_seq to jan_31. Notice what happens to any month where the 31st doesn't exist\n",
    "    Now add month_seq to jan_31 using the %m+% operator.\n",
    "    Try subtracting month_seq from jan_31 using the %m-% operator."
   ]
  },
  {
   "cell_type": "code",
   "execution_count": 7,
   "metadata": {},
   "outputs": [
    {
     "data": {
      "text/html": [
       "<ol class=list-inline>\n",
       "\t<li><time datetime=\"&lt;NA&gt;\">&lt;NA&gt;</time></li>\n",
       "\t<li><time datetime=\"2019-03-31\">2019-03-31</time></li>\n",
       "\t<li><time datetime=\"&lt;NA&gt;\">&lt;NA&gt;</time></li>\n",
       "\t<li><time datetime=\"2019-05-31\">2019-05-31</time></li>\n",
       "\t<li><time datetime=\"&lt;NA&gt;\">&lt;NA&gt;</time></li>\n",
       "\t<li><time datetime=\"2019-07-31\">2019-07-31</time></li>\n",
       "\t<li><time datetime=\"2019-08-31\">2019-08-31</time></li>\n",
       "\t<li><time datetime=\"&lt;NA&gt;\">&lt;NA&gt;</time></li>\n",
       "\t<li><time datetime=\"2019-10-31\">2019-10-31</time></li>\n",
       "\t<li><time datetime=\"&lt;NA&gt;\">&lt;NA&gt;</time></li>\n",
       "\t<li><time datetime=\"2019-12-31\">2019-12-31</time></li>\n",
       "\t<li><time datetime=\"2020-01-31\">2020-01-31</time></li>\n",
       "</ol>\n"
      ],
      "text/latex": [
       "\\begin{enumerate*}\n",
       "\\item <NA>\n",
       "\\item 2019-03-31\n",
       "\\item <NA>\n",
       "\\item 2019-05-31\n",
       "\\item <NA>\n",
       "\\item 2019-07-31\n",
       "\\item 2019-08-31\n",
       "\\item <NA>\n",
       "\\item 2019-10-31\n",
       "\\item <NA>\n",
       "\\item 2019-12-31\n",
       "\\item 2020-01-31\n",
       "\\end{enumerate*}\n"
      ],
      "text/markdown": [
       "1. &lt;NA&gt;\n",
       "2. 2019-03-31\n",
       "3. &lt;NA&gt;\n",
       "4. 2019-05-31\n",
       "5. &lt;NA&gt;\n",
       "6. 2019-07-31\n",
       "7. 2019-08-31\n",
       "8. &lt;NA&gt;\n",
       "9. 2019-10-31\n",
       "10. &lt;NA&gt;\n",
       "11. 2019-12-31\n",
       "12. 2020-01-31\n",
       "\n",
       "\n"
      ],
      "text/plain": [
       " [1] NA           \"2019-03-31\" NA           \"2019-05-31\" NA          \n",
       " [6] \"2019-07-31\" \"2019-08-31\" NA           \"2019-10-31\" NA          \n",
       "[11] \"2019-12-31\" \"2020-01-31\""
      ]
     },
     "metadata": {},
     "output_type": "display_data"
    },
    {
     "data": {
      "text/html": [
       "<ol class=list-inline>\n",
       "\t<li><time datetime=\"2019-02-28\">2019-02-28</time></li>\n",
       "\t<li><time datetime=\"2019-03-31\">2019-03-31</time></li>\n",
       "\t<li><time datetime=\"2019-04-30\">2019-04-30</time></li>\n",
       "\t<li><time datetime=\"2019-05-31\">2019-05-31</time></li>\n",
       "\t<li><time datetime=\"2019-06-30\">2019-06-30</time></li>\n",
       "\t<li><time datetime=\"2019-07-31\">2019-07-31</time></li>\n",
       "\t<li><time datetime=\"2019-08-31\">2019-08-31</time></li>\n",
       "\t<li><time datetime=\"2019-09-30\">2019-09-30</time></li>\n",
       "\t<li><time datetime=\"2019-10-31\">2019-10-31</time></li>\n",
       "\t<li><time datetime=\"2019-11-30\">2019-11-30</time></li>\n",
       "\t<li><time datetime=\"2019-12-31\">2019-12-31</time></li>\n",
       "\t<li><time datetime=\"2020-01-31\">2020-01-31</time></li>\n",
       "</ol>\n"
      ],
      "text/latex": [
       "\\begin{enumerate*}\n",
       "\\item 2019-02-28\n",
       "\\item 2019-03-31\n",
       "\\item 2019-04-30\n",
       "\\item 2019-05-31\n",
       "\\item 2019-06-30\n",
       "\\item 2019-07-31\n",
       "\\item 2019-08-31\n",
       "\\item 2019-09-30\n",
       "\\item 2019-10-31\n",
       "\\item 2019-11-30\n",
       "\\item 2019-12-31\n",
       "\\item 2020-01-31\n",
       "\\end{enumerate*}\n"
      ],
      "text/markdown": [
       "1. 2019-02-28\n",
       "2. 2019-03-31\n",
       "3. 2019-04-30\n",
       "4. 2019-05-31\n",
       "5. 2019-06-30\n",
       "6. 2019-07-31\n",
       "7. 2019-08-31\n",
       "8. 2019-09-30\n",
       "9. 2019-10-31\n",
       "10. 2019-11-30\n",
       "11. 2019-12-31\n",
       "12. 2020-01-31\n",
       "\n",
       "\n"
      ],
      "text/plain": [
       " [1] \"2019-02-28\" \"2019-03-31\" \"2019-04-30\" \"2019-05-31\" \"2019-06-30\"\n",
       " [6] \"2019-07-31\" \"2019-08-31\" \"2019-09-30\" \"2019-10-31\" \"2019-11-30\"\n",
       "[11] \"2019-12-31\" \"2020-01-31\""
      ]
     },
     "metadata": {},
     "output_type": "display_data"
    },
    {
     "data": {
      "text/html": [
       "<ol class=list-inline>\n",
       "\t<li><time datetime=\"2018-12-31\">2018-12-31</time></li>\n",
       "\t<li><time datetime=\"2018-11-30\">2018-11-30</time></li>\n",
       "\t<li><time datetime=\"2018-10-31\">2018-10-31</time></li>\n",
       "\t<li><time datetime=\"2018-09-30\">2018-09-30</time></li>\n",
       "\t<li><time datetime=\"2018-08-31\">2018-08-31</time></li>\n",
       "\t<li><time datetime=\"2018-07-31\">2018-07-31</time></li>\n",
       "\t<li><time datetime=\"2018-06-30\">2018-06-30</time></li>\n",
       "\t<li><time datetime=\"2018-05-31\">2018-05-31</time></li>\n",
       "\t<li><time datetime=\"2018-04-30\">2018-04-30</time></li>\n",
       "\t<li><time datetime=\"2018-03-31\">2018-03-31</time></li>\n",
       "\t<li><time datetime=\"2018-02-28\">2018-02-28</time></li>\n",
       "\t<li><time datetime=\"2018-01-31\">2018-01-31</time></li>\n",
       "</ol>\n"
      ],
      "text/latex": [
       "\\begin{enumerate*}\n",
       "\\item 2018-12-31\n",
       "\\item 2018-11-30\n",
       "\\item 2018-10-31\n",
       "\\item 2018-09-30\n",
       "\\item 2018-08-31\n",
       "\\item 2018-07-31\n",
       "\\item 2018-06-30\n",
       "\\item 2018-05-31\n",
       "\\item 2018-04-30\n",
       "\\item 2018-03-31\n",
       "\\item 2018-02-28\n",
       "\\item 2018-01-31\n",
       "\\end{enumerate*}\n"
      ],
      "text/markdown": [
       "1. 2018-12-31\n",
       "2. 2018-11-30\n",
       "3. 2018-10-31\n",
       "4. 2018-09-30\n",
       "5. 2018-08-31\n",
       "6. 2018-07-31\n",
       "7. 2018-06-30\n",
       "8. 2018-05-31\n",
       "9. 2018-04-30\n",
       "10. 2018-03-31\n",
       "11. 2018-02-28\n",
       "12. 2018-01-31\n",
       "\n",
       "\n"
      ],
      "text/plain": [
       " [1] \"2018-12-31\" \"2018-11-30\" \"2018-10-31\" \"2018-09-30\" \"2018-08-31\"\n",
       " [6] \"2018-07-31\" \"2018-06-30\" \"2018-05-31\" \"2018-04-30\" \"2018-03-31\"\n",
       "[11] \"2018-02-28\" \"2018-01-31\""
      ]
     },
     "metadata": {},
     "output_type": "display_data"
    }
   ],
   "source": [
    "library(lubridate)\n",
    "jan_31<- dmy(\"31-01-2019\")\n",
    "\n",
    "# A sequence of 1 to 12 periods of 1 month\n",
    "month_seq <- months(1) * 1:12\n",
    "\n",
    "# Add 1 to 12 months to jan_31\n",
    "month_seq + jan_31\n",
    "\n",
    "# Replace + with %m+%\n",
    "month_seq %m+% jan_31 \n",
    "\n",
    "# Replace + with %m-%\n",
    "month_seq %m-% jan_31 "
   ]
  },
  {
   "cell_type": "markdown",
   "metadata": {},
   "source": [
    "Note: Nice! But use these operators with caution, unlike + and -, you might not get x back from x %m+% months(1) %m-% months(1). If you'd prefer that the date was rolled forward check out add_with_rollback() which has roll_to_first argument."
   ]
  },
  {
   "cell_type": "markdown",
   "metadata": {},
   "source": [
    "### 3.3) Intervals\n",
    "theye are a third option in lubridate for storing time spans, rather than representing an amount of time like a period or duration, they have a specific start and end datatime, you can easily retrive the amount of time the interval covers, either as a duration or period, but you can also do things like test whether another datetime is in the interval or even if two intervals overlap.\n",
    "\n",
    "create intervals, through two ways one of them is between two dates and the second by functions intervals\n",
    "\n",
    "    datime1 %--% datetime2 or\n",
    "    intervals(datetime1, datetime2)\n",
    "    \n",
    "Lubridate provides a numbers of functions to operate on intervals like `int_start` and `int_end` extract the start and the end,  of the interval, `int_lenght` finds the lenght of the interval in `seconds` or you can specifically ask for the interval as a period or duration with de as (dot) period and as (dot) durations functions `as.period()` or `as.duration()`"
   ]
  },
  {
   "cell_type": "code",
   "execution_count": 15,
   "metadata": {},
   "outputs": [
    {
     "data": {
      "text/html": [
       "'Interval'"
      ],
      "text/latex": [
       "'Interval'"
      ],
      "text/markdown": [
       "'Interval'"
      ],
      "text/plain": [
       "[1] \"Interval\"\n",
       "attr(,\"package\")\n",
       "[1] \"lubridate\""
      ]
     },
     "metadata": {},
     "output_type": "display_data"
    },
    {
     "data": {
      "text/plain": [
       "[1] \"1961-01-05 UTC\""
      ]
     },
     "metadata": {},
     "output_type": "display_data"
    },
    {
     "data": {
      "text/plain": [
       "[1] \"1969-01-30 UTC\""
      ]
     },
     "metadata": {},
     "output_type": "display_data"
    },
    {
     "data": {
      "text/html": [
       "254620800"
      ],
      "text/latex": [
       "254620800"
      ],
      "text/markdown": [
       "254620800"
      ],
      "text/plain": [
       "[1] 254620800"
      ]
     },
     "metadata": {},
     "output_type": "display_data"
    },
    {
     "data": {
      "text/html": [
       "8y 0m 25d 0H 0M 0S"
      ],
      "text/latex": [
       "8y 0m 25d 0H 0M 0S"
      ],
      "text/markdown": [
       "8y 0m 25d 0H 0M 0S"
      ],
      "text/plain": [
       "[1] \"8y 0m 25d 0H 0M 0S\""
      ]
     },
     "metadata": {},
     "output_type": "display_data"
    },
    {
     "data": {
      "text/html": [
       "254620800s (~8.07 years)"
      ],
      "text/latex": [
       "254620800s (\\textasciitilde{}8.07 years)"
      ],
      "text/markdown": [
       "254620800s (~8.07 years)"
      ],
      "text/plain": [
       "[1] \"254620800s (~8.07 years)\""
      ]
     },
     "metadata": {},
     "output_type": "display_data"
    }
   ],
   "source": [
    "library(lubridate)\n",
    "test<-dmy(\"5 January 1961\") %--% dmy(\"30 January 1969\")\n",
    "class(test)\n",
    "\n",
    "int_start(test)\n",
    "int_end(test)\n",
    "int_length(test)\n",
    "as.period(test)\n",
    "as.duration(test)"
   ]
  },
  {
   "cell_type": "markdown",
   "metadata": {},
   "source": [
    "to compare a datetime to an interval use the `%within%` operator, now if you want to compare two intervals use `int_overlaps` which will return TRUE if there any time that are inside both intervals "
   ]
  },
  {
   "cell_type": "code",
   "execution_count": 17,
   "metadata": {},
   "outputs": [
    {
     "data": {
      "text/html": [
       "FALSE"
      ],
      "text/latex": [
       "FALSE"
      ],
      "text/markdown": [
       "FALSE"
      ],
      "text/plain": [
       "[1] FALSE"
      ]
     },
     "metadata": {},
     "output_type": "display_data"
    }
   ],
   "source": [
    "library(lubridate)\n",
    "test2<-mdy(\"August 17 1969\")\n",
    "test2 %within% test\n"
   ]
  },
  {
   "cell_type": "markdown",
   "metadata": {},
   "source": [
    "**Which kind of time span?**\n",
    "\n",
    "1. **Intervals**, when you have a start and end\n",
    "2. **Periods**, when you are interested in humans units\n",
    "3. **Durations**, if you are interested in seconds elapsed \n",
    "\n",
    "comet: https://en.wikipedia.org/wiki/Halley%27s_Comet#Apparitions\n"
   ]
  },
  {
   "cell_type": "markdown",
   "metadata": {},
   "source": [
    "#### 3.3.1) Examining intervals. Reigns of kings and queens\n",
    "You can create an interval by using the operator `%--%` with two datetimes. For example `ymd(\"2001-01-01\") %--% ymd(\"2001-12-31\")` creates an interval for the year of 2001.\n",
    "\n",
    "Once you have an interval you can find out certain properties like its start, end and length with `int_start()`, `int_end()` and `int_length()` respectively.\n",
    "\n",
    "Practice by exploring the reigns of kings and queens of Britain (and its historical dominions).\n",
    "\n",
    "    Instructions:\n",
    "\n",
    "    We've put the data monarchs in your workspace.\n",
    "\n",
    "    Print monarchs to take a look at the data\n",
    "    Create a new column called reign that is an interval between from and to.\n",
    "    Create another new column, length, that is the interval length of reign. The rest of the pipeline we've filled in for you, it arranges by decreasing length and selects the name, length and dominion columns.\n",
    "\n",
    "    # Print monarchs\n",
    "     monarchs\n",
    "\n",
    "    # Create an interval for reign\n",
    "    monarchs <- monarchs %>%\n",
    "      mutate(reign = from %--% to) \n",
    "\n",
    "    # Find the length of reign, and arrange\n",
    "    monarchs %>%\n",
    "      mutate(length = int_length(reign)) %>% \n",
    "      arrange(desc(length)) %>%\n",
    "      select(name, length, dominion)\n",
    "      \n",
    "#### 3.3.2) Comparing intervals and datetimes\n",
    "A common task with intervals is to ask if a certain time is inside the interval or whether it overlaps with another interval.\n",
    "\n",
    "The operator `%within%` tests if the datetime (or interval) on the left hand side is within the interval of the right hand side. For example, if y2001 is the interval covering the year 2001,\n",
    "\n",
    "    y2001 <- ymd(\"2001-01-01\") %--% ymd(\"2001-12-31\")\n",
    "    \n",
    "Then `ymd(\"2001-03-30\") %within% y2001` will return `TRUE` and `ymd(\"2002-03-30\") %within% y2001` will return `FALSE`.\n",
    "\n",
    "`int_overlaps()` performs a similar test, but will return true if two intervals overlap at all.\n",
    "\n",
    "Practice to find out which monarchs saw Halley's comet around 1066.\n",
    "\n",
    "Instrunctions\n",
    "\n",
    "    We've put halleys a data set describing appearances of Halley's comet in your workspace.\n",
    "\n",
    "    Print halleys to examine the date. perihelion_date is the date the Comet is closest to the Sun. start_date and end_date are the range of dates the comet is visible from Earth.\n",
    "    Create a new column, visible, that is an interval from start_date to end_date.\n",
    "    You'll work with one appearance, extract the 14th row of halleys.\n",
    "    Filter monarchs to those where halleys_1066$perihelion_date is within reign.\n",
    "    Filter monarchs to those where halleys_1066$visible overlaps reign."
   ]
  },
  {
   "cell_type": "code",
   "execution_count": null,
   "metadata": {},
   "outputs": [],
   "source": [
    "# Print halleys\n",
    "alleys\n",
    "\n",
    "# New column for interval from start to end date\n",
    "halleys <- halleys %>% \n",
    "  mutate(visible = start_date %--% end_date)\n",
    "\n",
    "# The visitation of 1066\n",
    "halleys_1066 <- halleys[14, ] \n",
    "\n",
    "# Monarchs in power on perihelion date\n",
    "monarchs %>% \n",
    "  filter(halleys_1066$perihelion_date %within% reign) %>%\n",
    "  select(name, from, to, dominion)\n",
    "\n",
    "# Monarchs whose reign overlaps visible time\n",
    "monarchs %>% \n",
    "  filter( int_overlaps(halleys_1066$visible,reign)) %>%\n",
    "  select(name, from, to, dominion)\n"
   ]
  },
  {
   "cell_type": "markdown",
   "metadata": {},
   "source": [
    "#### 3.3.3) Converting to durations and periods\n",
    "Intervals are the most specific way to represent a span of time since they retain information about the exact start and end moments. They can be converted to periods and durations exactly: it's possible to calculate both the exact number of seconds elapsed between the start and end date, as well as the perceived change in clock time.\n",
    "\n",
    "To do so you use the `as.period()`, and `as.duration()` functions, parsing in an interval as the only argument.\n",
    "\n",
    "Try them out to get better representations of the length of the monarchs reigns.\n",
    "\n",
    "    Durations\n",
    "\n",
    "    Create new columns for duration and period that convert reign into the appropriate object.\n",
    "    Examine the name, duration and period columns.\n",
    "    \n",
    "    # New columns for duration and period\n",
    "\n",
    "\n",
    "    monarchs <- monarchs %>%\n",
    "      mutate(\n",
    "        duration = as.duration(reign),\n",
    "        period = as.period(reign))\n",
    "\n",
    "    # Examine results    \n",
    "    monarchs %>%\n",
    "      select(name, duration, period)"
   ]
  },
  {
   "cell_type": "markdown",
   "metadata": {},
   "source": [
    "## 4) Problems in practice\n",
    "You now know most of what you need to tackle data that includes dates and times, but there are a few other problems you might encounter in practice. In this final chapter you'll learn a little more about these problems by returning to some of the earlier data examples and learning how to handle time zones, deal with times when you don't care about dates, parse dates quickly, and output dates and times.\n",
    "\n",
    "### 4.1) Times Zone\n",
    "Times zone are a way to keep track of the differences between local times in different locations, to specify the timezone for a datetime you use a character string, you can see the timezone of your system from R with the function `Sys.timezone()`, the time zone R knows about can be listed with the function OlsonNames (`OlsoNames() and length(OlsoNames())`), it may seem weird to use a region and city to label a timezone rather than just an offset, but remember offsets might change through the year due to daylight savings, and when, and if, daylight savings occurred might have changed through history to convert one set of datetimes to another timezone requires a complete record of this history, and since that history often isn´t country specific or country borders have changed through time, a city is the easiest way to label it.\n",
    "\n",
    "All functions for parsing date in lubridate can take a `tz` argument and in lubridate you can use the `tz` function to extract the timezone of a datetime. \n",
    "\n",
    "Once you have datetime in R there are generally two things you might want to do:\n",
    "1. set the timezone to something different, or \n",
    "2. wiew the same moment in a different timezone\n",
    "\n",
    "    `force_tz()` change the timezone without changing the clock time\n",
    "    \n",
    "    `with_tz()` view the same instant in a different timezone\n",
    "\n",
    "#### 4.1.1) Setting the timezone\n",
    "If you import a datetime and it has the wrong timezone, you can set it with `force_tz()`. Pass in the datetime as the first argument and the appropriate timezone to the `tzone` argument. Remember the timezone needs to be one from `OlsonNames()`.\n",
    "\n",
    "I wanted to watch New Zealand in the Women's World Cup Soccer games in 2015, but the times listed on the FIFA website were all in times local to the venues. In this exercise you'll help me set the timezones, then in the next exercise you'll help me figure out what time I needed to tune in to watch them.\n",
    "\n"
   ]
  },
  {
   "cell_type": "code",
   "execution_count": 1,
   "metadata": {},
   "outputs": [
    {
     "name": "stderr",
     "output_type": "stream",
     "text": [
      "Warning message:\n",
      "\"package 'lubridate' was built under R version 3.5.3\"\n",
      "Attaching package: 'lubridate'\n",
      "\n",
      "The following object is masked from 'package:base':\n",
      "\n",
      "    date\n",
      "\n"
     ]
    },
    {
     "data": {
      "text/plain": [
       "[1] \"2015-06-11 19:00:00 MDT\""
      ]
     },
     "metadata": {},
     "output_type": "display_data"
    },
    {
     "data": {
      "text/plain": [
       "[1] \"2015-06-15 18:30:00 CDT\""
      ]
     },
     "metadata": {},
     "output_type": "display_data"
    },
    {
     "data": {
      "text/html": [
       "3d 22H 30M 0S"
      ],
      "text/latex": [
       "3d 22H 30M 0S"
      ],
      "text/markdown": [
       "3d 22H 30M 0S"
      ],
      "text/plain": [
       "[1] \"3d 22H 30M 0S\""
      ]
     },
     "metadata": {},
     "output_type": "display_data"
    }
   ],
   "source": [
    "library(lubridate)\n",
    "\n",
    "# Game2: CAN vs NZL in Edmonton\n",
    "game2 <- mdy_hm(\"June 11 2015 19:00\")\n",
    "\n",
    "# Game3: CHN vs NZL in Winnipeg\n",
    "game3 <- mdy_hm(\"June 15 2015 18:30\")\n",
    "\n",
    "# Set the timezone to \"America/Edmonton\"\n",
    "game2_local <- force_tz(game2, tzone = \"America/Edmonton\")\n",
    "game2_local\n",
    "\n",
    "# Set the timezone to \"America/Winnipeg\"\n",
    "game3_local <- force_tz(game3, tzone = \"America/Winnipeg\")\n",
    "game3_local\n",
    "\n",
    "# How long does the team have to rest?\n",
    "as.period(game2_local %--% game3_local)\n"
   ]
  },
  {
   "cell_type": "markdown",
   "metadata": {},
   "source": [
    "#### 4.1.2) Viewing in a timezone\n",
    "To view a datetime in another timezone use `with_tz()`. The syntax of `with_tz()` is the same as `force_tz()`, passing a datetime and set the tzone argument to the desired timezone. Unlike `force_tz()`, `with_tz()` isn't changing the underlying moment of time, just how it is displayed.\n",
    "\n",
    "For example, the difference between `now()` displayed in the \"America/Los_Angeles\" timezone and and \"Pacific/Auckland\" timezone is 0:\n",
    "\n",
    "    now <- now()\n",
    "    with_tz(now, \"America/Los_Angeles\") - \n",
    "    with_tz(now,  \"Pacific/Auckland\")\n",
    "      \n",
    "Help me figure out when to tune into the games from the previous exercise.\n",
    "\n",
    "Exercise:\n",
    "\n",
    "    Most fans will tune in from New Zealand. Use with_tz() to display game2_local in New Zealand time. New Zealand is in the \"Pacific/Auckland\" timezone.\n",
    "\n",
    "    I'll be in Corvallis, Oregon. Use with_tz() to display game2_local my time. Corvallis is in the \"America/Los_Angeles\" timezone.\n",
    "\n",
    "    Finally, use with_tz() to display game3_local in New Zealand time."
   ]
  },
  {
   "cell_type": "code",
   "execution_count": 2,
   "metadata": {},
   "outputs": [
    {
     "data": {
      "text/plain": [
       "[1] \"2015-06-12 13:00:00 NZST\""
      ]
     },
     "metadata": {},
     "output_type": "display_data"
    },
    {
     "data": {
      "text/plain": [
       "[1] \"2015-06-11 18:00:00 PDT\""
      ]
     },
     "metadata": {},
     "output_type": "display_data"
    },
    {
     "data": {
      "text/plain": [
       "[1] \"2015-06-16 11:30:00 NZST\""
      ]
     },
     "metadata": {},
     "output_type": "display_data"
    }
   ],
   "source": [
    "library(lubridate)\n",
    "\n",
    "# What time is game2_local in NZ?\n",
    "with_tz(game2_local, tzone = \"Pacific/Auckland\")\n",
    "\n",
    "# What time is game2_local in Corvallis, Oregon?\n",
    "with_tz(game2_local, tzone = \"America/Los_Angeles\")\n",
    "\n",
    "# What time is game3_local in NZ?\n",
    "with_tz(game3_local, tzone = \"Pacific/Auckland\")\n"
   ]
  },
  {
   "cell_type": "markdown",
   "metadata": {},
   "source": [
    "#### 4.1.3) Timezones in the weather data\n",
    "Did you ever notice that in the hourly Auckland weather data there was another datetime column, `date_utc`? Take a look:\n",
    "\n",
    "    tibble::glimpse(akl_hourly)\n",
    "    \n",
    "The `datetime` column you created represented local time in Auckland, NZ. I suspect this additional column, `date_utc` represents the observation time in UTC (the name seems a big clue). But does it really?\n",
    "\n",
    "Use your new timezone skills to find out.\n",
    "\n",
    "    Instrunctions\n",
    "\n",
    "    What timezone are datetime and date_utc currently in? Examine the head of the datetime and date_utc columns to find out.\n",
    "    Fix datetime to have the timezone for \"Pacific/Auckland\".\n",
    "    Reexamine the head of the datetime column to check the times have the same clocktime, but are now in the right timezone.\n",
    "    Now tabulate up the difference between the datetime and date_utc columns. It should be zero if our hypothesis was correct."
   ]
  },
  {
   "cell_type": "code",
   "execution_count": null,
   "metadata": {},
   "outputs": [],
   "source": [
    "# Examine datetime and date_utc columns\n",
    "#head(akl_hourly)\n",
    "\n",
    "head(akl_hourly$datetime)\n",
    "head(akl_hourly$date_utc)\n",
    "  \n",
    "# Force datetime to Pacific/Auckland\n",
    "akl_hourly <- akl_hourly %>%\n",
    "  mutate(\n",
    "    datetime = force_tz(datetime, tzone = \"Pacific/Auckland\"))\n",
    "\n",
    "# Reexamine datetime\n",
    "head(akl_hourly$datetime)\n",
    "  \n",
    "# Are datetime and date_utc the same moments\n",
    "table(akl_hourly$datetime - akl_hourly$date_utc)"
   ]
  },
  {
   "cell_type": "markdown",
   "metadata": {},
   "source": [
    "#### 4.1.4) Times without dates\n",
    "For this entire course, if you've ever had a time, it's always had an accompanying date, i.e. a datetime. But sometimes you just have a time without a date.\n",
    "\n",
    "If you find yourself in this situation, the `hms` package provides an `hms` class of object for holding times without dates, and the best place to start would be with `as.hms()`.\n",
    "\n",
    "In fact, you've already seen an object of the hms class, but I didn't point it out to you. Take a look in this exercise.\n",
    "\n",
    "    Use read_csv() to read in \"akl_weather_hourly_2016.csv\". readr knows about the hms class, so if it comes across something that looks like a time it will use it.\n",
    "    \n",
    "    In this case the time column has been parsed as a time without a date. Take a look at the structure of the time column to verify it has the class hms.\n",
    "    \n",
    "    hms objects print like times should. Take a look by examining the head of the time column.\n",
    "    \n",
    "    You can use hms objects in plots too. Create a plot with time on the x-axis, temperature on the y-axis, with lines grouped by date."
   ]
  },
  {
   "cell_type": "code",
   "execution_count": null,
   "metadata": {},
   "outputs": [],
   "source": [
    "# Import auckland hourly data \n",
    "akl_hourly <- read_csv(\"akl_weather_hourly_2016.csv\")\n",
    "\n",
    "# Examine structure of time column\n",
    "str(akl_hourly$time)\n",
    "\n",
    "# Examine head of time column\n",
    "head(akl_hourly$time)\n",
    "\n",
    "# A plot using just time\n",
    "ggplot(akl_hourly, aes(x = time, y = temperature)) +\n",
    "  geom_line(aes(group = make_date(year, month, mday)), alpha = 0.2)"
   ]
  },
  {
   "cell_type": "markdown",
   "metadata": {},
   "source": [
    "### 4.2) More on importing and exporting datetimes\n",
    "there are others faster way to read your datetime data, in special of those that have ISO format.\n",
    "\n",
    "1. the first is the **fastPOSIXct** function in the fasttime package\n",
    "2. another option for fast parsing is the `fast_strptime` function in lubridate, it´s works like par_date_time, but instead of an order argument, it takes format argument \n",
    "\n",
    "Other concept important to know, it's how can export our data in human way, the easiest way to do this is using the stamp function in lubridate you pass `stamp` an example of a date formatted the way you want it, for example, here I want the day of the week, follewed by the month name, the numeric day of the month and year `stamp` returns a function, that you can then apply to any datetime object to format it this way."
   ]
  },
  {
   "cell_type": "code",
   "execution_count": 2,
   "metadata": {},
   "outputs": [
    {
     "name": "stderr",
     "output_type": "stream",
     "text": [
      "Warning message:\n",
      "\"package 'fasttime' was built under R version 3.5.2\""
     ]
    },
    {
     "data": {
      "text/plain": [
       "[1] \"2003-02-26 18:00:00 CST\""
      ]
     },
     "metadata": {},
     "output_type": "display_data"
    },
    {
     "data": {
      "text/plain": [
       "[1] \"2001-02-27 UTC\""
      ]
     },
     "metadata": {},
     "output_type": "display_data"
    },
    {
     "data": {
      "text/plain": [
       "[1] \"2001-02-27 UTC\""
      ]
     },
     "metadata": {},
     "output_type": "display_data"
    },
    {
     "name": "stderr",
     "output_type": "stream",
     "text": [
      "Multiple formats matched: \"Tuesday October %Om %y%d\"(1), \"Tuesday October %Om %Y\"(1), \"Tuesday %Om %d %y%H\"(1), \"Tuesday %Om %y %d%H\"(1), \"Tuesday %Om %d %Y\"(1), \"Tuesday October %m %d%y\"(1), \"Tuesday October %m %y%d\"(1), \"Tuesday October %m %Y\"(1), \"Tuesday October %H %M%S\"(1)\n",
      "Using: \"Tuesday %Om %y %d%H\"\n"
     ]
    }
   ],
   "source": [
    "library(lubridate)\n",
    "\n",
    "library(fasttime)\n",
    "fastPOSIXct(\"2003-02-27\")\n",
    "\n",
    "x<-\"2001-02-27\"\n",
    "parse_date_time(x, order = \"ymd\")\n",
    "\n",
    "fast_strptime(x, format = \"%Y-%m-%d\")\n",
    "\n",
    "my_stamp<-stamp(\"Tuesday October 10 2017\")"
   ]
  },
  {
   "cell_type": "markdown",
   "metadata": {},
   "source": [
    "#### 4.2.1) Fast parsing with fasttime\n",
    "The `fasttime` package provides a single function `fastPOSIXct()`, designed to read in datetimes formatted according to ISO 8601. Because it only reads in one format, and doesn't have to guess a format, it is really fast!\n",
    "\n",
    "You'll see how fast in this exercise by comparing how fast it reads in the dates from the Auckland hourly weather data (over 17,000 dates) to lubridates `ymd_hms()`.\n",
    "\n",
    "To compare run times you'll use the `microbenchmark()` function from the package of the same name. You pass in as many arguments as you want each being an expression to time.\n",
    "\n",
    "    Exercise: \n",
    "\n",
    "    We've loaded the datetimes from the Auckland hourly data as strings into the vector dates.\n",
    "\n",
    "    Examine the structure of dates to verify it is a string and in the ISO 8601 format.\n",
    "    Parse dates with fasttime and pipe to str() to verify fastPOSIXct parses them correctly.\n",
    "    Now to compare timing, call microbenchmark where the first argument uses ymd_hms() to parse dates and the second uses fastPOSIXct()."
   ]
  },
  {
   "cell_type": "code",
   "execution_count": null,
   "metadata": {},
   "outputs": [],
   "source": [
    "library(microbenchmark)\n",
    "library(fasttime)\n",
    "\n",
    "# Examine structure of dates\n",
    "str(dates)\n",
    "\n",
    "# Use fastPOSIXct() to parse dates\n",
    "fastPOSIXct(dates) %>% str()\n",
    "\n",
    "# Compare speed of fastPOSIXct() to ymd_hms()\n",
    "microbenchmark(\n",
    "  ymd_hms = ymd_hms(dates),\n",
    "  fasttime = fastPOSIXct(dates),\n",
    "  times = 20)"
   ]
  },
  {
   "cell_type": "markdown",
   "metadata": {},
   "source": [
    "#### 4.2.2) Fast parsing with lubridate::fast_strptime\n",
    "lubridate provides its own fast datetime parser: `fast_strptime()`. Instead of taking an order argument like `parse_date_time()` it takes a `format` argument and the format must comply with the `strptime()` style.\n",
    "\n",
    "As you saw in the video that means any character that represents a datetime component must be prefixed with a `%` and any non-whitespace characters must be explicitly included.\n",
    "\n",
    "Try parsing `dates` with `fast_strptime()` and then compare its speed to the other methods you've seen."
   ]
  },
  {
   "cell_type": "code",
   "execution_count": null,
   "metadata": {},
   "outputs": [],
   "source": [
    "# Head of dates\n",
    "head(dates)\n",
    "\n",
    "# Parse dates with fast_strptime\n",
    "fast_strptime(dates, \n",
    "    format = \"%Y-%m-%dT%H:%M:%SZ\") %>% str()\n",
    "\n",
    "# Comparse speed to ymd_hms() and fasttime\n",
    "microbenchmark(\n",
    "  ymd_hms = ymd_hms(dates),\n",
    "  fasttime = fastPOSIXct(dates),\n",
    "  fast_strptime = fast_strptime(dates, \n",
    "    format = \"%Y-%m-%dT%H:%M:%SZ\"),\n",
    "  times = 20)"
   ]
  },
  {
   "cell_type": "markdown",
   "metadata": {},
   "source": [
    "#### 4.2.3) Outputting pretty dates and times\n",
    "An easy way to output dates is to use the `stamp()` function in lubridate. `stamp()` takes a string which should be an example of how the date should be formatted, and returns a function that can be used to format dates.\n",
    "\n",
    "In this exercise you'll practice outputting today() in a nice way.\n",
    "\n",
    "    Exercise \n",
    "    Create a stamp() based on the string \"Sep 20 2017\".\n",
    "    Print date_stamp. Notice it is a function.\n",
    "    Pass today() to date_stamp to format today's date.\n",
    "    Now output today's date in American style MM/DD/YYYY.\n",
    "    Finally, use stamp based on the finished string I've put in your workspace to format today()."
   ]
  },
  {
   "cell_type": "code",
   "execution_count": 3,
   "metadata": {},
   "outputs": [
    {
     "name": "stderr",
     "output_type": "stream",
     "text": [
      "Multiple formats matched: \"%Om %d %y%H\"(1), \"%Om %y %d%H\"(1), \"%Om %d %Y\"(1), \"Sep %H %M%S\"(1)\n",
      "Using: \"%Om %y %d%H\"\n"
     ]
    },
    {
     "data": {
      "text/html": [
       "<pre class=language-r><code>function (x, locale = \"Spanish_Mexico.1252\") \n",
       "{\n",
       "<span style=white-space:pre-wrap>    {</span>\n",
       "<span style=white-space:pre-wrap>        old_lc_time &lt;- Sys.getlocale(\"LC_TIME\")</span>\n",
       "<span style=white-space:pre-wrap>        if (old_lc_time != locale) {</span>\n",
       "<span style=white-space:pre-wrap>            on.exit(Sys.setlocale(\"LC_TIME\", old_lc_time))</span>\n",
       "<span style=white-space:pre-wrap>            Sys.setlocale(\"LC_TIME\", locale)</span>\n",
       "<span style=white-space:pre-wrap>        }</span>\n",
       "<span style=white-space:pre-wrap>    }</span>\n",
       "<span style=white-space:pre-wrap>    format(x, format = \"%Om %y %d%H\")</span>\n",
       "}</code></pre>"
      ],
      "text/latex": [
       "\\begin{minted}{r}\n",
       "function (x, locale = \"Spanish\\_Mexico.1252\") \n",
       "\\{\n",
       "    \\{\n",
       "        old\\_lc\\_time <- Sys.getlocale(\"LC\\_TIME\")\n",
       "        if (old\\_lc\\_time != locale) \\{\n",
       "            on.exit(Sys.setlocale(\"LC\\_TIME\", old\\_lc\\_time))\n",
       "            Sys.setlocale(\"LC\\_TIME\", locale)\n",
       "        \\}\n",
       "    \\}\n",
       "    format(x, format = \"\\%Om \\%y \\%d\\%H\")\n",
       "\\}\n",
       "\\end{minted}"
      ],
      "text/markdown": [
       "```r\n",
       "function (x, locale = \"Spanish_Mexico.1252\") \n",
       "{\n",
       "    {\n",
       "        old_lc_time <- Sys.getlocale(\"LC_TIME\")\n",
       "        if (old_lc_time != locale) {\n",
       "            on.exit(Sys.setlocale(\"LC_TIME\", old_lc_time))\n",
       "            Sys.setlocale(\"LC_TIME\", locale)\n",
       "        }\n",
       "    }\n",
       "    format(x, format = \"%Om %y %d%H\")\n",
       "}\n",
       "```"
      ],
      "text/plain": [
       "function (x, locale = \"Spanish_Mexico.1252\") \n",
       "{\n",
       "    {\n",
       "        old_lc_time <- Sys.getlocale(\"LC_TIME\")\n",
       "        if (old_lc_time != locale) {\n",
       "            on.exit(Sys.setlocale(\"LC_TIME\", old_lc_time))\n",
       "            Sys.setlocale(\"LC_TIME\", locale)\n",
       "        }\n",
       "    }\n",
       "    format(x, format = \"%Om %y %d%H\")\n",
       "}\n",
       "<environment: 0x0000000005b91e70>"
      ]
     },
     "metadata": {},
     "output_type": "display_data"
    },
    {
     "data": {
      "text/html": [
       "'05 19 3000'"
      ],
      "text/latex": [
       "'05 19 3000'"
      ],
      "text/markdown": [
       "'05 19 3000'"
      ],
      "text/plain": [
       "[1] \"05 19 3000\""
      ]
     },
     "metadata": {},
     "output_type": "display_data"
    },
    {
     "name": "stderr",
     "output_type": "stream",
     "text": [
      "Multiple formats matched: \"%Om/%d/%y%H\"(1), \"%Om/%y/%d%H\"(1), \"%Om/%d/%Y\"(1), \"%m/%d/%y%H\"(1), \"%m/%y/%d%H\"(1), \"%m/%d/%Y\"(1)\n",
      "Using: \"%Om/%y/%d%H\"\n"
     ]
    },
    {
     "data": {
      "text/html": [
       "'05/19/3000'"
      ],
      "text/latex": [
       "'05/19/3000'"
      ],
      "text/markdown": [
       "'05/19/3000'"
      ],
      "text/plain": [
       "[1] \"05/19/3000\""
      ]
     },
     "metadata": {},
     "output_type": "display_data"
    },
    {
     "name": "stderr",
     "output_type": "stream",
     "text": [
      "Multiple formats matched: \"I finished 'Date and Time in R' on Thursay, %Om %d, %y%H\"(1), \"I finished 'Date and Time in R' on Thursay, %Om %y, %d%H\"(1), \"I finished 'Date and Time in R' on Thursay, %Om %d, %Y\"(1), \"I finished 'Date and Time in R' on Thursay, September %H, %M%S\"(1)\n",
      "Using: \"I finished 'Date and Time in R' on Thursay, %Om %y, %d%H\"\n"
     ]
    },
    {
     "data": {
      "text/html": [
       "'I finished \\'Date and Time in R\\' on Thursay, 05 19, 3000'"
      ],
      "text/latex": [
       "'I finished \\textbackslash{}'Date and Time in R\\textbackslash{}' on Thursay, 05 19, 3000'"
      ],
      "text/markdown": [
       "'I finished \\'Date and Time in R\\' on Thursay, 05 19, 3000'"
      ],
      "text/plain": [
       "[1] \"I finished 'Date and Time in R' on Thursay, 05 19, 3000\""
      ]
     },
     "metadata": {},
     "output_type": "display_data"
    }
   ],
   "source": [
    "# Create a stamp based on \"Sep 20 2017\"\n",
    "date_stamp <- stamp(\"Sep 20 2017\")\n",
    "\n",
    "# Print date_stamp\n",
    "date_stamp\n",
    "\n",
    "\n",
    "# Call date_stamp on today()\n",
    "date_stamp(today())\n",
    "\n",
    "# Create and call a stamp based on \"09/20/2017\"\n",
    "stamp(\"09/20/2017\")(today())\n",
    "\n",
    "# Use string finished for stamp()\n",
    "finished<-\"I finished 'Date and Time in R' on Thursay, September 20, 2017\"\n",
    "stamp(finished)(today())\n"
   ]
  },
  {
   "cell_type": "code",
   "execution_count": null,
   "metadata": {},
   "outputs": [],
   "source": []
  }
 ],
 "metadata": {
  "kernelspec": {
   "display_name": "R",
   "language": "R",
   "name": "ir"
  },
  "language_info": {
   "codemirror_mode": "r",
   "file_extension": ".r",
   "mimetype": "text/x-r-source",
   "name": "R",
   "pygments_lexer": "r",
   "version": "3.5.1"
  }
 },
 "nbformat": 4,
 "nbformat_minor": 2
}
