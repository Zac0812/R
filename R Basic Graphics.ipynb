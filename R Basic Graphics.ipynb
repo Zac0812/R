{
 "cells": [
  {
   "cell_type": "markdown",
   "metadata": {},
   "source": [
    "# Graphics Package\n",
    "\n",
    "* Tenemos una gran variedad de paquetes\n",
    "* Empezaremos con las funciones **plot()** y **hist()**\n",
    "\n",
    "Caracteristicas de la función plot() :\n",
    "\n",
    "* Es una función génerica\n",
    "* Diferentes salidas \\> Diferentes Gráficas\n",
    "* Vectores, modelos lineales, kernels densities\n",
    "\n",
    "> If you try to plot factors, for example, plot() will automagically create a bar chart that nicely displays the number of occurences of each factor.\n",
    "\n",
    "> You can also pass plot() vectors; the data corresponding to the first argument is then shown on the horizontal x-axis, while the second vector will be plotted on the y-axis.\n",
    "\n",
    "## Create a Plot\n",
    "\n",
    "In the previous exercise, you already saw that the combination of a factor and a numeric vector already gave the surprising result of a categorized set of boxplots. But what happens if you pass the plot() function a single numeric vector? And what if you pass two vectors to plot()? No theory on this one, let's simply learn by doing!\n",
    "\n",
    " If you use plot() with a single argument (numerical), you'll get an index plot, while with two arguments you'll get a classical scatterplot. From the second plot, there seems to be a light correlation between the length of a movie and its rating.\n",
    "\n",
    "## Create a Histogram\n",
    "Another function is hist(). Basically, the hist() function visualizes the distribution of your data by placing all values in bins and displaying the bin frequencies of each bin. Have a look at the usage of the hist() function:\n",
    "\n",
    "> hist(x, breaks = \"Sturges\")\n",
    "\n",
    "x is the vector of values for which you want to create a histogram. The breaks argument specifies how many bins, or histogram cells, your plot should contain. By default, the \"Sturges\" algorithm is used to automatically determine the number of bins.\n",
    "\n",
    "## Other graphics functions\n",
    "\n",
    "Apart from the plot() and hist() function, there are many more easy-to-use and very useful functions in the graphics package, the documentation on the functions if you are interested in learning more. To get more insight into the boxplot() function for example, simply type:\n",
    "\n",
    "> ?boxplot or ?pie"
   ]
  },
  {
   "cell_type": "markdown",
   "metadata": {
    "collapsed": true
   },
   "source": [
    "# Customizing Plots\n",
    "\n",
    "Some argumnets inside plots:\n",
    "\n",
    "* xlab = horizontal labels\n",
    "* ylab = vertical labels \n",
    "* main = plot title\n",
    "* sub = subtitle\n",
    "* type = plot type (example o = point & line , l = line)\n",
    "* col = color \n",
    "* col.main = the color  of the main title \n",
    "* cex.axis = with ratio the original font size of axis tick marks should be multiplied (tamaño de los etiquetas de los ejes)\n",
    "* lty = types of lines (1: normal, 2 to 6 son especiales 2: \\_ \\_ \\_ 3: ... 4: .\\_.\\_ 5: \\__ \\__ )\n",
    "* pch = type of point \n",
    "* lwd = Line width of the straight \n",
    "\n",
    "\n",
    "You can also inspect and control these same graphical parameters with the **`par()`** function.\n",
    "\n",
    "If you want to specify colors, you can choose simple strings such as \"red\" and \"blue\", but also you can also use indices and hexadecimal codes. For example, col = 1, col = \"black\", and col = \"#000000\" are all equivalent."
   ]
  },
  {
   "cell_type": "markdown",
   "metadata": {
    "collapsed": true
   },
   "source": [
    "# Multiple Plots\n",
    "\n",
    "The idea is create a grid with different type of plots at the same time, The easiest way to do is, is by specifying the graphical parameter `mfrow` with the `par()`, because it's often a good idea to combine different plots; this saves space but also allows readers to easily compare the plots.\n",
    "\n",
    "Let's set the `mfrow` parameter to a vector containing two times two, to tell R that you want to build 4 subplots on a 2 by 2 grid: \n",
    "\n",
    "> par(mfrow = c(2,2))\n",
    "\n",
    "But you could to specify the graphical parameter `mfcol`, instead of `mfrow`, with the same specification, ..., and do the four plots again, one by one, you'll see that the graphs are added in a column-wise.\n",
    "\n",
    "To reset the graphical parameters such that R plots a single figure per layout, you can\n",
    "set either mfrow or mfcol to a vector that denotes that you want a 1 by 1 grid:\n",
    "\n",
    "> par(mfrow = c(1,1))\n",
    "\n",
    "`layout()` function, that allows you to specify more complex plot arrangements. This function\n",
    "expects a matrix, in which you specify the location of the figures on the output device.\n",
    "\n",
    "> grid<- matrix ( c(1,1,2,3) , nrow=2 , ncol=2 , byrow= TRUE)\n",
    "\n",
    "> layout(grid)\n",
    "\n",
    "To reset we can use  `layout(1)` or using the functions mfcol or mfrow with (1,1)\n",
    "\n",
    "**Resetting this layout afterwards**, every time you have been adapting the graphical parameters,\n",
    "can be quite tedious. Another, often easier way is to copy the old graphical parameters\n",
    "to a new variable first, like this.\n",
    "\n",
    "> old_par<-par()\n",
    "\n",
    "> to return default we can use `par(old_par)`\n",
    "\n",
    "Apart from building layouts to show different plots next to each other, you can also choose\n",
    "**to stack different graphical elements on top of each other**, as if you are adding layers for this we use the functions `abline()` , next this function, you can also use functions like `points()`, `segments()`, `lines()` and `text()` to supercharge your plots.\n",
    "\n",
    "Must of them work out of the box; only for the `lines()` function it's important that you\n",
    "pass the data points in the right order. If we simply use `lines()` with columns, the lines connecting the points, a good way to use it is using the `order()` function to get a `ranks` vector.\n",
    "\n",
    "Note:\n",
    "\n",
    "the function ** lm ( ) ** allows you to build a linear model that models the relationship between 2 variable, for exaple: \n",
    "\n",
    "Fit a linear regression that models rating based on votes. Use the function lm() with **movies\\$rating ~ movies\\$votes ** as the only argument. Assign the result to movies_lm"
   ]
  },
  {
   "cell_type": "code",
   "execution_count": null,
   "metadata": {
    "collapsed": true
   },
   "outputs": [],
   "source": []
  }
 ],
 "metadata": {
  "kernelspec": {
   "display_name": "R",
   "language": "R",
   "name": "ir"
  },
  "language_info": {
   "codemirror_mode": "r",
   "file_extension": ".r",
   "mimetype": "text/x-r-source",
   "name": "R",
   "pygments_lexer": "r",
   "version": "3.4.3"
  }
 },
 "nbformat": 4,
 "nbformat_minor": 2
}
