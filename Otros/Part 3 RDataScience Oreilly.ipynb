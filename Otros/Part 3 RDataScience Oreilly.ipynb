{
 "cells": [
  {
   "cell_type": "markdown",
   "metadata": {},
   "source": [
    "# RDataScience Oreilly\n",
    "\n",
    "### Note how can Resizing plots in the R kernel for Jupyter notebooks\n",
    "https://blog.revolutionanalytics.com/2015/09/resizing-plots-in-the-r-kernel-for-jupyter-notebooks.html\n",
    "\n",
    "    library(repr)\n",
    "\n",
    "    # Change plot size to 4 x 3\n",
    "    options(repr.plot.width=4, repr.plot.height=3)\n",
    "    \n",
    "### Note2 Generate a table \n",
    "https://www.tablesgenerator.com/markdown_tables\n",
    "\n",
    "\n",
    "### Note 3 - DataFrames"
   ]
  },
  {
   "cell_type": "code",
   "execution_count": 1,
   "metadata": {},
   "outputs": [
    {
     "name": "stderr",
     "output_type": "stream",
     "text": [
      "Warning message:\n",
      "\"package 'tidyverse' was built under R version 3.5.3\"-- Attaching packages --------------------------------------- tidyverse 1.2.1 --\n",
      "v ggplot2 3.2.1     v purrr   0.2.5\n",
      "v tibble  2.1.3     v dplyr   0.8.3\n",
      "v tidyr   0.8.2     v stringr 1.4.0\n",
      "v readr   1.3.1     v forcats 0.3.0\n",
      "Warning message:\n",
      "\"package 'ggplot2' was built under R version 3.5.3\"Warning message:\n",
      "\"package 'tibble' was built under R version 3.5.3\"Warning message:\n",
      "\"package 'readr' was built under R version 3.5.3\"Warning message:\n",
      "\"package 'dplyr' was built under R version 3.5.3\"Warning message:\n",
      "\"package 'stringr' was built under R version 3.5.3\"-- Conflicts ------------------------------------------ tidyverse_conflicts() --\n",
      "x dplyr::filter() masks stats::filter()\n",
      "x dplyr::lag()    masks stats::lag()\n",
      "Warning message:\n",
      "\"package 'nycflights13' was built under R version 3.5.3\"Warning message:\n",
      "\"package 'gapminder' was built under R version 3.5.3\"Warning message:\n",
      "\"package 'Lahman' was built under R version 3.5.3\"Warning message:\n",
      "\"package 'gridExtra' was built under R version 3.5.3\"\n",
      "Attaching package: 'gridExtra'\n",
      "\n",
      "The following object is masked from 'package:dplyr':\n",
      "\n",
      "    combine\n",
      "\n",
      "Warning message:\n",
      "\"package 'lubridate' was built under R version 3.5.3\"\n",
      "Attaching package: 'lubridate'\n",
      "\n",
      "The following object is masked from 'package:base':\n",
      "\n",
      "    date\n",
      "\n"
     ]
    }
   ],
   "source": [
    "library(tidyverse)\n",
    "library(ggplot2)\n",
    "#these packages provides data on flights, world development and basaball\n",
    "library(nycflights13)\n",
    "library(gapminder)\n",
    "library(Lahman)\n",
    "\n",
    "library(gridExtra) #multiple grid\n",
    "library(repr) # Change plot size to 4 x 3\n",
    "library(stringr)\n",
    "library(forcats) #factors\n",
    "library(lubridate)"
   ]
  },
  {
   "cell_type": "markdown",
   "metadata": {},
   "source": [
    "## Part 3 Program (pag. 260)\n",
    "\n",
    "you’ll improve your programming skills \n",
    "\n",
    "Through all these chapters:\n",
    "\n",
    "- Chapter 14 - Pipes with magritrr - pag 261\n",
    "- Chapter 15 - Functions - pag 269\n",
    "- Chapter 16 - Vectors - pag 291\n",
    "- Chapter 17 - Iteration with purrr -pag 313\n",
    "\n",
    "\n",
    "### Chapter 14 - Pipes with magritr - pag 261\n",
    "pipes are a powerfull tool for clearly expressing a sequence of multiple operations, the pipes `%>%` comes from the `magrittr` package, it can load by `tidyverse` or you can do it explicitly\n",
    "\n",
    "    library(magrittr)\n"
   ]
  },
  {
   "cell_type": "markdown",
   "metadata": {},
   "source": [
    "### Chapter 15- Function (pag 269)\n",
    "We will cover the main reason why it is necessary to use functions in our lives as a data scientist.\n",
    "\n",
    "There are 3 keys steps to creat a new funtion:\n",
    "\n",
    "1. `name`\n",
    "2.  the list of inputs `arguments`\n",
    "3. write the `body` function in the right place.\n",
    "\n",
    "un summary the sintax is .\n",
    "\n",
    "    name <- function(){\n",
    "    ...body\n",
    "    ...body\n",
    "    ...body\n",
    "    }\n",
    "    \n",
    "t´s important to remember that the code you write is not only for the computer, but also is for human readers too, so it´s recommended to leave comments, another useful tools about comments is to break up your file into easily readable chunks , you can do it in R with the keyboard `ctrl-shift-R` and can write your text \n",
    "\n",
    "#### <font color='blue'> 15.1) Functions Arguments (pag. 280) </font>\n",
    "\n",
    "The arguments fall into two typically sets:\n",
    "\n",
    "1. supplies the `data` to compute on\n",
    "2. supplies arguments that control de `details` of the computation \n",
    "\n",
    "#### <font color='blue'> 15.2) Dot-Dot-Dot (pag. 284) </font>\n",
    "Many functions in R takes an arbitrary number of inputs eg. `str_c()` from the package `stringr`  but how do these functions works? they rely on a special argument `...`, it captures any number of arguments, it's useful because you can then send those on another funtion e.g\n"
   ]
  },
  {
   "cell_type": "code",
   "execution_count": 4,
   "metadata": {},
   "outputs": [
    {
     "data": {
      "text/html": [
       "'a,b,c,d,e,f,g,h,i,j'"
      ],
      "text/latex": [
       "'a,b,c,d,e,f,g,h,i,j'"
      ],
      "text/markdown": [
       "'a,b,c,d,e,f,g,h,i,j'"
      ],
      "text/plain": [
       "[1] \"a,b,c,d,e,f,g,h,i,j\""
      ]
     },
     "metadata": {},
     "output_type": "display_data"
    }
   ],
   "source": [
    "commas<-function(...)  stringr::str_c(... ,collapse = ',')\n",
    "commas(letters[1:10])"
   ]
  },
  {
   "cell_type": "markdown",
   "metadata": {},
   "source": [
    "#### <font color='blue'> 15.3) Return Value (pag. 285) </font>\n",
    "The value returned by the function is usually the last statement it evaluates, but you can choose the return early by using `return()` "
   ]
  },
  {
   "cell_type": "markdown",
   "metadata": {},
   "source": [
    "### Chapter 16 Vectors (pag. 291)  \n",
    "we'll use a handful of function from `purrr` package\n",
    "\n",
    "#### <font color='blue'> 16.1) Vector Basics </font>\n",
    "There are two type of vectors:\n",
    "\n",
    "- **atomic** vectors, of which there are 6 types: *logical, integer, double, character, complex and raw*\n",
    "- **lists**,which are sometimes called recursive vectoros because list can contain other lists.\n",
    "\n",
    "the main difference between these two are that, the first are **homogeneous** and the second can be **heterogeneous** , other thing is that `NULL` is often used to represent the absence of a vector (as opposed to `NA`, which is used to represent the absence of a value in a vector)    \n",
    "\n",
    "Every vector has two properties: **type and lenght**:\n"
   ]
  },
  {
   "cell_type": "code",
   "execution_count": 4,
   "metadata": {},
   "outputs": [
    {
     "data": {
      "text/html": [
       "'character'"
      ],
      "text/latex": [
       "'character'"
      ],
      "text/markdown": [
       "'character'"
      ],
      "text/plain": [
       "[1] \"character\""
      ]
     },
     "metadata": {},
     "output_type": "display_data"
    },
    {
     "data": {
      "text/html": [
       "'integer'"
      ],
      "text/latex": [
       "'integer'"
      ],
      "text/markdown": [
       "'integer'"
      ],
      "text/plain": [
       "[1] \"integer\""
      ]
     },
     "metadata": {},
     "output_type": "display_data"
    },
    {
     "data": {
      "text/html": [
       "3"
      ],
      "text/latex": [
       "3"
      ],
      "text/markdown": [
       "3"
      ],
      "text/plain": [
       "[1] 3"
      ]
     },
     "metadata": {},
     "output_type": "display_data"
    }
   ],
   "source": [
    "typeof(letters)\n",
    "typeof(1:10)\n",
    "\n",
    "x<-list(\"a\",\"b\",1:10)\n",
    "length(x)\n"
   ]
  },
  {
   "cell_type": "markdown",
   "metadata": {},
   "source": [
    "#### <font color='blue'> 16.2) Coercion (pag. 296) </font>\n",
    "there are two ways to coerce or convert, one type of vector to another:\n",
    "\n",
    "- Explicit coercion, whenn you call a function.\n",
    "- Implicit coercion.\n",
    "\n",
    "#### <font color='blue'> 16.3) Test function (pag. 298) </font>\n",
    "They are functions that return a True or False value, all of them start with `is_` eg. `is_logical`, `is_integer`, etc\n",
    "\n",
    "#### <font color='blue'> 16.4) Naming Vecctors (pag. 300) </font>\n",
    "all type of vector can be named:"
   ]
  },
  {
   "cell_type": "code",
   "execution_count": 5,
   "metadata": {},
   "outputs": [
    {
     "data": {
      "text/html": [
       "<dl class=dl-horizontal>\n",
       "\t<dt>x</dt>\n",
       "\t\t<dd>1</dd>\n",
       "\t<dt>y</dt>\n",
       "\t\t<dd>2</dd>\n",
       "\t<dt>z</dt>\n",
       "\t\t<dd>4</dd>\n",
       "</dl>\n"
      ],
      "text/latex": [
       "\\begin{description*}\n",
       "\\item[x] 1\n",
       "\\item[y] 2\n",
       "\\item[z] 4\n",
       "\\end{description*}\n"
      ],
      "text/markdown": [
       "x\n",
       ":   1y\n",
       ":   2z\n",
       ":   4\n",
       "\n"
      ],
      "text/plain": [
       "x y z \n",
       "1 2 4 "
      ]
     },
     "metadata": {},
     "output_type": "display_data"
    },
    {
     "data": {
      "text/html": [
       "<dl class=dl-horizontal>\n",
       "\t<dt>a</dt>\n",
       "\t\t<dd>1</dd>\n",
       "\t<dt>b</dt>\n",
       "\t\t<dd>2</dd>\n",
       "\t<dt>c</dt>\n",
       "\t\t<dd>3</dd>\n",
       "</dl>\n"
      ],
      "text/latex": [
       "\\begin{description*}\n",
       "\\item[a] 1\n",
       "\\item[b] 2\n",
       "\\item[c] 3\n",
       "\\end{description*}\n"
      ],
      "text/markdown": [
       "a\n",
       ":   1b\n",
       ":   2c\n",
       ":   3\n",
       "\n"
      ],
      "text/plain": [
       "a b c \n",
       "1 2 3 "
      ]
     },
     "metadata": {},
     "output_type": "display_data"
    }
   ],
   "source": [
    "# during creation with c()\n",
    "c(x=1,y=2,z=4)\n",
    "\n",
    "#purrr:set_names()\n",
    "set_names(1:3, c(\"a\",\"b\",\"c\"))"
   ]
  },
  {
   "cell_type": "markdown",
   "metadata": {},
   "source": [
    "#### <font color='blue'> 16.5) Recursive Vectors[Lists] (pag. 302) </font>\n",
    "list are step up in complexity from atomic vectors , because list can contain other list, you can create a list with `list()`.\n",
    "\n",
    "There are a couple of things we can help ourselves with when working with the list, one of which is `str()` and assigning them a specific name.\n",
    "\n",
    "Lists can contain a mix of objects and other list"
   ]
  },
  {
   "cell_type": "code",
   "execution_count": 5,
   "metadata": {},
   "outputs": [
    {
     "name": "stdout",
     "output_type": "stream",
     "text": [
      "List of 3\n",
      " $ a        : chr \"a\"\n",
      " $ b        : num 20\n",
      " $ OtraLista:List of 2\n",
      "  ..$ : num 3\n",
      "  ..$ : num 4\n"
     ]
    }
   ],
   "source": [
    "x<-list(a=\"a\",b=20,\"OtraLista\" = list(3,4))\n",
    "str(x)"
   ]
  },
  {
   "cell_type": "markdown",
   "metadata": {},
   "source": [
    "to explain more complicate list manipulation function, it´s helpful to have a visual representation of lists\n",
    "\n",
    "<img src=./Imagenes/List1.jpg style=\"width: 40 px;\"/>\n",
    "\n",
    "#### <font color='blue'> 16.6) Subsetting (pag. 304) </font>\n",
    "There are 3 ways to subset a list:\n",
    "\n",
    "- `[` extracts a sublist, the result will allways be a list, lke with other vectors you can subset with a logical, integer or character vector\n",
    "- `[[` extracts a single component from a list, it removes a level of hierarchy from the list \n",
    "- `$` is shorthand for extracting named elements of a list, works similary to `[[` except that you don't need to use quotes\n",
    "\n",
    "The difference between `[` and `[[` are very important for list because `[[` drills dwon into the list while `[` returns a new, smaller list.\n",
    "\n",
    "<img src=./Imagenes/List2.jpg style=\"width: 40 px;\"/>"
   ]
  },
  {
   "cell_type": "code",
   "execution_count": 11,
   "metadata": {},
   "outputs": [
    {
     "name": "stdout",
     "output_type": "stream",
     "text": [
      "List of 2\n",
      " $ a: int [1:3] 1 2 3\n",
      " $ b: chr \"a string\"\n",
      "List of 1\n",
      " $ d:List of 2\n",
      "  ..$ : num -1\n",
      "  ..$ : num -5\n"
     ]
    }
   ],
   "source": [
    "a<-list(a=1:3,b = \"a string\", c = pi, d = list(-1,-5))\n",
    "\n",
    "#first ways a list\n",
    "str(a[1:2])\n",
    "str(a[4])"
   ]
  },
  {
   "cell_type": "code",
   "execution_count": 14,
   "metadata": {},
   "outputs": [
    {
     "name": "stdout",
     "output_type": "stream",
     "text": [
      " int [1:3] 1 2 3\n",
      "List of 2\n",
      " $ : num -1\n",
      " $ : num -5\n"
     ]
    }
   ],
   "source": [
    "#second\n",
    "str(a[[1]])\n",
    "str(a[[4]])"
   ]
  },
  {
   "cell_type": "markdown",
   "metadata": {},
   "source": [
    "#### <font color='blue'> 16.7) Attributes (pag 307) </font>\n",
    "any vector can contain arbitrary additional metadata through its `attributes`, you can think these as a named list of vectors that can be attached to any object, you can get and set individual attribute values with `attr()` or see them all at once with `attributes`"
   ]
  },
  {
   "cell_type": "code",
   "execution_count": 7,
   "metadata": {},
   "outputs": [
    {
     "data": {
      "text/plain": [
       "NULL"
      ]
     },
     "metadata": {},
     "output_type": "display_data"
    },
    {
     "data": {
      "text/html": [
       "<dl>\n",
       "\t<dt>$greeting</dt>\n",
       "\t\t<dd>'Hi'</dd>\n",
       "\t<dt>$farewall</dt>\n",
       "\t\t<dd>'Bye'</dd>\n",
       "</dl>\n"
      ],
      "text/latex": [
       "\\begin{description}\n",
       "\\item[\\$greeting] 'Hi'\n",
       "\\item[\\$farewall] 'Bye'\n",
       "\\end{description}\n"
      ],
      "text/markdown": [
       "$greeting\n",
       ":   'Hi'\n",
       "$farewall\n",
       ":   'Bye'\n",
       "\n",
       "\n"
      ],
      "text/plain": [
       "$greeting\n",
       "[1] \"Hi\"\n",
       "\n",
       "$farewall\n",
       "[1] \"Bye\"\n"
      ]
     },
     "metadata": {},
     "output_type": "display_data"
    }
   ],
   "source": [
    "x<-1:10\n",
    "#trying to verify a specific attribute\n",
    "attr(x,\"greetting\")\n",
    "\n",
    "#define some attributes\n",
    "attr(x,\"greeting\")<- \"Hi\"\n",
    "attr(x,\"farewall\")<- \"Bye\"\n",
    "\n",
    "# checking all attributes\n",
    "attributes(x)"
   ]
  },
  {
   "cell_type": "markdown",
   "metadata": {},
   "source": [
    "there are 3 important attributes, which are implements in R:\n",
    "\n",
    "- **Names**, are used to name the elements of a vector\n",
    "- **Dimensions** (dims) make a vector behave like a matrix or array\n",
    "- **Class** is used to implement the S3 object-orinted system.\n",
    "\n",
    "the last controls how **generic functions** work, generic functions are key to object-oriented programming in R, because they make function behave differently for different classe of input.\n",
    "\n",
    "Here´s what a typical generic function loos like\n",
    "\n",
    "    as.Date\n",
    "    #> function (x,...)\n",
    "    #> UseMethod(\"as.Date\")\n",
    "    #>\n",
    "    #> <enviroment: namespace:base>\n",
    "    \n",
    " The call **UseMethod** means that this is a generic function, and it will cal a specific `method`, a function, base on the class of the first argument(all methods are functions, but not all function are methods), you can list all the methods for a generic function with `methods`"
   ]
  },
  {
   "cell_type": "code",
   "execution_count": 9,
   "metadata": {},
   "outputs": [
    {
     "data": {
      "text/plain": [
       "[1] as.Date.character as.Date.default   as.Date.factor    as.Date.numeric  \n",
       "[5] as.Date.POSIXct   as.Date.POSIXlt  \n",
       "see '?methods' for accessing help and source code"
      ]
     },
     "metadata": {},
     "output_type": "display_data"
    }
   ],
   "source": [
    "methods(\"as.Date\")"
   ]
  },
  {
   "cell_type": "markdown",
   "metadata": {},
   "source": [
    "for example, if x is charcater vector, `as.Date()` will call `as.Date.character()`, if it's a factor, it'll call `as.Date.factor()` you can see the specif implementation with `getS3method`"
   ]
  },
  {
   "cell_type": "code",
   "execution_count": 8,
   "metadata": {},
   "outputs": [
    {
     "data": {
      "text/html": [
       "<pre class=language-r><code>function (x, ...) \n",
       "{\n",
       "<span style=white-space:pre-wrap>    if (inherits(x, \"Date\")) </span>\n",
       "<span style=white-space:pre-wrap>        x</span>\n",
       "<span style=white-space:pre-wrap>    else if (is.logical(x) &amp;&amp; all(is.na(x))) </span>\n",
       "<span style=white-space:pre-wrap>        .Date(as.numeric(x))</span>\n",
       "<span style=white-space:pre-wrap>    else stop(gettextf(\"do not know how to convert '%s' to class %s\", </span>\n",
       "<span style=white-space:pre-wrap>        deparse(substitute(x)), dQuote(\"Date\")), domain = NA)</span>\n",
       "}</code></pre>"
      ],
      "text/latex": [
       "\\begin{minted}{r}\n",
       "function (x, ...) \n",
       "\\{\n",
       "    if (inherits(x, \"Date\")) \n",
       "        x\n",
       "    else if (is.logical(x) \\&\\& all(is.na(x))) \n",
       "        .Date(as.numeric(x))\n",
       "    else stop(gettextf(\"do not know how to convert '\\%s' to class \\%s\", \n",
       "        deparse(substitute(x)), dQuote(\"Date\")), domain = NA)\n",
       "\\}\n",
       "\\end{minted}"
      ],
      "text/markdown": [
       "```r\n",
       "function (x, ...) \n",
       "{\n",
       "    if (inherits(x, \"Date\")) \n",
       "        x\n",
       "    else if (is.logical(x) && all(is.na(x))) \n",
       "        .Date(as.numeric(x))\n",
       "    else stop(gettextf(\"do not know how to convert '%s' to class %s\", \n",
       "        deparse(substitute(x)), dQuote(\"Date\")), domain = NA)\n",
       "}\n",
       "```"
      ],
      "text/plain": [
       "function (x, ...) \n",
       "{\n",
       "    if (inherits(x, \"Date\")) \n",
       "        x\n",
       "    else if (is.logical(x) && all(is.na(x))) \n",
       "        .Date(as.numeric(x))\n",
       "    else stop(gettextf(\"do not know how to convert '%s' to class %s\", \n",
       "        deparse(substitute(x)), dQuote(\"Date\")), domain = NA)\n",
       "}\n",
       "<bytecode: 0x00000000065e22c0>\n",
       "<environment: namespace:base>"
      ]
     },
     "metadata": {},
     "output_type": "display_data"
    }
   ],
   "source": [
    "getS3method(\"as.Date\",\"default\")"
   ]
  },
  {
   "cell_type": "markdown",
   "metadata": {},
   "source": [
    "#### <font color='blue'> 16.8) Augmented Vectors (pag 309) </font>\n",
    "Atomic vector and list are the building blocks for other important vectors:\n",
    "\n",
    "1. Factors\n",
    "2. Date-times and times\n",
    "3. tibbles\n",
    "\n",
    "We'll call these `augmented vectors` because they are vectors with additional `attributes`, including **class**"
   ]
  },
  {
   "cell_type": "markdown",
   "metadata": {},
   "source": [
    "### Chapter 17- Iterarion with purrr (pag. 313)\n",
    "another tool for reducing duplication is `iteration`, you'll learn about two important iteration paradigm:\n",
    "\n",
    "- imperative programming, for loops and while loops\n",
    "- functional programming (FP), offers tools to extract out this duplicated code, so each common for loop pattern gets its own function\n",
    "\n",
    "for loops are available in base R, after, you will need the `library(purrr)`, which can be found within `tidyverse`\n",
    "\n",
    "#### <font color='blue'> 17.1) For Loops </font>\n",
    "there are some things that we need to define before to run a for loop.\n",
    "\n",
    "- It's always recommended create a variable that receive your output and it should be has enough space\n",
    "- the sequence coul be create with `seq_along`, which is a safe version of the familiar `1:lenght()`"
   ]
  },
  {
   "cell_type": "code",
   "execution_count": 2,
   "metadata": {},
   "outputs": [
    {
     "data": {
      "text/html": [
       "<ol class=list-inline>\n",
       "\t<li>-0.0638615915434089</li>\n",
       "\t<li>0.182780304475321</li>\n",
       "\t<li>0.230706111276918</li>\n",
       "\t<li>0.27138790298016</li>\n",
       "</ol>\n"
      ],
      "text/latex": [
       "\\begin{enumerate*}\n",
       "\\item -0.0638615915434089\n",
       "\\item 0.182780304475321\n",
       "\\item 0.230706111276918\n",
       "\\item 0.27138790298016\n",
       "\\end{enumerate*}\n"
      ],
      "text/markdown": [
       "1. -0.0638615915434089\n",
       "2. 0.182780304475321\n",
       "3. 0.230706111276918\n",
       "4. 0.27138790298016\n",
       "\n",
       "\n"
      ],
      "text/plain": [
       "[1] -0.06386159  0.18278030  0.23070611  0.27138790"
      ]
     },
     "metadata": {},
     "output_type": "display_data"
    }
   ],
   "source": [
    "df<- tibble(a = rnorm(10),\n",
    "           b = rnorm(10),\n",
    "           c = rnorm(10),\n",
    "           d = rnorm(10),)\n",
    "\n",
    "output<-vector(\"double\",ncol(df))\n",
    "for( i in seq_along(df)) {\n",
    "    output[[i]]<-median(df[[i]])\n",
    "}\n",
    "output"
   ]
  },
  {
   "cell_type": "code",
   "execution_count": 3,
   "metadata": {},
   "outputs": [
    {
     "data": {
      "text/html": [
       "<ol>\n",
       "\t<li>0.37398147511217</li>\n",
       "\t<li><ol class=list-inline>\n",
       "\t<li>1.4662089506716</li>\n",
       "\t<li>-0.585406993871507</li>\n",
       "\t<li>-0.81795348404879</li>\n",
       "\t<li>0.924027651964941</li>\n",
       "\t<li>0.78053415453798</li>\n",
       "\t<li>-0.175110064986372</li>\n",
       "\t<li>0.366402597367853</li>\n",
       "\t<li>0.69289768630754</li>\n",
       "</ol>\n",
       "</li>\n",
       "\t<li><ol class=list-inline>\n",
       "\t<li>3.06410446506155</li>\n",
       "\t<li>2.69314736157301</li>\n",
       "\t<li>1.48271771772369</li>\n",
       "\t<li>3.54223077885868</li>\n",
       "\t<li>2.5676983964886</li>\n",
       "\t<li>0.399613248070651</li>\n",
       "</ol>\n",
       "</li>\n",
       "</ol>\n"
      ],
      "text/latex": [
       "\\begin{enumerate}\n",
       "\\item 0.37398147511217\n",
       "\\item \\begin{enumerate*}\n",
       "\\item 1.4662089506716\n",
       "\\item -0.585406993871507\n",
       "\\item -0.81795348404879\n",
       "\\item 0.924027651964941\n",
       "\\item 0.78053415453798\n",
       "\\item -0.175110064986372\n",
       "\\item 0.366402597367853\n",
       "\\item 0.69289768630754\n",
       "\\end{enumerate*}\n",
       "\n",
       "\\item \\begin{enumerate*}\n",
       "\\item 3.06410446506155\n",
       "\\item 2.69314736157301\n",
       "\\item 1.48271771772369\n",
       "\\item 3.54223077885868\n",
       "\\item 2.5676983964886\n",
       "\\item 0.399613248070651\n",
       "\\end{enumerate*}\n",
       "\n",
       "\\end{enumerate}\n"
      ],
      "text/markdown": [
       "1. 0.37398147511217\n",
       "2. 1. 1.4662089506716\n",
       "2. -0.585406993871507\n",
       "3. -0.81795348404879\n",
       "4. 0.924027651964941\n",
       "5. 0.78053415453798\n",
       "6. -0.175110064986372\n",
       "7. 0.366402597367853\n",
       "8. 0.69289768630754\n",
       "\n",
       "\n",
       "\n",
       "3. 1. 3.06410446506155\n",
       "2. 2.69314736157301\n",
       "3. 1.48271771772369\n",
       "4. 3.54223077885868\n",
       "5. 2.5676983964886\n",
       "6. 0.399613248070651\n",
       "\n",
       "\n",
       "\n",
       "\n",
       "\n"
      ],
      "text/plain": [
       "[[1]]\n",
       "[1] 0.3739815\n",
       "\n",
       "[[2]]\n",
       "[1]  1.4662090 -0.5854070 -0.8179535  0.9240277  0.7805342 -0.1751101  0.3664026\n",
       "[8]  0.6928977\n",
       "\n",
       "[[3]]\n",
       "[1] 3.0641045 2.6931474 1.4827177 3.5422308 2.5676984 0.3996132\n"
      ]
     },
     "metadata": {},
     "output_type": "display_data"
    }
   ],
   "source": [
    "means<-c(0,1,2)\n",
    "output<- vector(\"list\",length(means))\n",
    "for (i in seq_along(means)){\n",
    "    n<-sample(10,1)\n",
    "    output[[i]]<-rnorm(n,means[[i]])\n",
    "\n",
    "}\n",
    "output"
   ]
  },
  {
   "cell_type": "markdown",
   "metadata": {},
   "source": [
    "#### <font color='blue'> 17.2) For Loops versus Functionals </font>\n",
    "for loop is not important in R like other languages, since it is a functional programming language, to show this think for a moment, that you want a program that receives a data frame and calculates a specific function as mean, median or standard deviation for each column so you write somethin like this:"
   ]
  },
  {
   "cell_type": "code",
   "execution_count": 4,
   "metadata": {},
   "outputs": [
    {
     "data": {
      "text/html": [
       "<ol class=list-inline>\n",
       "\t<li>-0.0638615915434089</li>\n",
       "\t<li>0.182780304475321</li>\n",
       "\t<li>0.230706111276918</li>\n",
       "\t<li>0.27138790298016</li>\n",
       "</ol>\n"
      ],
      "text/latex": [
       "\\begin{enumerate*}\n",
       "\\item -0.0638615915434089\n",
       "\\item 0.182780304475321\n",
       "\\item 0.230706111276918\n",
       "\\item 0.27138790298016\n",
       "\\end{enumerate*}\n"
      ],
      "text/markdown": [
       "1. -0.0638615915434089\n",
       "2. 0.182780304475321\n",
       "3. 0.230706111276918\n",
       "4. 0.27138790298016\n",
       "\n",
       "\n"
      ],
      "text/plain": [
       "[1] -0.06386159  0.18278030  0.23070611  0.27138790"
      ]
     },
     "metadata": {},
     "output_type": "display_data"
    },
    {
     "data": {
      "text/html": [
       "<ol class=list-inline>\n",
       "\t<li>-0.121614001907604</li>\n",
       "\t<li>0.389719156686129</li>\n",
       "\t<li>0.205164894416922</li>\n",
       "\t<li>0.153573980742062</li>\n",
       "</ol>\n"
      ],
      "text/latex": [
       "\\begin{enumerate*}\n",
       "\\item -0.121614001907604\n",
       "\\item 0.389719156686129\n",
       "\\item 0.205164894416922\n",
       "\\item 0.153573980742062\n",
       "\\end{enumerate*}\n"
      ],
      "text/markdown": [
       "1. -0.121614001907604\n",
       "2. 0.389719156686129\n",
       "3. 0.205164894416922\n",
       "4. 0.153573980742062\n",
       "\n",
       "\n"
      ],
      "text/plain": [
       "[1] -0.1216140  0.3897192  0.2051649  0.1535740"
      ]
     },
     "metadata": {},
     "output_type": "display_data"
    }
   ],
   "source": [
    "col_summary <- function(df,fun) {\n",
    "    out<- vector(\"double\",length(df))\n",
    "    for(i in seq_along(df)){\n",
    "        out[i]<-fun(df[[i]])\n",
    "    }\n",
    "    out\n",
    "}\n",
    "\n",
    "col_summary(df,median)\n",
    "col_summary(df,mean)"
   ]
  },
  {
   "cell_type": "markdown",
   "metadata": {},
   "source": [
    "the idea of passing a function to another function is very powerful and it´s one of the behavior that makes R a functional programming language, now you will lear about `purrr` package, wich provides functions that eliminate the need for many common for loops.\n",
    "\n",
    "Note the `apply` family of function in base R solve a similar proble but this new package is more consistent and thus is easier to learn.\n",
    "\n",
    "#### <font color='blue'> 17.3) The Map function (pag 325) </font>\n",
    "the pattern of looping over a vector, doing something to each element and saving the result is common for the family of `purrr` package, which provides a a specif function for each output.\n",
    "\n",
    "- `map()` makes a list\n",
    "- `map_lgl()` makes an logical vector\n",
    "- `map_int()` makes an integer vector\n",
    "- `map_dbl()` makes a doube vector\n",
    "- `map_chr()` makes a character vector\n",
    "\n",
    "each function takesa  vector as input, applues a function to each piecce, and then returns a new vector that´s the same length as the input, so e.g"
   ]
  },
  {
   "cell_type": "code",
   "execution_count": 5,
   "metadata": {},
   "outputs": [
    {
     "data": {
      "text/html": [
       "<dl class=dl-horizontal>\n",
       "\t<dt>a</dt>\n",
       "\t\t<dd>-0.121614001907604</dd>\n",
       "\t<dt>b</dt>\n",
       "\t\t<dd>0.389719156686129</dd>\n",
       "\t<dt>c</dt>\n",
       "\t\t<dd>0.205164894416922</dd>\n",
       "\t<dt>d</dt>\n",
       "\t\t<dd>0.153573980742062</dd>\n",
       "</dl>\n"
      ],
      "text/latex": [
       "\\begin{description*}\n",
       "\\item[a] -0.121614001907604\n",
       "\\item[b] 0.389719156686129\n",
       "\\item[c] 0.205164894416922\n",
       "\\item[d] 0.153573980742062\n",
       "\\end{description*}\n"
      ],
      "text/markdown": [
       "a\n",
       ":   -0.121614001907604b\n",
       ":   0.389719156686129c\n",
       ":   0.205164894416922d\n",
       ":   0.153573980742062\n",
       "\n"
      ],
      "text/plain": [
       "         a          b          c          d \n",
       "-0.1216140  0.3897192  0.2051649  0.1535740 "
      ]
     },
     "metadata": {},
     "output_type": "display_data"
    }
   ],
   "source": [
    "# following our example of mean, we need a double\n",
    "map_dbl(df,mean)"
   ]
  },
  {
   "cell_type": "markdown",
   "metadata": {},
   "source": [
    "there are some advantage of using the `map_*` function over a own function like `col_summary()` , how you maybe saw when we calling to `map` this takes two arguments the first a input (in this case a tibble) and a function (`.f`) the function to apply but this can be a formula, a character vector or an integer vector, other characteristic that is use `...` (pag 284) to pass along additional arguments  and finaly it preser names\n",
    "\n",
    "#### <font color='blue'> 17.4) Shortcuts pag(326) </font>\n",
    "suppose you want to apply a `lm` for each type of cylinder of the dataset `mtcars` so you will do the following"
   ]
  },
  {
   "cell_type": "code",
   "execution_count": 12,
   "metadata": {},
   "outputs": [],
   "source": [
    "lm_cyl<-mtcars %>% \n",
    "split(.$cyl) %>%\n",
    "map(function(df) lm (mpg~wt, data = df))"
   ]
  },
  {
   "cell_type": "markdown",
   "metadata": {},
   "source": [
    "the syntax to create an anonymous function is quite verbose so `purrr` provides a convenient shorcut, a one sided formula, here where are using `.` as a pronoun : it refers to the current ist elemento (in the same way that `i` referref to the current index in the for loop)"
   ]
  },
  {
   "cell_type": "code",
   "execution_count": 15,
   "metadata": {},
   "outputs": [],
   "source": [
    "models<-mtcars %>% \n",
    "split(.$cyl) %>%\n",
    "map(~ lm (mpg~wt, data = .))"
   ]
  },
  {
   "cell_type": "markdown",
   "metadata": {},
   "source": [
    "#### <font color='blue'> 17.5) Dealing with Failure pag(329) </font>\n",
    "In this chapter you will learn how to deal with faults when you are using the `map` function, to deal with that we'll use `safely()` , which takes a function and returns a modified version, which will ever throw an error, it always returb a list with two elements:\n",
    "\n",
    "- `result` the original resul and if was an error a `NULL`\n",
    "- `error` an error object, if  there is not an error, it will be `NULL`\n",
    "\n",
    "there are other funcion like `quietly` and `possibly`"
   ]
  },
  {
   "cell_type": "code",
   "execution_count": 7,
   "metadata": {},
   "outputs": [
    {
     "name": "stdout",
     "output_type": "stream",
     "text": [
      "[1] \"Withour error\"\n",
      "List of 2\n",
      " $ result: num 2.3\n",
      " $ error : NULL\n",
      "\n",
      "[1] \"With an error\"\n",
      "List of 2\n",
      " $ result: NULL\n",
      " $ error :List of 2\n",
      "  ..$ message: chr \"non-numeric argument to mathematical function\"\n",
      "  ..$ call   : language .Primitive(\"log\")(x, base)\n",
      "  ..- attr(*, \"class\")= chr [1:3] \"simpleError\" \"error\" \"condition\"\n"
     ]
    }
   ],
   "source": [
    "safe_log<-safely(log)\n",
    "print(\"Withour error\")\n",
    "str(safe_log(10))\n",
    "\n",
    "cat(\"\\n\")\n",
    "print(\"With an error\")\n",
    "str(safe_log(\"a\"))"
   ]
  },
  {
   "cell_type": "markdown",
   "metadata": {},
   "source": [
    "#### <font color='blue'> 17.6) Mapping over Multiple Arguments pag(332) </font>\n",
    "we've mapped along a single input, but often you have multiple inputs that you need to iterate along in parallel, e.g image you want to simulate somre random normal with different means so:"
   ]
  },
  {
   "cell_type": "code",
   "execution_count": 9,
   "metadata": {},
   "outputs": [
    {
     "name": "stdout",
     "output_type": "stream",
     "text": [
      "List of 3\n",
      " $ : num [1:5] 5.61 5.42 4.96 5.4 4.19\n",
      " $ : num [1:5] 9.07 10.05 8.58 10.94 9.94\n",
      " $ : num [1:5] -2.07 -4.14 -2.78 -1.37 -3.28\n"
     ]
    }
   ],
   "source": [
    "mu<-list(5,10,-3)\n",
    "map(mu, rnorm, n = 5) %>% str()"
   ]
  },
  {
   "cell_type": "markdown",
   "metadata": {},
   "source": [
    "and now imagine you want to vary the `sd`, one way to do that would be to iterate over the indices and index into vectors of means and sds:"
   ]
  },
  {
   "cell_type": "code",
   "execution_count": 17,
   "metadata": {},
   "outputs": [
    {
     "name": "stdout",
     "output_type": "stream",
     "text": [
      "List of 3\n",
      " $ : num [1:5] 5.17 5.64 4.17 2.49 3.66\n",
      " $ : num [1:5] 15.86 10.83 4.01 12.4 13.98\n",
      " $ : num [1:5] 3.01 -16.23 -22.71 -3.66 5.33\n"
     ]
    }
   ],
   "source": [
    "mu<-list(5,10,-3)\n",
    "sigma<-list(1,5,10)\n",
    "# we use [[]] to obtain a single number \n",
    "map(seq_along(mu) , ~ rnorm(5, mu[[.]], sigma[[.]] )) %>% str()"
   ]
  },
  {
   "cell_type": "markdown",
   "metadata": {},
   "source": [
    "but it's more easly using `map2`, which iterates over two vectors in parallel\n",
    "\n",
    "Note: you can imagine that if you have more vectors you coul use `map3()`, ...`map6()`, but it´s tedious, instead `purrr` provides `pmap()` which take a list of arguments, we always recommended to add name, otherwise it will use positional matching when calling the function"
   ]
  },
  {
   "cell_type": "code",
   "execution_count": 19,
   "metadata": {},
   "outputs": [
    {
     "name": "stdout",
     "output_type": "stream",
     "text": [
      "List of 3\n",
      " $ : num [1:5] 4.13 5.25 2.46 4.32 5.24\n",
      " $ : num [1:5] 15 7.61 8.79 13.55 14.65\n",
      " $ : num [1:5] -15.18 4.21 12.58 -3.42 -8.53\n"
     ]
    }
   ],
   "source": [
    "map2(mu,sigma, rnorm, n = 5) %>% str()"
   ]
  },
  {
   "cell_type": "code",
   "execution_count": 23,
   "metadata": {},
   "outputs": [
    {
     "name": "stdout",
     "output_type": "stream",
     "text": [
      "List of 3\n",
      " $ : num [1:2] 3.42 3.8\n",
      " $ : num [1:5] 8.51 6.89 7.96 13.75 17.52\n",
      " $ : num [1:10] 2.45 -30.19 -9.84 -6.31 -4.44 ...\n"
     ]
    }
   ],
   "source": [
    "n<-list(2,5,10)\n",
    "mu<-list(5,10,-3)\n",
    "sigma<-list(1,5,10)\n",
    "pmap(list(n= n, mean=mu, sd = sigma), rnorm) %>% str()"
   ]
  },
  {
   "cell_type": "markdown",
   "metadata": {},
   "source": [
    "#### <font color='blue'> 17.7) Invoking Different Fucntions pag(334) </font>\n",
    "the last step that we will see is when you want vary the function itself e.g"
   ]
  },
  {
   "cell_type": "code",
   "execution_count": 24,
   "metadata": {},
   "outputs": [
    {
     "name": "stdout",
     "output_type": "stream",
     "text": [
      "List of 3\n",
      " $ : num [1:5] -0.354 0.162 -0.967 -0.445 0.301\n",
      " $ : num [1:5] -3.98 6.87 -4.14 -2.58 -6.64\n",
      " $ : int [1:5] 8 13 6 11 8\n"
     ]
    }
   ],
   "source": [
    "# 3 functions to generate random numbers\n",
    "f<- c(\"runif\",\"rnorm\",\"rpois\")\n",
    "parm<- list (\n",
    "    list(min = -1, max = 1),\n",
    "    list(sd = 5),\n",
    "    list(lambda = 10)\n",
    ")\n",
    "\n",
    "invoke_map(f, parm, n = 5) %>% str()"
   ]
  },
  {
   "cell_type": "markdown",
   "metadata": {},
   "source": []
  },
  {
   "cell_type": "markdown",
   "metadata": {},
   "source": [
    "#### <font color='blue'> 17.1) Creating tibble </font>"
   ]
  },
  {
   "cell_type": "code",
   "execution_count": null,
   "metadata": {},
   "outputs": [],
   "source": [
    "options(repr.plot.width=10, repr.plot.height=3)\n",
    "grid.arrange(a1, a2, ncol = 2)"
   ]
  }
 ],
 "metadata": {
  "kernelspec": {
   "display_name": "R",
   "language": "R",
   "name": "ir"
  },
  "language_info": {
   "codemirror_mode": "r",
   "file_extension": ".r",
   "mimetype": "text/x-r-source",
   "name": "R",
   "pygments_lexer": "r",
   "version": "3.5.1"
  }
 },
 "nbformat": 4,
 "nbformat_minor": 2
}
