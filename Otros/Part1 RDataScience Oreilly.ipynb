{
 "cells": [
  {
   "cell_type": "markdown",
   "metadata": {},
   "source": [
    "# RDataScience Oreilly\n",
    "\n",
    "### Descripción\n",
    "Estas son los notas mas importantes que puede obtener del libro, con la finalidad de tener un resumen de los puntos mas importantes.\n",
    "\n",
    "\n",
    "### Note how can Resizing plots in the R kernel for Jupyter notebooks\n",
    "https://blog.revolutionanalytics.com/2015/09/resizing-plots-in-the-r-kernel-for-jupyter-notebooks.html\n",
    "\n",
    "    library(repr)\n",
    "\n",
    "    # Change plot size to 4 x 3\n",
    "    options(repr.plot.width=4, repr.plot.height=3)\n",
    "    \n",
    "### Note2 Generate a table \n",
    "https://www.tablesgenerator.com/markdown_tables\n",
    "\n",
    "\n",
    "### Note 3 - DataFrames"
   ]
  },
  {
   "cell_type": "code",
   "execution_count": 14,
   "metadata": {},
   "outputs": [],
   "source": [
    "library(tidyverse)\n",
    "library(ggplot2)\n",
    "#these packages provides data on flights, world development and basaball\n",
    "library(nycflights13)\n",
    "library(gapminder)\n",
    "library(Lahman)\n",
    "\n",
    "library(gridExtra) #multiple grid\n",
    "library(repr) # Change plot size to 4 x 3\n",
    "\n",
    "#other packages that need install\n",
    "#install.packages(\"nycflights13\")\n",
    "#install.packages(\"Lahman\")"
   ]
  },
  {
   "cell_type": "markdown",
   "metadata": {},
   "source": [
    "## Part 1 Explore\n",
    "\n",
    "### Chapter 1 -  Data Visualization with ggplot 2 (pag. 29)\n",
    "\n",
    "#### <font color='blue'>---First steps (pag. 3 to 16) ---</font>\n",
    "\n",
    "Basicamentes empezamos con ggplot, pues basicamente nos van a dar una introducción con herramientas que nos motiven a continuar, en general esteremos trabajando con la data disponible en `mpg` en primera instancia graficamos: "
   ]
  },
  {
   "cell_type": "code",
   "execution_count": 15,
   "metadata": {},
   "outputs": [
    {
     "data": {},
     "metadata": {},
     "output_type": "display_data"
    },
    {
     "data": {
      "image/png": "[encoded data removed]",
      "text/plain": [
       "plot without title"
      ]
     },
     "metadata": {},
     "output_type": "display_data"
    }
   ],
   "source": [
    "#ibrary(repr)\n",
    "# Change plot size to 4 x 3\n",
    "options(repr.plot.width=5, repr.plot.height=3)\n",
    "\n",
    "data(mpg)\n",
    "ggplot(data = mpg) + geom_point(aes(x = displ, y = hwy, color = drv)) + \n",
    "  ylab(\"hwl (highway mies per gallon)\") + \n",
    "  xlab(\"displ (Engine Displacement)\")"
   ]
  },
  {
   "cell_type": "markdown",
   "metadata": {},
   "source": [
    "De esta empezamos a realizar algunos cambios manuales con la finalidad de poder ver el potencia de las `geom` en R y como cada una de ellas pueden mapear o incluso filtrar lo datos entre las modificaciones destacan :\n",
    "\n",
    "  - Usar el aes en la variable global: \n",
    "`ggplot(data = mpg, aes(x = displ, y = hwy) + geom_point(color = drv))`\n",
    "  - Si se define alguna variable de manera manual por ejemplo el color esta va afuera del aes() i.e : \n",
    "`ggplot(data = mpg) + geom_point(aes(x = displ, y = hwy), color = \"blue\") + ` de lo contrario este no funcionara.\n",
    "  - podemos llamar a una función especifica de un paquete con `package()::function()` e.g `ggplo2::ggplot() or ggplot2::mpg`\n",
    "  - podemos dividir las graficas con `facetes` solomente debemos utilizar `facet_wrap()`\n",
    "  - uso de `group` muchas `geom` como `geom_smooth` usa una unica objecto geometrico  para desplegar multlipes registros, para ellos tu puedes definir un grupo `(group)` aesthetic para dibujar multiples objetos de una variable categorica \n",
    "  "
   ]
  },
  {
   "cell_type": "code",
   "execution_count": 16,
   "metadata": {},
   "outputs": [
    {
     "name": "stderr",
     "output_type": "stream",
     "text": [
      "`geom_smooth()` using method = 'loess' and formula 'y ~ x'\n",
      "`geom_smooth()` using method = 'loess' and formula 'y ~ x'\n"
     ]
    },
    {
     "data": {},
     "metadata": {},
     "output_type": "display_data"
    },
    {
     "data": {
      "image/png": "[encoded data removed]",
      "text/plain": [
       "plot without title"
      ]
     },
     "metadata": {},
     "output_type": "display_data"
    }
   ],
   "source": [
    "# Change plot size to n x m\n",
    "options(repr.plot.width=5, repr.plot.height=3)\n",
    "\n",
    "\n",
    "ggplot(data = mpg, mapping = aes(x = displ, y = hwy)) +\n",
    "  geom_point(mapping = aes(color = class)) +\n",
    "  geom_smooth(mapping = aes(x = displ, y = hwy, group = drv)) +\n",
    "  geom_smooth(\n",
    "    data = filter(mpg, class == \"subcompact\"),\n",
    "    se = FALSE\n",
    "    , color = \"red\"\n",
    "  )\n"
   ]
  },
  {
   "cell_type": "markdown",
   "metadata": {},
   "source": [
    "#### <font color='blue'>---Stastical Transformation (pag. 22) ---</font>\n",
    "\n",
    "Ahora estaremos trabajando con las estadisticas or `stat (statistical transformation)` en R las cuales son algoritmos usados para calcular nuevos valores para las graficas,puedes saber qué estadística usa una `geom` inspeccionando el valor predeterminado para la `stat` por ejemplo `?geom_bar` muestra el valor default para `stat` is `count`(contar), lo cual significa que `geom_bar` usa `stat_count()` es importante mencionar que se puede usar de manera intercambiable `geom` y `stat`.\n"
   ]
  },
  {
   "cell_type": "code",
   "execution_count": 17,
   "metadata": {},
   "outputs": [
    {
     "data": {
      "image/png": "[encoded data removed]",
      "text/plain": [
       "plot without title"
      ]
     },
     "metadata": {},
     "output_type": "display_data"
    }
   ],
   "source": [
    "#library(repr)\n",
    "# Change plot size to n x m\n",
    "\n",
    "\n",
    "data(diamonds)\n",
    "#Grafica con geom\n",
    "a1<-ggplot(diamonds, aes(x = cut)) + geom_bar() + labs(title = \"geom\")\n",
    "\n",
    "#grafica con stat\n",
    "a2<-ggplot(diamonds, aes(x = cut)) + stat_count() + labs(title = \"stats\")\n",
    "\n",
    "options(repr.plot.width=10, repr.plot.height=3)\n",
    "grid.arrange(a1, a2, ncol = 2)"
   ]
  },
  {
   "cell_type": "markdown",
   "metadata": {},
   "source": [
    "Existen 3 razanos por la cual se desea cambiar el comportamiento default que tiene `geom` in R las cuales son :\n",
    "\n",
    "1. Sobreescribir el comportamiento default de `geom`, por ejemplo cambiar en `geom_bar` de contar (default) a `identity` me permite mapear el valor puro de las barras a la variable `y`, nota si ententara  `ggplot(demo, aes(x = a, y = b)) + geom_bar()`\n",
    "2. Sobreescribir el `mapping` (asginación) default  de las variables transformadas a la estetica, por ejemplo ver la grafica en proporciones en vez de el conteo. Nota: **To find the variables computed by the stat, look for the help section\n",
    "titled “Computed variables.”**\n",
    "3. Es posible que desee llamar más la atención sobre la transformación estadística en su código, por ejemplo sumarizar sobre las variables `y` para valor unico de `x`"
   ]
  },
  {
   "cell_type": "code",
   "execution_count": 18,
   "metadata": {},
   "outputs": [
    {
     "data": {
      "image/png": "[encoded data removed]",
      "text/plain": [
       "plot without title"
      ]
     },
     "metadata": {},
     "output_type": "display_data"
    },
    {
     "data": {},
     "metadata": {},
     "output_type": "display_data"
    },
    {
     "data": {
      "image/png": "[encoded data removed]",
      "text/plain": [
       "plot without title"
      ]
     },
     "metadata": {},
     "output_type": "display_data"
    },
    {
     "data": {
      "image/png": "[encoded data removed]",
      "text/plain": [
       "plot without title"
      ]
     },
     "metadata": {},
     "output_type": "display_data"
    }
   ],
   "source": [
    "#library(repr)\n",
    "# Change plot size to n x m\n",
    "options(repr.plot.width=10, repr.plot.height=3)\n",
    "\n",
    "#Ejemplo1 \n",
    "\n",
    "demo<- tribble(~a,~b,\n",
    "               \"bar1\",20,\n",
    "               \"bar2\",30,\n",
    "               \"bar3\",40)\n",
    "default<-ggplot(demo, aes(x = b)) + geom_bar() + labs(title = \"Stat Default (count)\")\n",
    "\n",
    "identity<-ggplot(demo, aes(x = a, y = b)) + geom_bar(stat = \"identity\") + labs(title = \"Stat (identity)\")\n",
    "\n",
    "grid.arrange(default, identity, ncol = 2)\n",
    "\n",
    "#Ejemplo2 \n",
    "data(diamonds)\n",
    "a1<-ggplot(diamonds, aes(x = cut)) + geom_bar() + labs(title = \"(count)\")\n",
    "a2<-ggplot(diamonds, aes(x = cut, y = ..prop.., group = 1)) + geom_bar() + labs(title = \" (prop)\")\n",
    "\n",
    "grid.arrange(a1, a2, ncol = 2)\n",
    "\n",
    "\n",
    "#Ejemplo 3 \n",
    "\n",
    "ggplot(data = diamonds) +\n",
    "stat_summary(\n",
    "mapping = aes(x = cut, y = depth),\n",
    "fun.ymin = min,\n",
    "fun.ymax = max,\n",
    "fun.y = median\n",
    ") + labs(title = \"(stat_summary)\")"
   ]
  },
  {
   "cell_type": "markdown",
   "metadata": {},
   "source": [
    "#### <font color='blue'>---Layer: stats (Extra) ---</font>\n",
    "A handful of layers are more easily specified with a stat_ function, drawing attention to the statistical transformation rather than the visual appearance. The computed variables can be mapped using stat().\n",
    "\n",
    "`stat_ecdf()` Compute empirical cumulative distribution\n",
    "\n",
    "`stat_ellipse()` Compute normal confidence ellipses\n",
    "\n",
    "`stat_function()` Compute function for each x value\n",
    "\n",
    "`stat_identity()` Leave data as is\n",
    "\n",
    "`stat_summary_2d()` & `stat_summary_hex()` Bin and summarise in 2d (rectangle & hexagons)\n",
    "\n",
    "`stat_summary_bin()` & `stat_summary()` Summarise y values at unique/binned x\n",
    "\n",
    "`stat_unique()` Remove duplicates\n",
    "\n",
    "`stat_sf_coordinates()` Extract coordinates from 'sf' objects\n",
    "\n",
    "`stat()` Calculated aesthetics\n",
    "\n",
    "\n",
    "#### <font color='blue'>---Position Adjusments (pag. 27) ---</font>\n",
    "\n",
    "\n",
    "All layers have a position adjustment that resolves overlapping geoms. Override the default by using the position argument to the `geom_` or `stat_` function.\n",
    "\n",
    "\t\n",
    "`position_dodge()` and  `position_dodge2()` :Dodge overlapping objects side-to-side\n",
    "\n",
    "`position_identity()`: Don't adjust position\n",
    "\n",
    "`position_jitter()`: Jitter points to avoid overplotting\n",
    "\n",
    "`position_jitterdodge()`: Simultaneously dodge and jitter\n",
    "\n",
    "`position_nudge()`: Nudge points a fixed distance\n",
    "\n",
    "`position_stack()` &  `position_fill()` Stack overlapping objects on top of each another\n",
    "\n",
    "\n",
    "#### <font color='blue'>---Coordinate Systems (pag. 31) ---</font>\n",
    "\n",
    "Coordinate systems are probably the most complicated part of ggplot2. The default coordinate system is the Cartesian coordinate\n",
    "system where the x and y position act independently to find the location of each point. There are a number of other coordinate systems that are occasionally helpful:\n",
    "\n",
    "`coord_flip()` switches the x- and y-axes. This is useful (for example) if you want horizontal boxplots. It’s also useful for long labels for example.\n",
    "`coord_polar()` uses polar coordinates. Polar coordinates revealan interesting connection between a bar chart and a Coxcomb\n"
   ]
  },
  {
   "cell_type": "code",
   "execution_count": 19,
   "metadata": {},
   "outputs": [
    {
     "data": {
      "image/png": "[encoded data removed]",
      "text/plain": [
       "plot without title"
      ]
     },
     "metadata": {},
     "output_type": "display_data"
    }
   ],
   "source": [
    "#library(repr)\n",
    "# Change plot size to n x m\n",
    "options(repr.plot.width=10, repr.plot.height=3)\n",
    "\n",
    "#coord_flip()\n",
    "\n",
    "a1<-ggplot(data = mpg, mapping = aes(x = class, y = hwy)) + geom_boxplot()\n",
    "a2<-ggplot(data = mpg, mapping = aes(x = class, y = hwy)) + geom_boxplot() + coord_flip()\n",
    "\n",
    "grid.arrange(a1, a2, ncol = 2)"
   ]
  },
  {
   "cell_type": "markdown",
   "metadata": {},
   "source": [
    "### Chapter 2 -  Workflow: Basic (pag. 37)\n",
    "this chapter we only saw how variables can be declared and how they can be called, of course, some we need :\n",
    "\n",
    "    # nycflights13::flights.\n",
    "    data(flights)\n",
    "    head(flights)\n",
    " \n",
    "### Chapter 3 - Data Tranformation with dplyr (pag. 43)\n",
    "In this chapter we’re going to focus on how to use the dplyr package, another core member of the tidyverse\n",
    "\n",
    "    library(tidyverse)\n",
    "\n",
    "Take careful note of the conflicts message that’s printed when you load the tidyverse. It tells you that dplyr overwrites some functions in base R. If you want to use the base version of these functions after loading dplyr, you’ll need to use their full names: `stats::filter()` and `stats::lag()`\n",
    "\n",
    "**dplyr Basics** In this chapter you are going to learn the five key dplyr functions that allow you to solve the vast majority of your data-manipulation challenges:\n",
    "\n",
    "- Pick observations by their values (`filter()`).\n",
    "- Reorder the rows (`arrange()`).\n",
    "- Pick variables by their names (`select()`).\n",
    "- Create new variables with functions of existing variables (`mutate()`).\n",
    "- Collapse many values down to a single summary (`summarize()`).   \n",
    "    \n",
    "These can all be used in conjunction with `group_by()`, which changes the scope of each function from operating on the entire dataset to operating on it group-by-group.\n",
    "\n",
    "#### <font color='blue'>---Missing Values (Extra) ---</font>\n",
    "\n",
    "One important feature of R that can make comparison tricky is missing values, or NAs (“not availables”). NA represents an unknown value so missing values are “contagious”; If you want to determine if a value is missing, use is.na():"
   ]
  },
  {
   "cell_type": "code",
   "execution_count": 20,
   "metadata": {},
   "outputs": [
    {
     "data": {
      "text/html": [
       "<ol class=list-inline>\n",
       "\t<li>FALSE</li>\n",
       "\t<li>FALSE</li>\n",
       "\t<li>TRUE</li>\n",
       "\t<li>FALSE</li>\n",
       "\t<li>FALSE</li>\n",
       "</ol>\n"
      ],
      "text/latex": [
       "\\begin{enumerate*}\n",
       "\\item FALSE\n",
       "\\item FALSE\n",
       "\\item TRUE\n",
       "\\item FALSE\n",
       "\\item FALSE\n",
       "\\end{enumerate*}\n"
      ],
      "text/markdown": [
       "1. FALSE\n",
       "2. FALSE\n",
       "3. TRUE\n",
       "4. FALSE\n",
       "5. FALSE\n",
       "\n",
       "\n"
      ],
      "text/plain": [
       "[1] FALSE FALSE  TRUE FALSE FALSE"
      ]
     },
     "metadata": {},
     "output_type": "display_data"
    }
   ],
   "source": [
    "array_NA<-c(1,2,NA,3,5)\n",
    "is.na(array_NA)"
   ]
  },
  {
   "cell_type": "markdown",
   "metadata": {},
   "source": [
    "#### <font color='blue'>---Arrange Rows with arrange() (pag. 50 ) ---</font>\n",
    "arrange() works similarly to filter() except that instead of selecting rows, it changes their order. It takes a data frame and a set of column names (or more complicated expressions) to order by. If you provide more than one column name, each additional column will be used to break ties in the values of preceding columns:\n",
    "\n",
    "    arrange(flights, year, month, day)\n",
    "    \n",
    "Use `desc()` to reorder by a column in descending order:\n",
    "\n",
    "    arrange(flights, desc(arr_delay))\n",
    "    \n",
    "**Note**: Missing values are always sorted at the end\n",
    "\n",
    "\n",
    "#### <font color='blue'>---Grouped Summaries with summarize(pag. 59)) ---</font>\n",
    "The last key verb is summarize(). It collapses a data frame to a single row:\n",
    "\n",
    "    summarize(flights, delay = mean(dep_delay, na.rm = TRUE))\n",
    "    \n",
    "summarize() is not terribly useful unless we pair it with group_by(). This changes the unit of analysis from the complete dataset to individual groups.\n",
    "\n",
    "    by_day <- group_by(flights, year, month, day)\n",
    "    summarize(by_day, delay = mean(dep_delay, na.rm = TRUE))\n",
    "\n",
    "#### <font color='blue'>---Combining Multiple Operations with the Pipe(Extra) ---</font>\n",
    "Behind the scenes, `x %>% f(y)` turns into `f(x, y)`, and `x %>% f(y) %>% g(z)` turns into `g(f(x, y), z)`, and so on. You can use the pipe to rewrite multiple operations in a way that you can read left-toright, top-to-bottom.\n",
    "\n",
    "\n",
    "#### <font color='blue'>---Ungrouping (Extra) ---</font>\n",
    "If you need to remove grouping, and return to operations on ungrouped data, use ungroup():\n",
    "\n",
    "    daily %>%\n",
    "    ungroup() %>% # no longer grouped by date\n",
    "    summarize(flights = n()) # all flights\n",
    "    "
   ]
  },
  {
   "cell_type": "markdown",
   "metadata": {},
   "source": [
    "### Chapter 4 - Script (pag. 77) \n",
    "\n",
    "### Chapter 5 -  Exploratory Data Analysis (EDA) (pag. 81)\n",
    "\n",
    "#### <font color='blue'>---Variation(pag. 83)) ---</font>\n",
    "*Variation* is the tendency of the values of a variable to change from measurement to measurement.\n",
    "\n",
    "#### <font color='blue'>---Visualizing Distributions(Extra)) ---</font>\n",
    "How you visualize the distribution of a variable will depend on whether the variable is \n",
    "\n",
    "- **Categorical**, use barchart\n",
    "- **Continuous**, \n",
    "    - use a histogram\n",
    "    - If you wish to overlay multiple histograms in the same plot, I recommend using `geom_freqpoly()` instead of `geom_histogram()`. geom_freqpoly() performs the same calculation as geom_histo gram(), but instead of displaying the counts with bars, uses lines instead."
   ]
  },
  {
   "cell_type": "code",
   "execution_count": 21,
   "metadata": {},
   "outputs": [
    {
     "data": {
      "text/html": [
       "<table>\n",
       "<thead><tr><th scope=col>cut</th><th scope=col>n</th></tr></thead>\n",
       "<tbody>\n",
       "\t<tr><td>Fair     </td><td> 1610    </td></tr>\n",
       "\t<tr><td>Good     </td><td> 4906    </td></tr>\n",
       "\t<tr><td>Very Good</td><td>12082    </td></tr>\n",
       "\t<tr><td>Premium  </td><td>13791    </td></tr>\n",
       "\t<tr><td>Ideal    </td><td>21551    </td></tr>\n",
       "</tbody>\n",
       "</table>\n"
      ],
      "text/latex": [
       "\\begin{tabular}{r|ll}\n",
       " cut & n\\\\\n",
       "\\hline\n",
       "\t Fair      &  1610    \\\\\n",
       "\t Good      &  4906    \\\\\n",
       "\t Very Good & 12082    \\\\\n",
       "\t Premium   & 13791    \\\\\n",
       "\t Ideal     & 21551    \\\\\n",
       "\\end{tabular}\n"
      ],
      "text/markdown": [
       "\n",
       "cut | n | \n",
       "|---|---|---|---|---|\n",
       "| Fair      |  1610     | \n",
       "| Good      |  4906     | \n",
       "| Very Good | 12082     | \n",
       "| Premium   | 13791     | \n",
       "| Ideal     | 21551     | \n",
       "\n",
       "\n"
      ],
      "text/plain": [
       "  cut       n    \n",
       "1 Fair       1610\n",
       "2 Good       4906\n",
       "3 Very Good 12082\n",
       "4 Premium   13791\n",
       "5 Ideal     21551"
      ]
     },
     "metadata": {},
     "output_type": "display_data"
    },
    {
     "data": {
      "text/html": [
       "<table>\n",
       "<thead><tr><th scope=col>cut_width(carat, 0.5)</th><th scope=col>n</th></tr></thead>\n",
       "<tbody>\n",
       "\t<tr><td>[-0.25,0.25]</td><td>  785       </td></tr>\n",
       "\t<tr><td>(0.25,0.75] </td><td>29498       </td></tr>\n",
       "\t<tr><td>(0.75,1.25] </td><td>15977       </td></tr>\n",
       "\t<tr><td>(1.25,1.75] </td><td> 5313       </td></tr>\n",
       "\t<tr><td>(1.75,2.25] </td><td> 2002       </td></tr>\n",
       "\t<tr><td>(2.25,2.75] </td><td>  322       </td></tr>\n",
       "\t<tr><td>(2.75,3.25] </td><td>   32       </td></tr>\n",
       "\t<tr><td>(3.25,3.75] </td><td>    5       </td></tr>\n",
       "\t<tr><td>(3.75,4.25] </td><td>    4       </td></tr>\n",
       "\t<tr><td>(4.25,4.75] </td><td>    1       </td></tr>\n",
       "\t<tr><td>(4.75,5.25] </td><td>    1       </td></tr>\n",
       "</tbody>\n",
       "</table>\n"
      ],
      "text/latex": [
       "\\begin{tabular}{r|ll}\n",
       " cut\\_width(carat, 0.5) & n\\\\\n",
       "\\hline\n",
       "\t {[}-0.25,0.25{]} &   785           \\\\\n",
       "\t (0.25,0.75{]}  & 29498         \\\\\n",
       "\t (0.75,1.25{]}  & 15977         \\\\\n",
       "\t (1.25,1.75{]}  &  5313         \\\\\n",
       "\t (1.75,2.25{]}  &  2002         \\\\\n",
       "\t (2.25,2.75{]}  &   322         \\\\\n",
       "\t (2.75,3.25{]}  &    32         \\\\\n",
       "\t (3.25,3.75{]}  &     5         \\\\\n",
       "\t (3.75,4.25{]}  &     4         \\\\\n",
       "\t (4.25,4.75{]}  &     1         \\\\\n",
       "\t (4.75,5.25{]}  &     1         \\\\\n",
       "\\end{tabular}\n"
      ],
      "text/markdown": [
       "\n",
       "cut_width(carat, 0.5) | n | \n",
       "|---|---|---|---|---|---|---|---|---|---|---|\n",
       "| [-0.25,0.25] |   785        | \n",
       "| (0.25,0.75]  | 29498        | \n",
       "| (0.75,1.25]  | 15977        | \n",
       "| (1.25,1.75]  |  5313        | \n",
       "| (1.75,2.25]  |  2002        | \n",
       "| (2.25,2.75]  |   322        | \n",
       "| (2.75,3.25]  |    32        | \n",
       "| (3.25,3.75]  |     5        | \n",
       "| (3.75,4.25]  |     4        | \n",
       "| (4.25,4.75]  |     1        | \n",
       "| (4.75,5.25]  |     1        | \n",
       "\n",
       "\n"
      ],
      "text/plain": [
       "   cut_width(carat, 0.5) n    \n",
       "1  [-0.25,0.25]            785\n",
       "2  (0.25,0.75]           29498\n",
       "3  (0.75,1.25]           15977\n",
       "4  (1.25,1.75]            5313\n",
       "5  (1.75,2.25]            2002\n",
       "6  (2.25,2.75]             322\n",
       "7  (2.75,3.25]              32\n",
       "8  (3.25,3.75]               5\n",
       "9  (3.75,4.25]               4\n",
       "10 (4.25,4.75]               1\n",
       "11 (4.75,5.25]               1"
      ]
     },
     "metadata": {},
     "output_type": "display_data"
    },
    {
     "data": {
      "image/png": "[encoded data removed]",
      "text/plain": [
       "plot without title"
      ]
     },
     "metadata": {},
     "output_type": "display_data"
    }
   ],
   "source": [
    "data(\"diamonds\")\n",
    "\n",
    "#Categorical Variable\n",
    "a1<-ggplot(diamonds, aes(x = cut)) + geom_bar() + \n",
    "labs(title = \"Categorical Variable (geom_bar)\" , \n",
    "     caption = \"You can compute these values manually with diamonds %>% count(cut)\")\n",
    "\n",
    "#You can compute these values manually with dplyr::count():\n",
    "diamonds %>% count(cut)\n",
    "\n",
    "\n",
    "#Continuous Variable\n",
    "a2<-ggplot(diamonds, aes(x = carat)) + geom_histogram(binwidth = .5) + \n",
    "labs(title = \"Continuous Variable (geom_hist)\" , \n",
    "     caption = \"You can compute these values manually with count(cut_width(carat, 0.5))\" )\n",
    "\n",
    "#You can compute this by hand by combining dplyr::count() and ggplot2::cut_width():\n",
    "diamonds %>% count(cut_width(carat, 0.5))\n",
    "\n",
    "\n",
    "\n",
    "\n",
    "#multiples Continuous Variable\n",
    "smaller <- diamonds %>% filter(carat < 3)\n",
    "a3<-ggplot(data = smaller, mapping = aes(x = carat, color = cut)) + geom_freqpoly(binwidth = 0.1) + \n",
    "labs(title = \"Multiples Continuous Variable (geom_freqpoly)\")\n",
    "\n",
    "\n",
    "\n",
    "options(repr.plot.width=10, repr.plot.height=8)\n",
    "grid.arrange(a1, a2, a3, ncol = 2)"
   ]
  },
  {
   "cell_type": "markdown",
   "metadata": {},
   "source": [
    "#### <font color='blue'>---Covariation (pag. 93 )) ---</font>\n",
    "\n",
    "If variation describes the behavior within a variable, covariation describes the behavior between variables. Covariation is the tendency for the values of two or more variables to vary together in a related way.The best way to spot covariation is to visualize the relationship between two or more variables. How you do that should again depend on the type of variables involved.\n",
    "\n",
    "#### <font color='blue'>--- A Categorical and Continuous Variable (Extra)) ---</font> \n",
    "- `geom_freqpoly()` but Instead of displaying count, we’ll display density, which is the count standardized so that the area under each frequency polygon is one\n",
    "- A `boxplots` a type of visual shorthand for a distribution of values that is popular among statisticians\n",
    "\n",
    "but sometime it's hard to see some patterns,so we will recommend sort out data, in the second example we will use `reorder()` and if you have problem with the `x` label's names, you can flip 90°\n"
   ]
  },
  {
   "cell_type": "code",
   "execution_count": 26,
   "metadata": {},
   "outputs": [
    {
     "data": {
      "image/png": "[encoded data removed]",
      "text/plain": [
       "plot without title"
      ]
     },
     "metadata": {},
     "output_type": "display_data"
    }
   ],
   "source": [
    "\n",
    "a1<-ggplot(data = diamonds,mapping = aes(x = price, y = ..density..)) +\n",
    "geom_freqpoly(mapping = aes(color = cut), binwidth = 500)\n",
    "\n",
    "a2<-ggplot(data = mpg, mapping = aes(x = class, y = hwy)) + geom_boxplot()\n",
    "\n",
    "a3<-ggplot(data = mpg) + geom_boxplot(mapping = aes(x = reorder(class, hwy, FUN = median), \n",
    "                                                    y = hwy)\n",
    "                                     )\n",
    "\n",
    "options(repr.plot.width=15, repr.plot.height=3)\n",
    "grid.arrange(a1, a2,a3, nrow = 1)\n"
   ]
  },
  {
   "cell_type": "markdown",
   "metadata": {},
   "source": [
    "#### <font color='blue'>--- Two Categorical Variables (Extra) ---</font>  \n",
    "To visualize the covariation between categorical variables, you’ll need to count the number of observations for each combination. One way to do that is to rely on the built-in `geom_count()` but Another approach is to compute the `count` with dplyr and visualize with geom_tile() and the fill aesthetic e.g \n"
   ]
  },
  {
   "cell_type": "code",
   "execution_count": 23,
   "metadata": {},
   "outputs": [
    {
     "data": {
      "text/html": [
       "<table>\n",
       "<thead><tr><th scope=col>color</th><th scope=col>cut</th><th scope=col>n</th></tr></thead>\n",
       "<tbody>\n",
       "\t<tr><td>D        </td><td>Fair     </td><td> 163     </td></tr>\n",
       "\t<tr><td>D        </td><td>Good     </td><td> 662     </td></tr>\n",
       "\t<tr><td>D        </td><td>Very Good</td><td>1513     </td></tr>\n",
       "\t<tr><td>D        </td><td>Premium  </td><td>1603     </td></tr>\n",
       "\t<tr><td>D        </td><td>Ideal    </td><td>2834     </td></tr>\n",
       "\t<tr><td>E        </td><td>Fair     </td><td> 224     </td></tr>\n",
       "</tbody>\n",
       "</table>\n"
      ],
      "text/latex": [
       "\\begin{tabular}{r|lll}\n",
       " color & cut & n\\\\\n",
       "\\hline\n",
       "\t D         & Fair      &  163     \\\\\n",
       "\t D         & Good      &  662     \\\\\n",
       "\t D         & Very Good & 1513     \\\\\n",
       "\t D         & Premium   & 1603     \\\\\n",
       "\t D         & Ideal     & 2834     \\\\\n",
       "\t E         & Fair      &  224     \\\\\n",
       "\\end{tabular}\n"
      ],
      "text/markdown": [
       "\n",
       "color | cut | n | \n",
       "|---|---|---|---|---|---|\n",
       "| D         | Fair      |  163      | \n",
       "| D         | Good      |  662      | \n",
       "| D         | Very Good | 1513      | \n",
       "| D         | Premium   | 1603      | \n",
       "| D         | Ideal     | 2834      | \n",
       "| E         | Fair      |  224      | \n",
       "\n",
       "\n"
      ],
      "text/plain": [
       "  color cut       n   \n",
       "1 D     Fair       163\n",
       "2 D     Good       662\n",
       "3 D     Very Good 1513\n",
       "4 D     Premium   1603\n",
       "5 D     Ideal     2834\n",
       "6 E     Fair       224"
      ]
     },
     "metadata": {},
     "output_type": "display_data"
    },
    {
     "data": {},
     "metadata": {},
     "output_type": "display_data"
    },
    {
     "data": {
      "image/png": "[encoded data removed]",
      "text/plain": [
       "plot without title"
      ]
     },
     "metadata": {},
     "output_type": "display_data"
    }
   ],
   "source": [
    "options(repr.plot.width=5, repr.plot.height=3)\n",
    "\n",
    "head (diamonds %>% count(color, cut)) \n",
    "\n",
    "diamonds %>% count(color, cut) %>% ggplot(mapping = aes(x = color, y = cut)) + \n",
    "geom_tile(mapping = aes(fill = n))\n",
    "\n"
   ]
  },
  {
   "cell_type": "markdown",
   "metadata": {},
   "source": [
    "#### <font color='blue'>--- Two Continuous Variables (Extra) ---</font>  \n",
    "You’ve already seen one great way to visualize the covariation between two continuous variables: draw a scatterplot with `geom_point()`."
   ]
  },
  {
   "cell_type": "markdown",
   "metadata": {},
   "source": [
    "### Chapter 6 - Workflow: Projects (pag. 111)\n",
    "\n",
    "#### <font color='blue'> --- Recommendations --- </font>\n",
    "\n",
    "We recommend that your RStudio not to preserve your workspace between session to do that you need `Options/R General/Restore .RData on exit = Never`\n",
    "\n",
    "you need memorize some instructions very important\n",
    "\n",
    "- `getwd` : current direcotory\n",
    "- `setwd` : change or define new directory\n",
    "- **Paths** Mac and Linux use slashes (e.g., `plots/diamonds.pdf`) and Windows uses backslashes (e.g., `plots\\diamonds.pdf`). R can work with either type (no matter what platform you’re currently using), but unfortunately, **backslashes** mean something special to R, and to get a single backslash in the path, you need to type **two backslashes**\n",
    "- The last minor difference is the place that `~` points to `.~` is a convenient shortcut to your home directory.\n"
   ]
  },
  {
   "cell_type": "code",
   "execution_count": null,
   "metadata": {},
   "outputs": [],
   "source": []
  },
  {
   "cell_type": "code",
   "execution_count": null,
   "metadata": {},
   "outputs": [],
   "source": []
  },
  {
   "cell_type": "code",
   "execution_count": null,
   "metadata": {},
   "outputs": [],
   "source": []
  }
 ],
 "metadata": {
  "kernelspec": {
   "display_name": "R",
   "language": "R",
   "name": "ir"
  },
  "language_info": {
   "codemirror_mode": "r",
   "file_extension": ".r",
   "mimetype": "text/x-r-source",
   "name": "R",
   "pygments_lexer": "r",
   "version": "3.5.1"
  }
 },
 "nbformat": 4,
 "nbformat_minor": 2
}
