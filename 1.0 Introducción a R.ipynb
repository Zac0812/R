{
 "cells": [
  {
   "cell_type": "markdown",
   "metadata": {},
   "source": [
    "# Introducción a la programación en R\n"
   ]
  },
  {
   "cell_type": "code",
   "execution_count": 2,
   "metadata": {},
   "outputs": [
    {
     "data": {
      "text/html": [
       "2"
      ],
      "text/latex": [
       "2"
      ],
      "text/markdown": [
       "2"
      ],
      "text/plain": [
       "[1] 2"
      ]
     },
     "metadata": {},
     "output_type": "display_data"
    }
   ],
   "source": [
    "# Declaración de Variables & Comentarios \n",
    "a<-2\n",
    "b<-3\n",
    "a"
   ]
  },
  {
   "cell_type": "code",
   "execution_count": 1,
   "metadata": {},
   "outputs": [
    {
     "data": {
      "text/html": [],
      "text/latex": [],
      "text/markdown": [],
      "text/plain": [
       "character(0)"
      ]
     },
     "metadata": {},
     "output_type": "display_data"
    }
   ],
   "source": [
    "#Para ver las variables almacenadas en my WorkSpaces utilizamos\n",
    "ls()"
   ]
  },
  {
   "cell_type": "code",
   "execution_count": 6,
   "metadata": {},
   "outputs": [
    {
     "data": {
      "text/html": [
       "'b'"
      ],
      "text/latex": [
       "'b'"
      ],
      "text/markdown": [
       "'b'"
      ],
      "text/plain": [
       "[1] \"b\""
      ]
     },
     "metadata": {},
     "output_type": "display_data"
    }
   ],
   "source": [
    "#Remover del WorkSpace\n",
    "rm(a)\n",
    "ls()"
   ]
  },
  {
   "cell_type": "markdown",
   "metadata": {},
   "source": [
    "## Tipo de Datos\n",
    "\n",
    "Muchas veces llamados \"atomic vector types\"  entre las clases mas utilizadas tenemos :\n",
    "\n",
    "* Lógicas, aceptan los valores TRUE (T) and FALSE (F) , tambien el NA\n",
    "* Númericos, los datos \"Intege\"r son un tipo de dato númerico y debe ser especificado con la letra \"L\" ejm 25L de lo contrario sera almacenado como un tipo numerico\n",
    "\n",
    "Nota: Todo entero es un dato númerico, sin embargo no todo númerico es entero\n",
    "* Caracter, los cuales son especficados entre comillas dobles \"Text \"\n",
    "* Dobles, de alta prescición\n",
    "* Complejos, números complejos\n",
    "* Raw, almacena filas de byte\n",
    "\n",
    "Asi mismo es importante mencionar que existe funciones que nos permiten determinar si una variable es de cierto tipo, dichas funciones son llamadas \"is-dot function\" por ejemplos is.numeric(2)"
   ]
  },
  {
   "cell_type": "code",
   "execution_count": 12,
   "metadata": {},
   "outputs": [
    {
     "data": {
      "text/html": [
       "'logical'"
      ],
      "text/latex": [
       "'logical'"
      ],
      "text/markdown": [
       "'logical'"
      ],
      "text/plain": [
       "[1] \"logical\""
      ]
     },
     "metadata": {},
     "output_type": "display_data"
    },
    {
     "data": {
      "text/html": [
       "TRUE"
      ],
      "text/latex": [
       "TRUE"
      ],
      "text/markdown": [
       "TRUE"
      ],
      "text/plain": [
       "[1] TRUE"
      ]
     },
     "metadata": {},
     "output_type": "display_data"
    }
   ],
   "source": [
    "#La función class no permite saber que tipo variable es \n",
    "class(NA)\n",
    "is.numeric(2)"
   ]
  },
  {
   "cell_type": "markdown",
   "metadata": {},
   "source": [
    "## Coerción\n",
    "\n",
    "Es coercionar un tipo de datos a otros, atravez de algunas funciones"
   ]
  },
  {
   "cell_type": "code",
   "execution_count": 11,
   "metadata": {},
   "outputs": [
    {
     "data": {
      "text/html": [
       "1"
      ],
      "text/latex": [
       "1"
      ],
      "text/markdown": [
       "1"
      ],
      "text/plain": [
       "[1] 1"
      ]
     },
     "metadata": {},
     "output_type": "display_data"
    },
    {
     "data": {
      "text/html": [
       "'4'"
      ],
      "text/latex": [
       "'4'"
      ],
      "text/markdown": [
       "'4'"
      ],
      "text/plain": [
       "[1] \"4\""
      ]
     },
     "metadata": {},
     "output_type": "display_data"
    },
    {
     "data": {
      "text/html": [
       "4.5"
      ],
      "text/latex": [
       "4.5"
      ],
      "text/markdown": [
       "4.5"
      ],
      "text/plain": [
       "[1] 4.5"
      ]
     },
     "metadata": {},
     "output_type": "display_data"
    },
    {
     "data": {
      "text/html": [
       "4"
      ],
      "text/latex": [
       "4"
      ],
      "text/markdown": [
       "4"
      ],
      "text/plain": [
       "[1] 4"
      ]
     },
     "metadata": {},
     "output_type": "display_data"
    }
   ],
   "source": [
    "as.numeric(TRUE)\n",
    "as.character(4)\n",
    "as.numeric(\"4.5\")\n",
    "as.integer(\"4.5\")"
   ]
  },
  {
   "cell_type": "markdown",
   "metadata": {
    "collapsed": true
   },
   "source": [
    "## Vectos\n",
    "\n",
    "* Es una secuencia de datos, que tiene el mismo tipo de dato\n",
    "* Usando la función c() podemos crear un vector, el cual unira todo el conjunto de elementos en listados\n",
    "* Los vectores tiene la propiedad de etiqueta (labels), muchas veces usamos la función names()\n",
    "* Otra función que estaremo usando es es str() que permite ver la estructura de los objetos en R\n",
    "* Los vectores son muy importantes en R, pues al final y acabo veremos que los tipos de datos atomicos, son vectores de logitud 1"
   ]
  },
  {
   "cell_type": "code",
   "execution_count": 4,
   "metadata": {},
   "outputs": [
    {
     "data": {
      "text/html": [
       "<ol class=list-inline>\n",
       "\t<li>'Luis'</li>\n",
       "\t<li>'Jose'</li>\n",
       "\t<li>'Alberto'</li>\n",
       "\t<li>'Francisco'</li>\n",
       "</ol>\n"
      ],
      "text/latex": [
       "\\begin{enumerate*}\n",
       "\\item 'Luis'\n",
       "\\item 'Jose'\n",
       "\\item 'Alberto'\n",
       "\\item 'Francisco'\n",
       "\\end{enumerate*}\n"
      ],
      "text/markdown": [
       "1. 'Luis'\n",
       "2. 'Jose'\n",
       "3. 'Alberto'\n",
       "4. 'Francisco'\n",
       "\n",
       "\n"
      ],
      "text/plain": [
       "[1] \"Luis\"      \"Jose\"      \"Alberto\"   \"Francisco\""
      ]
     },
     "metadata": {},
     "output_type": "display_data"
    },
    {
     "data": {
      "text/html": [
       "<ol class=list-inline>\n",
       "\t<li>30</li>\n",
       "\t<li>28</li>\n",
       "\t<li>35</li>\n",
       "\t<li>50</li>\n",
       "</ol>\n"
      ],
      "text/latex": [
       "\\begin{enumerate*}\n",
       "\\item 30\n",
       "\\item 28\n",
       "\\item 35\n",
       "\\item 50\n",
       "\\end{enumerate*}\n"
      ],
      "text/markdown": [
       "1. 30\n",
       "2. 28\n",
       "3. 35\n",
       "4. 50\n",
       "\n",
       "\n"
      ],
      "text/plain": [
       "[1] 30 28 35 50"
      ]
     },
     "metadata": {},
     "output_type": "display_data"
    },
    {
     "data": {
      "text/html": [
       "'character'"
      ],
      "text/latex": [
       "'character'"
      ],
      "text/markdown": [
       "'character'"
      ],
      "text/plain": [
       "[1] \"character\""
      ]
     },
     "metadata": {},
     "output_type": "display_data"
    },
    {
     "data": {
      "text/html": [
       "TRUE"
      ],
      "text/latex": [
       "TRUE"
      ],
      "text/markdown": [
       "TRUE"
      ],
      "text/plain": [
       "[1] TRUE"
      ]
     },
     "metadata": {},
     "output_type": "display_data"
    },
    {
     "data": {
      "text/html": [
       "<dl class=dl-horizontal>\n",
       "\t<dt>Luis</dt>\n",
       "\t\t<dd>30</dd>\n",
       "\t<dt>Jose</dt>\n",
       "\t\t<dd>28</dd>\n",
       "\t<dt>Alberto</dt>\n",
       "\t\t<dd>35</dd>\n",
       "\t<dt>Francisco</dt>\n",
       "\t\t<dd>50</dd>\n",
       "</dl>\n"
      ],
      "text/latex": [
       "\\begin{description*}\n",
       "\\item[Luis] 30\n",
       "\\item[Jose] 28\n",
       "\\item[Alberto] 35\n",
       "\\item[Francisco] 50\n",
       "\\end{description*}\n"
      ],
      "text/markdown": [
       "Luis\n",
       ":   30Jose\n",
       ":   28Alberto\n",
       ":   35Francisco\n",
       ":   50\n",
       "\n"
      ],
      "text/plain": [
       "     Luis      Jose   Alberto Francisco \n",
       "       30        28        35        50 "
      ]
     },
     "metadata": {},
     "output_type": "display_data"
    },
    {
     "data": {
      "text/html": [
       "<dl class=dl-horizontal>\n",
       "\t<dt>Henry</dt>\n",
       "\t\t<dd>25</dd>\n",
       "\t<dt>Miam</dt>\n",
       "\t\t<dd>26</dd>\n",
       "</dl>\n"
      ],
      "text/latex": [
       "\\begin{description*}\n",
       "\\item[Henry] 25\n",
       "\\item[Miam] 26\n",
       "\\end{description*}\n"
      ],
      "text/markdown": [
       "Henry\n",
       ":   25Miam\n",
       ":   26\n",
       "\n"
      ],
      "text/plain": [
       "Henry  Miam \n",
       "   25    26 "
      ]
     },
     "metadata": {},
     "output_type": "display_data"
    },
    {
     "data": {
      "text/html": [
       "<dl class=dl-horizontal>\n",
       "\t<dt>Pamela</dt>\n",
       "\t\t<dd>28</dd>\n",
       "\t<dt>Katia</dt>\n",
       "\t\t<dd>60</dd>\n",
       "</dl>\n"
      ],
      "text/latex": [
       "\\begin{description*}\n",
       "\\item[Pamela] 28\n",
       "\\item[Katia] 60\n",
       "\\end{description*}\n"
      ],
      "text/markdown": [
       "Pamela\n",
       ":   28Katia\n",
       ":   60\n",
       "\n"
      ],
      "text/plain": [
       "Pamela  Katia \n",
       "    28     60 "
      ]
     },
     "metadata": {},
     "output_type": "display_data"
    }
   ],
   "source": [
    "#Creación de vectores\n",
    "nombres<-c(\"Luis\",\"Jose\",\"Alberto\",\"Francisco\")\n",
    "edades<-c(30,28,35,50)\n",
    "nombres\n",
    "edades\n",
    "#Ver el tipo de datos\n",
    "class(nombres)\n",
    "#Validar si es un tipo de dato vector\n",
    "is.vector(edades)\n",
    "#Asginación de etiquetas\n",
    "names(edades)<-nombres\n",
    "edades\n",
    "\n",
    "#Sin Embargo tenemos otras formas de definor una vectos\n",
    "names2<-c(Henry=25,Miam=26)\n",
    "names3<-c(\"Pamela\"=28,\"Katia\"=60)\n",
    "names2\n",
    "names3"
   ]
  },
  {
   "cell_type": "code",
   "execution_count": 8,
   "metadata": {},
   "outputs": [
    {
     "name": "stdout",
     "output_type": "stream",
     "text": [
      " Named num [1:2] 25 26\n",
      " - attr(*, \"names\")= chr [1:2] \"Henry\" \"Miam\"\n"
     ]
    },
    {
     "data": {
      "text/html": [
       "TRUE"
      ],
      "text/latex": [
       "TRUE"
      ],
      "text/markdown": [
       "TRUE"
      ],
      "text/plain": [
       "[1] TRUE"
      ]
     },
     "metadata": {},
     "output_type": "display_data"
    },
    {
     "data": {
      "text/html": [
       "1"
      ],
      "text/latex": [
       "1"
      ],
      "text/markdown": [
       "1"
      ],
      "text/plain": [
       "[1] 1"
      ]
     },
     "metadata": {},
     "output_type": "display_data"
    }
   ],
   "source": [
    "str(names2)\n",
    "#Veremos que los objetos son vectores de longitud 1\n",
    "a<-5\n",
    "is.vector(a)\n",
    "length(a)"
   ]
  },
  {
   "cell_type": "markdown",
   "metadata": {},
   "source": [
    "## Operaciones con Vectores\n",
    "\n",
    "* Operaciones Aritmeticas (Nota: Solo tener en cuenta que se realizan elemento por elemento)\n",
    "* Podemos ralizar operaciones entre vectores & escalares\n",
    "* Asi mismo operar entre vectores con suma,resta,multiplicación & división (Nota: Multiplicación & división no funciona como las operaciones matriciales, donde el resultado es un escalar."
   ]
  },
  {
   "cell_type": "code",
   "execution_count": 10,
   "metadata": {},
   "outputs": [
    {
     "data": {
      "text/html": [
       "<ol class=list-inline>\n",
       "\t<li>20</li>\n",
       "\t<li>100</li>\n",
       "\t<li>300</li>\n",
       "</ol>\n"
      ],
      "text/latex": [
       "\\begin{enumerate*}\n",
       "\\item 20\n",
       "\\item 100\n",
       "\\item 300\n",
       "\\end{enumerate*}\n"
      ],
      "text/markdown": [
       "1. 20\n",
       "2. 100\n",
       "3. 300\n",
       "\n",
       "\n"
      ],
      "text/plain": [
       "[1]  20 100 300"
      ]
     },
     "metadata": {},
     "output_type": "display_data"
    },
    {
     "data": {
      "text/html": [
       "<ol class=list-inline>\n",
       "\t<li>3.33333333333333</li>\n",
       "\t<li>16.6666666666667</li>\n",
       "\t<li>50</li>\n",
       "</ol>\n"
      ],
      "text/latex": [
       "\\begin{enumerate*}\n",
       "\\item 3.33333333333333\n",
       "\\item 16.6666666666667\n",
       "\\item 50\n",
       "\\end{enumerate*}\n"
      ],
      "text/markdown": [
       "1. 3.33333333333333\n",
       "2. 16.6666666666667\n",
       "3. 50\n",
       "\n",
       "\n"
      ],
      "text/plain": [
       "[1]  3.333333 16.666667 50.000000"
      ]
     },
     "metadata": {},
     "output_type": "display_data"
    },
    {
     "data": {
      "text/html": [
       "<ol class=list-inline>\n",
       "\t<li>0</li>\n",
       "\t<li>25</li>\n",
       "\t<li>50</li>\n",
       "</ol>\n"
      ],
      "text/latex": [
       "\\begin{enumerate*}\n",
       "\\item 0\n",
       "\\item 25\n",
       "\\item 50\n",
       "\\end{enumerate*}\n"
      ],
      "text/markdown": [
       "1. 0\n",
       "2. 25\n",
       "3. 50\n",
       "\n",
       "\n"
      ],
      "text/plain": [
       "[1]  0 25 50"
      ]
     },
     "metadata": {},
     "output_type": "display_data"
    },
    {
     "data": {
      "text/html": [
       "<ol class=list-inline>\n",
       "\t<li>1</li>\n",
       "\t<li>2</li>\n",
       "\t<li>1.5</li>\n",
       "</ol>\n"
      ],
      "text/latex": [
       "\\begin{enumerate*}\n",
       "\\item 1\n",
       "\\item 2\n",
       "\\item 1.5\n",
       "\\end{enumerate*}\n"
      ],
      "text/markdown": [
       "1. 1\n",
       "2. 2\n",
       "3. 1.5\n",
       "\n",
       "\n"
      ],
      "text/plain": [
       "[1] 1.0 2.0 1.5"
      ]
     },
     "metadata": {},
     "output_type": "display_data"
    }
   ],
   "source": [
    "ingresos<-c(10,50,150)\n",
    "ingresos*2\n",
    "ingresos/3\n",
    "gastos<-c(10,25,100)\n",
    "ingresos-gastos\n",
    "ingresos/gastos\n"
   ]
  },
  {
   "cell_type": "markdown",
   "metadata": {
    "collapsed": true
   },
   "source": [
    "## Subsetting Vector\n",
    "\n",
    "El cual es un Subconjunto de un vector, dichos elementos son accedidos dado su indice (index) que debe ser escrito entre corchetes \"[ ]\", así mismo estos pueden ser accedidos dados sus nombre los cuales iran entre comillas dobles & corchetes.\n",
    "\n",
    "* El simbolo \"-\" (menos) en los indices funcióna como una excepción, con lo cual podemos excluir elementos de nuestra selección.\n",
    "* Así mismo podemos ingresar un vector para realizar una selección multiple  subsetting<- vector[c(1,2...index)] , sin embargo adicional a esto podemos usar el simbolo \":\" para ingresar una secuencia \n",
    "* Veremos que tambien podemos usar un vector lógico para extrar la información sin embargo tenemos que cuidar que dicho vector sea de la misma longitud que vector original, de lo contrario R utilizara el \"R recycles\" para acompletar el vector lógico,algunos operadores logicos que tenemos son:\n",
    "\n",
    "    * < for less than\n",
    "    * \\> for greater than\n",
    "    * <= for less than or equal to\n",
    "    * \\>= for greater than or equal to\n",
    "    * == for equal to each other\n",
    "    * \\!= not equal to each other\n",
    "\n",
    "\n",
    "\n"
   ]
  },
  {
   "cell_type": "code",
   "execution_count": 11,
   "metadata": {},
   "outputs": [
    {
     "name": "stdout",
     "output_type": "stream",
     "text": [
      "[1] \"Selección Simples index & name\"\n"
     ]
    },
    {
     "data": {
      "text/html": [
       "<strong>Luis:</strong> 30"
      ],
      "text/latex": [
       "\\textbf{Luis:} 30"
      ],
      "text/markdown": [
       "**Luis:** 30"
      ],
      "text/plain": [
       "Luis \n",
       "  30 "
      ]
     },
     "metadata": {},
     "output_type": "display_data"
    },
    {
     "data": {
      "text/html": [
       "<strong>Pedro:</strong> 27"
      ],
      "text/latex": [
       "\\textbf{Pedro:} 27"
      ],
      "text/markdown": [
       "**Pedro:** 27"
      ],
      "text/plain": [
       "Pedro \n",
       "   27 "
      ]
     },
     "metadata": {},
     "output_type": "display_data"
    },
    {
     "name": "stdout",
     "output_type": "stream",
     "text": [
      "[1] \"Vector\"\n"
     ]
    },
    {
     "data": {
      "text/html": [
       "<dl class=dl-horizontal>\n",
       "\t<dt>Pedro</dt>\n",
       "\t\t<dd>27</dd>\n",
       "\t<dt>Irving</dt>\n",
       "\t\t<dd>40</dd>\n",
       "</dl>\n"
      ],
      "text/latex": [
       "\\begin{description*}\n",
       "\\item[Pedro] 27\n",
       "\\item[Irving] 40\n",
       "\\end{description*}\n"
      ],
      "text/markdown": [
       "Pedro\n",
       ":   27Irving\n",
       ":   40\n",
       "\n"
      ],
      "text/plain": [
       " Pedro Irving \n",
       "    27     40 "
      ]
     },
     "metadata": {},
     "output_type": "display_data"
    },
    {
     "name": "stdout",
     "output_type": "stream",
     "text": [
      "[1] \"Excepción\"\n"
     ]
    },
    {
     "data": {
      "text/html": [
       "<dl class=dl-horizontal>\n",
       "\t<dt>Luis</dt>\n",
       "\t\t<dd>30</dd>\n",
       "\t<dt>Pedro</dt>\n",
       "\t\t<dd>27</dd>\n",
       "</dl>\n"
      ],
      "text/latex": [
       "\\begin{description*}\n",
       "\\item[Luis] 30\n",
       "\\item[Pedro] 27\n",
       "\\end{description*}\n"
      ],
      "text/markdown": [
       "Luis\n",
       ":   30Pedro\n",
       ":   27\n",
       "\n"
      ],
      "text/plain": [
       " Luis Pedro \n",
       "   30    27 "
      ]
     },
     "metadata": {},
     "output_type": "display_data"
    },
    {
     "name": "stdout",
     "output_type": "stream",
     "text": [
      "[1] \"Vector Lógico\"\n"
     ]
    },
    {
     "data": {
      "text/html": [
       "<strong>Irving:</strong> 40"
      ],
      "text/latex": [
       "\\textbf{Irving:} 40"
      ],
      "text/markdown": [
       "**Irving:** 40"
      ],
      "text/plain": [
       "Irving \n",
       "    40 "
      ]
     },
     "metadata": {},
     "output_type": "display_data"
    }
   ],
   "source": [
    "#Definición de un vector\n",
    "vec1<-c(Luis=30,Pedro=27,Irving=40)\n",
    "\n",
    "#Formas de obtener un subconjunto, dado el indice & dado el nombre\n",
    "sub_vec1<-vec1[1]\n",
    "sub_vec1_name<-vec1[\"Pedro\"]\n",
    "#Obtener una vector de subconjunto\n",
    "sub_vec2<-vec1[c(2,3)]\n",
    "print(\"Selección Simples index & name\")\n",
    "sub_vec1\n",
    "sub_vec1_name\n",
    "print(\"Vector\")\n",
    "sub_vec2\n",
    "\n",
    "#Expecionar selección\n",
    "print(\"Excepción\")\n",
    "sub_exp<-vec1[-3]\n",
    "sub_exp\n",
    "\n",
    "#Extracción por vectores logicos\n",
    "vec_log<-c(F,F,T)\n",
    "sub_log<-vec1[vec_log]\n",
    "print(\"Vector Lógico\")\n",
    "sub_log"
   ]
  },
  {
   "cell_type": "markdown",
   "metadata": {
    "collapsed": true
   },
   "source": [
    "## Matrices\n",
    "\n",
    "Es una colección de datos almacenados en filas & columnas(es bidemensional)\n",
    "\n",
    "* Para la creación utilizamos la función **matrix ()** , El llenado se hace columna a columna, sin embargo dicho comportamiento puedo ser modificado con las propiedad ** byrow= True **.\n",
    "* Otras maneras de crear matrices es combinando vectores con las funciones: ** rbind() y cbind() **\n",
    "* Los nombres de filas y columnas viene dado por las funciones ** rownames() y colnames() ** , sin embargo tambien podemos usar la función **dimnames()**, sin embargo esta se utiliza solo en la definición de la matriz.\n",
    "\n",
    "Otras funciones que podrias utilizar son :\n",
    "    * rowSums(matriz) : permite sumar por fila\n",
    "    \n",
    "   "
   ]
  },
  {
   "cell_type": "code",
   "execution_count": 20,
   "metadata": {},
   "outputs": [
    {
     "name": "stdout",
     "output_type": "stream",
     "text": [
      "[1] \"Creación de una matrix del 1 al 6, con dos columnas\"\n"
     ]
    },
    {
     "data": {
      "text/html": [
       "<table>\n",
       "<tbody>\n",
       "\t<tr><th scope=row>Fila_A</th><td>1</td><td>3</td><td>5</td></tr>\n",
       "\t<tr><th scope=row>Fila_B</th><td>2</td><td>4</td><td>6</td></tr>\n",
       "</tbody>\n",
       "</table>\n"
      ],
      "text/latex": [
       "\\begin{tabular}{r|lll}\n",
       "\tFila\\_A & 1 & 3 & 5\\\\\n",
       "\tFila\\_B & 2 & 4 & 6\\\\\n",
       "\\end{tabular}\n"
      ],
      "text/markdown": [
       "\n",
       "| Fila_A | 1 | 3 | 5 | \n",
       "| Fila_B | 2 | 4 | 6 | \n",
       "\n",
       "\n"
      ],
      "text/plain": [
       "       [,1] [,2] [,3]\n",
       "Fila_A 1    3    5   \n",
       "Fila_B 2    4    6   "
      ]
     },
     "metadata": {},
     "output_type": "display_data"
    },
    {
     "data": {
      "text/html": [
       "<table>\n",
       "<thead><tr><th></th><th scope=col>Col_1</th><th scope=col>Col_2</th><th scope=col>Col_3</th></tr></thead>\n",
       "<tbody>\n",
       "\t<tr><th scope=row>Fil_1</th><td>1</td><td>2</td><td>3</td></tr>\n",
       "\t<tr><th scope=row>Fil_2</th><td>4</td><td>5</td><td>6</td></tr>\n",
       "</tbody>\n",
       "</table>\n"
      ],
      "text/latex": [
       "\\begin{tabular}{r|lll}\n",
       "  & Col\\_1 & Col\\_2 & Col\\_3\\\\\n",
       "\\hline\n",
       "\tFil\\_1 & 1 & 2 & 3\\\\\n",
       "\tFil\\_2 & 4 & 5 & 6\\\\\n",
       "\\end{tabular}\n"
      ],
      "text/markdown": [
       "\n",
       "| <!--/--> | Col_1 | Col_2 | Col_3 | \n",
       "|---|---|\n",
       "| Fil_1 | 1 | 2 | 3 | \n",
       "| Fil_2 | 4 | 5 | 6 | \n",
       "\n",
       "\n"
      ],
      "text/plain": [
       "      Col_1 Col_2 Col_3\n",
       "Fil_1 1     2     3    \n",
       "Fil_2 4     5     6    "
      ]
     },
     "metadata": {},
     "output_type": "display_data"
    },
    {
     "name": "stdout",
     "output_type": "stream",
     "text": [
      "[1] \"Creación dado dos vectores\"\n"
     ]
    },
    {
     "data": {
      "text/html": [
       "<table>\n",
       "<thead><tr><th scope=col>a</th><th scope=col>b</th></tr></thead>\n",
       "<tbody>\n",
       "\t<tr><td>1</td><td>4</td></tr>\n",
       "\t<tr><td>2</td><td>5</td></tr>\n",
       "\t<tr><td>3</td><td>6</td></tr>\n",
       "</tbody>\n",
       "</table>\n"
      ],
      "text/latex": [
       "\\begin{tabular}{ll}\n",
       " a & b\\\\\n",
       "\\hline\n",
       "\t 1 & 4\\\\\n",
       "\t 2 & 5\\\\\n",
       "\t 3 & 6\\\\\n",
       "\\end{tabular}\n"
      ],
      "text/markdown": [
       "\n",
       "a | b | \n",
       "|---|---|---|\n",
       "| 1 | 4 | \n",
       "| 2 | 5 | \n",
       "| 3 | 6 | \n",
       "\n",
       "\n"
      ],
      "text/plain": [
       "     a b\n",
       "[1,] 1 4\n",
       "[2,] 2 5\n",
       "[3,] 3 6"
      ]
     },
     "metadata": {},
     "output_type": "display_data"
    },
    {
     "data": {
      "text/html": [
       "<table>\n",
       "<tbody>\n",
       "\t<tr><th scope=row>a</th><td>1</td><td>2</td><td>3</td></tr>\n",
       "\t<tr><th scope=row>b</th><td>4</td><td>5</td><td>6</td></tr>\n",
       "</tbody>\n",
       "</table>\n"
      ],
      "text/latex": [
       "\\begin{tabular}{r|lll}\n",
       "\ta & 1 & 2 & 3\\\\\n",
       "\tb & 4 & 5 & 6\\\\\n",
       "\\end{tabular}\n"
      ],
      "text/markdown": [
       "\n",
       "| a | 1 | 2 | 3 | \n",
       "| b | 4 | 5 | 6 | \n",
       "\n",
       "\n"
      ],
      "text/plain": [
       "  [,1] [,2] [,3]\n",
       "a 1    2    3   \n",
       "b 4    5    6   "
      ]
     },
     "metadata": {},
     "output_type": "display_data"
    },
    {
     "name": "stdout",
     "output_type": "stream",
     "text": [
      "[1] \"Operaciones de Suma\"\n"
     ]
    },
    {
     "data": {
      "text/html": [
       "<ol class=list-inline>\n",
       "\t<li>5</li>\n",
       "\t<li>7</li>\n",
       "\t<li>9</li>\n",
       "</ol>\n"
      ],
      "text/latex": [
       "\\begin{enumerate*}\n",
       "\\item 5\n",
       "\\item 7\n",
       "\\item 9\n",
       "\\end{enumerate*}\n"
      ],
      "text/markdown": [
       "1. 5\n",
       "2. 7\n",
       "3. 9\n",
       "\n",
       "\n"
      ],
      "text/plain": [
       "[1] 5 7 9"
      ]
     },
     "metadata": {},
     "output_type": "display_data"
    },
    {
     "data": {
      "text/html": [
       "<dl class=dl-horizontal>\n",
       "\t<dt>a</dt>\n",
       "\t\t<dd>6</dd>\n",
       "\t<dt>b</dt>\n",
       "\t\t<dd>15</dd>\n",
       "</dl>\n"
      ],
      "text/latex": [
       "\\begin{description*}\n",
       "\\item[a] 6\n",
       "\\item[b] 15\n",
       "\\end{description*}\n"
      ],
      "text/markdown": [
       "a\n",
       ":   6b\n",
       ":   15\n",
       "\n"
      ],
      "text/plain": [
       " a  b \n",
       " 6 15 "
      ]
     },
     "metadata": {},
     "output_type": "display_data"
    }
   ],
   "source": [
    "print(\"Creación de una matrix del 1 al 6, con dos columnas\")\n",
    "a<-matrix(1:6,nrow=2)\n",
    "rownames(a)<-c(\"Fila_A\",\"Fila_B\")\n",
    "a\n",
    "\n",
    "matrix(1:6,ncol=3, byrow=T,dimnames=list(c(\"Fil_1\",\"Fil_2\"),c(\"Col_1\",\"Col_2\",\"Col_3\")))\n",
    "\n",
    "print(\"Creación dado dos vectores\")\n",
    "a<-c(1,2,3)\n",
    "b<-c(4,5,6)\n",
    "\n",
    "cbind(a,b)\n",
    "rbind(a,b)\n",
    "\n",
    "print(\"Operaciones de Suma\")\n",
    "rowSums(cbind(a,b))\n",
    "colSums(cbind(a,b))\n",
    "\n"
   ]
  },
  {
   "cell_type": "markdown",
   "metadata": {
    "collapsed": true
   },
   "source": [
    "## Matrix Subsetting\n",
    "\n",
    "Asi como en los vectores, tendremos la necesidad de extraer información de nuestas matrices para esto usaremos los declaración de corchetes.\n",
    "\n",
    "* La extración de un elemento en particular requiere indicar el ** name_matrix [ fila , columna] **\n",
    "* Las extracciones devolveran un vector con los datos de interes"
   ]
  },
  {
   "cell_type": "code",
   "execution_count": 17,
   "metadata": {},
   "outputs": [
    {
     "name": "stdout",
     "output_type": "stream",
     "text": [
      "[1] \"Definimos Nuestra Matriz\"\n"
     ]
    },
    {
     "data": {
      "text/html": [
       "<table>\n",
       "<thead><tr><th></th><th scope=col>[ , 1]</th><th scope=col>[ , 2]</th><th scope=col>[ , 3]</th><th scope=col>[ , 4]</th></tr></thead>\n",
       "<tbody>\n",
       "\t<tr><th scope=row>[1 , ]</th><td>21</td><td>24</td><td>27</td><td>30</td></tr>\n",
       "\t<tr><th scope=row>[2 , ]</th><td>22</td><td>25</td><td>28</td><td>31</td></tr>\n",
       "\t<tr><th scope=row>[3 , ]</th><td>23</td><td>26</td><td>29</td><td>32</td></tr>\n",
       "</tbody>\n",
       "</table>\n"
      ],
      "text/latex": [
       "\\begin{tabular}{r|llll}\n",
       "  & {[} , 1{]} & {[} , 2{]} & {[} , 3{]} & {[} , 4{]}\\\\\n",
       "\\hline\n",
       "\t{[}1 , {]} & 21 & 24 & 27 & 30\\\\\n",
       "\t{[}2 , {]} & 22 & 25 & 28 & 31\\\\\n",
       "\t{[}3 , {]} & 23 & 26 & 29 & 32\\\\\n",
       "\\end{tabular}\n"
      ],
      "text/markdown": [
       "\n",
       "| <!--/--> | [ , 1] | [ , 2] | [ , 3] | [ , 4] | \n",
       "|---|---|---|\n",
       "| [1 , ] | 21 | 24 | 27 | 30 | \n",
       "| [2 , ] | 22 | 25 | 28 | 31 | \n",
       "| [3 , ] | 23 | 26 | 29 | 32 | \n",
       "\n",
       "\n"
      ],
      "text/plain": [
       "       [ , 1] [ , 2] [ , 3] [ , 4]\n",
       "[1 , ] 21     24     27     30    \n",
       "[2 , ] 22     25     28     31    \n",
       "[3 , ] 23     26     29     32    "
      ]
     },
     "metadata": {},
     "output_type": "display_data"
    },
    {
     "name": "stdout",
     "output_type": "stream",
     "text": [
      "[1] \"Extracción de un Elemento del elemento fila=2 & Columna=2\"\n"
     ]
    },
    {
     "data": {
      "text/html": [
       "25"
      ],
      "text/latex": [
       "25"
      ],
      "text/markdown": [
       "25"
      ],
      "text/plain": [
       "[1] 25"
      ]
     },
     "metadata": {},
     "output_type": "display_data"
    },
    {
     "name": "stdout",
     "output_type": "stream",
     "text": [
      "[1] \"Extracción de toda una Fila por ejemplo #3\"\n"
     ]
    },
    {
     "data": {
      "text/html": [
       "<dl class=dl-horizontal>\n",
       "\t<dt>[ , 1]</dt>\n",
       "\t\t<dd>23</dd>\n",
       "\t<dt>[ , 2]</dt>\n",
       "\t\t<dd>26</dd>\n",
       "\t<dt>[ , 3]</dt>\n",
       "\t\t<dd>29</dd>\n",
       "\t<dt>[ , 4]</dt>\n",
       "\t\t<dd>32</dd>\n",
       "</dl>\n"
      ],
      "text/latex": [
       "\\begin{description*}\n",
       "\\item[\\{{[}\\} , 1\\{{]}\\}] 23\n",
       "\\item[\\{{[}\\} , 2\\{{]}\\}] 26\n",
       "\\item[\\{{[}\\} , 3\\{{]}\\}] 29\n",
       "\\item[\\{{[}\\} , 4\\{{]}\\}] 32\n",
       "\\end{description*}\n"
      ],
      "text/markdown": [
       "[ , 1]\n",
       ":   23[ , 2]\n",
       ":   26[ , 3]\n",
       ":   29[ , 4]\n",
       ":   32\n",
       "\n"
      ],
      "text/plain": [
       "[ , 1] [ , 2] [ , 3] [ , 4] \n",
       "    23     26     29     32 "
      ]
     },
     "metadata": {},
     "output_type": "display_data"
    },
    {
     "name": "stdout",
     "output_type": "stream",
     "text": [
      "[1] \"Extracción de toda una Columna por ejemplo #2\"\n"
     ]
    },
    {
     "data": {
      "text/html": [
       "<dl class=dl-horizontal>\n",
       "\t<dt>[1 , ]</dt>\n",
       "\t\t<dd>24</dd>\n",
       "\t<dt>[2 , ]</dt>\n",
       "\t\t<dd>25</dd>\n",
       "\t<dt>[3 , ]</dt>\n",
       "\t\t<dd>26</dd>\n",
       "</dl>\n"
      ],
      "text/latex": [
       "\\begin{description*}\n",
       "\\item[\\{{[}\\}1 , \\{{]}\\}] 24\n",
       "\\item[\\{{[}\\}2 , \\{{]}\\}] 25\n",
       "\\item[\\{{[}\\}3 , \\{{]}\\}] 26\n",
       "\\end{description*}\n"
      ],
      "text/markdown": [
       "[1 , ]\n",
       ":   24[2 , ]\n",
       ":   25[3 , ]\n",
       ":   26\n",
       "\n"
      ],
      "text/plain": [
       "[1 , ] [2 , ] [3 , ] \n",
       "    24     25     26 "
      ]
     },
     "metadata": {},
     "output_type": "display_data"
    },
    {
     "name": "stdout",
     "output_type": "stream",
     "text": [
      "[1] \"En caso de ingresar solo un elemento R contara elemento fila por fila de derecha a izquierda\"\n"
     ]
    },
    {
     "data": {
      "text/html": [
       "25"
      ],
      "text/latex": [
       "25"
      ],
      "text/markdown": [
       "25"
      ],
      "text/plain": [
       "[1] 25"
      ]
     },
     "metadata": {},
     "output_type": "display_data"
    }
   ],
   "source": [
    "print(\"Definimos Nuestra Matriz\")\n",
    "matrix1<-matrix(21:32,nrow=3,dimnames=list(c(\"[1 , ]\",\"[2 , ]\",\"[3 , ]\"),c(\"[ , 1]\",\"[ , 2]\",\"[ , 3]\",\"[ , 4]\")))\n",
    "matrix1\n",
    "\n",
    "print(\"Extracción de un Elemento del elemento fila=2 & Columna=2\")\n",
    "matrix1[2,2]\n",
    "\n",
    "print(\"Extracción de toda una Fila por ejemplo #3\")\n",
    "matrix1[3,]\n",
    "\n",
    "print(\"Extracción de toda una Columna por ejemplo #2\")\n",
    "matrix1[,2]\n",
    "\n",
    "print(\"En caso de ingresar solo un elemento R contara elemento fila por fila de derecha a izquierda\")\n",
    "matrix1[5]\n"
   ]
  },
  {
   "cell_type": "markdown",
   "metadata": {},
   "source": [
    "## Matrix Multiple Subsetting \n",
    "\n",
    "Anteriormente vimos que pudimos obtener un subconjunto, sin embargo ahora veremos como extrar multiples elementos que no esten en la misma fila o columna.\n",
    "\n",
    "Otras Caracteristicas son:\n",
    "\n",
    "* Seleccion por nombres, para lo cual deben estar definidos\n",
    "* Selección lógica"
   ]
  },
  {
   "cell_type": "code",
   "execution_count": 27,
   "metadata": {},
   "outputs": [
    {
     "data": {
      "text/html": [
       "<table>\n",
       "<thead><tr><th></th><th scope=col>[ , 1]</th><th scope=col>[ , 2]</th><th scope=col>[ , 3]</th><th scope=col>[ , 4]</th></tr></thead>\n",
       "<tbody>\n",
       "\t<tr><th scope=row>[1 , ]</th><td>21</td><td>24</td><td>27</td><td>30</td></tr>\n",
       "\t<tr><th scope=row>[2 , ]</th><td>22</td><td>25</td><td>28</td><td>31</td></tr>\n",
       "\t<tr><th scope=row>[3 , ]</th><td>23</td><td>26</td><td>29</td><td>32</td></tr>\n",
       "</tbody>\n",
       "</table>\n"
      ],
      "text/latex": [
       "\\begin{tabular}{r|llll}\n",
       "  & {[} , 1{]} & {[} , 2{]} & {[} , 3{]} & {[} , 4{]}\\\\\n",
       "\\hline\n",
       "\t{[}1 , {]} & 21 & 24 & 27 & 30\\\\\n",
       "\t{[}2 , {]} & 22 & 25 & 28 & 31\\\\\n",
       "\t{[}3 , {]} & 23 & 26 & 29 & 32\\\\\n",
       "\\end{tabular}\n"
      ],
      "text/markdown": [
       "\n",
       "| <!--/--> | [ , 1] | [ , 2] | [ , 3] | [ , 4] | \n",
       "|---|---|---|\n",
       "| [1 , ] | 21 | 24 | 27 | 30 | \n",
       "| [2 , ] | 22 | 25 | 28 | 31 | \n",
       "| [3 , ] | 23 | 26 | 29 | 32 | \n",
       "\n",
       "\n"
      ],
      "text/plain": [
       "       [ , 1] [ , 2] [ , 3] [ , 4]\n",
       "[1 , ] 21     24     27     30    \n",
       "[2 , ] 22     25     28     31    \n",
       "[3 , ] 23     26     29     32    "
      ]
     },
     "metadata": {},
     "output_type": "display_data"
    },
    {
     "name": "stdout",
     "output_type": "stream",
     "text": [
      "[1] \"Digamos que quiero seleccionar los elementos 24 y 27\"\n"
     ]
    },
    {
     "data": {
      "text/html": [
       "<dl class=dl-horizontal>\n",
       "\t<dt>[ , 2]</dt>\n",
       "\t\t<dd>24</dd>\n",
       "\t<dt>[ , 3]</dt>\n",
       "\t\t<dd>27</dd>\n",
       "</dl>\n"
      ],
      "text/latex": [
       "\\begin{description*}\n",
       "\\item[\\{{[}\\} , 2\\{{]}\\}] 24\n",
       "\\item[\\{{[}\\} , 3\\{{]}\\}] 27\n",
       "\\end{description*}\n"
      ],
      "text/markdown": [
       "[ , 2]\n",
       ":   24[ , 3]\n",
       ":   27\n",
       "\n"
      ],
      "text/plain": [
       "[ , 2] [ , 3] \n",
       "    24     27 "
      ]
     },
     "metadata": {},
     "output_type": "display_data"
    },
    {
     "name": "stdout",
     "output_type": "stream",
     "text": [
      "[1] \"Ojo tenemos que tener cuidado que pasa si queremos obtener el 24 y 28\"\n"
     ]
    },
    {
     "data": {
      "text/html": [
       "<table>\n",
       "<thead><tr><th></th><th scope=col>[ , 2]</th><th scope=col>[ , 3]</th></tr></thead>\n",
       "<tbody>\n",
       "\t<tr><th scope=row>[1 , ]</th><td>24</td><td>27</td></tr>\n",
       "\t<tr><th scope=row>[2 , ]</th><td>25</td><td>28</td></tr>\n",
       "</tbody>\n",
       "</table>\n"
      ],
      "text/latex": [
       "\\begin{tabular}{r|ll}\n",
       "  & {[} , 2{]} & {[} , 3{]}\\\\\n",
       "\\hline\n",
       "\t{[}1 , {]} & 24 & 27\\\\\n",
       "\t{[}2 , {]} & 25 & 28\\\\\n",
       "\\end{tabular}\n"
      ],
      "text/markdown": [
       "\n",
       "| <!--/--> | [ , 2] | [ , 3] | \n",
       "|---|---|\n",
       "| [1 , ] | 24 | 27 | \n",
       "| [2 , ] | 25 | 28 | \n",
       "\n",
       "\n"
      ],
      "text/plain": [
       "       [ , 2] [ , 3]\n",
       "[1 , ] 24     27    \n",
       "[2 , ] 25     28    "
      ]
     },
     "metadata": {},
     "output_type": "display_data"
    },
    {
     "name": "stdout",
     "output_type": "stream",
     "text": [
      "[1] \"Es de notar que R no realiza en emparajamiento ie. (1,2) & (2,3) para obtener 24 & 28, pues \\nlo que sucede es que R abarcar todo lo que va de la fila 1 a las 2 y de columna de las 2 a la 3\"\n",
      "[1] \"Por ultimo podemos crear elementos no unidos en mi Selección por ejempl fila 1 y 3 Columna 2 y 4\"\n"
     ]
    },
    {
     "data": {
      "text/html": [
       "<table>\n",
       "<thead><tr><th></th><th scope=col>[ , 2]</th><th scope=col>[ , 4]</th></tr></thead>\n",
       "<tbody>\n",
       "\t<tr><th scope=row>[1 , ]</th><td>24</td><td>30</td></tr>\n",
       "\t<tr><th scope=row>[3 , ]</th><td>26</td><td>32</td></tr>\n",
       "</tbody>\n",
       "</table>\n"
      ],
      "text/latex": [
       "\\begin{tabular}{r|ll}\n",
       "  & {[} , 2{]} & {[} , 4{]}\\\\\n",
       "\\hline\n",
       "\t{[}1 , {]} & 24 & 30\\\\\n",
       "\t{[}3 , {]} & 26 & 32\\\\\n",
       "\\end{tabular}\n"
      ],
      "text/markdown": [
       "\n",
       "| <!--/--> | [ , 2] | [ , 4] | \n",
       "|---|---|\n",
       "| [1 , ] | 24 | 30 | \n",
       "| [3 , ] | 26 | 32 | \n",
       "\n",
       "\n"
      ],
      "text/plain": [
       "       [ , 2] [ , 4]\n",
       "[1 , ] 24     30    \n",
       "[3 , ] 26     32    "
      ]
     },
     "metadata": {},
     "output_type": "display_data"
    }
   ],
   "source": [
    "matrix1\n",
    "\n",
    "print(\"Digamos que quiero seleccionar los elementos 24 y 27\")\n",
    "matrix1[1,c(2,3)]\n",
    "\n",
    "print(\"Ojo tenemos que tener cuidado que pasa si queremos obtener el 24 y 28\")\n",
    "matrix1[c(1,2),c(2,3)]\n",
    "print(\"Es de notar que R no realiza en emparajamiento ie. (1,2) & (2,3) para obtener 24 & 28, pues \n",
    "lo que sucede es que R abarcar todo lo que va de la fila 1 a las 2 y de columna de las 2 a la 3\")\n",
    "\n",
    "print(\"Por ultimo podemos crear elementos no unidos en mi Selección por ejempl fila 1 y 3 Columna 2 y 4\")\n",
    "matrix1[c(1,3),c(2,4)]"
   ]
  },
  {
   "cell_type": "markdown",
   "metadata": {
    "collapsed": true
   },
   "source": [
    "## Matrix Arithmetic\n",
    "\n",
    "Al igual que los vectores, podemos realizar operaciones elementos por elementos, ademas que tenemos las caracteristicas de reciclaje,adicional veremos dos funciones muy utiles para sumar por fila & columnas en matrices:\n",
    "\n",
    "* **rowSums** que sirve para sumar dado columnas,pues recorre dichos elementos\n",
    "* **colSums** que sirve para sumar dado filas,pues recorre dichos elementos\n",
    "\n",
    "Los operadores suma, resta, multiplicación & división operan por elementos.\n",
    "\n",
    "Those who are familiar with linear algebra: this is not the standard matrix multiplication for which you should use %*% in R."
   ]
  },
  {
   "cell_type": "code",
   "execution_count": 7,
   "metadata": {},
   "outputs": [
    {
     "data": {
      "text/html": [
       "<table>\n",
       "<thead><tr><th></th><th scope=col>C1</th><th scope=col>C2</th></tr></thead>\n",
       "<tbody>\n",
       "\t<tr><th scope=row>F1</th><td>10</td><td>40</td></tr>\n",
       "\t<tr><th scope=row>F2</th><td>20</td><td>50</td></tr>\n",
       "\t<tr><th scope=row>F3</th><td>30</td><td>60</td></tr>\n",
       "</tbody>\n",
       "</table>\n"
      ],
      "text/latex": [
       "\\begin{tabular}{r|ll}\n",
       "  & C1 & C2\\\\\n",
       "\\hline\n",
       "\tF1 & 10 & 40\\\\\n",
       "\tF2 & 20 & 50\\\\\n",
       "\tF3 & 30 & 60\\\\\n",
       "\\end{tabular}\n"
      ],
      "text/markdown": [
       "\n",
       "| <!--/--> | C1 | C2 | \n",
       "|---|---|---|\n",
       "| F1 | 10 | 40 | \n",
       "| F2 | 20 | 50 | \n",
       "| F3 | 30 | 60 | \n",
       "\n",
       "\n"
      ],
      "text/plain": [
       "   C1 C2\n",
       "F1 10 40\n",
       "F2 20 50\n",
       "F3 30 60"
      ]
     },
     "metadata": {},
     "output_type": "display_data"
    },
    {
     "name": "stdout",
     "output_type": "stream",
     "text": [
      "[1] \"Multiplicación x2\"\n"
     ]
    },
    {
     "data": {
      "text/html": [
       "<table>\n",
       "<thead><tr><th></th><th scope=col>C1</th><th scope=col>C2</th></tr></thead>\n",
       "<tbody>\n",
       "\t<tr><th scope=row>F1</th><td>20 </td><td> 80</td></tr>\n",
       "\t<tr><th scope=row>F2</th><td>40 </td><td>100</td></tr>\n",
       "\t<tr><th scope=row>F3</th><td>60 </td><td>120</td></tr>\n",
       "</tbody>\n",
       "</table>\n"
      ],
      "text/latex": [
       "\\begin{tabular}{r|ll}\n",
       "  & C1 & C2\\\\\n",
       "\\hline\n",
       "\tF1 & 20  &  80\\\\\n",
       "\tF2 & 40  & 100\\\\\n",
       "\tF3 & 60  & 120\\\\\n",
       "\\end{tabular}\n"
      ],
      "text/markdown": [
       "\n",
       "| <!--/--> | C1 | C2 | \n",
       "|---|---|---|\n",
       "| F1 | 20  |  80 | \n",
       "| F2 | 40  | 100 | \n",
       "| F3 | 60  | 120 | \n",
       "\n",
       "\n"
      ],
      "text/plain": [
       "   C1 C2 \n",
       "F1 20  80\n",
       "F2 40 100\n",
       "F3 60 120"
      ]
     },
     "metadata": {},
     "output_type": "display_data"
    },
    {
     "name": "stdout",
     "output_type": "stream",
     "text": [
      "[1] \"Resta dado un vector de menor tamaño\"\n"
     ]
    },
    {
     "data": {
      "text/html": [
       "<table>\n",
       "<thead><tr><th></th><th scope=col>C1</th><th scope=col>C2</th></tr></thead>\n",
       "<tbody>\n",
       "\t<tr><th scope=row>F1</th><td>0 </td><td>30</td></tr>\n",
       "\t<tr><th scope=row>F2</th><td>0 </td><td>30</td></tr>\n",
       "\t<tr><th scope=row>F3</th><td>0 </td><td>30</td></tr>\n",
       "</tbody>\n",
       "</table>\n"
      ],
      "text/latex": [
       "\\begin{tabular}{r|ll}\n",
       "  & C1 & C2\\\\\n",
       "\\hline\n",
       "\tF1 & 0  & 30\\\\\n",
       "\tF2 & 0  & 30\\\\\n",
       "\tF3 & 0  & 30\\\\\n",
       "\\end{tabular}\n"
      ],
      "text/markdown": [
       "\n",
       "| <!--/--> | C1 | C2 | \n",
       "|---|---|---|\n",
       "| F1 | 0  | 30 | \n",
       "| F2 | 0  | 30 | \n",
       "| F3 | 0  | 30 | \n",
       "\n",
       "\n"
      ],
      "text/plain": [
       "   C1 C2\n",
       "F1 0  30\n",
       "F2 0  30\n",
       "F3 0  30"
      ]
     },
     "metadata": {},
     "output_type": "display_data"
    },
    {
     "name": "stdout",
     "output_type": "stream",
     "text": [
      "[1] \"Sumas x Columnas & Filas Respectivamente\"\n"
     ]
    },
    {
     "data": {
      "text/html": [
       "<dl class=dl-horizontal>\n",
       "\t<dt>C1</dt>\n",
       "\t\t<dd>60</dd>\n",
       "\t<dt>C2</dt>\n",
       "\t\t<dd>150</dd>\n",
       "</dl>\n"
      ],
      "text/latex": [
       "\\begin{description*}\n",
       "\\item[C1] 60\n",
       "\\item[C2] 150\n",
       "\\end{description*}\n"
      ],
      "text/markdown": [
       "C1\n",
       ":   60C2\n",
       ":   150\n",
       "\n"
      ],
      "text/plain": [
       " C1  C2 \n",
       " 60 150 "
      ]
     },
     "metadata": {},
     "output_type": "display_data"
    },
    {
     "data": {
      "text/html": [
       "<dl class=dl-horizontal>\n",
       "\t<dt>F1</dt>\n",
       "\t\t<dd>50</dd>\n",
       "\t<dt>F2</dt>\n",
       "\t\t<dd>70</dd>\n",
       "\t<dt>F3</dt>\n",
       "\t\t<dd>90</dd>\n",
       "</dl>\n"
      ],
      "text/latex": [
       "\\begin{description*}\n",
       "\\item[F1] 50\n",
       "\\item[F2] 70\n",
       "\\item[F3] 90\n",
       "\\end{description*}\n"
      ],
      "text/markdown": [
       "F1\n",
       ":   50F2\n",
       ":   70F3\n",
       ":   90\n",
       "\n"
      ],
      "text/plain": [
       "F1 F2 F3 \n",
       "50 70 90 "
      ]
     },
     "metadata": {},
     "output_type": "display_data"
    }
   ],
   "source": [
    "matrix3<-matrix(c(10,20,30,40,50,60),nrow=3,ncol=2,dimnames=list(c(\"F1\",\"F2\",\"F3\"),c(\"C1\",\"C2\")))\n",
    "matrix3\n",
    "\n",
    "print(\"Multiplicación x2\")\n",
    "matrix3*2\n",
    "\n",
    "print(\"Resta dado un vector de menor tamaño\")\n",
    "vect2<-c(10,20,30)\n",
    "matrix3-vect2\n",
    "\n",
    "print(\"Sumas x Columnas & Filas Respectivamente\")\n",
    "colSums(matrix3)\n",
    "rowSums(matrix3)"
   ]
  },
  {
   "cell_type": "markdown",
   "metadata": {},
   "source": [
    "## Resumen de Matrices & Vectores\n",
    "\n",
    "* Son muy similares, solo aceptan un tipo de dato\n",
    "* Vectores=1D & Matrices=2D\n",
    "* Coercisión (si es necesaria)\n",
    "* Reciclaje (si es necesario)\n",
    "* Element-wise Calculations"
   ]
  },
  {
   "cell_type": "markdown",
   "metadata": {
    "collapsed": true
   },
   "source": [
    "## Factores\n",
    "\n",
    "En el ambito de la estadistica tenemos las ** \"variables categoricas\"** , las cuales pueden almacenar un limitado número de catergorias y dado que R es un lenguage de programación estadistica, no es un sorpresa que este tenga una estructura para dicho elemento, llamado **factor**.\n",
    "\n",
    "Un buen ejemplo de variable catergorica, es el tipo de sangre de las personas.\n",
    "\n",
    "Estos \"factores\" tiene dos principales caracteristicas:\n",
    "\n",
    "* Los vectores ven atravez de los diferentes categorias que se existen (es como quitar los duplicados)\n",
    "* Covierte los caracteres en números.\n",
    "\n",
    "Dichas conversiones se realizan con la finalidad de optimizar el espacio en memoria\n",
    "\n",
    "Funciones:\n",
    "\n",
    "* **factor** , sirve para crear el factor\n",
    "* **levels** , determina los niveles o el orden\n",
    "* **labels**, el nombre de los factores \n",
    "* **ordered= True(false) ** , para especificar si tendra un orden, lo cual ayudara hacer comparaciones\n",
    "\n",
    "There are two types of categorical variables: a nominal categorical variable and an ordinal categorical variable, A nominal variable is a categorical variable without an implied order. This means that it is impossible to say that 'one is worth more than the other'. In contrast, ordinal variables do have a natural ordering. Consider for example the categorical variable temperature_vector with the categories: \"Low\", \"Medium\" and \"High\". Here it is obvious that \"Medium\" stands above \"Low\", and \"High\" stands above \"Medium\"."
   ]
  },
  {
   "cell_type": "code",
   "execution_count": 41,
   "metadata": {},
   "outputs": [
    {
     "name": "stdout",
     "output_type": "stream",
     "text": [
      "[1] \"Supogamos que recolecatmos una muestra de sangre de 8 personas\"\n"
     ]
    },
    {
     "data": {
      "text/html": [
       "<ol class=list-inline>\n",
       "\t<li>'B'</li>\n",
       "\t<li>'AB'</li>\n",
       "\t<li>'O'</li>\n",
       "\t<li>'A'</li>\n",
       "\t<li>'O'</li>\n",
       "\t<li>'O'</li>\n",
       "\t<li>'A'</li>\n",
       "\t<li>'B'</li>\n",
       "</ol>\n"
      ],
      "text/latex": [
       "\\begin{enumerate*}\n",
       "\\item 'B'\n",
       "\\item 'AB'\n",
       "\\item 'O'\n",
       "\\item 'A'\n",
       "\\item 'O'\n",
       "\\item 'O'\n",
       "\\item 'A'\n",
       "\\item 'B'\n",
       "\\end{enumerate*}\n"
      ],
      "text/markdown": [
       "1. 'B'\n",
       "2. 'AB'\n",
       "3. 'O'\n",
       "4. 'A'\n",
       "5. 'O'\n",
       "6. 'O'\n",
       "7. 'A'\n",
       "8. 'B'\n",
       "\n",
       "\n"
      ],
      "text/plain": [
       "[1] \"B\"  \"AB\" \"O\"  \"A\"  \"O\"  \"O\"  \"A\"  \"B\" "
      ]
     },
     "metadata": {},
     "output_type": "display_data"
    },
    {
     "name": "stdout",
     "output_type": "stream",
     "text": [
      "[1] \"Para convertir un vecto en un facto usamos la función vector \"\n"
     ]
    },
    {
     "data": {
      "text/html": [
       "<ol class=list-inline>\n",
       "\t<li>B</li>\n",
       "\t<li>AB</li>\n",
       "\t<li>O</li>\n",
       "\t<li>A</li>\n",
       "\t<li>O</li>\n",
       "\t<li>O</li>\n",
       "\t<li>A</li>\n",
       "\t<li>B</li>\n",
       "</ol>\n"
      ],
      "text/latex": [
       "\\begin{enumerate*}\n",
       "\\item B\n",
       "\\item AB\n",
       "\\item O\n",
       "\\item A\n",
       "\\item O\n",
       "\\item O\n",
       "\\item A\n",
       "\\item B\n",
       "\\end{enumerate*}\n"
      ],
      "text/markdown": [
       "1. B\n",
       "2. AB\n",
       "3. O\n",
       "4. A\n",
       "5. O\n",
       "6. O\n",
       "7. A\n",
       "8. B\n",
       "\n",
       "\n"
      ],
      "text/plain": [
       "[1] B  AB O  A  O  O  A  B \n",
       "Levels: A AB B O"
      ]
     },
     "metadata": {},
     "output_type": "display_data"
    },
    {
     "name": "stdout",
     "output_type": "stream",
     "text": [
      "[1] \"Caracteristicas de un Vector\"\n",
      " Factor w/ 4 levels \"A\",\"AB\",\"B\",\"O\": 3 2 4 1 4 4 1 3\n",
      "[1] \"Podemos personalizar los niveles\"\n",
      " Factor w/ 4 levels \"O\",\"A\",\"B\",\"AB\": 3 4 1 2 1 1 2 3\n",
      "[1] \"Es importante mencionar que podemos cambiar el nombre de los niveles, sin embargo estos debe seguir el orden de los factores\"\n",
      " Factor w/ 4 levels \"BT_A\",\"BT_AB\",..: 3 2 4 1 4 4 1 3\n",
      "[1] \"Realizar Comparaciones, cuando la variable categorica esta ordenada y no\"\n",
      " Ord.factor w/ 3 levels \"s\"<\"m\"<\"l\": 1 2 3\n"
     ]
    },
    {
     "data": {
      "text/html": [
       "TRUE"
      ],
      "text/latex": [
       "TRUE"
      ],
      "text/markdown": [
       "TRUE"
      ],
      "text/plain": [
       "[1] TRUE"
      ]
     },
     "metadata": {},
     "output_type": "display_data"
    },
    {
     "name": "stderr",
     "output_type": "stream",
     "text": [
      "Warning message in Ops.factor(type_blood_factor[1], type_blood_factor[2]):\n",
      "\"'>' not meaningful for factors\""
     ]
    },
    {
     "data": {
      "text/html": [
       "&lt;NA&gt;"
      ],
      "text/latex": [
       "<NA>"
      ],
      "text/markdown": [
       "&lt;NA&gt;"
      ],
      "text/plain": [
       "[1] NA"
      ]
     },
     "metadata": {},
     "output_type": "display_data"
    }
   ],
   "source": [
    "print(\"Supogamos que recolecatmos una muestra de sangre de 8 personas\")\n",
    "type_blood<-c(\"B\",\"AB\",\"O\",\"A\",\"O\",\"O\",\"A\",\"B\")\n",
    "type_blood\n",
    "\n",
    "print(\"Para convertir un vecto en un facto usamos la función vector \")\n",
    "type_blood_factor<-factor(type_blood)\n",
    "type_blood_factor\n",
    "\n",
    "print(\"Caracteristicas de un Vector\")\n",
    "str(type_blood_factor)\n",
    "\n",
    "print(\"Podemos personalizar los niveles\")\n",
    "type_blood_factor2<-factor(type_blood, levels=c(\"O\",\"A\",\"B\",\"AB\"))\n",
    "str(type_blood_factor2)\n",
    "\n",
    "print(\"Es importante mencionar que podemos cambiar el nombre de los niveles, sin embargo estos debe seguir el orden de los factores\")    \n",
    "type_blood_factor3<-factor(type_blood, labels=c(\"BT_A\",\"BT_AB\",\"BT_B\",\"BT_O\"))    \n",
    "str(type_blood_factor3)\n",
    "\n",
    "print(\"Realizar Comparaciones, cuando la variable categorica esta ordenada y no\")\n",
    "t_shir<-factor(c(\"s\",\"m\",\"l\"),levels=c(\"s\",\"m\",\"l\"),ordered=T)\n",
    "str(t_shir)\n",
    "t_shir[1]<t_shir[2]\n",
    "\n",
    "\n",
    "type_blood_factor[1]>type_blood_factor[2]\n",
    "\n"
   ]
  },
  {
   "cell_type": "markdown",
   "metadata": {
    "collapsed": true
   },
   "source": [
    "## Listas\n",
    "\n",
    "Hasta ahora conecemos las siguentes estructuras de datos:\n",
    "\n",
    "* Vector (1D), mismo tipo\n",
    "* Matrix,(2D), mismo tipo\n",
    "\n",
    "Sin embargo estas como sabemos solo almacenan un tipo de dato y existira ocasiones donde queramos almacenar diferentes tipos de datos en la misma estrucutura, aquie podemos usar las **listas**\n",
    "\n",
    "* Almacenan diferentes tipos de objetos como son vector,matrizes, data frame, factores, etc.\n",
    "* No Coerción\n",
    "\n",
    "Sus Principales funciones o parametros son:\n",
    "\n",
    "**list()** , instrucción para crear un elemento de tipo lista.\n",
    "**is.list()**, para evaluar si un objeto es una lista\n",
    "**names**, es una propiedad para ingresar titulos a los datos\n",
    "**str**, la cual permite ver la estructura.\n",
    "\n",
    "1. Vectors (one dimensional array): can hold numeric, character or logical values. The elements in a vector all have the same data type.\n",
    "2. Matrices (two dimensional array): can hold numeric, character or logical values. The elements in a matrix all have the same data type.\n",
    "3. Data frames (two-dimensional objects): can hold numeric, character or logical values. Within a column all elements have the same data type, but different columns can be of different data type.\n",
    "\n",
    "Just like on your to-do list, you want to avoid not knowing or remembering what the components of your list stand for. That is why you should give names to them\n",
    "\n",
    "> my_list <- list(name1 = your_comp1, name2 = your_comp2) or other option is \n",
    "\n",
    "> my_list <- list(your_comp1, your_comp2)\n",
    "\n",
    "> names(my_list) <- c(\"name1\", \"name2\")\n",
    "\n",
    "### Selecting elements from a list\n",
    "\n",
    "One way to select a component is using the numbered position of that component. For example:\n",
    "\n",
    "`list[[component]]`\n",
    "\n",
    "**A quick way to check this out is typing it in the console. Important to remember: to select elements from vectors, you use single square brackets: `[ ]`. Don't mix them up!**\n",
    "\n",
    "You can also refer to the names of the components, with `[[ ]]` or with the `$` sign. Both will select the data frame representing the reviews:\n",
    "\n",
    "`list[[\"ColumName\"]]`\n",
    "\n",
    "`list$ColumName`\n",
    "\n",
    "Besides selecting components, you often need to select specific elements out of these components. For example, with `shining_list[[2]][1]` you select from the second component, could be the actors `(shining_list[[2]])`, the first element `([1])`. When you type this in the console, you will see the answer is Jack Nicholson\n"
   ]
  },
  {
   "cell_type": "code",
   "execution_count": 11,
   "metadata": {},
   "outputs": [
    {
     "data": {
      "text/html": [
       "<dl>\n",
       "\t<dt>$Title</dt>\n",
       "\t\t<dd>'The men how can´t moved'</dd>\n",
       "\t<dt>$Duration</dt>\n",
       "\t\t<dd>150</dd>\n",
       "\t<dt>$Track</dt>\n",
       "\t\t<dd>5</dd>\n",
       "</dl>\n"
      ],
      "text/latex": [
       "\\begin{description}\n",
       "\\item[\\$Title] 'The men how can´t moved'\n",
       "\\item[\\$Duration] 150\n",
       "\\item[\\$Track] 5\n",
       "\\end{description}\n"
      ],
      "text/markdown": [
       "$Title\n",
       ":   'The men how can´t moved'\n",
       "$Duration\n",
       ":   150\n",
       "$Track\n",
       ":   5\n",
       "\n",
       "\n"
      ],
      "text/plain": [
       "$Title\n",
       "[1] \"The men how can´t moved\"\n",
       "\n",
       "$Duration\n",
       "[1] 150\n",
       "\n",
       "$Track\n",
       "[1] 5\n"
      ]
     },
     "metadata": {},
     "output_type": "display_data"
    },
    {
     "name": "stdout",
     "output_type": "stream",
     "text": [
      "[1] \"Otra manaera de asignar los nombres\"\n",
      "List of 3\n",
      " $ Title   : chr \"You are beatiful\"\n",
      " $ Duration: num 100\n",
      " $ Track   : num 3\n",
      "[1] \"------------------------------------------------------------\"\n",
      "[1] \"Listas dentro de Listas\"\n",
      "List of 4\n",
      " $ Title   : chr \"You are beatiful\"\n",
      " $ Duration: num 100\n",
      " $ Track   : num 3\n",
      " $ lista   :List of 3\n",
      "  ..$ Title   : chr \"The men how can´t moved\"\n",
      "  ..$ Duration: num 150\n",
      "  ..$ Track   : num 5\n"
     ]
    }
   ],
   "source": [
    "song<-list(\"The men how can´t moved\",150,5)\n",
    "names(song)<-c(\"Title\",\"Duration\",\"Track\")\n",
    "song\n",
    "\n",
    "print(\"Otra manaera de asignar los nombres\")\n",
    "song2<-list(Title=\"You are beatiful\",Duration=100,Track=3)\n",
    "str(song2)\n",
    "\n",
    "print(\"------------------------------------------------------------\")\n",
    "print(\"Listas dentro de Listas\")\n",
    "song3<-list(Title=\"You are beatiful\",Duration=100,Track=3,lista=song)\n",
    "str(song3)\n"
   ]
  },
  {
   "cell_type": "markdown",
   "metadata": {},
   "source": [
    "## Subsetting List\n",
    "\n",
    "A diferencia de los vectores y matrices, el subconjunto funciona de manera diferente:\n",
    "\n",
    "* Cuando trabajos con un vector y matrizes, solo tenemos que ingresar [ ] o [ [ ] ] si usamos a simple brackets obtenemos la lista, si usamos dobles brackets basicamente obtenemos solo el elemento.\n",
    "* Ademas podemos obtener varios elementos utilizando un vector dentro simple brackets\n",
    "* La extracción por nombres funciona para ambos simple o doble brackers\n",
    "* La extracción lógica solo funciona para simple brackets\n",
    "* Adicional podemos usar el simbolo $ con los nombre para extraer los datos\n",
    "\n",
    "En resumen:\n",
    "* [[ para seleccionar un elemento de lista\n",
    "* [ el resultado es un sublista\n",
    "* [[ o $ para extraer o extender una lista"
   ]
  },
  {
   "cell_type": "code",
   "execution_count": 34,
   "metadata": {},
   "outputs": [
    {
     "name": "stdout",
     "output_type": "stream",
     "text": [
      "[1] \"Lista\"\n"
     ]
    },
    {
     "data": {
      "text/html": [
       "<dl>\n",
       "\t<dt>$Nombre</dt>\n",
       "\t\t<dd>'Luis Meza'</dd>\n",
       "\t<dt>$Edad</dt>\n",
       "\t\t<dd>'30'</dd>\n",
       "\t<dt>$Dpto</dt>\n",
       "\t\t<dd>'Pricing'</dd>\n",
       "</dl>\n"
      ],
      "text/latex": [
       "\\begin{description}\n",
       "\\item[\\$Nombre] 'Luis Meza'\n",
       "\\item[\\$Edad] '30'\n",
       "\\item[\\$Dpto] 'Pricing'\n",
       "\\end{description}\n"
      ],
      "text/markdown": [
       "$Nombre\n",
       ":   'Luis Meza'\n",
       "$Edad\n",
       ":   '30'\n",
       "$Dpto\n",
       ":   'Pricing'\n",
       "\n",
       "\n"
      ],
      "text/plain": [
       "$Nombre\n",
       "[1] \"Luis Meza\"\n",
       "\n",
       "$Edad\n",
       "[1] \"30\"\n",
       "\n",
       "$Dpto\n",
       "[1] \"Pricing\"\n"
      ]
     },
     "metadata": {},
     "output_type": "display_data"
    },
    {
     "name": "stdout",
     "output_type": "stream",
     "text": [
      "[1] \"List in List\"\n"
     ]
    },
    {
     "data": {
      "text/html": [
       "<dl>\n",
       "\t<dt>$Nombre</dt>\n",
       "\t\t<dd>'Luis Meza'</dd>\n",
       "\t<dt>$Edad</dt>\n",
       "\t\t<dd>'30'</dd>\n",
       "\t<dt>$Dpto</dt>\n",
       "\t\t<dd>'Pricing'</dd>\n",
       "\t<dt>$sub</dt>\n",
       "\t\t<dd><dl>\n",
       "\t<dt>$Estudios</dt>\n",
       "\t\t<dd>'Lic'</dd>\n",
       "\t<dt>$Carrera</dt>\n",
       "\t\t<dd>'Actuaria'</dd>\n",
       "</dl>\n",
       "</dd>\n",
       "</dl>\n"
      ],
      "text/latex": [
       "\\begin{description}\n",
       "\\item[\\$Nombre] 'Luis Meza'\n",
       "\\item[\\$Edad] '30'\n",
       "\\item[\\$Dpto] 'Pricing'\n",
       "\\item[\\$sub] \\begin{description}\n",
       "\\item[\\$Estudios] 'Lic'\n",
       "\\item[\\$Carrera] 'Actuaria'\n",
       "\\end{description}\n",
       "\n",
       "\\end{description}\n"
      ],
      "text/markdown": [
       "$Nombre\n",
       ":   'Luis Meza'\n",
       "$Edad\n",
       ":   '30'\n",
       "$Dpto\n",
       ":   'Pricing'\n",
       "$sub\n",
       ":   $Estudios\n",
       ":   'Lic'\n",
       "$Carrera\n",
       ":   'Actuaria'\n",
       "\n",
       "\n",
       "\n",
       "\n",
       "\n"
      ],
      "text/plain": [
       "$Nombre\n",
       "[1] \"Luis Meza\"\n",
       "\n",
       "$Edad\n",
       "[1] \"30\"\n",
       "\n",
       "$Dpto\n",
       "[1] \"Pricing\"\n",
       "\n",
       "$sub\n",
       "$sub$Estudios\n",
       "[1] \"Lic\"\n",
       "\n",
       "$sub$Carrera\n",
       "[1] \"Actuaria\"\n",
       "\n"
      ]
     },
     "metadata": {},
     "output_type": "display_data"
    },
    {
     "name": "stdout",
     "output_type": "stream",
     "text": [
      "[1] \"Subsetting con []\"\n"
     ]
    },
    {
     "data": {
      "text/html": [
       "<strong>$Nombre</strong> = 'Luis Meza'"
      ],
      "text/latex": [
       "\\textbf{\\$Nombre} = 'Luis Meza'"
      ],
      "text/markdown": [
       "**$Nombre** = 'Luis Meza'"
      ],
      "text/plain": [
       "$Nombre\n",
       "[1] \"Luis Meza\"\n"
      ]
     },
     "metadata": {},
     "output_type": "display_data"
    },
    {
     "name": "stdout",
     "output_type": "stream",
     "text": [
      "[1] \"Subsetting con [[]]\"\n"
     ]
    },
    {
     "data": {
      "text/html": [
       "'Luis Meza'"
      ],
      "text/latex": [
       "'Luis Meza'"
      ],
      "text/markdown": [
       "'Luis Meza'"
      ],
      "text/plain": [
       "[1] \"Luis Meza\""
      ]
     },
     "metadata": {},
     "output_type": "display_data"
    },
    {
     "name": "stdout",
     "output_type": "stream",
     "text": [
      "[1] \"Extrar un conjunto de elementos\"\n"
     ]
    },
    {
     "data": {
      "text/html": [
       "<dl>\n",
       "\t<dt>$Nombre</dt>\n",
       "\t\t<dd>'Luis Meza'</dd>\n",
       "\t<dt>$Dpto</dt>\n",
       "\t\t<dd>'Pricing'</dd>\n",
       "</dl>\n"
      ],
      "text/latex": [
       "\\begin{description}\n",
       "\\item[\\$Nombre] 'Luis Meza'\n",
       "\\item[\\$Dpto] 'Pricing'\n",
       "\\end{description}\n"
      ],
      "text/markdown": [
       "$Nombre\n",
       ":   'Luis Meza'\n",
       "$Dpto\n",
       ":   'Pricing'\n",
       "\n",
       "\n"
      ],
      "text/plain": [
       "$Nombre\n",
       "[1] \"Luis Meza\"\n",
       "\n",
       "$Dpto\n",
       "[1] \"Pricing\"\n"
      ]
     },
     "metadata": {},
     "output_type": "display_data"
    },
    {
     "name": "stdout",
     "output_type": "stream",
     "text": [
      "[1] \"Seleccionar el 1 elemento de la sublista\"\n"
     ]
    },
    {
     "data": {
      "text/html": [
       "'Lic'"
      ],
      "text/latex": [
       "'Lic'"
      ],
      "text/markdown": [
       "'Lic'"
      ],
      "text/plain": [
       "[1] \"Lic\""
      ]
     },
     "metadata": {},
     "output_type": "display_data"
    },
    {
     "name": "stdout",
     "output_type": "stream",
     "text": [
      "[1] \"Otra manera de seleccionar el 1 elementos de la sublista\"\n"
     ]
    },
    {
     "data": {
      "text/html": [
       "'Lic'"
      ],
      "text/latex": [
       "'Lic'"
      ],
      "text/markdown": [
       "'Lic'"
      ],
      "text/plain": [
       "[1] \"Lic\""
      ]
     },
     "metadata": {},
     "output_type": "display_data"
    },
    {
     "name": "stdout",
     "output_type": "stream",
     "text": [
      "[1] \"Extracción por nombres\"\n"
     ]
    },
    {
     "data": {
      "text/html": [
       "<strong>$Dpto</strong> = 'Pricing'"
      ],
      "text/latex": [
       "\\textbf{\\$Dpto} = 'Pricing'"
      ],
      "text/markdown": [
       "**$Dpto** = 'Pricing'"
      ],
      "text/plain": [
       "$Dpto\n",
       "[1] \"Pricing\"\n"
      ]
     },
     "metadata": {},
     "output_type": "display_data"
    },
    {
     "data": {
      "text/html": [
       "<strong>$sub</strong> = <dl>\n",
       "\t<dt>$Estudios</dt>\n",
       "\t\t<dd>'Lic'</dd>\n",
       "\t<dt>$Carrera</dt>\n",
       "\t\t<dd>'Actuaria'</dd>\n",
       "</dl>\n"
      ],
      "text/latex": [
       "\\textbf{\\$sub} = \\begin{description}\n",
       "\\item[\\$Estudios] 'Lic'\n",
       "\\item[\\$Carrera] 'Actuaria'\n",
       "\\end{description}\n"
      ],
      "text/markdown": [
       "**$sub** = $Estudios\n",
       ":   'Lic'\n",
       "$Carrera\n",
       ":   'Actuaria'\n",
       "\n",
       "\n"
      ],
      "text/plain": [
       "$sub\n",
       "$sub$Estudios\n",
       "[1] \"Lic\"\n",
       "\n",
       "$sub$Carrera\n",
       "[1] \"Actuaria\"\n",
       "\n"
      ]
     },
     "metadata": {},
     "output_type": "display_data"
    }
   ],
   "source": [
    "print(\"Lista\")\n",
    "lista1<-list(Nombre=\"Luis Meza\",Edad=\"30\",Dpto=\"Pricing\")\n",
    "lista1\n",
    "sublist<-list(Estudios=\"Lic\",Carrera=\"Actuaria\")\n",
    "\n",
    "print(\"List in List\")\n",
    "super_list<-list(Nombre=\"Luis Meza\",Edad=\"30\",Dpto=\"Pricing\",sub=sublist)\n",
    "super_list\n",
    "\n",
    "print(\"Subsetting con []\")\n",
    "super_list[1]\n",
    "\n",
    "print(\"Subsetting con [[]]\")\n",
    "super_list[[1]]\n",
    "\n",
    "\n",
    "print(\"Extrar un conjunto de elementos\")\n",
    "super_list[c(1,3)]\n",
    "\n",
    "print(\"Seleccionar el 1 elemento de la sublista\")\n",
    "super_list[[4]][[1]]\n",
    "print(\"Otra manera de seleccionar el 1 elementos de la sublista\")\n",
    "super_list[[c(4,1)]]\n",
    "\n",
    "print(\"Extracción por nombres\")\n",
    "super_list[\"Dpto\"]\n",
    "super_list[\"sub\"]\n",
    "\n"
   ]
  },
  {
   "cell_type": "markdown",
   "metadata": {},
   "source": [
    "## Adding more information to the list\n",
    "\n",
    "To conveniently add elements to lists you can use the `c()` function, that you also used to build vectors:\n",
    "\n",
    "> `ext_list <- c(my_list , my_val)`\n",
    "\n",
    "If you want to give the new list item a name, you just add the name as you did before:\n",
    "\n",
    "> `ext_list <- c(my_list, my_name = my_val)`"
   ]
  },
  {
   "cell_type": "markdown",
   "metadata": {
    "collapsed": true
   },
   "source": [
    "## Data Frame\n",
    "\n",
    "Asi como las vectores, matrices y otros elementos, un Data Frame es un Date Set i.e un conjunto de datos la cual:\n",
    "\n",
    "* Son Observaciones\n",
    "* Almacenada variables\n",
    "* No es un matrix, pues almacenan datos de diferentes tipos\n",
    "* No es una lista, pues estan no son muy praticas de consultar a diferencia de una Data Frame\n",
    "\n",
    "* **Columns** son las variables de estudios\n",
    "* **Rows** son los registros u observaciones\n",
    "* la función **date.frame()** nos servira para crear un date.frame\n",
    "\n",
    "Algunas funciones utiles para tener un vistazo de los datos.\n",
    "\n",
    "* **head()**, muestra las primeras observaciones\n",
    "* **tail()**, muestra las últimas observaciones\n",
    "* **dim()**, muestra las dimensiones\n",
    "\n",
    "You can set the **stringsAsFactors** argument inside data.frame() to avoid that R automatically converts character vectors to factors: \n",
    "\n",
    "Example: data.frame(vec1, vec2, ..., stringsAsFactors)\n",
    "\n",
    "Asi mismo tenemos dos formas de ingresar el nombre\n",
    "\n",
    "> data.frame(name1 = vec1, name2 = vec2, ...)\n",
    "\n",
    "> my_df <- data.frame(vec1, vec2, ...)\n",
    "\n",
    "> names(my_df) <- c(\"name1\", \"name2\", ...)\n",
    "\n",
    "The function str() shows you the structure of your data set. For a data frame it tells you:\n",
    "\n",
    "* The total number of observations (e.g. 32 car types)\n",
    "* The total number of variables (e.g. 11 car features)\n",
    "* A full list of the variables names (e.g. mpg, cyl ... )\n",
    "* The data type of each variable (e.g. num)\n",
    "* The first observations"
   ]
  },
  {
   "cell_type": "code",
   "execution_count": 13,
   "metadata": {},
   "outputs": [
    {
     "name": "stdout",
     "output_type": "stream",
     "text": [
      "[1] \"Creación de una Date Frame\"\n"
     ]
    },
    {
     "data": {
      "text/html": [
       "<table>\n",
       "<thead><tr><th scope=col>Nombres</th><th scope=col>Edades</th><th scope=col>Child</th></tr></thead>\n",
       "<tbody>\n",
       "\t<tr><td>Luis </td><td>27   </td><td> TRUE</td></tr>\n",
       "\t<tr><td>Jose </td><td>25   </td><td> TRUE</td></tr>\n",
       "\t<tr><td>Maria</td><td>40   </td><td>FALSE</td></tr>\n",
       "</tbody>\n",
       "</table>\n"
      ],
      "text/latex": [
       "\\begin{tabular}{r|lll}\n",
       " Nombres & Edades & Child\\\\\n",
       "\\hline\n",
       "\t Luis  & 27    &  TRUE\\\\\n",
       "\t Jose  & 25    &  TRUE\\\\\n",
       "\t Maria & 40    & FALSE\\\\\n",
       "\\end{tabular}\n"
      ],
      "text/markdown": [
       "\n",
       "Nombres | Edades | Child | \n",
       "|---|---|---|\n",
       "| Luis  | 27    |  TRUE | \n",
       "| Jose  | 25    |  TRUE | \n",
       "| Maria | 40    | FALSE | \n",
       "\n",
       "\n"
      ],
      "text/plain": [
       "  Nombres Edades Child\n",
       "1 Luis    27      TRUE\n",
       "2 Jose    25      TRUE\n",
       "3 Maria   40     FALSE"
      ]
     },
     "metadata": {},
     "output_type": "display_data"
    }
   ],
   "source": [
    "print(\"Creación de una Date Frame\")\n",
    "a<-c(\"Luis\",\"Jose\",\"Maria\")\n",
    "b<-c(27,25,40)\n",
    "c<-c(T,T,F)\n",
    "\n",
    "df<-data.frame(a,b,c)\n",
    "names(df)<-c(\"Nombres\",\"Edades\",\"Child\")\n",
    "df\n",
    "\n"
   ]
  },
  {
   "cell_type": "markdown",
   "metadata": {
    "collapsed": true
   },
   "source": [
    "## Data Frame Subsetting\n",
    "\n",
    "Combinandas las caracteristicas de las matrices y las listas dado que :\n",
    "\n",
    "* **[** de matrices\n",
    "* **[[** y **\\$** para listas\n",
    "\n",
    "Similar to matrices, you select elements from a data frame with the help of square brackets [ ]. By using a comma, you can indicate what to select from the rows and the columns respectively:\n",
    "\n",
    "**first row, second column**\n",
    "\n",
    "> my_df[1,2]\n",
    "\n",
    "**rows 1, 2 and 3**\n",
    "\n",
    "> columns 2, 3 and 4\n",
    "\n",
    "> my_df[1:3,2:4]\n",
    "\n",
    "**Entire first row**\n",
    "\n",
    ">my_df[1, ]\n",
    "\n",
    "** Instead of using numerics to select elements of a data frame, you can also use the variable names to select columns of a data frame. **\n",
    "> planets_df[1:3,\"type\"]\n",
    "\n",
    "**You will often want to select an entire column, namely one specific variable from a data frame. If you want to select all elements of the variable rings, both planets_df[,5] and planets_df[,\"has_rings\"] do the trick. However, you can also use the $ sign:**\n",
    "\n",
    ">my_df$col_name\n",
    "\n",
    "**Instead of having to define a vector rings_vector, which you then use to subset planets_df, you could've also used or \n",
    "You can reach the same thing with the subset(). You should see the subset() function:**\n",
    "\n",
    "subset(my_df, subset = some_condition)\n",
    "\n",
    "> planets_df[planets_df$has_rings == TRUE, ]\n",
    "\n",
    "> subset(planets_df, subset = has_rings == TRUE)\n",
    "\n",
    "** There are many cases in which you'll want to add more variables to your data frame. This comes down to adding a column to the data frame. The exact same techniques to select columns from a data frame can be used here. To add a column new_column to my_df, with data from my_vec, you can use one of the following calls: **\n",
    "\n",
    "> my_df$new_column <- my_vec\n",
    "\n",
    "> my_df[[\"new_column\"]] <- my_vec\n",
    "\n",
    "> my_df <- cbind(my_df, new_column = my_vec)\n",
    "\n",
    "**Next to adding new variables to a data frame, you can also add observations. You can use the rbind() function for this. The rbind() function is capable of pasting together two data frames. The merge can only be successful when the names of both the data frames match, otherwise an error occurs. Suppose you have two data frames containing three columns each:**\n",
    "\n",
    "> my_df1 <- data.frame(a = 1, b = 2, c = 3)\n",
    "\n",
    "> my_df2 <- data.frame(a = 8, b = 9, c = 10)\n",
    "\n",
    "> uber_df <- rbind(my_df1, my_df2)\n",
    "\n",
    "**In data analysis you will sort your data according to a certain variable in the data set. In R, this is done with the help of the function order() this is a function that gives you the ranked position of each element when it is applied on a variable, such as a vector for example:**\n",
    "\n",
    "> a <- c(100,9,101)\n",
    "\n",
    "> order(a)\n",
    "\n",
    "this code returns the vector containing 2, 1 and 3; that's because 100 is the second largest element of the vector, 9 is the smallest element and 101 is the largest element.\n",
    "\n",
    "> a[order(a)]\n",
    "\n",
    "will thus give you the ordered vector (9, 100, 101), since it first picks the second element of a, then the first and then the last"
   ]
  },
  {
   "cell_type": "code",
   "execution_count": 22,
   "metadata": {},
   "outputs": [
    {
     "data": {
      "text/html": [
       "<table>\n",
       "<thead><tr><th scope=col>Nombres</th><th scope=col>Edades</th><th scope=col>Child</th><th scope=col>Altura</th></tr></thead>\n",
       "<tbody>\n",
       "\t<tr><td>Luis </td><td>27   </td><td> TRUE</td><td>1.7  </td></tr>\n",
       "\t<tr><td>Jose </td><td>25   </td><td> TRUE</td><td>1.5  </td></tr>\n",
       "\t<tr><td>Maria</td><td>40   </td><td>FALSE</td><td>1.8  </td></tr>\n",
       "</tbody>\n",
       "</table>\n"
      ],
      "text/latex": [
       "\\begin{tabular}{r|llll}\n",
       " Nombres & Edades & Child & Altura\\\\\n",
       "\\hline\n",
       "\t Luis  & 27    &  TRUE & 1.7  \\\\\n",
       "\t Jose  & 25    &  TRUE & 1.5  \\\\\n",
       "\t Maria & 40    & FALSE & 1.8  \\\\\n",
       "\\end{tabular}\n"
      ],
      "text/markdown": [
       "\n",
       "Nombres | Edades | Child | Altura | \n",
       "|---|---|---|\n",
       "| Luis  | 27    |  TRUE | 1.7   | \n",
       "| Jose  | 25    |  TRUE | 1.5   | \n",
       "| Maria | 40    | FALSE | 1.8   | \n",
       "\n",
       "\n"
      ],
      "text/plain": [
       "  Nombres Edades Child Altura\n",
       "1 Luis    27      TRUE 1.7   \n",
       "2 Jose    25      TRUE 1.5   \n",
       "3 Maria   40     FALSE 1.8   "
      ]
     },
     "metadata": {},
     "output_type": "display_data"
    },
    {
     "name": "stdout",
     "output_type": "stream",
     "text": [
      "[1] \"-----------------------------------------------------------------\"\n",
      "[1] \"Extrar un elemento\"\n"
     ]
    },
    {
     "data": {
      "text/html": [
       "25"
      ],
      "text/latex": [
       "25"
      ],
      "text/markdown": [
       "25"
      ],
      "text/plain": [
       "[1] 25"
      ]
     },
     "metadata": {},
     "output_type": "display_data"
    },
    {
     "name": "stdout",
     "output_type": "stream",
     "text": [
      "[1] \"-----------------------------------------------------------------\"\n",
      "[1] \"toda una fila o columna\"\n"
     ]
    },
    {
     "data": {
      "text/html": [
       "<table>\n",
       "<thead><tr><th></th><th scope=col>Nombres</th><th scope=col>Edades</th><th scope=col>Child</th><th scope=col>Altura</th></tr></thead>\n",
       "<tbody>\n",
       "\t<tr><th scope=row>2</th><td>Jose</td><td>25  </td><td>TRUE</td><td>1.5 </td></tr>\n",
       "</tbody>\n",
       "</table>\n"
      ],
      "text/latex": [
       "\\begin{tabular}{r|llll}\n",
       "  & Nombres & Edades & Child & Altura\\\\\n",
       "\\hline\n",
       "\t2 & Jose & 25   & TRUE & 1.5 \\\\\n",
       "\\end{tabular}\n"
      ],
      "text/markdown": [
       "\n",
       "| <!--/--> | Nombres | Edades | Child | Altura | \n",
       "|---|\n",
       "| 2 | Jose | 25   | TRUE | 1.5  | \n",
       "\n",
       "\n"
      ],
      "text/plain": [
       "  Nombres Edades Child Altura\n",
       "2 Jose    25     TRUE  1.5   "
      ]
     },
     "metadata": {},
     "output_type": "display_data"
    },
    {
     "name": "stdout",
     "output_type": "stream",
     "text": [
      "[1] \"-----------------------------------------------------------------\"\n",
      "[1] \"varios elementos\"\n"
     ]
    },
    {
     "data": {
      "text/html": [
       "<table>\n",
       "<thead><tr><th></th><th scope=col>Nombres</th><th scope=col>Child</th></tr></thead>\n",
       "<tbody>\n",
       "\t<tr><th scope=row>1</th><td>Luis </td><td> TRUE</td></tr>\n",
       "\t<tr><th scope=row>3</th><td>Maria</td><td>FALSE</td></tr>\n",
       "</tbody>\n",
       "</table>\n"
      ],
      "text/latex": [
       "\\begin{tabular}{r|ll}\n",
       "  & Nombres & Child\\\\\n",
       "\\hline\n",
       "\t1 & Luis  &  TRUE\\\\\n",
       "\t3 & Maria & FALSE\\\\\n",
       "\\end{tabular}\n"
      ],
      "text/markdown": [
       "\n",
       "| <!--/--> | Nombres | Child | \n",
       "|---|---|\n",
       "| 1 | Luis  |  TRUE | \n",
       "| 3 | Maria | FALSE | \n",
       "\n",
       "\n"
      ],
      "text/plain": [
       "  Nombres Child\n",
       "1 Luis     TRUE\n",
       "3 Maria   FALSE"
      ]
     },
     "metadata": {},
     "output_type": "display_data"
    },
    {
     "name": "stdout",
     "output_type": "stream",
     "text": [
      "[1] \"-----------------------------------------------------------------\"\n",
      "[1] \"Agregar Columnas\"\n"
     ]
    },
    {
     "data": {
      "text/html": [
       "<table>\n",
       "<thead><tr><th scope=col>Nombres</th><th scope=col>Edades</th><th scope=col>Child</th><th scope=col>Altura</th></tr></thead>\n",
       "<tbody>\n",
       "\t<tr><td>Luis </td><td>27   </td><td> TRUE</td><td>1.7  </td></tr>\n",
       "\t<tr><td>Jose </td><td>25   </td><td> TRUE</td><td>1.5  </td></tr>\n",
       "\t<tr><td>Maria</td><td>40   </td><td>FALSE</td><td>1.8  </td></tr>\n",
       "</tbody>\n",
       "</table>\n"
      ],
      "text/latex": [
       "\\begin{tabular}{r|llll}\n",
       " Nombres & Edades & Child & Altura\\\\\n",
       "\\hline\n",
       "\t Luis  & 27    &  TRUE & 1.7  \\\\\n",
       "\t Jose  & 25    &  TRUE & 1.5  \\\\\n",
       "\t Maria & 40    & FALSE & 1.8  \\\\\n",
       "\\end{tabular}\n"
      ],
      "text/markdown": [
       "\n",
       "Nombres | Edades | Child | Altura | \n",
       "|---|---|---|\n",
       "| Luis  | 27    |  TRUE | 1.7   | \n",
       "| Jose  | 25    |  TRUE | 1.5   | \n",
       "| Maria | 40    | FALSE | 1.8   | \n",
       "\n",
       "\n"
      ],
      "text/plain": [
       "  Nombres Edades Child Altura\n",
       "1 Luis    27      TRUE 1.7   \n",
       "2 Jose    25      TRUE 1.5   \n",
       "3 Maria   40     FALSE 1.8   "
      ]
     },
     "metadata": {},
     "output_type": "display_data"
    },
    {
     "name": "stdout",
     "output_type": "stream",
     "text": [
      "[1] \"-----------------------------------------------------------------\"\n",
      "[1] \"Agregar Filas\"\n"
     ]
    },
    {
     "data": {
      "text/html": [
       "<table>\n",
       "<thead><tr><th scope=col>Nombres</th><th scope=col>Edades</th><th scope=col>Child</th><th scope=col>Altura</th></tr></thead>\n",
       "<tbody>\n",
       "\t<tr><td>Luis </td><td>27   </td><td> TRUE</td><td>1.70 </td></tr>\n",
       "\t<tr><td>Jose </td><td>25   </td><td> TRUE</td><td>1.50 </td></tr>\n",
       "\t<tr><td>Maria</td><td>40   </td><td>FALSE</td><td>1.80 </td></tr>\n",
       "\t<tr><td>Tom  </td><td>50   </td><td>FALSE</td><td>1.83 </td></tr>\n",
       "</tbody>\n",
       "</table>\n"
      ],
      "text/latex": [
       "\\begin{tabular}{r|llll}\n",
       " Nombres & Edades & Child & Altura\\\\\n",
       "\\hline\n",
       "\t Luis  & 27    &  TRUE & 1.70 \\\\\n",
       "\t Jose  & 25    &  TRUE & 1.50 \\\\\n",
       "\t Maria & 40    & FALSE & 1.80 \\\\\n",
       "\t Tom   & 50    & FALSE & 1.83 \\\\\n",
       "\\end{tabular}\n"
      ],
      "text/markdown": [
       "\n",
       "Nombres | Edades | Child | Altura | \n",
       "|---|---|---|---|\n",
       "| Luis  | 27    |  TRUE | 1.70  | \n",
       "| Jose  | 25    |  TRUE | 1.50  | \n",
       "| Maria | 40    | FALSE | 1.80  | \n",
       "| Tom   | 50    | FALSE | 1.83  | \n",
       "\n",
       "\n"
      ],
      "text/plain": [
       "  Nombres Edades Child Altura\n",
       "1 Luis    27      TRUE 1.70  \n",
       "2 Jose    25      TRUE 1.50  \n",
       "3 Maria   40     FALSE 1.80  \n",
       "4 Tom     50     FALSE 1.83  "
      ]
     },
     "metadata": {},
     "output_type": "display_data"
    },
    {
     "name": "stdout",
     "output_type": "stream",
     "text": [
      "[1] \"-----------------------------------------------------------------\"\n",
      "[1] \"Ordenar Registros\"\n"
     ]
    },
    {
     "data": {
      "text/html": [
       "<ol class=list-inline>\n",
       "\t<li>2</li>\n",
       "\t<li>1</li>\n",
       "\t<li>3</li>\n",
       "</ol>\n"
      ],
      "text/latex": [
       "\\begin{enumerate*}\n",
       "\\item 2\n",
       "\\item 1\n",
       "\\item 3\n",
       "\\end{enumerate*}\n"
      ],
      "text/markdown": [
       "1. 2\n",
       "2. 1\n",
       "3. 3\n",
       "\n",
       "\n"
      ],
      "text/plain": [
       "[1] 2 1 3"
      ]
     },
     "metadata": {},
     "output_type": "display_data"
    },
    {
     "data": {
      "text/html": [
       "<ol class=list-inline>\n",
       "\t<li>27</li>\n",
       "\t<li>25</li>\n",
       "\t<li>40</li>\n",
       "</ol>\n"
      ],
      "text/latex": [
       "\\begin{enumerate*}\n",
       "\\item 27\n",
       "\\item 25\n",
       "\\item 40\n",
       "\\end{enumerate*}\n"
      ],
      "text/markdown": [
       "1. 27\n",
       "2. 25\n",
       "3. 40\n",
       "\n",
       "\n"
      ],
      "text/plain": [
       "[1] 27 25 40"
      ]
     },
     "metadata": {},
     "output_type": "display_data"
    }
   ],
   "source": [
    "#Vamos a usar nuestro data frame anterior\n",
    "df\n",
    "\n",
    "print(\"-----------------------------------------------------------------\")\n",
    "print(\"Extrar un elemento\")\n",
    "df[2,2]\n",
    "\n",
    "print(\"-----------------------------------------------------------------\")\n",
    "print(\"toda una fila o columna\")\n",
    "df[2,]\n",
    "\n",
    "print(\"-----------------------------------------------------------------\")\n",
    "print(\"varios elementos\")\n",
    "df[c(1,3),c(\"Nombres\",\"Child\")]\n",
    "\n",
    "print(\"-----------------------------------------------------------------\")\n",
    "print(\"Agregar Columnas\")\n",
    "height<-c(1.70,1.50,1.80)\n",
    "df$Altura<-height\n",
    "#Otra manera de ingrearlo seria df[[Altura]]<-height\n",
    "#Una segunda forma es cbind\n",
    "df\n",
    "\n",
    "print(\"-----------------------------------------------------------------\")\n",
    "print(\"Agregar Filas\")\n",
    "#Tenemos que ingresar los nombres de las etiquetas, de lo contrario marcaria error.\n",
    "tom<-data.frame(Nombres=\"Tom\",Edades=50,Child=FALSE,Altura=1.83)\n",
    "rbind(df,tom)\n",
    "\n",
    "print(\"-----------------------------------------------------------------\")\n",
    "print(\"Ordenar Registros\")\n",
    "#Tenemos que ingresar los nombres de las etiquetas, de lo contrario marcaria error.\n",
    "ranks<-order(df$Edades)\n",
    "ranks\n",
    "\n",
    "df$Edades\n",
    "\n"
   ]
  },
  {
   "cell_type": "code",
   "execution_count": 45,
   "metadata": {},
   "outputs": [
    {
     "name": "stdout",
     "output_type": "stream",
     "text": [
      "function (mode = \"logical\", length = 0L)  \n",
      "'data.frame':\t2 obs. of  2 variables:\n",
      " $ nombre: Factor w/ 2 levels \"Jose\",\"Luis\": 2 1\n",
      " $ edad  : num  10 20\n"
     ]
    },
    {
     "data": {
      "text/html": [
       "FALSE"
      ],
      "text/latex": [
       "FALSE"
      ],
      "text/markdown": [
       "FALSE"
      ],
      "text/plain": [
       "[1] FALSE"
      ]
     },
     "metadata": {},
     "output_type": "display_data"
    },
    {
     "data": {
      "text/html": [
       "TRUE"
      ],
      "text/latex": [
       "TRUE"
      ],
      "text/markdown": [
       "TRUE"
      ],
      "text/plain": [
       "[1] TRUE"
      ]
     },
     "metadata": {},
     "output_type": "display_data"
    }
   ],
   "source": [
    "vecto<-c(1,0,0)\n",
    "str(vector)\n",
    "\n",
    "\n",
    "\n",
    "a<-data.frame(nombre=c(\"Luis\",\"Jose\"),edad=c(10,20))\n",
    "str(a)\n",
    "\n",
    "is.vector(a$nombre)\n",
    "is.vector(a[,\"edad\"])\n",
    "\n"
   ]
  },
  {
   "cell_type": "markdown",
   "metadata": {
    "collapsed": true
   },
   "source": [
    "# Other things \n",
    "\n",
    "### Read\n",
    "Use the library() function to load the tidyverse package.\n",
    "\n",
    "Read in the CSV file that holds the data using the function read_csv(). The file path has already been filled in for you.\n",
    "\n",
    "> taxis <- read.csv(\"/usr/local/share/datasets/taxis.csv\")\n",
    "\n",
    "1. Take a first look at your data using the function glimpse().\n",
    "2. Examine the structure of the dataset with the str() function.\n",
    "3. Get a summary statistics of all the variables with the summary() function.\n",
    "\n",
    "### Applying functions\n",
    "R contains a few useful functions that allow you to apply other functions to the elements of a list or a vector. As an example, say you have a list of vectors:\n",
    "\n",
    "Now you want to find the length() of each of these vectors. One solution is to write code like length(my_list[[\"vec_1\"]]). But this could quickly get tedious. Here's where the function sapply() comes in! You want to apply the function length() to each element of the list! So now your code looks like sapply(my_list, length), and the output is"
   ]
  },
  {
   "cell_type": "code",
   "execution_count": 3,
   "metadata": {},
   "outputs": [
    {
     "data": {
      "text/html": [
       "<dl class=dl-horizontal>\n",
       "\t<dt>vec_1</dt>\n",
       "\t\t<dd>3</dd>\n",
       "\t<dt>vec_2</dt>\n",
       "\t\t<dd>2</dd>\n",
       "\t<dt>vec_3</dt>\n",
       "\t\t<dd>4</dd>\n",
       "</dl>\n"
      ],
      "text/latex": [
       "\\begin{description*}\n",
       "\\item[vec\\textbackslash{}\\_1] 3\n",
       "\\item[vec\\textbackslash{}\\_2] 2\n",
       "\\item[vec\\textbackslash{}\\_3] 4\n",
       "\\end{description*}\n"
      ],
      "text/markdown": [
       "vec_1\n",
       ":   3vec_2\n",
       ":   2vec_3\n",
       ":   4\n",
       "\n"
      ],
      "text/plain": [
       "vec_1 vec_2 vec_3 \n",
       "    3     2     4 "
      ]
     },
     "metadata": {},
     "output_type": "display_data"
    },
    {
     "data": {
      "text/html": [
       "<dl class=dl-horizontal>\n",
       "\t<dt>vec_1</dt>\n",
       "\t\t<dd>TRUE</dd>\n",
       "\t<dt>vec_2</dt>\n",
       "\t\t<dd>FALSE</dd>\n",
       "\t<dt>vec_3</dt>\n",
       "\t\t<dd>FALSE</dd>\n",
       "</dl>\n"
      ],
      "text/latex": [
       "\\begin{description*}\n",
       "\\item[vec\\textbackslash{}\\_1] TRUE\n",
       "\\item[vec\\textbackslash{}\\_2] FALSE\n",
       "\\item[vec\\textbackslash{}\\_3] FALSE\n",
       "\\end{description*}\n"
      ],
      "text/markdown": [
       "vec_1\n",
       ":   TRUEvec_2\n",
       ":   FALSEvec_3\n",
       ":   FALSE\n",
       "\n"
      ],
      "text/plain": [
       "vec_1 vec_2 vec_3 \n",
       " TRUE FALSE FALSE "
      ]
     },
     "metadata": {},
     "output_type": "display_data"
    }
   ],
   "source": [
    "my_list <- list(\n",
    "  vec_1 = c(1, 2, 3),\n",
    "  vec_2 = c(\"apples\", \"bananas\"),\n",
    "  vec_3 = c(TRUE, TRUE, FALSE, TRUE)\n",
    ")\n",
    "\n",
    "sapply(my_list, length)\n",
    "sapply(my_list, is.numeric)"
   ]
  },
  {
   "cell_type": "markdown",
   "metadata": {},
   "source": [
    "### To define your own function in R\n",
    "\n",
    "You'll use the syntax:\n",
    "\n",
    "function_name <- function(args, more_args) {\n",
    "\n",
    "    ...\n",
    "    \n",
    "} \n",
    "\n",
    "where the ... is replaced with whatever operations using args and more_args you want the function to carry out\n",
    "\n",
    "### Selecting columns\n",
    "You'll be using the `dplyr` package to work with dataframes. This package has five main functions, or \"verbs\", that each correspond to a common data manipulation task. The first is `select()`. As you might have guessed, this verb selects columns from your dataframe and returns another dataframe.\n",
    "\n",
    "Another thing you might find handy is the `pipe` operator. It looks like `%>%` and makes your code more readable by doing away with nested function calls. The pipe works by evaluating the object on its left and passing it as the first argument to the function on its right. So `taxis %>% select() is the same as select(taxis) `.\n",
    "\n",
    "### Dropping columns\n",
    "It's often the case that your dataframe contains columns you don't need. In this exercise you'll use the select() function to get rid of some of these.\n",
    "\n",
    "You can do this by placing a `-(minus sign)` before the column name when you're select()-ing it.\n",
    "\n",
    "### Finding all correlations\n",
    "Remember when you calculated the correlation coefficient between two columns a few exercises ago? Now you'll use the helpful function `select_if()` to find the correlations between all numerical columns at once!\n",
    "\n",
    "The function `select_if()` works a lot like select, except instead of passing the names of columns in, you pass in a function that that is run on each column and that evaluates to `TRUE or FALSE` . Then `select_if()` returns the columns where your function was TRUE.\n",
    "\n",
    "### Creating columns I\n",
    "Your next step is creating a few columns you're interested in examining, but aren't present in your original dataset.\n",
    "\n",
    "You'll use the `dplyr verb mutate()` for this. The first argument of the function mutate() is the dataframe that you're working with. Subsequent arguments have the form `new_col_name = new_col_expr`\n",
    "\n",
    "### Creating columns II\n",
    "Now you're interested in seeing how much distance having to drive along roads (as opposed to in a straight line) adds to trips.\n",
    "\n",
    "The function hav_dist(), which computes distance using the Haversine formula, has been defined for you. This function takes the longitude of the origin, the latitude of the origin, the longitude of the destination, and the latitude of the destination, in that order.\n",
    "\n",
    "### Filtering rows I\n",
    "Another important data science skill is filtering the rows of your data. To filter rows in this exercise you'll use a function aptly called filter() from the dplyr package. In addition to a dataframe, this function's arguments are logical expressions that are used to filter the rows of your dataframe.\n",
    "\n",
    "### Grouping with counts and means\n",
    "The next skill you'll learn is grouping and summarizing your data. This means splitting the data based on the values of one or more columns and the aggregating each of these groups into a single summary statistic.\n",
    "\n",
    "dplyr has two functions that do this job. The first is group_by(), which groups the data, and the second is summarize() which summarizes the groups. The function group_by() takes a dataframe (of course) and names of columns that define groups. The function summarize() works a lot like mutate(), but instead of an expression that creates a new column, you need one that aggregates the rows of the data to a single value.\n",
    "\n",
    "Group and summarize the data\n",
    "\n",
    "taxis %>% group_by(passenger_count) %>% \n",
    "\n",
    "  summarize(n = n(), mean_cost = mean(total_amount))\n"
   ]
  },
  {
   "cell_type": "markdown",
   "metadata": {
    "collapsed": true
   },
   "source": [
    "# Other thing that I learn in other courses:\n",
    "\n",
    "In HarvardX: PH125.1x we take the course of  \"Data Science: R Basic\" in the Section 2: Vectors, Sorting   2.2 Sorting   we saw the diferences between sort,order and rank\n",
    "\n",
    "1. sort, only order our data to less to major\n",
    "2. The function order() returns the index vector needed to sort the vector. This implies that `sort(x) and x[order(x)]` give the same result.\n",
    "3. The funtion rank()  give the rank our data, \n",
    "\n",
    "Note that if rank(x) gives you the ranks of x from lowest to highest, rank(-x) gives you the ranks from highest to lowest.\n"
   ]
  },
  {
   "cell_type": "code",
   "execution_count": 22,
   "metadata": {},
   "outputs": [
    {
     "name": "stdout",
     "output_type": "stream",
     "text": [
      "[1] \"Define a vector\"\n"
     ]
    },
    {
     "data": {
      "text/html": [
       "<ol class=list-inline>\n",
       "\t<li>100</li>\n",
       "\t<li>50</li>\n",
       "\t<li>10</li>\n",
       "\t<li>30</li>\n",
       "\t<li>60</li>\n",
       "</ol>\n"
      ],
      "text/latex": [
       "\\begin{enumerate*}\n",
       "\\item 100\n",
       "\\item 50\n",
       "\\item 10\n",
       "\\item 30\n",
       "\\item 60\n",
       "\\end{enumerate*}\n"
      ],
      "text/markdown": [
       "1. 100\n",
       "2. 50\n",
       "3. 10\n",
       "4. 30\n",
       "5. 60\n",
       "\n",
       "\n"
      ],
      "text/plain": [
       "[1] 100  50  10  30  60"
      ]
     },
     "metadata": {},
     "output_type": "display_data"
    },
    {
     "name": "stdout",
     "output_type": "stream",
     "text": [
      "[1] \"-------------------------sort--------------------------------\"\n",
      "[1] \"Sort our data\"\n"
     ]
    },
    {
     "data": {
      "text/html": [
       "<ol class=list-inline>\n",
       "\t<li>10</li>\n",
       "\t<li>30</li>\n",
       "\t<li>50</li>\n",
       "\t<li>60</li>\n",
       "\t<li>100</li>\n",
       "</ol>\n"
      ],
      "text/latex": [
       "\\begin{enumerate*}\n",
       "\\item 10\n",
       "\\item 30\n",
       "\\item 50\n",
       "\\item 60\n",
       "\\item 100\n",
       "\\end{enumerate*}\n"
      ],
      "text/markdown": [
       "1. 10\n",
       "2. 30\n",
       "3. 50\n",
       "4. 60\n",
       "5. 100\n",
       "\n",
       "\n"
      ],
      "text/plain": [
       "[1]  10  30  50  60 100"
      ]
     },
     "metadata": {},
     "output_type": "display_data"
    },
    {
     "name": "stdout",
     "output_type": "stream",
     "text": [
      "[1] \"-------------------------order--------------------------------\"\n",
      "[1] \"we want order the following vector\"\n"
     ]
    },
    {
     "data": {
      "text/html": [
       "<ol class=list-inline>\n",
       "\t<li>100</li>\n",
       "\t<li>50</li>\n",
       "\t<li>10</li>\n",
       "\t<li>30</li>\n",
       "\t<li>60</li>\n",
       "</ol>\n"
      ],
      "text/latex": [
       "\\begin{enumerate*}\n",
       "\\item 100\n",
       "\\item 50\n",
       "\\item 10\n",
       "\\item 30\n",
       "\\item 60\n",
       "\\end{enumerate*}\n"
      ],
      "text/markdown": [
       "1. 100\n",
       "2. 50\n",
       "3. 10\n",
       "4. 30\n",
       "5. 60\n",
       "\n",
       "\n"
      ],
      "text/plain": [
       "[1] 100  50  10  30  60"
      ]
     },
     "metadata": {},
     "output_type": "display_data"
    },
    {
     "name": "stdout",
     "output_type": "stream",
     "text": [
      "[1] \"obtaind index\"\n"
     ]
    },
    {
     "data": {
      "text/html": [
       "<ol class=list-inline>\n",
       "\t<li>3</li>\n",
       "\t<li>4</li>\n",
       "\t<li>2</li>\n",
       "\t<li>5</li>\n",
       "\t<li>1</li>\n",
       "</ol>\n"
      ],
      "text/latex": [
       "\\begin{enumerate*}\n",
       "\\item 3\n",
       "\\item 4\n",
       "\\item 2\n",
       "\\item 5\n",
       "\\item 1\n",
       "\\end{enumerate*}\n"
      ],
      "text/markdown": [
       "1. 3\n",
       "2. 4\n",
       "3. 2\n",
       "4. 5\n",
       "5. 1\n",
       "\n",
       "\n"
      ],
      "text/plain": [
       "[1] 3 4 2 5 1"
      ]
     },
     "metadata": {},
     "output_type": "display_data"
    },
    {
     "name": "stdout",
     "output_type": "stream",
     "text": [
      "[1] \"now if we want order data\"\n"
     ]
    },
    {
     "data": {
      "text/html": [
       "<ol class=list-inline>\n",
       "\t<li>10</li>\n",
       "\t<li>30</li>\n",
       "\t<li>50</li>\n",
       "\t<li>60</li>\n",
       "\t<li>100</li>\n",
       "</ol>\n"
      ],
      "text/latex": [
       "\\begin{enumerate*}\n",
       "\\item 10\n",
       "\\item 30\n",
       "\\item 50\n",
       "\\item 60\n",
       "\\item 100\n",
       "\\end{enumerate*}\n"
      ],
      "text/markdown": [
       "1. 10\n",
       "2. 30\n",
       "3. 50\n",
       "4. 60\n",
       "5. 100\n",
       "\n",
       "\n"
      ],
      "text/plain": [
       "[1]  10  30  50  60 100"
      ]
     },
     "metadata": {},
     "output_type": "display_data"
    },
    {
     "name": "stdout",
     "output_type": "stream",
     "text": [
      "[1] \"now we can see in our result that first number 10 is save in 3 position, 30 is 4 position and so on\"\n",
      "[1] \"-------------------------rank--------------------------------\"\n",
      "[1] \"we want rank the following vector\"\n"
     ]
    },
    {
     "data": {
      "text/html": [
       "<ol class=list-inline>\n",
       "\t<li>100</li>\n",
       "\t<li>50</li>\n",
       "\t<li>10</li>\n",
       "\t<li>30</li>\n",
       "\t<li>60</li>\n",
       "</ol>\n"
      ],
      "text/latex": [
       "\\begin{enumerate*}\n",
       "\\item 100\n",
       "\\item 50\n",
       "\\item 10\n",
       "\\item 30\n",
       "\\item 60\n",
       "\\end{enumerate*}\n"
      ],
      "text/markdown": [
       "1. 100\n",
       "2. 50\n",
       "3. 10\n",
       "4. 30\n",
       "5. 60\n",
       "\n",
       "\n"
      ],
      "text/plain": [
       "[1] 100  50  10  30  60"
      ]
     },
     "metadata": {},
     "output_type": "display_data"
    },
    {
     "name": "stdout",
     "output_type": "stream",
     "text": [
      "[1] \"obtaind rank\"\n"
     ]
    },
    {
     "data": {
      "text/html": [
       "<ol class=list-inline>\n",
       "\t<li>5</li>\n",
       "\t<li>3</li>\n",
       "\t<li>1</li>\n",
       "\t<li>2</li>\n",
       "\t<li>4</li>\n",
       "</ol>\n"
      ],
      "text/latex": [
       "\\begin{enumerate*}\n",
       "\\item 5\n",
       "\\item 3\n",
       "\\item 1\n",
       "\\item 2\n",
       "\\item 4\n",
       "\\end{enumerate*}\n"
      ],
      "text/markdown": [
       "1. 5\n",
       "2. 3\n",
       "3. 1\n",
       "4. 2\n",
       "5. 4\n",
       "\n",
       "\n"
      ],
      "text/plain": [
       "[1] 5 3 1 2 4"
      ]
     },
     "metadata": {},
     "output_type": "display_data"
    }
   ],
   "source": [
    "## We weill star with a vector\n",
    "print(\"Define a vector\")\n",
    "x<- c(100 , 50 , 10 , 30 , 60)\n",
    "x\n",
    "print(\"-------------------------sort--------------------------------\")\n",
    "\n",
    "# we can order our data \n",
    "print(\"Sort our data\")\n",
    "sort(x)\n",
    "\n",
    "print(\"-------------------------order--------------------------------\")\n",
    "\n",
    "#index\n",
    "print(\"we want order the following vector\")\n",
    "x\n",
    "print(\"obtaind index\")\n",
    "order(x)\n",
    "print(\"now if we want order data\")\n",
    "x[order(x)]\n",
    "print(\"now we can see in our result that first number 10 is save in 3 position, 30 is 4 position and so on\")\n",
    "\n",
    "\n",
    "print(\"-------------------------rank--------------------------------\")\n",
    "#rank\n",
    "print(\"we want rank the following vector\")\n",
    "x\n",
    "print(\"obtaind rank\")\n",
    "rank(x)"
   ]
  },
  {
   "cell_type": "markdown",
   "metadata": {},
   "source": [
    "In HarvardX: PH125.1x we take the course of  \"Data Science: R Basic\" in the Section Section 3: Indexing, Data Wrangling, Plots   3.1 Indexing   Indexing Functions.\n",
    "\n",
    "We introduce three very useful functions related to indexing that use logical operators.**They are which, match, and %in%.**\n",
    "\n",
    "1. Which, gives us the entries of a logical vector that are true.\n",
    "2. Match, looks for entries in a vector and returns the index needed to access them.\n",
    "3. In, If rather than an index, we want to know whether or not each element of a first vector is in a second vector, we use the function %in%."
   ]
  },
  {
   "cell_type": "code",
   "execution_count": 2,
   "metadata": {},
   "outputs": [
    {
     "data": {
      "text/html": [
       "<ol class=list-inline>\n",
       "\t<li>2</li>\n",
       "\t<li>4</li>\n",
       "\t<li>5</li>\n",
       "</ol>\n"
      ],
      "text/latex": [
       "\\begin{enumerate*}\n",
       "\\item 2\n",
       "\\item 4\n",
       "\\item 5\n",
       "\\end{enumerate*}\n"
      ],
      "text/markdown": [
       "1. 2\n",
       "2. 4\n",
       "3. 5\n",
       "\n",
       "\n"
      ],
      "text/plain": [
       "[1] 2 4 5"
      ]
     },
     "metadata": {},
     "output_type": "display_data"
    }
   ],
   "source": [
    "#Wich\n",
    "x<-c(FALSE, TRUE, FALSE, TRUE, TRUE, FALSE)\n",
    "which(x)"
   ]
  },
  {
   "cell_type": "code",
   "execution_count": 8,
   "metadata": {},
   "outputs": [
    {
     "data": {
      "text/html": [
       "<ol class=list-inline>\n",
       "\t<li>3</li>\n",
       "\t<li>1</li>\n",
       "</ol>\n"
      ],
      "text/latex": [
       "\\begin{enumerate*}\n",
       "\\item 3\n",
       "\\item 1\n",
       "\\end{enumerate*}\n"
      ],
      "text/markdown": [
       "1. 3\n",
       "2. 1\n",
       "\n",
       "\n"
      ],
      "text/plain": [
       "[1] 3 1"
      ]
     },
     "metadata": {},
     "output_type": "display_data"
    }
   ],
   "source": [
    "#match\n",
    "df<-data.frame(Distrito = c (\"Yucatan\",\"Campeche\",\"DF\",\"Veracruz\",\"Tabasco\",\"Chiapas\"), Muertes = c (100,200,300,400,500,600))\n",
    "#df\n",
    "index<- match(c(\"DF\",\"Yucatan\"),df$Distrito)\n",
    "index\n",
    "#Podemos ver como busca en indice para DF es el tercero & para Yucatan es el 1\n"
   ]
  },
  {
   "cell_type": "code",
   "execution_count": 12,
   "metadata": {},
   "outputs": [
    {
     "data": {
      "text/html": [
       "<ol class=list-inline>\n",
       "\t<li>TRUE</li>\n",
       "\t<li>FALSE</li>\n",
       "\t<li>FALSE</li>\n",
       "\t<li>TRUE</li>\n",
       "</ol>\n"
      ],
      "text/latex": [
       "\\begin{enumerate*}\n",
       "\\item TRUE\n",
       "\\item FALSE\n",
       "\\item FALSE\n",
       "\\item TRUE\n",
       "\\end{enumerate*}\n"
      ],
      "text/markdown": [
       "1. TRUE\n",
       "2. FALSE\n",
       "3. FALSE\n",
       "4. TRUE\n",
       "\n",
       "\n"
      ],
      "text/plain": [
       "[1]  TRUE FALSE FALSE  TRUE"
      ]
     },
     "metadata": {},
     "output_type": "display_data"
    }
   ],
   "source": [
    "#in\n",
    "df<-data.frame(Distrito = c (\"Yucatan\",\"Campeche\",\"DF\",\"Veracruz\",\"Tabasco\",\"Chiapas\"), Muertes = c (100,200,300,400,500,600))\n",
    "#df\n",
    "index<- c(\"DF\",\"Merida\",\"Leon\",\"Yucatan\") %in% df$Distrito \n",
    "index\n",
    "#Podemos ver que valores estan o no estan"
   ]
  },
  {
   "cell_type": "code",
   "execution_count": null,
   "metadata": {},
   "outputs": [],
   "source": []
  }
 ],
 "metadata": {
  "kernelspec": {
   "display_name": "R",
   "language": "R",
   "name": "ir"
  },
  "language_info": {
   "codemirror_mode": "r",
   "file_extension": ".r",
   "mimetype": "text/x-r-source",
   "name": "R",
   "pygments_lexer": "r",
   "version": "3.5.1"
  }
 },
 "nbformat": 4,
 "nbformat_minor": 2
}
