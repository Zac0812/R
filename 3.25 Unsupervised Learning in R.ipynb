{
 "cells": [
  {
   "cell_type": "markdown",
   "metadata": {},
   "source": [
    "# Unsupervised Learning in R\n",
    "link: https://www.datacamp.com/courses/unsupervised-learning-in-r\n",
    "\n",
    "### Course Description\n",
    "Many times in machine learning, the goal is to find patterns in data without trying to make predictions. This is called unsupervised learning. One common use case of unsupervised learning is grouping consumers based on demographics and purchasing history to deploy targeted marketing campaigns. Another example is wanting to describe the unmeasured factors that most influence crime differences between cities. This course provides a basic introduction to clustering and dimensionality reduction in R from a machine learning perspective, so that you can get from data to insights as quickly as possible.\n",
    "\n",
    "### Note how can Resizing plots in the R kernel for Jupyter notebooks\n",
    "https://blog.revolutionanalytics.com/2015/09/resizing-plots-in-the-r-kernel-for-jupyter-notebooks.html\n",
    "\n",
    "    library(repr)\n",
    "\n",
    "    # Change plot size to 4 x 3\n",
    "    options(repr.plot.width=4, repr.plot.height=3)\n",
    "    \n",
    "### Note2 Generate a table \n",
    "\n",
    "https://www.tablesgenerator.com/markdown_tables\n",
    "\n",
    "\n",
    "other: Book: machine learning with R by Brett Lantz\n",
    "Learn about `attr` function\n",
    "\n",
    "\n",
    "### Note 3 - DataFrames\n"
   ]
  },
  {
   "cell_type": "code",
   "execution_count": 1,
   "metadata": {},
   "outputs": [
    {
     "name": "stderr",
     "output_type": "stream",
     "text": [
      "Warning message:\n",
      "\"package 'dplyr' was built under R version 3.5.3\"\n",
      "Attaching package: 'dplyr'\n",
      "\n",
      "The following objects are masked from 'package:stats':\n",
      "\n",
      "    filter, lag\n",
      "\n",
      "The following objects are masked from 'package:base':\n",
      "\n",
      "    intersect, setdiff, setequal, union\n",
      "\n",
      "Warning message:\n",
      "\"package 'ggplot2' was built under R version 3.5.3\"Warning message:\n",
      "\"package 'readr' was built under R version 3.5.3\"Warning message:\n",
      "\"package 'openintro' was built under R version 3.5.2\"Please visit openintro.org for free statistics materials\n",
      "\n",
      "Attaching package: 'openintro'\n",
      "\n",
      "The following object is masked from 'package:ggplot2':\n",
      "\n",
      "    diamonds\n",
      "\n",
      "The following objects are masked from 'package:datasets':\n",
      "\n",
      "    cars, trees\n",
      "\n",
      "Parsed with column specification:\n",
      "cols(\n",
      "  Number = col_double(),\n",
      "  Name = col_character(),\n",
      "  Type1 = col_character(),\n",
      "  Type2 = col_character(),\n",
      "  Total = col_double(),\n",
      "  HitPoints = col_double(),\n",
      "  Attack = col_double(),\n",
      "  Defense = col_double(),\n",
      "  SpecialAttack = col_double(),\n",
      "  SpecialDefense = col_double(),\n",
      "  Speed = col_double(),\n",
      "  Generation = col_double(),\n",
      "  Legendary = col_logical()\n",
      ")\n",
      "Warning message:\n",
      "\"Missing column names filled in: 'X33' [33]\"Parsed with column specification:\n",
      "cols(\n",
      "  .default = col_double(),\n",
      "  diagnosis = col_character(),\n",
      "  X33 = col_character()\n",
      ")\n",
      "See spec(...) for full column specifications.\n",
      "Warning message:\n",
      "\"569 parsing failures.\n",
      "row col   expected     actual                                                                              file\n",
      "  1  -- 33 columns 32 columns 'https://assets.datacamp.com/production/course_6430/datasets/WisconsinCancer.csv'\n",
      "  2  -- 33 columns 32 columns 'https://assets.datacamp.com/production/course_6430/datasets/WisconsinCancer.csv'\n",
      "  3  -- 33 columns 32 columns 'https://assets.datacamp.com/production/course_6430/datasets/WisconsinCancer.csv'\n",
      "  4  -- 33 columns 32 columns 'https://assets.datacamp.com/production/course_6430/datasets/WisconsinCancer.csv'\n",
      "  5  -- 33 columns 32 columns 'https://assets.datacamp.com/production/course_6430/datasets/WisconsinCancer.csv'\n",
      "... ... .......... .......... .................................................................................\n",
      "See problems(...) for more details.\n",
      "\""
     ]
    }
   ],
   "source": [
    "library(dplyr)\n",
    "library(ggplot2)\n",
    "library(readr)\n",
    "library(tidyr)\n",
    "library(datasets)\n",
    "library(openintro)\n",
    "\n",
    "library(readr)\n",
    "path_csv<-\"https://assets.datacamp.com/production/course_6430/datasets/Pokemon.csv\"\n",
    "df_pokemon<-read_csv(path_csv)\n",
    "\n",
    "path_csv<-\"https://assets.datacamp.com/production/course_6430/datasets/WisconsinCancer.csv\"\n",
    "WisconsinCancer<-read_csv(path_csv)\n"
   ]
  },
  {
   "cell_type": "markdown",
   "metadata": {},
   "source": [
    "## 1) Unsupervised learning in R\n",
    "The k-means algorithm is one common approach to clustering. Learn how the algorithm works under the hood, implement k-means clustering in R, visualize and interpret the results, and select the number of clusters when it's not known ahead of time. By the end of the chapter, you'll have applied k-means clustering to a fun \"real-world\" dataset!\n",
    "\n",
    "### 1.1) (video) Welcome to the course!\n",
    "In the first chapter, I'll define `unsupervised learning` providing overview the 3 major types of machine learning and you will learn execute one particular  type of unsupervised learning using R.\n",
    "\n",
    "There are 3 major types of machine learning:\n",
    "\n",
    "    1) Unsupervised learning: the goal in unsupervised learning is find structure in unlabeled data (unlabeled data is data whith out target , without lebeled response)\n",
    "    2) Supervised learning : it´s use when you want make predictions on labeled data  (type of predictions include: regresion or predictive how much something  there is or could be and classification which is predicting what type or class something is or could be)  \n",
    "    3) Reinforcement learning, when computer learn feedback operating in real or synthetic enviroment \n",
    "\n",
    " In unsupervised learning there are 2 major goals:\n",
    "\n",
    "    1) findig homegenous subgroup within larger group (clustering)\n",
    "    2) finding patterns in the features of the data one way to do this is by `dimensionality reduction`, it's a method to decrease the number of features to describre an observation, and how mantain the maximum information contet under to constrain lower dimensionality.\n",
    "    \n",
    "### 1.2) (video) Introduction to k-means clustering\n",
    "k-means is a clustering algorithm, an algorithm that try to find homogeneous subgroups with in a population, this works by first assuming the numbers of the subgroups of clusters in the data and then assign each observation to one of these subgroups.\n",
    "\n",
    "K-means in R comes with the base  R install, we can invoces `kmeans` function as:\n",
    "\n",
    "    kmeans(x, centers = #, nstart = 20)\n",
    "\n",
    "- `centers`: numbers of predetermine groups of cluster\n",
    "- `nstart` : how many time the algorithm will be repeated.\n",
    "\n",
    "kmeans has a random component but it can run algorithm multiple times to improve odds of the best model.\n",
    "\n",
    "#### 1.2.1) Results of kmeans()\n",
    "The `kmeans()` function produces several outputs. In the video, we discussed one output of modeling, the cluster membership.\n",
    "\n",
    "In this exercise, you will access the `cluster` component directly. This is useful anytime you need the cluster membership for each observation of the data used to build the clustering model. A future exercise will show an example of how this cluster membership might be used to help communicate the results of k-means modeling.\n",
    "\n",
    "k-means models also have a print method to give a human friendly output of basic modeling results. This is available by using `print()` or simply typing the name of the model.\n",
    "\n",
    "**Exercise**\n",
    "\n",
    "The k-means model you built in the last exercise, `km.out`, is still available in your workspace.\n",
    "\n",
    "- Print a list of the cluster membership to the console.\n",
    "- Use a print method to print out the km.out model.\n",
    "\n",
    "*Answer*\n",
    "\n",
    "    # Print the cluster membership component of the model\n",
    "    km.out$cluster\n",
    "\n",
    "    # Print the km.out object\n",
    "    print(km.out)"
   ]
  },
  {
   "cell_type": "markdown",
   "metadata": {},
   "source": [
    "#### 1.2.2) Visualizing and interpreting results of kmeans()\n",
    "One of the more intuitive ways to interpret the results of k-means models is by plotting the data as a scatter plot and using color to label the samples' cluster membership. In this exercise, you will use the standard `plot()` function to accomplish this.\n",
    "\n",
    "To create a scatter plot, you can pass data with two features (i.e. columns) to `plot()` with an extra argument `col = km.out$cluster`, which sets the color of each point in the scatter plot according to its cluster membership.\n",
    "\n",
    "**Exercise**\n",
    "`x` and `km.out` are available in your workspace. Using the `plot()` function to create a scatter plot of data x:\n",
    "\n",
    "- Color the dots on the scatterplot by setting the `col` argument to the cluster component in km.out.\n",
    "- Title the plot `\"k-means with 3 clusters\"` using the `main` argument to plot().\n",
    "- Ensure there are no axis labels by specifying `\"\"` for both the `xlab` and `ylab` arguments to plot().\n",
    "\n",
    "*Answer*\n",
    "\n",
    "    plot(x, col = km.out$cluster, main = \"k-means with 3 clusters\", ylab = \"\", xlab = \"\")\n"
   ]
  },
  {
   "cell_type": "markdown",
   "metadata": {},
   "source": [
    "###  1.3) (video) How kmeans() works and practical matters\n",
    "\n",
    "Now we will see intuition how \"k means\" is building.\n",
    "\n",
    "- it will start by randomly assignment each feature to a subgroup\n",
    "- the next step in the algorithm is calculate the intersection of each group, the `centers` in each group is average position of all point in that subgroup. \n",
    "- next each point will be assigned to closser centers \n",
    "\n",
    "this procces complete the first iteration, the algorithm will be finished when the points won't change of assigment.\n",
    "\n",
    "Note: there are others criterios to stop the algorithm like the numbers of iteration or the movement of a certain distance.\n",
    "\n",
    "#### 1.3.1) Handling random algorithms\n",
    "In the video, you saw how `kmeans()` randomly initializes the centers of clusters. This random initialization can result in assigning observations to different cluster labels. Also, the random initialization can result in finding different local minima for the k-means algorithm. This exercise will demonstrate both results.\n",
    "\n",
    "At the top of each plot, the measure of model quality—total within cluster sum of squares error—will be plotted. Look for the model(s) with the lowest error to find models with the better model results.\n",
    "\n",
    "Because kmeans() initializes observations to random clusters, it is important to set the random number generator seed for reproducibility.\n",
    "\n",
    "**Exercise**\n",
    "\n",
    "The data, `x`, is still available in your workspace. Your task is to generate six `kmeans()` models on the data, plotting the results of each, in order to see the impact of random initializations on model results.\n",
    "\n",
    "- Set the random number seed to 1 with `set.seed()`.\n",
    "- For each iteration of the `for` loop, run `kmeans()` on x. Assume the number of clusters is 3 and number of starts (`nstart`) is 1.\n",
    "- Visualize the cluster memberships using the `col` argument to `plot()`. Observe how the measure of quality and cluster assignments vary among the six model runs.\n",
    "\n",
    "*Answer*\n",
    "\n",
    "    # Set up 2 x 3 plotting grid\n",
    "    par(mfrow = c(2, 3))\n",
    "\n",
    "    # Set seed\n",
    "    set.seed(1)\n",
    "\n",
    "    for(i in 1:6) {\n",
    "      # Run kmeans() on x with three clusters and one start\n",
    "      km.out <- kmeans(x, centers = 3, nstart = 1)\n",
    "\n",
    "      # Plot clusters\n",
    "      plot(x, col = km.out$cluster, \n",
    "           main = km.out$tot.withinss, \n",
    "           xlab = \"\", ylab = \"\")\n",
    "    }"
   ]
  },
  {
   "cell_type": "markdown",
   "metadata": {},
   "source": [
    "#### 1.3.2) Selecting number of clusters\n",
    "The k-means algorithm assumes the number of clusters as part of the input. If you know the number of clusters in advance (e.g. due to certain business constraints) this makes setting the number of clusters easy. However, as you saw in the video, if you do not know the number of clusters and need to determine it, you will need to run the algorithm multiple times, each time with a different number of clusters. From this, you can observe how a measure of model quality changes with the number of clusters.\n",
    "\n",
    "In this exercise, you will run `kmeans()` multiple times to see how model quality changes as the number of clusters changes. Plots displaying this information help to determine the number of clusters and are often referred to as **scree plots**.\n",
    "\n",
    "The ideal plot will have an **elbow** where the quality measure improves more slowly as the number of clusters increases. This indicates that the quality of the model is no longer improving substantially as the model complexity (i.e. number of clusters) increases. In other words, the elbow indicates the number of clusters inherent in the data.\n",
    "\n",
    "**Exercise**\n",
    "The data, `x`, is still available in your workspace.\n",
    "\n",
    "- Build 15 `kmeans()` models on x, each with a different number of clusters (ranging from 1 to 15). Set `nstart = 20` for all model runs and save the total within cluster sum of squares for each model to the `i`th element of `wss`.\n",
    "- Run the code provided to create a scree plot of the `wss` for all 15 models.\n",
    "- Take a look at your scree plot. How many clusters are inherent in the data? Set `k` equal to the number of clusters at the location of the elbow.\n",
    "\n",
    "*Answer*\n",
    "\n",
    "    # Initialize total within sum of squares error: wss\n",
    "    wss <- 0\n",
    "\n",
    "\n",
    "    # For 1 to 15 cluster centers\n",
    "    for (i in 1:15) {\n",
    "      km.out <- kmeans(x, centers = i, nstart = 20)\n",
    "      # Save total within sum of squares to wss variable\n",
    "      wss[i] <- km.out$tot.withinss\n",
    "    }\n",
    "\n",
    "\n",
    "    # Plot total within sum of squares vs. number of clusters\n",
    "    plot(1:15, wss, type = \"b\", \n",
    "         xlab = \"Number of Clusters\", \n",
    "         ylab = \"Within groups sum of squares\")\n",
    "\n",
    "    # Set k equal to the number of clusters corresponding to the elbow location\n",
    "    k <- 2"
   ]
  },
  {
   "cell_type": "markdown",
   "metadata": {},
   "source": [
    "### 1.4) (video) Introduction to the Pokemon data\n",
    "\n",
    "#### 1.4.1) Practical matters: working with real data\n",
    "Dealing with real data is often more challenging than dealing with synthetic data. Synthetic data helps with learning new concepts and techniques, but the next few exercises will deal with data that is closer to the type of real data you might find in your professional or academic pursuits.\n",
    "\n",
    "The first challenge with the `Pokemon` data is that there is no pre-determined number of clusters. You will determine the appropriate number of clusters, keeping in mind that in real data the elbow in the scree plot might be less of a sharp elbow than in synthetic data. Use your judgement on making the determination of the number of clusters.\n",
    "\n",
    "The second part of this exercise includes plotting the outcomes of the clustering on two dimensions, or features, of the data. These features were chosen somewhat arbitrarily for this exercise. Think about how you would use plotting and clustering to communicate interesting groups of Pokemon to other people.\n",
    "\n",
    "An additional note: this exercise utilizes the `iter.max` argument to `kmeans()`. As you've seen, `kmeans()` is an iterative algorithm, repeating over and over until some stopping criterion is reached. The default number of iterations for `kmeans()` is `10`, which is not enough for the algorithm to converge and reach its stopping criterion, so we'll set the number of iterations to `50` to overcome this issue. To see what happens when `kmeans()` does not converge, try running the example with a lower number of iterations (e.g. 3). This is another example of what might happen when you encounter real data and use real cases.\n",
    "\n",
    "**Exercise**\n",
    "The `pokemon` dataset, which contains observations of 800 Pokemon characters on 6 dimensions (i.e. features), is available in your workspace.\n",
    "\n",
    "- Using `kmeans()` with `nstart = 20`, determine the total within sum of square errors for different numbers of clusters (between 1 and 15).\n",
    "- Pick an appropriate number of clusters based on these results from the first instruction and assign that number to k.\n",
    "- Create a k-means model using k clusters and assign it to the km.out variable.\n",
    "- Create a scatter plot of Defense vs. Speed, showing cluster membership for each observation.\n",
    "\n",
    "*Answer*\n"
   ]
  },
  {
   "cell_type": "code",
   "execution_count": 4,
   "metadata": {},
   "outputs": [],
   "source": [
    "pokemon<-as.matrix (df_pokemon[,6:11])\n",
    "#head(pokemon)"
   ]
  },
  {
   "cell_type": "code",
   "execution_count": 5,
   "metadata": {},
   "outputs": [
    {
     "data": {
      "image/png": "[encoded data removed]",
      "text/plain": [
       "plot without title"
      ]
     },
     "metadata": {},
     "output_type": "display_data"
    },
    {
     "data": {
      "image/png": "[encoded data removed]",
      "text/plain": [
       "Plot with title \"k-means clustering of Pokemon with 2 clusters\""
      ]
     },
     "metadata": {},
     "output_type": "display_data"
    }
   ],
   "source": [
    "library(repr)\n",
    "# Change plot size to 4 x 3\n",
    "    options(repr.plot.width=6, repr.plot.height=5)\n",
    "\n",
    "\n",
    "# Initialize total within sum of squares error: wss\n",
    "wss <- 0\n",
    "\n",
    "# Look over 1 to 15 possible clusters\n",
    "for (i in 1:15) {\n",
    "  # Fit the model: km.out\n",
    "  km.out <- kmeans(pokemon, centers = i, nstart = 20, iter.max = 50)\n",
    "  # Save the within cluster sum of squares\n",
    "  wss[i] <- km.out$tot.withinss\n",
    "}\n",
    "\n",
    "# Produce a scree plot\n",
    "plot(1:15, wss, type = \"b\", \n",
    "     xlab = \"Number of Clusters\", \n",
    "     ylab = \"Within groups sum of squares\")\n",
    "\n",
    "# Select number of clusters\n",
    "k <- 2\n",
    "\n",
    "# Build model with k clusters: km.out\n",
    "km.out <- kmeans(pokemon, centers = k, nstart = 20, iter.max = 50)\n",
    "\n",
    "# View the resulting model\n",
    "#km.out\n",
    "\n",
    "# Plot of Defense vs. Speed by cluster membership\n",
    "plot(pokemon[, c(\"Defense\", \"Speed\")],\n",
    "     col = km.out$cluster,\n",
    "     main = paste(\"k-means clustering of Pokemon with\", k, \"clusters\"),\n",
    "     xlab = \"Defense\", ylab = \"Speed\")\n"
   ]
  },
  {
   "cell_type": "markdown",
   "metadata": {},
   "source": [
    "## 2) Hierarchical clustering\n",
    "Hierarchical clustering is another popular method for clustering. The goal of this chapter is to go over how it works, how to use it, and how it compares to k-means clustering.\n",
    "\n",
    "### 2.1) (video) Introduction to hierarchical clustering\n",
    "\n",
    "- it is used when the number of cluster is not know ahead of time \n",
    "- there are 2 approaches : `bottom-up` and `top-down`, in this course we will focused in `bottom-up` \n",
    "\n",
    "We will see an example of 5 observation and 2 features:\n",
    "1. bottom-up clustering starts by assigning each observation as a cluster \n",
    "2. Next the `bottom-up`  clustering find the closest two cluster and joined them together in a single cluster\n",
    "3. this process continues iteratively finding the next pair of clusteres, that there are closest each other and combaining them in a single clusters.\n",
    "\n",
    "Performing hierarchical clustering in R requires, only one parameter:\n",
    "\n",
    "    #calculate similarity as Euclidean distance between obsevations \n",
    "    dist_matrix<- dist(x)\n",
    "\n",
    "    #returns hierarchical clustering model\n",
    "    hclust(d = dist_matrix)\n",
    "\n"
   ]
  },
  {
   "cell_type": "markdown",
   "metadata": {},
   "source": [
    "### 2.2 (video) Selecting number of clusters\n",
    "now you have created your first hierarchical clustering in R it's time to see how interpret it, if you look the model through to the function `summary` the output would be very technique and it's not very useful honestly.\n",
    "\n",
    "The best way interprete a hierarchical clustering is though a `dendogram` in which you represent each obsevation and their group or subgroup respectevely and on the axis y, we will represent the distance between each cluster or `height` (in our case euclidean distance)\n",
    "\n",
    "To create a dendogram in R our output of model is passed to \"plot\" function \n",
    "\n",
    "    #draws a dendogram\n",
    "    plot(hclust.out)\n",
    "\n",
    "the next step typically in hierarchical clustering is determine the number of clusters you want in the model, this is one key model selecting step in the algorithm, a way to think about this is strong cut line on particular \"hight\" or \"distance \"  between the clusters. \n",
    "\n",
    "    #one option is\n",
    "    abline(h = 6, col = \"red\")\n",
    "\n",
    "finally to take each cluster assigments you can use the `cutree` function in R, we can define the height or the number of clusters you want. \n",
    "\n",
    "    #cut by height h\n",
    "    cutree(hclust.out,  h = 6)\n",
    "\n",
    "    #cut by number of clusters k\n",
    "    cutree(hclust.out,  k = 2)\n",
    "\n",
    "\n",
    "### 2.3 (video) Clustering linkage and practical matters\n",
    "There are some details that are important to cover before to continue with our method like:  how is distance between clusters determined? after the method clustering two first observations, the method needs rules, how measure the distance between clusters? there are four methods in R to measure similiarity between clusters (it to determine wich clusters shoul be linked).\n",
    "\n",
    "- `Complete` : pairwise similarity between all observations in cluster 1 and cluster 2, and uses largest of similarities.\n",
    "- `Single` same as above but uses smallest of similarities.\n",
    "- `Average`: same as above but uses average of similarities\n",
    "- ` Centroid` : find centroid of cluster 1 and centroid of cluster 2, and uses similarity between two centroids.\n",
    "\n",
    "linkage `Complete` criteria produces balanced tree and it is the most common used, other hand `single` produce unbalanced trees.\n",
    "\n",
    "You can define this behavior only  using the `method` paramether on `hclust` function as:\n",
    "\n",
    "    #fitting hierarchical clustering models using different methods\n",
    "    h.clust.complete<-hclust(d, method = \"complete\")\n",
    "    h.clust.average<-hclust(d, method = \"average\")\n",
    "    h.clust.single<-hclust(d, method = \"single\")\n",
    "\n",
    "other practical matter is when your data has different scales, these can cause undesirable result in clustering methods to resolve this the data is transformed to linear transormations before performing clustering, this transformation substracs the mean of a feature from all observations and divide each feature by the standart deviation of the feature, this called normalization (we need to do the previous  solution if any features have different scales, even when the same scales are avalible over each feature, it´s good practive because the features can could have diffrente variabilities)\n",
    "\n",
    "    #check if scalling is necessary\n",
    "    colMeans(x)\n",
    "\n",
    "    #sd over axis 2 \n",
    "    apply(x, 2 , sd)\n",
    "\n",
    "    #produce new matrix with columns of mean of 0 and sd of 1\n",
    "    scaled_x<-scale(x)\n"
   ]
  },
  {
   "cell_type": "markdown",
   "metadata": {},
   "source": [
    "#### 2.3.1) Practical matters: scaling\n",
    "Recall from the video that clustering real data may require scaling the features if they have different distributions. So far in this chapter, you have been working with synthetic data that did not need scaling.\n",
    "\n",
    "In this exercise, you will go back to working with \"real\" data, the `pokemon` dataset introduced in the first chapter. You will observe the distribution (mean and standard deviation) of each feature, scale the data accordingly, then produce a hierarchical clustering model using the complete linkage method.\n",
    "\n",
    "**Exercise**\n",
    "The data is stored in the `pokemon` object in your workspace.\n",
    "\n",
    "- Observe the mean of each variable in pokemon using the `colMeans()` function.\n",
    "- Observe the standard deviation of each variable using the `apply()` and `sd()` functions. Since the variables are the columns of your matrix, make sure to specify `2` as the `MARGIN` argument to `apply()`.\n",
    "- Scale the pokemon data using the `scale()` function and store the result in `pokemon.scaled`.\n",
    "- Create a hierarchical clustering model of the `pokemon.scaled` data using the `complete` linkage method. Manually specify the method argument and store the result in `hclust.pokemon`\n",
    "\n",
    "*Answer*"
   ]
  },
  {
   "cell_type": "code",
   "execution_count": 6,
   "metadata": {},
   "outputs": [
    {
     "data": {
      "text/html": [
       "<dl class=dl-horizontal>\n",
       "\t<dt>HitPoints</dt>\n",
       "\t\t<dd>69.25875</dd>\n",
       "\t<dt>Attack</dt>\n",
       "\t\t<dd>79.00125</dd>\n",
       "\t<dt>Defense</dt>\n",
       "\t\t<dd>73.8425</dd>\n",
       "\t<dt>SpecialAttack</dt>\n",
       "\t\t<dd>72.82</dd>\n",
       "\t<dt>SpecialDefense</dt>\n",
       "\t\t<dd>71.9025</dd>\n",
       "\t<dt>Speed</dt>\n",
       "\t\t<dd>68.2775</dd>\n",
       "</dl>\n"
      ],
      "text/latex": [
       "\\begin{description*}\n",
       "\\item[HitPoints] 69.25875\n",
       "\\item[Attack] 79.00125\n",
       "\\item[Defense] 73.8425\n",
       "\\item[SpecialAttack] 72.82\n",
       "\\item[SpecialDefense] 71.9025\n",
       "\\item[Speed] 68.2775\n",
       "\\end{description*}\n"
      ],
      "text/markdown": [
       "HitPoints\n",
       ":   69.25875Attack\n",
       ":   79.00125Defense\n",
       ":   73.8425SpecialAttack\n",
       ":   72.82SpecialDefense\n",
       ":   71.9025Speed\n",
       ":   68.2775\n",
       "\n"
      ],
      "text/plain": [
       "     HitPoints         Attack        Defense  SpecialAttack SpecialDefense \n",
       "      69.25875       79.00125       73.84250       72.82000       71.90250 \n",
       "         Speed \n",
       "      68.27750 "
      ]
     },
     "metadata": {},
     "output_type": "display_data"
    },
    {
     "data": {
      "text/html": [
       "<dl class=dl-horizontal>\n",
       "\t<dt>HitPoints</dt>\n",
       "\t\t<dd>25.5346690323321</dd>\n",
       "\t<dt>Attack</dt>\n",
       "\t\t<dd>32.4573658694985</dd>\n",
       "\t<dt>Defense</dt>\n",
       "\t\t<dd>31.1835005593329</dd>\n",
       "\t<dt>SpecialAttack</dt>\n",
       "\t\t<dd>32.7222941688016</dd>\n",
       "\t<dt>SpecialDefense</dt>\n",
       "\t\t<dd>27.8289157971175</dd>\n",
       "\t<dt>Speed</dt>\n",
       "\t\t<dd>29.0604737171615</dd>\n",
       "</dl>\n"
      ],
      "text/latex": [
       "\\begin{description*}\n",
       "\\item[HitPoints] 25.5346690323321\n",
       "\\item[Attack] 32.4573658694985\n",
       "\\item[Defense] 31.1835005593329\n",
       "\\item[SpecialAttack] 32.7222941688016\n",
       "\\item[SpecialDefense] 27.8289157971175\n",
       "\\item[Speed] 29.0604737171615\n",
       "\\end{description*}\n"
      ],
      "text/markdown": [
       "HitPoints\n",
       ":   25.5346690323321Attack\n",
       ":   32.4573658694985Defense\n",
       ":   31.1835005593329SpecialAttack\n",
       ":   32.7222941688016SpecialDefense\n",
       ":   27.8289157971175Speed\n",
       ":   29.0604737171615\n",
       "\n"
      ],
      "text/plain": [
       "     HitPoints         Attack        Defense  SpecialAttack SpecialDefense \n",
       "      25.53467       32.45737       31.18350       32.72229       27.82892 \n",
       "         Speed \n",
       "      29.06047 "
      ]
     },
     "metadata": {},
     "output_type": "display_data"
    }
   ],
   "source": [
    "#pokemon<-as.matrix (df_pokemon[,6:11])\n",
    "#head(pokemon)\n",
    "\n",
    "\n",
    "# View column means\n",
    "colMeans(pokemon)\n",
    "\n",
    "# View column standard deviations\n",
    "apply(pokemon, MARGIN = 2, sd)\n",
    "\n",
    "# Scale the data\n",
    "pokemon.scaled<-scale(pokemon)\n",
    "\n",
    "# Create hierarchical clustering model: hclust.pokemon\n",
    "hclust.pokemon<- hclust(dist(pokemon.scaled), method = \"complete\")\n"
   ]
  },
  {
   "cell_type": "markdown",
   "metadata": {},
   "source": [
    "#### 2.3.2) Comparing kmeans() and hclust()\n",
    "Comparing k-means and hierarchical clustering, you'll see the two methods produce different cluster memberships. This is because the two algorithms make different assumptions about how the data is generated. In a more advanced course, we could choose to use one model over another based on the quality of the models' assumptions, but for now, it's enough to observe that they are different.\n",
    "\n",
    "This exercise will have you compare results from the two models on the `pokemon` dataset to see how they differ.\n",
    "\n",
    "**Exercise**\n",
    "The results from running k-means clustering on the `pokemon` data (for 3 clusters) are stored as `km.pokemon`. The hierarchical clustering model you created in the previous exercise is still available as `hclust.pokemon`.\n",
    "\n",
    "- Using `cutree()` on `hclust.pokemon`, assign cluster membership to each observation. Assume three clusters and assign the result to a vector called `cut.pokemon`.\n",
    "- Using `table()`, compare cluster membership between the two clustering methods. Recall that the different components of k-means model objects can be accessed with the `$` operator.\n",
    "\n",
    "\n",
    "*Answer*\n"
   ]
  },
  {
   "cell_type": "code",
   "execution_count": 11,
   "metadata": {},
   "outputs": [
    {
     "data": {
      "text/plain": [
       "   cut.pokemon\n",
       "      1   2   3\n",
       "  1 242   1   0\n",
       "  2 342   1   0\n",
       "  3 204   9   1"
      ]
     },
     "metadata": {},
     "output_type": "display_data"
    }
   ],
   "source": [
    "#scale the data \n",
    "pokemon.scaled<-scale(pokemon)\n",
    "\n",
    "#create hierarchical clustering and kmeans clustering models\n",
    "hclust.pokemon<- hclust(dist(pokemon.scaled), method = \"complete\")\n",
    "km.pokemon <- kmeans(pokemon.scaled, centers = 3, nstart = 20, iter.max = 50)\n",
    "\n",
    "\n",
    "# Apply cutree() to hclust.pokemon: cut.pokemon\n",
    "cut.pokemon <- cutree(hclust.pokemon, k = 3)\n",
    "\n",
    "# Compare methods\n",
    "table(km.pokemon$cluster, cut.pokemon)"
   ]
  },
  {
   "cell_type": "markdown",
   "metadata": {},
   "source": [
    "## 3) Dimensionality reduction with PCA\n",
    "`Principal component analysis`, or `PCA`, is a common approach to dimensionality reduction. Learn exactly what PCA does, visualize the results of PCA with biplots and scree plots, and deal with practical issues such as centering and scaling the data before performing PCA.\n",
    "\n",
    "### 3.1) (video) Introduction to PCA\n",
    "the next type of unsupervised learning is \"Dimensionality Reduction\" this has two main goals:\n",
    "\n",
    "-  find structure in features and \n",
    "-  aid in visualization \n",
    "\n",
    "in this course we will cover one popular method of dimensionality reduction `Principal Component Analysis (PCA)` , which has 3 goals:\n",
    "\n",
    "- PCA finds linear combination of variables to create principal components\n",
    "-  Mantain most variance in the data.\n",
    "- Principal components are uncorrelated (i.e orhogonal to each other)\n",
    "\n",
    "to create a PCA in r we need:\n",
    "    \n",
    "    pr.iris<- prcomp (x = iris[-5], scale = FALSE, center = TRUE)\n",
    "\n",
    "where `scale` paramater indicates that data should be scale with standar diviation of 1 before performance the PCA , the `center` parameter indicates if the new paramet should be center around zero before performance the PCA (we recomended define this parameter as TRUE)\n",
    "\n",
    "after that we can see each proportion as:\n",
    "    \n",
    "    summary(pr.iris)\n",
    "    \n",
    "#### 3.1.1) PCA using prcomp()\n",
    "In this exercise, you will create your first PCA model and observe the diagnostic results.\n",
    "\n",
    "We have loaded the Pokemon data from earlier, which has four dimensions, and placed it in a variable called pokemon. Your task is to create a PCA model of the data, then to inspect the resulting model using the summary() function.  \n",
    "\n",
    "\n",
    "**Exercise**\n",
    "- Create a `PCA` model of the data in `pokemon`, setting scale to `TRUE`. Store the result in `pr.out`.\n",
    "- Inspect the result with the `summary()` function.\n",
    "\n",
    "*Answer*\n"
   ]
  },
  {
   "cell_type": "code",
   "execution_count": 2,
   "metadata": {},
   "outputs": [
    {
     "data": {
      "text/plain": [
       "Importance of components:\n",
       "                          PC1    PC2    PC3     PC4\n",
       "Standard deviation     1.6049 0.7932 0.7133 0.53506\n",
       "Proportion of Variance 0.6439 0.1573 0.1272 0.07157\n",
       "Cumulative Proportion  0.6439 0.8012 0.9284 1.00000"
      ]
     },
     "metadata": {},
     "output_type": "display_data"
    }
   ],
   "source": [
    "a<-(as.data.frame(df_pokemon[,2]))\n",
    "#class(a$Name)\n",
    "\n",
    "pokemon<-as.matrix (df_pokemon[,6:9], \n",
    "                    dimnames = list (a$Name, c(\"HitPoints\",\"Attact\",\"Defense\",\"Speed\") ) ,\n",
    "                    ncol = 4)\n",
    "rownames(pokemon)<- a$Name\n",
    "pokemon<-pokemon[1:50,]\n",
    "\n",
    "\n",
    "# Perform scaled PCA: pr.out\n",
    "pr.out<-prcomp(pokemon, scale = TRUE, center = TRUE)\n",
    "\n",
    "# Inspect model output\n",
    "summary(pr.out)"
   ]
  },
  {
   "cell_type": "markdown",
   "metadata": {},
   "source": [
    "#### 3.1.2) Results of PCA\n",
    "This exercise will check your understanding of the `summary()` of a PCA model. Your model from the last exercise, `pr.out`, and the `pokemon` dataset are still available in your workspace.\n",
    "\n",
    "What is the minimum number of principal components that are required to describe at least 75% of the cumulative variance in this dataset?\n",
    "\n",
    "*Answer*\n",
    "\n",
    "it´s 2, Right! The first two principal components describe around 77% of the variance.\n",
    "\n",
    "#### 3.1.3) Additional results of PCA\n",
    "`PCA` models in R produce additional diagnostic and output components:\n",
    "\n",
    "- `center`: the column means used to center to the data, or FALSE if the data weren't centered\n",
    "- `scale`: the column standard deviations used to scale the data, or FALSE if the data weren't scaled\n",
    "- `rotation`: the directions of the principal component vectors in terms of the original features/variables. This information allows you to define new data in terms of the original principal components\n",
    "- `x`: the value of each observation in the original dataset projected to the principal components\n",
    "\n",
    "You can access these the same as other model components. For example, use `pr.out$rotation` to access the `rotation` component.\n",
    "\n",
    "Which of the following statements is not correct regarding the `pr.out` model fit on the pokemon data?\n",
    "\n",
    "*Answer*\n",
    "\n",
    "The directions of the principal component vectors are presented in a table with the same dimensions as the original data.\n",
    "\n",
    "Right! Calling dim() on pr.out$rotation and pokemon, you can see they have different dimensions.\n"
   ]
  },
  {
   "cell_type": "code",
   "execution_count": 54,
   "metadata": {},
   "outputs": [
    {
     "data": {
      "text/html": [
       "<table>\n",
       "<thead><tr><th></th><th scope=col>PC1</th><th scope=col>PC2</th><th scope=col>PC3</th><th scope=col>PC4</th></tr></thead>\n",
       "<tbody>\n",
       "\t<tr><th scope=row>HitPoints</th><td>0.4535025  </td><td> 0.82846936</td><td>-0.1834232 </td><td> 0.2726351 </td></tr>\n",
       "\t<tr><th scope=row>Attack</th><td>0.4921096  </td><td>-0.32906209</td><td>-0.7409311 </td><td>-0.3171237 </td></tr>\n",
       "\t<tr><th scope=row>Defense</th><td>0.5241093  </td><td>-0.45111718</td><td> 0.2599976 </td><td> 0.6739466 </td></tr>\n",
       "\t<tr><th scope=row>SpecialAttack</th><td>0.5267571  </td><td> 0.04301098</td><td> 0.5914206 </td><td>-0.6090145 </td></tr>\n",
       "</tbody>\n",
       "</table>\n"
      ],
      "text/latex": [
       "\\begin{tabular}{r|llll}\n",
       "  & PC1 & PC2 & PC3 & PC4\\\\\n",
       "\\hline\n",
       "\tHitPoints & 0.4535025   &  0.82846936 & -0.1834232  &  0.2726351 \\\\\n",
       "\tAttack & 0.4921096   & -0.32906209 & -0.7409311  & -0.3171237 \\\\\n",
       "\tDefense & 0.5241093   & -0.45111718 &  0.2599976  &  0.6739466 \\\\\n",
       "\tSpecialAttack & 0.5267571   &  0.04301098 &  0.5914206  & -0.6090145 \\\\\n",
       "\\end{tabular}\n"
      ],
      "text/markdown": [
       "\n",
       "| <!--/--> | PC1 | PC2 | PC3 | PC4 | \n",
       "|---|---|---|---|\n",
       "| HitPoints | 0.4535025   |  0.82846936 | -0.1834232  |  0.2726351  | \n",
       "| Attack | 0.4921096   | -0.32906209 | -0.7409311  | -0.3171237  | \n",
       "| Defense | 0.5241093   | -0.45111718 |  0.2599976  |  0.6739466  | \n",
       "| SpecialAttack | 0.5267571   |  0.04301098 |  0.5914206  | -0.6090145  | \n",
       "\n",
       "\n"
      ],
      "text/plain": [
       "              PC1       PC2         PC3        PC4       \n",
       "HitPoints     0.4535025  0.82846936 -0.1834232  0.2726351\n",
       "Attack        0.4921096 -0.32906209 -0.7409311 -0.3171237\n",
       "Defense       0.5241093 -0.45111718  0.2599976  0.6739466\n",
       "SpecialAttack 0.5267571  0.04301098  0.5914206 -0.6090145"
      ]
     },
     "metadata": {},
     "output_type": "display_data"
    }
   ],
   "source": [
    "pr.out$rotation "
   ]
  },
  {
   "cell_type": "markdown",
   "metadata": {},
   "source": [
    "### 3.2 (video) Visualizing and interpreting PCA results\n",
    "in this chapter we will explore additional visualizations often used to understand PCA models.\n",
    "\n",
    "- Biplot, this shows all orignal observations as points of the 2 principal components \n",
    "- Scree plot either shows the proportion varianza explained for each principal component or show the accumulated percent varianza explained for each component.\n",
    "\n",
    "to create both graphs in R we need:\n",
    "\n",
    "    #creating a biplot\n",
    "    pr.iris<- prcomp(x = iris[-5], scale = FALSE, center = TRUE)\n",
    "    biplot(pr.iris)\n",
    "\n",
    "Note: to create a scree plot, we need additional steps:\n",
    "\n",
    "    #getting proportion of variance for scree plot\n",
    "    pr.var<-pr.iris$sdev^2\n",
    "    pve<- pr.var/sum(pr.var)\n",
    "\n",
    "    #plot variance explained for each principal component\n",
    "    plot(pve, xlab = \"Principal Component\", \n",
    "    ylab = \"Proportion of Variance Explained\", \n",
    "    ylim = c(0, 1), type = \"b\")\n",
    "        "
   ]
  },
  {
   "cell_type": "markdown",
   "metadata": {},
   "source": [
    "#### 3.2.1) Interpreting biplots (1)\n",
    "As stated in the video, the `biplot()` function plots both the principal components loadings and the mapping of the observations to their first two principal component values. The next couple of exercises will check your interpretation of the biplot() visualization.\n",
    "\n",
    "Using the biplot() of the `pr.out` model, which two original variables have approximately the same loadings in the first two principal components?\n",
    "\n",
    "    Attack and HitPoints\n",
    "    \n",
    "#### 3.2.3) Variance explained\n",
    "The second common plot type for understanding PCA models is a scree plot. A scree plot shows the variance explained as the number of principal components increases. Sometimes the cumulative variance explained is plotted as well.\n",
    "\n",
    "In this and the next exercise, you will prepare data from the pr.out model you created at the beginning of the chapter for use in a scree plot. Preparing the data for plotting is required because there is not a built-in function in R to create this type of plot. \n",
    "\n",
    "**Exercise**\n",
    "`pr.out` and the `pokemon` data are still available in your workspace.\n",
    "\n",
    "- Assign to the variable `pr.var` the square of the standard deviations of the principal components (i.e. the variance). The standard deviation of the principal components is available in the `sdev` component of the PCA model object.\n",
    "- Assign to the variable `pve` the proportion of the variance explained, calculated by dividing `pr.var` by the total variance explained by all principal components.\n",
    "\n",
    "*Answer*"
   ]
  },
  {
   "cell_type": "code",
   "execution_count": 13,
   "metadata": {},
   "outputs": [],
   "source": [
    "# Variability of each principal component: pr.var\n",
    "pr.var <- pr.out$sdev^2\n",
    "\n",
    "# Variance explained by each principal component: pve\n",
    "pve <- pr.var/sum(pr.var)\n"
   ]
  },
  {
   "cell_type": "markdown",
   "metadata": {},
   "source": [
    "#### 3.2.4) Visualize variance explained\n",
    "Now you will create a scree plot showing the proportion of variance explained by each principal component, as well as the cumulative proportion of variance explained.\n",
    "\n",
    "Recall from the video that these plots can help to determine the number of principal components to retain. One way to determine the number of principal components to retain is by looking for an elbow in the scree plot showing that as the number of principal components increases, the rate at which variance is explained decreases substantially. In the absence of a clear elbow, you can use the scree plot as a guide for setting a threshold.\n",
    "\n",
    "**Exercise**\n",
    "The proportion of variance explained is still available in the `pve` object you created in the last exercise.\n",
    "\n",
    "- Use `plot()` to plot the proportion of variance explained by each principal component.\n",
    "- Use `plot()` and `cumsum()` (cumulative sum) to plot the cumulative proportion of variance explained as a function of the number principal components.\n",
    "\n",
    "*Answer*"
   ]
  },
  {
   "cell_type": "code",
   "execution_count": 17,
   "metadata": {},
   "outputs": [
    {
     "data": {
      "image/png": "[encoded data removed]",
      "text/plain": [
       "plot without title"
      ]
     },
     "metadata": {},
     "output_type": "display_data"
    },
    {
     "data": {
      "image/png": "[encoded data removed]",
      "text/plain": [
       "plot without title"
      ]
     },
     "metadata": {},
     "output_type": "display_data"
    }
   ],
   "source": [
    "library(repr)\n",
    "# Change plot size to 4 x 3\n",
    "    options(repr.plot.width=4, repr.plot.height=4)\n",
    "\n",
    "\n",
    "# Plot variance explained for each principal component\n",
    "plot(pve, xlab = \"Principal Component\",\n",
    "     ylab = \"Proportion of Variance Explained\",\n",
    "     ylim = c(0, 1), type = \"b\")\n",
    "\n",
    "# Plot cumulative proportion of variance explained\n",
    "plot(cumsum(pve), xlab = \"Principal Component\",\n",
    "     ylab = \"Cumulative Proportion of Variance Explained\",\n",
    "     ylim = c(0, 1), type = \"b\")"
   ]
  },
  {
   "cell_type": "markdown",
   "metadata": {},
   "source": [
    "### 3.3) (video) Practical issues with PCA\n",
    "\n",
    "Some issues that you can find in your data are:\n",
    "\n",
    "- Scaling the data\n",
    "- Missing values (you can handle it by in two ways):\n",
    "    - Drop observation with missing values\n",
    "    - impute/estimate missing values\n",
    "- Categorical data:\n",
    "    - Do not use categorical data features\n",
    "    - Encode categorical features as numbers \n",
    "    \n",
    "Note: you can scaling your data with the paramether `scale = TRUE` inside the function `prcomp`.\n",
    "\n",
    "#### Practical issues: scaling\n",
    "You saw in the video that scaling your data before doing PCA changes the results of the PCA modeling. Here, you will perform PCA with and without scaling, then visualize the results using biplots.\n",
    "\n",
    "Sometimes scaling is appropriate when the variances of the variables are substantially different. This is commonly the case when variables have different units of measurement, for example, degrees Fahrenheit (temperature) and miles (distance). Making the decision to use scaling is an important step in performing a principal component analysis.\n",
    "\n",
    "**Exercise**\n",
    "The same Pokemon dataset is available in your workspace as `pokemon`, but one new variable has been added: `Total`.\n",
    "\n",
    "- There is some code at the top of the editor to calculate the `mean` and `standard deviation` of each variable in the model. Run this code to see how the scale of the variables differs in the original data.\n",
    "- Create a PCA model of pokemon with scaling, assigning the result to `pr.with.scaling`.\n",
    "- Create a PCA model of pokemon without scaling, assigning the result to `pr.without.scaling`.\n",
    "- Use `biplot()` to plot both models (one at a time) and compare their outputs.\n",
    "\n",
    "\n",
    "*Answer*\n",
    "\n",
    "\n",
    "    # Mean of each variable\n",
    "    colMeans(pokemon)\n",
    "\n",
    "    # Standard deviation of each variable\n",
    "    apply(pokemon, 2, sd)\n",
    "\n",
    "    # PCA model with scaling: pr.with.scaling\n",
    "    pr.with.scaling<-prcomp(pokemon, center = TRUE, scale = TRUE)\n",
    "\n",
    "\n",
    "    # PCA model without scaling: pr.without.scaling\n",
    "    pr.without.scaling<-prcomp(pokemon, center = TRUE, scale = FALSE)\n",
    "\n",
    "    # Create biplots of both for comparison\n",
    "    biplot(pr.with.scaling)\n",
    "\n",
    "    biplot(pr.without.scaling)\n"
   ]
  },
  {
   "cell_type": "markdown",
   "metadata": {},
   "source": [
    "## 4.0) Putting it all together with a case study\n",
    "The goal of this chapter is to guide you through a complete analysis using the unsupervised learning techniques covered in the first three chapters. You'll extend what you've learned by combining PCA as a preprocessing step to clustering using data that consist of measurements of cell nuclei of human breast masses.\n",
    "\n",
    "### 4.1) (video) Introduction to the case study\n",
    "\n",
    "#### 4.1.1) Preparing the data\n",
    "Unlike prior chapters, where we prepared the data for you for unsupervised learning, the goal of this chapter is to step you through a more realistic and complete workflow.\n",
    "\n",
    "Recall from the video that the first step is to download and prepare the data.\n",
    "\n",
    "**Exercise**\n",
    "- Use `read.csv()` function to download the CSV (comma-separated values) file containing the data from the URL provided. Assign the result to `wisc.df`.\n",
    "- Use `as.matrix()` to convert the features of the data (in columns 3 through 32) to a matrix. Store this in a variable called `wisc.data`.\n",
    "- Assign the row names of `wisc.data` the values currently contained in the `id` column of `wisc.df`. While not strictly required, this will help you keep track of the different observations throughout the modeling process.\n",
    "- Finally, set a vector called `diagnosis` to be `1` if a diagnosis is malignant (`\"M\"`) and `0` otherwise. Note that R coerces `TRUE` to `1` and FALSE to `0`.\n",
    "\n",
    "*Answer*"
   ]
  },
  {
   "cell_type": "code",
   "execution_count": 11,
   "metadata": {},
   "outputs": [],
   "source": [
    "url <- \"http://s3.amazonaws.com/assets.datacamp.com/production/course_1903/datasets/WisconsinCancer.csv\"\n",
    "\n",
    "# Download the data: wisc.df\n",
    "wisc.df<-read.csv(url)\n",
    "\n",
    "# Convert the features of the data: wisc.data\n",
    "wisc.data<-as.matrix(wisc.df[,3:32])\n",
    "\n",
    "# Set the row names of wisc.data\n",
    "row.names(wisc.data) <- wisc.df$id\n",
    "\n",
    "# Create diagnosis vector\n",
    "diagnosis <- as.numeric(wisc.df$diagnosis == \"M\",TRUE,FALSE)"
   ]
  },
  {
   "cell_type": "markdown",
   "metadata": {},
   "source": [
    "#### 4.1.2) Performing PCA\n",
    "The next step in your analysis is to perform PCA on `wisc.data`.\n",
    "\n",
    "You saw in the last chapter that it's important to check if the data need to be scaled before performing PCA. Recall two common reasons for scaling data:\n",
    "\n",
    "- The input variables use different units of measurement.\n",
    "- The input variables have significantly different variances.\n",
    "\n",
    "**Exercise**\n",
    "The variables you created before, `wisc.data` and `diagnosis`, are still available in your workspace.\n",
    "\n",
    "- Check the mean and standard deviation of the features of the data to determine if the data should be scaled. Use the `colMeans()` and `apply()` functions like you've done before.\n",
    "- Execute PCA on the `wisc.data`, scaling if appropriate, and assign the model to `wisc.pr`.\n",
    "- Inspect a summary of the results with the summary() function.\n",
    "\n",
    "*Answer*"
   ]
  },
  {
   "cell_type": "code",
   "execution_count": 12,
   "metadata": {},
   "outputs": [
    {
     "data": {
      "text/plain": [
       "Importance of components:\n",
       "                          PC1    PC2     PC3     PC4     PC5     PC6     PC7\n",
       "Standard deviation     3.6444 2.3857 1.67867 1.40735 1.28403 1.09880 0.82172\n",
       "Proportion of Variance 0.4427 0.1897 0.09393 0.06602 0.05496 0.04025 0.02251\n",
       "Cumulative Proportion  0.4427 0.6324 0.72636 0.79239 0.84734 0.88759 0.91010\n",
       "                           PC8    PC9    PC10   PC11    PC12    PC13    PC14\n",
       "Standard deviation     0.69037 0.6457 0.59219 0.5421 0.51104 0.49128 0.39624\n",
       "Proportion of Variance 0.01589 0.0139 0.01169 0.0098 0.00871 0.00805 0.00523\n",
       "Cumulative Proportion  0.92598 0.9399 0.95157 0.9614 0.97007 0.97812 0.98335\n",
       "                          PC15    PC16    PC17    PC18    PC19    PC20   PC21\n",
       "Standard deviation     0.30681 0.28260 0.24372 0.22939 0.22244 0.17652 0.1731\n",
       "Proportion of Variance 0.00314 0.00266 0.00198 0.00175 0.00165 0.00104 0.0010\n",
       "Cumulative Proportion  0.98649 0.98915 0.99113 0.99288 0.99453 0.99557 0.9966\n",
       "                          PC22    PC23   PC24    PC25    PC26    PC27    PC28\n",
       "Standard deviation     0.16565 0.15602 0.1344 0.12442 0.09043 0.08307 0.03987\n",
       "Proportion of Variance 0.00091 0.00081 0.0006 0.00052 0.00027 0.00023 0.00005\n",
       "Cumulative Proportion  0.99749 0.99830 0.9989 0.99942 0.99969 0.99992 0.99997\n",
       "                          PC29    PC30\n",
       "Standard deviation     0.02736 0.01153\n",
       "Proportion of Variance 0.00002 0.00000\n",
       "Cumulative Proportion  1.00000 1.00000"
      ]
     },
     "metadata": {},
     "output_type": "display_data"
    }
   ],
   "source": [
    "# Check column means and standard deviations\n",
    "#colMeans(wisc.data)\n",
    "#apply(wisc.data, 2 ,sd)\n",
    "\n",
    "# Execute PCA, scaling if appropriate: wisc.pr\n",
    "wisc.pr<- prcomp(wisc.data, center = TRUE, scale = TRUE)\n",
    "\n",
    "# Look at summary of results\n",
    "summary(wisc.pr)"
   ]
  },
  {
   "cell_type": "markdown",
   "metadata": {},
   "source": [
    "#### 4.1.3) Interpreting PCA results\n",
    "Now you'll use some visualizations to better understand your PCA model. You were introduced to one of these visualizations, the biplot, in an earlier chapter.\n",
    "\n",
    "You'll run into some common challenges with using biplots on real-world data containing a non-trivial number of observations and variables, then you'll look at some alternative visualizations. You are encouraged to experiment with additional visualizations before moving on to the next exercise.\n",
    "\n",
    "**Exercise**\n",
    "The variables you created before, `wisc.data`, `diagnosis`, and `wisc.pr`, are still available.\n",
    "\n",
    "- Create a biplot of the `wisc.pr` data. What stands out to you about this plot? Is it easy or difficult to understand? Why?\n",
    "- Execute the code to scatter plot each observation by principal components 1 and 2, coloring the points by the diagnosis.\n",
    "- Repeat the same for principal components 1 and 3. What do you notice about these plots?\n",
    "\n",
    "*Answer*"
   ]
  },
  {
   "cell_type": "code",
   "execution_count": 13,
   "metadata": {},
   "outputs": [
    {
     "data": {
      "image/png": "[encoded data removed]",
      "text/plain": [
       "plot without title"
      ]
     },
     "metadata": {},
     "output_type": "display_data"
    },
    {
     "data": {
      "image/png": "[encoded data removed]",
      "text/plain": [
       "plot without title"
      ]
     },
     "metadata": {},
     "output_type": "display_data"
    },
    {
     "data": {
      "image/png": "[encoded data removed]",
      "text/plain": [
       "plot without title"
      ]
     },
     "metadata": {},
     "output_type": "display_data"
    }
   ],
   "source": [
    "# Create a biplot of wisc.pr\n",
    "biplot(wisc.pr)\n",
    "\n",
    "# Scatter plot observations by components 1 and 2\n",
    "plot(wisc.pr$x[, c(1, 2)], col = (diagnosis + 1), \n",
    "     xlab = \"PC1\", ylab = \"PC2\")\n",
    "\n",
    "# Repeat for components 1 and 3\n",
    "plot(wisc.pr$x[, c(1, 3)], col = (diagnosis + 1), \n",
    "     xlab = \"PC1\", ylab = \"PC3\")\n",
    "\n",
    "# Do additional data exploration of your choosing below (optional)\n"
   ]
  },
  {
   "cell_type": "markdown",
   "metadata": {},
   "source": [
    "#### 4.1.4) Variance explained\n",
    "In this exercise, you will produce scree plots showing the proportion of variance explained as the number of principal components increases. The data from PCA must be prepared for these plots, as there is not a built-in function in R to create them directly from the PCA model.\n",
    "\n",
    "As you look at these plots, ask yourself if there's an elbow in the amount of variance explained that might lead you to pick a natural number of principal components. If an obvious elbow does not exist, as is typical in real-world datasets, consider how else you might determine the number of principal components to retain based on the scree plot.\n",
    "\n",
    "**Exercise**\n",
    "\n",
    "The variables you created before, wisc.data, diagnosis, and wisc.pr, are still available.\n",
    "\n",
    "- Calculate the variance of each principal component by squaring the `sdev` component of `wisc.pr`. Save the result as an object called `pr.var`.\n",
    "- Calculate the variance explained by each principal component by dividing by the total variance explained of all principal components. Assign this to a variable called `pve`.\n",
    "- Create a plot of variance explained for each principal component.\n",
    "- Using the `cumsum()` function, create a plot of cumulative proportion of variance explained.\n",
    "\n",
    "*Answer*"
   ]
  },
  {
   "cell_type": "code",
   "execution_count": 14,
   "metadata": {},
   "outputs": [
    {
     "data": {
      "image/png": "[encoded data removed]",
      "text/plain": [
       "plot without title"
      ]
     },
     "metadata": {},
     "output_type": "display_data"
    }
   ],
   "source": [
    "library(repr)\n",
    "# Change plot size to 4 x 3\n",
    "    options(repr.plot.width=10, repr.plot.height=5)\n",
    "\n",
    "\n",
    "\n",
    "# Set up 1 x 2 plotting grid\n",
    "par(mfrow = c(1, 2))\n",
    "\n",
    "# Calculate variability of each component\n",
    "pr.var<-wisc.pr$sdev^2\n",
    "\n",
    "# Variance explained by each principal component: pve\n",
    "pve<-pr.var/sum(pr.var)\n",
    "\n",
    "# Plot variance explained for each principal component\n",
    "plot(pve, xlab = \"Principal Component\", \n",
    "     ylab = \"Proportion of Variance Explained\", \n",
    "     ylim = c(0, 1), type = \"b\")\n",
    "\n",
    "# Plot cumulative proportion of variance explained\n",
    "plot(cumsum(pve), xlab = \"Principal Component\", \n",
    "     ylab = \"Cumulative Proportion of Variance Explained\", \n",
    "     ylim = c(0, 1), type = \"b\")\n"
   ]
  },
  {
   "cell_type": "markdown",
   "metadata": {},
   "source": [
    "#### Communicating PCA results\n",
    "This exercise will check your understanding of the PCA results, in particular the loadings and variance explained. The loadings, represented as vectors, explain the mapping from the original features to the principal components. The principal components are naturally ordered from the most variance explained to the least variance explained.\n",
    "\n",
    "The variables you created before—wisc.data, diagnosis, wisc.pr, and pve—are still available.\n",
    "\n",
    "For the first principal component, what is the component of the loading vector for the feature concave.points_mean? What is the minimum number of principal components required to explain 80% of the variance of the data?\n",
    "\n",
    "Answer: -0.26085376, 5"
   ]
  },
  {
   "cell_type": "code",
   "execution_count": 15,
   "metadata": {},
   "outputs": [
    {
     "data": {
      "text/html": [
       "<table>\n",
       "<thead><tr><th></th><th scope=col>PC1</th><th scope=col>PC2</th><th scope=col>PC3</th></tr></thead>\n",
       "<tbody>\n",
       "\t<tr><th scope=row>radius_mean</th><td>-0.2189024  </td><td> 0.23385713 </td><td>-0.008531243</td></tr>\n",
       "\t<tr><th scope=row>texture_mean</th><td>-0.1037246  </td><td> 0.05970609 </td><td> 0.064549903</td></tr>\n",
       "\t<tr><th scope=row>perimeter_mean</th><td>-0.2275373  </td><td> 0.21518136 </td><td>-0.009314220</td></tr>\n",
       "\t<tr><th scope=row>area_mean</th><td>-0.2209950  </td><td> 0.23107671 </td><td> 0.028699526</td></tr>\n",
       "\t<tr><th scope=row>smoothness_mean</th><td>-0.1425897  </td><td>-0.18611302 </td><td>-0.104291904</td></tr>\n",
       "\t<tr><th scope=row>compactness_mean</th><td>-0.2392854  </td><td>-0.15189161 </td><td>-0.074091571</td></tr>\n",
       "</tbody>\n",
       "</table>\n"
      ],
      "text/latex": [
       "\\begin{tabular}{r|lll}\n",
       "  & PC1 & PC2 & PC3\\\\\n",
       "\\hline\n",
       "\tradius\\_mean & -0.2189024   &  0.23385713  & -0.008531243\\\\\n",
       "\ttexture\\_mean & -0.1037246   &  0.05970609  &  0.064549903\\\\\n",
       "\tperimeter\\_mean & -0.2275373   &  0.21518136  & -0.009314220\\\\\n",
       "\tarea\\_mean & -0.2209950   &  0.23107671  &  0.028699526\\\\\n",
       "\tsmoothness\\_mean & -0.1425897   & -0.18611302  & -0.104291904\\\\\n",
       "\tcompactness\\_mean & -0.2392854   & -0.15189161  & -0.074091571\\\\\n",
       "\\end{tabular}\n"
      ],
      "text/markdown": [
       "\n",
       "| <!--/--> | PC1 | PC2 | PC3 | \n",
       "|---|---|---|---|---|---|\n",
       "| radius_mean | -0.2189024   |  0.23385713  | -0.008531243 | \n",
       "| texture_mean | -0.1037246   |  0.05970609  |  0.064549903 | \n",
       "| perimeter_mean | -0.2275373   |  0.21518136  | -0.009314220 | \n",
       "| area_mean | -0.2209950   |  0.23107671  |  0.028699526 | \n",
       "| smoothness_mean | -0.1425897   | -0.18611302  | -0.104291904 | \n",
       "| compactness_mean | -0.2392854   | -0.15189161  | -0.074091571 | \n",
       "\n",
       "\n"
      ],
      "text/plain": [
       "                 PC1        PC2         PC3         \n",
       "radius_mean      -0.2189024  0.23385713 -0.008531243\n",
       "texture_mean     -0.1037246  0.05970609  0.064549903\n",
       "perimeter_mean   -0.2275373  0.21518136 -0.009314220\n",
       "area_mean        -0.2209950  0.23107671  0.028699526\n",
       "smoothness_mean  -0.1425897 -0.18611302 -0.104291904\n",
       "compactness_mean -0.2392854 -0.15189161 -0.074091571"
      ]
     },
     "metadata": {},
     "output_type": "display_data"
    },
    {
     "data": {
      "text/html": [
       "<dl class=dl-horizontal>\n",
       "\t<dt>PC1</dt>\n",
       "\t\t<dd>-0.26085375838574</dd>\n",
       "\t<dt>PC2</dt>\n",
       "\t\t<dd>0.0347675004937475</dd>\n",
       "\t<dt>PC3</dt>\n",
       "\t\t<dd>-0.0255635406057334</dd>\n",
       "</dl>\n"
      ],
      "text/latex": [
       "\\begin{description*}\n",
       "\\item[PC1] -0.26085375838574\n",
       "\\item[PC2] 0.0347675004937475\n",
       "\\item[PC3] -0.0255635406057334\n",
       "\\end{description*}\n"
      ],
      "text/markdown": [
       "PC1\n",
       ":   -0.26085375838574PC2\n",
       ":   0.0347675004937475PC3\n",
       ":   -0.0255635406057334\n",
       "\n"
      ],
      "text/plain": [
       "        PC1         PC2         PC3 \n",
       "-0.26085376  0.03476750 -0.02556354 "
      ]
     },
     "metadata": {},
     "output_type": "display_data"
    }
   ],
   "source": [
    "#Try printing wisc.pr$rotation[, 1:3] to the console! That returns the components \n",
    "# of the loading vectors for all features for the first three principal components.\n",
    "head(wisc.pr$rotation[,1:3])\n",
    "\n",
    "# to see the specific component\n",
    "wisc.pr$rotation[\"concave.points_mean\", 1:3]"
   ]
  },
  {
   "cell_type": "markdown",
   "metadata": {},
   "source": [
    "#### 4.2.1) Hierarchical clustering of case data\n",
    "The goal of this exercise is to do hierarchical clustering of the observations. Recall from Chapter 2 that this type of clustering does not assume in advance the number of natural groups that exist in the data.\n",
    "\n",
    "As part of the preparation for hierarchical clustering, distance between all pairs of observations are computed. Furthermore, there are different ways to link clusters together, with single, complete, and average being the most common linkage methods.\n",
    "\n",
    "**Exercise**\n",
    "The variables you created before, `wisc.data`, `diagnosis`, `wisc.pr`, and `pve`, are available in your workspace.\n",
    "\n",
    "- Scale the `wisc.data` data and assign the result to `data.scaled`.\n",
    "- Calculate the (Euclidean) distances between all pairs of observations in the new scaled dataset and assign the result to `data.dist`.\n",
    "- Create a hierarchical clustering model using `complete` linkage. Manually specify the method argument to `hclust()` and assign the results to `wisc.hclust`.\n",
    "\n",
    "*Answer*\n"
   ]
  },
  {
   "cell_type": "code",
   "execution_count": 16,
   "metadata": {},
   "outputs": [],
   "source": [
    "# Scale the wisc.data data: data.scaled\n",
    "data.scaled<-scale(wisc.data)\n",
    "\n",
    "# Calculate the (Euclidean) distances: data.dist\n",
    "data.dist<- dist(data.scaled)\n",
    "\n",
    "# Create a hierarchical clustering model: wisc.hclust\n",
    "wisc.hclust<-hclust(data.dist, method = \"complete\")"
   ]
  },
  {
   "cell_type": "markdown",
   "metadata": {},
   "source": [
    "#### 4.2.2) Selecting number of clusters\n",
    "In this exercise, you will compare the outputs from your hierarchical clustering model to the actual diagnoses. Normally when performing unsupervised learning like this, a target variable isn't available. We do have it with this dataset, however, so it can be used to check the performance of the clustering model.\n",
    "\n",
    "When performing supervised learning—that is, when you're trying to predict some target variable of interest and that target variable is available in the original data—using clustering to create new features may or may not improve the performance of the final model. This exercise will help you determine if, in this case, hierarchical clustering provides a promising new feature.\n",
    "\n",
    "**Exercise**\n",
    "wisc.data, diagnosis, wisc.pr, pve, and wisc.hclust are available in your workspace.\n",
    "\n",
    "- Use `cutree()` to cut the tree so that it has 4 clusters. Assign the output to the variable `wisc.hclust.clusters`.\n",
    "- Use the `table()` function to compare the cluster membership to the actual diagnoses.\n",
    "\n",
    "*Answer*"
   ]
  },
  {
   "cell_type": "code",
   "execution_count": 21,
   "metadata": {},
   "outputs": [
    {
     "data": {
      "text/plain": [
       "                    diagnosis\n",
       "wisc.hclust.clusters   0   1\n",
       "                   1  12 165\n",
       "                   2   2   5\n",
       "                   3 343  40\n",
       "                   4   0   2"
      ]
     },
     "metadata": {},
     "output_type": "display_data"
    }
   ],
   "source": [
    "# Cut tree so that it has 4 clusters: wisc.hclust.clusters\n",
    "wisc.hclust.clusters<-cutree(wisc.hclust, k = 4)\n",
    "\n",
    "# Compare cluster membership to actual diagnoses\n",
    "table(wisc.hclust.clusters, diagnosis)"
   ]
  },
  {
   "cell_type": "markdown",
   "metadata": {},
   "source": [
    "#### 4.2.3) k-means clustering and comparing results\n",
    "As you now know, there are two main types of clustering: hierarchical and k-means.\n",
    "\n",
    "In this exercise, you will create a k-means clustering model on the Wisconsin breast cancer data and compare the results to the actual diagnoses and the results of your hierarchical clustering model. Take some time to see how each clustering model performs in terms of separating the two diagnoses and how the clustering models compare to each other.\n",
    "\n",
    "**Exercise**\n",
    "wisc.data, diagnosis, and wisc.hclust.clusters are still available.\n",
    "\n",
    "- Create a k-means model on `wisc.data`, assigning the result to `wisc.km`. Be sure to create 2 clusters, corresponding to the actual number of diagnosis. Also, remember to `scale` the data and `repeat` the algorithm 20 times to find a well performing model.\n",
    "- Use the `table()` function to compare the cluster membership of the k-means model to the actual diagnoses contained in the diagnosis vector. How well does k-means separate the two diagnoses?\n",
    "- Use the table() function to compare the cluster membership of the k-means model to the hierarchical clustering model. Recall the cluster membership of the hierarchical clustering model is contained in wisc.hclust.clusters.\n",
    "\n",
    "*Answer*"
   ]
  },
  {
   "cell_type": "code",
   "execution_count": 34,
   "metadata": {},
   "outputs": [
    {
     "data": {
      "text/plain": [
       "   diagnosis\n",
       "      0   1\n",
       "  1  14 175\n",
       "  2 343  37"
      ]
     },
     "metadata": {},
     "output_type": "display_data"
    },
    {
     "data": {
      "text/plain": [
       "   wisc.hclust.clusters\n",
       "      1   2   3   4\n",
       "  1 160   7  20   2\n",
       "  2  17   0 363   0"
      ]
     },
     "metadata": {},
     "output_type": "display_data"
    }
   ],
   "source": [
    "# Create a k-means model on wisc.data: wisc.km\n",
    "wisc.km<-kmeans(scale(wisc.data), centers = 2, nstart= 20)\n",
    "\n",
    "# Compare k-means to actual diagnoses\n",
    "table(wisc.km$cluster, diagnosis)\n",
    "\n",
    "# Compare k-means to hierarchical clustering\n",
    "table(wisc.km$cluster, wisc.hclust.clusters)"
   ]
  },
  {
   "cell_type": "markdown",
   "metadata": {},
   "source": [
    "#### 4.2.4) Clustering on PCA results\n",
    "In this final exercise, you will put together several steps you used earlier and, in doing so, you will experience some of the creativity that is typical in unsupervised learning.\n",
    "\n",
    "Recall from earlier exercises that the PCA model required significantly fewer features to describe 80% and 95% of the variability of the data. In addition to normalizing data and potentially avoiding overfitting, PCA also uncorrelates the variables, sometimes improving the performance of other modeling techniques.\n",
    "\n",
    "Let's see if PCA improves or degrades the performance of hierarchical clustering.\n",
    "\n",
    "**Exercise**\n",
    "wisc.pr, diagnosis, wisc.hclust.clusters, and wisc.km are still available in your workspace.\n",
    "\n",
    "- Using the minimum number of principal components required to describe at least 90% of the variability in the data, create a hierarchical clustering model with complete linkage. Assign the results to `wisc.pr.hclust`.\n",
    "- Cut this hierarchical clustering model into `4` clusters and assign the results to `wisc.pr.hclust.clusters`.\n",
    "- Using `table()`, compare the results from your new hierarchical clustering model with the actual `diagnoses`. How well does the newly created model with four clusters separate out the two diagnoses?\n",
    "- How well do the k-means and hierarchical clustering models you created in previous exercises do in terms of separating the diagnoses? Again, use the `table()` function to compare the output of each model with the vector containing the actual diagnoses.\n",
    "\n",
    "*Answer*"
   ]
  },
  {
   "cell_type": "code",
   "execution_count": 45,
   "metadata": {},
   "outputs": [
    {
     "data": {
      "text/plain": [
       "         wisc.pr.hclust.clusters\n",
       "diagnosis   1   2   3   4\n",
       "        0   5 350   2   0\n",
       "        1 113  97   0   2"
      ]
     },
     "metadata": {},
     "output_type": "display_data"
    },
    {
     "data": {
      "text/plain": [
       "         wisc.hclust.clusters\n",
       "diagnosis   1   2   3   4\n",
       "        0  12   2 343   0\n",
       "        1 165   5  40   2"
      ]
     },
     "metadata": {},
     "output_type": "display_data"
    },
    {
     "data": {
      "text/plain": [
       "         \n",
       "diagnosis   1   2\n",
       "        0  14 343\n",
       "        1 175  37"
      ]
     },
     "metadata": {},
     "output_type": "display_data"
    }
   ],
   "source": [
    "# Create a hierarchical clustering model: wisc.pr.hclust\n",
    "wisc.pr.hclust <- hclust(dist(wisc.pr$x[, 1:7]), method = \"complete\")\n",
    "\n",
    "# Cut model into 4 clusters: wisc.pr.hclust.clusters\n",
    "wisc.pr.hclust.clusters <- cutree(wisc.pr.hclust, k = 4)\n",
    "\n",
    "# Compare to actual diagnoses\n",
    "table(diagnosis, wisc.pr.hclust.clusters)\n",
    "\n",
    "# Compare to k-means and hierarchical\n",
    "table(diagnosis, wisc.hclust.clusters)\n",
    "table(diagnosis, wisc.km$cluster)"
   ]
  },
  {
   "cell_type": "code",
   "execution_count": 18,
   "metadata": {},
   "outputs": [],
   "source": [
    "library(repr)\n",
    "# Change plot size to 4 x 3\n",
    "    options(repr.plot.width=4, repr.plot.height=3)"
   ]
  },
  {
   "cell_type": "markdown",
   "metadata": {},
   "source": [
    "**Exercise**\n",
    "\n",
    "*Answer*"
   ]
  }
 ],
 "metadata": {
  "kernelspec": {
   "display_name": "R",
   "language": "R",
   "name": "ir"
  },
  "language_info": {
   "codemirror_mode": "r",
   "file_extension": ".r",
   "mimetype": "text/x-r-source",
   "name": "R",
   "pygments_lexer": "r",
   "version": "3.5.1"
  }
 },
 "nbformat": 4,
 "nbformat_minor": 2
}
