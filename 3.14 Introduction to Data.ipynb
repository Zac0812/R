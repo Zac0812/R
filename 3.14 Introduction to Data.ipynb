{
 "cells": [
  {
   "cell_type": "markdown",
   "metadata": {},
   "source": [
    "# Introduction to Data\n",
    "\n",
    "### Course Description\n",
    "Scientists seek to answer questions using rigorous methods and careful observations. These observations—collected from the likes of field notes, surveys, and experiments—form the backbone of a statistical investigation and are called data. Statistics is the study of how best to collect, analyze, and draw conclusions from data. It is helpful to put statistics in the context of a general process of investigation: 1) identify a question or problem; 2) collect relevant data on the topic; 3) analyze the data; and 4) form a conclusion. In this course, you'll focus on the first two steps of the process.\n",
    "\n",
    "### Note how can Resizing plots in the R kernel for Jupyter notebooks\n",
    "https://blog.revolutionanalytics.com/2015/09/resizing-plots-in-the-r-kernel-for-jupyter-notebooks.html\n",
    "\n",
    "    library(repr)\n",
    "\n",
    "    # Change plot size to 4 x 3\n",
    "    options(repr.plot.width=4, repr.plot.height=3)\n",
    "    \n",
    "### Note2 Generate a table \n",
    "https://www.tablesgenerator.com/markdown_tables\n"
   ]
  },
  {
   "cell_type": "markdown",
   "metadata": {},
   "source": [
    "## 1) Language of data\n",
    "This chapter introduces terminology of datasets and data frames in R.\n",
    "\n",
    "### 1.1) Welcome to the curse!\n",
    "the dataframe where these data are stored is calle hsb2, which can be founded in the `openintro` package.\n",
    "\n",
    "    install.packages(\"openintro\")\n",
    "    library(\"openintro\")\n",
    "    #load data\n",
    "    data(hsb2)\n",
    "    library(dplyr)\n",
    "    \n",
    "#### 1.1.1) Loading data into R\n",
    "In the previous video, we saw how to load the hsb2 dataset into R using the data() function and how to preview its contents with str().\n",
    "\n",
    "In this exercise, we'll practice on another dataset, email50, which contains a subset of incoming emails for the first three months of 2012 for a single email account. We'll examine the structure of this dataset and determine the number of rows (observations) and columns (variables)\n",
    "\n",
    "    Exercise: \n",
    "    Load the email50 dataset with the data() function.\n",
    "    View the structure of this dataset with the str() function. How many observations and variables are there?"
   ]
  },
  {
   "cell_type": "code",
   "execution_count": 1,
   "metadata": {},
   "outputs": [
    {
     "name": "stderr",
     "output_type": "stream",
     "text": [
      "Warning message:\n",
      "\"package 'openintro' was built under R version 3.5.2\"Please visit openintro.org for free statistics materials\n",
      "\n",
      "Attaching package: 'openintro'\n",
      "\n",
      "The following objects are masked from 'package:datasets':\n",
      "\n",
      "    cars, trees\n",
      "\n"
     ]
    },
    {
     "name": "stdout",
     "output_type": "stream",
     "text": [
      "'data.frame':\t50 obs. of  21 variables:\n",
      " $ spam        : num  0 0 1 0 0 0 0 0 0 0 ...\n",
      " $ to_multiple : num  0 0 0 0 0 0 0 0 0 0 ...\n",
      " $ from        : num  1 1 1 1 1 1 1 1 1 1 ...\n",
      " $ cc          : int  0 0 4 0 0 0 0 0 1 0 ...\n",
      " $ sent_email  : num  1 0 0 0 0 0 0 1 1 0 ...\n",
      " $ time        : POSIXct, format: \"2012-01-04 07:19:16\" \"2012-02-16 14:10:06\" ...\n",
      " $ image       : num  0 0 0 0 0 0 0 0 0 0 ...\n",
      " $ attach      : num  0 0 2 0 0 0 0 0 0 0 ...\n",
      " $ dollar      : num  0 0 0 0 9 0 0 0 0 23 ...\n",
      " $ winner      : Factor w/ 2 levels \"no\",\"yes\": 1 1 1 1 1 1 1 1 1 1 ...\n",
      " $ inherit     : num  0 0 0 0 0 0 0 0 0 0 ...\n",
      " $ viagra      : num  0 0 0 0 0 0 0 0 0 0 ...\n",
      " $ password    : num  0 0 0 0 1 0 0 0 0 0 ...\n",
      " $ num_char    : num  21.705 7.011 0.631 2.454 41.623 ...\n",
      " $ line_breaks : int  551 183 28 61 1088 5 17 88 242 578 ...\n",
      " $ format      : num  1 1 0 0 1 0 0 1 1 1 ...\n",
      " $ re_subj     : num  1 0 0 0 0 0 0 1 1 0 ...\n",
      " $ exclaim_subj: num  0 0 0 0 0 0 0 0 1 0 ...\n",
      " $ urgent_subj : num  0 0 0 0 0 0 0 0 0 0 ...\n",
      " $ exclaim_mess: num  8 1 2 1 43 0 0 2 22 3 ...\n",
      " $ number      : Factor w/ 3 levels \"none\",\"small\",..: 2 3 1 2 2 2 2 2 2 2 ...\n"
     ]
    }
   ],
   "source": [
    "library(\"openintro\")\n",
    "# Load data\n",
    "data(email50)\n",
    "\n",
    "# View the structure of the data\n",
    "str(email50)"
   ]
  },
  {
   "cell_type": "markdown",
   "metadata": {},
   "source": [
    "### 1.2) Types of variables\n",
    "**Numerical** : (quantitative) numerical values\n",
    "1. Continuous\n",
    "2. Discrete\n",
    "\n",
    "**Categorical** : (quialitative) limited number of distinct categories\n",
    "1. Ordinal: finite number of values within a given range, often measured\n",
    "\n",
    "#### 1.2.1) Identify variable types\n",
    "Recall from the video that the `glimpse()` function from `dplyr` provides a handy alternative to `str()` for previewing a dataset. In addition to the number of observations and variables, it shows the name and type of each column, along with a neatly printed preview of its values.\n",
    "\n",
    "Let's have another look at the email50 data, so we can practice identifying variable types.\n",
    "\n",
    "Instrunctions \n",
    "\n",
    "    Use the glimpse() function to view the variables in the email50 dataset.\n",
    "\n",
    "    Remember that variable descriptions are available in the help file for the dataset, which we can access by typing ?email50 in the console.\n",
    "\n",
    "    Review the output to identify each variable as either numerical or categorical, and further as discrete or continuous (if numerical) or ordinal or not ordinal (if categorical).\n"
   ]
  },
  {
   "cell_type": "code",
   "execution_count": 2,
   "metadata": {},
   "outputs": [
    {
     "name": "stderr",
     "output_type": "stream",
     "text": [
      "\n",
      "Attaching package: 'dplyr'\n",
      "\n",
      "The following objects are masked from 'package:stats':\n",
      "\n",
      "    filter, lag\n",
      "\n",
      "The following objects are masked from 'package:base':\n",
      "\n",
      "    intersect, setdiff, setequal, union\n",
      "\n"
     ]
    },
    {
     "name": "stdout",
     "output_type": "stream",
     "text": [
      "Observations: 50\n",
      "Variables: 21\n",
      "$ spam         <dbl> 0, 0, 1, 0, 0, 0, 0, 0, 0, 0, 0, 0, 1, 1, 0, 0, 0, 1, ...\n",
      "$ to_multiple  <dbl> 0, 0, 0, 0, 0, 0, 0, 0, 0, 0, 0, 0, 0, 1, 0, 0, 0, 0, ...\n",
      "$ from         <dbl> 1, 1, 1, 1, 1, 1, 1, 1, 1, 1, 1, 1, 1, 1, 1, 1, 1, 1, ...\n",
      "$ cc           <int> 0, 0, 4, 0, 0, 0, 0, 0, 1, 0, 0, 0, 0, 0, 0, 0, 0, 0, ...\n",
      "$ sent_email   <dbl> 1, 0, 0, 0, 0, 0, 0, 1, 1, 0, 0, 0, 0, 0, 0, 1, 1, 0, ...\n",
      "$ time         <dttm> 2012-01-04 07:19:16, 2012-02-16 14:10:06, 2012-01-04 ...\n",
      "$ image        <dbl> 0, 0, 0, 0, 0, 0, 0, 0, 0, 0, 0, 0, 0, 0, 0, 0, 0, 0, ...\n",
      "$ attach       <dbl> 0, 0, 2, 0, 0, 0, 0, 0, 0, 0, 0, 0, 0, 2, 0, 0, 0, 1, ...\n",
      "$ dollar       <dbl> 0, 0, 0, 0, 9, 0, 0, 0, 0, 23, 4, 0, 3, 2, 0, 0, 0, 0,...\n",
      "$ winner       <fct> no, no, no, no, no, no, no, no, no, no, no, no, yes, n...\n",
      "$ inherit      <dbl> 0, 0, 0, 0, 0, 0, 0, 0, 0, 0, 0, 0, 0, 0, 0, 0, 0, 0, ...\n",
      "$ viagra       <dbl> 0, 0, 0, 0, 0, 0, 0, 0, 0, 0, 0, 0, 0, 0, 0, 0, 0, 0, ...\n",
      "$ password     <dbl> 0, 0, 0, 0, 1, 0, 0, 0, 0, 0, 0, 2, 0, 0, 0, 0, 0, 0, ...\n",
      "$ num_char     <dbl> 21.705, 7.011, 0.631, 2.454, 41.623, 0.057, 0.809, 5.2...\n",
      "$ line_breaks  <int> 551, 183, 28, 61, 1088, 5, 17, 88, 242, 578, 1167, 198...\n",
      "$ format       <dbl> 1, 1, 0, 0, 1, 0, 0, 1, 1, 1, 1, 1, 1, 0, 1, 1, 1, 0, ...\n",
      "$ re_subj      <dbl> 1, 0, 0, 0, 0, 0, 0, 1, 1, 0, 0, 0, 0, 0, 0, 1, 1, 0, ...\n",
      "$ exclaim_subj <dbl> 0, 0, 0, 0, 0, 0, 0, 0, 1, 0, 0, 0, 0, 0, 0, 0, 0, 0, ...\n",
      "$ urgent_subj  <dbl> 0, 0, 0, 0, 0, 0, 0, 0, 0, 0, 0, 0, 0, 0, 0, 0, 0, 0, ...\n",
      "$ exclaim_mess <dbl> 8, 1, 2, 1, 43, 0, 0, 2, 22, 3, 13, 1, 2, 2, 21, 10, 0...\n",
      "$ number       <fct> small, big, none, small, small, small, small, small, s...\n"
     ]
    }
   ],
   "source": [
    "library(dplyr)\n",
    "glimpse(email50)"
   ]
  },
  {
   "cell_type": "markdown",
   "metadata": {},
   "source": [
    "### 1.3) Categorical data in R: factors\n",
    "Often stored as factor in  and an importat use of factors is in statistical modeling \n",
    "\n",
    "#### 1.3.1) Filtering based on a factor\n",
    "Categorical data are often stored as `factors` in R. In this exercise, we'll practice working with a factor variable, `number`, from the email50 dataset. This variable tells us what type of number (none, small, or big) an email contains.\n",
    "\n",
    "Recall from the video that the `filter()` function from dplyr can be used to filter a dataset to create a subset containing only certain levels of a variable. For example, the following code filters the mtcars dataset for cars containing 6 cylinders:\n",
    "\n",
    "    mtcars %>%\n",
    "      filter(cyl == 6)\n",
    "      \n",
    "    Exercise \n",
    "\n",
    "    Create a new dataset called email50_big that is a subset of the original email50 dataset containing only emails with \"big\" numbers. This information is stored in the number variable.\n",
    "    Report the dimensions of email50_big using the glimpse() function again. How many emails contain big numbers?"
   ]
  },
  {
   "cell_type": "code",
   "execution_count": 3,
   "metadata": {},
   "outputs": [
    {
     "name": "stdout",
     "output_type": "stream",
     "text": [
      "Observations: 7\n",
      "Variables: 21\n",
      "$ spam         <dbl> 0, 0, 1, 0, 0, 0, 0\n",
      "$ to_multiple  <dbl> 0, 0, 0, 0, 0, 0, 0\n",
      "$ from         <dbl> 1, 1, 1, 1, 1, 1, 1\n",
      "$ cc           <int> 0, 0, 0, 0, 0, 0, 0\n",
      "$ sent_email   <dbl> 0, 0, 0, 0, 0, 1, 0\n",
      "$ time         <dttm> 2012-02-16 14:10:06, 2012-02-04 17:26:09, 2012-01-24 ...\n",
      "$ image        <dbl> 0, 0, 0, 0, 0, 0, 0\n",
      "$ attach       <dbl> 0, 0, 0, 0, 0, 0, 0\n",
      "$ dollar       <dbl> 0, 0, 3, 2, 0, 0, 0\n",
      "$ winner       <fct> no, no, yes, no, no, no, no\n",
      "$ inherit      <dbl> 0, 0, 0, 0, 0, 0, 0\n",
      "$ viagra       <dbl> 0, 0, 0, 0, 0, 0, 0\n",
      "$ password     <dbl> 0, 2, 0, 0, 0, 0, 8\n",
      "$ num_char     <dbl> 7.011, 10.368, 42.793, 26.520, 6.563, 11.223, 10.613\n",
      "$ line_breaks  <int> 183, 198, 712, 692, 140, 512, 225\n",
      "$ format       <dbl> 1, 1, 1, 1, 1, 1, 1\n",
      "$ re_subj      <dbl> 0, 0, 0, 0, 0, 0, 0\n",
      "$ exclaim_subj <dbl> 0, 0, 0, 1, 0, 0, 0\n",
      "$ urgent_subj  <dbl> 0, 0, 0, 0, 0, 0, 0\n",
      "$ exclaim_mess <dbl> 1, 1, 2, 7, 2, 9, 9\n",
      "$ number       <fct> big, big, big, big, big, big, big\n"
     ]
    }
   ],
   "source": [
    "# Subset of emails with big numbers: email50_big\n",
    "email50_big <- email50 %>%\n",
    "  filter(number == \"big\")\n",
    "\n",
    "# Glimpse the subset\n",
    "glimpse(email50_big)\n"
   ]
  },
  {
   "cell_type": "markdown",
   "metadata": {},
   "source": [
    "#### 1.3.2)Complete filtering based on a factor\n",
    "The `droplevels()` function removes unused levels of factor variables from our dataset. As we saw in the video, it's often useful to determine which levels are unused (i.e. contain zero values) with the `table()` function.\n",
    "\n",
    "In this exercise, we'll see which levels of the `number` variable are dropped after applying the droplevels() function."
   ]
  },
  {
   "cell_type": "code",
   "execution_count": 4,
   "metadata": {},
   "outputs": [
    {
     "data": {
      "text/plain": [
       "\n",
       " none small   big \n",
       "    0     0     7 "
      ]
     },
     "metadata": {},
     "output_type": "display_data"
    },
    {
     "data": {
      "text/plain": [
       "\n",
       "big \n",
       "  7 "
      ]
     },
     "metadata": {},
     "output_type": "display_data"
    }
   ],
   "source": [
    "# Table of the number variable\n",
    "table(email50_big$number)\n",
    "\n",
    "# Drop levels\n",
    "email50_big$number <- droplevels(email50_big$number)\n",
    "\n",
    "# Another table of the number variable\n",
    "table(email50_big$number)"
   ]
  },
  {
   "cell_type": "markdown",
   "metadata": {},
   "source": [
    "### 1.4) Discretize a variable\n",
    "Discretize is converting a numerical variable to a categorical variable based on certain criteria.\n",
    "\n",
    "**Note**: we can print a result and store a variable at same time with `()`\n",
    "( avg_read<-mean(hsb2$read) )\n",
    "\n",
    "#### 1.4.1) Discretize a different variable\n",
    "In this exercise, we'll create a categorical version of the `num_char` variable in the `email50` dataset. `num_char` is the number of characters in an email, in thousands. This new variable will have two levels (`\"below median\"` and `\"at or above median\"`) depending on whether an email has less than the median number of characters or equal to or more than that value.\n",
    "\n",
    "The median marks the 50th percentile, or midpoint, of a distribution, so half of the emails should fall in one category and the other half in the other. You will learn more about the median and other measures of center in the next course in this series.\n",
    "\n",
    "    Exercise:\n",
    "\n",
    "    The email50 dataset is available in your workspace.\n",
    "\n",
    "    Find the median number of characters in emails, save the result as med_num_char.\n",
    "    Using mutate(), create a new column called num_char_cat, which discretizes the num_char variable into \"below median\" or \"at or above median\". Assign the result to email50_fortified.\n",
    "    Then, using count(), determine the number of emails in each level of num_char_cat. Evaluate whether these counts match the expected numbers."
   ]
  },
  {
   "cell_type": "code",
   "execution_count": 5,
   "metadata": {},
   "outputs": [
    {
     "data": {
      "text/html": [
       "<table>\n",
       "<thead><tr><th scope=col>num_char_cat</th><th scope=col>n</th></tr></thead>\n",
       "<tbody>\n",
       "\t<tr><td>at or above median</td><td>25                </td></tr>\n",
       "\t<tr><td>below median      </td><td>25                </td></tr>\n",
       "</tbody>\n",
       "</table>\n"
      ],
      "text/latex": [
       "\\begin{tabular}{r|ll}\n",
       " num\\_char\\_cat & n\\\\\n",
       "\\hline\n",
       "\t at or above median & 25                \\\\\n",
       "\t below median       & 25                \\\\\n",
       "\\end{tabular}\n"
      ],
      "text/markdown": [
       "\n",
       "num_char_cat | n | \n",
       "|---|---|\n",
       "| at or above median | 25                 | \n",
       "| below median       | 25                 | \n",
       "\n",
       "\n"
      ],
      "text/plain": [
       "  num_char_cat       n \n",
       "1 at or above median 25\n",
       "2 below median       25"
      ]
     },
     "metadata": {},
     "output_type": "display_data"
    }
   ],
   "source": [
    "# Calculate median number of characters: med_num_char\n",
    "med_num_char <- median(email50$num_char)\n",
    "\n",
    "# Create num_char_cat variable in email50\n",
    "email50_fortified <- email50 %>%\n",
    "  mutate(num_char_cat = ifelse(num_char < med_num_char, \"below median\", \"at or above median\"))\n",
    "  \n",
    "# Count emails in each category\n",
    "email50_fortified %>%\n",
    "  count(num_char_cat)"
   ]
  },
  {
   "cell_type": "markdown",
   "metadata": {},
   "source": [
    "#### 1.4.2)Combining levels of a different factor\n",
    "Another common way of creating a new variable based on an existing one is by combining levels of a categorical variable. For example, the `email50` dataset has a categorical variable called `number` with levels `\"none\"`, `\"small\"`, and `\"big\"`, but suppose we're only interested in whether an email contains a number. In this exercise, we will create a variable containing this information and also visualize it.\n",
    "\n",
    "For now, do your best to understand the code we've provided to generate the plot. We will go through it in detail in the next video.\n",
    "    \n",
    "    Exercise\n",
    "    Create a new column in email50 called number_yn that is \"no\" if there is no number in the email and \"yes\" otherwise. Use case_when() for this. Assign this to email50_fortified.\n",
    "    Run the code provided to visualize the distribution of the number_yn variable."
   ]
  },
  {
   "cell_type": "code",
   "execution_count": 8,
   "metadata": {},
   "outputs": [
    {
     "data": {},
     "metadata": {},
     "output_type": "display_data"
    },
    {
     "data": {
      "image/png": "[encoded data removed]",
      "text/plain": [
       "plot without title"
      ]
     },
     "metadata": {},
     "output_type": "display_data"
    }
   ],
   "source": [
    "library (ggplot2)\n",
    "    # Change plot size to 4 x 3\n",
    "    options(repr.plot.width=4, repr.plot.height=3)\n",
    "\n",
    "# Create number_yn column in email50\n",
    "email50_fortified <- email50 %>%\n",
    "  mutate(\n",
    "    number_yn = case_when(\n",
    "      # if number is \"none\", make number_yn \"no\"\n",
    "       number == \"none\" ~ \"no\", \n",
    "      # if number is not \"none\", make number_yn \"yes\"\n",
    "      number != \"none\" ~ \"yes\"  \n",
    "    )\n",
    "  )\n",
    "  \n",
    "\n",
    "# Visualize the distribution of number_yn\n",
    "ggplot(email50_fortified, aes(x = number_yn)) +\n",
    "  geom_bar()"
   ]
  },
  {
   "cell_type": "markdown",
   "metadata": {},
   "source": [
    "#### 1.5) Visualizing numerical data\n",
    "\n",
    "#### 1.5.1) Visualizing numerical and categorical data\n",
    "In this exercise, we'll visualize the relationship between two numerical variables from the `email50` dataset, conditioned on whether or not the email was `spam`. This means that we will use an aspect of the plot (like color or shape) to identify the levels in the spam variable so that we can compare plotted values between them.\n",
    "\n",
    "Recall that in the `ggplot()` function, the first argument is the dataset, then we map the aesthetic features of the plot to variables in the dataset, and finally the `geom_*()` layer informs how data are represented on the plot. In this exercise, we will make a scatterplot by adding a `geom_point()` layer to the `ggplot()` call.\n",
    "\n",
    "    Exercise:\n",
    "\n",
    "    Create a scatterplot of number of exclamation points (exclaim_mess) on the y-axis vs. number of characters (num_char) on the x-axis.\n",
    "\n",
    "    Color points by whether or not the email is spam.\n",
    "    Note that the spam variable is stored as numerical (0/1) but we want to use it as a categorical variable in this plot. To do this, force R to think of it as such with the factor() function.\n",
    "    Based on the plot, does there appear to be a relationship between these variables?"
   ]
  },
  {
   "cell_type": "code",
   "execution_count": 9,
   "metadata": {},
   "outputs": [
    {
     "data": {},
     "metadata": {},
     "output_type": "display_data"
    },
    {
     "data": {
      "image/png": "[encoded data removed]",
      "text/plain": [
       "plot without title"
      ]
     },
     "metadata": {},
     "output_type": "display_data"
    }
   ],
   "source": [
    "# Load ggplot2\n",
    "library(ggplot2)\n",
    "    # Change plot size to 4 x 3\n",
    "    options(repr.plot.width=4, repr.plot.height=3)\n",
    "\n",
    "# Scatterplot of exclaim_mess vs. num_char\n",
    "ggplot(email50, aes(x = num_char, y = exclaim_mess, color = factor(spam))) +\n",
    "  geom_point()"
   ]
  },
  {
   "cell_type": "markdown",
   "metadata": {},
   "source": [
    "## 2) Study types and cautionary tales\n",
    "In this chapter, you will learn about observational studies and experiments, scope of inference, and Simpson's paradox.\n",
    "\n",
    "### 2.1)Observational studies and experiments\n",
    "Link: https://rstudio-pubs-static.s3.amazonaws.com/371153_68f3f2bab9694cc58b6d9ce4b4b5b36a.html\n",
    "\n",
    "1. Observational Study: Collect data in a way that does not interfere with how the data arises, which means they only observe. Only correlation or association between response and explainatory variable. Causal relationships are not established, because it could be caused by variables which were not controlled/measured. These are called confounding variables\n",
    "\n",
    "2. Experiment: Subjects are randomly assigned to different treatments, and hence causal relationships can be inferred\n",
    "\n",
    "In the gapminder dataset, which has multiple variables like life expectancy, GDP etc for different countries, this kind of data is purely observational, since people were not assgined to go live in these countries\n",
    "\n",
    "    data(gapminder)\n",
    "    glimpse(gapminder)\n",
    "\n",
    "#### 2.1.1) dentify type of study: Countries\n",
    "Next, let's take a look at data from a different study on country characteristics. First, load the data and view it, then identify the type of study. Remember, an experiment requires random assignment.\n",
    "\n",
    "    Exercise:\n",
    "\n",
    "    Load the gapminder data. This dataset comes from the gapminder R package, which has already been loaded.\n",
    "    View the variables in the dataset with glimpse().\n",
    "    If these data come from an observational study, assign \"observational\" to the type_of_study variable. If experimental, assign \"experimental\".\n",
    "    "
   ]
  },
  {
   "cell_type": "code",
   "execution_count": 1,
   "metadata": {},
   "outputs": [
    {
     "name": "stderr",
     "output_type": "stream",
     "text": [
      "Warning message:\n",
      "\"package 'gapminder' was built under R version 3.5.3\"\n",
      "Attaching package: 'dplyr'\n",
      "\n",
      "The following objects are masked from 'package:stats':\n",
      "\n",
      "    filter, lag\n",
      "\n",
      "The following objects are masked from 'package:base':\n",
      "\n",
      "    intersect, setdiff, setequal, union\n",
      "\n"
     ]
    },
    {
     "name": "stdout",
     "output_type": "stream",
     "text": [
      "Observations: 1,704\n",
      "Variables: 6\n",
      "$ country   <fct> Afghanistan, Afghanistan, Afghanistan, Afghanistan, Afgha...\n",
      "$ continent <fct> Asia, Asia, Asia, Asia, Asia, Asia, Asia, Asia, Asia, Asi...\n",
      "$ year      <int> 1952, 1957, 1962, 1967, 1972, 1977, 1982, 1987, 1992, 199...\n",
      "$ lifeExp   <dbl> 28.801, 30.332, 31.997, 34.020, 36.088, 38.438, 39.854, 4...\n",
      "$ pop       <int> 8425333, 9240934, 10267083, 11537966, 13079460, 14880372,...\n",
      "$ gdpPercap <dbl> 779.4453, 820.8530, 853.1007, 836.1971, 739.9811, 786.113...\n"
     ]
    }
   ],
   "source": [
    "#install.packages(\"gapminder\")\n",
    "library(\"gapminder\")\n",
    "library(dplyr)\n",
    "data(gapminder)\n",
    "\n",
    "# Load data\n",
    "data(gapminder)\n",
    "\n",
    "# Glimpse data\n",
    "glimpse(gapminder)\n",
    "\n",
    "# Identify type of study: observational or experimental\n",
    "type_of_study <- \"observational\""
   ]
  },
  {
   "cell_type": "markdown",
   "metadata": {},
   "source": [
    "Note: Right! Since there is no way to randomly assign countries to attributes, this is an observational study. Nice work!\n",
    "\n",
    "### 2.2) Random sampling and random assignment\n",
    "Random sampling happens when subjects are being selected for a study. Since it is random, it is likely that they are a good representation of the population.\n",
    "\n",
    "Random assignment is how subjects are assigned to different treatments in a study.Happens only in experiments.\n",
    "\n",
    "Labeling variables as response and explainatory does not actually establish any causal relationship or association. There maybe other variables which contribute to response, in conjunction with the explainatory variable. Simpson’s paradox illustrates the effect omission of an explainatory variable can have on establishing association between the response, and explainatory variable.\n",
    "\n",
    "### 2.3) Simpson's paradox\n",
    "Not considering an important variable when studying a relationship can result in what we call Simpson´s paradox\n",
    "\n",
    "#### 2.3.1) Number of males and females admitted\n",
    "The goal of this exercise is to determine the numbers of male and female applicants who got admitted and rejected. Specifically, we want to find out how many males are admitted and how many are rejected. And similarly we want to find how many females are admitted and how many are rejected.\n",
    "\n",
    "To do so we will use the count() function from the dplyr package.\n",
    "\n",
    "In one step, count() groups the data and then tallies the number of observations in each level of the grouping variable. These counts are available under a new variable called n.\n",
    "\n",
    "    Exercise: \n",
    "    Pass the gender and admission status columns to count() on the ucb_admit dataset (which is already pre-loaded) to count how many of each gender are admitted and how many are rejected.\n",
    "    \n",
    "    # Load packages\n",
    "    library(dplyr)\n",
    "    \n",
    "    # Count number of male and female applicants admitted\n",
    "    ucb_admit %>%\n",
    "      count(Gender, Admit)\n",
    "\n",
    "#### 2.3.2) Proportion of males admitted overall\n",
    "Next we'll calculate the percentage of males and percentage of females admitted, by creating a new variable, called prop (short for proportion) based off of the counts calculated in the previous exercise and using the mutate() from the dplyr package.\n",
    "\n",
    "Proportions for each row of the data frame we created in the previous exercise can be calculated as n / sum(n). Note that since the data are grouped by gender, sum(n) will be calculated for males and females separately.\n",
    "\n",
    "    Excercise:\n",
    "\n",
    "    The table of counts of gender and admission status you developed earlier is available as ucb_admission_counts.\n",
    "\n",
    "    Group the data by gender.\n",
    "    Create the new variable described above, prop, the proportion of males and females admitted.\n",
    "    Filter the data for those who are admitted so that the resulting data frame only contains proportions of males and females who are admitted.\n",
    "    Which gender has a higher admission rate, male or female?\n",
    "    \n",
    "    ucb_admission_counts %>%\n",
    "      # Group by gender\n",
    "      group_by(Gender) %>%\n",
    "      # Create new variable\n",
    "      mutate(prop = n / sum(n)) %>%\n",
    "      # Filter for admitted\n",
    "      filter(Admit == \"Admitted\")\n",
    "      \n",
    "#### 2.3.3) Proportion of males admitted for each department\n",
    "Finally we'll make a table similar to the one we constructed earlier, except we'll first group the data by department. The goal is to compare the proportions of male admitted students across departments.\n",
    "\n",
    "Proportions for each row of the data frame we create can be calculated as n / sum(n). Note that since the data are grouped by department and gender, sum(n) will be calculated for males and females separately for each department.\n",
    "\n",
    "    Instrunctions:\n",
    "\n",
    "    ucb_admit has been pre-loaded for you.\n",
    "\n",
    "    Assign ucb_admission_counts as the count() of ucb_admit by department, gender, and admission status.\n",
    "    \n",
    "    Group ucb_admission_counts by department then gender.\n",
    "    Add a new column, prop, which is the ratio of those admitted or rejected by department and gender.\n",
    "    Filter the rows for males and for those who are admitted.\n",
    "\n",
    "\n",
    "    ucb_admission_counts <- ucb_admit %>%\n",
    "      # Counts by department, then gender, then admission status\n",
    "      count(Dept, Gender, Admit)\n",
    "\n",
    "    # See the result\n",
    "    ucb_admission_counts\n",
    "    \n",
    "    ucb_admission_counts  %>%\n",
    "      # Group by department, then gender\n",
    "      group_by(Dept, Gender) %>%\n",
    "      # Create new variable\n",
    "      mutate(prop = n/sum(n)) %>%\n",
    "      # Filter for male and admitted\n",
    "      filter(Gender == \"Male\", Admit == \"Admitted\")"
   ]
  },
  {
   "cell_type": "markdown",
   "metadata": {},
   "source": [
    "## 3.0 Sampling strategies and experimental design\n",
    "This chapter defines various sampling strategies and their benefits/drawbacks as well as principles of experimental design.\n",
    "\n",
    "### 3.1)Sampling strategies\n",
    "1. Simple Random Sampe; we randomly select cases from the population, such that each case is equally likely to be selected.\n",
    "2. Stratified Sampling; we first divide the population into homogeneous grups, called `strata` and then we randomly sample from with each stratum.\n",
    "3. Cluster Sampling; we divede the population into clusters randomly sample a few clusters and then sample all observations within these clusters. The clusters, unlike strata in stratified sampling, are heterogeneous within themselves and each cluster is similar to the others, such that we can get away with sampling from just a few of the clusters.\n",
    "4. Multistage sampling; adds another step to cluster sampling, just like in cluster sampling, we divede the population into clusters randomly sample a few clusters, and we randomly sample observations from within those clusters.\n",
    "\n",
    "### 3.2) Sampling in R\n",
    "\n",
    "#### 3.2.1) Simple random sample in R\n",
    "Suppose we want to collect some data from a sample of eight states. A list of all states and the region they belong to (Northeast, Midwest, South, West) are given in the us_regions data frame.\n",
    "\n",
    "    Exercise : \n",
    "\n",
    "    The dplyr package and us_regions data frame have been loaded.\n",
    "\n",
    "    Use simple random sampling to select eight states from us_regions. Save this sample in a data frame called states_srs.\n",
    "    Count the number of states from each region in your sample.\n",
    "\n",
    "    # Simple random sample\n",
    "    states_srs <- us_regions %>%\n",
    "      sample_n(8)\n",
    "\n",
    "    # Count states by region\n",
    "    states_srs %>%\n",
    "      count(region)\n",
    "\n",
    "#### 3.2.2) Stratified sample in R\n",
    "In the previous exercise, we took a simple random sample of eight states. However, we did not have any control over how many states from each region got sampled. The goal of stratified sampling in this context is to have control over the number of states sampled from each region. Our goal for this exercise is to sample an equal number of states from each region.\n",
    "\n",
    "    Instructions:\n",
    "\n",
    "    The dplyr package has been loaded and us_regions is still available in your workspace.\n",
    "\n",
    "    Use stratified sampling to select a total of eight states, where each stratum is a region. Save this sample in a data frame called states_str.\n",
    "    Count the number of states from each region in your sample to confirm that each region is represented equally in your sample\n",
    "    \n",
    "        # Stratified sample\n",
    "    # Stratified sample\n",
    "    states_str <- us_regions %>%\n",
    "      group_by(region) %>%\n",
    "     #note how we divide the numbers of sample versus number of regions \n",
    "      sample_n(2)\n",
    "\n",
    "    # Count states by region\n",
    "    states_str %>%\n",
    "      count(region)\n",
    "      \n",
    "#### 3.2.3) Principles of experimental design\n",
    "We discuss principles of experimental design : control, randomize, replicate, and block:\n",
    "\n",
    "1. **Control**, compare traetment of interest to a control group \n",
    "2. **randomize**, to randomly assing subjects to treatments \n",
    "3. **Replicate**, collect a sufficiently large sample within a study or to replicate the intire study\n",
    "4. **Block**, to account for the potential effect of know or suspected confouding variables\n",
    "\n",
    "Note: we do this by first grouping subjects into blocks based on these variables and then randomizing them within each block to treatment group, example:\n",
    "\n",
    "We would like to desing an experiment to investigate whether students learn the R language better in a traditional lecture based course or using an interactive online learning platform, so we sample a group of students for our study(1) that we randomly assing to these two courses, but before we do so we need to consider any potential **confounding variables** , its suspected that previous programming experience migh have an effect on how students learn in these two settings, therefore we decide to block for having previous previous programming experience, to do so, we divede our sample into two, those with programming experience and those without(2). Then, we randomly assing individuals from each block into the two courses, ensuring that those with and without programming experience are equally represented in the two traetments groups (3)\n",
    "\n",
    "    e: students\n",
    "    s: without previous programming experience\n",
    "    p: with previous programming experience\n",
    "    (first)           (second)                     (third)\n",
    "    eeeeeeee         sssssssss         (lecture)   pspssssss  \n",
    "    eeeeeeee         sssssssss                     psssspsps\n",
    "    eeeeeeee\n",
    "    eeeeeeee         ppppppppp         (online)    ssspsssps\n",
    "                     ppppppppp                     spssppssp \n",
    "                     \n",
    "Examples:\n",
    "\n",
    "Identifying components of a study\n",
    "A researcher designs a study to test the effect of light and noise levels on exam performance of students. The researcher also believes that light and noise levels might have different effects on males and females, so she wants to make sure both genders are represented equally under different conditions.\n",
    "\n",
    "Which of the below is correct?\n",
    "\n",
    "    There are 3 explanatory variables (light, noise, gender) and 1 response variable (exam performance).\n",
    "    press\n",
    "    \n",
    "    There is 1 explanatory variable (gender) and 3 response variables (light, noise, exam performance).\n",
    "    press\n",
    "    \n",
    "    There are 2 blocking variables (light and noise), 1 explanatory variable (gender), and 1 response variable (exam performance).\n",
    "    press\n",
    "    \n",
    "    (ok) There are 2 explanatory variables (light and noise), 1 blocking variable (gender), and 1 response variable (exam performance).\n",
    "    \n",
    "Experimental design terminology\n",
    "\n",
    "?xxxx variables are conditions you can impose on the experimental units, while ?xxxx variables are characteristics that the experimental units come with that you would like to control for.    \n",
    "\n",
    "\n",
    "    Blocking, explanatory\n",
    "\n",
    "    (ok) Explanatory, blocking\n",
    "\n",
    "    Control, treatment\n",
    "\n",
    "    Treatment, control\n",
    "\n",
    "Connect blocking and stratifying\n",
    "\n",
    "In random sampling, we use ?xxxx to control for a variable. In random assignment, we use ?xxxx to achieve the same goal.\n",
    "\n",
    "\n",
    "    (ok) stratifying, blocking\n",
    "\n",
    "    blocking, stratifying\n",
    "\n",
    "    confounding, stratifying\n",
    "\n",
    "    confounding, blocking\n",
    "\n"
   ]
  },
  {
   "cell_type": "markdown",
   "metadata": {},
   "source": [
    "## 4.0) Case Study\n",
    "Apply terminology, principles, and R code learned in the first three chapters of this course to a case study looking at how the physical appearance of instructors impacts their students' course evaluations.\n",
    "\n",
    "### 4.1 Beauty in the classroom\n"
   ]
  }
 ],
 "metadata": {
  "kernelspec": {
   "display_name": "R",
   "language": "R",
   "name": "ir"
  },
  "language_info": {
   "codemirror_mode": "r",
   "file_extension": ".r",
   "mimetype": "text/x-r-source",
   "name": "R",
   "pygments_lexer": "r",
   "version": "3.5.1"
  }
 },
 "nbformat": 4,
 "nbformat_minor": 2
}
