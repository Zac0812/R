{
 "cells": [
  {
   "cell_type": "markdown",
   "metadata": {},
   "source": [
    "# Cluster Analysis in R\n",
    "\n",
    "### Course Description\n",
    "Cluster analysis is a powerful toolkit in the data science workbench. It is used to find groups of observations (clusters) that share similar characteristics. These similarities can inform all kinds of business decisions; for example, in marketing, it is used to identify distinct groups of customers for which advertisements can be tailored. In this course, you will learn about two commonly used clustering methods - hierarchical clustering and k-means clustering. You won't just learn how to use these methods, you'll build a strong intuition for how they work and how to interpret their results. You'll develop this intuition by exploring three different datasets: soccer player positions, wholesale customer spending data, and longitudinal occupational wage data.\n",
    "\n",
    "### Note how can Resizing plots in the R kernel for Jupyter notebooks\n",
    "https://blog.revolutionanalytics.com/2015/09/resizing-plots-in-the-r-kernel-for-jupyter-notebooks.html\n",
    "\n",
    "    library(repr)\n",
    "\n",
    "    # Change plot size to 4 x 3\n",
    "    options(repr.plot.width=4, repr.plot.height=3)\n",
    "    \n",
    "### Note2 Generate a table \n",
    "\n",
    "https://www.tablesgenerator.com/markdown_tables\n",
    "\n",
    "### Note 3 - DataFrames"
   ]
  },
  {
   "cell_type": "code",
   "execution_count": 1,
   "metadata": {},
   "outputs": [
    {
     "name": "stderr",
     "output_type": "stream",
     "text": [
      "Warning message:\n",
      "\"package 'dplyr' was built under R version 3.5.3\"\n",
      "Attaching package: 'dplyr'\n",
      "\n",
      "The following objects are masked from 'package:stats':\n",
      "\n",
      "    filter, lag\n",
      "\n",
      "The following objects are masked from 'package:base':\n",
      "\n",
      "    intersect, setdiff, setequal, union\n",
      "\n",
      "Warning message:\n",
      "\"package 'ggplot2' was built under R version 3.5.3\"Warning message:\n",
      "\"package 'readr' was built under R version 3.5.3\"Warning message:\n",
      "\"package 'openintro' was built under R version 3.5.2\"Please visit openintro.org for free statistics materials\n",
      "\n",
      "Attaching package: 'openintro'\n",
      "\n",
      "The following object is masked from 'package:ggplot2':\n",
      "\n",
      "    diamonds\n",
      "\n",
      "The following objects are masked from 'package:datasets':\n",
      "\n",
      "    cars, trees\n",
      "\n",
      "Warning message:\n",
      "\"package 'gridExtra' was built under R version 3.5.3\"\n",
      "Attaching package: 'gridExtra'\n",
      "\n",
      "The following object is masked from 'package:dplyr':\n",
      "\n",
      "    combine\n",
      "\n"
     ]
    }
   ],
   "source": [
    "library(dplyr)\n",
    "library(ggplot2)\n",
    "library(readr)\n",
    "library(tidyr)\n",
    "library(datasets)\n",
    "library(openintro)\n",
    "\n",
    "\n",
    "#to plot two graphs at sime time \n",
    "library(gridExtra)\n",
    "# grid.arrange(p1, p2, nrow=1)\n",
    "\n",
    "\n",
    "#Soccer player positions\n",
    "lineup<-readRDS(\"D:/Analista Pricing/6.0 Personal/R/DataSources/lineup.rds\")\n",
    "\n",
    "# Occupational Employment Statistics (OES)\n",
    "oes<-readRDS(\"D:/Analista Pricing/6.0 Personal/R/DataSources/oes.rds\")\n",
    "\n",
    "# Wholesale customer spending\n",
    "customers_spend<-readRDS(\"D:/Analista Pricing/6.0 Personal/R/DataSources/ws_customers.rds\")\n"
   ]
  },
  {
   "cell_type": "markdown",
   "metadata": {},
   "source": [
    "## 1) Calculating distance between observations\n",
    "Cluster analysis seeks(search) to find groups of observations that are similar to one another, but the identified groups are different from each other. This similarity/difference is captured by the metric called distance. In this chapter, you will learn how to calculate the distance between observations for both continuous and categorical features. You will also develop an intuition for how the scales of your features can affect distance.\n",
    "\n",
    "### 1.1) (video) What is cluster analysis?\n",
    "cluster analysis is form of data exploration and the key to harnessing its power lies in understand how it works, so in this course you won´t just learn the tools necessary to perform cluster analysis, that is the easu part, we 'll work with you to build  the intuation behind the underlying methods but before we get to the how let's take a momoment to disscus what is clustering?\n",
    "\n",
    "we are working with a bunch of information, this data usually is represented as a matrix with rows (observation) and columns (that tell us something that we measured across these observation ) and we'll refer to these columns as the `features`  of our observations.\n",
    "\n",
    "In cluster analysis, we are interested in gruping our observation such all members of a grup are are similar to one another and at the same time they are distinctly different from all members outside of this group or put it another way, cluster analysis is a form of exploratory data anlysis (EDA) where observation are divide into meaningful group that share common characteristics amongset each other.\n",
    "\n",
    "so what is the flow of cluster analysis.\n",
    "\n",
    "- first your data does not have any missing values and that your features are on similar scales.\n",
    "- select similarity measure\n",
    "- cluster\n",
    "- analyze\n",
    "\n",
    "\n",
    "### 1.2) (video) Distance between two observations\n",
    "let's begin by focusing on the question that is fundamental to all  clustering analyses ...how similar are two observations? or from another perspective how dissimilar are they? you see, most clustering methods measure similarity between observations using a dissimilarity metric.\n",
    "\n",
    "    Distance = 1 - Similarity\n",
    "\n",
    "Often referred to as the distance, these two concept are just two sides of the same coin.\n",
    "\n",
    "if two observation have a large distance and then they are less similar  to one another, likewise if their distance value is small then they are more similar, naturally we should first develop a keen intuition by what is meant by distance \n",
    "\n",
    "for example we can use the euclidean distance to calculate this measure, if we have two point each of them have their (x,y) coordanates respectevily  then we can use this formula sqrt((x2-x1)^2+(y2-y1)^2) this is the fundamentai idea to calculate the distance between two point.\n",
    "\n",
    "In R we can use `distance()` function, onlye need to add a data freme or matrix and the method that provides the distance is `method = euclidean`, this function becomes indespensable if we have more that 2 observations. \n",
    "\n",
    "note that we use this function with more two observation it coul be expensive \n",
    "\n",
    "Example:"
   ]
  },
  {
   "cell_type": "code",
   "execution_count": 29,
   "metadata": {},
   "outputs": [
    {
     "data": {
      "text/html": [
       "<table>\n",
       "<thead><tr><th></th><th scope=col>X</th><th scope=col>Y</th></tr></thead>\n",
       "<tbody>\n",
       "\t<tr><th scope=row>BLUE</th><td>0 </td><td> 0</td></tr>\n",
       "\t<tr><th scope=row>RED</th><td>9 </td><td>12</td></tr>\n",
       "</tbody>\n",
       "</table>\n"
      ],
      "text/latex": [
       "\\begin{tabular}{r|ll}\n",
       "  & X & Y\\\\\n",
       "\\hline\n",
       "\tBLUE & 0  &  0\\\\\n",
       "\tRED & 9  & 12\\\\\n",
       "\\end{tabular}\n"
      ],
      "text/markdown": [
       "\n",
       "| <!--/--> | X | Y | \n",
       "|---|---|\n",
       "| BLUE | 0  |  0 | \n",
       "| RED | 9  | 12 | \n",
       "\n",
       "\n"
      ],
      "text/plain": [
       "     X Y \n",
       "BLUE 0  0\n",
       "RED  9 12"
      ]
     },
     "metadata": {},
     "output_type": "display_data"
    },
    {
     "name": "stdout",
     "output_type": "stream",
     "text": [
      "[1] \"Distance between two observations\"\n"
     ]
    },
    {
     "data": {
      "text/plain": [
       "    BLUE\n",
       "RED   15"
      ]
     },
     "metadata": {},
     "output_type": "display_data"
    },
    {
     "name": "stdout",
     "output_type": "stream",
     "text": [
      "[1] \"Now we have 3 observation\"\n"
     ]
    },
    {
     "data": {
      "text/html": [
       "<table>\n",
       "<thead><tr><th></th><th scope=col>X</th><th scope=col>Y</th></tr></thead>\n",
       "<tbody>\n",
       "\t<tr><th scope=row>BLUE</th><td> 0</td><td> 0</td></tr>\n",
       "\t<tr><th scope=row>RED</th><td> 9</td><td>12</td></tr>\n",
       "\t<tr><th scope=row>GREEN</th><td>-2</td><td>19</td></tr>\n",
       "</tbody>\n",
       "</table>\n"
      ],
      "text/latex": [
       "\\begin{tabular}{r|ll}\n",
       "  & X & Y\\\\\n",
       "\\hline\n",
       "\tBLUE &  0 &  0\\\\\n",
       "\tRED &  9 & 12\\\\\n",
       "\tGREEN & -2 & 19\\\\\n",
       "\\end{tabular}\n"
      ],
      "text/markdown": [
       "\n",
       "| <!--/--> | X | Y | \n",
       "|---|---|---|\n",
       "| BLUE |  0 |  0 | \n",
       "| RED |  9 | 12 | \n",
       "| GREEN | -2 | 19 | \n",
       "\n",
       "\n"
      ],
      "text/plain": [
       "      X  Y \n",
       "BLUE   0  0\n",
       "RED    9 12\n",
       "GREEN -2 19"
      ]
     },
     "metadata": {},
     "output_type": "display_data"
    },
    {
     "name": "stdout",
     "output_type": "stream",
     "text": [
      "[1] \"Distance between three observations\"\n"
     ]
    },
    {
     "data": {
      "text/plain": [
       "          BLUE      RED\n",
       "RED   15.00000         \n",
       "GREEN 19.10497 13.03840"
      ]
     },
     "metadata": {},
     "output_type": "display_data"
    }
   ],
   "source": [
    "two_players<-data.frame(X = c(0,9), Y= c(0,12), row.names = c (\"BLUE\",\"RED\"))\n",
    "two_players\n",
    "\n",
    "#distance\n",
    "print(\"Distance between two observations\")\n",
    "dist(two_players, method = \"euclidean\")\n",
    "\n",
    "\n",
    "print(\"Now we have 3 observation\")\n",
    "three_players<-rbind(two_players, 'GREEN' = c(-2, 19))\n",
    "three_players\n",
    "\n",
    "print(\"Distance between three observations\")\n",
    "dist(three_players, method = \"euclidean\")"
   ]
  },
  {
   "cell_type": "markdown",
   "metadata": {},
   "source": [
    "#### 1.2.1)  Calculate & plot the distance between two players\n",
    "You've obtained the coordinates relative to the center of the field for two players in a soccer match and would like to calculate the distance between them.\n",
    "\n",
    "In this exercise you will plot the positions of the 2 players and manually calculate the distance between them by using the Euclidean distance formula.\n",
    "\n",
    "**Exercise**\n",
    "- Plot their positions from the two_players data frame using ggplot.\n",
    "- Extract the positions of the players into two data frames player1 and player2.\n",
    "- Calculate the distance between player1 and player2 by using the Euclidean distance formula sqrt((x1−x2)^2+(y1−y2)^2)\n",
    "\n",
    "*Answer*"
   ]
  },
  {
   "cell_type": "code",
   "execution_count": 44,
   "metadata": {},
   "outputs": [
    {
     "data": {},
     "metadata": {},
     "output_type": "display_data"
    },
    {
     "name": "stdout",
     "output_type": "stream",
     "text": [
      "[1] \"the distance between two observations\"\n"
     ]
    },
    {
     "data": {
      "text/html": [
       "11.6619037896906"
      ],
      "text/latex": [
       "11.6619037896906"
      ],
      "text/markdown": [
       "11.6619037896906"
      ],
      "text/plain": [
       "[1] 11.6619"
      ]
     },
     "metadata": {},
     "output_type": "display_data"
    },
    {
     "data": {
      "image/png": "[encoded data removed]",
      "text/plain": [
       "plot without title"
      ]
     },
     "metadata": {},
     "output_type": "display_data"
    }
   ],
   "source": [
    "library(repr)\n",
    "# Change plot size to 4 x 3\n",
    "    options(repr.plot.width=3, repr.plot.height=2)\n",
    "\n",
    "two_players<-data.frame(x = c(5,15), y= c(4,10))\n",
    "\n",
    "# Plot the positions of the players\n",
    "ggplot(two_players, aes(x = x, y = y)) + geom_point() +\n",
    "  # Assuming a 40x60 field\n",
    "  lims(x = c(-30,30), y = c(-20, 20))\n",
    "\n",
    "# Split the players data frame into two observations\n",
    "player1 <- two_players[1, ]\n",
    "player2 <- two_players[2, ]\n",
    "\n",
    "# Calculate and print their distance using the Euclidean Distance formula\n",
    "player_distance <- sqrt( (player1$x - player2$x)^2 + (player1$y - player2$y)^2 )\n",
    "\n",
    "print(\"the distance between two observations\")\n",
    "player_distance"
   ]
  },
  {
   "cell_type": "markdown",
   "metadata": {},
   "source": [
    "#### 1.2.2)  Using the dist() function\n",
    "Using the Euclidean formula manually may be practical for 2 observations but can get more complicated rather quickly when measuring the distance between many observations.\n",
    "\n",
    "The `dist()` function simplifies this process by calculating distances between our observations (rows) using their features (columns). In this case the observations are the player positions and the dimensions are their x and y coordinates.\n",
    "\n",
    "*Note: The default distance calculation for the dist() function is Euclidean distance*\n",
    "\n",
    "**Exercise**\n",
    "- Calculate the distance between two players using the dist() function for the data frame two_players\n",
    "- Calculate the distance between three players for the data frame three_players\n",
    "\n",
    "*Answer*"
   ]
  },
  {
   "cell_type": "code",
   "execution_count": 45,
   "metadata": {},
   "outputs": [
    {
     "data": {
      "text/plain": [
       "        1\n",
       "2 11.6619"
      ]
     },
     "metadata": {},
     "output_type": "display_data"
    },
    {
     "data": {
      "text/plain": [
       "         1        2\n",
       "2 11.66190         \n",
       "3 16.76305 18.02776"
      ]
     },
     "metadata": {},
     "output_type": "display_data"
    }
   ],
   "source": [
    "two_players<-data.frame(x = c(5,15), y= c(4,10))\n",
    "three_players<-data.frame(x = c(5,15,0), y= c(4,10,20))\n",
    "\n",
    "# Calculate the Distance Between two_players\n",
    "dist_two_players <- dist(two_players)\n",
    "dist_two_players\n",
    "\n",
    "# Calculate the Distance Between three_players\n",
    "dist_three_players <- dist(three_players)\n",
    "dist_three_players"
   ]
  },
  {
   "cell_type": "markdown",
   "metadata": {},
   "source": [
    "### 1.3) (video) The importance of scale\n",
    "when calculating the distance between two players on a soccer field you used two feature (x,y) both of these are the coordinates of the player and both are measured in same manner because of this, they are comparable to one another and can be used togother to calculate euclidean distance between the players, but what happens when the features are not mesured in the same manner or to put it another way, when the values of theese features are not comparable to one another,to answer this question let's walk through an example:\n",
    "\n",
    "suppose that we provide a large data set that contain the heights and the weights for a large number of men in USA.\n",
    "\n",
    "| Observation | height(feet) | weight (lbs) |\n",
    "|-------------|--------------|--------------|\n",
    "| 1           | 6            | 200          |\n",
    "| 2           | 6            | 202          |\n",
    "| 3           | 8            | 200          |\n",
    "| n           | x            | y            |\n",
    "\n",
    "- the height feature is mesured in feet\n",
    "- the weight feature is mesured in pounds\n",
    "\n",
    "So you are interesting in calculate the distance between these individuals:\n",
    "    \n",
    "    dist(1,2) = sqrt( (6-6)^2 + (200-202)^2) = sqrt(0+4)=2 //2 pounds\n",
    "    dist(1,3) = sqrt( (6-8)^2 + (200-202)^2) = sqrt(4+0)=2 //2 feet\n",
    "    \n",
    "the distance between both pairs are identical, if we saw these men standing side by side, would you really believe that observation one is just as similar to three as it is to two... of course not so why are their distance tha same, this happens because the features are on different scales meaning the have different averages and different expected variability.\n",
    "\n",
    "So how can we adjust these features to calculate a distance that better alignts with our expectations? to do this we need to convert our features to be on a similar scale with one anotherm, there are varios methos to do this, but in this course we will use the metho called `standardization`  z = (x - mean(x)) / sd(x).\n",
    "\n",
    "in R we can use the `scale()` function to standardize our features.  "
   ]
  },
  {
   "cell_type": "code",
   "execution_count": 48,
   "metadata": {},
   "outputs": [
    {
     "data": {
      "text/plain": [
       "         1        2\n",
       "2 2.000000         \n",
       "3 2.000000 2.828427"
      ]
     },
     "metadata": {},
     "output_type": "display_data"
    },
    {
     "data": {
      "text/html": [
       "<table>\n",
       "<thead><tr><th scope=col>Height</th><th scope=col>Weight</th></tr></thead>\n",
       "<tbody>\n",
       "\t<tr><td>-0.5773503</td><td>-0.5773503</td></tr>\n",
       "\t<tr><td>-0.5773503</td><td> 1.1547005</td></tr>\n",
       "\t<tr><td> 1.1547005</td><td>-0.5773503</td></tr>\n",
       "</tbody>\n",
       "</table>\n"
      ],
      "text/latex": [
       "\\begin{tabular}{ll}\n",
       " Height & Weight\\\\\n",
       "\\hline\n",
       "\t -0.5773503 & -0.5773503\\\\\n",
       "\t -0.5773503 &  1.1547005\\\\\n",
       "\t  1.1547005 & -0.5773503\\\\\n",
       "\\end{tabular}\n"
      ],
      "text/markdown": [
       "\n",
       "Height | Weight | \n",
       "|---|---|---|\n",
       "| -0.5773503 | -0.5773503 | \n",
       "| -0.5773503 |  1.1547005 | \n",
       "|  1.1547005 | -0.5773503 | \n",
       "\n",
       "\n"
      ],
      "text/plain": [
       "     Height     Weight    \n",
       "[1,] -0.5773503 -0.5773503\n",
       "[2,] -0.5773503  1.1547005\n",
       "[3,]  1.1547005 -0.5773503"
      ]
     },
     "metadata": {},
     "output_type": "display_data"
    }
   ],
   "source": [
    "height_weight<- data.frame(Height = c(6,6,8), Weight = c(200,202,200))\n",
    "#the discante\n",
    "dist(height_weight)\n",
    "\n",
    "#standardize\n",
    "scale(height_weight)"
   ]
  },
  {
   "cell_type": "markdown",
   "metadata": {},
   "source": [
    "#### 1.3.1)  Effects of scale\n",
    "You have learned that when a variable is on a larger scale than other variables in your data it may disproportionately influence the resulting distance calculated between your observations. Lets see this in action by observing a sample of data from the `trees` data set.\n",
    "\n",
    "You will leverage the `scale()` function which by default centers & scales our column features.\n",
    "\n",
    "Our variables are the following:\n",
    "\n",
    "- Girth - tree diameter in inches\n",
    "- Height - tree height in inches\n",
    "\n",
    "**Exercise**\n",
    "- Calculate the distance matrix for the data frame `three_trees` and store it as dist_trees\n",
    "- Create a new variable `scaled_three_trees` where the three_trees data is centered & scaled\n",
    "- Calculate and print the distance matrix for `scaled_three_trees` and store this as `dist_scaled_trees`\n",
    "- Output both `dist_trees` and `dist_scaled_trees` matrices and observe the change of which observations have the smallest distance between the two matrices (hint: they have changed)\n",
    "\n",
    "*Answer*"
   ]
  },
  {
   "cell_type": "code",
   "execution_count": 51,
   "metadata": {},
   "outputs": [
    {
     "name": "stdout",
     "output_type": "stream",
     "text": [
      "[1] \"Without Scaling\"\n"
     ]
    },
    {
     "data": {
      "text/plain": [
       "         1        2\n",
       "2 60.00075         \n",
       "3 24.10062 84.02149"
      ]
     },
     "metadata": {},
     "output_type": "display_data"
    },
    {
     "name": "stdout",
     "output_type": "stream",
     "text": [
      "[1] \"With Scaling\"\n"
     ]
    },
    {
     "data": {
      "text/plain": [
       "         1        2\n",
       "2 1.409365         \n",
       "3 1.925659 2.511082"
      ]
     },
     "metadata": {},
     "output_type": "display_data"
    }
   ],
   "source": [
    "three_trees<-data.frame(Girth = c(8.3,8.6,10.5), Height = c(840,780,864))\n",
    "\n",
    "# Calculate distance for three_trees \n",
    "dist_trees <- dist(three_trees, method = \"euclidean\")\n",
    "\n",
    "# Scale three trees & calculate the distance  \n",
    "scaled_three_trees <- scale(three_trees)\n",
    "dist_scaled_trees <- dist(scaled_three_trees, method = \"euclidean\")\n",
    "\n",
    "# Output the results of both Matrices\n",
    "print('Without Scaling')\n",
    "dist_trees\n",
    "\n",
    "print('With Scaling')\n",
    "dist_scaled_trees"
   ]
  },
  {
   "cell_type": "markdown",
   "metadata": {},
   "source": [
    "### 1.4) (video) Measuring distance for categorical data\n",
    "So far you have  exclusively worked with one type of distance metric, the euclidean distance,this is a commonly used metric and is a great starting point when working with data that is continuous, but what happens if you the data you have is not continous, but is categorical?\n",
    "\n",
    "let´s start with the most basic case of categorical features, those are binary.\n",
    "\n",
    "| wine  | beer | whisky | vodka |\n",
    "|-------|------|--------|-------|\n",
    "| TRUE  | TRUE | FALSE  | FALSE |\n",
    "| FALSE | TRUE | TRUE   | TRUE  |\n",
    "| ...   | ...  | ...    | ...   |\n",
    "\n",
    "Here you are presented with survey data, let´s called it survey A, the participents of this survey, were asked whether they enjoy drinking various types of alchohol beverages , since they can only answer yes or no so we can code this binary response as TRUE or FALSE, and we would be interested to learn wich participants are similar to one another based on their responses, to calculate this we will use the similarity score called `Jaccard Index` this measure of similarity captures the ratio between the intersection of \"A\" and \"B\" to the union of \"A\" and \"B\" o more intuitively the ratio between the number of times  the feutures of both observations  are True to the numbers of times they are ever True \n",
    "\n",
    "    J(A,B) = A n B / A u B in our example J(1,2) = 1 n 2 / 1 u 2 = 1 (beer)/ 4 (4 TRUE) = .25\n",
    "\n",
    "but what about of distance, we remember that distance is `distance = 1 - similarity` so `Distance(1,2) = 1- J(1,2) = .75`\n",
    "\n",
    "Now, to learn how to do this in R, and in order to calcualte the jaccard distance between all three observation you just need to specify that the distance method to use in the `dist()` function is `binary` e.g"
   ]
  },
  {
   "cell_type": "code",
   "execution_count": 55,
   "metadata": {},
   "outputs": [
    {
     "data": {
      "text/html": [
       "<table>\n",
       "<thead><tr><th scope=col>wine</th><th scope=col>beer</th><th scope=col>whiskey</th><th scope=col>vodka</th></tr></thead>\n",
       "<tbody>\n",
       "\t<tr><td> TRUE</td><td> TRUE</td><td>FALSE</td><td>FALSE</td></tr>\n",
       "\t<tr><td>FALSE</td><td> TRUE</td><td> TRUE</td><td> TRUE</td></tr>\n",
       "\t<tr><td> TRUE</td><td>FALSE</td><td> TRUE</td><td>FALSE</td></tr>\n",
       "</tbody>\n",
       "</table>\n"
      ],
      "text/latex": [
       "\\begin{tabular}{r|llll}\n",
       " wine & beer & whiskey & vodka\\\\\n",
       "\\hline\n",
       "\t  TRUE &  TRUE & FALSE & FALSE\\\\\n",
       "\t FALSE &  TRUE &  TRUE &  TRUE\\\\\n",
       "\t  TRUE & FALSE &  TRUE & FALSE\\\\\n",
       "\\end{tabular}\n"
      ],
      "text/markdown": [
       "\n",
       "wine | beer | whiskey | vodka | \n",
       "|---|---|---|\n",
       "|  TRUE |  TRUE | FALSE | FALSE | \n",
       "| FALSE |  TRUE |  TRUE |  TRUE | \n",
       "|  TRUE | FALSE |  TRUE | FALSE | \n",
       "\n",
       "\n"
      ],
      "text/plain": [
       "  wine  beer  whiskey vodka\n",
       "1  TRUE  TRUE FALSE   FALSE\n",
       "2 FALSE  TRUE  TRUE    TRUE\n",
       "3  TRUE FALSE  TRUE   FALSE"
      ]
     },
     "metadata": {},
     "output_type": "display_data"
    },
    {
     "data": {
      "text/plain": [
       "          1         2\n",
       "2 0.7500000          \n",
       "3 0.6666667 0.7500000"
      ]
     },
     "metadata": {},
     "output_type": "display_data"
    }
   ],
   "source": [
    "survey_a<-data.frame(wine = c(T,F,T),  beer = c(T,T,F), whiskey = c(F,T,T), vodka = c(F,T,F))\n",
    "survey_a\n",
    "\n",
    "dist(survey_a, method = \"binary\")"
   ]
  },
  {
   "cell_type": "markdown",
   "metadata": {},
   "source": [
    "Now let´s expand this idea to a broader case of categorical data where we have feautes represented by more two categories, for survey b, we have gathered the favorite color and sport for our participants, for color their choices were red,blue and green and for sport decision was between soccer or hockey,to calculate the distance we need to represent the presence or absence of each category in a procces known as `dummification` , essentialy we consider each feature-value pair and encoded its presence or absence as a 1 or 0 (True and False) \n",
    "\n",
    "| color | sport  |\n",
    "|-------|--------|\n",
    "| red   | soccer |\n",
    "| green | hockey |\n",
    "| blue  | hockey |\n",
    "| blue  | soccer |\n",
    "| ...   | ...    |\n",
    "\n",
    "Once our data is dummified, its just a matter or calculating the Jaccard distance between the observations\n",
    "\n",
    "| colorblue | colorgreen | colorred | sportsoccer | sporthockey |\n",
    "|-----------|------------|----------|-------------|-------------|\n",
    "| 0         | 0          | 1        | 1           | 0           |\n",
    "| 0         | 1          | 0        | 0           | 1           |\n",
    "| 1         | 0          | 0        | 0           | 1           |\n",
    "| 1         | 0          | 0        | 1           | 0           |\n",
    "\n",
    "to perform this preliminary step in R, we would use the `dummy` data frame function from the `dummy` library after that we can leverage this to calculate the distance for our data, e.g"
   ]
  },
  {
   "cell_type": "code",
   "execution_count": 58,
   "metadata": {},
   "outputs": [
    {
     "data": {
      "text/html": [
       "<table>\n",
       "<thead><tr><th scope=col>color</th><th scope=col>sport</th></tr></thead>\n",
       "<tbody>\n",
       "\t<tr><td>red   </td><td>soccer</td></tr>\n",
       "\t<tr><td>green </td><td>hockey</td></tr>\n",
       "\t<tr><td>blue  </td><td>hockey</td></tr>\n",
       "\t<tr><td>blue  </td><td>soccer</td></tr>\n",
       "</tbody>\n",
       "</table>\n"
      ],
      "text/latex": [
       "\\begin{tabular}{r|ll}\n",
       " color & sport\\\\\n",
       "\\hline\n",
       "\t red    & soccer\\\\\n",
       "\t green  & hockey\\\\\n",
       "\t blue   & hockey\\\\\n",
       "\t blue   & soccer\\\\\n",
       "\\end{tabular}\n"
      ],
      "text/markdown": [
       "\n",
       "color | sport | \n",
       "|---|---|---|---|\n",
       "| red    | soccer | \n",
       "| green  | hockey | \n",
       "| blue   | hockey | \n",
       "| blue   | soccer | \n",
       "\n",
       "\n"
      ],
      "text/plain": [
       "  color sport \n",
       "1 red   soccer\n",
       "2 green hockey\n",
       "3 blue  hockey\n",
       "4 blue  soccer"
      ]
     },
     "metadata": {},
     "output_type": "display_data"
    },
    {
     "data": {
      "text/html": [
       "<table>\n",
       "<thead><tr><th scope=col>colorblue</th><th scope=col>colorgreen</th><th scope=col>colorred</th><th scope=col>sporthockey</th><th scope=col>sportsoccer</th></tr></thead>\n",
       "<tbody>\n",
       "\t<tr><td>0</td><td>0</td><td>1</td><td>0</td><td>1</td></tr>\n",
       "\t<tr><td>0</td><td>1</td><td>0</td><td>1</td><td>0</td></tr>\n",
       "\t<tr><td>1</td><td>0</td><td>0</td><td>1</td><td>0</td></tr>\n",
       "\t<tr><td>1</td><td>0</td><td>0</td><td>0</td><td>1</td></tr>\n",
       "</tbody>\n",
       "</table>\n"
      ],
      "text/latex": [
       "\\begin{tabular}{r|lllll}\n",
       " colorblue & colorgreen & colorred & sporthockey & sportsoccer\\\\\n",
       "\\hline\n",
       "\t 0 & 0 & 1 & 0 & 1\\\\\n",
       "\t 0 & 1 & 0 & 1 & 0\\\\\n",
       "\t 1 & 0 & 0 & 1 & 0\\\\\n",
       "\t 1 & 0 & 0 & 0 & 1\\\\\n",
       "\\end{tabular}\n"
      ],
      "text/markdown": [
       "\n",
       "colorblue | colorgreen | colorred | sporthockey | sportsoccer | \n",
       "|---|---|---|---|\n",
       "| 0 | 0 | 1 | 0 | 1 | \n",
       "| 0 | 1 | 0 | 1 | 0 | \n",
       "| 1 | 0 | 0 | 1 | 0 | \n",
       "| 1 | 0 | 0 | 0 | 1 | \n",
       "\n",
       "\n"
      ],
      "text/plain": [
       "  colorblue colorgreen colorred sporthockey sportsoccer\n",
       "1 0         0          1        0           1          \n",
       "2 0         1          0        1           0          \n",
       "3 1         0          0        1           0          \n",
       "4 1         0          0        0           1          "
      ]
     },
     "metadata": {},
     "output_type": "display_data"
    },
    {
     "data": {
      "text/plain": [
       "          1         2         3\n",
       "2 1.0000000                    \n",
       "3 1.0000000 0.6666667          \n",
       "4 0.6666667 1.0000000 0.6666667"
      ]
     },
     "metadata": {},
     "output_type": "display_data"
    }
   ],
   "source": [
    "survey_b<- data.frame(color = c(\"red\",\"green\",\"blue\",\"blue\"), sport = c(\"soccer\",\"hockey\",\"hockey\",\"soccer\"))\n",
    "survey_b\n",
    "\n",
    "library(dummies)\n",
    "dummy_survey_b<-dummy.data.frame(survey_b)\n",
    "\n",
    "dummy_survey_b\n",
    "\n",
    "dist(dummy_survey_b, method = \"binary\")"
   ]
  },
  {
   "cell_type": "markdown",
   "metadata": {},
   "source": [
    "#### 1.4.1)Calculating distance between categorical variables\n",
    "In this exercise you will explore how to calculate `binary (Jaccard) distances`. In order to calculate distances we will first have to dummify our categories using the `dummy.data.frame()` from the library `dummies`\n",
    "\n",
    "You will use a small collection of survey observations stored in the data frame `job_survey` with the following columns:\n",
    "\n",
    "- job_satisfaction Possible options: \"Hi\", \"Mid\", \"Low\"\n",
    "- is_happy Possible options: \"Yes\", \"No\"\n",
    "\n",
    "**Exercise**\n",
    "- Create a dummified data frame dummy_survey\n",
    "- Generate a Jaccard distance matrix for the dummified survey data dist_survey using the dist() function using the parameter method = 'binary'\n",
    "- Print the original data and the distance matrix\n",
    "\n",
    "Note the observations with a distance of 0 in the original data (1, 2, and 4)\n",
    "\n",
    "*Answer*"
   ]
  },
  {
   "cell_type": "code",
   "execution_count": 3,
   "metadata": {},
   "outputs": [
    {
     "data": {
      "text/html": [
       "<table>\n",
       "<thead><tr><th scope=col>job_satisfaction</th><th scope=col>is_happy</th></tr></thead>\n",
       "<tbody>\n",
       "\t<tr><td>Low</td><td>No </td></tr>\n",
       "\t<tr><td>Low</td><td>No </td></tr>\n",
       "\t<tr><td>Hi </td><td>Yes</td></tr>\n",
       "\t<tr><td>Low</td><td>No </td></tr>\n",
       "\t<tr><td>Mid</td><td>No </td></tr>\n",
       "</tbody>\n",
       "</table>\n"
      ],
      "text/latex": [
       "\\begin{tabular}{r|ll}\n",
       " job\\_satisfaction & is\\_happy\\\\\n",
       "\\hline\n",
       "\t Low & No \\\\\n",
       "\t Low & No \\\\\n",
       "\t Hi  & Yes\\\\\n",
       "\t Low & No \\\\\n",
       "\t Mid & No \\\\\n",
       "\\end{tabular}\n"
      ],
      "text/markdown": [
       "\n",
       "job_satisfaction | is_happy | \n",
       "|---|---|---|---|---|\n",
       "| Low | No  | \n",
       "| Low | No  | \n",
       "| Hi  | Yes | \n",
       "| Low | No  | \n",
       "| Mid | No  | \n",
       "\n",
       "\n"
      ],
      "text/plain": [
       "  job_satisfaction is_happy\n",
       "1 Low              No      \n",
       "2 Low              No      \n",
       "3 Hi               Yes     \n",
       "4 Low              No      \n",
       "5 Mid              No      "
      ]
     },
     "metadata": {},
     "output_type": "display_data"
    },
    {
     "data": {
      "text/plain": [
       "          1         2         3         4\n",
       "2 0.0000000                              \n",
       "3 1.0000000 1.0000000                    \n",
       "4 0.0000000 0.0000000 1.0000000          \n",
       "5 0.6666667 0.6666667 1.0000000 0.6666667"
      ]
     },
     "metadata": {},
     "output_type": "display_data"
    }
   ],
   "source": [
    "job_survey<- data.frame(job_satisfaction = c(\"Low\",\"Low\",\"Hi\",\"Low\",\"Mid\"), is_happy = c(\"No\",\"No\",\"Yes\",\"No\",\"No\"))\n",
    "library(dummies)\n",
    "\n",
    "# Dummify the Survey Data\n",
    "dummy_survey <- dummy.data.frame(job_survey)\n",
    "\n",
    "# Calculate the Distance\n",
    "dist_survey <- dist(dummy_survey, method = \"binary\")\n",
    "\n",
    "# Print the Original Data\n",
    "job_survey\n",
    "\n",
    "# Print the Distance Matrix\n",
    "dist_survey"
   ]
  },
  {
   "cell_type": "markdown",
   "metadata": {},
   "source": [
    "## 2) Hierarchical clustering\n",
    "This chapter will help you answer the last question from chapter 1 - how do you find groups of similar observations (clusters) in your data using the distances that you have calculated? You will learn about the fundamental principles of hierarchical clustering - the linkage criteria and the dendrogram plot - and how both are used to build clusters. You will also explore data from a wholesale distributor in order to perform market segmentation of clients using their spending habits.\n",
    "\n",
    "\n",
    "### 2.1) (video)  Comparing more than two observations\n",
    "You were presented with a distance matrix that contained the euclidean distance between 4 soccer players\n",
    "\n",
    "| - | 1    | 2    | 3    |\n",
    "|---|------|------|------|\n",
    "| 2 | 11.7 | -    | -    |\n",
    "| 3 | 16.8 | 18.0 | -    |\n",
    "| 4 | 10.0 | 20.6 | 15.8 |\n",
    "\n",
    "You know that the closest two players are one and four (with a distance of 10.0), in order to cluster more than two observations together, you need to determine which of these distance are true:\n",
    "\n",
    "- is observation 2 closest to the newly formed group (1,4) or\n",
    "- is 3 is closer to group (1,4)\n",
    "\n",
    "To answer this question you must decided on how to measure the distance from group (1,4) to these observations, one approach we can take is to measure the maximum distance of each observation to the two members of the group.\n",
    "\n",
    "To calculate this agregated distance between observation 2 and group (1,4) we would get take the large of the two distances from 2 to 1 and 2 to 4 i.e `max(D(2,1),D(2,4)) = 20.6` and hence is our maximum distance we can apply the same logic when we comparing observation 3 `max(D(3,1),D(3,4)) = 16.8` using this approach we can say that based on the maximum distance, observation 3 is closer to  group (1,4).\n",
    "\n",
    "Hierarchical Cluster is just a continuation of this approach, this clustering method, iteratively groups the observations based on their pairwise distance until every observation is linked into one large group and the decision of who select the closest observation to an existing group is called `linking criteria`:\n",
    "\n",
    "In our example we decided that observation 3 was the closest based on the maximium distance between it and group 1-4, the aproach we used is formally called the complete `linkage criteria`. let's see the hierarchical clustering method in action using a visual representation:\n",
    "\n",
    "1. the distances between the four players have already been calculated and are shown, we know that players 1 and 4 have the shortest distance and will be grouped first \n",
    "2. we are now presented with 3 options: add player 2  to group 1-4, add player 3 to group 1-4 or start a new group for players 2 and 3, the desicion will be made based on which option results in the smallest distance:\n",
    "\n",
    "    - we saw the distance between 2 and 3 is 18.0\n",
    "    - to calcualte the distance between players 2 and group 1-4 we will use the `complete linkage` method, which is the maximum of the distances between observation two and each member of group 1-4 and applying the same  result for player 3 and each member of group 1-4, of 3 option the grouping of player 3 with 1-4 is selected because it has the smallest distance value so grouped it with group 1-4.\n",
    "    \n",
    "3. the next round of grouping doesn´t require any decision making, we simply aggregate observation two with group 1-3-4\n",
    "\n",
    "Inline-style: \n",
    "![](./Imagenes/linkage_criteria.jpg)\n",
    "\n",
    "Now you have an iterative binary grouping of your 4 observations. The order in wich these observations are grouped generates hierarchy based on distance, and hance is called `hierarchical clustering`, there are many different linkage methods that have been developed:\n",
    "\n",
    "- **Complete Linkage**: maximum distance between two sets.\n",
    "- **Single Linkage**: minium distance between two sets\n",
    "- **Average Linkage**: average distance between two sets\n",
    "\n",
    "#### 2.1.1) Calculating linkage\n",
    "Let us revisit the example with `three players` on a field. The distance matrix between these three players is shown below and is available as the variable `dist_players`.\n",
    "\n",
    "From this we can tell that the first group that forms is between players 1 & 2, since they are the closest to one another with a Euclidean distance value of 11.\n",
    "\n",
    "Now you want to apply the three linkage methods you have learned to determine what the distance of this group is to player 3."
   ]
  },
  {
   "cell_type": "code",
   "execution_count": 16,
   "metadata": {},
   "outputs": [
    {
     "data": {
      "text/plain": [
       "         1        2\n",
       "2 11.66190         \n",
       "3 16.76305 18.02776"
      ]
     },
     "metadata": {},
     "output_type": "display_data"
    }
   ],
   "source": [
    "three_players<-data.frame(x = c(5,15,0), y= c(4,10,20))\n",
    "dist_players<-dist(three_players, method = \"euclidean\")\n",
    "dist_players\n"
   ]
  },
  {
   "cell_type": "markdown",
   "metadata": {},
   "source": [
    "**Exercise**\n",
    "Calculate the distance from player 3 to the group of players 1 & 2 using the following three linkage methods.\n",
    "\n",
    "- Complete: the resulting distance is based on the maximum.\n",
    "- Single: the resulting distance is based on the minimum.\n",
    "- Average: the resulting distance is based on the average.\n",
    "\n",
    "*Answer*"
   ]
  },
  {
   "cell_type": "code",
   "execution_count": 18,
   "metadata": {},
   "outputs": [
    {
     "data": {
      "text/html": [
       "18.0277563773199"
      ],
      "text/latex": [
       "18.0277563773199"
      ],
      "text/markdown": [
       "18.0277563773199"
      ],
      "text/plain": [
       "[1] 18.02776"
      ]
     },
     "metadata": {},
     "output_type": "display_data"
    },
    {
     "data": {
      "text/html": [
       "16.7630546142402"
      ],
      "text/latex": [
       "16.7630546142402"
      ],
      "text/markdown": [
       "16.7630546142402"
      ],
      "text/plain": [
       "[1] 16.76305"
      ]
     },
     "metadata": {},
     "output_type": "display_data"
    },
    {
     "data": {
      "text/html": [
       "17.3954054957801"
      ],
      "text/latex": [
       "17.3954054957801"
      ],
      "text/markdown": [
       "17.3954054957801"
      ],
      "text/plain": [
       "[1] 17.39541"
      ]
     },
     "metadata": {},
     "output_type": "display_data"
    }
   ],
   "source": [
    "# Extract the pair distances\n",
    "distance_1_2 <- dist_players[1]\n",
    "distance_1_3 <- dist_players[2]\n",
    "distance_2_3 <- dist_players[3]\n",
    "\n",
    "# Calculate the complete distance between group 1-2 and 3\n",
    "complete <- max(c(distance_1_3, distance_2_3))\n",
    "complete\n",
    "\n",
    "# Calculate the single distance between group 1-2 and 3\n",
    "single <- min(c(distance_1_3, distance_2_3))\n",
    "single\n",
    "\n",
    "# Calculate the average distance between group 1-2 and 3\n",
    "average <- mean(c(distance_1_3, distance_2_3))\n",
    "average"
   ]
  },
  {
   "cell_type": "markdown",
   "metadata": {},
   "source": [
    "#### 2.1.2) Revisited: The closest observation to a pair\n",
    "You are now ready to answer this question!\n",
    "\n",
    "Below you see a pre-calculated distance matrix between four players on a soccer field. You can clearly see that players 1 & 4 are the closest to one another with a Euclidean distance value of 10. This distance matrix is available for your exploration as the variable `dist_players`\n",
    "\n",
    "**Exercise**\n",
    "- If 1 and 4 are the closest players among the four, which player is closest to players 1 and 4?\n",
    "\n",
    "*Answer*\n",
    "\n",
    "Complete Linkage: Player 3,\n",
    "Single & Average Linkage: Player 2"
   ]
  },
  {
   "cell_type": "code",
   "execution_count": 32,
   "metadata": {},
   "outputs": [
    {
     "data": {
      "text/plain": [
       "         1        2        3\n",
       "2 11.66190                  \n",
       "3 16.76305 18.02776         \n",
       "4 10.04988 20.61553 15.81139"
      ]
     },
     "metadata": {},
     "output_type": "display_data"
    },
    {
     "data": {
      "text/html": [
       "20.6155281280883"
      ],
      "text/latex": [
       "20.6155281280883"
      ],
      "text/markdown": [
       "20.6155281280883"
      ],
      "text/plain": [
       "[1] 20.61553"
      ]
     },
     "metadata": {},
     "output_type": "display_data"
    },
    {
     "data": {
      "text/html": [
       "16.7630546142402"
      ],
      "text/latex": [
       "16.7630546142402"
      ],
      "text/markdown": [
       "16.7630546142402"
      ],
      "text/plain": [
       "[1] 16.76305"
      ]
     },
     "metadata": {},
     "output_type": "display_data"
    },
    {
     "name": "stdout",
     "output_type": "stream",
     "text": [
      "[1] \"Complete Linkage,El minimo entre las dos distancias agrupadas es el jugador 3\"\n"
     ]
    },
    {
     "data": {
      "text/html": [
       "11.6619037896906"
      ],
      "text/latex": [
       "11.6619037896906"
      ],
      "text/markdown": [
       "11.6619037896906"
      ],
      "text/plain": [
       "[1] 11.6619"
      ]
     },
     "metadata": {},
     "output_type": "display_data"
    },
    {
     "data": {
      "text/html": [
       "15.8113883008419"
      ],
      "text/latex": [
       "15.8113883008419"
      ],
      "text/markdown": [
       "15.8113883008419"
      ],
      "text/plain": [
       "[1] 15.81139"
      ]
     },
     "metadata": {},
     "output_type": "display_data"
    },
    {
     "name": "stdout",
     "output_type": "stream",
     "text": [
      "[1] \"Single Linkage,El minimo entre las dos distancias agrupadas es el jugador 2\"\n"
     ]
    },
    {
     "data": {
      "text/html": [
       "11.6619037896906"
      ],
      "text/latex": [
       "11.6619037896906"
      ],
      "text/markdown": [
       "11.6619037896906"
      ],
      "text/plain": [
       "[1] 11.6619"
      ]
     },
     "metadata": {},
     "output_type": "display_data"
    },
    {
     "data": {
      "text/html": [
       "16.7630546142402"
      ],
      "text/latex": [
       "16.7630546142402"
      ],
      "text/markdown": [
       "16.7630546142402"
      ],
      "text/plain": [
       "[1] 16.76305"
      ]
     },
     "metadata": {},
     "output_type": "display_data"
    },
    {
     "name": "stdout",
     "output_type": "stream",
     "text": [
      "[1] \"Average Linkage,El minimo entre las dos distancias agrupadas es el jugador 2\"\n"
     ]
    }
   ],
   "source": [
    "four_players<-data.frame(x = c(5,15,0,-5), y= c(4,10,20,5))\n",
    "dist_players<-dist(four_players, method = \"euclidean\")\n",
    "dist_players\n",
    "\n",
    "distance_1_2 <-dist_players[1]\n",
    "distance_1_3 <-dist_players[2]\n",
    "distance_1_4 <-dist_players[3]\n",
    "distance_2_3 <-dist_players[4]\n",
    "distance_2_4 <-dist_players[5]\n",
    "distance_3_4 <-dist_players[6]\n",
    "\n",
    "\n",
    "#Complete \n",
    "#Para el jugador 2 calculemos su max vs el grupo 1 y 4\n",
    "max(distance_1_2 ,distance_2_4)\n",
    "\n",
    "#Para el jugador 3 calculemos su max vs el grupo 1 y 4\n",
    "max(distance_1_3 ,distance_3_4)\n",
    "\n",
    "# teniendo los resultados anterior podemos calcular dado el mini cual es el mas cercano\n",
    "print(\"Complete Linkage,El minimo entre las dos distancias agrupadas es el jugador 3\")\n",
    "\n",
    "\n",
    "#signle \n",
    "#Para el jugador 2 calculemos su min vs el grupo 1 y 4\n",
    "min(distance_1_2 ,distance_2_4)\n",
    "\n",
    "#Para el jugador 3 calculemos su min vs el grupo 1 y 4\n",
    "min(distance_1_3 ,distance_3_4)\n",
    "\n",
    "# teniendo los resultados anterior podemos calcular dado el mini cual es el mas cercano\n",
    "print(\"Single Linkage,El minimo entre las dos distancias agrupadas es el jugador 2\")\n",
    "\n",
    "\n",
    "#average \n",
    "#Para el jugador 2 calculemos su mean vs el grupo 1 y 4\n",
    "mean(distance_1_2 ,distance_2_4)\n",
    "\n",
    "#Para el jugador 3 calculemos su mean vs el grupo 1 y 4\n",
    "mean(distance_1_3 ,distance_3_4)\n",
    "\n",
    "# teniendo los resultados anterior podemos calcular dado el mini cual es el mas cercano\n",
    "print(\"Average Linkage,El minimo entre las dos distancias agrupadas es el jugador 2\")"
   ]
  },
  {
   "cell_type": "markdown",
   "metadata": {},
   "source": [
    "### 2.2) (video) Capturing K clusters\n",
    "In the last few exercises you explored the ways in which it's posibles to group multiple observations together using `linkage analysis` now you already to leverage this technique to group your observations into a predifine number of clusters, so let´s revisit the soccer example with a few more players\n",
    "\n",
    "In this case you have the position of six players at the start of a game and you would like to infer wich player belong wich team using `hierarchical clustering` , a eucleadan distance matrix was calculated for each pair of players and is now used to group players using a `Complete Linkage criteria` .\n",
    "\n",
    "This algorithm iteratively proceeds to group the players until they are all under a single like so.\n",
    "\n",
    "Once it´s completed we can backward to capture desired number of clusters, at this moment there is just  one cluster if we remove the last gruping like so we have two different cluster, the red cluster contains  players 5-6  while the blue cluster has player from 1 to 4.\n",
    "\n",
    "Just like peeling an onion we can further split this into more parts by removing the previous `linking grouping`. \n",
    "\n",
    "In this case it was group 1,2  and 4  linked to player 3. And now we have 3 distinct cluster red,blue and green so, the process of indentifying a pre-define number of cluster, we will refer to as `k` is as simple as undoing the last k-1 steps of `Linkage grouping` .\n",
    "\n",
    "Inline-style: \n",
    "![](./Imagenes/Capturing_K_clusters.jpg)\n",
    "\n",
    "Now we'll see this en R."
   ]
  },
  {
   "cell_type": "code",
   "execution_count": 3,
   "metadata": {},
   "outputs": [
    {
     "name": "stdout",
     "output_type": "stream",
     "text": [
      "[1] 1 1 1 1 2 2\n",
      "    x  y cluster\n",
      "1  -1  1       1\n",
      "2  -2 -3       1\n",
      "3   8  6       1\n",
      "4   7 -8       1\n",
      "5 -12  8       2\n",
      "6 -15  0       2\n"
     ]
    },
    {
     "data": {},
     "metadata": {},
     "output_type": "display_data"
    },
    {
     "data": {
      "image/png": "[encoded data removed]",
      "text/plain": [
       "plot without title"
      ]
     },
     "metadata": {},
     "output_type": "display_data"
    }
   ],
   "source": [
    "players<-data.frame(x = c(-1,-2,8,7,-12,-15), y= c(1,-3,6,-8,8,0))\n",
    "dist_players<-dist(players, method = \"euclidean\")\n",
    "\n",
    "# to perform the linkage steps will use hclus function which accepts a distance matrix and linkage method\n",
    "hc_players<-hclust(dist_players, method = \"complete\")\n",
    "\n",
    "# in order to determine which observations belong to which cluster, we use the cutree function\n",
    "# in this case we want to have two clusters because we know that there two teams\n",
    "cluster_assignments<-cutree(hc_players, k = 2)\n",
    "\n",
    "#the output of cutree is a vector which represents which cluster each observation belongs to \n",
    "print(cluster_assignments)\n",
    "\n",
    "\n",
    "#now we can append this back to our original df to do further analysis with the now clustered observations\n",
    "library(dplyr)\n",
    "players_clustered<-mutate(players, cluster = cluster_assignments)\n",
    "print(players_clustered)\n",
    "\n",
    "# and finally one way we can analyze the clustering result is to plot the positions of these players and color \n",
    "# the points based on their cluster assignment\n",
    "library(ggplot2)\n",
    "\n",
    "library(repr)\n",
    "# Change plot size to 4 x 3\n",
    "    options(repr.plot.width=6, repr.plot.height=3)\n",
    "\n",
    "ggplot(players_clustered, aes(x =x, y = y, color = factor(cluster))) + geom_point()"
   ]
  },
  {
   "cell_type": "markdown",
   "metadata": {},
   "source": [
    "#### 2.2.1) Assign cluster membership\n",
    "In this exercise you will leverage the `hclust()` function to calculate the iterative linkage steps and you will use the `cutree()` function to extract the cluster assignments for the desired number (`k`) of clusters.\n",
    "\n",
    "You are given the positions of 12 players at the start of a 6v6 soccer match. This is stored in the `lineup` data frame.\n",
    "\n",
    "You know that this match has two teams `(k = 2)`, let's use the clustering methods you learned to assign which team each player belongs in based on their position.\n",
    "\n",
    "Notes:\n",
    "\n",
    "- The linkage method can be passed via the method parameter: `hclust(distance_matrix, method = \"complete\")`\n",
    "- Remember that in soccer opposing teams start on their half of the field.\n",
    "- Because these positions are measured using the same scale we do not need to re-scale our data.\n",
    "\n",
    "**Exercise**\n",
    "- Calculate the Euclidean distance matrix dist_players among all twelve players\n",
    "- Perform the **complete** linkage calculation for hierarchical clustering using `hclust` and store this as `hc_players`\n",
    "- Build the cluster assignment vector `clusters_k2` using `cutree(`) with a `k = 2`\n",
    "- Append the cluster assignments as a column `cluster` to the `lineu`p data frame and save the results to a new data frame called `lineup_k2_complete`\n",
    "\n",
    "*Answer*"
   ]
  },
  {
   "cell_type": "code",
   "execution_count": 6,
   "metadata": {},
   "outputs": [],
   "source": [
    "#lineup # we need load our d.frames\n",
    "\n",
    "# Calculate the Distance\n",
    "dist_players <- dist(lineup, method = \"euclidean\")\n",
    "\n",
    "# Perform the hierarchical clustering using the complete linkage\n",
    "hc_players <- hclust(dist_players, method = \"complete\")\n",
    "\n",
    "# Calculate the assignment vector with a k of 2\n",
    "clusters_k2 <- cutree(hc_players, k = 2)\n",
    "\n",
    "# Create a new data frame storing these results\n",
    "lineup_k2_complete <- mutate(lineup, cluster = clusters_k2)"
   ]
  },
  {
   "cell_type": "markdown",
   "metadata": {},
   "source": [
    "#### 2.2.2) Exploring the clusters\n",
    "Because clustering analysis is always in part qualitative, it is incredibly important to have the necessary tools to explore the results of the clustering.\n",
    "\n",
    "In this exercise you will explore that data frame you created in the previous exercise `lineup_k2_complete`.\n",
    "\n",
    "Reminder: The `lineup_k2_complete` data frame contains the x & y positions of 12 players at the start of a 6v6 soccer game to which you have added clustering assignments based on the following parameters:\n",
    "\n",
    "- Distance: *Euclidean*\n",
    "- Number of Clusters (k): *2*\n",
    "- Linkage Method: *Complete*\n",
    "\n",
    "**Exercise**\n",
    "- Using count() from dplyr, count the number of players assigned to each cluster.\n",
    "- Using ggplot(), plot the positions of the players and color them by cluster assignment.\n",
    "\n",
    "*Answer*"
   ]
  },
  {
   "cell_type": "code",
   "execution_count": 15,
   "metadata": {},
   "outputs": [
    {
     "data": {
      "text/html": [
       "<table>\n",
       "<thead><tr><th scope=col>cluster</th><th scope=col>n</th></tr></thead>\n",
       "<tbody>\n",
       "\t<tr><td>1</td><td>6</td></tr>\n",
       "\t<tr><td>2</td><td>6</td></tr>\n",
       "</tbody>\n",
       "</table>\n"
      ],
      "text/latex": [
       "\\begin{tabular}{r|ll}\n",
       " cluster & n\\\\\n",
       "\\hline\n",
       "\t 1 & 6\\\\\n",
       "\t 2 & 6\\\\\n",
       "\\end{tabular}\n"
      ],
      "text/markdown": [
       "\n",
       "cluster | n | \n",
       "|---|---|\n",
       "| 1 | 6 | \n",
       "| 2 | 6 | \n",
       "\n",
       "\n"
      ],
      "text/plain": [
       "  cluster n\n",
       "1 1       6\n",
       "2 2       6"
      ]
     },
     "metadata": {},
     "output_type": "display_data"
    },
    {
     "data": {},
     "metadata": {},
     "output_type": "display_data"
    },
    {
     "data": {
      "image/png": "[encoded data removed]",
      "text/plain": [
       "plot without title"
      ]
     },
     "metadata": {},
     "output_type": "display_data"
    }
   ],
   "source": [
    "# Count the cluster assignments\n",
    "count(lineup_k2_complete, cluster)\n",
    "\n",
    "# Plot the positions of the players and color them using their cluster\n",
    "ggplot(lineup_k2_complete, aes(x = x, y = y, color = factor(cluster))) +\n",
    "  geom_point()"
   ]
  },
  {
   "cell_type": "markdown",
   "metadata": {},
   "source": [
    "### 2.3) (video) Visualizing the Dendrogram\n",
    "As you recently learned, the process of hierarchical clustering involves iteratively grouping observations via pairwise comparisons until all observations are gather into a single group.We can representet this grouping visually using a plot called the `Dendogram`  also knows as a `Tree Digram` so build a Dendogram let´s start with the same six player soccer lineup from our last video.\n",
    "\n",
    "On the left we have the positions of the players and on the right we will assemble a Dendogram as we iteratively group these observations, as before we can start the process of hierarchical clustering by taking the 2 closest observation (1 and 2) and gruping them, correspondingly we can represent this grouping in the tree diagram, the dendogram encodes a very important attribute of our grouping, the distance between the observations that were grouped, this is captered by the height axis, as before we will form the next closets group (5 and 6) , by comparing the pairwaise distances and linkage criteria-based distnace among observation and existing groups, the first group (1 and 2) forms now a new group with 4 and is according represented in the dendogram, the common branch between these 3 observations again encodes distance more specifilly it's a function of linkage criteria-based distance among all 3 observations, this is an importante feature of the dendogram, it allows us to say something very concrete about our grouped observations at any given height, remember that for distance we chose euclidean distance and linkage criteria used was the complete method, so we can continue until finshed to agrupe all our observations.\n",
    "\n",
    "To visualize a dendogram in R, we need to do is plot the corresponding `hclus` object "
   ]
  },
  {
   "cell_type": "code",
   "execution_count": 50,
   "metadata": {},
   "outputs": [
    {
     "data": {},
     "metadata": {},
     "output_type": "display_data"
    },
    {
     "data": {
      "image/png": "[encoded data removed]",
      "text/plain": [
       "plot without title"
      ]
     },
     "metadata": {},
     "output_type": "display_data"
    },
    {
     "data": {
      "image/png": "[encoded data removed]",
      "text/plain": [
       "Plot with title \"Cluster Dendrogram\""
      ]
     },
     "metadata": {},
     "output_type": "display_data"
    }
   ],
   "source": [
    "players<-data.frame(x = c(-1,-2,8,7,-12,-15), y= c(1,-3,6,-8,8,0))\n",
    "dist_players<-dist(players, method = \"euclidean\")\n",
    "\n",
    "# to perform the linkage steps will use hclus function which accepts a distance matrix and linkage method\n",
    "hc_players<-hclust(dist_players, method = \"complete\")\n",
    "\n",
    "library(ggplot2)\n",
    "library(repr)\n",
    "# Change plot size to 4 x 3\n",
    "    options(repr.plot.width=10, repr.plot.height=2)\n",
    "\n",
    "\n",
    "options(repr.plot.width=4, repr.plot.height=2)\n",
    "ggplot(players, aes(x =x, y = y)) + geom_text(label = 1:6) + geom_label(label = 1:6) + lims(x = c(-20,20), y = c(-10, 10))\n",
    "\n",
    "\n",
    "options(repr.plot.width=4, repr.plot.height=4)\n",
    "plot(hc_players)\n"
   ]
  },
  {
   "cell_type": "markdown",
   "metadata": {},
   "source": [
    "#### 2.3.1) Comparing average, single & complete linkage\n",
    "You are now ready to analyze the clustering results of the lineup dataset using the dendrogram plot. This will give you a new perspective on the effect the decision of the linkage method has on your resulting cluster analysis.\n",
    "\n",
    "**Exercise**\n",
    "- Perform the linkage calculation for hierarchical clustering using the linkages: complete, single and average\n",
    "- Plot the three dendrograms side by side and review the changes\n",
    "\n",
    "*Answer*"
   ]
  },
  {
   "cell_type": "code",
   "execution_count": 48,
   "metadata": {},
   "outputs": [
    {
     "data": {
      "image/png": "[encoded data removed]",
      "text/plain": [
       "Plot with title \"Average Linkage\""
      ]
     },
     "metadata": {},
     "output_type": "display_data"
    }
   ],
   "source": [
    "# Change plot size to 4 x 3\n",
    "options(repr.plot.width=10, repr.plot.height=3)\n",
    "\n",
    "# Prepare the Distance Matrix\n",
    "dist_players <- dist(lineup)\n",
    "\n",
    "# Generate hclust for complete, single & average linkage methods\n",
    "hc_complete <- hclust(dist_players, method = \"complete\")\n",
    "hc_single <- hclust(dist_players, method = \"single\")\n",
    "hc_average <- hclust(dist_players, method = \"average\")\n",
    "\n",
    "# Plot & Label the 3 Dendrograms Side-by-Side\n",
    "# Hint: To see these Side-by-Side run the 4 lines together as one command\n",
    "par(mfrow = c(1,3))\n",
    "plot(hc_complete, main = 'Complete Linkage')\n",
    "plot(hc_single, main = 'Single Linkage')\n",
    "plot(hc_average, main = 'Average Linkage')"
   ]
  },
  {
   "cell_type": "markdown",
   "metadata": {},
   "source": [
    "### 2.3) (video)  Cutting the tree\n",
    "In the previous exercises you have learned how plot and interpret the Dendrogram now let's learn how to leverage this visualization to both identify our clusters and how highlight some of their key characteristics.\n",
    "\n",
    "Let´s continue work with the soccer player Dendrogram , remember the distance between the observations was calculated using  euclidean distance and we used the complete linkage criteria, that means that any given branch, all members that share this branch will have a euclidean distance amongst one another no greater than height of that branch.\n",
    "\n",
    "We can leverage this idea to both select our clusters and also characterize the relationships of their members, to do so, we can cut our tree at any desired height, let´s choose 15 for now, that means we remove all links above this cut point and we create our clusters below in this case two cluster are formed (5-6 and 1,2,4,3) using this cutoff we can alredy ascribe a characteristic to them. \n",
    "\n",
    "We can say all members of the created clusters will have a equal euclidean distance amongst each other not greater than our cut height of 15 , this statment is a functions of  our choice of height, distance metric and linkage criteria, this information can be very valuable as our data gets more features and becomes harders to plot using only two dimensions.\n",
    "\n",
    "We can visualize the cluster that form at any given height by leveraging the `dendextend` library to color our dendogram plot, to do so.\n",
    "\n",
    "1. we first must convert the `hclust` object into a dendogram object by using the function as (dot) dendrogram\n",
    "2. the next step is to use the `color_branches` function from `dendextend` package to color the branches based on a desired criteria, in this case we want to cut using a height of 15, we represented this using the parameter `h` \n",
    "3. Finally we use the `plot` function to plot the newly colored dendrogram \n",
    "\n",
    "We can use this visual to further explore heights at which we may want to create our clusters, let´s say we believed a height of ten would be more appropiete, as shown in this plot with a proposed red line, we perform the steps to color the tree using an `h` equal to 10, the resulting dendrogram now has four colors for the corresponding four clousters.\n",
    "\n",
    "You can also leverage the `color_braches` to color the tree using `k` criteria by just providing our desired `k` like so our 3 plot."
   ]
  },
  {
   "cell_type": "code",
   "execution_count": 8,
   "metadata": {},
   "outputs": [
    {
     "data": {
      "image/png": "[encoded data removed]",
      "text/plain": [
       "Plot with title \"K clustering 2\""
      ]
     },
     "metadata": {},
     "output_type": "display_data"
    }
   ],
   "source": [
    "# Change plot size to 4 x 3\n",
    "options(repr.plot.width=10, repr.plot.height=3)\n",
    "\n",
    "#we need our data sources and our libraries\n",
    "library(dendextend)\n",
    "players<-data.frame(x = c(-1,-2,8,7,-12,-15), y= c(1,-3,6,-8,8,0))\n",
    "dist_players<-dist(players, method = \"euclidean\")\n",
    "\n",
    "# to perform the linkage steps will use hclus function which accepts a distance matrix and linkage method\n",
    "hc_players<-hclust(dist_players, method = \"complete\")\n",
    "\n",
    "\n",
    "#1) \n",
    "dend_players<-as.dendrogram(hc_players)\n",
    "\n",
    "#2)\n",
    "dend_color_15height<-color_branches(dend_players, h = 15)\n",
    "dend_color_10height<-color_branches(dend_players, h = 10)\n",
    "dend_color_k<-color_branches(dend_players, k = 2)\n",
    "\n",
    "#3)\n",
    "par(mfrow = c(1,3))\n",
    "plot(dend_color_15height, main = 'Height of 15') \n",
    "plot(dend_color_10height, main = 'Height of 10') \n",
    "plot(dend_color_k, main = 'K clustering 2') "
   ]
  },
  {
   "cell_type": "markdown",
   "metadata": {},
   "source": [
    "just like `color_branches` can interchangeably use `height` or `k,` the `cutree` function we used to first make clusters can be used to assing cluster memberships using a provided `height` with the parameter `h` , and as before, we can append this vector of cluster assignments to our data frame in order to empower us to do further exploration "
   ]
  },
  {
   "cell_type": "code",
   "execution_count": 11,
   "metadata": {},
   "outputs": [
    {
     "data": {
      "text/html": [
       "<ol class=list-inline>\n",
       "\t<li>1</li>\n",
       "\t<li>1</li>\n",
       "\t<li>1</li>\n",
       "\t<li>1</li>\n",
       "\t<li>2</li>\n",
       "\t<li>2</li>\n",
       "</ol>\n"
      ],
      "text/latex": [
       "\\begin{enumerate*}\n",
       "\\item 1\n",
       "\\item 1\n",
       "\\item 1\n",
       "\\item 1\n",
       "\\item 2\n",
       "\\item 2\n",
       "\\end{enumerate*}\n"
      ],
      "text/markdown": [
       "1. 1\n",
       "2. 1\n",
       "3. 1\n",
       "4. 1\n",
       "5. 2\n",
       "6. 2\n",
       "\n",
       "\n"
      ],
      "text/plain": [
       "[1] 1 1 1 1 2 2"
      ]
     },
     "metadata": {},
     "output_type": "display_data"
    },
    {
     "name": "stderr",
     "output_type": "stream",
     "text": [
      "Warning message:\n",
      "\"package 'dplyr' was built under R version 3.5.3\"\n",
      "Attaching package: 'dplyr'\n",
      "\n",
      "The following objects are masked from 'package:stats':\n",
      "\n",
      "    filter, lag\n",
      "\n",
      "The following objects are masked from 'package:base':\n",
      "\n",
      "    intersect, setdiff, setequal, union\n",
      "\n"
     ]
    },
    {
     "data": {
      "text/html": [
       "<table>\n",
       "<thead><tr><th scope=col>x</th><th scope=col>y</th><th scope=col>cluster</th></tr></thead>\n",
       "<tbody>\n",
       "\t<tr><td> -1</td><td> 1 </td><td>1  </td></tr>\n",
       "\t<tr><td> -2</td><td>-3 </td><td>1  </td></tr>\n",
       "\t<tr><td>  8</td><td> 6 </td><td>1  </td></tr>\n",
       "\t<tr><td>  7</td><td>-8 </td><td>1  </td></tr>\n",
       "\t<tr><td>-12</td><td> 8 </td><td>2  </td></tr>\n",
       "\t<tr><td>-15</td><td> 0 </td><td>2  </td></tr>\n",
       "</tbody>\n",
       "</table>\n"
      ],
      "text/latex": [
       "\\begin{tabular}{r|lll}\n",
       " x & y & cluster\\\\\n",
       "\\hline\n",
       "\t  -1 &  1  & 1  \\\\\n",
       "\t  -2 & -3  & 1  \\\\\n",
       "\t   8 &  6  & 1  \\\\\n",
       "\t   7 & -8  & 1  \\\\\n",
       "\t -12 &  8  & 2  \\\\\n",
       "\t -15 &  0  & 2  \\\\\n",
       "\\end{tabular}\n"
      ],
      "text/markdown": [
       "\n",
       "x | y | cluster | \n",
       "|---|---|---|---|---|---|\n",
       "|  -1 |  1  | 1   | \n",
       "|  -2 | -3  | 1   | \n",
       "|   8 |  6  | 1   | \n",
       "|   7 | -8  | 1   | \n",
       "| -12 |  8  | 2   | \n",
       "| -15 |  0  | 2   | \n",
       "\n",
       "\n"
      ],
      "text/plain": [
       "  x   y  cluster\n",
       "1  -1  1 1      \n",
       "2  -2 -3 1      \n",
       "3   8  6 1      \n",
       "4   7 -8 1      \n",
       "5 -12  8 2      \n",
       "6 -15  0 2      "
      ]
     },
     "metadata": {},
     "output_type": "display_data"
    }
   ],
   "source": [
    "# Calculate the assignment vector with a k of 2\n",
    "clusters_assignments <- cutree(hc_players, h = 15)\n",
    "\n",
    "clusters_assignments\n",
    "\n",
    "library(dplyr)\n",
    "players_clustered<-mutate(players, cluster = clusters_assignments)\n",
    "\n",
    "players_clustered\n"
   ]
  },
  {
   "cell_type": "markdown",
   "metadata": {},
   "source": [
    "#### 2.3.1)  Clusters based on height\n",
    "In previous exercises you have grouped your observations into clusters using a pre-defined number of clusters **(k)**. In this exercise you will leverage the visual representation of the dendrogram in order to group your observations into clusters using a maximum height **(h)**, below which clusters form.\n",
    "\n",
    "You will work the `color_branches()` function from the `dendextend` library in order to visually inspect the clusters that form at any height along the dendrogram.\n",
    "\n",
    "The `hc_players` has been carried over from your previous work with the soccer line-up data.\n",
    "\n",
    "**Exercise**\n",
    "- Create a dendrogram object `dend_players` from your `hclust` result using the function `as.dendrogram()`\n",
    "- Plot the dendrogram\n",
    "- Using the `color_branches()` function create & plot a new dendrogram with clusters colored by a cut height of 20\n",
    "- Repeat the above step with a height of 40\n",
    "\n",
    "*Answer*"
   ]
  },
  {
   "cell_type": "code",
   "execution_count": 14,
   "metadata": {},
   "outputs": [
    {
     "data": {
      "image/png": "[encoded data removed]",
      "text/plain": [
       "plot without title"
      ]
     },
     "metadata": {},
     "output_type": "display_data"
    }
   ],
   "source": [
    "library(dendextend)\n",
    "dist_players <- dist(lineup, method = 'euclidean')\n",
    "hc_players <- hclust(dist_players, method = \"complete\")\n",
    "\n",
    "# Create a dendrogram object from the hclust variable\n",
    "dend_players <- as.dendrogram(hc_players)\n",
    "\n",
    "\n",
    "par(mfrow = c(1,3))\n",
    "# Plot the dendrogram\n",
    "plot(dend_players)\n",
    "\n",
    "# Color branches by cluster formed from the cut at a height of 20 & plot\n",
    "dend_20 <- color_branches(dend_players, h = 20)\n",
    "\n",
    "# Plot the dendrogram with clusters colored below height 20\n",
    "plot(dend_20)\n",
    "\n",
    "# Color branches by cluster formed from the cut at a height of 40 & plot\n",
    "dend_40 <- color_branches(dend_players, h = 40)\n",
    "\n",
    "# Plot the dendrogram with clusters colored below height 40\n",
    "plot(dend_40)"
   ]
  },
  {
   "cell_type": "markdown",
   "metadata": {},
   "source": [
    "#### 2.3.2)  Exploring the branches cut from the tree\n",
    "The `cutree()` function you used in exercises 5 & 6 can also be used to cut a tree at a given height by using the `h` parameter. Take a moment to explore the clusters you have generated from the previous exercises based on the heights 20 & 40.\n",
    "\n",
    "**Exercise**\n",
    "\n",
    "- Build the cluster assignment vector `clusters_h20` using `cutree()` with a `h = 20`\n",
    "- Append the cluster assignments as a column `cluster` to the lineup data frame and save the results to a new data frame called `lineup_h20_complete`\n",
    "- Repeat the above two steps for a height of 40, generating the variables clusters_h40 and lineup_h40_complete\n",
    "- Use ggplot2 to create a scatter plot, colored by the cluster assignment for both heights\n",
    "\n",
    "*Answer*"
   ]
  },
  {
   "cell_type": "code",
   "execution_count": 20,
   "metadata": {},
   "outputs": [
    {
     "data": {
      "image/png": "[encoded data removed]",
      "text/plain": [
       "plot without title"
      ]
     },
     "metadata": {},
     "output_type": "display_data"
    }
   ],
   "source": [
    "dist_players <- dist(lineup, method = 'euclidean')\n",
    "hc_players <- hclust(dist_players, method = \"complete\")\n",
    "\n",
    "# Calculate the assignment vector with a h of 20\n",
    "clusters_h20 <- cutree(hc_players, h = 20)\n",
    "\n",
    "# Create a new data frame storing these results\n",
    "lineup_h20_complete <- mutate(lineup, cluster = clusters_h20)\n",
    "\n",
    "# Calculate the assignment vector with a h of 40\n",
    "clusters_h40 <- cutree(hc_players, h = 40)\n",
    "\n",
    "# Create a new data frame storing these results\n",
    "lineup_h40_complete <- mutate(lineup, cluster = clusters_h40)\n",
    "\n",
    "# Plot the positions of the players and color them using their cluster for height = 20\n",
    "p1<-ggplot(lineup_h20_complete, aes(x = x, y = y, color = factor(cluster))) +\n",
    "  geom_point()\n",
    "\n",
    "# Plot the positions of the players and color them using their cluster for height = 40\n",
    "p2<-ggplot(lineup_h40_complete, aes(x = x, y = y, color = factor(cluster))) +\n",
    "  geom_point()\n",
    "\n",
    "grid.arrange(p1, p2, nrow=1)\n"
   ]
  },
  {
   "cell_type": "markdown",
   "metadata": {},
   "source": [
    "### 2.4) (video) Making sense of the clusters\n",
    "over the last series of exercises, you've developed the tools that you need to run hierarchical clustering and the intuition to understand the impact of each step. Now you will have a chance to use these skills by clustering a new dataset, you will work with a series of 45 records of customer spendings from wholesale distribuitor, for each customer records you'll have 3 features:\n",
    "\n",
    "- spending on milk \n",
    "- Grocery and \n",
    "- Frozen Food Spending\n",
    "\n",
    "The dataset will look like this `head(customers_spend)` you will notice that unlike the soccer positions dataset, where we onlye have 2 features this dataset has 3, the concequence of this is that, we can´t simply explore what the cluster mean from a two dimensional plot, there are several approaches to overcome this:\n",
    "\n",
    "- Plot 2 dimensions at a time: once you have assigned the cluster memberships,you can make multiple plots with feature pairs and use the color to show the difference in clusters, this can be helpful, but  only captures one angle of the complex interactions at a time, also this approach can quickly get out  of hand when the numbers of features expands.\n",
    "- Visualize using PCA: You can use Dimensionality Reduction Methods such as principal component analysis in order to plot multi-dimensional data onto two dimensions and color the points using the cluster assigments, this can be helpful to see if your observations clustered well and the clusters are well seperated, hovewer this type of analysis is difficult to interpret and wouldn't shed light on the characteristics of the cluster \n",
    "- Summary statistics by feature: Finally you can simply  explore the distribution characteristics, shuch as the mean and median of each feature within your clusters and by comparing these summary statistics between clusters you can begin to build a narrative of what makes the observations within the cluster similar to each other while different from the observations in the other clusters \n",
    "\n",
    "Now we desired outcome is to segment customers based on their behaviors, once the segments are identified we can explore their common characteristics to gain insights into our customers base and design value-drive opportunities using this data."
   ]
  },
  {
   "cell_type": "markdown",
   "metadata": {},
   "source": [
    "#### 2.4.1)Segment wholesale customers\n",
    "You're now ready to use hierarchical clustering to perform market segmentation (i.e. use consumer characteristics to group them into subgroups).\n",
    "\n",
    "In this exercise you are provided with the amount spent by 45 different clients of a wholesale distributor for the food categories of Milk, Grocery & Frozen. This is stored in the data frame `customers_spend`. Assign these clients into meaningful clusters.\n",
    "\n",
    "Note: For this exercise you can assume that because the data is all of the same type (amount spent) and you will not need to scale it.\n",
    "\n",
    "**Exercise**\n",
    "- Calculate the Euclidean distance between the customers and store this in `dist_customers`\n",
    "- Run hierarchical clustering using complete linkage and store in `hc_customers`\n",
    "- Plot the dendrogram\n",
    "- Create a cluster assignment vector using a height of 15,000 and store it as `clust_customers`\n",
    "- Generate a new data frame `segment_customers` by appending the `cluster` assignment as the column `cluster` to the original `customers_spend` data frame\n",
    "\n",
    "*Answer*"
   ]
  },
  {
   "cell_type": "code",
   "execution_count": 10,
   "metadata": {},
   "outputs": [
    {
     "data": {
      "image/png": "[encoded data removed]",
      "text/plain": [
       "Plot with title \"Cluster Dendrogram\""
      ]
     },
     "metadata": {},
     "output_type": "display_data"
    }
   ],
   "source": [
    "# Calculate Euclidean distance between customers\n",
    "dist_customers<-dist(customers_spend)\n",
    "\n",
    "# Generate a complete linkage analysis \n",
    "hc_customers<- hclust(dist_customers, method = \"complete\")\n",
    "\n",
    "# Plot the dendrogram\n",
    "plot(hc_customers)\n",
    "\n",
    "# Create a cluster assignment vector at h = 15000\n",
    "clust_customers<-cutree(hc_customers, h = 15000)\n",
    "\n",
    "# Generate the segmented customers data frame\n",
    "segment_customers <- mutate(customers_spend, cluster = clust_customers)\n"
   ]
  },
  {
   "cell_type": "markdown",
   "metadata": {},
   "source": [
    "#### 2.4.2) Explore wholesale customer clusters\n",
    "Continuing your work on the wholesale dataset you are now ready to analyze the characteristics of these clusters.\n",
    "\n",
    "Since you are working with more than 2 dimensions it would be challenging to visualize a scatter plot of the clusters, instead you will rely on summary statistics to explore these clusters. In this exercise you will analyze the mean amount spent in each cluster for all three categories.\n",
    "\n",
    "**Exercise**\n",
    "- Calculate the size of each cluster using count().\n",
    "- Color & plot the dendrogram using the height of 15,000.\n",
    "- Calculate the average spending for each category within each cluster using the summarise_all() function.\n",
    "\n",
    "(Note: We use the objects from the previous exercises)\n",
    "\n",
    "*Answer*"
   ]
  },
  {
   "cell_type": "code",
   "execution_count": 17,
   "metadata": {},
   "outputs": [
    {
     "data": {
      "text/html": [
       "<table>\n",
       "<thead><tr><th scope=col>cluster</th><th scope=col>n</th></tr></thead>\n",
       "<tbody>\n",
       "\t<tr><td>1 </td><td> 5</td></tr>\n",
       "\t<tr><td>2 </td><td>29</td></tr>\n",
       "\t<tr><td>3 </td><td> 5</td></tr>\n",
       "\t<tr><td>4 </td><td> 6</td></tr>\n",
       "</tbody>\n",
       "</table>\n"
      ],
      "text/latex": [
       "\\begin{tabular}{r|ll}\n",
       " cluster & n\\\\\n",
       "\\hline\n",
       "\t 1  &  5\\\\\n",
       "\t 2  & 29\\\\\n",
       "\t 3  &  5\\\\\n",
       "\t 4  &  6\\\\\n",
       "\\end{tabular}\n"
      ],
      "text/markdown": [
       "\n",
       "cluster | n | \n",
       "|---|---|---|---|\n",
       "| 1  |  5 | \n",
       "| 2  | 29 | \n",
       "| 3  |  5 | \n",
       "| 4  |  6 | \n",
       "\n",
       "\n"
      ],
      "text/plain": [
       "  cluster n \n",
       "1 1        5\n",
       "2 2       29\n",
       "3 3        5\n",
       "4 4        6"
      ]
     },
     "metadata": {},
     "output_type": "display_data"
    },
    {
     "name": "stderr",
     "output_type": "stream",
     "text": [
      "Warning message:\n",
      "\"funs() is soft deprecated as of dplyr 0.8.0\n",
      "Please use a list of either functions or lambdas: \n",
      "\n",
      "  # Simple named list: \n",
      "  list(mean = mean, median = median)\n",
      "\n",
      "  # Auto named with `tibble::lst()`: \n",
      "  tibble::lst(mean, median)\n",
      "\n",
      "  # Using lambdas\n",
      "  list(~ mean(., trim = .2), ~ median(., na.rm = TRUE))\n",
      "This warning is displayed once per session.\""
     ]
    },
    {
     "data": {
      "text/html": [
       "<table>\n",
       "<thead><tr><th scope=col>cluster</th><th scope=col>Milk</th><th scope=col>Grocery</th><th scope=col>Frozen</th></tr></thead>\n",
       "<tbody>\n",
       "\t<tr><td>1        </td><td>16950.000</td><td>12891.400</td><td>  991.200</td></tr>\n",
       "\t<tr><td>2        </td><td> 2512.828</td><td> 5228.931</td><td> 1795.517</td></tr>\n",
       "\t<tr><td>3        </td><td>10452.200</td><td>22550.600</td><td> 1354.800</td></tr>\n",
       "\t<tr><td>4        </td><td> 1249.500</td><td> 3916.833</td><td>10888.667</td></tr>\n",
       "</tbody>\n",
       "</table>\n"
      ],
      "text/latex": [
       "\\begin{tabular}{r|llll}\n",
       " cluster & Milk & Grocery & Frozen\\\\\n",
       "\\hline\n",
       "\t 1         & 16950.000 & 12891.400 &   991.200\\\\\n",
       "\t 2         &  2512.828 &  5228.931 &  1795.517\\\\\n",
       "\t 3         & 10452.200 & 22550.600 &  1354.800\\\\\n",
       "\t 4         &  1249.500 &  3916.833 & 10888.667\\\\\n",
       "\\end{tabular}\n"
      ],
      "text/markdown": [
       "\n",
       "cluster | Milk | Grocery | Frozen | \n",
       "|---|---|---|---|\n",
       "| 1         | 16950.000 | 12891.400 |   991.200 | \n",
       "| 2         |  2512.828 |  5228.931 |  1795.517 | \n",
       "| 3         | 10452.200 | 22550.600 |  1354.800 | \n",
       "| 4         |  1249.500 |  3916.833 | 10888.667 | \n",
       "\n",
       "\n"
      ],
      "text/plain": [
       "  cluster Milk      Grocery   Frozen   \n",
       "1 1       16950.000 12891.400   991.200\n",
       "2 2        2512.828  5228.931  1795.517\n",
       "3 3       10452.200 22550.600  1354.800\n",
       "4 4        1249.500  3916.833 10888.667"
      ]
     },
     "metadata": {},
     "output_type": "display_data"
    },
    {
     "data": {
      "image/png": "[encoded data removed]",
      "text/plain": [
       "plot without title"
      ]
     },
     "metadata": {},
     "output_type": "display_data"
    }
   ],
   "source": [
    "#dist_customers <- dist(customers_spend)\n",
    "#hc_customers <- hclust(dist_customers)\n",
    "#clust_customers <- cutree(hc_customers, h = 15000)\n",
    "#segment_customers <- mutate(customers_spend, cluster = clust_customers)\n",
    "\n",
    "# Count the number of customers that fall into each cluster\n",
    "count(segment_customers, cluster)\n",
    "\n",
    "library(dendextend)\n",
    "# Color the dendrogram based on the height cutoff\n",
    "dend_customers <- as.dendrogram(hc_customers)\n",
    "dend_colored <- color_branches(dend_customers, h = 15000)\n",
    "\n",
    "# Plot the colored dendrogram\n",
    "plot(dend_colored)\n",
    "\n",
    "# Calculate the mean for each category\n",
    "segment_customers %>% \n",
    "  group_by(cluster) %>% \n",
    "  summarise_all(funs(mean(.)))\n"
   ]
  },
  {
   "cell_type": "markdown",
   "metadata": {},
   "source": [
    "## 3) K-means clustering\n",
    "In this chapter, you will build an understanding of the principles behind the k-means algorithm, learn how to select the right k when it isn't previously known, and revisit the wholesale data from a different perspective\n",
    "\n",
    "### 3.1) (video) Introduction to K-means\n",
    "In the last chapter you learned how to use the hierarchical clustering \n",
    "method to group observations, in this chapter you will learn about another popular method clustering called k-means clustering to learn how this method works, let's revisit an expended version of the soccer lineup data that you have been working with.\n",
    "\n",
    "This data consists in twelve playes on a soccer  field at the start of the game, at this point in the game the teams are positioned on  opposite sides of the field, we would expect that clustering can be affective in identifying teams and assigning each player to the correct team.\n",
    "\n",
    "The first step of k-means clustering involves a making a desciscion of how many clusters to generate , this is the 'k' in k-means clustering and this can be decided on in advance based on out understanding the data or it can be estimated from data empirically, in our case we can use k= 2, because we know that in a soccer field only can be two teams.\n",
    "\n",
    "Once k=2 is stablished the algoritm can proceed, the first step in k-means algorithm is to initialize k-points at random positions in the feature space, we'll refer to these points as the 'clusters centroids' or 'centroids'.\n",
    "\n",
    "For each observations the distance is calculated betweenthe observation and each centroid, in k-means clustering, the distance is limited euclidean only, the observations now have an initial assignment to one of the two clusters.\n",
    "\n",
    "The next step involves moving the centroides to the central points of the resulting clusters, again the distance of every observations is calculated to each centroid and they are re-assigned based on which centroid are closest too.\n",
    "\n",
    "This process continues until the centroids stabilize and the observetaions are no longer re-assigned, this is the fundemental algorithm of k-means clustering \n",
    "\n",
    "To generate the kmeans model in R you will use the function with the same name "
   ]
  },
  {
   "cell_type": "code",
   "execution_count": 3,
   "metadata": {},
   "outputs": [
    {
     "data": {
      "text/html": [
       "<ol class=list-inline>\n",
       "\t<li>2</li>\n",
       "\t<li>2</li>\n",
       "\t<li>1</li>\n",
       "\t<li>1</li>\n",
       "\t<li>2</li>\n",
       "\t<li>2</li>\n",
       "\t<li>2</li>\n",
       "\t<li>1</li>\n",
       "\t<li>1</li>\n",
       "\t<li>1</li>\n",
       "\t<li>2</li>\n",
       "\t<li>1</li>\n",
       "</ol>\n"
      ],
      "text/latex": [
       "\\begin{enumerate*}\n",
       "\\item 2\n",
       "\\item 2\n",
       "\\item 1\n",
       "\\item 1\n",
       "\\item 2\n",
       "\\item 2\n",
       "\\item 2\n",
       "\\item 1\n",
       "\\item 1\n",
       "\\item 1\n",
       "\\item 2\n",
       "\\item 1\n",
       "\\end{enumerate*}\n"
      ],
      "text/markdown": [
       "1. 2\n",
       "2. 2\n",
       "3. 1\n",
       "4. 1\n",
       "5. 2\n",
       "6. 2\n",
       "7. 2\n",
       "8. 1\n",
       "9. 1\n",
       "10. 1\n",
       "11. 2\n",
       "12. 1\n",
       "\n",
       "\n"
      ],
      "text/plain": [
       " [1] 2 2 1 1 2 2 2 1 1 1 2 1"
      ]
     },
     "metadata": {},
     "output_type": "display_data"
    },
    {
     "data": {
      "text/html": [
       "<table>\n",
       "<thead><tr><th scope=col>x</th><th scope=col>y</th><th scope=col>cluster</th></tr></thead>\n",
       "<tbody>\n",
       "\t<tr><td>-1</td><td> 1</td><td>2 </td></tr>\n",
       "\t<tr><td>-2</td><td>-3</td><td>2 </td></tr>\n",
       "</tbody>\n",
       "</table>\n"
      ],
      "text/latex": [
       "\\begin{tabular}{r|lll}\n",
       " x & y & cluster\\\\\n",
       "\\hline\n",
       "\t -1 &  1 & 2 \\\\\n",
       "\t -2 & -3 & 2 \\\\\n",
       "\\end{tabular}\n"
      ],
      "text/markdown": [
       "\n",
       "x | y | cluster | \n",
       "|---|---|\n",
       "| -1 |  1 | 2  | \n",
       "| -2 | -3 | 2  | \n",
       "\n",
       "\n"
      ],
      "text/plain": [
       "  x  y  cluster\n",
       "1 -1  1 2      \n",
       "2 -2 -3 2      "
      ]
     },
     "metadata": {},
     "output_type": "display_data"
    }
   ],
   "source": [
    "#lineup\n",
    "model<-kmeans(lineup, centers = 2) # k = centers \n",
    "\n",
    "#we can extract the cluster assigments directly from the model object\n",
    "model$cluster\n",
    "\n",
    "\n",
    "# you can append this vector to your data drame\n",
    "lineup_clustered<-mutate(lineup, cluster = model$cluster)\n",
    "\n",
    "head(lineup_clustered, n = 2)"
   ]
  },
  {
   "cell_type": "markdown",
   "metadata": {},
   "source": [
    "#### 3.1.1) K-means on a soccer field\n",
    "In the previous chapter you used the lineup dataset to learn about `hierarchical` clustering, in this chapter you will use the same data to learn about `k-means` clustering. As a reminder, the `lineup` data frame contains the positions of 12 players at the start of a 6v6 soccer match.\n",
    "\n",
    "Just like before, you know that this match has two teams on the field so you can perform a k-means analysis using `k = 2` in order to determine which player belongs to which team.\n",
    "\n",
    "Note that in the `kmeans(`) function k is specified using the `centers` parameter.\n",
    "\n",
    "**Exercise**\n",
    "-Build a k-means model called model_km2 for the lineup data using the kmeans() function with centers = 2\n",
    "-Extract the vector of cluster assignments from the model model_km2$cluster and store this in the variable clust_km2\n",
    "-Append the cluster assignments as a column cluster to the lineup data frame and save the results to a new data frame called lineup_km2\n",
    "-Use ggplot to plot the positions of each player on the field and color them by their cluster\n",
    "\n",
    "*Answer*"
   ]
  },
  {
   "cell_type": "code",
   "execution_count": 12,
   "metadata": {},
   "outputs": [
    {
     "data": {},
     "metadata": {},
     "output_type": "display_data"
    },
    {
     "data": {
      "image/png": "[encoded data removed]",
      "text/plain": [
       "plot without title"
      ]
     },
     "metadata": {},
     "output_type": "display_data"
    }
   ],
   "source": [
    "# Build a kmeans model\n",
    "model_km2<-kmeans(lineup, centers = 2)\n",
    "\n",
    "# Extract the cluster assignment vector from the kmeans model\n",
    "clust_km2<-model_km2$cluster\n",
    "\n",
    "# Create a new data frame appending the cluster assignment\n",
    "lineup_km2<-mutate(lineup, cluster = clust_km2)\n",
    "\n",
    "#library(repr)\n",
    "# Change plot size to 4 x 3\n",
    "    options(repr.plot.width=6, repr.plot.height=3)\n",
    "\n",
    "# Plot the positions of the players and color them using their cluster\n",
    "ggplot(lineup_km2,aes(x =x, y = y, color = factor(cluster) )) + geom_point()"
   ]
  },
  {
   "cell_type": "markdown",
   "metadata": {},
   "source": [
    "Note: then next exercise it´s the same that previous but now with k = 3, that is clearly incorrect because we know that only have 2 teams, but it´s a way to see how to choose an incorrect value of our centroide (k=3) can distored our analysis."
   ]
  },
  {
   "cell_type": "markdown",
   "metadata": {},
   "source": [
    "### 3.2) (video) Evaluating different values of K by eye\n",
    "in the last two exercises you explored the results for two different values of k using de same data, you knew that k  of 3 was clearly incorrect because you applied content expertise to this problem by stating that there are only two team in a game of soccer and that the teams have the same number of players, but what happens when you don't know in advance what the right value of k is?\n",
    "\n",
    "In this course you will learn two methods that addres this challange by estimating k empirically from the data, in this video and the accompaying exercises, you will build an intuition for one of these methods, the elbow method.\n",
    "\n",
    "The elbow method relies on calculating the total within cluster sum of squeres acrros every cluster, that is the sum of euclidean distances between each observations and the centroide corresponding to the cluster to which the  observations is assigned.\n",
    "\n",
    "Here, this is represented by the dashed lines between the centroide and each observations (Image 1), while k=1 it is not really clustering, it can be helpul for the elbow analysis , as such we record the total within cluster sum of squeres for the value of k=1 (image 2), we repeat this step for k=2, you can see already see that the dashed lines are on average shorter and we can expect the total within cluster sum of squares to drop (image 3 and 4), which of course it does, same goes for a value of k=3,  and for k = 4 ... we can continue this calculation so long as k is less than our total number of observations, in this case we have calculated this for values of k from 1 through 10, you may notice a trend that as k increases the total within cluster sum of squeres keeps decreasing, this absolutely natural and expected, just think about it, the more you segment your data, the more your points just group together into a smaller and more compact clusters until you obtain many clusters with only one or two members.\n",
    "\n",
    "What we are looking for is the point at which the curve beings to flatten out, affectionally referred to as the elbow, in these case we can see that there is a precipitous drop going from a k of 1 of 2 and the leveling off when moving between a k of 2 and 3 and onward, as such we can claim that the elbow in this case occurred where k=2 and would consider using this estimated value of k.\n",
    "\n",
    "Inline-style: \n",
    "![](./Imagenes/k_means.jpg)\n"
   ]
  },
  {
   "cell_type": "markdown",
   "metadata": {},
   "source": [
    "Now we will buil it in R.\n",
    "\n",
    "- first you will need to know how to calculate the total within cluster sum of squares (you can extract it from the model)\n",
    "- after that because you want to calculate this for multiple value of k you will need to create multiple models and extract their corresponding values, to do this I recommend leveraging the map double function from the `purr` library\n",
    "- finally you can plot it."
   ]
  },
  {
   "cell_type": "code",
   "execution_count": 3,
   "metadata": {},
   "outputs": [
    {
     "data": {
      "text/html": [
       "1434.5"
      ],
      "text/latex": [
       "1434.5"
      ],
      "text/markdown": [
       "1434.5"
      ],
      "text/plain": [
       "[1] 1434.5"
      ]
     },
     "metadata": {},
     "output_type": "display_data"
    },
    {
     "data": {
      "text/html": [
       "<table>\n",
       "<thead><tr><th scope=col>k</th><th scope=col>tot_withinss</th></tr></thead>\n",
       "<tbody>\n",
       "\t<tr><td> 1       </td><td>3489.9167</td></tr>\n",
       "\t<tr><td> 2       </td><td>1434.5000</td></tr>\n",
       "\t<tr><td> 3       </td><td> 881.2500</td></tr>\n",
       "\t<tr><td> 4       </td><td> 637.2500</td></tr>\n",
       "\t<tr><td> 5       </td><td> 682.3333</td></tr>\n",
       "\t<tr><td> 6       </td><td> 291.1667</td></tr>\n",
       "\t<tr><td> 7       </td><td> 276.6667</td></tr>\n",
       "\t<tr><td> 8       </td><td> 176.1667</td></tr>\n",
       "\t<tr><td> 9       </td><td>  82.0000</td></tr>\n",
       "\t<tr><td>10       </td><td>  23.0000</td></tr>\n",
       "</tbody>\n",
       "</table>\n"
      ],
      "text/latex": [
       "\\begin{tabular}{r|ll}\n",
       " k & tot\\_withinss\\\\\n",
       "\\hline\n",
       "\t  1        & 3489.9167\\\\\n",
       "\t  2        & 1434.5000\\\\\n",
       "\t  3        &  881.2500\\\\\n",
       "\t  4        &  637.2500\\\\\n",
       "\t  5        &  682.3333\\\\\n",
       "\t  6        &  291.1667\\\\\n",
       "\t  7        &  276.6667\\\\\n",
       "\t  8        &  176.1667\\\\\n",
       "\t  9        &   82.0000\\\\\n",
       "\t 10        &   23.0000\\\\\n",
       "\\end{tabular}\n"
      ],
      "text/markdown": [
       "\n",
       "k | tot_withinss | \n",
       "|---|---|---|---|---|---|---|---|---|---|\n",
       "|  1        | 3489.9167 | \n",
       "|  2        | 1434.5000 | \n",
       "|  3        |  881.2500 | \n",
       "|  4        |  637.2500 | \n",
       "|  5        |  682.3333 | \n",
       "|  6        |  291.1667 | \n",
       "|  7        |  276.6667 | \n",
       "|  8        |  176.1667 | \n",
       "|  9        |   82.0000 | \n",
       "| 10        |   23.0000 | \n",
       "\n",
       "\n"
      ],
      "text/plain": [
       "   k  tot_withinss\n",
       "1   1 3489.9167   \n",
       "2   2 1434.5000   \n",
       "3   3  881.2500   \n",
       "4   4  637.2500   \n",
       "5   5  682.3333   \n",
       "6   6  291.1667   \n",
       "7   7  276.6667   \n",
       "8   8  176.1667   \n",
       "9   9   82.0000   \n",
       "10 10   23.0000   "
      ]
     },
     "metadata": {},
     "output_type": "display_data"
    },
    {
     "data": {},
     "metadata": {},
     "output_type": "display_data"
    },
    {
     "data": {
      "image/png": "[encoded data removed]",
      "text/plain": [
       "plot without title"
      ]
     },
     "metadata": {},
     "output_type": "display_data"
    }
   ],
   "source": [
    "model<-kmeans(x = lineup, centers = 2)\n",
    "model$tot.withinss\n",
    "\n",
    "library(purrr)\n",
    "tot_withinss<-map_dbl(1:10, function(k){\n",
    "    model<-kmeans(x = lineup, centers = k)\n",
    "    model$tot.withinss   \n",
    "})\n",
    "\n",
    "elbow_df<-data.frame(k= 1:10, tot_withinss=tot_withinss)\n",
    "elbow_df\n",
    "\n",
    "options(repr.plot.width=6, repr.plot.height=3)\n",
    "ggplot(elbow_df, aes(x = k, y= tot_withinss)) + geom_line() + geom_point() + scale_x_continuous(breaks = 1:10)"
   ]
  },
  {
   "cell_type": "markdown",
   "metadata": {},
   "source": [
    "#### 3.2.1) Many K's many models\n",
    "While the `lineup` dataset clearly has a known value of k, often times the optimal number of clusters isn't known and must be estimated.\n",
    "\n",
    "In this exercise you will leverage `map_dbl()` from the `purrr` library to run k-means using values of k ranging from 1 to 10 and extract the total within-cluster sum of squares metric from each one. This will be the first step towards visualizing the elbow plot.\n",
    "\n",
    "**Exercise**\n",
    "- Use `map_dbl()` to run `kmeans()` using the `lineup` data for k values ranging from 1 to 10 and extract the total within-cluster sum of squares value from each model: `model$tot.withinss` Store the resulting vector as tot_withinss\n",
    "- Build a new data frame elbow_df containing the values of k and the vector of total within-cluster sum of squares\n",
    "\n",
    "*Answer*"
   ]
  },
  {
   "cell_type": "code",
   "execution_count": 16,
   "metadata": {},
   "outputs": [],
   "source": [
    "library(purrr)\n",
    "\n",
    "# Use map_dbl to run many models with varying value of k (centers)\n",
    "tot_withinss <- map_dbl(1:10,  function(k){\n",
    "  model <- kmeans(x = lineup, centers = k)\n",
    "  model$tot.withinss\n",
    "})\n",
    "\n",
    "# Generate a data frame containing both k and tot_withinss\n",
    "elbow_df <- data.frame(\n",
    "  k = 1:10 ,\n",
    "  tot_withinss = tot_withinss\n",
    ")"
   ]
  },
  {
   "cell_type": "markdown",
   "metadata": {},
   "source": [
    "#### 3.2.2) Elbow (Scree) plot\n",
    "In the previous exercises you have calculated the total within-cluster sum of squares for values of k ranging from 1 to 10. You can visualize this relationship using a line plot to create what is known as an elbow plot (or scree plot).\n",
    "\n",
    "When looking at an elbow plot you want to see a sharp decline from one k to another followed by a more gradual decrease in slope. The last value of k before the slope of the plot levels off suggests a \"good\" value of k.\n",
    "\n",
    "**Exercise**\n",
    "- Continuing your work from the previous exercise, use the values in elbow_df to plot a line plot showing the relationship between k and total within-cluster sum of squares\n",
    "\n",
    "*Answer*"
   ]
  },
  {
   "cell_type": "code",
   "execution_count": 21,
   "metadata": {},
   "outputs": [
    {
     "data": {},
     "metadata": {},
     "output_type": "display_data"
    },
    {
     "data": {
      "image/png": "[encoded data removed]",
      "text/plain": [
       "plot without title"
      ]
     },
     "metadata": {},
     "output_type": "display_data"
    }
   ],
   "source": [
    "options(repr.plot.width=6, repr.plot.height=3)\n",
    "\n",
    "# Plot the elbow plot\n",
    "ggplot(elbow_df, aes(x = k , y = tot_withinss)) +\n",
    "  geom_line() +\n",
    "  scale_x_continuous(breaks = 1:10) + geom_point()"
   ]
  },
  {
   "cell_type": "markdown",
   "metadata": {},
   "source": [
    "### 3.3) (video) Silhouette analysis: Observation level performance\n",
    "\n",
    "in the last series of exercises you utilized the elbow method to estimate a suitable value of k, in this lesson you'll learn about the Silhouette Analysis method, this approach provides a different lens through which you can understand the result of your cluster analysis,  it can be used to determine how well each of your observations fit into its corresponding cluster and can be leveraged as an additional method for estimating the value of k.\n",
    "\n",
    "Continuing with our soccer lineup dataset, we will start with the observations already clustered using  kmeans with a k=3, so Silhouette Analysis involves calculating a measurement called the Silhouette  Width for every observation, it consists of two parts.\n",
    "\n",
    "1. The Within Cluster Distance: C(i)\n",
    "2. and Closest Neighbor Distance: N(i)\n",
    "\n",
    "We will work with player number 3 to ilustrate this calculation, the within cluster distance for an observation is the average euclidean distances from that observation to every other observation within the same cluster (Image 1) , in this case the distances are representend by the errors to the others 3 members of the green cluster.\n",
    "\n",
    "The Closest Neighbor Distance for an observation is the average distance from that observation to the points of the closest neighboring cluster, it´s calculated for the red cluster like so (image 2) the blue cluster (image 3 ), the smallest average distance to out observation is then used as the closest neighbor distance, in this clase the blue cluster is clearly closer, using the values of C(i)  and N(i) the Silhouette width can be calculated as shown here (formula), more importantly is the intuitive interpretation of this value:\n",
    "\n",
    "\n",
    "Inline-style: \n",
    "![](./Imagenes/Silhouette_analysis.jpg)\n",
    "\n",
    "- a value closer to 1, indicates that this observations is well matched to its current cluster.\n",
    "- a value of 0, indicated that it´s on the border between two clusters and can possibly belong either one.\n",
    "- a value of -1 or close to -1, suggests that this observations has a better fit with the neighbor cluster\n",
    "\n",
    "We can calculated the Silhouette  Width for each observation by leveraging the `pam` function from the `cluster` library (note that pam function is very simliar but it isn't identicall to kmeans ).\n",
    "\n",
    "The `pam` function requieres a dataframe and a desired numbers of clusters provided by the parameter k, the Silhouette Width can be accessed from the `pam` model object as shown here or they can be visualized using the Silhouette plot like so."
   ]
  },
  {
   "cell_type": "code",
   "execution_count": 30,
   "metadata": {},
   "outputs": [
    {
     "data": {
      "text/html": [
       "<table>\n",
       "<thead><tr><th></th><th scope=col>cluster</th><th scope=col>neighbor</th><th scope=col>sil_width</th></tr></thead>\n",
       "<tbody>\n",
       "\t<tr><th scope=row>4</th><td>1           </td><td>2           </td><td> 0.465320054</td></tr>\n",
       "\t<tr><th scope=row>2</th><td>1           </td><td>3           </td><td> 0.321729341</td></tr>\n",
       "\t<tr><th scope=row>10</th><td>1           </td><td>2           </td><td> 0.311385893</td></tr>\n",
       "\t<tr><th scope=row>1</th><td>1           </td><td>3           </td><td> 0.271890169</td></tr>\n",
       "\t<tr><th scope=row>9</th><td>2           </td><td>1           </td><td> 0.443606497</td></tr>\n",
       "\t<tr><th scope=row>8</th><td>2           </td><td>1           </td><td> 0.398547473</td></tr>\n",
       "\t<tr><th scope=row>12</th><td>2           </td><td>1           </td><td> 0.393982685</td></tr>\n",
       "\t<tr><th scope=row>3</th><td>2           </td><td>1           </td><td>-0.009151755</td></tr>\n",
       "\t<tr><th scope=row>11</th><td>3           </td><td>1           </td><td> 0.546797052</td></tr>\n",
       "\t<tr><th scope=row>6</th><td>3           </td><td>1           </td><td> 0.529967901</td></tr>\n",
       "\t<tr><th scope=row>5</th><td>3           </td><td>1           </td><td> 0.359014657</td></tr>\n",
       "\t<tr><th scope=row>7</th><td>3           </td><td>1           </td><td> 0.207878188</td></tr>\n",
       "</tbody>\n",
       "</table>\n"
      ],
      "text/latex": [
       "\\begin{tabular}{r|lll}\n",
       "  & cluster & neighbor & sil\\_width\\\\\n",
       "\\hline\n",
       "\t4 & 1            & 2            &  0.465320054\\\\\n",
       "\t2 & 1            & 3            &  0.321729341\\\\\n",
       "\t10 & 1            & 2            &  0.311385893\\\\\n",
       "\t1 & 1            & 3            &  0.271890169\\\\\n",
       "\t9 & 2            & 1            &  0.443606497\\\\\n",
       "\t8 & 2            & 1            &  0.398547473\\\\\n",
       "\t12 & 2            & 1            &  0.393982685\\\\\n",
       "\t3 & 2            & 1            & -0.009151755\\\\\n",
       "\t11 & 3            & 1            &  0.546797052\\\\\n",
       "\t6 & 3            & 1            &  0.529967901\\\\\n",
       "\t5 & 3            & 1            &  0.359014657\\\\\n",
       "\t7 & 3            & 1            &  0.207878188\\\\\n",
       "\\end{tabular}\n"
      ],
      "text/markdown": [
       "\n",
       "| <!--/--> | cluster | neighbor | sil_width | \n",
       "|---|---|---|---|---|---|---|---|---|---|---|---|\n",
       "| 4 | 1            | 2            |  0.465320054 | \n",
       "| 2 | 1            | 3            |  0.321729341 | \n",
       "| 10 | 1            | 2            |  0.311385893 | \n",
       "| 1 | 1            | 3            |  0.271890169 | \n",
       "| 9 | 2            | 1            |  0.443606497 | \n",
       "| 8 | 2            | 1            |  0.398547473 | \n",
       "| 12 | 2            | 1            |  0.393982685 | \n",
       "| 3 | 2            | 1            | -0.009151755 | \n",
       "| 11 | 3            | 1            |  0.546797052 | \n",
       "| 6 | 3            | 1            |  0.529967901 | \n",
       "| 5 | 3            | 1            |  0.359014657 | \n",
       "| 7 | 3            | 1            |  0.207878188 | \n",
       "\n",
       "\n"
      ],
      "text/plain": [
       "   cluster neighbor sil_width   \n",
       "4  1       2         0.465320054\n",
       "2  1       3         0.321729341\n",
       "10 1       2         0.311385893\n",
       "1  1       3         0.271890169\n",
       "9  2       1         0.443606497\n",
       "8  2       1         0.398547473\n",
       "12 2       1         0.393982685\n",
       "3  2       1        -0.009151755\n",
       "11 3       1         0.546797052\n",
       "6  3       1         0.529967901\n",
       "5  3       1         0.359014657\n",
       "7  3       1         0.207878188"
      ]
     },
     "metadata": {},
     "output_type": "display_data"
    },
    {
     "data": {
      "image/png": "[encoded data removed]",
      "text/plain": [
       "Plot with title \"Silhouette plot of pam(x = lineup, k = 3)\""
      ]
     },
     "metadata": {},
     "output_type": "display_data"
    }
   ],
   "source": [
    "library(cluster)\n",
    "pam_k3<-pam(lineup, k = 3)\n",
    "\n",
    "pam_k3$silinfo$widths\n",
    "\n",
    "\n",
    "options(repr.plot.width=6, repr.plot.height=5)\n",
    "sil_plot<-silhouette(pam_k3)\n",
    "plot(sil_plot)"
   ]
  },
  {
   "cell_type": "markdown",
   "metadata": {},
   "source": [
    "in this plot the bars represented the Silhouette widhts for each obserations,look at observation 3, like we guessed, it´s values is close to zero, also, note at the bottom of this plot the average Silhouette widht across the 12 observations, this measurement can be retrieved from the model object as shown here and it can be interpreted in a manner similar to the Silhouette widht for an observation.\n",
    "\n",
    "In this case the average is well above zero suggesting that most observations are well matched to their assigned cluster."
   ]
  },
  {
   "cell_type": "code",
   "execution_count": 31,
   "metadata": {},
   "outputs": [
    {
     "data": {
      "text/html": [
       "0.353414012920685"
      ],
      "text/latex": [
       "0.353414012920685"
      ],
      "text/markdown": [
       "0.353414012920685"
      ],
      "text/plain": [
       "[1] 0.353414"
      ]
     },
     "metadata": {},
     "output_type": "display_data"
    }
   ],
   "source": [
    "pam_k3$silinfo$avg.width"
   ]
  },
  {
   "cell_type": "markdown",
   "metadata": {},
   "source": [
    "now that you have a way of measuring the effectiveness of the clustering, you can perform an analysis similar to the elbow plot and calculate the average Silhouette width for multiple values of k, the greater the average widht the better the individual observations match to their cluster, similar to the elbow plot we can leverage the map double function to run pam across multiple value of k and recor the average Silhouette widht for each, likewise we can append these mesurements to a dataframe and plot it."
   ]
  },
  {
   "cell_type": "code",
   "execution_count": 5,
   "metadata": {},
   "outputs": [
    {
     "data": {},
     "metadata": {},
     "output_type": "display_data"
    },
    {
     "data": {
      "image/png": "[encoded data removed]",
      "text/plain": [
       "plot without title"
      ]
     },
     "metadata": {},
     "output_type": "display_data"
    }
   ],
   "source": [
    "library(purrr)\n",
    "library(cluster)\n",
    "\n",
    "# Use map_dbl to run many models with varying value of k (centers)\n",
    "sil_widht <- map_dbl(2:10,  function(k){\n",
    "  model <- pam(lineup, k = k)\n",
    "  model$silinfo$avg.width\n",
    "})\n",
    "\n",
    "# Generate a data frame containing both k and tot_withinss\n",
    "sil_df <- data.frame(\n",
    "  k = 2:10 ,\n",
    "  tot_withinss = sil_widht\n",
    ")\n",
    "\n",
    "\n",
    "options(repr.plot.width=5, repr.plot.height=3)\n",
    "# Plot \n",
    "ggplot(sil_df, aes(x = k , y = sil_widht)) +\n",
    "  geom_line() +\n",
    "  scale_x_continuous(breaks = 2:10) + geom_point()\n"
   ]
  },
  {
   "cell_type": "markdown",
   "metadata": {},
   "source": [
    "#### 3.3.1) Silhouette analysis\n",
    "`Silhouette analysis` allows you to calculate how similar each observations is with the cluster it is assigned relative to other clusters. This metric (silhouette width) ranges from `-1` to `1` for each observation in your data and can be interpreted as follows:\n",
    "\n",
    "    Values close to 1 suggest that the observation is well matched to the assigned cluster\n",
    "    Values close to 0 suggest that the observation is borderline matched between two clusters\n",
    "    Values close to -1 suggest that the observations may be assigned to the wrong cluster\n",
    "\n",
    "In this exercise you will leverage the `pam()` and the `silhouette()` functions from the cluster library to perform silhouette analysis to compare the results of models with a k of 2 and a k of 3. You'll continue working with the lineup dataset.\n",
    "\n",
    "Pay close attention to the silhouette plot, does each observation clearly belong to its assigned cluster for k = 3?\n",
    "\n",
    "**Exercise**\n",
    "- Generate a `k-means` model `pam_k2` using `pam()` with `k = 2` on the lineup data.\n",
    "- Plot the silhouette analysis using `plot(silhouette(model))`.\n",
    "- Repeat the first two steps for `k = 3`, saving the model as `pam_k3`.\n",
    "- Make sure to review the differences between the plots before proceeding (especially observation 3) for pam_k3.\n",
    "\n",
    "*Answer*\n",
    "\n",
    "Did you notice that for k = 2, no observation has a silhouette width close to 0? What about the fact that for k = 3, observation 3 is close to 0 and is negative? This suggests that k = 3 is not the right number of clusters"
   ]
  },
  {
   "cell_type": "code",
   "execution_count": 10,
   "metadata": {},
   "outputs": [
    {
     "data": {
      "image/png": "[encoded data removed]",
      "text/plain": [
       "Plot with title \"Silhouette plot of pam(x = lineup, k = 2)\""
      ]
     },
     "metadata": {},
     "output_type": "display_data"
    },
    {
     "data": {
      "image/png": "[encoded data removed]",
      "text/plain": [
       "Plot with title \"Silhouette plot of pam(x = lineup, k = 3)\""
      ]
     },
     "metadata": {},
     "output_type": "display_data"
    }
   ],
   "source": [
    "library(cluster)\n",
    "\n",
    "# Generate a k-means model using the pam() function with a k = 2\n",
    "pam_k2<-pam(lineup, k = 2)\n",
    "\n",
    "# Plot the silhouette visual for the pam_k2 model\n",
    "plot(silhouette(pam_k2))\n",
    "\n",
    "# Generate a k-means model using the pam() function with a k = 3\n",
    "pam_k3 <- pam(lineup, k = 3)\n",
    "\n",
    "# Plot the silhouette visual for the pam_k3 model\n",
    "plot(silhouette(pam_k3))\n"
   ]
  },
  {
   "cell_type": "markdown",
   "metadata": {},
   "source": [
    "### 3.4) (video) Making sense of the K-means clusters\n",
    "through this chapter you have worked to develop an understanding and an intuition of how to use the k means algorithm and its associated techniques to perform clustering analysis, now it's time to put these tools into practice by revisting the whosale dataset, you have learned a lot since you've last looked at this data, so let´s have a quick reflesher it, the whosale dataset is an exercise in clustering the customer of a whosale distribuidor , this use of clustering is also known as market segmatation, the whosale data consists of 45 observations of client purchases for milk,grocery and frozen food.\n",
    "\n",
    "at the end of chapter 2, you used herarchical clustering to segment the customers into 4 clusters using a height that seemed appropiete based on the structure of the tree, you then characterized these customers segments by calculating the average of their spending in each category from this analysis you learned that segments 1,3 and 4 consist of around five observations each and their members  collectively spend more on one catergory relative to the others.\n",
    "\n",
    "in the real worl scenario a finding like this could be used to provide more customized advertising or other targeting for these groups based on their spending habits, do you think the result will be the be the same if you used a different method for clustering?\n",
    "\n",
    "Let's find out"
   ]
  },
  {
   "cell_type": "markdown",
   "metadata": {},
   "source": [
    "#### 3.4.1) Revisiting wholesale data: \"Best\" k\n",
    "At the end of Chapter 2 you explored wholesale distributor data `customers_spend` using hierarchical clustering. This time you will analyze this data using the `k-means` clustering tools covered in this chapter.\n",
    "\n",
    "The first step will be to determine the \"best\" value of k using average `silhouette width`.\n",
    "\n",
    "A refresher about the data: it contains records of the amount spent by 45 different clients of a wholesale distributor for the food categories of Milk, Grocery & Frozen. This is stored in the data frame `customers_spend`. For this exercise you can assume that because the data is all of the same type (amount spent) and you will not need to scale it.\n",
    "\n",
    "**Exercise**\n",
    "- Use `map_dbl()` to run `pam()` using the `customers_spend` data for k values ranging from 2 to 10 and extract the average silhouette width value from each model: `model$silinfo$avg.width` Store the resulting vector as `sil_width`\n",
    "- Build a new data frame `sil_df` containing the values of k and the vector of average silhouette widths\n",
    "- Use the values in `sil_df` to plot a line plot showing the relationship between k and average silhouette width\n",
    "\n",
    "*Answer*\n",
    "\n",
    "From the plot I hope you noticed that k = 2 has the highest average sillhouette width and is the “best” value of k we will move forward with."
   ]
  },
  {
   "cell_type": "code",
   "execution_count": 23,
   "metadata": {},
   "outputs": [
    {
     "data": {},
     "metadata": {},
     "output_type": "display_data"
    },
    {
     "data": {
      "image/png": "[encoded data removed]",
      "text/plain": [
       "plot without title"
      ]
     },
     "metadata": {},
     "output_type": "display_data"
    }
   ],
   "source": [
    "library(purrr)\n",
    "library(cluster)\n",
    "\n",
    "library(repr)\n",
    "# Change plot size to 4 x 3\n",
    "    options(repr.plot.width=5, repr.plot.height=2)\n",
    "\n",
    "# Use map_dbl to run many models with varying value of k\n",
    "sil_width <- map_dbl(2:10,  function(k){\n",
    "  model <- pam(x = customers_spend, k = k)\n",
    "  model$silinfo$avg.width\n",
    "})\n",
    "\n",
    "# Generate a data frame containing both k and sil_width\n",
    "sil_df <- data.frame(\n",
    "  k = 2:10,\n",
    "  sil_width = sil_width\n",
    ")\n",
    "\n",
    "# Plot the relationship between k and sil_width\n",
    "ggplot(sil_df, aes(x = k, y = sil_width)) +\n",
    "  geom_line() +\n",
    "  scale_x_continuous(breaks = 2:10) + geom_point()"
   ]
  },
  {
   "cell_type": "markdown",
   "metadata": {},
   "source": [
    "#### 3.4.2)  Revisiting wholesale data: Exploration\n",
    "From the previous analysis you have found that `k = 2` has the highest average silhouette width. In this exercise you will continue to analyze the wholesale customer data by building and exploring a kmeans model with 2 clusters.\n",
    "\n",
    "**Exercise**\n",
    "\n",
    "- Build a k-means model called `model_customers` for the `customers_spend` data using the kmeans() function with centers = 2.\n",
    "- Extract the vector of cluster assignments from the model `model_customers$cluster` and store this in the variable `clust_customers`.\n",
    "- Append the cluster assignments as a column cluster to the `customers_spend` data frame and save the results to a new data frame called `segment_customers`.\n",
    "- Calculate the size of each cluster using count().\n",
    "\n",
    "*Answer*"
   ]
  },
  {
   "cell_type": "code",
   "execution_count": 34,
   "metadata": {},
   "outputs": [
    {
     "data": {
      "text/html": [
       "<table>\n",
       "<thead><tr><th scope=col>cluster</th><th scope=col>n</th></tr></thead>\n",
       "<tbody>\n",
       "\t<tr><td>1 </td><td>35</td></tr>\n",
       "\t<tr><td>2 </td><td>10</td></tr>\n",
       "</tbody>\n",
       "</table>\n"
      ],
      "text/latex": [
       "\\begin{tabular}{r|ll}\n",
       " cluster & n\\\\\n",
       "\\hline\n",
       "\t 1  & 35\\\\\n",
       "\t 2  & 10\\\\\n",
       "\\end{tabular}\n"
      ],
      "text/markdown": [
       "\n",
       "cluster | n | \n",
       "|---|---|\n",
       "| 1  | 35 | \n",
       "| 2  | 10 | \n",
       "\n",
       "\n"
      ],
      "text/plain": [
       "  cluster n \n",
       "1 1       35\n",
       "2 2       10"
      ]
     },
     "metadata": {},
     "output_type": "display_data"
    },
    {
     "name": "stderr",
     "output_type": "stream",
     "text": [
      "Warning message:\n",
      "\"funs() is soft deprecated as of dplyr 0.8.0\n",
      "Please use a list of either functions or lambdas: \n",
      "\n",
      "  # Simple named list: \n",
      "  list(mean = mean, median = median)\n",
      "\n",
      "  # Auto named with `tibble::lst()`: \n",
      "  tibble::lst(mean, median)\n",
      "\n",
      "  # Using lambdas\n",
      "  list(~ mean(., trim = .2), ~ median(., na.rm = TRUE))\n",
      "This warning is displayed once per session.\""
     ]
    },
    {
     "data": {
      "text/html": [
       "<table>\n",
       "<thead><tr><th scope=col>cluster</th><th scope=col>Milk</th><th scope=col>Grocery</th><th scope=col>Frozen</th></tr></thead>\n",
       "<tbody>\n",
       "\t<tr><td>1        </td><td> 2296.257</td><td> 5004    </td><td>3354.343 </td></tr>\n",
       "\t<tr><td>2        </td><td>13701.100</td><td>17721    </td><td>1173.000 </td></tr>\n",
       "</tbody>\n",
       "</table>\n"
      ],
      "text/latex": [
       "\\begin{tabular}{r|llll}\n",
       " cluster & Milk & Grocery & Frozen\\\\\n",
       "\\hline\n",
       "\t 1         &  2296.257 &  5004     & 3354.343 \\\\\n",
       "\t 2         & 13701.100 & 17721     & 1173.000 \\\\\n",
       "\\end{tabular}\n"
      ],
      "text/markdown": [
       "\n",
       "cluster | Milk | Grocery | Frozen | \n",
       "|---|---|\n",
       "| 1         |  2296.257 |  5004     | 3354.343  | \n",
       "| 2         | 13701.100 | 17721     | 1173.000  | \n",
       "\n",
       "\n"
      ],
      "text/plain": [
       "  cluster Milk      Grocery Frozen  \n",
       "1 1        2296.257  5004   3354.343\n",
       "2 2       13701.100 17721   1173.000"
      ]
     },
     "metadata": {},
     "output_type": "display_data"
    }
   ],
   "source": [
    "set.seed(42)\n",
    "\n",
    "# Build a k-means model for the customers_spend with a k of 2\n",
    "model_customers <- kmeans(customers_spend, center = 2)\n",
    "\n",
    "# Extract the vector of cluster assignments from the model\n",
    "clust_customers <- model_customers$cluster\n",
    "\n",
    "# Build the segment_customers data frame\n",
    "segment_customers <- mutate(customers_spend, cluster = clust_customers)\n",
    "\n",
    "# Calculate the size of each cluster\n",
    "count(segment_customers, cluster)\n"
   ]
  },
  {
   "cell_type": "markdown",
   "metadata": {},
   "source": [
    "It seems that in this case cluster 1 consists of individuals who proportionally spend more on Frozen food while cluster 2 customers spent more on Milk and Grocery. Did you notice that when you explored this data using hierarchical clustering, the method resulted in 4 clusters while using k-means got you 2. Both of these results are valid, but which one is appropriate for this would require more subject matter expertise. Before you proceed with the next chapter, remember that: Generating clusters is a science, but interpreting them is an art."
   ]
  },
  {
   "cell_type": "code",
   "execution_count": 35,
   "metadata": {},
   "outputs": [
    {
     "data": {
      "text/html": [
       "<table>\n",
       "<thead><tr><th scope=col>cluster</th><th scope=col>Milk</th><th scope=col>Grocery</th><th scope=col>Frozen</th></tr></thead>\n",
       "<tbody>\n",
       "\t<tr><td>1        </td><td> 2296.257</td><td> 5004    </td><td>3354.343 </td></tr>\n",
       "\t<tr><td>2        </td><td>13701.100</td><td>17721    </td><td>1173.000 </td></tr>\n",
       "</tbody>\n",
       "</table>\n"
      ],
      "text/latex": [
       "\\begin{tabular}{r|llll}\n",
       " cluster & Milk & Grocery & Frozen\\\\\n",
       "\\hline\n",
       "\t 1         &  2296.257 &  5004     & 3354.343 \\\\\n",
       "\t 2         & 13701.100 & 17721     & 1173.000 \\\\\n",
       "\\end{tabular}\n"
      ],
      "text/markdown": [
       "\n",
       "cluster | Milk | Grocery | Frozen | \n",
       "|---|---|\n",
       "| 1         |  2296.257 |  5004     | 3354.343  | \n",
       "| 2         | 13701.100 | 17721     | 1173.000  | \n",
       "\n",
       "\n"
      ],
      "text/plain": [
       "  cluster Milk      Grocery Frozen  \n",
       "1 1        2296.257  5004   3354.343\n",
       "2 2       13701.100 17721   1173.000"
      ]
     },
     "metadata": {},
     "output_type": "display_data"
    }
   ],
   "source": [
    "#additional\n",
    "segment_customers %>% \n",
    "group_by(cluster) %>% \n",
    "summarise_all(funs(mean(.)))"
   ]
  },
  {
   "cell_type": "markdown",
   "metadata": {},
   "source": [
    "## 4) Case Study: National Occupational mean wage\n",
    "In this chapter, you will apply the skills you have learned to explore how the average salary amongst professions have changed over time.\n",
    "\n",
    "### 4.1 (video) Occupational wage data\n",
    "there are many type of problems that are suitable for cluster analysis, in the last 3 chapters you encountered two common types of such problems, with the soccer lineup data your worked clustering based  on spatial data, with the whosale speding data you segmented customers into clusters, in this chapter you will encounter a third type of problem, you will leverage the tools you have learned thus far to explore data that changes with the or time series data.\n",
    "\n",
    "You will work with data that consists of the average incomes for 22 occupations in the united states to collected from 2001 and 2016 this corresponds to a matrix where the observations are the 22 occupations and the features of these observations are the measurements of the average income for each year.\n",
    "\n",
    "This matrix is stored in the dataframe called `oes`, we can see the trends of each occupation with the respect time in a plot, so tha question we muest ask ourselves is which occupations cluster together or to put it another way are there distinct trends of obsrvations that we can observe?\n",
    "\n",
    "in the next series of exercises you will go through the neccesary steps to analyze this data using hierarchical clustering, as we discussed in the chapters 1 and 2 you will:\n",
    "\n",
    "1. determine if any pre-processing steps are needed for this data, such as scaling or imputation.\n",
    "2. you will use the post-processed data to create a distance matrix with an  appropiete distance metric\n",
    "3. then you will use the distance matrix to build a dendogram using a choosen  linkage criteria, you will use then what you have learned from this dendogram to select an appropieted height and\n",
    "4. Extract the clusters assigments\n",
    "5. You'll explore the resulting clusters to determine whether they make sanse  and what conclusions can be made from them.\n"
   ]
  },
  {
   "cell_type": "markdown",
   "metadata": {},
   "source": [
    "#### 4.1.1) Initial exploration of the data\n",
    "Leverage the functions head() and summary() to explore the oes data in order to determine which of the pre-processing steps below are necessary:\n",
    "\n",
    "answer:\n",
    "here are no missing values, no categorical and the features are on the same scale. Now you're ready to cluster this data!\n",
    "\n",
    "sometimes we need:\n",
    "\n",
    "- NA values exist in the data, hence the values must be imputed or the observations with NAs excluded.\n",
    "- The variables within this data are not comparable to one another and should be scaled.\n",
    "- Categorical variables exist within this data and should be appropriately dummified.\n",
    "- All three pre-processing steps above are necessary for this data."
   ]
  },
  {
   "cell_type": "code",
   "execution_count": 3,
   "metadata": {},
   "outputs": [
    {
     "data": {
      "text/html": [
       "<table>\n",
       "<thead><tr><th></th><th scope=col>2001</th><th scope=col>2002</th><th scope=col>2003</th><th scope=col>2004</th><th scope=col>2005</th><th scope=col>2006</th><th scope=col>2007</th><th scope=col>2008</th><th scope=col>2010</th><th scope=col>2011</th><th scope=col>2012</th><th scope=col>2013</th><th scope=col>2014</th><th scope=col>2015</th><th scope=col>2016</th></tr></thead>\n",
       "<tbody>\n",
       "\t<tr><th scope=row>Management</th><td>70800 </td><td>78870 </td><td>83400 </td><td>87090 </td><td>88450 </td><td>91930 </td><td>96150 </td><td>100310</td><td>105440</td><td>107410</td><td>108570</td><td>110550</td><td>112490</td><td>115020</td><td>118020</td></tr>\n",
       "\t<tr><th scope=row>Business Operations</th><td>50580 </td><td>53350 </td><td>56000 </td><td>57120 </td><td>57930 </td><td>60000 </td><td>62410 </td><td> 64720</td><td> 67690</td><td> 68740</td><td> 69550</td><td> 71020</td><td> 72410</td><td> 73800</td><td> 75070</td></tr>\n",
       "</tbody>\n",
       "</table>\n"
      ],
      "text/latex": [
       "\\begin{tabular}{r|lllllllllllllll}\n",
       "  & 2001 & 2002 & 2003 & 2004 & 2005 & 2006 & 2007 & 2008 & 2010 & 2011 & 2012 & 2013 & 2014 & 2015 & 2016\\\\\n",
       "\\hline\n",
       "\tManagement & 70800  & 78870  & 83400  & 87090  & 88450  & 91930  & 96150  & 100310 & 105440 & 107410 & 108570 & 110550 & 112490 & 115020 & 118020\\\\\n",
       "\tBusiness Operations & 50580  & 53350  & 56000  & 57120  & 57930  & 60000  & 62410  &  64720 &  67690 &  68740 &  69550 &  71020 &  72410 &  73800 &  75070\\\\\n",
       "\\end{tabular}\n"
      ],
      "text/markdown": [
       "\n",
       "| <!--/--> | 2001 | 2002 | 2003 | 2004 | 2005 | 2006 | 2007 | 2008 | 2010 | 2011 | 2012 | 2013 | 2014 | 2015 | 2016 | \n",
       "|---|---|\n",
       "| Management | 70800  | 78870  | 83400  | 87090  | 88450  | 91930  | 96150  | 100310 | 105440 | 107410 | 108570 | 110550 | 112490 | 115020 | 118020 | \n",
       "| Business Operations | 50580  | 53350  | 56000  | 57120  | 57930  | 60000  | 62410  |  64720 |  67690 |  68740 |  69550 |  71020 |  72410 |  73800 |  75070 | \n",
       "\n",
       "\n"
      ],
      "text/plain": [
       "                    2001  2002  2003  2004  2005  2006  2007  2008   2010  \n",
       "Management          70800 78870 83400 87090 88450 91930 96150 100310 105440\n",
       "Business Operations 50580 53350 56000 57120 57930 60000 62410  64720  67690\n",
       "                    2011   2012   2013   2014   2015   2016  \n",
       "Management          107410 108570 110550 112490 115020 118020\n",
       "Business Operations  68740  69550  71020  72410  73800  75070"
      ]
     },
     "metadata": {},
     "output_type": "display_data"
    },
    {
     "name": "stdout",
     "output_type": "stream",
     "text": [
      " num [1:22, 1:15] 70800 50580 60350 56330 49710 ...\n",
      " - attr(*, \"dimnames\")=List of 2\n",
      "  ..$ : chr [1:22] \"Management\" \"Business Operations\" \"Computer Science\" \"Architecture/Engineering\" ...\n",
      "  ..$ : chr [1:15] \"2001\" \"2002\" \"2003\" \"2004\" ...\n"
     ]
    }
   ],
   "source": [
    "head(oes, n = 2)\n",
    "str(oes)"
   ]
  },
  {
   "cell_type": "markdown",
   "metadata": {},
   "source": [
    "#### 4.1.2) Hierarchical clustering: Occupation trees\n",
    "In the previous exercise you have learned that the `oes` data is ready for hierarchical clustering without any preprocessing steps necessary. In this exercise you will take the necessary steps to build a dendrogram of occupations based on their yearly average salaries and propose clusters using a height of `100,000`.\n",
    "\n",
    "**Exercise**\n",
    "- Calculate the Euclidean distance between the occupations and store this in dist_oes\n",
    "- Run hierarchical clustering using average linkage and store in hc_oes\n",
    "- Create a denrogram object dend_oes from your hclust result using the function as.dendrogram()\n",
    "- Plot the dendrogram\n",
    "- Using the color_branches() function create & plot a new dendrogram with clusters colored by a cut height of 100,000\n",
    "\n",
    "*Answer*\n"
   ]
  },
  {
   "cell_type": "code",
   "execution_count": 21,
   "metadata": {},
   "outputs": [
    {
     "data": {
      "image/png": "[encoded data removed]",
      "text/plain": [
       "plot without title"
      ]
     },
     "metadata": {},
     "output_type": "display_data"
    },
    {
     "data": {
      "image/png": "[encoded data removed]",
      "text/plain": [
       "plot without title"
      ]
     },
     "metadata": {},
     "output_type": "display_data"
    }
   ],
   "source": [
    "#we need our data sources and our libraries to use color_branches\n",
    "library(dendextend)\n",
    "\n",
    "library(repr)\n",
    "# Change plot size to 4 x 3\n",
    "    options(repr.plot.width=7, repr.plot.height=4)\n",
    "\n",
    "\n",
    "\n",
    "# Calculate Euclidean distance between the occupations\n",
    "dist_oes <- dist(oes, method = 'euclidean')\n",
    "\n",
    "# Generate an average linkage analysis \n",
    "hc_oes <- hclust(dist_oes, method = 'average')\n",
    "\n",
    "# Create a dendrogram object from the hclust variable\n",
    "dend_oes <- as.dendrogram(hc_oes)\n",
    "\n",
    "# Plot the dendrogram\n",
    "plot(dend_oes)\n",
    "\n",
    "# Color branches by cluster formed from the cut at a height of 100000\n",
    "dend_colored <- color_branches(dend_oes, h = 100000)\n",
    "\n",
    "# Plot the colored dendrogram\n",
    "plot(dend_colored)\n",
    "\n",
    "\n"
   ]
  },
  {
   "cell_type": "markdown",
   "metadata": {},
   "source": [
    "#### 4.1.2) Hierarchical clustering: Preparing for exploration\n",
    "You have now created a potential clustering for the `oes` data, before you can explore these clusters with ggplot2 you will need to process the oes data matrix into a `tidy` data frame with each occupation assigned its cluster.\n",
    "\n",
    "**Exercise**\n",
    "\n",
    "- Create the `df_oes` data frame from the oes data.matrix, making sure to store the `rowname` as a column (use rownames_to_column() from the tibble library)\n",
    "- Build the cluster assignment vector `cut_oes` using `cutree()` with a h = 100,000\n",
    "- Append the cluster assignments as a column cluster to the `df_oes` data frame and save the results to a new data frame called `clust_oes`\n",
    "- Use the `gather()` function from the `tidyr()` library to reshape the data into a format amenable for ggplot2 analysis and save the tidied data frame as `gather_oes`\n",
    "\n",
    "*Answer*"
   ]
  },
  {
   "cell_type": "code",
   "execution_count": 27,
   "metadata": {},
   "outputs": [
    {
     "name": "stderr",
     "output_type": "stream",
     "text": [
      "Warning message:\n",
      "\"package 'tibble' was built under R version 3.5.3\""
     ]
    },
    {
     "data": {
      "text/html": [
       "<table>\n",
       "<thead><tr><th scope=col>occupation</th><th scope=col>2001</th><th scope=col>2002</th><th scope=col>2003</th><th scope=col>2004</th><th scope=col>2005</th><th scope=col>2006</th><th scope=col>2007</th><th scope=col>2008</th><th scope=col>2010</th><th scope=col>2011</th><th scope=col>2012</th><th scope=col>2013</th><th scope=col>2014</th><th scope=col>2015</th><th scope=col>2016</th></tr></thead>\n",
       "<tbody>\n",
       "\t<tr><td>Management               </td><td>70800                    </td><td>78870                    </td><td>83400                    </td><td>87090                    </td><td>88450                    </td><td>91930                    </td><td>96150                    </td><td>100310                   </td><td>105440                   </td><td>107410                   </td><td>108570                   </td><td>110550                   </td><td>112490                   </td><td>115020                   </td><td>118020                   </td></tr>\n",
       "\t<tr><td>Business Operations      </td><td>50580                    </td><td>53350                    </td><td>56000                    </td><td>57120                    </td><td>57930                    </td><td>60000                    </td><td>62410                    </td><td> 64720                   </td><td> 67690                   </td><td> 68740                   </td><td> 69550                   </td><td> 71020                   </td><td> 72410                   </td><td> 73800                   </td><td> 75070                   </td></tr>\n",
       "\t<tr><td>Computer Science         </td><td>60350                    </td><td>61630                    </td><td>64150                    </td><td>66370                    </td><td>67100                    </td><td>69240                    </td><td>72190                    </td><td> 74500                   </td><td> 77230                   </td><td> 78730                   </td><td> 80180                   </td><td> 82010                   </td><td> 83970                   </td><td> 86170                   </td><td> 87880                   </td></tr>\n",
       "\t<tr><td>Architecture/Engineering </td><td>56330                    </td><td>58020                    </td><td>60390                    </td><td>63060                    </td><td>63910                    </td><td>66190                    </td><td>68880                    </td><td> 71430                   </td><td> 75550                   </td><td> 77120                   </td><td> 79000                   </td><td> 80100                   </td><td> 81520                   </td><td> 82980                   </td><td> 84300                   </td></tr>\n",
       "\t<tr><td>Life/Physical/Social Sci.</td><td>49710                    </td><td>52380                    </td><td>54930                    </td><td>57550                    </td><td>58030                    </td><td>59660                    </td><td>62020                    </td><td> 64280                   </td><td> 66390                   </td><td> 67470                   </td><td> 68360                   </td><td> 69400                   </td><td> 70070                   </td><td> 71220                   </td><td> 72930                   </td></tr>\n",
       "\t<tr><td>Community Services       </td><td>34190                    </td><td>34630                    </td><td>35800                    </td><td>37050                    </td><td>37530                    </td><td>39000                    </td><td>40540                    </td><td> 41790                   </td><td> 43180                   </td><td> 43830                   </td><td> 44240                   </td><td> 44710                   </td><td> 45310                   </td><td> 46160                   </td><td> 47200                   </td></tr>\n",
       "</tbody>\n",
       "</table>\n"
      ],
      "text/latex": [
       "\\begin{tabular}{r|llllllllllllllll}\n",
       " occupation & 2001 & 2002 & 2003 & 2004 & 2005 & 2006 & 2007 & 2008 & 2010 & 2011 & 2012 & 2013 & 2014 & 2015 & 2016\\\\\n",
       "\\hline\n",
       "\t Management                & 70800                     & 78870                     & 83400                     & 87090                     & 88450                     & 91930                     & 96150                     & 100310                    & 105440                    & 107410                    & 108570                    & 110550                    & 112490                    & 115020                    & 118020                   \\\\\n",
       "\t Business Operations       & 50580                     & 53350                     & 56000                     & 57120                     & 57930                     & 60000                     & 62410                     &  64720                    &  67690                    &  68740                    &  69550                    &  71020                    &  72410                    &  73800                    &  75070                   \\\\\n",
       "\t Computer Science          & 60350                     & 61630                     & 64150                     & 66370                     & 67100                     & 69240                     & 72190                     &  74500                    &  77230                    &  78730                    &  80180                    &  82010                    &  83970                    &  86170                    &  87880                   \\\\\n",
       "\t Architecture/Engineering  & 56330                     & 58020                     & 60390                     & 63060                     & 63910                     & 66190                     & 68880                     &  71430                    &  75550                    &  77120                    &  79000                    &  80100                    &  81520                    &  82980                    &  84300                   \\\\\n",
       "\t Life/Physical/Social Sci. & 49710                     & 52380                     & 54930                     & 57550                     & 58030                     & 59660                     & 62020                     &  64280                    &  66390                    &  67470                    &  68360                    &  69400                    &  70070                    &  71220                    &  72930                   \\\\\n",
       "\t Community Services        & 34190                     & 34630                     & 35800                     & 37050                     & 37530                     & 39000                     & 40540                     &  41790                    &  43180                    &  43830                    &  44240                    &  44710                    &  45310                    &  46160                    &  47200                   \\\\\n",
       "\\end{tabular}\n"
      ],
      "text/markdown": [
       "\n",
       "occupation | 2001 | 2002 | 2003 | 2004 | 2005 | 2006 | 2007 | 2008 | 2010 | 2011 | 2012 | 2013 | 2014 | 2015 | 2016 | \n",
       "|---|---|---|---|---|---|\n",
       "| Management                | 70800                     | 78870                     | 83400                     | 87090                     | 88450                     | 91930                     | 96150                     | 100310                    | 105440                    | 107410                    | 108570                    | 110550                    | 112490                    | 115020                    | 118020                    | \n",
       "| Business Operations       | 50580                     | 53350                     | 56000                     | 57120                     | 57930                     | 60000                     | 62410                     |  64720                    |  67690                    |  68740                    |  69550                    |  71020                    |  72410                    |  73800                    |  75070                    | \n",
       "| Computer Science          | 60350                     | 61630                     | 64150                     | 66370                     | 67100                     | 69240                     | 72190                     |  74500                    |  77230                    |  78730                    |  80180                    |  82010                    |  83970                    |  86170                    |  87880                    | \n",
       "| Architecture/Engineering  | 56330                     | 58020                     | 60390                     | 63060                     | 63910                     | 66190                     | 68880                     |  71430                    |  75550                    |  77120                    |  79000                    |  80100                    |  81520                    |  82980                    |  84300                    | \n",
       "| Life/Physical/Social Sci. | 49710                     | 52380                     | 54930                     | 57550                     | 58030                     | 59660                     | 62020                     |  64280                    |  66390                    |  67470                    |  68360                    |  69400                    |  70070                    |  71220                    |  72930                    | \n",
       "| Community Services        | 34190                     | 34630                     | 35800                     | 37050                     | 37530                     | 39000                     | 40540                     |  41790                    |  43180                    |  43830                    |  44240                    |  44710                    |  45310                    |  46160                    |  47200                    | \n",
       "\n",
       "\n"
      ],
      "text/plain": [
       "  occupation                2001  2002  2003  2004  2005  2006  2007  2008  \n",
       "1 Management                70800 78870 83400 87090 88450 91930 96150 100310\n",
       "2 Business Operations       50580 53350 56000 57120 57930 60000 62410  64720\n",
       "3 Computer Science          60350 61630 64150 66370 67100 69240 72190  74500\n",
       "4 Architecture/Engineering  56330 58020 60390 63060 63910 66190 68880  71430\n",
       "5 Life/Physical/Social Sci. 49710 52380 54930 57550 58030 59660 62020  64280\n",
       "6 Community Services        34190 34630 35800 37050 37530 39000 40540  41790\n",
       "  2010   2011   2012   2013   2014   2015   2016  \n",
       "1 105440 107410 108570 110550 112490 115020 118020\n",
       "2  67690  68740  69550  71020  72410  73800  75070\n",
       "3  77230  78730  80180  82010  83970  86170  87880\n",
       "4  75550  77120  79000  80100  81520  82980  84300\n",
       "5  66390  67470  68360  69400  70070  71220  72930\n",
       "6  43180  43830  44240  44710  45310  46160  47200"
      ]
     },
     "metadata": {},
     "output_type": "display_data"
    },
    {
     "data": {
      "text/html": [
       "<table>\n",
       "<thead><tr><th scope=col>occupation</th><th scope=col>cluster</th><th scope=col>year</th><th scope=col>mean_salary</th></tr></thead>\n",
       "<tbody>\n",
       "\t<tr><td>Management               </td><td>1                        </td><td>2001                     </td><td>70800                    </td></tr>\n",
       "\t<tr><td>Business Operations      </td><td>2                        </td><td>2001                     </td><td>50580                    </td></tr>\n",
       "\t<tr><td>Computer Science         </td><td>2                        </td><td>2001                     </td><td>60350                    </td></tr>\n",
       "\t<tr><td>Architecture/Engineering </td><td>2                        </td><td>2001                     </td><td>56330                    </td></tr>\n",
       "\t<tr><td>Life/Physical/Social Sci.</td><td>2                        </td><td>2001                     </td><td>49710                    </td></tr>\n",
       "\t<tr><td>Community Services       </td><td>3                        </td><td>2001                     </td><td>34190                    </td></tr>\n",
       "</tbody>\n",
       "</table>\n"
      ],
      "text/latex": [
       "\\begin{tabular}{r|llll}\n",
       " occupation & cluster & year & mean\\_salary\\\\\n",
       "\\hline\n",
       "\t Management                & 1                         & 2001                      & 70800                    \\\\\n",
       "\t Business Operations       & 2                         & 2001                      & 50580                    \\\\\n",
       "\t Computer Science          & 2                         & 2001                      & 60350                    \\\\\n",
       "\t Architecture/Engineering  & 2                         & 2001                      & 56330                    \\\\\n",
       "\t Life/Physical/Social Sci. & 2                         & 2001                      & 49710                    \\\\\n",
       "\t Community Services        & 3                         & 2001                      & 34190                    \\\\\n",
       "\\end{tabular}\n"
      ],
      "text/markdown": [
       "\n",
       "occupation | cluster | year | mean_salary | \n",
       "|---|---|---|---|---|---|\n",
       "| Management                | 1                         | 2001                      | 70800                     | \n",
       "| Business Operations       | 2                         | 2001                      | 50580                     | \n",
       "| Computer Science          | 2                         | 2001                      | 60350                     | \n",
       "| Architecture/Engineering  | 2                         | 2001                      | 56330                     | \n",
       "| Life/Physical/Social Sci. | 2                         | 2001                      | 49710                     | \n",
       "| Community Services        | 3                         | 2001                      | 34190                     | \n",
       "\n",
       "\n"
      ],
      "text/plain": [
       "  occupation                cluster year mean_salary\n",
       "1 Management                1       2001 70800      \n",
       "2 Business Operations       2       2001 50580      \n",
       "3 Computer Science          2       2001 60350      \n",
       "4 Architecture/Engineering  2       2001 56330      \n",
       "5 Life/Physical/Social Sci. 2       2001 49710      \n",
       "6 Community Services        3       2001 34190      "
      ]
     },
     "metadata": {},
     "output_type": "display_data"
    }
   ],
   "source": [
    "dist_oes <- dist(oes, method = 'euclidean')\n",
    "hc_oes <- hclust(dist_oes, method = 'average')\n",
    "\n",
    "library(tibble)\n",
    "library(tidyr)\n",
    "\n",
    "# Use rownames_to_column to move the rownames into a column of the data frame\n",
    "df_oes <- rownames_to_column(as.data.frame(oes), var = 'occupation')\n",
    "head(df_oes)\n",
    "\n",
    "# Create a cluster assignment vector at h = 100,000\n",
    "cut_oes <- cutree(hc_oes, h = 100000)\n",
    "\n",
    "# Generate the segmented the oes data frame\n",
    "clust_oes <- mutate(df_oes, cluster = cut_oes)\n",
    "\n",
    "# Create a tidy data frame by gathering the year and values into two columns\n",
    "gathered_oes <- gather(data = clust_oes, \n",
    "                       key = year, \n",
    "                       value = mean_salary, \n",
    "                       -occupation, -cluster)\n",
    "head(gathered_oes)"
   ]
  },
  {
   "cell_type": "markdown",
   "metadata": {},
   "source": [
    "#### 4.1.3) Hierarchical clustering: Plotting occupational clusters\n",
    "You have succesfully created all the parts necessary to explore the results of this hierarchical clustering work. In this exercise you will leverage the named assignment vector `cut_oes` and the tidy data frame `gathered_oes` to analyze the resulting clusters.\n",
    "\n",
    "**Exercise**\n",
    "- View the assignments of each occupation to their clustering by sorting the cut_oes vector using sort()\n",
    "- Use ggplot2 to plot each occupation's average income by year and color the lines by the occupation's assigned cluster.\n",
    "\n",
    "*Answer*\n",
    "\n",
    "From this work it looks like both Management & Legal professions (cluster 1) experienced the most rapid growth in these 15 years. Let's see what we can get by exploring this data using k-means"
   ]
  },
  {
   "cell_type": "code",
   "execution_count": 57,
   "metadata": {},
   "outputs": [
    {
     "data": {},
     "metadata": {},
     "output_type": "display_data"
    },
    {
     "data": {
      "image/png": "[encoded data removed]",
      "text/plain": [
       "plot without title"
      ]
     },
     "metadata": {},
     "output_type": "display_data"
    }
   ],
   "source": [
    "# View the clustering assignments by sorting the cluster assignment vector\n",
    "#sort(cut_oes)\n",
    "\n",
    "# Plot the relationship between mean_salary and year and color the lines by the assigned cluster\n",
    "ggplot(gathered_oes, aes(x = year, y = mean_salary, color = factor(cluster))) + \n",
    "    geom_line(aes(group = occupation))\n",
    "\n"
   ]
  },
  {
   "cell_type": "markdown",
   "metadata": {},
   "source": [
    "### 4.2 (video) Reviewing the HC results\n",
    "great job! you've successfully analyzed the occupation wage data using hierarchical clustering, now let's briefly discuss these results before moving on to kmeans clustering.\n",
    "\n",
    "Remember that this distance dendogram was constructed using eucleadean distance and the average linkage criteria, what this means is that at height of any given branch, all observations belonging to that branch must have an average euclidean distance amongst each other less than or equal to heigth of that branch \n",
    "\n",
    "Rather than using a pre-determined value of k  when cutting the tree, you used the structure of the tree to make the decision.\n",
    "\n",
    "A height of 100,000 seems reasonable when looking at this structure and generates 3 clustering, however, it would just be reasonable to go heigher to create two clusters or lower to create four, to better understant the consequence of the cut height, you explored the resulting clusters to see if they make sense, more specifically  you plotted the trends of these 3 clusters and used color to compare and constrast them , visually this seems to be reasonable clustering with 3 distinct trends or slops that emerge from  the 3 clusters based on this analysis, one observation we can make is that 2 occupations concurrently had a higher growth in average wages relative to the others these are the management and legal occupations.\n",
    "\n",
    "Let´s revisit this data through the lens of k-mean clustering \n",
    "\n",
    "- evaluate whether pre-processing is necessary.\n",
    "- after that, the second step will be to empirically estiamte the valu of k using the two methods you have learned about, the elbow plit an the maximum average silhouette width \n",
    "- finally, as with any good clustering analysis, you will analyze your resulting clusters and find out what you can lear from them"
   ]
  },
  {
   "cell_type": "markdown",
   "metadata": {},
   "source": [
    "#### 4.2.1) K-means: Elbow analysis\n",
    "In the previous exercises you used the dendrogram to propose a clustering that generated 3 trees. In this exercise you will leverage the k-means elbow plot to propose the \"best\" number of clusters.\n",
    "\n",
    "**Exercise**\n",
    "- Use `map_dbl()` to run `kmeans()` using the `oes` data for k values ranging from 1 to 10 and extract the total within-cluster sum of squares value from each model: `model$tot.withinss`\n",
    "- Store the resulting vector as `tot_withinss`\n",
    "- Build a new data frame `elbow_df` containing the values of k and the vector of total within-cluster sum of squares\n",
    "- Use the values in `elbow_df` to plot a line plot showing the relationship between k and total within-cluster sum of squares\n",
    "\n",
    "*Answer*\n",
    "\n",
    "So the elbow analysis proposes a different value of k, in the next section let's see what we can learn from Silhouette Width Analysis, k = 2"
   ]
  },
  {
   "cell_type": "code",
   "execution_count": 18,
   "metadata": {},
   "outputs": [
    {
     "data": {},
     "metadata": {},
     "output_type": "display_data"
    },
    {
     "data": {
      "image/png": "[encoded data removed]",
      "text/plain": [
       "plot without title"
      ]
     },
     "metadata": {},
     "output_type": "display_data"
    }
   ],
   "source": [
    "#head(oes)\n",
    "library(purrr) # to use map_dbl\n",
    "library(ggplot2)\n",
    "\n",
    "library(repr)\n",
    "# Change plot size to 4 x 3\n",
    "    options(repr.plot.width=6, repr.plot.height=3)\n",
    "\n",
    "# Use map_dbl to run many models with varying value of k (centers)\n",
    "tot_withinss <- map_dbl(1:10,  function(k){\n",
    "  model <- kmeans(x = oes, centers = k)\n",
    "  model$tot.withinss\n",
    "})\n",
    "\n",
    "# Generate a data frame containing both k and tot_withinss\n",
    "elbow_df <- data.frame(\n",
    "  k = 1:10,\n",
    "  tot_withinss = tot_withinss\n",
    ")\n",
    "\n",
    "# Plot the elbow plot\n",
    "ggplot(elbow_df, aes(x = k, y = tot_withinss)) +\n",
    "  geom_line() +\n",
    "  scale_x_continuous(breaks = 1:10) + geom_point() #the last object is optional"
   ]
  },
  {
   "cell_type": "markdown",
   "metadata": {},
   "source": [
    "#### 4.2.1) K-means: Average Silhouette Widths\n",
    "So hierarchical clustering resulting in 3 clusters and the elbow method suggests 2. In this exercise use average silhouette widths to explore what the \"best\" value of k should be.\n",
    "\n",
    "**Exercise**\n",
    "- Use `map_dbl()` to run `pam()` using the `oes` data for `k` values ranging from 2 to 10 and extract the average silhouette width value from each model: `model$silinfo$avg.width` Store the resulting vector as `sil_width`\n",
    "- Build a new data frame `sil_df` containing the values of k and the vector of average silhouette widths\n",
    "- Use the values in `sil_df` to plot a line plot showing the relationship between k and average silhouette width\n",
    "\n",
    "*Answer*\n",
    "\n",
    "Great work! It seems that this analysis results in another value of k, this time 7 is the top contender (although 2 comes very close)."
   ]
  },
  {
   "cell_type": "code",
   "execution_count": 26,
   "metadata": {},
   "outputs": [
    {
     "data": {},
     "metadata": {},
     "output_type": "display_data"
    },
    {
     "data": {
      "image/png": "[encoded data removed]",
      "text/plain": [
       "plot without title"
      ]
     },
     "metadata": {},
     "output_type": "display_data"
    }
   ],
   "source": [
    "library(purrr) # to use map_dbl\n",
    "library(cluster) # to use pam functions\n",
    "\n",
    "# Use map_dbl to run many models with varying value of k\n",
    "sil_width <- map_dbl(2:10,  function(k){\n",
    "  model <- pam(oes, k = k)\n",
    "  model$silinfo$avg.width\n",
    "})\n",
    "\n",
    "# Generate a data frame containing both k and sil_width\n",
    "sil_df <- data.frame(\n",
    "  k = 2:10,\n",
    "  sil_width = sil_width\n",
    ")\n",
    "\n",
    "# Plot the relationship between k and sil_width\n",
    "ggplot(sil_df, aes(x = k, y = sil_width)) +\n",
    "  geom_line() +\n",
    "  scale_x_continuous(breaks = 2:10) + geom_point()"
   ]
  },
  {
   "cell_type": "markdown",
   "metadata": {},
   "source": [
    "#### 4.2.3) The \"best\" number of clusters\n",
    "You ran three different methods for finding the optimal number of clusters and their assignments and you arrived with three different answers.\n",
    "\n",
    "Below you will find a comparison between the 3 clustering results (via coloring of the occupations based on the clusters to which they belong).\n",
    "\n",
    "**Exercise**\n",
    "\n",
    "**What can you say about the \"best\" way to cluster this data?**\n",
    "\n",
    "1. The clusters generated by the hierarchical clustering all have members with a Euclidean distance amongst one another less than 100,000 and hence is the best clustering method.\n",
    "2. The clusters generated using k-means with a k = 2 was identified using elbow analysis and hence is the best way to cluster this data.\n",
    "3. The clusters generated using k-means with a k = 7 has the largest Average Silhouette Widths among the cluster and hence is the best way to cluster this data.\n",
    "4. All of the above are correct but the best way to cluster is highly dependent on how you would use this data after.\n",
    "\n",
    "*Answer*\n",
    "\n",
    "Number 4 "
   ]
  },
  {
   "cell_type": "code",
   "execution_count": 51,
   "metadata": {},
   "outputs": [
    {
     "data": {},
     "metadata": {},
     "output_type": "display_data"
    },
    {
     "data": {},
     "metadata": {},
     "output_type": "display_data"
    },
    {
     "data": {
      "image/png": "[encoded data removed]",
      "text/plain": [
       "plot without title"
      ]
     },
     "metadata": {},
     "output_type": "display_data"
    },
    {
     "data": {},
     "metadata": {},
     "output_type": "display_data"
    },
    {
     "data": {
      "image/png": "[encoded data removed]",
      "text/plain": [
       "plot without title"
      ]
     },
     "metadata": {},
     "output_type": "display_data"
    },
    {
     "data": {
      "image/png": "[encoded data removed]",
      "text/plain": [
       "plot without title"
      ]
     },
     "metadata": {},
     "output_type": "display_data"
    }
   ],
   "source": [
    "dist_oes <- dist(oes, method = 'euclidean')\n",
    "hc_oes <- hclust(dist_oes, method = 'average')\n",
    "\n",
    "library(tibble)\n",
    "library(tidyr)\n",
    "\n",
    "# Use rownames_to_column to move the rownames into a column of the data frame\n",
    "df_oes <- rownames_to_column(as.data.frame(oes), var = 'occupation')\n",
    "\n",
    "# Create a cluster assignment vector at h = 100,000\n",
    "cut_oes <- cutree(hc_oes, h = 100000)\n",
    "\n",
    "#clusteting with k = 2 & 7 \n",
    "k_mean2<-pam(oes, k = 2) \n",
    "k_mean7<-pam(oes, k = 7) \n",
    "\n",
    "\n",
    "# Generate the segmented the oes data frame with herarchical, k menas = 2 y 7 clustering\n",
    "library(dplyr)\n",
    "clust_oes <- mutate(df_oes, cut_oes = cut_oes , k_mean2 = k_mean2$clustering , k_mean7 = k_mean7$clustering)\n",
    "#head(clust_oes)\n",
    "\n",
    "# Create a tidy data frame by gathering the year and values into two columns\n",
    "gathered_oes <- gather(data = clust_oes, \n",
    "                       key = year, \n",
    "                       value = mean_salary, \n",
    "                       -occupation, -cut_oes, -k_mean2, -k_mean7 )\n",
    "#head(gathered_oes)\n",
    "\n",
    "\n",
    "library(repr)\n",
    "# Change plot size to 4 x 3\n",
    "    options(repr.plot.width=6, repr.plot.height=3)\n",
    "\n",
    "# Plot the relationship between mean_salary and year and color the lines by the assigned cluster\n",
    "p1<-ggplot(gathered_oes, aes(x = year, y = mean_salary, color = factor(cut_oes))) + \n",
    "    geom_line(aes(group = occupation))\n",
    "\n",
    "p2<-ggplot(gathered_oes, aes(x = year, y = mean_salary, color = factor(k_mean2))) + \n",
    "    geom_line(aes(group = occupation))\n",
    "\n",
    "p3<-ggplot(gathered_oes, aes(x = year, y = mean_salary, color = factor(k_mean7))) + \n",
    "    geom_line(aes(group = occupation))\n",
    "\n",
    "#grid.arrange(p1, p2, p3, nrow=1)\n",
    "p1\n",
    "p2\n",
    "p3"
   ]
  },
  {
   "cell_type": "markdown",
   "metadata": {},
   "source": [
    "### 4.3 (video) Review K-means results\n",
    "\n",
    "\n",
    "i don't know about you but the results the last exercise were a little unexpected!, you used 3 approaches for finding clusters and got 3 completely different answers, which of them is the right one? if there is a one point that I want you to remember from this class, is that the anwer is allways it depends? it depends on the clustering setup, it depends on the question we're traying to answer and it depends on ourunderstanding of the data that we´re working with ,to say it another way, clustering methods requere a certain amount of subjectivity, they are the looking glass through which we can see a new perspective on our data, but it us up to us to judiciously use this perspective.\n",
    "\n",
    "In this case if you would ask for  my opinion?I would say the analysis of the hierarchical based clustering seems to make the most sense here, the 3 distinct clusters of occupations grouped similar slopes of wage growth \n",
    "effectively while separating the unique trend that appear\n",
    "\n",
    ", is this allways the case?, what are the diferences between k-means and hierarchical clustering?, well there are some fundamental differences between thw two.\n",
    "\n",
    "| Differences              | Hierarchical                | K-Means           |\n",
    "|--------------------------|-----------------------------|-------------------|\n",
    "| Distance Used            | virtually any               | euclidean only    |\n",
    "| **(a)**Results Stable    | Yes                         | No                |\n",
    "| Evaluating # of clusters | dendogram,silhouette, elbow | silhouette, elbow |\n",
    "| Computation Complexity   | Relatively Higher           | Relatively Lower  |\n",
    "\n",
    "\n",
    "a) *kmeans requeries a random step that may yield different results if the process is re-run, this would not occur in hierarchical clustering*\n",
    "\n",
    "Note: so why would we ever use k-means clustering instead of hierarchical clustering, the main reason is that the k-means algorithm is less computationaly expensive and can be run on much larger data within a reasonable time frame.\n",
    "\n",
    "Finally these are just some of the tools you may encounter as you delve further into the world of unsupervised clustering,as a bonus, the pam function you used for silhouette analysis actually used the k-mediods method, two other methods you might be interested in are `DBSCAN` and `Optics` clustering."
   ]
  },
  {
   "cell_type": "code",
   "execution_count": null,
   "metadata": {},
   "outputs": [],
   "source": [
    "library(repr)\n",
    "# Change plot size to 4 x 3\n",
    "    options(repr.plot.width=4, repr.plot.height=3)"
   ]
  },
  {
   "cell_type": "markdown",
   "metadata": {},
   "source": [
    "**Exercise**\n",
    "\n",
    "*Answer*"
   ]
  }
 ],
 "metadata": {
  "kernelspec": {
   "display_name": "R",
   "language": "R",
   "name": "ir"
  },
  "language_info": {
   "codemirror_mode": "r",
   "file_extension": ".r",
   "mimetype": "text/x-r-source",
   "name": "R",
   "pygments_lexer": "r",
   "version": "3.5.1"
  }
 },
 "nbformat": 4,
 "nbformat_minor": 2
}
