{
 "cells": [
  {
   "cell_type": "markdown",
   "metadata": {},
   "source": [
    "# Correlation and Regression\n",
    "\n",
    "### Course Description\n",
    "Ultimately, data analysis is about understanding relationships among variables. Exploring data with multiple variables requires new, more complex tools, but enables a richer set of comparisons. In this course, you will learn how to describe relationships between two numerical quantities. You will characterize these relationships graphically, in the form of summary statistics, and through simple linear regression models.\n",
    "\n",
    "### Note how can Resizing plots in the R kernel for Jupyter notebooks\n",
    "https://blog.revolutionanalytics.com/2015/09/resizing-plots-in-the-r-kernel-for-jupyter-notebooks.html\n",
    "\n",
    "    library(repr)\n",
    "\n",
    "    # Change plot size to 4 x 3\n",
    "    options(repr.plot.width=4, repr.plot.height=3)\n",
    "    \n",
    "### Note2 Generate a table \n",
    "https://www.tablesgenerator.com/markdown_tables\n",
    "\n",
    "### Note 3 - DataFrames"
   ]
  },
  {
   "cell_type": "code",
   "execution_count": 1,
   "metadata": {},
   "outputs": [
    {
     "name": "stderr",
     "output_type": "stream",
     "text": [
      "Warning message:\n",
      "\"package 'dplyr' was built under R version 3.5.3\"\n",
      "Attaching package: 'dplyr'\n",
      "\n",
      "The following objects are masked from 'package:stats':\n",
      "\n",
      "    filter, lag\n",
      "\n",
      "The following objects are masked from 'package:base':\n",
      "\n",
      "    intersect, setdiff, setequal, union\n",
      "\n",
      "Warning message:\n",
      "\"package 'ggplot2' was built under R version 3.5.3\"Warning message:\n",
      "\"package 'readr' was built under R version 3.5.3\"Warning message:\n",
      "\"package 'broom' was built under R version 3.5.3\"Warning message:\n",
      "\"package 'openintro' was built under R version 3.5.2\"Please visit openintro.org for free statistics materials\n",
      "\n",
      "Attaching package: 'openintro'\n",
      "\n",
      "The following object is masked from 'package:ggplot2':\n",
      "\n",
      "    diamonds\n",
      "\n",
      "The following objects are masked from 'package:datasets':\n",
      "\n",
      "    cars, trees\n",
      "\n"
     ]
    }
   ],
   "source": [
    "library(dplyr)\n",
    "library(ggplot2)\n",
    "library(readr)\n",
    "library(tidyr)\n",
    "library(datasets)\n",
    "library(broom)\n",
    "\n",
    "library(openintro)\n",
    "data(ncbirths)\n",
    "data(mammals)\n",
    "data(mlbBat10)\n",
    "data(bdims)\n",
    "data(smoking)\n",
    "data(anscombe)\n",
    "data(textbooks)\n",
    "\n",
    "library(tidyr)\n",
    "library(dplyr)\n",
    "Anscombe<-anscombe\n",
    "Anscombe<-mutate(Anscombe, id = 1:nrow(Anscombe))\n",
    "Anscombe<-gather(Anscombe,variable, valor, -id) \n",
    "#y<- select(filter(Anscombe, variable %in% c(\"y1\",\"y2\",\"y3\",\"y4\")), valor) \n",
    "y<-filter(Anscombe, variable %in% c(\"y1\",\"y2\",\"y3\",\"y4\")) %>% .$valor\n",
    "Anscombe<-filter(Anscombe, variable %in% c(\"x1\",\"x2\",\"x3\",\"x4\"))\n",
    "Anscombe<-mutate(Anscombe, new = y)\n",
    "names(Anscombe)<-c(\"id\",\"set\",\"x\",\"y\")\n"
   ]
  },
  {
   "cell_type": "markdown",
   "metadata": {},
   "source": [
    "## 1) Visualizing two variables\n",
    "In this chapter, you will learn techniques for exploring bivariate relationships.\n",
    "\n",
    "### 1.1) (video) Visualizing bivariate relationships\n",
    "\n",
    "\n",
    "#### 1.1.1) Scatterplots\n",
    "Scatterplots are the most common and effective tools for visualizing the relationship between two numeric variables.\n",
    "\n",
    "The `ncbirths` dataset is a random sample of 1,000 cases taken from a larger dataset collected in 2004. Each case describes the birth of a single child born in North Carolina, along with various characteristics of the child (e.g. birth weight, length of gestation, etc.), the child's mother (e.g. age, weight gained during pregnancy, smoking habits, etc.) and the child's father (e.g. age). You can view the help file for these data by running `?ncbirths` in the console.\n",
    "\n",
    "**Exercise**\n",
    "Using the ncbirths dataset, make a scatterplot using ggplot() to illustrate how the birth weight of these babies varies according to the number of weeks of gestation.\n",
    "\n",
    "*Answer*"
   ]
  },
  {
   "cell_type": "code",
   "execution_count": 2,
   "metadata": {},
   "outputs": [
    {
     "name": "stderr",
     "output_type": "stream",
     "text": [
      "Warning message:\n",
      "\"Removed 2 rows containing missing values (geom_point).\""
     ]
    },
    {
     "data": {},
     "metadata": {},
     "output_type": "display_data"
    },
    {
     "data": {
      "image/png": "[encoded data removed]",
      "text/plain": [
       "plot without title"
      ]
     },
     "metadata": {},
     "output_type": "display_data"
    }
   ],
   "source": [
    "library(repr)\n",
    "# Change plot size to 4 x 3\n",
    "    options(repr.plot.width=4, repr.plot.height=3)\n",
    "\n",
    "# Scatterplot of weight vs. weeks\n",
    "ggplot(ncbirths, aes(y = weight, x = weeks)) + geom_point()"
   ]
  },
  {
   "cell_type": "markdown",
   "metadata": {},
   "source": [
    "#### 1.1.2) Boxplots as discretized/conditioned scatterplots\n",
    "If it is helpful, you can think of boxplots as scatterplots for which the variable on the x-axis has been discretized.\n",
    "\n",
    "The `cut()` function takes two arguments: the continuous variable you want to discretize and the number of `breaks` that you want to make in that continuous variable in order to discretize it.\n",
    "\n",
    "**Exercise**\n",
    "Using the `ncbirths` dataset again, make a boxplot illustrating how the birth weight of these babies varies according to the number of weeks of gestation. This time, use the cut() function to discretize the x-variable into six intervals (i.e. five breaks).\n",
    "\n",
    "*Answer*"
   ]
  },
  {
   "cell_type": "code",
   "execution_count": 3,
   "metadata": {},
   "outputs": [
    {
     "data": {},
     "metadata": {},
     "output_type": "display_data"
    },
    {
     "data": {
      "image/png": "[encoded data removed]",
      "text/plain": [
       "plot without title"
      ]
     },
     "metadata": {},
     "output_type": "display_data"
    }
   ],
   "source": [
    "library(repr)\n",
    "# Change plot size to 4 x 3\n",
    "    options(repr.plot.width=4, repr.plot.height=3)\n",
    "\n",
    "# Boxplot of weight vs. weeks\n",
    "ggplot(data = ncbirths, \n",
    "       aes(x = cut(weeks, breaks = 5), y = weight)) +  geom_boxplot()"
   ]
  },
  {
   "cell_type": "markdown",
   "metadata": {},
   "source": [
    "### 1.2) (video) Characterizing bivariate relationships\n",
    "scatter plot can reveal patterns and deviation of these patterns, this plot can give us some insights into the natural phenomenon, specifically we are looking 4 things: form, direction,strength, outliers:\n",
    "\n",
    "Form is overall shape makes by the points (linear or non-linear)\n",
    "Direction (eg. positve or negative)\n",
    "Strength (how much scatter/noise?)\n",
    "Outliers\n",
    "\n",
    "#### 1.2.1) Creating scatterplots\n",
    "Creating scatterplots is simple and they are so useful that is it worthwhile to expose yourself to many examples. Over time, you will gain familiarity with the types of patterns that you see. You will begin to recognize how scatterplots can reveal the nature of the relationship between two variables.\n",
    "\n",
    "In this exercise, and throughout this chapter, we will be using several datasets listed below. These data are available through the `openintro` package. Briefly:\n",
    "\n",
    "1. The `mammals` dataset contains information about 39 different species of mammals, including their body weight, brain weight, gestation time, and a few other variables.\n",
    "2. The `mlbBat10` dataset contains batting statistics for 1,199 Major League Baseball players during the 2010 season.\n",
    "3. The `bdims` dataset contains body girth and skeletal diameter measurements for 507 physically active individuals.\n",
    "4. The `smoking` dataset contains information on the smoking habits of 1,691 citizens of the United Kingdom.\n",
    "\n",
    "To see more thorough documentation, use the ? or help() functions.\n",
    "\n",
    "**Exercise**\n",
    "1. Using the mammals dataset, create a scatterplot illustrating how the brain weight of a mammal varies as a function of its body weight.\n",
    "2. Using the mlbBat10 dataset, create a scatterplot illustrating how the slugging percentage (SLG) of a player varies as a function of his on-base percentage (OBP).\n",
    "3. Using the bdims dataset, create a scatterplot illustrating how a person's weight varies as a function of their height. Use color to separate by sex, which you'll need to coerce to a factor with factor().\n",
    "4. Using the smoking dataset, create a scatterplot illustrating how the amount that a person smokes on weekdays varies as a function of their age.\n",
    "\n",
    "*Answer*"
   ]
  },
  {
   "cell_type": "code",
   "execution_count": 4,
   "metadata": {},
   "outputs": [
    {
     "data": {},
     "metadata": {},
     "output_type": "display_data"
    },
    {
     "data": {},
     "metadata": {},
     "output_type": "display_data"
    },
    {
     "data": {
      "image/png": "[encoded data removed]",
      "text/plain": [
       "plot without title"
      ]
     },
     "metadata": {},
     "output_type": "display_data"
    },
    {
     "data": {},
     "metadata": {},
     "output_type": "display_data"
    },
    {
     "data": {
      "image/png": "[encoded data removed]",
      "text/plain": [
       "plot without title"
      ]
     },
     "metadata": {},
     "output_type": "display_data"
    },
    {
     "name": "stderr",
     "output_type": "stream",
     "text": [
      "Warning message:\n",
      "\"Removed 1270 rows containing missing values (geom_point).\""
     ]
    },
    {
     "data": {},
     "metadata": {},
     "output_type": "display_data"
    },
    {
     "data": {
      "image/png": "[encoded data removed]",
      "text/plain": [
       "plot without title"
      ]
     },
     "metadata": {},
     "output_type": "display_data"
    },
    {
     "data": {
      "image/png": "[encoded data removed]",
      "text/plain": [
       "plot without title"
      ]
     },
     "metadata": {},
     "output_type": "display_data"
    }
   ],
   "source": [
    "library(repr)\n",
    "# Change plot size to 4 x 3\n",
    "    options(repr.plot.width=4, repr.plot.height=3)\n",
    "\n",
    "# Mammals scatterplot\n",
    "ggplot(mammals, aes(x = BodyWt, y = BrainWt)) + geom_point()\n",
    "\n",
    "# Baseball player scatterplot\n",
    "ggplot(mlbBat10, aes(x = OBP, y = SLG)) + geom_point()\n",
    "\n",
    "# Body dimensions scatterplot\n",
    "ggplot(data = bdims, aes(x = hgt, y = wgt, color = factor(sex))) +\n",
    "  geom_point()\n",
    "\n",
    "# Smoking scatterplot\n",
    "ggplot(smoking, aes(x = age, y = amtWeekdays)) + geom_point()\n"
   ]
  },
  {
   "cell_type": "markdown",
   "metadata": {},
   "source": [
    "####  1.2.2) Transformations\n",
    "The relationship between two variables may not be linear. In these cases we can sometimes see strange and even inscrutable patterns in a scatterplot of the data. Sometimes there really is no meaningful relationship between the two variables. Other times, a careful transformation of one or both of the variables can reveal a clear relationship.\n",
    "\n",
    "Recall the bizarre pattern that you saw in the scatterplot between brain weight and body weight among mammals in a previous exercise. Can we use transformations to clarify this relationship?\n",
    "\n",
    "`ggplot2` provides several different mechanisms for viewing transformed relationships. The `coord_trans()` function transforms the coordinates of the plot. Alternatively, the `scale_x_log10()` and `scale_y_log10()` functions perform a base-10 log transformation of each axis. Note the differences in the appearance of the axes.\n",
    "\n",
    "The mammals dataset is available in your workspace.\n",
    "\n",
    "**Exercise**\n",
    "1. Use coord_trans() to create a scatterplot showing how a mammal's brain weight varies as a function of its body weight, where both the x and y axes are on a \"log10\" scale.\n",
    "2. Use scale_x_log10() and scale_y_log10() to achieve the same effect but with different axis labels and grid lines.\n",
    "\n",
    "*Answer*"
   ]
  },
  {
   "cell_type": "code",
   "execution_count": 5,
   "metadata": {},
   "outputs": [
    {
     "data": {},
     "metadata": {},
     "output_type": "display_data"
    },
    {
     "data": {},
     "metadata": {},
     "output_type": "display_data"
    },
    {
     "data": {
      "image/png": "[encoded data removed]",
      "text/plain": [
       "plot without title"
      ]
     },
     "metadata": {},
     "output_type": "display_data"
    },
    {
     "data": {},
     "metadata": {},
     "output_type": "display_data"
    },
    {
     "data": {
      "image/png": "[encoded data removed]",
      "text/plain": [
       "plot without title"
      ]
     },
     "metadata": {},
     "output_type": "display_data"
    },
    {
     "data": {
      "image/png": "[encoded data removed]",
      "text/plain": [
       "plot without title"
      ]
     },
     "metadata": {},
     "output_type": "display_data"
    }
   ],
   "source": [
    "library(repr)\n",
    "# Change plot size to 4 x 3\n",
    "    options(repr.plot.width=4, repr.plot.height=3)\n",
    "\n",
    "# Scatterplot with coord_trans()\n",
    "ggplot(mammals, aes(x = BodyWt, y = BrainWt)) +\n",
    "  geom_point() + \n",
    "  coord_trans(x = \"log10\", y = \"log10\")\n",
    "\n",
    "# Scatterplot with scale_x_log10() and scale_y_log10()\n",
    "ggplot(data = mammals, aes(x = BodyWt, y = BrainWt)) +\n",
    "  geom_point() +\n",
    "  scale_x_log10() + \n",
    "  scale_y_log10()\n",
    "\n",
    "# log over the data (it´s my idea)\n",
    "ggplot(data = mammals, aes(x = log(BodyWt), y = log(BrainWt))) +\n",
    "  geom_point()\n"
   ]
  },
  {
   "cell_type": "markdown",
   "metadata": {},
   "source": [
    "### 1.3) (video) Outliers\n",
    "\n",
    "#### 1.3.1) Identifying outliers\n",
    "In Chapter 5, we will discuss how outliers can affect the results of a linear regression model and how we can deal with them. For now, it is enough to simply identify them and note how the relationship between two variables may change as a result of removing outliers.\n",
    "\n",
    "Recall that in the baseball example earlier in the chapter, most of the points were clustered in the lower left corner of the plot, making it difficult to see the general pattern of the majority of the data. This difficulty was caused by a few outlying players whose on-base percentages (OBPs) were exceptionally high. These values are present in our dataset only because these players had very few batting opportunities.\n",
    "\n",
    "Both OBP and SLG are known as rate statistics, since they measure the frequency of certain events (as opposed to their count). In order to compare these rates sensibly, it makes sense to include only players with a reasonable number of opportunities, so that these observed rates have the chance to approach their long-run frequencies.\n",
    "\n",
    "In Major League Baseball, batters qualify for the batting title only if they have 3.1 plate appearances per game. This translates into roughly 502 plate appearances in a 162-game season. The `mlbBat10` dataset does not include plate appearances as a variable, but we can use at-bats (`AB`) -- which constitute a subset of plate appearances -- as a proxy.\n",
    "\n",
    "**Exercise**\n",
    "1. Use filter() to keep only players who had at least 200 at-bats, assigning to ab_gt_200.\n",
    "2. Using ab_gt_200, create a scatterplot for SLG as a function of OBP.\n",
    "3. Find the row of ab_gt_200 corresponding to the one player (with at least 200 at-bats) whose OBP was below 0.200."
   ]
  },
  {
   "cell_type": "code",
   "execution_count": 6,
   "metadata": {},
   "outputs": [
    {
     "data": {},
     "metadata": {},
     "output_type": "display_data"
    },
    {
     "data": {
      "image/png": "[encoded data removed]",
      "text/plain": [
       "plot without title"
      ]
     },
     "metadata": {},
     "output_type": "display_data"
    }
   ],
   "source": [
    "library(repr)\n",
    "# Change plot size to 4 x 3\n",
    "    options(repr.plot.width=4, repr.plot.height=3) \n",
    "\n",
    "# Scatterplot of SLG vs. OBP\n",
    "ggplot(mlbBat10, aes(x = OBP, y = SLG)) +\n",
    "  geom_point()"
   ]
  },
  {
   "cell_type": "markdown",
   "metadata": {},
   "source": [
    "*Answer*"
   ]
  },
  {
   "cell_type": "code",
   "execution_count": 7,
   "metadata": {},
   "outputs": [
    {
     "data": {},
     "metadata": {},
     "output_type": "display_data"
    },
    {
     "data": {
      "text/html": [
       "<table>\n",
       "<thead><tr><th scope=col>name</th><th scope=col>team</th><th scope=col>position</th><th scope=col>G</th><th scope=col>AB</th><th scope=col>R</th><th scope=col>H</th><th scope=col>2B</th><th scope=col>3B</th><th scope=col>HR</th><th scope=col>RBI</th><th scope=col>TB</th><th scope=col>BB</th><th scope=col>SO</th><th scope=col>SB</th><th scope=col>CS</th><th scope=col>OBP</th><th scope=col>SLG</th><th scope=col>AVG</th></tr></thead>\n",
       "<tbody>\n",
       "\t<tr><td>B Wood</td><td>LAA   </td><td>3B    </td><td>81    </td><td>226   </td><td>20    </td><td>33    </td><td>2     </td><td>0     </td><td>4     </td><td>14    </td><td>47    </td><td>6     </td><td>71    </td><td>1     </td><td>0     </td><td>0.174 </td><td>0.208 </td><td>0.146 </td></tr>\n",
       "</tbody>\n",
       "</table>\n"
      ],
      "text/latex": [
       "\\begin{tabular}{r|lllllllllllllllllll}\n",
       " name & team & position & G & AB & R & H & 2B & 3B & HR & RBI & TB & BB & SO & SB & CS & OBP & SLG & AVG\\\\\n",
       "\\hline\n",
       "\t B Wood & LAA    & 3B     & 81     & 226    & 20     & 33     & 2      & 0      & 4      & 14     & 47     & 6      & 71     & 1      & 0      & 0.174  & 0.208  & 0.146 \\\\\n",
       "\\end{tabular}\n"
      ],
      "text/markdown": [
       "\n",
       "name | team | position | G | AB | R | H | 2B | 3B | HR | RBI | TB | BB | SO | SB | CS | OBP | SLG | AVG | \n",
       "|---|\n",
       "| B Wood | LAA    | 3B     | 81     | 226    | 20     | 33     | 2      | 0      | 4      | 14     | 47     | 6      | 71     | 1      | 0      | 0.174  | 0.208  | 0.146  | \n",
       "\n",
       "\n"
      ],
      "text/plain": [
       "  name   team position G  AB  R  H  2B 3B HR RBI TB BB SO SB CS OBP   SLG  \n",
       "1 B Wood LAA  3B       81 226 20 33 2  0  4  14  47 6  71 1  0  0.174 0.208\n",
       "  AVG  \n",
       "1 0.146"
      ]
     },
     "metadata": {},
     "output_type": "display_data"
    },
    {
     "data": {
      "image/png": "[encoded data removed]",
      "text/plain": [
       "plot without title"
      ]
     },
     "metadata": {},
     "output_type": "display_data"
    }
   ],
   "source": [
    "library(repr)\n",
    "# Change plot size to 4 x 3\n",
    "    options(repr.plot.width=4, repr.plot.height=3)\n",
    "\n",
    "# Filter for AB greater than or equal to 200\n",
    "ab_gt_200 <- mlbBat10 %>%\n",
    "  filter(AB>= 200) \n",
    "\n",
    "# Scatterplot of SLG vs. OBP\n",
    "ggplot(ab_gt_200, aes(x = OBP, y = SLG)) +\n",
    "  geom_point()\n",
    "\n",
    "# Identify the outlying player\n",
    "ab_gt_200 %>%\n",
    "  filter(OBP <= .200)"
   ]
  },
  {
   "cell_type": "markdown",
   "metadata": {},
   "source": [
    "## 2) Correlation\n",
    "This chapter introduces correlation as a means of quantifying bivariate relationships.\n",
    "\n",
    "### 2.1) (video) Quantifying the strength of bivariate relationships\n",
    "he correlation is the way to quantify strength of linear regression, this measure is between -1 to 1, the sign indique us the direction and the magnitud tells us the strength, if our correlation coeficient is :\n",
    "\n",
    "    near to 1, perfect positive correlation.\n",
    "    near to .7, we call that kind of correlation strong\n",
    "    neart to .5, it´s moderate \n",
    "    near to .2, it´s weak\n",
    "    neat to 0, there isn´t correlation\n",
    "\n",
    "Pearson product-moment correlation\n",
    "\n",
    "    r(x,y) = Cov(x,y) / sqrt(Sxx * Syy)\n",
    "    \n",
    "#### 2.1.3)  Computing correlation\n",
    "The `cor(x, y)` function will compute the Pearson product-moment correlation between variables, `x` and `y`. Since this quantity is symmetric with respect to `x` and `y`, it doesn't matter in which order you put the variables.\n",
    "\n",
    "At the same time, the `cor()` function is very conservative when it encounters missing data (e.g. `NA`s). The `use` argument allows you to override the default behavior of returning `NA` whenever any of the values encountered is `NA`. Setting the `use` argument to `\"pairwise.complete.obs\"` allows `cor()` to compute the correlation coefficient for those observations where the values of x and y are both not missing.\n",
    "\n",
    "**Exercise**\n",
    "1. Use cor() to compute the correlation between the birthweight of babies in the ncbirths dataset and their mother's age. There is no missing data in either variable.\n",
    "2. Compute the correlation between the birthweight and the number of weeks of gestation for all non-missing pairs.\n",
    "\n",
    "*Answer*"
   ]
  },
  {
   "cell_type": "code",
   "execution_count": 8,
   "metadata": {},
   "outputs": [
    {
     "data": {
      "text/html": [
       "<table>\n",
       "<thead><tr><th scope=col>N</th><th scope=col>r</th></tr></thead>\n",
       "<tbody>\n",
       "\t<tr><td>1000      </td><td>0.05506589</td></tr>\n",
       "</tbody>\n",
       "</table>\n"
      ],
      "text/latex": [
       "\\begin{tabular}{r|ll}\n",
       " N & r\\\\\n",
       "\\hline\n",
       "\t 1000       & 0.05506589\\\\\n",
       "\\end{tabular}\n"
      ],
      "text/markdown": [
       "\n",
       "N | r | \n",
       "|---|\n",
       "| 1000       | 0.05506589 | \n",
       "\n",
       "\n"
      ],
      "text/plain": [
       "  N    r         \n",
       "1 1000 0.05506589"
      ]
     },
     "metadata": {},
     "output_type": "display_data"
    },
    {
     "data": {
      "text/html": [
       "<table>\n",
       "<thead><tr><th scope=col>N</th><th scope=col>r</th></tr></thead>\n",
       "<tbody>\n",
       "\t<tr><td>1000     </td><td>0.6701013</td></tr>\n",
       "</tbody>\n",
       "</table>\n"
      ],
      "text/latex": [
       "\\begin{tabular}{r|ll}\n",
       " N & r\\\\\n",
       "\\hline\n",
       "\t 1000      & 0.6701013\\\\\n",
       "\\end{tabular}\n"
      ],
      "text/markdown": [
       "\n",
       "N | r | \n",
       "|---|\n",
       "| 1000      | 0.6701013 | \n",
       "\n",
       "\n"
      ],
      "text/plain": [
       "  N    r        \n",
       "1 1000 0.6701013"
      ]
     },
     "metadata": {},
     "output_type": "display_data"
    }
   ],
   "source": [
    "# Compute correlation\n",
    "ncbirths %>%\n",
    "  summarize(N = n(), r = cor(weight, mage))\n",
    "\n",
    "# Compute correlation for all non-missing pairs\n",
    "ncbirths %>%\n",
    "  summarize(N = n(), r = cor(weight, weeks, use = \"pairwise.complete.obs\"))"
   ]
  },
  {
   "cell_type": "markdown",
   "metadata": {},
   "source": [
    "### 2.2 (video) The Anscombe dataset\n",
    "\n",
    "\n",
    "#### 2.1) Exploring Anscombe\n",
    "In 1973, Francis Anscombe famously created four datasets with remarkably similar numerical properties, but obviously different graphic relationships. The `Anscombe` dataset contains the `x` and `y `coordinates for these four datasets, along with a grouping variable, `set`, that distinguishes the quartet.\n",
    "\n",
    "It may be helpful to remind yourself of the graphic relationship by viewing the four scatterplots:\n"
   ]
  },
  {
   "cell_type": "code",
   "execution_count": 9,
   "metadata": {},
   "outputs": [
    {
     "data": {},
     "metadata": {},
     "output_type": "display_data"
    },
    {
     "data": {
      "image/png": "[encoded data removed]",
      "text/plain": [
       "plot without title"
      ]
     },
     "metadata": {},
     "output_type": "display_data"
    }
   ],
   "source": [
    "library(repr)\n",
    "# Change plot size to 4 x 3\n",
    "    options(repr.plot.width=6, repr.plot.height=4)\n",
    "\n",
    "ggplot(data = Anscombe, aes(x = x, y = y)) +\n",
    "  geom_point() +\n",
    "  facet_wrap(~ set)\n"
   ]
  },
  {
   "cell_type": "markdown",
   "metadata": {},
   "source": [
    "**exercise**\n",
    "\n",
    "For each of the four sets of data points in the Anscombe dataset, compute the following in the order specified. Names are provided in your call to summarize().\n",
    "\n",
    "    Number of observations, N\n",
    "    Mean of x\n",
    "    Standard deviation of x\n",
    "    Mean of y\n",
    "    Standard deviation of y\n",
    "    Correlation coefficient between x and y\n",
    "\n",
    "*answers*"
   ]
  },
  {
   "cell_type": "code",
   "execution_count": 10,
   "metadata": {},
   "outputs": [
    {
     "data": {
      "text/html": [
       "<table>\n",
       "<thead><tr><th scope=col>set</th><th scope=col>N</th><th scope=col>mean_of_x</th><th scope=col>std_dev_of_x</th><th scope=col>mean_of_y</th><th scope=col>std_dev_of_y</th><th scope=col>correlation_between_x_and_y</th></tr></thead>\n",
       "<tbody>\n",
       "\t<tr><td>x1       </td><td>11       </td><td>9        </td><td>3.316625 </td><td>7.500909 </td><td>2.031568 </td><td>0.8164205</td></tr>\n",
       "\t<tr><td>x2       </td><td>11       </td><td>9        </td><td>3.316625 </td><td>7.500909 </td><td>2.031657 </td><td>0.8162365</td></tr>\n",
       "\t<tr><td>x3       </td><td>11       </td><td>9        </td><td>3.316625 </td><td>7.500000 </td><td>2.030424 </td><td>0.8162867</td></tr>\n",
       "\t<tr><td>x4       </td><td>11       </td><td>9        </td><td>3.316625 </td><td>7.500909 </td><td>2.030579 </td><td>0.8165214</td></tr>\n",
       "</tbody>\n",
       "</table>\n"
      ],
      "text/latex": [
       "\\begin{tabular}{r|lllllll}\n",
       " set & N & mean\\_of\\_x & std\\_dev\\_of\\_x & mean\\_of\\_y & std\\_dev\\_of\\_y & correlation\\_between\\_x\\_and\\_y\\\\\n",
       "\\hline\n",
       "\t x1        & 11        & 9         & 3.316625  & 7.500909  & 2.031568  & 0.8164205\\\\\n",
       "\t x2        & 11        & 9         & 3.316625  & 7.500909  & 2.031657  & 0.8162365\\\\\n",
       "\t x3        & 11        & 9         & 3.316625  & 7.500000  & 2.030424  & 0.8162867\\\\\n",
       "\t x4        & 11        & 9         & 3.316625  & 7.500909  & 2.030579  & 0.8165214\\\\\n",
       "\\end{tabular}\n"
      ],
      "text/markdown": [
       "\n",
       "set | N | mean_of_x | std_dev_of_x | mean_of_y | std_dev_of_y | correlation_between_x_and_y | \n",
       "|---|---|---|---|\n",
       "| x1        | 11        | 9         | 3.316625  | 7.500909  | 2.031568  | 0.8164205 | \n",
       "| x2        | 11        | 9         | 3.316625  | 7.500909  | 2.031657  | 0.8162365 | \n",
       "| x3        | 11        | 9         | 3.316625  | 7.500000  | 2.030424  | 0.8162867 | \n",
       "| x4        | 11        | 9         | 3.316625  | 7.500909  | 2.030579  | 0.8165214 | \n",
       "\n",
       "\n"
      ],
      "text/plain": [
       "  set N  mean_of_x std_dev_of_x mean_of_y std_dev_of_y\n",
       "1 x1  11 9         3.316625     7.500909  2.031568    \n",
       "2 x2  11 9         3.316625     7.500909  2.031657    \n",
       "3 x3  11 9         3.316625     7.500000  2.030424    \n",
       "4 x4  11 9         3.316625     7.500909  2.030579    \n",
       "  correlation_between_x_and_y\n",
       "1 0.8164205                  \n",
       "2 0.8162365                  \n",
       "3 0.8162867                  \n",
       "4 0.8165214                  "
      ]
     },
     "metadata": {},
     "output_type": "display_data"
    }
   ],
   "source": [
    "# Compute properties of Anscombe\n",
    "Anscombe %>%\n",
    "  group_by(set) %>%\n",
    "  summarize(\n",
    "    N = n(), \n",
    "    mean_of_x = mean(x), \n",
    "    std_dev_of_x = sd(x), \n",
    "    mean_of_y = mean(y), \n",
    "    std_dev_of_y = sd(y), \n",
    "    correlation_between_x_and_y = cor(x,y)\n",
    "  )"
   ]
  },
  {
   "cell_type": "markdown",
   "metadata": {},
   "source": [
    "**Note** We can see that these 4 sets have the same main measures but at the same time have different graphics\n",
    "\n",
    "#### 2.1.2) Perception of correlation (2)\n",
    "Estimating the value of the correlation coefficient between two quantities from their scatterplot can be tricky. Statisticians have shown that people's perception of the strength of these relationships can be influenced by design choices like the x and y scales.\n",
    "\n",
    "Nevertheless, with some practice your perception of correlation will improve. Toggle through the four scatterplots in the plotting window, each of which you've seen in a previous exercise. Jot down your best estimate of the value of the correlation coefficient between each pair of variables. Then, compare these values to the actual values you compute in this exercise.\n",
    "\n",
    "If you're having trouble recalling variable names, it may help to preview a dataset in the console with str() or glimpse().\n",
    "\n",
    "**Exercise**\n",
    "1. Draw the plot then calculate the correlation between OBP and SLG for all players in the mlbBat10 dataset.\n",
    "2. Draw the plot then calculate the correlation between OBP and SLG for all players in the mlbBat10 dataset with at least 200 at-bats.\n",
    "3. Draw the plot then calculate the correlation between height and weight for each sex in the bdims dataset.\n",
    "4. Draw the plot then calculate the correlation between body weight and brain weight for all species of mammals. Alongside this computation, compute the correlation between the same two quantities after taking their natural logarithms.\n",
    "\n",
    "*Anwers*"
   ]
  },
  {
   "cell_type": "code",
   "execution_count": 11,
   "metadata": {},
   "outputs": [
    {
     "data": {},
     "metadata": {},
     "output_type": "display_data"
    },
    {
     "data": {
      "text/html": [
       "<table>\n",
       "<thead><tr><th scope=col>N</th><th scope=col>r</th></tr></thead>\n",
       "<tbody>\n",
       "\t<tr><td>1199     </td><td>0.8145628</td></tr>\n",
       "</tbody>\n",
       "</table>\n"
      ],
      "text/latex": [
       "\\begin{tabular}{r|ll}\n",
       " N & r\\\\\n",
       "\\hline\n",
       "\t 1199      & 0.8145628\\\\\n",
       "\\end{tabular}\n"
      ],
      "text/markdown": [
       "\n",
       "N | r | \n",
       "|---|\n",
       "| 1199      | 0.8145628 | \n",
       "\n",
       "\n"
      ],
      "text/plain": [
       "  N    r        \n",
       "1 1199 0.8145628"
      ]
     },
     "metadata": {},
     "output_type": "display_data"
    },
    {
     "data": {},
     "metadata": {},
     "output_type": "display_data"
    },
    {
     "data": {
      "image/png": "[encoded data removed]",
      "text/plain": [
       "plot without title"
      ]
     },
     "metadata": {},
     "output_type": "display_data"
    },
    {
     "data": {
      "text/html": [
       "<table>\n",
       "<thead><tr><th scope=col>N</th><th scope=col>r</th></tr></thead>\n",
       "<tbody>\n",
       "\t<tr><td>329      </td><td>0.6855364</td></tr>\n",
       "</tbody>\n",
       "</table>\n"
      ],
      "text/latex": [
       "\\begin{tabular}{r|ll}\n",
       " N & r\\\\\n",
       "\\hline\n",
       "\t 329       & 0.6855364\\\\\n",
       "\\end{tabular}\n"
      ],
      "text/markdown": [
       "\n",
       "N | r | \n",
       "|---|\n",
       "| 329       | 0.6855364 | \n",
       "\n",
       "\n"
      ],
      "text/plain": [
       "  N   r        \n",
       "1 329 0.6855364"
      ]
     },
     "metadata": {},
     "output_type": "display_data"
    },
    {
     "data": {},
     "metadata": {},
     "output_type": "display_data"
    },
    {
     "data": {
      "image/png": "[encoded data removed]",
      "text/plain": [
       "plot without title"
      ]
     },
     "metadata": {},
     "output_type": "display_data"
    },
    {
     "data": {
      "text/html": [
       "<table>\n",
       "<thead><tr><th scope=col>sex</th><th scope=col>N</th><th scope=col>r</th></tr></thead>\n",
       "<tbody>\n",
       "\t<tr><td>0        </td><td>260      </td><td>0.4310593</td></tr>\n",
       "\t<tr><td>1        </td><td>247      </td><td>0.5347418</td></tr>\n",
       "</tbody>\n",
       "</table>\n"
      ],
      "text/latex": [
       "\\begin{tabular}{r|lll}\n",
       " sex & N & r\\\\\n",
       "\\hline\n",
       "\t 0         & 260       & 0.4310593\\\\\n",
       "\t 1         & 247       & 0.5347418\\\\\n",
       "\\end{tabular}\n"
      ],
      "text/markdown": [
       "\n",
       "sex | N | r | \n",
       "|---|---|\n",
       "| 0         | 260       | 0.4310593 | \n",
       "| 1         | 247       | 0.5347418 | \n",
       "\n",
       "\n"
      ],
      "text/plain": [
       "  sex N   r        \n",
       "1 0   260 0.4310593\n",
       "2 1   247 0.5347418"
      ]
     },
     "metadata": {},
     "output_type": "display_data"
    },
    {
     "data": {},
     "metadata": {},
     "output_type": "display_data"
    },
    {
     "data": {
      "image/png": "[encoded data removed]",
      "text/plain": [
       "plot without title"
      ]
     },
     "metadata": {},
     "output_type": "display_data"
    },
    {
     "data": {
      "text/html": [
       "<table>\n",
       "<thead><tr><th scope=col>N</th><th scope=col>r</th><th scope=col>r_log</th></tr></thead>\n",
       "<tbody>\n",
       "\t<tr><td>62       </td><td>0.9341638</td><td>0.9595748</td></tr>\n",
       "</tbody>\n",
       "</table>\n"
      ],
      "text/latex": [
       "\\begin{tabular}{r|lll}\n",
       " N & r & r\\_log\\\\\n",
       "\\hline\n",
       "\t 62        & 0.9341638 & 0.9595748\\\\\n",
       "\\end{tabular}\n"
      ],
      "text/markdown": [
       "\n",
       "N | r | r_log | \n",
       "|---|\n",
       "| 62        | 0.9341638 | 0.9595748 | \n",
       "\n",
       "\n"
      ],
      "text/plain": [
       "  N  r         r_log    \n",
       "1 62 0.9341638 0.9595748"
      ]
     },
     "metadata": {},
     "output_type": "display_data"
    },
    {
     "data": {
      "image/png": "[encoded data removed]",
      "text/plain": [
       "plot without title"
      ]
     },
     "metadata": {},
     "output_type": "display_data"
    }
   ],
   "source": [
    "library(repr)\n",
    "# Change plot size to 4 x 3\n",
    "    options(repr.plot.width=4, repr.plot.height=3)\n",
    "\n",
    "# Run this and look at the plot\n",
    "ggplot(data = mlbBat10, aes(x = OBP, y = SLG)) +\n",
    "  geom_point()\n",
    "\n",
    "# Correlation for all baseball players\n",
    "mlbBat10 %>%\n",
    "  summarize(N = n(), r = cor(OBP, SLG))\n",
    "\n",
    "\n",
    "\n",
    "# Run this and look at the plot\n",
    "mlbBat10 %>% \n",
    "    filter(AB > 200) %>%\n",
    "    ggplot(aes(x = OBP, y = SLG)) + \n",
    "    geom_point()\n",
    "\n",
    "# Correlation for all players with at least 200 ABs\n",
    "mlbBat10 %>%\n",
    "  filter(AB >= 200) %>%\n",
    "  summarize(N = n(), r = cor(OBP, SLG))\n",
    "\n",
    "\n",
    "\n",
    "# Run this and look at the plot\n",
    "ggplot(data = bdims, aes(x = hgt, y = wgt, color = factor(sex))) +\n",
    "  geom_point() \n",
    "\n",
    "# Correlation of body dimensions\n",
    "bdims %>%\n",
    "  group_by(sex) %>%\n",
    "  summarize(N = n(), r = cor(hgt, wgt))\n",
    "\n",
    "\n",
    "\n",
    "# Run this and look at the plot\n",
    "ggplot(data = mammals, aes(x = BodyWt, y = BrainWt)) +\n",
    "  geom_point() + scale_x_log10() + scale_y_log10()\n",
    "\n",
    "# Correlation among mammals, with and without log\n",
    "mammals %>%\n",
    "  summarize(N = n(), \n",
    "            r = cor(BodyWt, BrainWt), \n",
    "            r_log = cor(log(BodyWt), log(BrainWt)))"
   ]
  },
  {
   "cell_type": "markdown",
   "metadata": {},
   "source": [
    "### 2.3) (video) Interpretation of correlation\n",
    "\n",
    "### 2.4) (video) Spurious correlation\n",
    "\n",
    "#### 2.4.1)Spurious correlation in random data\n",
    "Statisticians must always be skeptical of potentially spurious correlations. Human beings are very good at seeing patterns in data, sometimes when the patterns themselves are actually just random noise. To illustrate how easy it can be to fall into this trap, we will look for patterns in truly random data.\n",
    "\n",
    "The `noise` dataset contains 20 sets of `x` and `y` variables drawn at random from a standard normal distribution. Each set, denoted as `z`, has 50 observations of `x`, `y` pairs. Do you see any pairs of variables that might be meaningfully correlated? Are all of the correlation coefficients close to zero?\n",
    "\n",
    "**Exercise**\n",
    "1. Create a faceted scatterplot that shows the relationship between each of the 20 sets of pairs of random variables x and y. You will need the facet_wrap() function for this.\n",
    "2. Compute the actual correlation between each of the 20 sets of pairs of x and y.\n",
    "3. Identify the datasets that show non-trivial correlation of greater than 0.2 in absolute value.\n",
    "\n",
    "*Answer*\n",
    "\n",
    "    # Create faceted scatterplot\n",
    "    ggplot(noise, aes(x = x, y = y)) + geom_point() + facet_wrap(.~z)\n",
    "\n",
    "\n",
    "    # Compute correlations for each dataset\n",
    "    noise_summary <- noise %>%\n",
    "      group_by(z) %>%\n",
    "      summarize(N = n(), spurious_cor = cor(x, y))\n",
    "\n",
    "    # Isolate sets with correlations above 0.2 in absolute strength\n",
    "    noise_summary %>%\n",
    "      filter(abs(spurious_cor) > .2)\n",
    "      \n",
    "## 3) Simple linear regression      \n",
    "With the notion of correlation under your belt, we'll now turn our attention to simple linear models in this chapter.   \n",
    "\n",
    "### 3.1) (video) Visualization of linear models\n",
    "\n",
    "#### 3.1.1) The \"best fit\" line\n",
    "The simple linear regression model for a numeric response as a function of a numeric explanatory variable can be visualized on the corresponding scatterplot by a straight line. This is a \"best fit\" line that cuts through the data in a way that minimizes the distance between the line and the data points.\n",
    "\n",
    "We might consider linear regression to be a specific example of a larger class of smooth models. The `geom_smooth()` function allows you to draw such models over a scatterplot of the data itself. This technique is known as visualizing the model in the data space. The `method` argument to `geom_smooth()` allows you to specify what class of smooth model you want to see. Since we are exploring linear models, we'll set this argument to the value `\"lm\"`.\n",
    "\n",
    "Note that geom_smooth() also takes an `s`e argument that controls the standard error, which we will ignore for now.\n",
    "\n",
    "**Exercise**   \n",
    "Create a scatterplot of body weight as a function of height for all individuals in the `bdims` dataset with a simple linear model plotted over the data\n",
    "\n",
    "*Answer*"
   ]
  },
  {
   "cell_type": "code",
   "execution_count": 12,
   "metadata": {},
   "outputs": [
    {
     "data": {},
     "metadata": {},
     "output_type": "display_data"
    },
    {
     "data": {
      "image/png": "[encoded data removed]",
      "text/plain": [
       "plot without title"
      ]
     },
     "metadata": {},
     "output_type": "display_data"
    }
   ],
   "source": [
    "library(repr)\n",
    "# Change plot size to 4 x 3\n",
    "    options(repr.plot.width=4, repr.plot.height=3)\n",
    "\n",
    "# Scatterplot with regression line\n",
    "ggplot(data = bdims, aes(x = hgt, y = wgt)) + \n",
    "  geom_point() + \n",
    "  geom_smooth(method = \"lm\", se = FALSE)\n"
   ]
  },
  {
   "cell_type": "markdown",
   "metadata": {},
   "source": [
    "#### 3.1.2) Uniqueness of least squares regression line\n",
    "The least squares criterion implies that the slope of the regression line is unique. In practice, the slope is computed by R. In this exercise, you will experiment with trying to find the optimal value for the regression slope for weight as a function of height in the `bdims` dataset via trial-and-error.\n",
    "\n",
    "To help, we've built a custom function for you called `add_line()`, which takes a single argument: the proposed slope coefficient.\n",
    "\n",
    "**Exercise**\n",
    "The bdims dataset is available in your workspace. Experiment with different values (to the nearest integer) of the my_slope parameter until you find one that you think fits best.\n",
    "\n",
    "*Note, It´s necesary to create a function, it´s avalible in your work space. \n",
    "\n",
    "*Answer*"
   ]
  },
  {
   "cell_type": "code",
   "execution_count": 13,
   "metadata": {},
   "outputs": [],
   "source": [
    "add_line<- function (my_slope) {\n",
    "\n",
    "  bdims_summary <- bdims %>%\n",
    "    summarize(N = n(), r = cor(hgt, wgt),\n",
    "              mean_hgt = mean(hgt), mean_wgt = mean(wgt),\n",
    "              sd_hgt = sd(hgt), sd_wgt = sd(wgt)) %>%\n",
    "    mutate(true_slope = r * sd_wgt / sd_hgt, \n",
    "           true_intercept = mean_wgt - true_slope * mean_hgt)\n",
    "  p <- ggplot(data = bdims, aes(x = hgt, y = wgt)) + \n",
    "    geom_point() + \n",
    "    geom_point(data = bdims_summary, \n",
    "               aes(x = mean_hgt, y = mean_wgt), \n",
    "               color = \"red\", size = 3)\n",
    "  \n",
    "  my_data <- bdims_summary %>%\n",
    "    mutate(my_slope = my_slope, \n",
    "           my_intercept = mean_wgt - my_slope * mean_hgt)\n",
    "  p + geom_abline(data = my_data, \n",
    "                  aes(intercept = my_intercept, slope = my_slope), color = \"dodgerblue\")\n",
    "}"
   ]
  },
  {
   "cell_type": "code",
   "execution_count": 14,
   "metadata": {},
   "outputs": [
    {
     "data": {},
     "metadata": {},
     "output_type": "display_data"
    },
    {
     "data": {
      "image/png": "[encoded data removed]",
      "text/plain": [
       "plot without title"
      ]
     },
     "metadata": {},
     "output_type": "display_data"
    }
   ],
   "source": [
    "library(repr)\n",
    "# Change plot size to 4 x 3\n",
    "    options(repr.plot.width=4, repr.plot.height=3)\n",
    "\n",
    "# Estimate optimal value of my_slope\n",
    "add_line(my_slope = 1)"
   ]
  },
  {
   "cell_type": "markdown",
   "metadata": {},
   "source": [
    "### 3.2) (video) Understanding the linear model\n",
    "    \n",
    "    response = fun(explanatory) + noise\n",
    "    response = intercept + (slope * explanatory) + noise\n",
    "    Y=β0+β1⋅X+ϵ, where ϵ∼N(0,σϵ).\n",
    "    \n",
    "\n",
    "#### 3.2.1) Regression model terminology\n",
    "Consider a linear regression model of the form:\n",
    "\n",
    "    Y=β0+β1⋅X+ϵ, where ϵ∼N(0,σϵ).\n",
    "\n",
    "The slope coefficient is: B1\n",
    "\n",
    "#### 3.2.2) Fitting a linear model \"by hand\"\n",
    "Recall the simple linear regression model:\n",
    "\n",
    "    Y=b0+b1⋅X\n",
    "\n",
    "Two facts enable you to compute the slope b1 and intercept b0 of a simple linear regression model from some basic summary statistics.\n",
    "\n",
    "First, the slope can be defined as:\n",
    "\n",
    "    b1=rX,Y⋅sYsX\n",
    "\n",
    "where rX,Y represents the correlation (cor()) of X and Y and sX and sY represent the standard deviation (sd()) of X and Y, respectively.\n",
    "\n",
    "Second, the point (x¯,y¯) is always on the least squares regression line, where x¯ and y¯ denote the average of x and y, respectively.\n",
    "\n",
    "The bdims_summary data frame contains all of the information you need to compute the slope and intercept of the least squares regression line for body weight (Y) as a function of height (X). You might need to do some algebra to solve for b0!\n",
    "\n",
    "    Y =b0 + b1⋅X #solve by b0\n",
    "    Y - b1⋅X =b0 #so we can use de point (x¯,y¯)\n",
    "\n",
    "**Exercise**\n",
    "\n",
    "Print the bdims_summary data frame.\n",
    "Use mutate() to add the slope and intercept to the bdims_summary data frame.\n",
    "\n",
    "*Answer*"
   ]
  },
  {
   "cell_type": "code",
   "execution_count": 15,
   "metadata": {},
   "outputs": [
    {
     "data": {
      "text/html": [
       "<table>\n",
       "<thead><tr><th scope=col>N</th><th scope=col>r</th><th scope=col>mean_hgt</th><th scope=col>mean_wgt</th><th scope=col>sd_hgt</th><th scope=col>sd_wgt</th></tr></thead>\n",
       "<tbody>\n",
       "\t<tr><td>507      </td><td>0.7173011</td><td>171.1438 </td><td>69.14753 </td><td>9.407205 </td><td>13.34576 </td></tr>\n",
       "</tbody>\n",
       "</table>\n"
      ],
      "text/latex": [
       "\\begin{tabular}{r|llllll}\n",
       " N & r & mean\\_hgt & mean\\_wgt & sd\\_hgt & sd\\_wgt\\\\\n",
       "\\hline\n",
       "\t 507       & 0.7173011 & 171.1438  & 69.14753  & 9.407205  & 13.34576 \\\\\n",
       "\\end{tabular}\n"
      ],
      "text/markdown": [
       "\n",
       "N | r | mean_hgt | mean_wgt | sd_hgt | sd_wgt | \n",
       "|---|\n",
       "| 507       | 0.7173011 | 171.1438  | 69.14753  | 9.407205  | 13.34576  | \n",
       "\n",
       "\n"
      ],
      "text/plain": [
       "  N   r         mean_hgt mean_wgt sd_hgt   sd_wgt  \n",
       "1 507 0.7173011 171.1438 69.14753 9.407205 13.34576"
      ]
     },
     "metadata": {},
     "output_type": "display_data"
    },
    {
     "data": {
      "text/html": [
       "<table>\n",
       "<thead><tr><th scope=col>N</th><th scope=col>r</th><th scope=col>mean_hgt</th><th scope=col>mean_wgt</th><th scope=col>sd_hgt</th><th scope=col>sd_wgt</th><th scope=col>slope</th><th scope=col>intercept</th></tr></thead>\n",
       "<tbody>\n",
       "\t<tr><td>507      </td><td>0.7173011</td><td>171.1438 </td><td>69.14753 </td><td>9.407205 </td><td>13.34576 </td><td>1.017617 </td><td>-105.0113</td></tr>\n",
       "</tbody>\n",
       "</table>\n"
      ],
      "text/latex": [
       "\\begin{tabular}{r|llllllll}\n",
       " N & r & mean\\_hgt & mean\\_wgt & sd\\_hgt & sd\\_wgt & slope & intercept\\\\\n",
       "\\hline\n",
       "\t 507       & 0.7173011 & 171.1438  & 69.14753  & 9.407205  & 13.34576  & 1.017617  & -105.0113\\\\\n",
       "\\end{tabular}\n"
      ],
      "text/markdown": [
       "\n",
       "N | r | mean_hgt | mean_wgt | sd_hgt | sd_wgt | slope | intercept | \n",
       "|---|\n",
       "| 507       | 0.7173011 | 171.1438  | 69.14753  | 9.407205  | 13.34576  | 1.017617  | -105.0113 | \n",
       "\n",
       "\n"
      ],
      "text/plain": [
       "  N   r         mean_hgt mean_wgt sd_hgt   sd_wgt   slope    intercept\n",
       "1 507 0.7173011 171.1438 69.14753 9.407205 13.34576 1.017617 -105.0113"
      ]
     },
     "metadata": {},
     "output_type": "display_data"
    }
   ],
   "source": [
    "library(repr)\n",
    "# Change plot size to 4 x 3\n",
    "    options(repr.plot.width=4, repr.plot.height=3)\n",
    "\n",
    "bdims_summary <- bdims %>%\n",
    "  summarize(N = n(), r = cor(hgt, wgt),\n",
    "            mean_hgt = mean(hgt), mean_wgt = mean(wgt),\n",
    "            sd_hgt = sd(hgt), sd_wgt = sd(wgt))\n",
    "\n",
    "bdims_summary\n",
    "\n",
    "# Add slope and intercept\n",
    "bdims_summary %>%\n",
    "  mutate(slope = r * sd_wgt / sd_hgt, \n",
    "         intercept = mean_wgt - slope * mean_hgt)\n",
    "         "
   ]
  },
  {
   "cell_type": "markdown",
   "metadata": {},
   "source": [
    "### 3.3) (video) Regression vs. regression to the mean\n",
    "\n",
    "#### 3.3.1) Regression to the mean\n",
    "`Regression to the mean` is a concept attributed to Sir Francis Galton. The basic idea is that extreme random observations will tend to be less extreme upon a second trial. This is simply due to chance alone. While \"regression to the mean\" and \"linear regression\" are not the same thing, we will examine them together in this exercise.\n",
    "\n",
    "One way to see the effects of regression to the mean is to compare the heights of parents to their children's heights. While it is true that tall mothers and fathers tend to have tall children, those children tend to be less tall than their parents, relative to average. That is, fathers who are 3 inches taller than the average father tend to have children who may be taller than average, but by less than 3 inches.\n",
    "\n",
    "The Galton_men and Galton_women datasets contain data originally collected by Galton himself in the 1880s on the heights of men and women, respectively, along with their parents' heights.\n",
    "\n",
    "Compare the slope of the regression line to the slope of the diagonal line. What does this tell you?\n",
    "\n",
    "**Exercise**\n",
    "1. Create a scatterplot of the height of men as a function of their father's height. Add the simple linear regression line and a diagonal line (with slope equal to 1 and intercept equal to 0) to the plot.\n",
    "2. Create a scatterplot of the height of women as a function of their mother's height. Add the simple linear regression line and a diagonal line to the plot.\n",
    "\n",
    "*Answer*\n",
    "\n",
    "    # Height of children vs. height of father\n",
    "    ggplot(data = Galton_men, aes(x = father, y = height)) +\n",
    "      geom_point() + \n",
    "      geom_abline(slope = 1, intercept = 0) + \n",
    "      geom_smooth(method = \"lm\", se = FALSE)\n",
    "\n",
    "    # Height of children vs. height of mother\n",
    "    ggplot(data = Galton_women, aes(x = mother, y = height)) +\n",
    "      geom_point() + \n",
    "      geom_abline(slope = 1, intercept = 0) + \n",
    "      geom_smooth(method = \"lm\", se = FALSE)"
   ]
  },
  {
   "cell_type": "markdown",
   "metadata": {},
   "source": [
    "## 4) Interpreting regression models\n",
    "This chapter looks at how to interpret the coefficients in a regression model.\n",
    "\n",
    "### 4.1) (video) Interpretation of regression coefficients\n",
    "\n",
    "#### 4.1.1) Fitting simple linear models\n",
    "While the `geom_smooth(method = \"lm\")` function is useful for drawing linear models on a scatterplot, it doesn't actually return the characteristics of the model. As suggested by that syntax, however, the function that creates linear models is `lm()`. This function generally takes two arguments:\n",
    "\n",
    "1. A formula that specifies the model\n",
    "2. A data argument for the data frame that contains the data you want to use to fit the model\n",
    "\n",
    "The `lm(`) function return a model object having class `\"lm\"`. This object contains lots of information about your regression model, including the data used to fit the model, the specification of the model, the fitted values and residuals, etc.\n",
    "\n",
    "\n",
    "**Exercise**\n",
    "1. Using the bdims dataset, create a linear model for the weight of people as a function of their height.\n",
    "2. Using the mlbBat10 dataset, create a linear model for SLG as a function of OBP.\n",
    "2. Using the mammals dataset, create a linear model for the body weight of mammals as a function of their brain weight, after taking the natural log of both variables.\n",
    "\n",
    "*Answer*"
   ]
  },
  {
   "cell_type": "code",
   "execution_count": 16,
   "metadata": {},
   "outputs": [
    {
     "data": {
      "text/plain": [
       "\n",
       "Call:\n",
       "lm(formula = wgt ~ hgt, data = bdims)\n",
       "\n",
       "Coefficients:\n",
       "(Intercept)          hgt  \n",
       "   -105.011        1.018  \n"
      ]
     },
     "metadata": {},
     "output_type": "display_data"
    },
    {
     "data": {
      "text/plain": [
       "\n",
       "Call:\n",
       "lm(formula = SLG ~ OBP, data = mlbBat10)\n",
       "\n",
       "Coefficients:\n",
       "(Intercept)          OBP  \n",
       "   0.009407     1.110323  \n"
      ]
     },
     "metadata": {},
     "output_type": "display_data"
    },
    {
     "data": {
      "text/plain": [
       "\n",
       "Call:\n",
       "lm(formula = log(BodyWt) ~ log(BrainWt), data = mammals)\n",
       "\n",
       "Coefficients:\n",
       " (Intercept)  log(BrainWt)  \n",
       "      -2.509         1.225  \n"
      ]
     },
     "metadata": {},
     "output_type": "display_data"
    }
   ],
   "source": [
    "# Linear model for weight as a function of height\n",
    "lm(wgt ~ hgt, data = bdims)\n",
    "\n",
    "# Linear model for SLG as a function of OBP\n",
    "lm(SLG~OBP, data = mlbBat10)\n",
    "\n",
    "# Log-linear model for body weight as a function of brain weight\n",
    "lm(log(BodyWt)~log(BrainWt), data = mammals)"
   ]
  },
  {
   "cell_type": "markdown",
   "metadata": {},
   "source": [
    "### 4.2 (video) Your linear model object\n",
    "in the previous module you can saw `\"lm\"` function, but know that if you create a variable that containt this kind object you will obtain a `\"lm\"` object, it´s not a dataframe, it´s not a list or vector, so you can access to some functions like `summary`,`coef`,`fitted.values` and `residuals` function.\n",
    "\n",
    "#### 4.2.1) The lm summary output\n",
    "An `\"lm\"` object contains a host of information about the regression model that you fit. There are various ways of extracting different pieces of information.\n",
    "\n",
    "The `coef()` function displays only the values of the coefficients. Conversely, the `summary()` function displays not only that information, but a bunch of other information, including the associated standard error and p-value for each coefficient, the `R2`, adjusted `R2`, and the residual standard error. The summary of an `\"lm\"` object in R is very similar to the output you would see in other statistical computing environments (e.g. Stata, SPSS, etc.)\n",
    "\n",
    "\n",
    "**Exercise**\n",
    "We have already created the mod object, a linear model for the weight of individuals as a function of their height, using the bdims dataset and the code\n",
    "\n",
    "    mod <- lm(wgt ~ hgt, data = bdims)\n",
    "\n",
    "Now, you will:\n",
    "\n",
    "1. Use coef() to display the coefficients of mod.\n",
    "2. Use summary() to display the full regression output of mod\n",
    "\n",
    "*Answer*"
   ]
  },
  {
   "cell_type": "code",
   "execution_count": 17,
   "metadata": {},
   "outputs": [
    {
     "data": {
      "text/html": [
       "<dl class=dl-horizontal>\n",
       "\t<dt>(Intercept)</dt>\n",
       "\t\t<dd>-105.011254168143</dd>\n",
       "\t<dt>hgt</dt>\n",
       "\t\t<dd>1.01761677567046</dd>\n",
       "</dl>\n"
      ],
      "text/latex": [
       "\\begin{description*}\n",
       "\\item[(Intercept)] -105.011254168143\n",
       "\\item[hgt] 1.01761677567046\n",
       "\\end{description*}\n"
      ],
      "text/markdown": [
       "(Intercept)\n",
       ":   -105.011254168143hgt\n",
       ":   1.01761677567046\n",
       "\n"
      ],
      "text/plain": [
       "(Intercept)         hgt \n",
       "-105.011254    1.017617 "
      ]
     },
     "metadata": {},
     "output_type": "display_data"
    },
    {
     "data": {
      "text/plain": [
       "\n",
       "Call:\n",
       "lm(formula = wgt ~ hgt, data = bdims)\n",
       "\n",
       "Residuals:\n",
       "    Min      1Q  Median      3Q     Max \n",
       "-18.743  -6.402  -1.231   5.059  41.103 \n",
       "\n",
       "Coefficients:\n",
       "              Estimate Std. Error t value Pr(>|t|)    \n",
       "(Intercept) -105.01125    7.53941  -13.93   <2e-16 ***\n",
       "hgt            1.01762    0.04399   23.14   <2e-16 ***\n",
       "---\n",
       "Signif. codes:  0 '***' 0.001 '**' 0.01 '*' 0.05 '.' 0.1 ' ' 1\n",
       "\n",
       "Residual standard error: 9.308 on 505 degrees of freedom\n",
       "Multiple R-squared:  0.5145,\tAdjusted R-squared:  0.5136 \n",
       "F-statistic: 535.2 on 1 and 505 DF,  p-value: < 2.2e-16\n"
      ]
     },
     "metadata": {},
     "output_type": "display_data"
    }
   ],
   "source": [
    " mod <- lm(wgt ~ hgt, data = bdims)\n",
    "\n",
    "# Show the coefficients\n",
    "coef(mod)\n",
    "\n",
    "# Show the full output\n",
    "summary(mod)"
   ]
  },
  {
   "cell_type": "markdown",
   "metadata": {},
   "source": [
    "#### 4.2.2) Fitted values and residuals\n",
    "Once you have fit a regression model, you are often interested in the fitted values (`y^i`) and the residuals (ei), where i indexes the observations. Recall that:\n",
    "\n",
    "    ei=yi−y^i #note y^i it´s a parameter like y_hat, but we don´t know how can write it´s in jupyter\n",
    "    \n",
    "The least squares fitting procedure guarantees that the mean of the residuals is zero (n.b., numerical instability may result in the computed values not being exactly zero). At the same time, the mean of the fitted values must equal the mean of the response variable.\n",
    "\n",
    "In this exercise, we will confirm these two mathematical facts by accessing the fitted values and residuals with the `fitted.values()` and `residuals()` functions, respectively, for the following model:\n",
    "\n",
    "    mod <- lm(wgt ~ hgt, data = bdims)\n",
    "    \n",
    "**Exercise**\n",
    "mod (defined above) is available in your workspace.\n",
    "\n",
    "1. Confirm that the mean of the body weights equals the mean of the fitted values of mod.\n",
    "2. Compute the mean of the residuals of mod.\n",
    "\n",
    "*Answer*"
   ]
  },
  {
   "cell_type": "code",
   "execution_count": 18,
   "metadata": {},
   "outputs": [
    {
     "data": {
      "text/html": [
       "TRUE"
      ],
      "text/latex": [
       "TRUE"
      ],
      "text/markdown": [
       "TRUE"
      ],
      "text/plain": [
       "[1] TRUE"
      ]
     },
     "metadata": {},
     "output_type": "display_data"
    },
    {
     "data": {
      "text/html": [
       "-3.26593343646821e-16"
      ],
      "text/latex": [
       "-3.26593343646821e-16"
      ],
      "text/markdown": [
       "-3.26593343646821e-16"
      ],
      "text/plain": [
       "[1] -3.265933e-16"
      ]
     },
     "metadata": {},
     "output_type": "display_data"
    }
   ],
   "source": [
    "# Mean of weights equal to mean of fitted values?\n",
    "mean(bdims$wgt) == mean(fitted.values(mod))\n",
    "\n",
    "# Mean of the residuals\n",
    "mean(residuals(mod))"
   ]
  },
  {
   "cell_type": "markdown",
   "metadata": {},
   "source": [
    "#### 4.2.3) Tidying your linear model\n",
    "As you fit a regression model, there are some quantities (e.g. R2) that apply to the model as a whole, while others apply to each observation (e.g. y^i). If there are several of these per-observation quantities, it is sometimes convenient to attach them to the original data as new variables.\n",
    "\n",
    "The `augment()` function from the `broom` package does exactly this. It takes a model object as an argument and returns a data frame that contains the data on which the model was fit, along with several quantities specific to the regression model, including the fitted values, residuals, leverage scores, and standardized residuals.\n",
    "\n",
    "\n",
    "**Exercise**\n",
    "The same linear model from the last exercise, mod, is available in your workspace.\n",
    "\n",
    "1. Load the broom package.\n",
    "2. Create a new data frame called bdims_tidy that is the augmentation of the mod linear model.\n",
    "3. View the bdims_tidy data frame using glimpse()\n",
    "\n",
    "*Answer*"
   ]
  },
  {
   "cell_type": "code",
   "execution_count": 19,
   "metadata": {},
   "outputs": [
    {
     "name": "stdout",
     "output_type": "stream",
     "text": [
      "Observations: 507\n",
      "Variables: 9\n",
      "$ wgt        <dbl> 65.6, 71.8, 80.7, 72.6, 78.8, 74.8, 86.4, 78.4, 62.0, 81...\n",
      "$ hgt        <dbl> 174.0, 175.3, 193.5, 186.5, 187.2, 181.5, 184.0, 184.5, ...\n",
      "$ .fitted    <dbl> 72.05406, 73.37697, 91.89759, 84.77427, 85.48661, 79.686...\n",
      "$ .se.fit    <dbl> 0.4320546, 0.4520060, 1.0667332, 0.7919264, 0.8183471, 0...\n",
      "$ .resid     <dbl> -6.4540648, -1.5769666, -11.1975919, -12.1742745, -6.686...\n",
      "$ .hat       <dbl> 0.002154570, 0.002358152, 0.013133942, 0.007238576, 0.00...\n",
      "$ .sigma     <dbl> 9.312824, 9.317005, 9.303732, 9.301360, 9.312471, 9.3147...\n",
      "$ .cooksd    <dbl> 5.201807e-04, 3.400330e-05, 9.758463e-03, 6.282074e-03, ...\n",
      "$ .std.resid <dbl> -0.69413418, -0.16961994, -1.21098084, -1.31269063, -0.7...\n"
     ]
    }
   ],
   "source": [
    "# Load broom\n",
    "library(\"broom\")\n",
    "\n",
    "# Create bdims_tidy\n",
    "bdims_tidy<-augment(mod)\n",
    "\n",
    "# Glimpse the resulting data frame\n",
    "glimpse(bdims_tidy)"
   ]
  },
  {
   "cell_type": "markdown",
   "metadata": {},
   "source": [
    "### 4.3) (video) Using your linear model\n",
    "\n",
    "#### 4.3.1) Making predictions\n",
    "The `fitted.values()` function or the `augment()`-ed data frame provides us with the fitted values for the observations that were in the original data. However, once we have fit the model, we may want to compute expected values for observations that were **not** present in the data on which the model was fit. These types of predictions are called out-of-sample.\n",
    "\n",
    "The `ben` data frame contains a height and weight observation for one person. The `mod` object contains the fitted model for weight as a function of height for the observations in the `bdims` dataset. We can use the `predict()` function to generate expected values for the weight of new individuals. We must pass the data frame of new observations through the `newdata` argument.\n",
    "\n",
    "**Exercise**\n",
    "The same linear model, mod, is defined in your workspace.\n",
    "\n",
    "1. Print ben to the console.\n",
    "2. Use predict() with the newdata argument to compute the expected height of the individual in the ben data frame.\n",
    "\n",
    "*Answer*"
   ]
  },
  {
   "cell_type": "code",
   "execution_count": 20,
   "metadata": {},
   "outputs": [
    {
     "data": {
      "text/html": [
       "<table>\n",
       "<thead><tr><th scope=col>wgt</th><th scope=col>hgt</th></tr></thead>\n",
       "<tbody>\n",
       "\t<tr><td>74.8 </td><td>182.8</td></tr>\n",
       "</tbody>\n",
       "</table>\n"
      ],
      "text/latex": [
       "\\begin{tabular}{r|ll}\n",
       " wgt & hgt\\\\\n",
       "\\hline\n",
       "\t 74.8  & 182.8\\\\\n",
       "\\end{tabular}\n"
      ],
      "text/markdown": [
       "\n",
       "wgt | hgt | \n",
       "|---|\n",
       "| 74.8  | 182.8 | \n",
       "\n",
       "\n"
      ],
      "text/plain": [
       "  wgt  hgt  \n",
       "1 74.8 182.8"
      ]
     },
     "metadata": {},
     "output_type": "display_data"
    },
    {
     "data": {
      "text/html": [
       "<strong>1:</strong> 81.0090924244176"
      ],
      "text/latex": [
       "\\textbf{1:} 81.0090924244176"
      ],
      "text/markdown": [
       "**1:** 81.0090924244176"
      ],
      "text/plain": [
       "       1 \n",
       "81.00909 "
      ]
     },
     "metadata": {},
     "output_type": "display_data"
    }
   ],
   "source": [
    "\n",
    "ben<-data.frame(wgt = 74.8, hgt = 182.8)\n",
    "mod <- lm(wgt ~ hgt, data = bdims)\n",
    "\n",
    "# Print ben\n",
    "ben\n",
    "\n",
    "# Predict the weight of ben\n",
    "predict(mod, newdata = ben)"
   ]
  },
  {
   "cell_type": "markdown",
   "metadata": {},
   "source": [
    "#### 4.3.2) Adding a regression line to a plot manually\n",
    "The `geom_smooth()` function makes it easy to add a simple linear regression line to a scatterplot of the corresponding variables. And in fact, there are more complicated regression models that can be visualized in the data space with `geom_smooth()`. However, there may still be times when we will want to add regression lines to our scatterplot manually. To do this, we will use the `geom_abline()` function, which takes `slope` and `intercept` arguments. Naturally, we have to compute those values ahead of time, but we already saw how to do this (e.g. using `coef()`).\n",
    "\n",
    "The `coefs` data frame contains the model estimates retrieved from `coef()`. Passing this to `geom_abline()` as the data argument will enable you to draw a straight line on your scatterplot\n",
    "\n",
    "**Exercise**\n",
    "Use geom_abline() to add a line defined in the coefs data frame to a scatterplot of weight vs. height for individuals in the bdims dataset.\n",
    "\n",
    "*Answer*\n",
    "    \n",
    "    #note i can´t recreate this exercise because my variable coefs is not a data frame\n",
    "    # Add the line to the scatterplot\n",
    "    ggplot(data = bdims, aes(x = hgt, y = wgt)) + \n",
    "      geom_point() + \n",
    "      geom_abline(data = coefs, \n",
    "                  aes(intercept = `(Intercept)`, slope = hgt),  \n",
    "                  color = \"dodgerblue\")\n"
   ]
  },
  {
   "cell_type": "markdown",
   "metadata": {},
   "source": [
    "## 4) Model Fit\n",
    "In this final chapter, you'll learn how to assess the \"fit\" of a simple linear regression model.\n",
    "\n",
    "### 4.1) (video) Assessing model fit\n",
    "SSE: sum square error = Sum(error^2)\n",
    "RMSE, basically it´s standard deviation of residuals = sqrt(SSE/degree of freedom) \n",
    "\n",
    "#### Standard error of residuals\n",
    "One way to assess strength of fit is to consider how far off the model is for a typical case. That is, for some observations, the fitted value will be very close to the actual value, while for others it will not. The magnitude of a typical residual can give us a sense of generally how close our estimates are.\n",
    "\n",
    "However, recall that some of the residuals are positive, while others are negative. In fact, it is guaranteed by the least squares fitting procedure that the mean of the residuals is zero. Thus, it makes more sense to compute the square root of the mean squared residual, or root mean squared error (RMSE). R calls this quantity the residual standard error.\n",
    "\n",
    "To make this estimate unbiased, you have to divide the sum of the squared residuals by the degrees of freedom in the model. Thus,\n",
    "\n",
    "    RMSE= sqrt(SSE/degree of freedom) = sqrt(Sum(error^2)/degree of freedom)\n",
    "\n",
    "You can recover the residuals from mod with `residuals()`, and the degrees of freedom with `df.residual()`.\n",
    "\n",
    "**Exercise**\n",
    "1. View a summary() of mod.\n",
    "2. Compute the mean of the residuals() and verify that it is approximately zero.\n",
    "3. Use residuals() and df.residual() to compute the root mean squared error (RMSE), a.k.a. residual standard error.\n",
    "\n",
    "*Answer*\n"
   ]
  },
  {
   "cell_type": "code",
   "execution_count": 21,
   "metadata": {},
   "outputs": [
    {
     "data": {
      "text/plain": [
       "\n",
       "Call:\n",
       "lm(formula = wgt ~ hgt, data = bdims)\n",
       "\n",
       "Residuals:\n",
       "    Min      1Q  Median      3Q     Max \n",
       "-18.743  -6.402  -1.231   5.059  41.103 \n",
       "\n",
       "Coefficients:\n",
       "              Estimate Std. Error t value Pr(>|t|)    \n",
       "(Intercept) -105.01125    7.53941  -13.93   <2e-16 ***\n",
       "hgt            1.01762    0.04399   23.14   <2e-16 ***\n",
       "---\n",
       "Signif. codes:  0 '***' 0.001 '**' 0.01 '*' 0.05 '.' 0.1 ' ' 1\n",
       "\n",
       "Residual standard error: 9.308 on 505 degrees of freedom\n",
       "Multiple R-squared:  0.5145,\tAdjusted R-squared:  0.5136 \n",
       "F-statistic: 535.2 on 1 and 505 DF,  p-value: < 2.2e-16\n"
      ]
     },
     "metadata": {},
     "output_type": "display_data"
    },
    {
     "data": {
      "text/html": [
       "-3.26593343646821e-16"
      ],
      "text/latex": [
       "-3.26593343646821e-16"
      ],
      "text/markdown": [
       "-3.26593343646821e-16"
      ],
      "text/plain": [
       "[1] -3.265933e-16"
      ]
     },
     "metadata": {},
     "output_type": "display_data"
    },
    {
     "data": {
      "text/html": [
       "9.30804036190487"
      ],
      "text/latex": [
       "9.30804036190487"
      ],
      "text/markdown": [
       "9.30804036190487"
      ],
      "text/plain": [
       "[1] 9.30804"
      ]
     },
     "metadata": {},
     "output_type": "display_data"
    }
   ],
   "source": [
    "# View summary of model\n",
    "summary(mod)\n",
    "\n",
    "# Compute the mean of the residuals\n",
    "mean(residuals(mod))\n",
    "\n",
    "# Compute RMSE\n",
    "sqrt(sum(residuals(mod)^2) / df.residual(mod))"
   ]
  },
  {
   "cell_type": "markdown",
   "metadata": {},
   "source": [
    "### 4.2) (video) Comparing model fits\n",
    "in the previous chapter you saw how can use SSE to interpreted how well can fit the model to our data, but if we want to compare this measure through different types of model, we need a benchmark\n",
    "\n",
    "a sensible choise would be average of all lenghts and in fact if you have to make the same prediction for all measures the average it´s the best number that you can pick, we can think our model like y_hat = y bar (average of y) this model it´s called null model  or null (average) model, we can do this model in R using lm in our model and 1 as responde variable  (e.g lm(y~1, data = d.f ) ) and compare its SST (sum e ^2)  versus our SSE that we obtain in our model and the ration beetwen our SSE and SST it´s a quantification of variability explains by our model.\n",
    "\n",
    "    (coefficiente of determination) R^2= 1- SSE/SST = 1 - Var(e)/Var(y)\n",
    "\n",
    "#### 4.2.1) Assessing simple linear model fit\n",
    "Recall that the coefficient of determination (R^2), can be computed as\n",
    "\n",
    "    R^2=1−SSE/SST =1 − Var(e)/Var(y),\n",
    "    \n",
    "where `e` is the vector of residuals and `y` is the response variable. This gives us the interpretation of `R^2` as the percentage of the variability in the response that is explained by the model, since the residuals are the part of that variability that remains unexplained by the model.\n",
    "\n",
    "**Exercise**\n",
    "The bdims_tidy data frame is the result of augment()-ing the bdims data frame with the mod for wgt as a function of hgt.\n",
    "\n",
    "1. Use the summary() function to view the full results of mod.\n",
    "2. Use the bdims_tidy data frame to compute the R^2 of mod manually using the formula above, by computing the ratio of the variance of the residuals to the variance of the response variable.\n",
    "\n",
    "*Answer*\n"
   ]
  },
  {
   "cell_type": "code",
   "execution_count": 22,
   "metadata": {},
   "outputs": [
    {
     "data": {
      "text/plain": [
       "\n",
       "Call:\n",
       "lm(formula = wgt ~ hgt, data = bdims)\n",
       "\n",
       "Residuals:\n",
       "    Min      1Q  Median      3Q     Max \n",
       "-18.743  -6.402  -1.231   5.059  41.103 \n",
       "\n",
       "Coefficients:\n",
       "              Estimate Std. Error t value Pr(>|t|)    \n",
       "(Intercept) -105.01125    7.53941  -13.93   <2e-16 ***\n",
       "hgt            1.01762    0.04399   23.14   <2e-16 ***\n",
       "---\n",
       "Signif. codes:  0 '***' 0.001 '**' 0.01 '*' 0.05 '.' 0.1 ' ' 1\n",
       "\n",
       "Residual standard error: 9.308 on 505 degrees of freedom\n",
       "Multiple R-squared:  0.5145,\tAdjusted R-squared:  0.5136 \n",
       "F-statistic: 535.2 on 1 and 505 DF,  p-value: < 2.2e-16\n"
      ]
     },
     "metadata": {},
     "output_type": "display_data"
    },
    {
     "data": {
      "text/html": [
       "<table>\n",
       "<thead><tr><th scope=col>var_y</th><th scope=col>var_e</th><th scope=col>R_squared</th></tr></thead>\n",
       "<tbody>\n",
       "\t<tr><td>178.1094 </td><td>86.46839 </td><td>0.5145208</td></tr>\n",
       "</tbody>\n",
       "</table>\n"
      ],
      "text/latex": [
       "\\begin{tabular}{r|lll}\n",
       " var\\_y & var\\_e & R\\_squared\\\\\n",
       "\\hline\n",
       "\t 178.1094  & 86.46839  & 0.5145208\\\\\n",
       "\\end{tabular}\n"
      ],
      "text/markdown": [
       "\n",
       "var_y | var_e | R_squared | \n",
       "|---|\n",
       "| 178.1094  | 86.46839  | 0.5145208 | \n",
       "\n",
       "\n"
      ],
      "text/plain": [
       "  var_y    var_e    R_squared\n",
       "1 178.1094 86.46839 0.5145208"
      ]
     },
     "metadata": {},
     "output_type": "display_data"
    }
   ],
   "source": [
    "# View model summary\n",
    "summary(mod)\n",
    "\n",
    "# Compute R-squared\n",
    "bdims_tidy %>%\n",
    "  summarize(var_y = var(wgt), var_e = var(.resid)) %>%\n",
    "  mutate(R_squared = 1 - var_e / var_y)"
   ]
  },
  {
   "cell_type": "markdown",
   "metadata": {},
   "source": [
    "#### 4.2.2) Linear vs. average\n",
    "The R^2 gives us a numerical measurement of the strength of fit relative to a null model based on the average of the response variable\n",
    "\n",
    "    y_hat null = y_avg\n",
    "    \n",
    "This model has an R^2 of zero because SSE=SST. That is, since the fitted values (y_hat null) are all equal to the average (y¯), the residual for each observation is the distance between that observation and the mean of the response. Since we can always fit the null model, it serves as a baseline against which all other models will be compared.    \n",
    "\n",
    "In the graphic, we visualize the residuals for the null model (`mod_null` at left) vs. the simple linear regression model (`mod_hgt` at right) with height as a single explanatory variable. Try to convince yourself that, if you squared the lengths of the grey arrows on the left and summed them up, you would get a larger value than if you performed the same operation on the grey arrows on the right.\n",
    "\n",
    "It may be useful to preview these `augment()`-ed data frames with `glimpse()`:\n",
    "\n",
    "    glimpse(mod_null)\n",
    "    glimpse(mod_hgt)\n",
    "  \n",
    "\n",
    "**Exercise**\n",
    "1. Compute the sum of the squared residuals (SSE) for the null model mod_null.\n",
    "2. Compute the sum of the squared residuals (SSE) for the regression model mod_hgt.\n",
    "\n",
    "*Answer*\n",
    "\n",
    "    # Compute SSE for null model\n",
    "    mod_null %>%\n",
    "      summarize(SSE = var(.resid))\n",
    "\n",
    "    # Compute SSE for regression model\n",
    "    mod_hgt %>%\n",
    "      summarize(SSE = var(.resid))      "
   ]
  },
  {
   "cell_type": "markdown",
   "metadata": {},
   "source": [
    "### 4.3) (video) Unusual points\n",
    "\n",
    "#### 4.3.1) Leverage\n",
    "The leverage of an observation in a regression model is defined entirely in terms of the distance of that observation from the mean of the explanatory variable. That is, observations close to the mean of the explanatory variable have low leverage, while observations far from the mean of the explanatory variable have high leverage. Points of high leverage may or may not be influential.\n",
    "\n",
    "The augment() function from the broom package will add the leverage scores (.hat) to a model data frame."
   ]
  },
  {
   "cell_type": "code",
   "execution_count": 23,
   "metadata": {},
   "outputs": [
    {
     "data": {},
     "metadata": {},
     "output_type": "display_data"
    },
    {
     "data": {
      "image/png": "[encoded data removed]",
      "text/plain": [
       "plot without title"
      ]
     },
     "metadata": {},
     "output_type": "display_data"
    }
   ],
   "source": [
    "library(repr)\n",
    "# Change plot size to 4 x 3\n",
    "    options(repr.plot.width=5, repr.plot.height=4)\n",
    "\n",
    "mod<- lm(SLG~OBP, data = filter(mlbBat10, AB>=10))\n",
    "ggplot(filter(mlbBat10, AB>=10), aes(x =OBP, y =SLG)) + geom_point()\n"
   ]
  },
  {
   "cell_type": "markdown",
   "metadata": {},
   "source": [
    "**Exercise**\n",
    "Use augment() to list the top 6 observations by their leverage scores, in descending order.\n",
    "\n",
    "*Answer*"
   ]
  },
  {
   "cell_type": "code",
   "execution_count": 24,
   "metadata": {},
   "outputs": [
    {
     "data": {
      "text/html": [
       "<table>\n",
       "<thead><tr><th scope=col>SLG</th><th scope=col>OBP</th><th scope=col>.fitted</th><th scope=col>.se.fit</th><th scope=col>.resid</th><th scope=col>.hat</th><th scope=col>.sigma</th><th scope=col>.cooksd</th><th scope=col>.std.resid</th></tr></thead>\n",
       "<tbody>\n",
       "\t<tr><td>0.000       </td><td>0.000       </td><td>-0.03744579 </td><td>0.009956861 </td><td> 0.03744579 </td><td>0.01939493  </td><td>0.07153050  </td><td>0.0027664282</td><td> 0.5289049  </td></tr>\n",
       "\t<tr><td>0.000       </td><td>0.000       </td><td>-0.03744579 </td><td>0.009956861 </td><td> 0.03744579 </td><td>0.01939493  </td><td>0.07153050  </td><td>0.0027664282</td><td> 0.5289049  </td></tr>\n",
       "\t<tr><td>0.000       </td><td>0.000       </td><td>-0.03744579 </td><td>0.009956861 </td><td> 0.03744579 </td><td>0.01939493  </td><td>0.07153050  </td><td>0.0027664282</td><td> 0.5289049  </td></tr>\n",
       "\t<tr><td>0.308       </td><td>0.550       </td><td> 0.69049108 </td><td>0.009158810 </td><td>-0.38249108 </td><td>0.01641049  </td><td>0.07011360  </td><td>0.2427446800</td><td>-5.3943121  </td></tr>\n",
       "\t<tr><td>0.000       </td><td>0.037       </td><td> 0.01152451 </td><td>0.008770891 </td><td>-0.01152451 </td><td>0.01504981  </td><td>0.07154283  </td><td>0.0002015398</td><td>-0.1624191  </td></tr>\n",
       "\t<tr><td>0.038       </td><td>0.038       </td><td> 0.01284803 </td><td>0.008739031 </td><td> 0.02515197 </td><td>0.01494067  </td><td>0.07153800  </td><td>0.0009528017</td><td> 0.3544561  </td></tr>\n",
       "</tbody>\n",
       "</table>\n"
      ],
      "text/latex": [
       "\\begin{tabular}{r|lllllllll}\n",
       " SLG & OBP & .fitted & .se.fit & .resid & .hat & .sigma & .cooksd & .std.resid\\\\\n",
       "\\hline\n",
       "\t 0.000        & 0.000        & -0.03744579  & 0.009956861  &  0.03744579  & 0.01939493   & 0.07153050   & 0.0027664282 &  0.5289049  \\\\\n",
       "\t 0.000        & 0.000        & -0.03744579  & 0.009956861  &  0.03744579  & 0.01939493   & 0.07153050   & 0.0027664282 &  0.5289049  \\\\\n",
       "\t 0.000        & 0.000        & -0.03744579  & 0.009956861  &  0.03744579  & 0.01939493   & 0.07153050   & 0.0027664282 &  0.5289049  \\\\\n",
       "\t 0.308        & 0.550        &  0.69049108  & 0.009158810  & -0.38249108  & 0.01641049   & 0.07011360   & 0.2427446800 & -5.3943121  \\\\\n",
       "\t 0.000        & 0.037        &  0.01152451  & 0.008770891  & -0.01152451  & 0.01504981   & 0.07154283   & 0.0002015398 & -0.1624191  \\\\\n",
       "\t 0.038        & 0.038        &  0.01284803  & 0.008739031  &  0.02515197  & 0.01494067   & 0.07153800   & 0.0009528017 &  0.3544561  \\\\\n",
       "\\end{tabular}\n"
      ],
      "text/markdown": [
       "\n",
       "SLG | OBP | .fitted | .se.fit | .resid | .hat | .sigma | .cooksd | .std.resid | \n",
       "|---|---|---|---|---|---|\n",
       "| 0.000        | 0.000        | -0.03744579  | 0.009956861  |  0.03744579  | 0.01939493   | 0.07153050   | 0.0027664282 |  0.5289049   | \n",
       "| 0.000        | 0.000        | -0.03744579  | 0.009956861  |  0.03744579  | 0.01939493   | 0.07153050   | 0.0027664282 |  0.5289049   | \n",
       "| 0.000        | 0.000        | -0.03744579  | 0.009956861  |  0.03744579  | 0.01939493   | 0.07153050   | 0.0027664282 |  0.5289049   | \n",
       "| 0.308        | 0.550        |  0.69049108  | 0.009158810  | -0.38249108  | 0.01641049   | 0.07011360   | 0.2427446800 | -5.3943121   | \n",
       "| 0.000        | 0.037        |  0.01152451  | 0.008770891  | -0.01152451  | 0.01504981   | 0.07154283   | 0.0002015398 | -0.1624191   | \n",
       "| 0.038        | 0.038        |  0.01284803  | 0.008739031  |  0.02515197  | 0.01494067   | 0.07153800   | 0.0009528017 |  0.3544561   | \n",
       "\n",
       "\n"
      ],
      "text/plain": [
       "  SLG   OBP   .fitted     .se.fit     .resid      .hat       .sigma    \n",
       "1 0.000 0.000 -0.03744579 0.009956861  0.03744579 0.01939493 0.07153050\n",
       "2 0.000 0.000 -0.03744579 0.009956861  0.03744579 0.01939493 0.07153050\n",
       "3 0.000 0.000 -0.03744579 0.009956861  0.03744579 0.01939493 0.07153050\n",
       "4 0.308 0.550  0.69049108 0.009158810 -0.38249108 0.01641049 0.07011360\n",
       "5 0.000 0.037  0.01152451 0.008770891 -0.01152451 0.01504981 0.07154283\n",
       "6 0.038 0.038  0.01284803 0.008739031  0.02515197 0.01494067 0.07153800\n",
       "  .cooksd      .std.resid\n",
       "1 0.0027664282  0.5289049\n",
       "2 0.0027664282  0.5289049\n",
       "3 0.0027664282  0.5289049\n",
       "4 0.2427446800 -5.3943121\n",
       "5 0.0002015398 -0.1624191\n",
       "6 0.0009528017  0.3544561"
      ]
     },
     "metadata": {},
     "output_type": "display_data"
    }
   ],
   "source": [
    "# Rank points of high leverage\n",
    "mod %>%\n",
    "  augment() %>%\n",
    "  arrange(desc(.hat)) %>%\n",
    "  head()"
   ]
  },
  {
   "cell_type": "markdown",
   "metadata": {},
   "source": [
    "### 4.3.2) Influence\n",
    "As noted previously, observations of high leverage may or may not be `influential`. The influence of an observation depends not only on its leverage, but also on the magnitude of its residual. Recall that while leverage only takes into account the explanatory variable (x), the residual depends on the response variable (y) and the fitted value (y^).\n",
    "\n",
    "Influential points are likely to have high leverage and deviate from the general relationship between the two variables. We measure influence using Cook's distance, which incorporates both the leverage and residual of each observation.\n",
    "\n",
    "**Exercise**\n",
    "Use augment() to list the top 6 observations by their Cook's distance (.cooksd), in descending order.\n",
    "\n",
    "*Answer*"
   ]
  },
  {
   "cell_type": "code",
   "execution_count": 25,
   "metadata": {},
   "outputs": [
    {
     "data": {
      "text/html": [
       "<table>\n",
       "<thead><tr><th scope=col>SLG</th><th scope=col>OBP</th><th scope=col>.fitted</th><th scope=col>.se.fit</th><th scope=col>.resid</th><th scope=col>.hat</th><th scope=col>.sigma</th><th scope=col>.cooksd</th><th scope=col>.std.resid</th></tr></thead>\n",
       "<tbody>\n",
       "\t<tr><td>0.308      </td><td>0.550      </td><td>0.69049108 </td><td>0.009158810</td><td>-0.3824911 </td><td>0.016410487</td><td>0.07011360 </td><td>0.24274468 </td><td>-5.394312  </td></tr>\n",
       "\t<tr><td>0.833      </td><td>0.385      </td><td>0.47211002 </td><td>0.004190644</td><td> 0.3608900 </td><td>0.003435619</td><td>0.07028875 </td><td>0.04407145 </td><td> 5.056428  </td></tr>\n",
       "\t<tr><td>0.800      </td><td>0.455      </td><td>0.56475653 </td><td>0.006186785</td><td> 0.2352435 </td><td>0.007488132</td><td>0.07101125 </td><td>0.04114818 </td><td> 3.302718  </td></tr>\n",
       "\t<tr><td>0.379      </td><td>0.133      </td><td>0.13858258 </td><td>0.005792344</td><td> 0.2404174 </td><td>0.006563752</td><td>0.07098798 </td><td>0.03760256 </td><td> 3.373787  </td></tr>\n",
       "\t<tr><td>0.786      </td><td>0.438      </td><td>0.54225666 </td><td>0.005678026</td><td> 0.2437433 </td><td>0.006307223</td><td>0.07097257 </td><td>0.03712042 </td><td> 3.420018  </td></tr>\n",
       "\t<tr><td>0.231      </td><td>0.077      </td><td>0.06446537 </td><td>0.007506974</td><td> 0.1665346 </td><td>0.011024863</td><td>0.07127661 </td><td>0.03057912 </td><td> 2.342252  </td></tr>\n",
       "</tbody>\n",
       "</table>\n"
      ],
      "text/latex": [
       "\\begin{tabular}{r|lllllllll}\n",
       " SLG & OBP & .fitted & .se.fit & .resid & .hat & .sigma & .cooksd & .std.resid\\\\\n",
       "\\hline\n",
       "\t 0.308       & 0.550       & 0.69049108  & 0.009158810 & -0.3824911  & 0.016410487 & 0.07011360  & 0.24274468  & -5.394312  \\\\\n",
       "\t 0.833       & 0.385       & 0.47211002  & 0.004190644 &  0.3608900  & 0.003435619 & 0.07028875  & 0.04407145  &  5.056428  \\\\\n",
       "\t 0.800       & 0.455       & 0.56475653  & 0.006186785 &  0.2352435  & 0.007488132 & 0.07101125  & 0.04114818  &  3.302718  \\\\\n",
       "\t 0.379       & 0.133       & 0.13858258  & 0.005792344 &  0.2404174  & 0.006563752 & 0.07098798  & 0.03760256  &  3.373787  \\\\\n",
       "\t 0.786       & 0.438       & 0.54225666  & 0.005678026 &  0.2437433  & 0.006307223 & 0.07097257  & 0.03712042  &  3.420018  \\\\\n",
       "\t 0.231       & 0.077       & 0.06446537  & 0.007506974 &  0.1665346  & 0.011024863 & 0.07127661  & 0.03057912  &  2.342252  \\\\\n",
       "\\end{tabular}\n"
      ],
      "text/markdown": [
       "\n",
       "SLG | OBP | .fitted | .se.fit | .resid | .hat | .sigma | .cooksd | .std.resid | \n",
       "|---|---|---|---|---|---|\n",
       "| 0.308       | 0.550       | 0.69049108  | 0.009158810 | -0.3824911  | 0.016410487 | 0.07011360  | 0.24274468  | -5.394312   | \n",
       "| 0.833       | 0.385       | 0.47211002  | 0.004190644 |  0.3608900  | 0.003435619 | 0.07028875  | 0.04407145  |  5.056428   | \n",
       "| 0.800       | 0.455       | 0.56475653  | 0.006186785 |  0.2352435  | 0.007488132 | 0.07101125  | 0.04114818  |  3.302718   | \n",
       "| 0.379       | 0.133       | 0.13858258  | 0.005792344 |  0.2404174  | 0.006563752 | 0.07098798  | 0.03760256  |  3.373787   | \n",
       "| 0.786       | 0.438       | 0.54225666  | 0.005678026 |  0.2437433  | 0.006307223 | 0.07097257  | 0.03712042  |  3.420018   | \n",
       "| 0.231       | 0.077       | 0.06446537  | 0.007506974 |  0.1665346  | 0.011024863 | 0.07127661  | 0.03057912  |  2.342252   | \n",
       "\n",
       "\n"
      ],
      "text/plain": [
       "  SLG   OBP   .fitted    .se.fit     .resid     .hat        .sigma    \n",
       "1 0.308 0.550 0.69049108 0.009158810 -0.3824911 0.016410487 0.07011360\n",
       "2 0.833 0.385 0.47211002 0.004190644  0.3608900 0.003435619 0.07028875\n",
       "3 0.800 0.455 0.56475653 0.006186785  0.2352435 0.007488132 0.07101125\n",
       "4 0.379 0.133 0.13858258 0.005792344  0.2404174 0.006563752 0.07098798\n",
       "5 0.786 0.438 0.54225666 0.005678026  0.2437433 0.006307223 0.07097257\n",
       "6 0.231 0.077 0.06446537 0.007506974  0.1665346 0.011024863 0.07127661\n",
       "  .cooksd    .std.resid\n",
       "1 0.24274468 -5.394312 \n",
       "2 0.04407145  5.056428 \n",
       "3 0.04114818  3.302718 \n",
       "4 0.03760256  3.373787 \n",
       "5 0.03712042  3.420018 \n",
       "6 0.03057912  2.342252 "
      ]
     },
     "metadata": {},
     "output_type": "display_data"
    }
   ],
   "source": [
    "mod %>%\n",
    "  augment() %>%\n",
    "  arrange(desc(.cooksd)) %>%\n",
    "  head()"
   ]
  },
  {
   "cell_type": "markdown",
   "metadata": {},
   "source": [
    "### 4.4) (video) Dealing with unusual points\n",
    "\n",
    "#### 4.4.1) Removing outliers\n",
    "Observations can be outliers for a number of different reasons. Statisticians must always be careful—and more importantly, transparent—when dealing with outliers. Sometimes, a better model fit can be achieved by simply removing outliers and re-fitting the model. However, one must have strong justification for doing this. A desire to have a higher R^2 is not a good enough reason!\n",
    "\n",
    "In the mlbBat10 data, the outlier with an OBP of 0.550 is Bobby Scales, an infielder who had four hits in 13 at-bats for the Chicago Cubs. Scales also walked seven times, resulting in his unusually high OBP. The justification for removing Scales here is weak. While his performance was unusual, there is nothing to suggest that it is not a valid data point, nor is there a good reason to think that somehow we will learn more about Major League Baseball players by excluding him.\n",
    "\n",
    "Nevertheless, we can demonstrate how removing him will affect our model.\n",
    "\n",
    "**Exercise**\n",
    "1. Use filter() to create a subset of mlbBat10 called nontrivial_players consisting of only those players with at least 10 at-bats and OBP of below 0.500.\n",
    "2. Fit the linear model for SLG as a function of OBP for the nontrivial_players. Save the result as mod_cleaner.\n",
    "3. View the summary() of the new model and compare the slope and R2 to those of mod, the original model fit to the data on all players.\n",
    "4. Visualize the new model with ggplot() and the appropriate geom_*() functions.\n",
    "\n",
    "*Answer*"
   ]
  },
  {
   "cell_type": "code",
   "execution_count": 26,
   "metadata": {},
   "outputs": [
    {
     "data": {
      "text/plain": [
       "\n",
       "Call:\n",
       "lm(formula = SLG ~ OBP, data = nontrivial_players)\n",
       "\n",
       "Residuals:\n",
       "     Min       1Q   Median       3Q      Max \n",
       "-0.31383 -0.04165 -0.00261  0.03992  0.35819 \n",
       "\n",
       "Coefficients:\n",
       "             Estimate Std. Error t value Pr(>|t|)    \n",
       "(Intercept) -0.043326   0.009823  -4.411 1.18e-05 ***\n",
       "OBP          1.345816   0.033012  40.768  < 2e-16 ***\n",
       "---\n",
       "Signif. codes:  0 '***' 0.001 '**' 0.01 '*' 0.05 '.' 0.1 ' ' 1\n",
       "\n",
       "Residual standard error: 0.07011 on 734 degrees of freedom\n",
       "Multiple R-squared:  0.6937,\tAdjusted R-squared:  0.6932 \n",
       "F-statistic:  1662 on 1 and 734 DF,  p-value: < 2.2e-16\n"
      ]
     },
     "metadata": {},
     "output_type": "display_data"
    },
    {
     "data": {},
     "metadata": {},
     "output_type": "display_data"
    },
    {
     "data": {
      "image/png": "[encoded data removed]",
      "text/plain": [
       "plot without title"
      ]
     },
     "metadata": {},
     "output_type": "display_data"
    }
   ],
   "source": [
    "library(repr)\n",
    "# Change plot size to 4 x 3\n",
    "    options(repr.plot.width=4, repr.plot.height=3)\n",
    "\n",
    "# Create nontrivial_players\n",
    "nontrivial_players<-filter(mlbBat10, AB>=10 & OBP < .500)\n",
    "\n",
    "# Fit model to new data\n",
    "mod_cleaner<-lm(SLG ~ OBP, data = nontrivial_players)\n",
    "\n",
    "# View model summary\n",
    "summary(mod_cleaner)\n",
    "\n",
    "# Visualize new model\n",
    "ggplot(nontrivial_players, aes(x = OBP, y = SLG)) + \n",
    "geom_point() + \n",
    "geom_smooth(method = \"lm\")"
   ]
  },
  {
   "cell_type": "markdown",
   "metadata": {},
   "source": [
    "#### 4.4.2) High leverage points\n",
    "Not all points of high leverage are influential. While the high leverage observation corresponding to Bobby Scales in the previous exercise is influential, the three observations for players with OBP and SLG values of 0 are not influential.\n",
    "\n",
    "This is because they happen to lie right near the regression anyway. Thus, while their extremely low OBP gives them the power to exert influence over the slope of the regression line, their low SLG prevents them from using it.\n",
    "\n",
    "**Exercise**\n",
    "The linear model, mod, is available in your workspace. Use a combination of augment(), arrange() with two arguments, and head() to find the top 6 observations with the highest leverage but the lowest Cook's distance\n",
    "\n",
    "*Answer*"
   ]
  },
  {
   "cell_type": "code",
   "execution_count": 27,
   "metadata": {},
   "outputs": [
    {
     "data": {
      "text/html": [
       "<table>\n",
       "<thead><tr><th scope=col>SLG</th><th scope=col>OBP</th><th scope=col>.fitted</th><th scope=col>.se.fit</th><th scope=col>.resid</th><th scope=col>.hat</th><th scope=col>.sigma</th><th scope=col>.cooksd</th><th scope=col>.std.resid</th></tr></thead>\n",
       "<tbody>\n",
       "\t<tr><td>0.000       </td><td>0.000       </td><td>-0.03744579 </td><td>0.009956861 </td><td> 0.03744579 </td><td>0.01939493  </td><td>0.07153050  </td><td>0.0027664282</td><td> 0.5289049  </td></tr>\n",
       "\t<tr><td>0.000       </td><td>0.000       </td><td>-0.03744579 </td><td>0.009956861 </td><td> 0.03744579 </td><td>0.01939493  </td><td>0.07153050  </td><td>0.0027664282</td><td> 0.5289049  </td></tr>\n",
       "\t<tr><td>0.000       </td><td>0.000       </td><td>-0.03744579 </td><td>0.009956861 </td><td> 0.03744579 </td><td>0.01939493  </td><td>0.07153050  </td><td>0.0027664282</td><td> 0.5289049  </td></tr>\n",
       "\t<tr><td>0.308       </td><td>0.550       </td><td> 0.69049108 </td><td>0.009158810 </td><td>-0.38249108 </td><td>0.01641049  </td><td>0.07011360  </td><td>0.2427446800</td><td>-5.3943121  </td></tr>\n",
       "\t<tr><td>0.000       </td><td>0.037       </td><td> 0.01152451 </td><td>0.008770891 </td><td>-0.01152451 </td><td>0.01504981  </td><td>0.07154283  </td><td>0.0002015398</td><td>-0.1624191  </td></tr>\n",
       "\t<tr><td>0.038       </td><td>0.038       </td><td> 0.01284803 </td><td>0.008739031 </td><td> 0.02515197 </td><td>0.01494067  </td><td>0.07153800  </td><td>0.0009528017</td><td> 0.3544561  </td></tr>\n",
       "</tbody>\n",
       "</table>\n"
      ],
      "text/latex": [
       "\\begin{tabular}{r|lllllllll}\n",
       " SLG & OBP & .fitted & .se.fit & .resid & .hat & .sigma & .cooksd & .std.resid\\\\\n",
       "\\hline\n",
       "\t 0.000        & 0.000        & -0.03744579  & 0.009956861  &  0.03744579  & 0.01939493   & 0.07153050   & 0.0027664282 &  0.5289049  \\\\\n",
       "\t 0.000        & 0.000        & -0.03744579  & 0.009956861  &  0.03744579  & 0.01939493   & 0.07153050   & 0.0027664282 &  0.5289049  \\\\\n",
       "\t 0.000        & 0.000        & -0.03744579  & 0.009956861  &  0.03744579  & 0.01939493   & 0.07153050   & 0.0027664282 &  0.5289049  \\\\\n",
       "\t 0.308        & 0.550        &  0.69049108  & 0.009158810  & -0.38249108  & 0.01641049   & 0.07011360   & 0.2427446800 & -5.3943121  \\\\\n",
       "\t 0.000        & 0.037        &  0.01152451  & 0.008770891  & -0.01152451  & 0.01504981   & 0.07154283   & 0.0002015398 & -0.1624191  \\\\\n",
       "\t 0.038        & 0.038        &  0.01284803  & 0.008739031  &  0.02515197  & 0.01494067   & 0.07153800   & 0.0009528017 &  0.3544561  \\\\\n",
       "\\end{tabular}\n"
      ],
      "text/markdown": [
       "\n",
       "SLG | OBP | .fitted | .se.fit | .resid | .hat | .sigma | .cooksd | .std.resid | \n",
       "|---|---|---|---|---|---|\n",
       "| 0.000        | 0.000        | -0.03744579  | 0.009956861  |  0.03744579  | 0.01939493   | 0.07153050   | 0.0027664282 |  0.5289049   | \n",
       "| 0.000        | 0.000        | -0.03744579  | 0.009956861  |  0.03744579  | 0.01939493   | 0.07153050   | 0.0027664282 |  0.5289049   | \n",
       "| 0.000        | 0.000        | -0.03744579  | 0.009956861  |  0.03744579  | 0.01939493   | 0.07153050   | 0.0027664282 |  0.5289049   | \n",
       "| 0.308        | 0.550        |  0.69049108  | 0.009158810  | -0.38249108  | 0.01641049   | 0.07011360   | 0.2427446800 | -5.3943121   | \n",
       "| 0.000        | 0.037        |  0.01152451  | 0.008770891  | -0.01152451  | 0.01504981   | 0.07154283   | 0.0002015398 | -0.1624191   | \n",
       "| 0.038        | 0.038        |  0.01284803  | 0.008739031  |  0.02515197  | 0.01494067   | 0.07153800   | 0.0009528017 |  0.3544561   | \n",
       "\n",
       "\n"
      ],
      "text/plain": [
       "  SLG   OBP   .fitted     .se.fit     .resid      .hat       .sigma    \n",
       "1 0.000 0.000 -0.03744579 0.009956861  0.03744579 0.01939493 0.07153050\n",
       "2 0.000 0.000 -0.03744579 0.009956861  0.03744579 0.01939493 0.07153050\n",
       "3 0.000 0.000 -0.03744579 0.009956861  0.03744579 0.01939493 0.07153050\n",
       "4 0.308 0.550  0.69049108 0.009158810 -0.38249108 0.01641049 0.07011360\n",
       "5 0.000 0.037  0.01152451 0.008770891 -0.01152451 0.01504981 0.07154283\n",
       "6 0.038 0.038  0.01284803 0.008739031  0.02515197 0.01494067 0.07153800\n",
       "  .cooksd      .std.resid\n",
       "1 0.0027664282  0.5289049\n",
       "2 0.0027664282  0.5289049\n",
       "3 0.0027664282  0.5289049\n",
       "4 0.2427446800 -5.3943121\n",
       "5 0.0002015398 -0.1624191\n",
       "6 0.0009528017  0.3544561"
      ]
     },
     "metadata": {},
     "output_type": "display_data"
    }
   ],
   "source": [
    "# Rank high leverage points\n",
    "mod %>%\n",
    " augment() %>%\n",
    " arrange(desc(.hat),.cooksd) %>%\n",
    " head()"
   ]
  },
  {
   "cell_type": "markdown",
   "metadata": {},
   "source": [
    "**Exercise**\n",
    "\n",
    "*Answer*"
   ]
  },
  {
   "cell_type": "code",
   "execution_count": 28,
   "metadata": {},
   "outputs": [],
   "source": [
    "library(repr)\n",
    "# Change plot size to 4 x 3\n",
    "    options(repr.plot.width=4, repr.plot.height=3)"
   ]
  }
 ],
 "metadata": {
  "kernelspec": {
   "display_name": "R",
   "language": "R",
   "name": "ir"
  },
  "language_info": {
   "codemirror_mode": "r",
   "file_extension": ".r",
   "mimetype": "text/x-r-source",
   "name": "R",
   "pygments_lexer": "r",
   "version": "3.5.1"
  }
 },
 "nbformat": 4,
 "nbformat_minor": 2
}
