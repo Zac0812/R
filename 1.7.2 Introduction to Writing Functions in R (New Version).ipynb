{
 "cells": [
  {
   "cell_type": "markdown",
   "metadata": {},
   "source": [
    "# Introduction to Writing Functions in R\n",
    "link: https://www.datacamp.com/courses/introduction-to-function-writing-in-r\n",
    "\n",
    "### Course Description\n",
    "Being able to write your own functions makes your analyses more readable, with fewer errors, and more reusable from project to project. Function writing will increase your productivity more than any other skill! In this course you'll learn the basics of function writing, focusing on the arguments going into the function and the return values. You'll be writing useful data science functions, and using real-world data on Wyoming tourism, stock price/earnings ratios, and grain yields.\n",
    "\n",
    "### Note how can Resizing plots in the R kernel for Jupyter notebooks\n",
    "https://blog.revolutionanalytics.com/2015/09/resizing-plots-in-the-r-kernel-for-jupyter-notebooks.html\n",
    "\n",
    "    library(repr)\n",
    "\n",
    "    # Change plot size to 4 x 3\n",
    "    options(repr.plot.width=4, repr.plot.height=3)\n",
    "    \n",
    "### Note2 Generate a table \n",
    "\n",
    "https://www.tablesgenerator.com/markdown_tables\n",
    "\n",
    "\n",
    "\n",
    "### Note 3 - DataFrames\n"
   ]
  },
  {
   "cell_type": "code",
   "execution_count": 5,
   "metadata": {},
   "outputs": [
    {
     "name": "stderr",
     "output_type": "stream",
     "text": [
      "Warning message in gzfile(file, \"rb\"):\n",
      "\"cannot open compressed file 'https://assets.datacamp.com/production/repositories/5028/datasets/675d6348dbcc81bcb4bb9d25e827f5b63d034771/std_and_poor500_with_pe_2019-06-21.rds', probable reason 'Invalid argument'\""
     ]
    },
    {
     "ename": "ERROR",
     "evalue": "Error in gzfile(file, \"rb\"): no se puede abrir la conexión\n",
     "output_type": "error",
     "traceback": [
      "Error in gzfile(file, \"rb\"): no se puede abrir la conexión\nTraceback:\n",
      "1. readRDS(\"https://assets.datacamp.com/production/repositories/5028/datasets/675d6348dbcc81bcb4bb9d25e827f5b63d034771/std_and_poor500_with_pe_2019-06-21.rds\")",
      "2. gzfile(file, \"rb\")"
     ]
    }
   ],
   "source": [
    "library(dplyr)\n",
    "library(ggplot2)\n",
    "library(readr)\n",
    "library(tidyr)\n",
    "library(datasets)\n",
    "library(openintro)\n",
    "\n",
    "library(readr)\n",
    "\n",
    "#Snake River visits\n",
    "snake_rivers<-readRDS(\"https://assets.datacamp.com/production/repositories/5028/datasets/a55843f83746968c7f118d82ed727db9c71e891f/snake_river_visits.rds\")\n",
    "\n",
    "#Standard & Poor 500 price/earnings ratios\n",
    "price<-readRDS(\"https://assets.datacamp.com/production/repositories/5028/datasets/675d6348dbcc81bcb4bb9d25e827f5b63d034771/std_and_poor500_with_pe_2019-06-21.rds\")\n",
    "\n",
    "#NASS corn yields\n",
    "corn<-readRDS(\"https://assets.datacamp.com/production/repositories/5028/datasets/495f9e5fa1ae333cd013568412df4e7c663c2192/nass.corn.rds\")\n",
    "\n",
    "#NASS wheat yields\n",
    "wheat<-readRDS(\"https://assets.datacamp.com/production/repositories/5028/datasets/8dde0453e7b53c630546e5b9723ce279ac6e4901/nass.wheat.rds\")\n",
    "\n",
    "#NASS barley yields\n",
    "barley<-readRDS(\"https://assets.datacamp.com/production/repositories/5028/datasets/a5eddd39a47abc8efbdb419c54882112dc28785b/nass.barley.rds\")\n",
    "\n",
    "#path_csv<-\"https://assets.datacamp.com/production/course_6430/datasets/Pokemon.csv\"\n",
    "#df_pokemon<-read_csv(path_csv)"
   ]
  },
  {
   "cell_type": "markdown",
   "metadata": {},
   "source": [
    "## 1) How to write a function\n",
    "Learn why writing your own functions is useful, how to convert a script into a function, and what order you should include the arguments.\n",
    "\n",
    "### 1.1) (video) Why you should use functions\n",
    "Benefits of writing of functions\n",
    "\n",
    "Functions eliminate repetition from your code, which\n",
    "\n",
    "- can reduce your workload, and\n",
    "- help avoid errors\n",
    "\n",
    "Function also allow code reuse and sharing.\n",
    " \n",
    "#### 1.1.1) Calling functions\n",
    "One way to make your code more readable is to be careful about the order you pass arguments when you call functions, and whether you pass the arguments by position or by name.\n",
    "\n",
    "`gold_medals`, a numeric vector of the number of gold medals won by each country in the 2016 Summer Olympics, is provided.\n",
    "\n",
    "For convenience, the arguments of `median()` and `rank()` are displayed using `args()`. Setting `rank()`'s `na.last` argument to `\"keep\"` means \"keep the rank of NA values as NA\".\n",
    "\n",
    "Best practice for calling functions is to include them in the order shown by `args()`, and to only name rare arguments.\n",
    "\n",
    "**Exercise**\n",
    "Rewrite the call to median(), following best practices\n",
    "\n",
    "*Answer*\n",
    "\n",
    "    # Look at the gold medals data\n",
    "    # gold_medals\n",
    "\n",
    "    # Note the arguments to median()\n",
    "    args(median)\n",
    "\n",
    "    # Rewrite this function call, following best practices\n",
    "    median(gold_medals, na.rm = TRUE)"
   ]
  },
  {
   "cell_type": "markdown",
   "metadata": {},
   "source": [
    "### 1.2) (video) Converting scripts into functions\n",
    "\n",
    "all functions in R have the same structured that we will show here:\n",
    "\n",
    "    Name_of_funciton <- Signature {\n",
    "    the body \n",
    "    }\n",
    "\n",
    "    my_fun <.. function(arg1, arg2) {\n",
    "    # do something\n",
    "    }\n",
    "\n",
    "In R the last line inside the function is the result, so you don't need to assing the last value; it will automatically become the result.\n",
    "\n",
    "#### 1.2.1) Your first function: tossing a coin\n",
    "Time to write your first function! It's a really good idea when writing functions to start simple. You can always make a function more complicated later if it's really necessary, so let's not worry about arguments for now.\n",
    "\n",
    "**Exercise**\n",
    "- Simulate a single coin toss by using sample() to sample from `coin_sides` once.\n",
    "- Write a template for your function, naming it toss_coin. The function should take no arguments.\n",
    "\n",
    "*Answer*"
   ]
  },
  {
   "cell_type": "code",
   "execution_count": 2,
   "metadata": {},
   "outputs": [
    {
     "data": {
      "text/html": [
       "'head'"
      ],
      "text/latex": [
       "'head'"
      ],
      "text/markdown": [
       "'head'"
      ],
      "text/plain": [
       "[1] \"head\""
      ]
     },
     "metadata": {},
     "output_type": "display_data"
    }
   ],
   "source": [
    "coin_sides <- c(\"head\", \"tail\")\n",
    "\n",
    "# Sample from coin_sides once\n",
    "#sample(coin_sides, size = 1)\n",
    "\n",
    "\n",
    "# Your functions, from previous steps\n",
    "toss_coin <- function() {\n",
    "  coin_sides <- c(\"head\", \"tail\")\n",
    "  sample(coin_sides, 1)\n",
    "}\n",
    "\n",
    "# Call your function\n",
    "toss_coin()"
   ]
  },
  {
   "cell_type": "markdown",
   "metadata": {},
   "source": [
    "#### 1.2.2) Inputs to functions\n",
    "Most functions require some sort of input to determine what to compute. The inputs to functions are called arguments. You specify them inside the parentheses after the word \"function.\"\n",
    "\n",
    "As mentioned in the video, the following exercises assume that you are using sample() to do random sampling.\n",
    "\n",
    "**Exercise**\n",
    "\n",
    "- Sample from coin_sides n_flips times with replacement\n",
    "- Update the definition of toss_coin() to accept a single argument, n_flips. The function should sample coin_sides n_flips times with replacement. Remember to change the signature and the body.\n",
    "\n",
    "*Answer*"
   ]
  },
  {
   "cell_type": "code",
   "execution_count": null,
   "metadata": {},
   "outputs": [],
   "source": [
    "coin_sides <- c(\"head\", \"tail\")\n",
    "n_flips <- 10\n",
    "\n",
    "# Sample from coin_sides n_flips times with replacement\n",
    "sample(coin_sides, n_flips, TRUE)\n",
    "\n",
    "# Update the function to return n coin tosses\n",
    "toss_coin <- function(n_flips) {\n",
    "  coin_sides <- c(\"head\", \"tail\")\n",
    "  sample(coin_sides, n_flips, TRUE)\n",
    "}\n",
    "\n",
    "# Generate 10 coin tosses\n",
    "toss_coin(10)"
   ]
  },
  {
   "cell_type": "markdown",
   "metadata": {},
   "source": [
    "#### 1.2.3) Multiple inputs to functions\n",
    "If a function should have more than one argument, list them in the function signature, separated by commas.\n",
    "\n",
    "To solve this exercise, you need to know how to specify sampling weights to `sample()`. Set the prob argument to a numeric vector with the same length as `x`. Each value of prob is the probability of sampling the corresponding element of x, so their values add up to one. In the following example, each sample has a 20% chance of \"bat\", a 30% chance of \"cat\" and a 50% chance of \"rat\".\n",
    "\n",
    "    sample(c(\"bat\", \"cat\", \"rat\"), 10, replace = TRUE, prob = c(0.2, 0.3, 0.5))\n",
    "    \n",
    "**Exercise**\n",
    "- Bias the coin by weighting the sampling. Specify the prob argument so that heads are sampled with probability p_head (and tails are sampled with probability 1 - p_head).\n",
    "- Update the definition of toss_coin() so it accepts an argument, p_head, and weights the samples using the code you wrote in the previous step.\n",
    "- Generate 10 coin tosses with an 80% chance of each head.\n",
    "\n",
    "*Answer*    "
   ]
  },
  {
   "cell_type": "code",
   "execution_count": 3,
   "metadata": {},
   "outputs": [
    {
     "data": {
      "text/html": [
       "<ol class=list-inline>\n",
       "\t<li>'head'</li>\n",
       "\t<li>'head'</li>\n",
       "\t<li>'head'</li>\n",
       "\t<li>'tail'</li>\n",
       "\t<li>'head'</li>\n",
       "\t<li>'head'</li>\n",
       "\t<li>'head'</li>\n",
       "\t<li>'head'</li>\n",
       "\t<li>'head'</li>\n",
       "\t<li>'tail'</li>\n",
       "</ol>\n"
      ],
      "text/latex": [
       "\\begin{enumerate*}\n",
       "\\item 'head'\n",
       "\\item 'head'\n",
       "\\item 'head'\n",
       "\\item 'tail'\n",
       "\\item 'head'\n",
       "\\item 'head'\n",
       "\\item 'head'\n",
       "\\item 'head'\n",
       "\\item 'head'\n",
       "\\item 'tail'\n",
       "\\end{enumerate*}\n"
      ],
      "text/markdown": [
       "1. 'head'\n",
       "2. 'head'\n",
       "3. 'head'\n",
       "4. 'tail'\n",
       "5. 'head'\n",
       "6. 'head'\n",
       "7. 'head'\n",
       "8. 'head'\n",
       "9. 'head'\n",
       "10. 'tail'\n",
       "\n",
       "\n"
      ],
      "text/plain": [
       " [1] \"head\" \"head\" \"head\" \"tail\" \"head\" \"head\" \"head\" \"head\" \"head\" \"tail\""
      ]
     },
     "metadata": {},
     "output_type": "display_data"
    },
    {
     "data": {
      "text/html": [
       "<ol class=list-inline>\n",
       "\t<li>'tail'</li>\n",
       "\t<li>'head'</li>\n",
       "\t<li>'head'</li>\n",
       "\t<li>'head'</li>\n",
       "\t<li>'head'</li>\n",
       "\t<li>'head'</li>\n",
       "\t<li>'head'</li>\n",
       "\t<li>'tail'</li>\n",
       "\t<li>'head'</li>\n",
       "\t<li>'head'</li>\n",
       "</ol>\n"
      ],
      "text/latex": [
       "\\begin{enumerate*}\n",
       "\\item 'tail'\n",
       "\\item 'head'\n",
       "\\item 'head'\n",
       "\\item 'head'\n",
       "\\item 'head'\n",
       "\\item 'head'\n",
       "\\item 'head'\n",
       "\\item 'tail'\n",
       "\\item 'head'\n",
       "\\item 'head'\n",
       "\\end{enumerate*}\n"
      ],
      "text/markdown": [
       "1. 'tail'\n",
       "2. 'head'\n",
       "3. 'head'\n",
       "4. 'head'\n",
       "5. 'head'\n",
       "6. 'head'\n",
       "7. 'head'\n",
       "8. 'tail'\n",
       "9. 'head'\n",
       "10. 'head'\n",
       "\n",
       "\n"
      ],
      "text/plain": [
       " [1] \"tail\" \"head\" \"head\" \"head\" \"head\" \"head\" \"head\" \"tail\" \"head\" \"head\""
      ]
     },
     "metadata": {},
     "output_type": "display_data"
    }
   ],
   "source": [
    "coin_sides <- c(\"head\", \"tail\")\n",
    "n_flips <- 10\n",
    "p_head <- 0.8\n",
    "\n",
    "# Define a vector of weights\n",
    "weights <- 1-p_head\n",
    "\n",
    "# Update so that heads are sampled with prob p_head\n",
    "sample(coin_sides, n_flips, replace = TRUE, c(p_head, weights))\n",
    "\n",
    "\n",
    "\n",
    "# Update the function so heads have probability p_head\n",
    "toss_coin <- function(n_flips, p_head) {\n",
    "  coin_sides <- c(\"head\", \"tail\")\n",
    "  # Define a vector of weights\n",
    "  weights <- c(p_head, 1 - p_head)\n",
    "  # Modify the sampling to be weighted \n",
    "  sample(coin_sides, n_flips, replace = TRUE, prob = weights)\n",
    "}\n",
    "\n",
    "# Generate 10 coin tosses\n",
    "toss_coin(10, p_head = 0.8)\n"
   ]
  },
  {
   "cell_type": "markdown",
   "metadata": {},
   "source": [
    "#### 1.2.4) Renaming GLM\n",
    "R's generalized linear regression function, `glm()`, suffers the same usability problems as `lm()`: its name is an acronym, and its formula and data arguments are in the wrong order.\n",
    "\n",
    "To solve this exercise, you need to know two things about generalized linear regression:\n",
    "\n",
    "- `glm()` formulas are specified like `lm()` formulas: response is on the left, and explanatory variables are added on the right.\n",
    "- To model count data, set `glm()`'s `family` argument to `poisson`, making it a Poisson regression.\n",
    "\n",
    "Here's you'll use data on the number of yearly visits to Snake River at Jackson Hole, Wyoming, `snake_river_visits`.\n",
    "\n",
    "**Exercise**\n",
    "\n",
    "- Run a generalized linear regression by calling glm(). Model n_visits vs. gender, income, and travel on the snake_river_visits dataset, setting the family to poisson.\n",
    "- Define a function, run_poisson_regression(), to run a Poisson regression. This should take two arguments: data and formula, and call glm(), passing those arguments and setting family to poisson.\n",
    "- Recreate the Poisson regression model from the first step, this time by calling your run_poisson_regression() function.\n",
    "\n",
    "*Answer*\n",
    "\n",
    "    # Run a generalized linear regression \n",
    "    glm(\n",
    "      # Model no. of visits vs. gender, income, travel\n",
    "       n_visits ~ gender + income + travel, \n",
    "      # Use the snake_river_visits dataset\n",
    "      data = snake_river_visits, \n",
    "      # Make it a Poisson regression\n",
    "      family = \"poisson\"\n",
    "    )\n",
    "    \n",
    "    \n",
    "    # Write a function to run a Poisson regression\n",
    "    run_poisson_regression<- function (data, formula) {\n",
    "    glm(\n",
    "      # Model no. of visits vs. gender, income, travel\n",
    "       formula, \n",
    "      # Use the snake_river_visits dataset\n",
    "      data = data, \n",
    "      # Make it a Poisson regression\n",
    "      family = \"poisson\"\n",
    "    )  \n",
    "    }\n",
    "    \n",
    "    # From previous step\n",
    "    run_poisson_regression <- function(data, formula) {\n",
    "      glm(formula, data, family = poisson)\n",
    "    }\n",
    "\n",
    "    # Re-run the Poisson regression, using your function\n",
    "    model <- snake_river_visits %>%\n",
    "      run_poisson_regression(n_visits ~ gender + income + travel)\n",
    "\n",
    "    # Run this to see the predictions\n",
    "    snake_river_explanatory %>%\n",
    "      mutate(predicted_n_visits = predict(model, ., type = \"response\"))%>%\n",
    "      arrange(desc(predicted_n_visits))\n",
    "    "
   ]
  },
  {
   "cell_type": "markdown",
   "metadata": {},
   "source": [
    "## 2) All about arguments\n",
    "Learn how to set defaults for arguments, how to pass arguments between functions, and how to check that users specified arguments correctly.\n",
    "\n",
    "### 2.1 (video) Default arguments\n",
    "perhaps you noticed a problem with your 'toss coin' function, unless you regularly work with crooks, you will typically want to toss a fair coin that is, usually you want p_head to be zero-point-five, wouldn't it be great if you didn't have to specify it every time?.\n",
    "\n",
    "It's very easy to specify, we onlye need to define it inside our arguments, here's an update to the function template from the previous chapter.\n",
    "\n",
    "    my_fun<- function (data_arg1, data_arg2, detail_arg1 = default 1) {\n",
    "    #Do something\n",
    "    }\n",
    "\n",
    "Data arguments don't take a default value, but detail arguments do, you aren't limited to numeric defaults (example boolean), you can even set a default to another argument, for example\n",
    "\n",
    "    args(median)\n",
    "    library(jsonlite)\n",
    "    args(fromJSON)\n",
    "\n",
    "There are two special cases of defaults worth mentioning: `NULL` defaults and `categorical` defaults.\n",
    "\n",
    "NULL is seldom used in calculations so a NULL default wouldn't usually be useful, instead, by convention, a NULL default means that there is special handling of  the argument that is to complicated to include in the function signature (so you need to read the documentation)\n",
    "\n",
    "The second type is the categorical variable, these use a two-step process for definif the default, first you list all choices as a character vector in the signature, then you can call `match.arg()` in the function body \n",
    "\n",
    "    args(prop.test)\n",
    "\n",
    "then, inside the body of 'prop.test()' function there is a line that calls `match.arg()` on alternative and reassings it.\n",
    "\n",
    "    alternative<-match.arg(alternative)"
   ]
  },
  {
   "cell_type": "markdown",
   "metadata": {},
   "source": [
    "#### 2.1.1) Numeric defaults\n",
    "`cut_by_quantile()` converts a numeric vector into a categorical variable where quantiles define the cut points. This is a useful function, but at the moment you have to specify five arguments to make it work. This is too much thinking and typing.\n",
    "\n",
    "By specifying default arguments, you can make it easier to use. Let's start with `n`, which specifies how many categories to cut `x` into.\n",
    "\n",
    "A numeric vector of the number of visits to Snake River is provided as `n_visits`.\n",
    "\n",
    "Note the cut_by_quantile has:\n",
    "\n",
    "- x : a numeric vector to cut\n",
    "- n : the number of categories to cut x\n",
    "- na.ra: shouls missing value be removeed?\n",
    "- labels: character labels for the catergories\n",
    "- interval_type: should ranges be open on the left or right?"
   ]
  },
  {
   "cell_type": "code",
   "execution_count": 9,
   "metadata": {},
   "outputs": [],
   "source": [
    "x<-rnorm(n = 410, mean = 24.99024, sd = 46.62775)\n",
    "\n",
    "# Set the default for n to 5\n",
    "cut_by_quantile <- function(x, n, na.rm, labels, interval_type) {\n",
    "  probs <- seq(0, 1, length.out = n + 1)\n",
    "  qtiles <- quantile(x, probs, na.rm = na.rm, names = FALSE)\n",
    "  right <- switch(interval_type, \"(lo, hi]\" = TRUE, \"[lo, hi)\" = FALSE)\n",
    "  cut(x, qtiles, labels = labels, right = right, include.lowest = TRUE)\n",
    "}\n",
    "\n",
    "# Remove the n argument from the call\n",
    "result<-cut_by_quantile(\n",
    "  x, \n",
    "  n = 5, \n",
    "  na.rm = FALSE, \n",
    "  labels = c(\"very low\", \"low\", \"medium\", \"high\", \"very high\"),\n",
    "  interval_type = \"(lo, hi]\"\n",
    ")"
   ]
  },
  {
   "cell_type": "markdown",
   "metadata": {},
   "source": [
    "**Exercise**\n",
    "- Update the definition of cut_by_quantile() so that the n argument defaults to 5.\n",
    "- Remove the n argument from the call to cut_by_quantile().\n",
    "\n",
    "**Note**: Nice numeric default setting! Remember to only set defaults for numeric detail arguments, not data arguments.    "
   ]
  },
  {
   "cell_type": "markdown",
   "metadata": {},
   "source": [
    "#### 2.1.2) Logical defaults\n",
    "`cut_by_quantile()` is now slightly easier to use, but you still always have to specify the `na.rm` argument. This removes missing values – it behaves the same as the `na.rm` argument to `mean()` or `sd()`.\n",
    "\n",
    "Where functions have an argument for removing missing values, the best practice is to not remove them by default (in case you hadn't spotted that you had missing values). That means that the default for `na.rm` should be `FALSE`.\n",
    "\n",
    "**Exercise**\n",
    "- Update the definition of cut_by_quantile() so that the na.rm argument defaults to FALSE.\n",
    "- Remove the na.rm argument from the call to cut_by_quantile()\n",
    "\n",
    "#### 2.1.3) NULL defaults\n",
    "The `cut()` function used by `cut_by_quantile()` can automatically provide sensible labels for each category. The code to generate these labels is pretty complicated, so rather than appearing in the function signature directly, its `labels` argument defaults to `NULL`, and the calculation details are shown on the `?cut` help page.\n",
    "\n",
    "**Exercise**\n",
    "\n",
    "- Update the definition of cut_by_quantile() so that the labels argument defaults to NULL.\n",
    "- Remove the labels argument from the call to cut_by_quantile().\n",
    "\n",
    "#### 2.1.4)  Categorical defaults\n",
    "When cutting up a numeric vector, you need to worry about what happens if a value lands exactly on a boundary. You can either put this value into a category of the lower interval or the higher interval. That is, you can choose your intervals to include values at the top boundary but not the bottom (in mathematical terminology, \"open on the left, closed on the right\", or `(lo, hi])`. Or you can choose the opposite (\"closed on the left, open on the right\", or `[lo, hi)`). `cut_by_quantile()` should allow these two choices.\n",
    "\n",
    "The pattern for categorical defaults is:\n",
    "\n",
    "    function(cat_arg = c(\"choice1\", \"choice2\")) {\n",
    "      cat_arg <- match.arg(cat_arg)\n",
    "    }\n",
    "    \n",
    "Free hint: In the console, type `head(rank)` to see the start of `rank()`'s definition, and look at the ties.method argument.\n",
    "\n",
    "**Exercise**\n",
    "- Update the signature of `cut_by_quantile()` so that the `interval_type` argument can be `\"(lo, hi]\"` or `\"[lo, hi)\"`. Note the space after each comma.\n",
    "- Update the body of `cut_by_quantile()` to match the `interval_type` argument.\n",
    "- Remove the `interval_type` argument from the call to `cut_by_quantile()`.\n",
    "\n",
    "**Note** match.arg() handles throwing an error if the user types a value that wasn't specified\n",
    "\n",
    "*Answer* \n",
    "\n",
    "2.1.1, 2.1.2, 2.1.3, 2.1.4"
   ]
  },
  {
   "cell_type": "code",
   "execution_count": 22,
   "metadata": {},
   "outputs": [
    {
     "data": {
      "text/html": [
       "<ol class=list-inline>\n",
       "\t<li>(13.1,34.7]</li>\n",
       "\t<li>(13.1,34.7]</li>\n",
       "\t<li>(61.5,155]</li>\n",
       "\t<li>(-21.6,13.1]</li>\n",
       "\t<li>(61.5,155]</li>\n",
       "\t<li>[-138,-21.6]</li>\n",
       "</ol>\n",
       "\n",
       "<details>\n",
       "\t<summary style=display:list-item;cursor:pointer>\n",
       "\t\t<strong>Levels</strong>:\n",
       "\t</summary>\n",
       "\t<ol class=list-inline>\n",
       "\t\t<li>'[-138,-21.6]'</li>\n",
       "\t\t<li>'(-21.6,13.1]'</li>\n",
       "\t\t<li>'(13.1,34.7]'</li>\n",
       "\t\t<li>'(34.7,61.5]'</li>\n",
       "\t\t<li>'(61.5,155]'</li>\n",
       "\t</ol>\n",
       "</details>"
      ],
      "text/latex": [
       "\\begin{enumerate*}\n",
       "\\item (13.1,34.7{]}\n",
       "\\item (13.1,34.7{]}\n",
       "\\item (61.5,155{]}\n",
       "\\item (-21.6,13.1{]}\n",
       "\\item (61.5,155{]}\n",
       "\\item {[}-138,-21.6{]}\n",
       "\\end{enumerate*}\n",
       "\n",
       "\\emph{Levels}: \\begin{enumerate*}\n",
       "\\item '{[}-138,-21.6{]}'\n",
       "\\item '(-21.6,13.1{]}'\n",
       "\\item '(13.1,34.7{]}'\n",
       "\\item '(34.7,61.5{]}'\n",
       "\\item '(61.5,155{]}'\n",
       "\\end{enumerate*}\n"
      ],
      "text/markdown": [
       "1. (13.1,34.7]\n",
       "2. (13.1,34.7]\n",
       "3. (61.5,155]\n",
       "4. (-21.6,13.1]\n",
       "5. (61.5,155]\n",
       "6. [-138,-21.6]\n",
       "\n",
       "\n",
       "\n",
       "**Levels**: 1. '[-138,-21.6]'\n",
       "2. '(-21.6,13.1]'\n",
       "3. '(13.1,34.7]'\n",
       "4. '(34.7,61.5]'\n",
       "5. '(61.5,155]'\n",
       "\n",
       "\n"
      ],
      "text/plain": [
       "[1] (13.1,34.7]  (13.1,34.7]  (61.5,155]   (-21.6,13.1] (61.5,155]  \n",
       "[6] [-138,-21.6]\n",
       "Levels: [-138,-21.6] (-21.6,13.1] (13.1,34.7] (34.7,61.5] (61.5,155]"
      ]
     },
     "metadata": {},
     "output_type": "display_data"
    }
   ],
   "source": [
    "# \n",
    "cut_by_quantile <- function(x, n = 5, na.rm = FALSE, labels = NULL, \n",
    "                            interval_type = c(\"(lo, hi]\",\"[lo, hi)\")) {\n",
    "  # Match the interval_type argument\n",
    "  interval_type <- match.arg(interval_type)\n",
    "  probs <- seq(0, 1, length.out = n + 1)\n",
    "  qtiles <- quantile(x, probs, na.rm = na.rm, names = FALSE)\n",
    "  right <- switch(interval_type, \"(lo, hi]\" = TRUE, \"[lo, hi)\" = FALSE)\n",
    "  cut(x, qtiles, labels = labels, right = right, include.lowest = TRUE)\n",
    "}\n",
    "\n",
    "# \n",
    "head(cut_by_quantile(x))"
   ]
  },
  {
   "cell_type": "markdown",
   "metadata": {},
   "source": [
    "### 2.2 (video) Passing arguments between functions\n",
    "It's very straightforward, for example:\n",
    "\n",
    "    cal_geom_mean<- function(x) {\n",
    "    x %>% \n",
    "        log() %>% \n",
    "        mean() %>% \n",
    "        exp()\n",
    "    }\n",
    "    \n",
    "but now what happen if want to define a parameter to handle  missing values, here we can define a parameter as `na.ra = FALSE` and  pass it to our function (Note: a conventional way to manage missing values in R is with `na.ra`)    \n",
    "\n",
    "    cal_geom_mean<- function(x, na.ra = FALSE) {\n",
    "    x %>% \n",
    "        log() %>% \n",
    "        mean(na.ra = na.ra) %>% \n",
    "        exp()\n",
    "    }\n",
    "    \n",
    "The ellipsis or `...` argument allows you to simplify your code a little bit instead of explecity naming `na.ra` ans setting a default and passing it to mean you just say \"accept any other arguments into cal_geom_mean, then pass them to mean\" \n",
    "\n",
    "    cal_geom_mean<- function(x, ...) {\n",
    "    x %>% \n",
    "        log() %>% \n",
    "        mean(...) %>% \n",
    "        exp()\n",
    "    }\n",
    "\n",
    "#### 2.2.1) Harmonic mean\n",
    "The harmonic mean is the reciprocal of the arithmetic mean of the reciprocal of the data. That is:\n",
    "\n",
    "    harmonic_mean(x)=1/arithmetic_mean(1/x)\n",
    "    \n",
    "The harmonic mean is often used to average ratio data. You'll be using it on the price/earnings ratio of stocks in the Standard and Poor's 500 index, provided as `std_and_poor500`. Price/earnings ratio is a measure of how expensive a stock is.\n",
    "\n",
    "The dplyr package is loaded.\n",
    "\n",
    "**Exercise**\n",
    "\n",
    "- Look at `std_and_poor500` (you'll need this later). Write a function, `get_reciprocal`, to get the reciprocal of an input `x`. Its only argument should be `x`, and it should return one over `x`.\n",
    "- Write a function, calc_harmonic_mean(), that calculates the harmonic mean of its only input, x.\n",
    "- Using std_and_poor500, group by sector, and summarize to calculate the harmonic mean of the price/earning ratios in the pe_ratio column.\n",
    "\n",
    "*Answer*\n"
   ]
  },
  {
   "cell_type": "code",
   "execution_count": 1,
   "metadata": {},
   "outputs": [
    {
     "name": "stderr",
     "output_type": "stream",
     "text": [
      "Warning message:\n",
      "\"package 'dplyr' was built under R version 3.5.3\"\n",
      "Attaching package: 'dplyr'\n",
      "\n",
      "The following objects are masked from 'package:stats':\n",
      "\n",
      "    filter, lag\n",
      "\n",
      "The following objects are masked from 'package:base':\n",
      "\n",
      "    intersect, setdiff, setequal, union\n",
      "\n"
     ]
    }
   ],
   "source": [
    "library(dplyr)\n",
    "\n",
    "# Look at the Standard and Poor 500 data\n",
    "#glimpse(std_and_poor500)\n",
    "\n",
    "# From previous steps\n",
    "get_reciprocal <- function(x) {\n",
    "  1 / x\n",
    "}\n",
    "\n",
    "calc_harmonic_mean <- function(x) {\n",
    "  x %>%\n",
    "    get_reciprocal() %>%\n",
    "    mean() %>%\n",
    "    get_reciprocal()\n",
    "}\n",
    "\n",
    "#std_and_poor500 %>% \n",
    "#  # Group by sector\n",
    "#  group_by(sector) %>% \n",
    "#  # Summarize, calculating harmonic mean of P/E ratio\n",
    "#  summarize(hmean_pe_ratio = calc_harmonic_mean(pe_ratio))\n"
   ]
  },
  {
   "cell_type": "markdown",
   "metadata": {},
   "source": [
    "#### 2.2.2) Dealing with missing values\n",
    "In the last exercise, many sectors had an NA value for the harmonic mean. It would be useful for your function to be able to remove missing values before calculating.\n",
    "\n",
    "Rather than writing your own code for this, you can outsource this functionality to `mean()`.\n",
    "\n",
    "The dplyr package is loaded.\n",
    "\n",
    "**Exercise**\n",
    "- Modify the signature and body of calc_harmonic_mean() so it has an na.rm argument, defaulting to false, that gets passed to mean().\n",
    "- Using std_and_poor500, group by sector, and summarize to calculate the harmonic mean of the price/earning ratios in the pe_ratio column, removing missing values.\n",
    "\n",
    "*Answer*"
   ]
  },
  {
   "cell_type": "code",
   "execution_count": null,
   "metadata": {},
   "outputs": [],
   "source": [
    "# From previous step\n",
    "calc_harmonic_mean <- function(x, na.rm = FALSE) {\n",
    "  x %>%\n",
    "    get_reciprocal() %>%\n",
    "    mean(na.rm = na.rm) %>%\n",
    "    get_reciprocal()\n",
    "}\n",
    "\n",
    "#std_and_poor500 %>% \n",
    "#  # Group by sector\n",
    "#  group_by(sector) %>% \n",
    "#  # Summarize, calculating harmonic mean of P/E ratio\n",
    "#  summarize(hmean_pe_ratio = calc_harmonic_mean(pe_ratio, na.rm = TRUE))"
   ]
  },
  {
   "cell_type": "markdown",
   "metadata": {},
   "source": [
    "#### 2.2.3) Passing arguments with ...\n",
    "Rather than explicitly giving `calc_harmonic_mean()` and `na.rm` argument, you can use `...` to simply \"pass other arguments\" to `mean()`.\n",
    "\n",
    "The dplyr package is loaded.\n",
    "\n",
    "**Exercise**\n",
    "- Replace the na.rm argument with ... in the signature and body of calc_harmonic_mean().\n",
    "- Using std_and_poor500, group by sector, and summarize to calculate the harmonic mean of the price/earning ratios in the pe_ratio column, removing missing values.\n",
    "\n",
    "*Answer*\n",
    "\n",
    "    calc_harmonic_mean <- function(x, ...) {\n",
    "      x %>%\n",
    "        get_reciprocal() %>%\n",
    "        mean(...) %>%\n",
    "        get_reciprocal()\n",
    "    }\n",
    "\n",
    "    std_and_poor500 %>% \n",
    "      # Group by sector\n",
    "      group_by(sector) %>% \n",
    "      # Summarize, calculating harmonic mean of P/E ratio\n",
    "      summarize(hmean_pe_ratio =  calc_harmonic_mean(pe_ratio, na.rm = TRUE))"
   ]
  },
  {
   "cell_type": "markdown",
   "metadata": {},
   "source": [
    "### 2.3) (video) Checking arguments\n",
    "when something fail we have two possibilities the user or the programmer, we can handle it verifying the type of inputs with a simple if else and it's called \"assertions\"  , however it's boring, fortunately R has many fine packages for writing assertions, here we will use the `assertive` package.\n",
    "\n",
    "The assertive package contains over seventy checks on variables types, from common types:\n",
    "\n",
    "- assert_is_numeric()\n",
    "- assert_is_character()\n",
    "- is_data.frame()\n",
    "- ...\n",
    "- is_two_sided_formula()\n",
    "- is_tskernel()"
   ]
  },
  {
   "cell_type": "markdown",
   "metadata": {},
   "source": [
    "#### 2.3.1) Throwing errors with bad arguments\n",
    "If a user provides a bad input to a function, the best course of action is to throw an error letting them know. The two rules are\n",
    "\n",
    "- Throw the error message as soon as you realize there is a problem (typically at the start of the function).\n",
    "- Make the error message easily understandable.\n",
    "\n",
    "You can use the `assert_*()` functions from `assertive` to check inputs and throw errors when they fail.\n",
    "\n",
    "**Exercise**\n",
    "- Add a line to the body of calc_harmonic_mean() to assert that x is numeric.\n",
    "- Look at what happens when you pass a character argument to calc_harmonic_mean().\n",
    "\n",
    "*Answer*"
   ]
  },
  {
   "cell_type": "markdown",
   "metadata": {},
   "source": [
    "#### 2.3.2) Fixing function arguments\n",
    "The harmonic mean function is almost complete. However, you still need to provide some checks on the `na.rm` argument. This time, rather than throwing errors when the input is in an incorrect form, you are going to try to fix it.\n",
    "\n",
    "`na.rm` should be a logical vector with one element (that is, TRUE, or FALSE).\n",
    "\n",
    "The `assertive` package is loaded for you."
   ]
  },
  {
   "cell_type": "code",
   "execution_count": 2,
   "metadata": {},
   "outputs": [
    {
     "name": "stderr",
     "output_type": "stream",
     "text": [
      "Warning message:\n",
      "\"package 'assertive' was built under R version 3.5.3\""
     ]
    },
    {
     "ename": "ERROR",
     "evalue": "Error in calc_harmonic_mean(c(\"Luis,\", \"Meza\")): is_numeric : x is not of class 'numeric'; it has class 'character'.\n",
     "output_type": "error",
     "traceback": [
      "Error in calc_harmonic_mean(c(\"Luis,\", \"Meza\")): is_numeric : x is not of class 'numeric'; it has class 'character'.\nTraceback:\n",
      "1. calc_harmonic_mean(c(\"Luis,\", \"Meza\"))",
      "2. assert_is_numeric(x)   # at line 6 of file <text>",
      "3. assert_engine(is_numeric, x, .xname = get_name_in_parent(x), \n .     severity = severity)",
      "4. give_feedback(handler_type, msg, predicate_name)"
     ]
    }
   ],
   "source": [
    "library(assertive)\n",
    "\n",
    "\n",
    "calc_harmonic_mean <- function(x, na.rm = FALSE) {\n",
    "  # Assert that x is numeric\n",
    "  assert_is_numeric(x)\n",
    "  x %>%\n",
    "    get_reciprocal() %>%\n",
    "    mean(na.rm = na.rm) %>%\n",
    "    get_reciprocal()\n",
    "}\n",
    "\n",
    "# See what happens when you pass it strings\n",
    "#calc_harmonic_mean(std_and_poor500$sector)\n",
    "\n",
    "\n",
    "calc_harmonic_mean(c(\"Luis,\",\"Meza\"))\n"
   ]
  },
  {
   "cell_type": "markdown",
   "metadata": {},
   "source": [
    "#### 2.3.2) Custom error logic\n",
    "Sometimes the `assert_*()` functions in `assertive` don't give the most informative error message. For example, the assertions that check if a number is in a numeric range will tell the user that a value is out of range, but the won't say why that's a problem. In that case, you can use the `is_*()` functions in conjunction with messages, warnings, or errors to define custom feedback.\n",
    "\n",
    "The harmonic mean only makes sense when `x` has all positive values. (Try calculating the harmonic mean of one and minus one to see why.) Make sure your users know this!\n",
    "\n",
    "**Exercise**\n",
    "- If any values of `x` are non-positive (ignoring `NA`s) then throw an error.\n",
    "- Look at what happens when you pass a character argument to `calc_harmonic_mean()`.\n",
    "\n",
    "*Answer*"
   ]
  },
  {
   "cell_type": "code",
   "execution_count": null,
   "metadata": {},
   "outputs": [],
   "source": [
    "calc_harmonic_mean <- function(x, na.rm = FALSE) {\n",
    "  assert_is_numeric(x)\n",
    "  # Check if any values of x are non-positive\n",
    "  if(any(is_non_positive(x), na.rm = TRUE)) {\n",
    "    # Throw an error\n",
    "    stop(\"x contains non-positive values, so the harmonic mean makes no sense.\")\n",
    "  }\n",
    "  x %>%\n",
    "    get_reciprocal() %>%\n",
    "    mean(na.rm = na.rm) %>%\n",
    "    get_reciprocal()\n",
    "}\n",
    "\n",
    "# See what happens when you pass it negative numbers\n",
    "# calc_harmonic_mean(std_and_poor500$pe_ratio - 20)"
   ]
  },
  {
   "cell_type": "markdown",
   "metadata": {},
   "source": [
    "#### 2.3.3) Fixing function arguments\n",
    "The harmonic mean function is almost complete. However, you still need to provide some checks on the `na.rm` argument. This time, rather than throwing errors when the input is in an incorrect form, you are going to try to fix it.\n",
    "\n",
    "`na.rm` should be a logical vector with one element (that is, TRUE, or FALSE).\n",
    "\n",
    "The assertive package is loaded for you.\n",
    "\n",
    "**Exercise**\n",
    "\n",
    "- Update calc_harmonic_mean() to fix the na.rm argument. Use use_first() to select the first element, and coerce_to() to change it to logical.\n",
    "\n",
    "*Answer*"
   ]
  },
  {
   "cell_type": "code",
   "execution_count": null,
   "metadata": {},
   "outputs": [],
   "source": [
    "# Update the function definition to fix the na.rm argument\n",
    "calc_harmonic_mean <- function(x, na.rm = FALSE) {\n",
    "  assert_is_numeric(x)\n",
    "  if(any(is_non_positive(x), na.rm = TRUE)) {\n",
    "    stop(\"x contains non-positive values, so the harmonic mean makes no sense.\")\n",
    "  }\n",
    "  # Use the first value of na.rm, and coerce to logical\n",
    "  na.rm <- coerce_to(use_first(na.rm), target_class = \"logical\")\n",
    "  x %>%\n",
    "    get_reciprocal() %>%\n",
    "    mean(na.rm = na.rm) %>%\n",
    "    get_reciprocal()\n",
    "}\n",
    "\n",
    "# See what happens when you pass it malformed na.rm\n",
    "# calc_harmonic_mean(std_and_poor500$pe_ratio, na.rm = 1:5)"
   ]
  },
  {
   "cell_type": "markdown",
   "metadata": {},
   "source": [
    "## 3) Return values and scope\n",
    "Learn how to return early from a function, how to return multiple values, and understand how R decides which variables exist.\n",
    "\n",
    "### 3.1) (video) Returning values from functions\n",
    "the value that is returned from a function is the last value that was calculated when the end of the function body was reached, sometimes it´s useful return it early, you can do it simple, only usigin the function `return()`, however when you are handling errors it's possible that you think that it is the last value i.e our result, instead we can handle it as `warning`.\n",
    "\n",
    "#### 3.1.1) Returning early\n",
    "Sometimes, you don't need to run through the whole body of a function to get the answer. In that case you can return early from that function using `return()`.\n",
    "\n",
    "To check if `x` is divisible by `n`, you can use `is_divisible_by(x, n)` from assertive.\n",
    "\n",
    "Alternatively, use the modulo operator, `%%`. `x %% n` gives the remainder when dividing `x` by `n`, so `x %% n == 0` determines whether `x` is divisible by `n`. Try 1:10 %% 3 == 0 in the console.\n",
    "\n",
    "To solve this exercise, you need to know that a leap year is every 400th year (like the year 2000) or every 4th year that isn't a century (like 1904 but not 1900 or 1905).\n",
    "\n",
    "assertive is loaded.\n",
    "\n",
    "**Exercise**\n",
    "\n",
    "- Complete the definition of is_leap_year(), checking for the cases of year being divisible by 400, then 100, then 4, returning early from the function in each case.\n",
    "\n",
    "*Answer*\n"
   ]
  },
  {
   "cell_type": "code",
   "execution_count": null,
   "metadata": {},
   "outputs": [],
   "source": [
    "library(assertive)"
   ]
  },
  {
   "cell_type": "code",
   "execution_count": 2,
   "metadata": {},
   "outputs": [
    {
     "name": "stderr",
     "output_type": "stream",
     "text": [
      "Warning message:\n",
      "\"package 'assertive' was built under R version 3.5.3\""
     ]
    },
    {
     "data": {
      "text/html": [
       "TRUE"
      ],
      "text/latex": [
       "TRUE"
      ],
      "text/markdown": [
       "TRUE"
      ],
      "text/plain": [
       "[1] TRUE"
      ]
     },
     "metadata": {},
     "output_type": "display_data"
    }
   ],
   "source": [
    "is_leap_year <- function(year) {\n",
    "  # If year is div. by 400 return TRUE\n",
    "  if(is_divisible_by(year, 400)) {\n",
    "    return(TRUE)\n",
    "  }\n",
    "  # If year is div. by 100 return FALSE\n",
    "  if(is_divisible_by(year, 100)) {\n",
    "    return(FALSE)\n",
    "  }  \n",
    "  # If year is div. by 4 return TRUE\n",
    "  if(is_divisible_by(year, 4)) {\n",
    "    return(TRUE)\n",
    "  }\n",
    "  # Otherwise return FALSE\n",
    "  FALSE\n",
    "}\n",
    "\n",
    "is_leap_year(2000)"
   ]
  },
  {
   "cell_type": "markdown",
   "metadata": {},
   "source": [
    "#### 3.1.2) Returning invisibly\n",
    "When the main purpose of a function is to generate output, like drawing a plot or printing something in the console, you may not want a return value to be printed as well. In that case, the value should be `invisibly` returned.\n",
    "\n",
    "The base R plot function returns `NULL`, since its main purpose is to draw a plot. This isn't helpful if you want to use it in piped code: instead it should invisibly return the plot data to be piped on to the next step.\n",
    "\n",
    "Recall that `plot()` has a formula interface: instead of giving it vectors for `x` and `y`, you can specify a formula describing which columns of a data frame go on the `x` and `y` axes, and a data argument for the data frame. Note that just like `lm()`, the arguments are the wrong way round because the detail argument, formula, comes before the data argument.\n",
    "\n",
    "    plot(y ~ x, data = data)\n",
    "\n",
    "**Exercise**\n",
    "- Use the cars dataset and the formula interface to plot(), draw a scatter plot of dist versus speed.\n",
    "- Give pipeable_plot() data and formula arguments (in that order). Make it draw the plot, then invisibly return data.\n",
    "\n",
    "*Answer*\n",
    "\n",
    "    # Define a pipeable plot fn with data and formula args\n",
    "    pipeable_plot <- function(data, formula) {\n",
    "      # Call plot() with the formula interface\n",
    "      plot(formula, data)\n",
    "      # Invisibly return the input dataset\n",
    "      invisible(data)\n",
    "    }\n",
    "\n",
    "    # Draw the scatter plot of dist vs. speed again\n",
    "    plt_dist_vs_speed <- cars %>% \n",
    "      pipeable_plot(dist ~ speed)\n",
    "\n",
    "    # Now the plot object has a value\n",
    "    plt_dist_vs_speed"
   ]
  },
  {
   "cell_type": "markdown",
   "metadata": {},
   "source": [
    "### 3.2) (video) Returning multiple values from functions\n",
    "R functions can only return a single value, but there are two ways to get around this rule.\n",
    "- return several objects in a list\n",
    "- store object as attributes\n",
    "\n",
    "let's write a function to retrieve details about the current R session, so to do this we can writing a list"
   ]
  },
  {
   "cell_type": "code",
   "execution_count": 3,
   "metadata": {},
   "outputs": [
    {
     "data": {
      "text/html": [
       "<dl>\n",
       "\t<dt>$r_version</dt>\n",
       "\t\t<dd>'R version 3.5.1 (2018-07-02)'</dd>\n",
       "\t<dt>$operating_system</dt>\n",
       "\t\t<dd><dl class=dl-horizontal>\n",
       "\t<dt>sysname</dt>\n",
       "\t\t<dd>'Windows'</dd>\n",
       "\t<dt>release</dt>\n",
       "\t\t<dd>'10 x64'</dd>\n",
       "</dl>\n",
       "</dd>\n",
       "\t<dt>$loaded_pkgs</dt>\n",
       "\t\t<dd><ol class=list-inline>\n",
       "\t<li>'compiler'</li>\n",
       "\t<li>'RevoUtils'</li>\n",
       "\t<li>'IRdisplay'</li>\n",
       "\t<li>'graphics'</li>\n",
       "\t<li>'pbdZMQ'</li>\n",
       "\t<li>'tools'</li>\n",
       "\t<li>'htmltools'</li>\n",
       "\t<li>'base64enc'</li>\n",
       "\t<li>'utils'</li>\n",
       "\t<li>'grDevices'</li>\n",
       "\t<li>'crayon'</li>\n",
       "\t<li>'Rcpp'</li>\n",
       "\t<li>'stats'</li>\n",
       "\t<li>'uuid'</li>\n",
       "\t<li>'datasets'</li>\n",
       "\t<li>'IRkernel'</li>\n",
       "\t<li>'methods'</li>\n",
       "\t<li>'jsonlite'</li>\n",
       "\t<li>'digest'</li>\n",
       "\t<li>'repr'</li>\n",
       "\t<li>'base'</li>\n",
       "\t<li>'evaluate'</li>\n",
       "\t<li>'RevoUtilsMath'</li>\n",
       "</ol>\n",
       "</dd>\n",
       "</dl>\n"
      ],
      "text/latex": [
       "\\begin{description}\n",
       "\\item[\\$r\\_version] 'R version 3.5.1 (2018-07-02)'\n",
       "\\item[\\$operating\\_system] \\begin{description*}\n",
       "\\item[sysname] 'Windows'\n",
       "\\item[release] '10 x64'\n",
       "\\end{description*}\n",
       "\n",
       "\\item[\\$loaded\\_pkgs] \\begin{enumerate*}\n",
       "\\item 'compiler'\n",
       "\\item 'RevoUtils'\n",
       "\\item 'IRdisplay'\n",
       "\\item 'graphics'\n",
       "\\item 'pbdZMQ'\n",
       "\\item 'tools'\n",
       "\\item 'htmltools'\n",
       "\\item 'base64enc'\n",
       "\\item 'utils'\n",
       "\\item 'grDevices'\n",
       "\\item 'crayon'\n",
       "\\item 'Rcpp'\n",
       "\\item 'stats'\n",
       "\\item 'uuid'\n",
       "\\item 'datasets'\n",
       "\\item 'IRkernel'\n",
       "\\item 'methods'\n",
       "\\item 'jsonlite'\n",
       "\\item 'digest'\n",
       "\\item 'repr'\n",
       "\\item 'base'\n",
       "\\item 'evaluate'\n",
       "\\item 'RevoUtilsMath'\n",
       "\\end{enumerate*}\n",
       "\n",
       "\\end{description}\n"
      ],
      "text/markdown": [
       "$r_version\n",
       ":   'R version 3.5.1 (2018-07-02)'\n",
       "$operating_system\n",
       ":   sysname\n",
       ":   'Windows'release\n",
       ":   '10 x64'\n",
       "\n",
       "\n",
       "$loaded_pkgs\n",
       ":   1. 'compiler'\n",
       "2. 'RevoUtils'\n",
       "3. 'IRdisplay'\n",
       "4. 'graphics'\n",
       "5. 'pbdZMQ'\n",
       "6. 'tools'\n",
       "7. 'htmltools'\n",
       "8. 'base64enc'\n",
       "9. 'utils'\n",
       "10. 'grDevices'\n",
       "11. 'crayon'\n",
       "12. 'Rcpp'\n",
       "13. 'stats'\n",
       "14. 'uuid'\n",
       "15. 'datasets'\n",
       "16. 'IRkernel'\n",
       "17. 'methods'\n",
       "18. 'jsonlite'\n",
       "19. 'digest'\n",
       "20. 'repr'\n",
       "21. 'base'\n",
       "22. 'evaluate'\n",
       "23. 'RevoUtilsMath'\n",
       "\n",
       "\n",
       "\n",
       "\n",
       "\n"
      ],
      "text/plain": [
       "$r_version\n",
       "[1] \"R version 3.5.1 (2018-07-02)\"\n",
       "\n",
       "$operating_system\n",
       "  sysname   release \n",
       "\"Windows\"  \"10 x64\" \n",
       "\n",
       "$loaded_pkgs\n",
       " [1] \"compiler\"      \"RevoUtils\"     \"IRdisplay\"     \"graphics\"     \n",
       " [5] \"pbdZMQ\"        \"tools\"         \"htmltools\"     \"base64enc\"    \n",
       " [9] \"utils\"         \"grDevices\"     \"crayon\"        \"Rcpp\"         \n",
       "[13] \"stats\"         \"uuid\"          \"datasets\"      \"IRkernel\"     \n",
       "[17] \"methods\"       \"jsonlite\"      \"digest\"        \"repr\"         \n",
       "[21] \"base\"          \"evaluate\"      \"RevoUtilsMath\"\n"
      ]
     },
     "metadata": {},
     "output_type": "display_data"
    }
   ],
   "source": [
    "#R.version.string\n",
    "#Sys.info()[c(\"sysname\",\"release\")]\n",
    "#loadedNamespaces()\n",
    "\n",
    "session<-function(){\n",
    "    list(\n",
    "    r_version = R.version.string,\n",
    "    operating_system = Sys.info()[c(\"sysname\",\"release\")],\n",
    "    loaded_pkgs = loadedNamespaces()\n",
    "    )\n",
    "}\n",
    "\n",
    "session()"
   ]
  },
  {
   "cell_type": "markdown",
   "metadata": {},
   "source": [
    "suppose the user actually want each of the return values separately, instead of in the list, they can do this using the `zeallot` package's multi-assignment operator, in python, this is called unpacking variables.\n",
    "\n",
    "The multiple-assignment operator is the usual assignment left arrow, but wrapped in percent signs, now we are three variables available cointaining the individual vales."
   ]
  },
  {
   "cell_type": "code",
   "execution_count": 4,
   "metadata": {},
   "outputs": [
    {
     "name": "stderr",
     "output_type": "stream",
     "text": [
      "Warning message:\n",
      "\"package 'zeallot' was built under R version 3.5.3\""
     ]
    },
    {
     "data": {
      "text/html": [
       "'R version 3.5.1 (2018-07-02)'"
      ],
      "text/latex": [
       "'R version 3.5.1 (2018-07-02)'"
      ],
      "text/markdown": [
       "'R version 3.5.1 (2018-07-02)'"
      ],
      "text/plain": [
       "[1] \"R version 3.5.1 (2018-07-02)\""
      ]
     },
     "metadata": {},
     "output_type": "display_data"
    },
    {
     "data": {
      "text/html": [
       "<dl class=dl-horizontal>\n",
       "\t<dt>sysname</dt>\n",
       "\t\t<dd>'Windows'</dd>\n",
       "\t<dt>release</dt>\n",
       "\t\t<dd>'10 x64'</dd>\n",
       "</dl>\n"
      ],
      "text/latex": [
       "\\begin{description*}\n",
       "\\item[sysname] 'Windows'\n",
       "\\item[release] '10 x64'\n",
       "\\end{description*}\n"
      ],
      "text/markdown": [
       "sysname\n",
       ":   'Windows'release\n",
       ":   '10 x64'\n",
       "\n"
      ],
      "text/plain": [
       "  sysname   release \n",
       "\"Windows\"  \"10 x64\" "
      ]
     },
     "metadata": {},
     "output_type": "display_data"
    },
    {
     "data": {
      "text/html": [
       "<ol class=list-inline>\n",
       "\t<li>'compiler'</li>\n",
       "\t<li>'RevoUtils'</li>\n",
       "\t<li>'IRdisplay'</li>\n",
       "\t<li>'graphics'</li>\n",
       "\t<li>'pbdZMQ'</li>\n",
       "\t<li>'tools'</li>\n",
       "\t<li>'htmltools'</li>\n",
       "\t<li>'base64enc'</li>\n",
       "\t<li>'utils'</li>\n",
       "\t<li>'grDevices'</li>\n",
       "\t<li>'crayon'</li>\n",
       "\t<li>'Rcpp'</li>\n",
       "\t<li>'stats'</li>\n",
       "\t<li>'uuid'</li>\n",
       "\t<li>'datasets'</li>\n",
       "\t<li>'zeallot'</li>\n",
       "\t<li>'IRkernel'</li>\n",
       "\t<li>'methods'</li>\n",
       "\t<li>'jsonlite'</li>\n",
       "\t<li>'digest'</li>\n",
       "\t<li>'repr'</li>\n",
       "\t<li>'base'</li>\n",
       "\t<li>'evaluate'</li>\n",
       "\t<li>'RevoUtilsMath'</li>\n",
       "</ol>\n"
      ],
      "text/latex": [
       "\\begin{enumerate*}\n",
       "\\item 'compiler'\n",
       "\\item 'RevoUtils'\n",
       "\\item 'IRdisplay'\n",
       "\\item 'graphics'\n",
       "\\item 'pbdZMQ'\n",
       "\\item 'tools'\n",
       "\\item 'htmltools'\n",
       "\\item 'base64enc'\n",
       "\\item 'utils'\n",
       "\\item 'grDevices'\n",
       "\\item 'crayon'\n",
       "\\item 'Rcpp'\n",
       "\\item 'stats'\n",
       "\\item 'uuid'\n",
       "\\item 'datasets'\n",
       "\\item 'zeallot'\n",
       "\\item 'IRkernel'\n",
       "\\item 'methods'\n",
       "\\item 'jsonlite'\n",
       "\\item 'digest'\n",
       "\\item 'repr'\n",
       "\\item 'base'\n",
       "\\item 'evaluate'\n",
       "\\item 'RevoUtilsMath'\n",
       "\\end{enumerate*}\n"
      ],
      "text/markdown": [
       "1. 'compiler'\n",
       "2. 'RevoUtils'\n",
       "3. 'IRdisplay'\n",
       "4. 'graphics'\n",
       "5. 'pbdZMQ'\n",
       "6. 'tools'\n",
       "7. 'htmltools'\n",
       "8. 'base64enc'\n",
       "9. 'utils'\n",
       "10. 'grDevices'\n",
       "11. 'crayon'\n",
       "12. 'Rcpp'\n",
       "13. 'stats'\n",
       "14. 'uuid'\n",
       "15. 'datasets'\n",
       "16. 'zeallot'\n",
       "17. 'IRkernel'\n",
       "18. 'methods'\n",
       "19. 'jsonlite'\n",
       "20. 'digest'\n",
       "21. 'repr'\n",
       "22. 'base'\n",
       "23. 'evaluate'\n",
       "24. 'RevoUtilsMath'\n",
       "\n",
       "\n"
      ],
      "text/plain": [
       " [1] \"compiler\"      \"RevoUtils\"     \"IRdisplay\"     \"graphics\"     \n",
       " [5] \"pbdZMQ\"        \"tools\"         \"htmltools\"     \"base64enc\"    \n",
       " [9] \"utils\"         \"grDevices\"     \"crayon\"        \"Rcpp\"         \n",
       "[13] \"stats\"         \"uuid\"          \"datasets\"      \"zeallot\"      \n",
       "[17] \"IRkernel\"      \"methods\"       \"jsonlite\"      \"digest\"       \n",
       "[21] \"repr\"          \"base\"          \"evaluate\"      \"RevoUtilsMath\""
      ]
     },
     "metadata": {},
     "output_type": "display_data"
    }
   ],
   "source": [
    "library(zeallot) # multiple, unpacking and destructing assignment\n",
    "c(vrsn, os, pkgs) %<-% session()\n",
    "\n",
    "vrsn\n",
    "\n",
    "os\n",
    "\n",
    "pkgs"
   ]
  },
  {
   "cell_type": "markdown",
   "metadata": {},
   "source": [
    "the other technique for returning multiple values involves attributes, you can use `attr` function can be used to retrieve a specific attribute or `attributes` to se all attributes, but with `attr` can also be use to set attributes"
   ]
  },
  {
   "cell_type": "code",
   "execution_count": null,
   "metadata": {},
   "outputs": [],
   "source": [
    "month_no<-setNames(1:12, month.abb)\n",
    "str(month_no)\n",
    "# we can see all attributes\n",
    "attributes(month_no)\n",
    "\n",
    "# or can see a specific attributes and same time assign it \n",
    "attr(month_no, \"names\") <-month.name\n",
    "\n",
    "# thank to the previous step we reassing the value of attributes\n",
    "attr(month_no, \"names\")"
   ]
  },
  {
   "cell_type": "markdown",
   "metadata": {},
   "source": [
    "Now, we will see other example by this times with a data frame, so first we need load some packages so:"
   ]
  },
  {
   "cell_type": "code",
   "execution_count": 13,
   "metadata": {},
   "outputs": [
    {
     "data": {
      "text/plain": [
       "$names\n",
       "[1] \"Tree\"          \"age\"           \"circumference\"\n",
       "\n",
       "$row.names\n",
       " [1]  1  2  3  4  5  6  7  8  9 10 11 12 13 14 15 16 17 18 19 20 21 22 23 24 25\n",
       "[26] 26 27 28 29 30 31 32 33 34 35\n",
       "\n",
       "$formula\n",
       "circumference ~ age | Tree\n",
       "<environment: R_EmptyEnv>\n",
       "\n",
       "$labels\n",
       "$labels$x\n",
       "[1] \"Time since December 31, 1968\"\n",
       "\n",
       "$labels$y\n",
       "[1] \"Trunk circumference\"\n",
       "\n",
       "\n",
       "$units\n",
       "$units$x\n",
       "[1] \"(days)\"\n",
       "\n",
       "$units$y\n",
       "[1] \"(mm)\"\n",
       "\n",
       "\n",
       "$class\n",
       "[1] \"tbl_df\"     \"tbl\"        \"data.frame\"\n"
      ]
     },
     "metadata": {},
     "output_type": "display_data"
    },
    {
     "data": {
      "text/plain": [
       "$names\n",
       "[1] \"Tree\"          \"age\"           \"circumference\"\n",
       "\n",
       "$row.names\n",
       " [1]  1  2  3  4  5  6  7  8  9 10 11 12 13 14 15 16 17 18 19 20 21 22 23 24 25\n",
       "[26] 26 27 28 29 30 31 32 33 34 35\n",
       "\n",
       "$formula\n",
       "circumference ~ age | Tree\n",
       "<environment: R_EmptyEnv>\n",
       "\n",
       "$labels\n",
       "$labels$x\n",
       "[1] \"Time since December 31, 1968\"\n",
       "\n",
       "$labels$y\n",
       "[1] \"Trunk circumference\"\n",
       "\n",
       "\n",
       "$units\n",
       "$units$x\n",
       "[1] \"(days)\"\n",
       "\n",
       "$units$y\n",
       "[1] \"(mm)\"\n",
       "\n",
       "\n",
       "$class\n",
       "[1] \"grouped_df\" \"tbl_df\"     \"tbl\"        \"data.frame\"\n",
       "\n",
       "$groups\n",
       "# A tibble: 5 x 2\n",
       "  Tree  .rows    \n",
       "  <ord> <list>   \n",
       "1 3     <int [7]>\n",
       "2 1     <int [7]>\n",
       "3 5     <int [7]>\n",
       "4 2     <int [7]>\n",
       "5 4     <int [7]>\n"
      ]
     },
     "metadata": {},
     "output_type": "display_data"
    }
   ],
   "source": [
    "#data(Orange, package = \"datasets\")\n",
    "library(tibble)\n",
    "library(datasets)\n",
    "data(Orange)\n",
    "\n",
    "Naranja <-Orange\n",
    "Naranja<-as_tibble(Naranja)\n",
    "attributes(Naranja)\n",
    "\n",
    "#Note how if we apply a group by into our data, this is adding as attributes\n",
    "library(dplyr)\n",
    "Naranja %>%\n",
    "group_by(Tree) %>%\n",
    "attributes()\n",
    "\n",
    "\n"
   ]
  },
  {
   "cell_type": "markdown",
   "metadata": {},
   "source": [
    "#### 3.2.1 Returning many things\n",
    "Functions can only return one value. If you want to return multiple things, then you can store them all in a list.\n",
    "\n",
    "If users want to have the list items as separate variables, they can assign each list element to its own variable using `zeallot`'s multi-assignment operator, `%<-%`.\n",
    "\n",
    "`glance(), tidy(), and augment()` each take the model object as their only argument.\n",
    "\n",
    "The Poisson regression model of Snake River visits is available as `model`. `broom` and `zeallot` are loaded.\n",
    "\n",
    "**Exercise**\n",
    "- Examine the structure of model.\n",
    "- Use broom functions to create a list containing the model-, coefficient-, and observation-level parts of model.\n",
    "- Wrap the code into a function, groom_model(), that accepts model as its only argument.\n",
    "- Call groom_model() on model, multi-assigning the result to three variables at once: mdl, cff, and obs.\n",
    "\n",
    "*Answer*\n",
    "\n",
    "    # Look at the structure of model (it's a mess!)\n",
    "    str(model)\n",
    "\n",
    "    # Use broom tools to get a list of 3 data frames\n",
    "    list(\n",
    "      # Get model-level values\n",
    "      model = glance(model),\n",
    "      # Get coefficient-level values\n",
    "      coefficients = tidy(model),\n",
    "      # Get observation-level values\n",
    "      observations = augment(model)\n",
    "    )\n",
    "    \n",
    "    \n",
    "        # Wrap this code into a function, groom_model\n",
    "    groom_model<-function(model) {\n",
    "      list(\n",
    "        model = glance(model),\n",
    "        coefficients = tidy(model),\n",
    "        observations = augment(model)\n",
    "      )\n",
    "    }\n",
    "    \n",
    "    \n",
    "        # Call groom_model on model, assigning to 3 variables\n",
    "    #library(zeallot) # multiple, unpacking and destructing assignment\n",
    "    c(mdl, cff, obs) %<-% groom_model(model)\n",
    "\n",
    "    # See these individual variables\n",
    "    mdl; cff; obs\n"
   ]
  },
  {
   "cell_type": "markdown",
   "metadata": {},
   "source": [
    "#### 3.2.2) Returning metadata\n",
    "Sometimes you want the return multiple things from a function, but you want the result to have a particular class (for example, a data frame or a numeric vector), so returning a list isn't appropriate. This is common when you have a result plus metadata about the result. (Metadata is \"data about the data\". For example, it could be the file a dataset was loaded from, or the username of the person who created the variable, or the number of iterations for an algorithm to converge.)\n",
    "\n",
    "In that case, you can store the metadata in attributes. Recall the syntax for assigning attributes is as follows.\n",
    "\n",
    "    attr(object, \"attribute_name\") <- attribute_value\n",
    "    \n",
    "**Exercise**\n",
    "- Update pipeable_plot() so the result has an attribute named \"formula\" with the value of formula.\n",
    "- plt_dist_vs_speed, that you previously created, is shown. Examine its updated structure.\n",
    "\n",
    "*Answer*   \n",
    "\n",
    "\n",
    "\n",
    "    pipeable_plot <- function(data, formula) {\n",
    "      plot(formula, data)\n",
    "      # Add a \"formula\" attribute to data\n",
    "       attr(data, \"formula\")<- formula\n",
    "      invisible(data)\n",
    "    }\n",
    "\n",
    "    # From previous exercise\n",
    "    plt_dist_vs_speed <- cars %>% \n",
    "      pipeable_plot(dist ~ speed)\n",
    "\n",
    "    # Examine the structure of the result\n",
    "    str(plt_dist_vs_speed)"
   ]
  },
  {
   "cell_type": "markdown",
   "metadata": {},
   "source": [
    "### 3.3) (video) Enviroments\n",
    "environments are a type of variable that is used to store other variables, most of the time, you can think of it as special lists, the main difference between list and environments is that the latter have a parent (Note: the parent of the enviroment also has a parent, and so they form a sequence), you can find "
   ]
  },
  {
   "cell_type": "code",
   "execution_count": 20,
   "metadata": {},
   "outputs": [
    {
     "data": {
      "text/plain": [
       "founding_year :  num 2013\n",
       "name :  chr \"DataCamp\"\n",
       "website :  chr \"www.datacamp.com\""
      ]
     },
     "metadata": {},
     "output_type": "display_data"
    },
    {
     "data": {
      "text/plain": [
       "founding_year :  num 2013\n",
       "name :  chr \"DataCamp\"\n",
       "website :  chr \"www.datacamp.com\""
      ]
     },
     "metadata": {},
     "output_type": "display_data"
    },
    {
     "data": {
      "text/html": [
       "'R_GlobalEnv'"
      ],
      "text/latex": [
       "'R\\_GlobalEnv'"
      ],
      "text/markdown": [
       "'R_GlobalEnv'"
      ],
      "text/plain": [
       "[1] \"R_GlobalEnv\""
      ]
     },
     "metadata": {},
     "output_type": "display_data"
    },
    {
     "data": {
      "text/html": [
       "'package:dplyr'"
      ],
      "text/latex": [
       "'package:dplyr'"
      ],
      "text/markdown": [
       "'package:dplyr'"
      ],
      "text/plain": [
       "[1] \"package:dplyr\""
      ]
     },
     "metadata": {},
     "output_type": "display_data"
    }
   ],
   "source": [
    "#we define a list\n",
    "datacamp_lst<-list(\n",
    "name = \"DataCamp\", \n",
    "founding_year = 2013,\n",
    "website = \"www.datacamp.com\")\n",
    "\n",
    "#now we will create a enviroment\n",
    "datacamp_env<-list2env(datacamp_lst)\n",
    "\n",
    "#and now we will see if at first glance, we can see the differences \n",
    "ls.str(datacamp_lst)\n",
    "ls.str(datacamp_env)\n",
    "\n",
    "#to see the parent\n",
    "parent<-parent.env(datacamp_env)\n",
    "environmentName(parent)\n",
    "\n",
    "#after that we can see the grandparent\n",
    "grandparent<-parent.env(parent)\n",
    "environmentName(grandparent)"
   ]
  },
  {
   "cell_type": "markdown",
   "metadata": {},
   "source": [
    "#### 3.3.1) Creating and exploring environments\n",
    "Environments are used to store other variables. Mostly, you can think of them as lists, but there's an important extra property that is relevant to writing functions. Every environment has a parent environment (except the empty environment, at the root of the environment tree). This determines which variables R know about at different places in your code.\n",
    "\n",
    "Facts about the Republic of South Africa are contained in `capitals`, `national_parks`, and `population`.\n",
    "\n",
    "**Exercise**\n",
    "\n",
    "- Create rsa_lst, a named list from capitals, national_parks, and population. Use those values as the names.\n",
    "- List the structure of each element of rsa_lst using ls.str().\n",
    "- Convert the list to an environment, rsa_env, using list2env().\n",
    "- List the structure of each element of rsa_env\n",
    "- Find the parent environment of rsa_env and print its name.\n",
    "\n",
    "*Answer*\n",
    "    # Add capitals, national_parks, & population to a named list\n",
    "    rsa_lst <- list(\n",
    "      capitals = capitals,\n",
    "      national_parks = national_parks,\n",
    "      population = population\n",
    "    )\n",
    "\n",
    "    # List the structure of each element of rsa_lst\n",
    "    ls.str(rsa_lst)\n",
    "\n",
    "\n",
    "    # Convert the list to an environment\n",
    "    rsa_env <- list2env(rsa_lst)\n",
    "\n",
    "    # List the structure of each variable\n",
    "    ls.str(rsa_env)\n",
    "    \n",
    "    # Find the parent environment of rsa_env\n",
    "    parent <- parent.env(rsa_env)\n",
    "\n",
    "    # Print its name\n",
    "    environmentName(parent)"
   ]
  },
  {
   "cell_type": "markdown",
   "metadata": {},
   "source": [
    "#### 3.3.2) Do variables exist?\n",
    "If R cannot find a variable in the current environment, it will look in the parent environment, then the grandparent environment, and so on until it finds it.\n",
    "\n",
    "`rsa_env` has been modified so it includes capitals and national_parks, but not population.\n",
    "\n",
    "**Exercise**\n",
    "- Check if population exists in rsa_env, using default inheritance rules.\n",
    "- Check if population exists in rsa_env, ignoring inheritance.\n",
    "\n",
    "*Answer*\n",
    "\n",
    "    # Compare the contents of the global environment and rsa_env\n",
    "    ls.str(globalenv())\n",
    "    ls.str(rsa_env)\n",
    "\n",
    "    # Does population exist in rsa_env?\n",
    "    exists(\"population\", envir = rsa_env)\n",
    "\n",
    "    # Does population exist in rsa_env, ignoring inheritance?\n",
    "    exists(\"population\", envir = rsa_env, inherits = FALSE)"
   ]
  },
  {
   "cell_type": "code",
   "execution_count": 15,
   "metadata": {},
   "outputs": [],
   "source": [
    "?list2env"
   ]
  },
  {
   "cell_type": "markdown",
   "metadata": {},
   "source": [
    "### 3.4) (video) Scope and Procedence"
   ]
  },
  {
   "cell_type": "markdown",
   "metadata": {},
   "source": [
    "## 4) Case study on grain yields\n",
    "Apply your function writing skills to a case study involving data preparation, visualization, and modeling.\n",
    "\n",
    "### 4.1 (video) Grain yields and unit conversion\n",
    "The `magrittr` packages has some function that raplace arithmetic and subsetting operators, in order to make your code more pipe friendl as:\n",
    "\n",
    "    x*y = x %>% multiple_by(y)\n",
    "    x^y = x %>% raise_to_power(y)\n",
    "    x[y] = x %>% extract(y)\n",
    "    "
   ]
  },
  {
   "cell_type": "markdown",
   "metadata": {},
   "source": [
    "#### 4.1.1 Converting areas to metric 1\n",
    "In this chapter, you'll be working with grain yield data from the United States Department of Agriculture, National Agricultural Statistics Service. Unfortunately, they report all areas in acres. So, the first thing you need to do is write some utility functions to convert areas in acres to areas in hectares.\n",
    "\n",
    "To solve this exercise, you need to know the following:\n",
    "\n",
    "    There are 4840 square yards in an acre.\n",
    "    There are 36 inches in a yard and one inch is 0.0254 meters.\n",
    "    There are 10000 square meters in a hectare.\n",
    "    \n",
    "**Exercise**\n",
    "\n",
    "- Write a function, acres_to_sq_yards(), to convert areas in acres to areas in square yards. This should take a single argument, acres.\n",
    "- Write a function, yards_to_meters(), to convert distances in yards to distances in meters. This should take a single argument, yards.\n",
    "- Write a function, sq_meters_to_hectares(), to convert areas in square meters to areas in hectares. This should take a single argument, sq_meters.\n",
    "\n",
    "\n",
    "*Answer*    "
   ]
  },
  {
   "cell_type": "code",
   "execution_count": 2,
   "metadata": {},
   "outputs": [],
   "source": [
    "acres_to_sq_yards<-function(acres) {\n",
    "    acres*4840\n",
    "}\n",
    "\n",
    "yards_to_meters<-function(yards){\n",
    "    yards*36*.0254\n",
    "}\n",
    "\n",
    "sq_meters_to_hectares<- function(sq_meters) {\n",
    "    sq_meters/10000\n",
    "}\n"
   ]
  },
  {
   "cell_type": "markdown",
   "metadata": {},
   "source": [
    "#### 4.1.2) Converting areas to metric 2\n",
    "You're almost there with creating a function to convert acres to hectares. You need another utility function to deal with getting from square yards to square meters. Then, you can bring everything together to write the overall acres-to-hectares conversion function. Finally, in the next exercise you'll be calculating area conversions in the denominator of a ratio, so you'll need a harmonic acre-to-hectare conversion function.\n",
    "\n",
    "Free hints: magrittr's raise_to_power() will be useful here. The last step is similar to Chapter 2's Harmonic Mean.\n",
    "\n",
    "The three utility functions from the last exercise (acres_to_sq_yards(), yards_to_meters(), and sq_meters_to_hectares()) are available, as is your get_reciprocal() from Chapter 2. magrittr is loaded.\n",
    "\n",
    "**Exercise**\n",
    "- Write a function to convert distance in square yards to square meters. It should take the square root of the input, then convert yards to meters, then square the result.\n",
    "- Write a function to convert areas in acres to hectares. The function should convert the input from acres to square yards, then to square meters, then to hectares.\n",
    "- Write a function to harmonically convert areas in acres to hectares. The function should get the reciprocal of the input, then convert from acres to hectares, then get the reciprocal again.\n",
    "\n",
    "*Answer*"
   ]
  },
  {
   "cell_type": "code",
   "execution_count": 5,
   "metadata": {},
   "outputs": [],
   "source": [
    "library(magrittr)\n",
    "get_reciprocal <- function(x) {\n",
    "  1 / x\n",
    "}\n",
    "\n",
    "# Write a function to convert sq. yards to sq. meters\n",
    "sq_yards_to_sq_meters <- function(sq_yards) {\n",
    "  sq_yards %>%\n",
    "    # Take the square root\n",
    "    sqrt() %>%\n",
    "    # Convert yards to meters\n",
    "    yards_to_meters() %>%\n",
    "    # Square it\n",
    "    raise_to_power(2)\n",
    "}\n",
    "\n",
    "\n",
    "# Load the function from the previous step\n",
    "\n",
    "# Write a function to convert acres to hectares\n",
    "acres_to_hectares <- function(acres) {\n",
    "  acres %>%\n",
    "    # Convert acres to sq yards\n",
    "    acres_to_sq_yards() %>%\n",
    "    # Convert sq yards to sq meters\n",
    "    sq_yards_to_sq_meters()  %>% \n",
    "    # Convert sq meters to hectares\n",
    "    sq_meters_to_hectares()\n",
    "}\n",
    "\n",
    "\n",
    "# Define a harmonic acres to hectares function\n",
    "harmonic_acres_to_hectares <- function(acres) {\n",
    "  acres %>% \n",
    "    # Get the reciprocal\n",
    "    get_reciprocal() %>%\n",
    "    # Convert acres to hectares\n",
    "    acres_to_hectares() %>% \n",
    "    # Get the reciprocal again\n",
    "    get_reciprocal()\n",
    "}"
   ]
  },
  {
   "cell_type": "markdown",
   "metadata": {},
   "source": [
    "#### 4.1.3) Converting yields to metric\n",
    "The yields in the NASS corn data are also given in US units, namely bushels per acre. You'll need to write some more utility functions to convert this unit to the metric unit of kg per hectare.\n",
    "\n",
    "Bushels historically meant a volume of 8 gallons, but in the context of grain, they are now defined as masses. This mass differs for each grain! To solve this exercise, you need to know these facts.\n",
    "\n",
    "    One pound (lb) is 0.45359237 kilograms (kg).\n",
    "    One bushel is 48 lbs of barley, 56 lbs of corn, or 60 lbs of wheat.\n",
    "    magrittr is loaded.\n",
    "    \n",
    "**Exercise**\n",
    "- Write a function to convert masses in lb to kg. This should take a single argument, lbs. \n",
    "- Write a function to convert masses in bushels to lbs. This should take two arguments, bushels and crop. It should define a lookup vector of scale factors for each crop (barley, corn, wheat), extract the scale factor for the crop, then multiply this by the number of bushels.\n",
    "- Write a function to convert masses in bushels to kgs. This should take two arguments, bushels and crop. It should convert the mass in bushels to lbs then to kgs.\n",
    "- Write a function to convert yields in bushels/acre to kg/ha. The arguments should be bushels_per_acre and crop. Three choices of crop should be allowed: \"barley\", \"corn\", and \"wheat\". It should match the crop argument, then convert bushels to kgs, then convert harmonic acres to hectares.\n",
    "\n",
    "\n",
    "*Answer*"
   ]
  },
  {
   "cell_type": "code",
   "execution_count": null,
   "metadata": {},
   "outputs": [],
   "source": [
    "# Write a function to convert lb to kg\n",
    "lbs_to_kgs <- function(lbs){\n",
    "  lbs*.45359237\n",
    "}\n",
    "\n",
    "# Write a function to convert bushels to lbs\n",
    "bushels_to_lbs <- function(bushels, crop) {\n",
    "  # Define a lookup table of scale factors\n",
    "  c(barley = 48, corn = 56, wheat = 60) %>%\n",
    "    # Extract the value for the crop\n",
    "    extract(crop) %>%\n",
    "    # Multiply by the no. of bushels\n",
    "    multiply_by(bushels)\n",
    "}\n",
    "\n",
    "\n",
    "bushels_to_kgs <- function(bushels,crop) {\n",
    "  bushels %>%\n",
    "    # Convert bushels to lbs for this crop\n",
    "    bushels_to_lbs(crop) %>%\n",
    "    # Convert lbs to kgs\n",
    "    lbs_to_kgs()\n",
    "}\n",
    "\n",
    "\n",
    "# Write a function to convert bushels/acre to kg/ha\n",
    "bushels_per_acre_to_kgs_per_hectare <- function(bushels_per_acre, crop = c(\"barley\", \"corn\", \"wheat\")) {\n",
    "  # Match the crop argument\n",
    "  crop <- match.arg(crop)\n",
    "  bushels_per_acre %>%\n",
    "    # Convert bushels to kgs for this crop\n",
    "    bushels_to_kgs(crop) %>%\n",
    "    # Convert harmonic acres to ha\n",
    "    harmonic_acres_to_hectares()"
   ]
  },
  {
   "cell_type": "code",
   "execution_count": null,
   "metadata": {},
   "outputs": [],
   "source": []
  },
  {
   "cell_type": "code",
   "execution_count": null,
   "metadata": {},
   "outputs": [],
   "source": [
    "\n",
    "library(repr)\n",
    "# Change plot size to 4 x 3\n",
    "    options(repr.plot.width=4, repr.plot.height=3)"
   ]
  },
  {
   "cell_type": "markdown",
   "metadata": {},
   "source": [
    "**Exercise**\n",
    "\n",
    "*Answer*"
   ]
  }
 ],
 "metadata": {
  "kernelspec": {
   "display_name": "R",
   "language": "R",
   "name": "ir"
  },
  "language_info": {
   "codemirror_mode": "r",
   "file_extension": ".r",
   "mimetype": "text/x-r-source",
   "name": "R",
   "pygments_lexer": "r",
   "version": "3.5.1"
  }
 },
 "nbformat": 4,
 "nbformat_minor": 2
}
